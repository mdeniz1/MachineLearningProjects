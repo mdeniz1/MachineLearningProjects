{
  "cells": [
    {
      "cell_type": "code",
      "source": [
        "pip install catboost\n"
      ],
      "metadata": {
        "id": "jXKVvWREcf0-",
        "colab": {
          "base_uri": "https://localhost:8080/"
        },
        "outputId": "a4ecd0c7-45ce-42ba-80b6-8cffa1b137a4"
      },
      "execution_count": null,
      "outputs": [
        {
          "output_type": "stream",
          "name": "stdout",
          "text": [
            "Looking in indexes: https://pypi.org/simple, https://us-python.pkg.dev/colab-wheels/public/simple/\n",
            "Collecting catboost\n",
            "  Downloading catboost-1.1.1-cp39-none-manylinux1_x86_64.whl (76.6 MB)\n",
            "\u001b[2K     \u001b[90m━━━━━━━━━━━━━━━━━━━━━━━━━━━━━━━━━━━━━━━━\u001b[0m \u001b[32m76.6/76.6 MB\u001b[0m \u001b[31m9.4 MB/s\u001b[0m eta \u001b[36m0:00:00\u001b[0m\n",
            "\u001b[?25hRequirement already satisfied: plotly in /usr/local/lib/python3.9/dist-packages (from catboost) (5.13.1)\n",
            "Requirement already satisfied: scipy in /usr/local/lib/python3.9/dist-packages (from catboost) (1.10.1)\n",
            "Requirement already satisfied: graphviz in /usr/local/lib/python3.9/dist-packages (from catboost) (0.20.1)\n",
            "Requirement already satisfied: numpy>=1.16.0 in /usr/local/lib/python3.9/dist-packages (from catboost) (1.22.4)\n",
            "Requirement already satisfied: six in /usr/local/lib/python3.9/dist-packages (from catboost) (1.16.0)\n",
            "Requirement already satisfied: pandas>=0.24.0 in /usr/local/lib/python3.9/dist-packages (from catboost) (1.4.4)\n",
            "Requirement already satisfied: matplotlib in /usr/local/lib/python3.9/dist-packages (from catboost) (3.7.1)\n",
            "Requirement already satisfied: python-dateutil>=2.8.1 in /usr/local/lib/python3.9/dist-packages (from pandas>=0.24.0->catboost) (2.8.2)\n",
            "Requirement already satisfied: pytz>=2020.1 in /usr/local/lib/python3.9/dist-packages (from pandas>=0.24.0->catboost) (2022.7.1)\n",
            "Requirement already satisfied: importlib-resources>=3.2.0 in /usr/local/lib/python3.9/dist-packages (from matplotlib->catboost) (5.12.0)\n",
            "Requirement already satisfied: pillow>=6.2.0 in /usr/local/lib/python3.9/dist-packages (from matplotlib->catboost) (8.4.0)\n",
            "Requirement already satisfied: pyparsing>=2.3.1 in /usr/local/lib/python3.9/dist-packages (from matplotlib->catboost) (3.0.9)\n",
            "Requirement already satisfied: contourpy>=1.0.1 in /usr/local/lib/python3.9/dist-packages (from matplotlib->catboost) (1.0.7)\n",
            "Requirement already satisfied: fonttools>=4.22.0 in /usr/local/lib/python3.9/dist-packages (from matplotlib->catboost) (4.39.2)\n",
            "Requirement already satisfied: kiwisolver>=1.0.1 in /usr/local/lib/python3.9/dist-packages (from matplotlib->catboost) (1.4.4)\n",
            "Requirement already satisfied: cycler>=0.10 in /usr/local/lib/python3.9/dist-packages (from matplotlib->catboost) (0.11.0)\n",
            "Requirement already satisfied: packaging>=20.0 in /usr/local/lib/python3.9/dist-packages (from matplotlib->catboost) (23.0)\n",
            "Requirement already satisfied: tenacity>=6.2.0 in /usr/local/lib/python3.9/dist-packages (from plotly->catboost) (8.2.2)\n",
            "Requirement already satisfied: zipp>=3.1.0 in /usr/local/lib/python3.9/dist-packages (from importlib-resources>=3.2.0->matplotlib->catboost) (3.15.0)\n",
            "Installing collected packages: catboost\n",
            "Successfully installed catboost-1.1.1\n"
          ]
        }
      ]
    },
    {
      "cell_type": "code",
      "execution_count": null,
      "metadata": {
        "id": "sN5uPLZ5o33-"
      },
      "outputs": [],
      "source": [
        "import pandas as pd\n",
        "import numpy as np\n",
        "from sklearn.model_selection import train_test_split\n",
        "from sklearn.preprocessing import LabelEncoder, StandardScaler\n",
        "from sklearn import metrics\n",
        "from xgboost import XGBRegressor\n",
        "from sklearn.linear_model import LinearRegression, Lasso, Ridge\n",
        "from sklearn.ensemble import RandomForestRegressor\n",
        "from sklearn.metrics import mean_absolute_error as mae\n",
        "  \n",
        "import warnings\n",
        "warnings.filterwarnings('ignore')\n",
        "# from catboost import CatBoostRegressor\n",
        "from sklearn.model_selection import GridSearchCV\n",
        "from sklearn.model_selection import RandomizedSearchCV\n",
        "\n",
        "import matplotlib.pyplot as plt\n",
        "import numpy as np\n",
        "   "
      ]
    },
    {
      "cell_type": "code",
      "execution_count": null,
      "metadata": {
        "id": "RU_3F3D7mUwC",
        "colab": {
          "base_uri": "https://localhost:8080/"
        },
        "outputId": "5e12edd0-ef80-418a-f78c-97eda7db891f"
      },
      "outputs": [
        {
          "output_type": "stream",
          "name": "stdout",
          "text": [
            "Mounted at /content/drive/\n"
          ]
        }
      ],
      "source": [
        "from google.colab import drive\n",
        "drive.mount('/content/drive/')"
      ]
    },
    {
      "cell_type": "code",
      "execution_count": null,
      "metadata": {
        "id": "QKHTjmKhuTrq"
      },
      "outputs": [],
      "source": [
        "import glob\n",
        "import os\n"
      ]
    },
    {
      "cell_type": "code",
      "execution_count": null,
      "metadata": {
        "colab": {
          "background_save": true
        },
        "id": "sgDtNUvrnm2S"
      },
      "outputs": [],
      "source": [
        "path = r'/content/drive/My Drive/tumexceller/'   \n",
        "all_files = glob.glob(os.path.join(path, \"*.xlsx\"))    \n",
        "\n",
        "\n",
        "\n",
        "df_from_each_file = (pd.read_excel(f,'Data') for f in all_files)\n",
        "df_from_each_file\n",
        "concatenated_df = pd.concat(df_from_each_file, ignore_index=True)\n"
      ]
    },
    {
      "cell_type": "code",
      "source": [
        "# concatenated_df.to_pickle(\"/content/drive/My Drive/tumexceller/concatenated_Data.pkl\")  \n"
      ],
      "metadata": {
        "id": "yVq3Dluzmiyb"
      },
      "execution_count": null,
      "outputs": []
    },
    {
      "cell_type": "markdown",
      "source": [],
      "metadata": {
        "id": "zz6aZBnq6mTf"
      }
    },
    {
      "cell_type": "code",
      "execution_count": null,
      "metadata": {
        "id": "R0yiz-r8687J"
      },
      "outputs": [],
      "source": [
        "unpickled_df = pd.read_pickle(\"/content/drive/My Drive/tumexceller/concatenated_Data.pkl\")  "
      ]
    },
    {
      "cell_type": "code",
      "execution_count": null,
      "metadata": {
        "id": "VyZeI_sxEefP"
      },
      "outputs": [],
      "source": [
        "retailData=unpickled_df.copy()"
      ]
    },
    {
      "cell_type": "code",
      "source": [
        "deleting 0 sales data as It indicates out of stock situation instead of zero sale."
      ],
      "metadata": {
        "id": "v-FKKM7WFJKc"
      },
      "execution_count": null,
      "outputs": []
    },
    {
      "cell_type": "code",
      "source": [
        "Exploratory data analysis\n"
      ],
      "metadata": {
        "id": "AOWoPx-ZIqSV"
      },
      "execution_count": null,
      "outputs": []
    },
    {
      "cell_type": "code",
      "execution_count": null,
      "metadata": {
        "id": "OZhrF6CCHwJk",
        "colab": {
          "base_uri": "https://localhost:8080/",
          "height": 461
        },
        "outputId": "be2814d8-47dd-4ac2-c368-4dea8fb77011"
      },
      "outputs": [
        {
          "output_type": "execute_result",
          "data": {
            "text/plain": [
              "   GÜN  HAFTA  AY   YIL      TARİH  AMBAR_NO                AMBAR  \\\n",
              "0    5      1   1  2021 2021-01-01     100.0  Beşiktaş (İstanbul)   \n",
              "1    5      1   1  2021 2021-01-01     100.0  Beşiktaş (İstanbul)   \n",
              "2    5      1   1  2021 2021-01-01     100.0  Beşiktaş (İstanbul)   \n",
              "3    5      1   1  2021 2021-01-01     100.0  Beşiktaş (İstanbul)   \n",
              "4    5      1   1  2021 2021-01-01     100.0  Beşiktaş (İstanbul)   \n",
              "\n",
              "  MALZEME_KODU                     MALZEME_ADI  Satış Adedi segment  İ/Ş   İL  \\\n",
              "0    MRK.00826     Milagro Patates File - 2 kg           16     NaN  NaN  NaN   \n",
              "1    MRK.00827  Milagro Salkım Domates - 900 g            8     NaN  NaN  NaN   \n",
              "2    MRK.00830   Milagro Şeker Domates - 250 g           13     NaN  NaN  NaN   \n",
              "3    MRK.00834         Kivi 3'lü Paket - 250 g            5     NaN  NaN  NaN   \n",
              "4    MRK.00926             Milagro Muz - 600 g            5     NaN  NaN  NaN   \n",
              "\n",
              "  ROUT SEGMENT  \n",
              "0  NaN     NaN  \n",
              "1  NaN     NaN  \n",
              "2  NaN     NaN  \n",
              "3  NaN     NaN  \n",
              "4  NaN     NaN  "
            ],
            "text/html": [
              "\n",
              "  <div id=\"df-334894f7-acc3-4090-84ca-ad258bcaee4b\">\n",
              "    <div class=\"colab-df-container\">\n",
              "      <div>\n",
              "<style scoped>\n",
              "    .dataframe tbody tr th:only-of-type {\n",
              "        vertical-align: middle;\n",
              "    }\n",
              "\n",
              "    .dataframe tbody tr th {\n",
              "        vertical-align: top;\n",
              "    }\n",
              "\n",
              "    .dataframe thead th {\n",
              "        text-align: right;\n",
              "    }\n",
              "</style>\n",
              "<table border=\"1\" class=\"dataframe\">\n",
              "  <thead>\n",
              "    <tr style=\"text-align: right;\">\n",
              "      <th></th>\n",
              "      <th>GÜN</th>\n",
              "      <th>HAFTA</th>\n",
              "      <th>AY</th>\n",
              "      <th>YIL</th>\n",
              "      <th>TARİH</th>\n",
              "      <th>AMBAR_NO</th>\n",
              "      <th>AMBAR</th>\n",
              "      <th>MALZEME_KODU</th>\n",
              "      <th>MALZEME_ADI</th>\n",
              "      <th>Satış Adedi</th>\n",
              "      <th>segment</th>\n",
              "      <th>İ/Ş</th>\n",
              "      <th>İL</th>\n",
              "      <th>ROUT</th>\n",
              "      <th>SEGMENT</th>\n",
              "    </tr>\n",
              "  </thead>\n",
              "  <tbody>\n",
              "    <tr>\n",
              "      <th>0</th>\n",
              "      <td>5</td>\n",
              "      <td>1</td>\n",
              "      <td>1</td>\n",
              "      <td>2021</td>\n",
              "      <td>2021-01-01</td>\n",
              "      <td>100.0</td>\n",
              "      <td>Beşiktaş (İstanbul)</td>\n",
              "      <td>MRK.00826</td>\n",
              "      <td>Milagro Patates File - 2 kg</td>\n",
              "      <td>16</td>\n",
              "      <td>NaN</td>\n",
              "      <td>NaN</td>\n",
              "      <td>NaN</td>\n",
              "      <td>NaN</td>\n",
              "      <td>NaN</td>\n",
              "    </tr>\n",
              "    <tr>\n",
              "      <th>1</th>\n",
              "      <td>5</td>\n",
              "      <td>1</td>\n",
              "      <td>1</td>\n",
              "      <td>2021</td>\n",
              "      <td>2021-01-01</td>\n",
              "      <td>100.0</td>\n",
              "      <td>Beşiktaş (İstanbul)</td>\n",
              "      <td>MRK.00827</td>\n",
              "      <td>Milagro Salkım Domates - 900 g</td>\n",
              "      <td>8</td>\n",
              "      <td>NaN</td>\n",
              "      <td>NaN</td>\n",
              "      <td>NaN</td>\n",
              "      <td>NaN</td>\n",
              "      <td>NaN</td>\n",
              "    </tr>\n",
              "    <tr>\n",
              "      <th>2</th>\n",
              "      <td>5</td>\n",
              "      <td>1</td>\n",
              "      <td>1</td>\n",
              "      <td>2021</td>\n",
              "      <td>2021-01-01</td>\n",
              "      <td>100.0</td>\n",
              "      <td>Beşiktaş (İstanbul)</td>\n",
              "      <td>MRK.00830</td>\n",
              "      <td>Milagro Şeker Domates - 250 g</td>\n",
              "      <td>13</td>\n",
              "      <td>NaN</td>\n",
              "      <td>NaN</td>\n",
              "      <td>NaN</td>\n",
              "      <td>NaN</td>\n",
              "      <td>NaN</td>\n",
              "    </tr>\n",
              "    <tr>\n",
              "      <th>3</th>\n",
              "      <td>5</td>\n",
              "      <td>1</td>\n",
              "      <td>1</td>\n",
              "      <td>2021</td>\n",
              "      <td>2021-01-01</td>\n",
              "      <td>100.0</td>\n",
              "      <td>Beşiktaş (İstanbul)</td>\n",
              "      <td>MRK.00834</td>\n",
              "      <td>Kivi 3'lü Paket - 250 g</td>\n",
              "      <td>5</td>\n",
              "      <td>NaN</td>\n",
              "      <td>NaN</td>\n",
              "      <td>NaN</td>\n",
              "      <td>NaN</td>\n",
              "      <td>NaN</td>\n",
              "    </tr>\n",
              "    <tr>\n",
              "      <th>4</th>\n",
              "      <td>5</td>\n",
              "      <td>1</td>\n",
              "      <td>1</td>\n",
              "      <td>2021</td>\n",
              "      <td>2021-01-01</td>\n",
              "      <td>100.0</td>\n",
              "      <td>Beşiktaş (İstanbul)</td>\n",
              "      <td>MRK.00926</td>\n",
              "      <td>Milagro Muz - 600 g</td>\n",
              "      <td>5</td>\n",
              "      <td>NaN</td>\n",
              "      <td>NaN</td>\n",
              "      <td>NaN</td>\n",
              "      <td>NaN</td>\n",
              "      <td>NaN</td>\n",
              "    </tr>\n",
              "  </tbody>\n",
              "</table>\n",
              "</div>\n",
              "      <button class=\"colab-df-convert\" onclick=\"convertToInteractive('df-334894f7-acc3-4090-84ca-ad258bcaee4b')\"\n",
              "              title=\"Convert this dataframe to an interactive table.\"\n",
              "              style=\"display:none;\">\n",
              "        \n",
              "  <svg xmlns=\"http://www.w3.org/2000/svg\" height=\"24px\"viewBox=\"0 0 24 24\"\n",
              "       width=\"24px\">\n",
              "    <path d=\"M0 0h24v24H0V0z\" fill=\"none\"/>\n",
              "    <path d=\"M18.56 5.44l.94 2.06.94-2.06 2.06-.94-2.06-.94-.94-2.06-.94 2.06-2.06.94zm-11 1L8.5 8.5l.94-2.06 2.06-.94-2.06-.94L8.5 2.5l-.94 2.06-2.06.94zm10 10l.94 2.06.94-2.06 2.06-.94-2.06-.94-.94-2.06-.94 2.06-2.06.94z\"/><path d=\"M17.41 7.96l-1.37-1.37c-.4-.4-.92-.59-1.43-.59-.52 0-1.04.2-1.43.59L10.3 9.45l-7.72 7.72c-.78.78-.78 2.05 0 2.83L4 21.41c.39.39.9.59 1.41.59.51 0 1.02-.2 1.41-.59l7.78-7.78 2.81-2.81c.8-.78.8-2.07 0-2.86zM5.41 20L4 18.59l7.72-7.72 1.47 1.35L5.41 20z\"/>\n",
              "  </svg>\n",
              "      </button>\n",
              "      \n",
              "  <style>\n",
              "    .colab-df-container {\n",
              "      display:flex;\n",
              "      flex-wrap:wrap;\n",
              "      gap: 12px;\n",
              "    }\n",
              "\n",
              "    .colab-df-convert {\n",
              "      background-color: #E8F0FE;\n",
              "      border: none;\n",
              "      border-radius: 50%;\n",
              "      cursor: pointer;\n",
              "      display: none;\n",
              "      fill: #1967D2;\n",
              "      height: 32px;\n",
              "      padding: 0 0 0 0;\n",
              "      width: 32px;\n",
              "    }\n",
              "\n",
              "    .colab-df-convert:hover {\n",
              "      background-color: #E2EBFA;\n",
              "      box-shadow: 0px 1px 2px rgba(60, 64, 67, 0.3), 0px 1px 3px 1px rgba(60, 64, 67, 0.15);\n",
              "      fill: #174EA6;\n",
              "    }\n",
              "\n",
              "    [theme=dark] .colab-df-convert {\n",
              "      background-color: #3B4455;\n",
              "      fill: #D2E3FC;\n",
              "    }\n",
              "\n",
              "    [theme=dark] .colab-df-convert:hover {\n",
              "      background-color: #434B5C;\n",
              "      box-shadow: 0px 1px 3px 1px rgba(0, 0, 0, 0.15);\n",
              "      filter: drop-shadow(0px 1px 2px rgba(0, 0, 0, 0.3));\n",
              "      fill: #FFFFFF;\n",
              "    }\n",
              "  </style>\n",
              "\n",
              "      <script>\n",
              "        const buttonEl =\n",
              "          document.querySelector('#df-334894f7-acc3-4090-84ca-ad258bcaee4b button.colab-df-convert');\n",
              "        buttonEl.style.display =\n",
              "          google.colab.kernel.accessAllowed ? 'block' : 'none';\n",
              "\n",
              "        async function convertToInteractive(key) {\n",
              "          const element = document.querySelector('#df-334894f7-acc3-4090-84ca-ad258bcaee4b');\n",
              "          const dataTable =\n",
              "            await google.colab.kernel.invokeFunction('convertToInteractive',\n",
              "                                                     [key], {});\n",
              "          if (!dataTable) return;\n",
              "\n",
              "          const docLinkHtml = 'Like what you see? Visit the ' +\n",
              "            '<a target=\"_blank\" href=https://colab.research.google.com/notebooks/data_table.ipynb>data table notebook</a>'\n",
              "            + ' to learn more about interactive tables.';\n",
              "          element.innerHTML = '';\n",
              "          dataTable['output_type'] = 'display_data';\n",
              "          await google.colab.output.renderOutput(dataTable, element);\n",
              "          const docLink = document.createElement('div');\n",
              "          docLink.innerHTML = docLinkHtml;\n",
              "          element.appendChild(docLink);\n",
              "        }\n",
              "      </script>\n",
              "    </div>\n",
              "  </div>\n",
              "  "
            ]
          },
          "metadata": {},
          "execution_count": 7
        }
      ],
      "source": [
        "retailData.head()"
      ]
    },
    {
      "cell_type": "markdown",
      "source": [
        "let's delete last 4 unneccassary columns"
      ],
      "metadata": {
        "id": "QaGFWPgXBC9U"
      }
    },
    {
      "cell_type": "code",
      "execution_count": null,
      "metadata": {
        "id": "LJgyV9NM8rGL"
      },
      "outputs": [],
      "source": [
        "retailData.drop(retailData.iloc[:, 10:16], inplace=True, axis=1)\n"
      ]
    },
    {
      "cell_type": "code",
      "source": [
        "retailData.head()"
      ],
      "metadata": {
        "colab": {
          "base_uri": "https://localhost:8080/",
          "height": 354
        },
        "id": "Os55lRw_LxVd",
        "outputId": "b1f4c757-f89f-426e-dbee-d6ed1c14adc4"
      },
      "execution_count": null,
      "outputs": [
        {
          "output_type": "execute_result",
          "data": {
            "text/plain": [
              "   GÜN  HAFTA  AY   YIL      TARİH  AMBAR_NO                AMBAR  \\\n",
              "0    5      1   1  2021 2021-01-01     100.0  Beşiktaş (İstanbul)   \n",
              "1    5      1   1  2021 2021-01-01     100.0  Beşiktaş (İstanbul)   \n",
              "2    5      1   1  2021 2021-01-01     100.0  Beşiktaş (İstanbul)   \n",
              "3    5      1   1  2021 2021-01-01     100.0  Beşiktaş (İstanbul)   \n",
              "4    5      1   1  2021 2021-01-01     100.0  Beşiktaş (İstanbul)   \n",
              "\n",
              "  MALZEME_KODU                     MALZEME_ADI  Satış Adedi  \n",
              "0    MRK.00826     Milagro Patates File - 2 kg           16  \n",
              "1    MRK.00827  Milagro Salkım Domates - 900 g            8  \n",
              "2    MRK.00830   Milagro Şeker Domates - 250 g           13  \n",
              "3    MRK.00834         Kivi 3'lü Paket - 250 g            5  \n",
              "4    MRK.00926             Milagro Muz - 600 g            5  "
            ],
            "text/html": [
              "\n",
              "  <div id=\"df-f35e6d7d-27d8-470c-8ec6-43d8fe0850ae\">\n",
              "    <div class=\"colab-df-container\">\n",
              "      <div>\n",
              "<style scoped>\n",
              "    .dataframe tbody tr th:only-of-type {\n",
              "        vertical-align: middle;\n",
              "    }\n",
              "\n",
              "    .dataframe tbody tr th {\n",
              "        vertical-align: top;\n",
              "    }\n",
              "\n",
              "    .dataframe thead th {\n",
              "        text-align: right;\n",
              "    }\n",
              "</style>\n",
              "<table border=\"1\" class=\"dataframe\">\n",
              "  <thead>\n",
              "    <tr style=\"text-align: right;\">\n",
              "      <th></th>\n",
              "      <th>GÜN</th>\n",
              "      <th>HAFTA</th>\n",
              "      <th>AY</th>\n",
              "      <th>YIL</th>\n",
              "      <th>TARİH</th>\n",
              "      <th>AMBAR_NO</th>\n",
              "      <th>AMBAR</th>\n",
              "      <th>MALZEME_KODU</th>\n",
              "      <th>MALZEME_ADI</th>\n",
              "      <th>Satış Adedi</th>\n",
              "    </tr>\n",
              "  </thead>\n",
              "  <tbody>\n",
              "    <tr>\n",
              "      <th>0</th>\n",
              "      <td>5</td>\n",
              "      <td>1</td>\n",
              "      <td>1</td>\n",
              "      <td>2021</td>\n",
              "      <td>2021-01-01</td>\n",
              "      <td>100.0</td>\n",
              "      <td>Beşiktaş (İstanbul)</td>\n",
              "      <td>MRK.00826</td>\n",
              "      <td>Milagro Patates File - 2 kg</td>\n",
              "      <td>16</td>\n",
              "    </tr>\n",
              "    <tr>\n",
              "      <th>1</th>\n",
              "      <td>5</td>\n",
              "      <td>1</td>\n",
              "      <td>1</td>\n",
              "      <td>2021</td>\n",
              "      <td>2021-01-01</td>\n",
              "      <td>100.0</td>\n",
              "      <td>Beşiktaş (İstanbul)</td>\n",
              "      <td>MRK.00827</td>\n",
              "      <td>Milagro Salkım Domates - 900 g</td>\n",
              "      <td>8</td>\n",
              "    </tr>\n",
              "    <tr>\n",
              "      <th>2</th>\n",
              "      <td>5</td>\n",
              "      <td>1</td>\n",
              "      <td>1</td>\n",
              "      <td>2021</td>\n",
              "      <td>2021-01-01</td>\n",
              "      <td>100.0</td>\n",
              "      <td>Beşiktaş (İstanbul)</td>\n",
              "      <td>MRK.00830</td>\n",
              "      <td>Milagro Şeker Domates - 250 g</td>\n",
              "      <td>13</td>\n",
              "    </tr>\n",
              "    <tr>\n",
              "      <th>3</th>\n",
              "      <td>5</td>\n",
              "      <td>1</td>\n",
              "      <td>1</td>\n",
              "      <td>2021</td>\n",
              "      <td>2021-01-01</td>\n",
              "      <td>100.0</td>\n",
              "      <td>Beşiktaş (İstanbul)</td>\n",
              "      <td>MRK.00834</td>\n",
              "      <td>Kivi 3'lü Paket - 250 g</td>\n",
              "      <td>5</td>\n",
              "    </tr>\n",
              "    <tr>\n",
              "      <th>4</th>\n",
              "      <td>5</td>\n",
              "      <td>1</td>\n",
              "      <td>1</td>\n",
              "      <td>2021</td>\n",
              "      <td>2021-01-01</td>\n",
              "      <td>100.0</td>\n",
              "      <td>Beşiktaş (İstanbul)</td>\n",
              "      <td>MRK.00926</td>\n",
              "      <td>Milagro Muz - 600 g</td>\n",
              "      <td>5</td>\n",
              "    </tr>\n",
              "  </tbody>\n",
              "</table>\n",
              "</div>\n",
              "      <button class=\"colab-df-convert\" onclick=\"convertToInteractive('df-f35e6d7d-27d8-470c-8ec6-43d8fe0850ae')\"\n",
              "              title=\"Convert this dataframe to an interactive table.\"\n",
              "              style=\"display:none;\">\n",
              "        \n",
              "  <svg xmlns=\"http://www.w3.org/2000/svg\" height=\"24px\"viewBox=\"0 0 24 24\"\n",
              "       width=\"24px\">\n",
              "    <path d=\"M0 0h24v24H0V0z\" fill=\"none\"/>\n",
              "    <path d=\"M18.56 5.44l.94 2.06.94-2.06 2.06-.94-2.06-.94-.94-2.06-.94 2.06-2.06.94zm-11 1L8.5 8.5l.94-2.06 2.06-.94-2.06-.94L8.5 2.5l-.94 2.06-2.06.94zm10 10l.94 2.06.94-2.06 2.06-.94-2.06-.94-.94-2.06-.94 2.06-2.06.94z\"/><path d=\"M17.41 7.96l-1.37-1.37c-.4-.4-.92-.59-1.43-.59-.52 0-1.04.2-1.43.59L10.3 9.45l-7.72 7.72c-.78.78-.78 2.05 0 2.83L4 21.41c.39.39.9.59 1.41.59.51 0 1.02-.2 1.41-.59l7.78-7.78 2.81-2.81c.8-.78.8-2.07 0-2.86zM5.41 20L4 18.59l7.72-7.72 1.47 1.35L5.41 20z\"/>\n",
              "  </svg>\n",
              "      </button>\n",
              "      \n",
              "  <style>\n",
              "    .colab-df-container {\n",
              "      display:flex;\n",
              "      flex-wrap:wrap;\n",
              "      gap: 12px;\n",
              "    }\n",
              "\n",
              "    .colab-df-convert {\n",
              "      background-color: #E8F0FE;\n",
              "      border: none;\n",
              "      border-radius: 50%;\n",
              "      cursor: pointer;\n",
              "      display: none;\n",
              "      fill: #1967D2;\n",
              "      height: 32px;\n",
              "      padding: 0 0 0 0;\n",
              "      width: 32px;\n",
              "    }\n",
              "\n",
              "    .colab-df-convert:hover {\n",
              "      background-color: #E2EBFA;\n",
              "      box-shadow: 0px 1px 2px rgba(60, 64, 67, 0.3), 0px 1px 3px 1px rgba(60, 64, 67, 0.15);\n",
              "      fill: #174EA6;\n",
              "    }\n",
              "\n",
              "    [theme=dark] .colab-df-convert {\n",
              "      background-color: #3B4455;\n",
              "      fill: #D2E3FC;\n",
              "    }\n",
              "\n",
              "    [theme=dark] .colab-df-convert:hover {\n",
              "      background-color: #434B5C;\n",
              "      box-shadow: 0px 1px 3px 1px rgba(0, 0, 0, 0.15);\n",
              "      filter: drop-shadow(0px 1px 2px rgba(0, 0, 0, 0.3));\n",
              "      fill: #FFFFFF;\n",
              "    }\n",
              "  </style>\n",
              "\n",
              "      <script>\n",
              "        const buttonEl =\n",
              "          document.querySelector('#df-f35e6d7d-27d8-470c-8ec6-43d8fe0850ae button.colab-df-convert');\n",
              "        buttonEl.style.display =\n",
              "          google.colab.kernel.accessAllowed ? 'block' : 'none';\n",
              "\n",
              "        async function convertToInteractive(key) {\n",
              "          const element = document.querySelector('#df-f35e6d7d-27d8-470c-8ec6-43d8fe0850ae');\n",
              "          const dataTable =\n",
              "            await google.colab.kernel.invokeFunction('convertToInteractive',\n",
              "                                                     [key], {});\n",
              "          if (!dataTable) return;\n",
              "\n",
              "          const docLinkHtml = 'Like what you see? Visit the ' +\n",
              "            '<a target=\"_blank\" href=https://colab.research.google.com/notebooks/data_table.ipynb>data table notebook</a>'\n",
              "            + ' to learn more about interactive tables.';\n",
              "          element.innerHTML = '';\n",
              "          dataTable['output_type'] = 'display_data';\n",
              "          await google.colab.output.renderOutput(dataTable, element);\n",
              "          const docLink = document.createElement('div');\n",
              "          docLink.innerHTML = docLinkHtml;\n",
              "          element.appendChild(docLink);\n",
              "        }\n",
              "      </script>\n",
              "    </div>\n",
              "  </div>\n",
              "  "
            ]
          },
          "metadata": {},
          "execution_count": 9
        }
      ]
    },
    {
      "cell_type": "code",
      "source": [
        "retailData.shape"
      ],
      "metadata": {
        "colab": {
          "base_uri": "https://localhost:8080/"
        },
        "id": "Z_NxfTHKI2bA",
        "outputId": "7f9df43d-4c70-4a9b-b5bc-a0f9f422cd9b"
      },
      "execution_count": null,
      "outputs": [
        {
          "output_type": "execute_result",
          "data": {
            "text/plain": [
              "(11882206, 10)"
            ]
          },
          "metadata": {},
          "execution_count": 21
        }
      ]
    },
    {
      "cell_type": "code",
      "source": [
        "retailData.isna().sum().sum() ,"
      ],
      "metadata": {
        "colab": {
          "base_uri": "https://localhost:8080/"
        },
        "id": "ktbY7k_EJW3N",
        "outputId": "59bf1ab7-3327-42ce-9ef7-a573bafd9cd9"
      },
      "execution_count": null,
      "outputs": [
        {
          "output_type": "execute_result",
          "data": {
            "text/plain": [
              "(10502,)"
            ]
          },
          "metadata": {},
          "execution_count": 24
        }
      ]
    },
    {
      "cell_type": "markdown",
      "source": [
        "let's see which columns have NA  values and the type of each column"
      ],
      "metadata": {
        "id": "A80z5j9KKTQq"
      }
    },
    {
      "cell_type": "code",
      "source": [
        "retailData.info(verbose=True, show_counts=True)"
      ],
      "metadata": {
        "colab": {
          "base_uri": "https://localhost:8080/"
        },
        "id": "MSKbf2DJOcMn",
        "outputId": "74e63a88-f4e4-445e-a0b3-dd55de36124a"
      },
      "execution_count": null,
      "outputs": [
        {
          "output_type": "stream",
          "name": "stdout",
          "text": [
            "<class 'pandas.core.frame.DataFrame'>\n",
            "RangeIndex: 11882206 entries, 0 to 11882205\n",
            "Data columns (total 10 columns):\n",
            " #   Column        Non-Null Count     Dtype         \n",
            "---  ------        --------------     -----         \n",
            " 0   GÜN           11882206 non-null  int64         \n",
            " 1   HAFTA         11882206 non-null  int64         \n",
            " 2   AY            11882206 non-null  int64         \n",
            " 3   YIL           11882206 non-null  int64         \n",
            " 4   TARİH         11882206 non-null  datetime64[ns]\n",
            " 5   AMBAR_NO      11876955 non-null  float64       \n",
            " 6   AMBAR         11882206 non-null  object        \n",
            " 7   MALZEME_KODU  11876955 non-null  object        \n",
            " 8   MALZEME_ADI   11882206 non-null  object        \n",
            " 9   Satış Adedi   11882206 non-null  int64         \n",
            "dtypes: datetime64[ns](1), float64(1), int64(5), object(3)\n",
            "memory usage: 906.5+ MB\n"
          ]
        }
      ]
    },
    {
      "cell_type": "markdown",
      "source": [
        " There are 10502 NA values and according to the above table, half of the NA values come from item code and the other half comes out of store code. The rest of the columns all have non-null values. So I delete those rows with null values. "
      ],
      "metadata": {
        "id": "G5o79nkiKfm-"
      }
    },
    {
      "cell_type": "code",
      "execution_count": null,
      "metadata": {
        "id": "POkCekiLXJx4"
      },
      "outputs": [],
      "source": [
        "retailData = retailData.dropna()"
      ]
    },
    {
      "cell_type": "markdown",
      "source": [
        "let's see how many item's have 0 value. "
      ],
      "metadata": {
        "id": "DjrpuvHiPvPu"
      }
    },
    {
      "cell_type": "code",
      "source": [
        "(retailData['Satış Adedi'] == 0).sum().sum()"
      ],
      "metadata": {
        "colab": {
          "base_uri": "https://localhost:8080/"
        },
        "id": "uC7fLhdrJHKw",
        "outputId": "e4f8e6d5-be43-474c-dae3-bc38066591c0"
      },
      "execution_count": null,
      "outputs": [
        {
          "output_type": "execute_result",
          "data": {
            "text/plain": [
              "7378135"
            ]
          },
          "metadata": {},
          "execution_count": 12
        }
      ]
    },
    {
      "cell_type": "markdown",
      "source": [
        "We dont have the stock data yet I learned that 0 number sales are mostly the out of stock items. that is why their sales value is equal to zero. "
      ],
      "metadata": {
        "id": "nDc31T3BRH2k"
      }
    },
    {
      "cell_type": "code",
      "execution_count": null,
      "metadata": {
        "id": "Pha2GJwNuqiD",
        "colab": {
          "base_uri": "https://localhost:8080/"
        },
        "outputId": "e3b6f081-dead-408c-8933-d4e6acbc3b96"
      },
      "outputs": [
        {
          "output_type": "execute_result",
          "data": {
            "text/plain": [
              "(4498820, 10)"
            ]
          },
          "metadata": {},
          "execution_count": 13
        }
      ],
      "source": [
        "retailDataNzero = retailData[retailData['Satış Adedi'] != 0].reset_index(drop=True)\n",
        "retailDataNzero.shape\n",
        "\n"
      ]
    },
    {
      "cell_type": "markdown",
      "source": [
        "the number of rows in the data set is downsized to 4.5 million. Let's see some basic statistics son the data "
      ],
      "metadata": {
        "id": "bEKr-N_lRsc5"
      }
    },
    {
      "cell_type": "code",
      "source": [
        "(retailDataNzero['Satış Adedi'] == 0).sum().sum()"
      ],
      "metadata": {
        "colab": {
          "base_uri": "https://localhost:8080/"
        },
        "id": "i3cYwFAMUA-7",
        "outputId": "ff7677fc-7403-4621-880b-f74300f59b50"
      },
      "execution_count": null,
      "outputs": [
        {
          "output_type": "execute_result",
          "data": {
            "text/plain": [
              "0"
            ]
          },
          "metadata": {},
          "execution_count": 14
        }
      ]
    },
    {
      "cell_type": "code",
      "source": [
        "retailDataNzero.describe(include='all')"
      ],
      "metadata": {
        "colab": {
          "base_uri": "https://localhost:8080/",
          "height": 496
        },
        "id": "EZNklrsJTsCd",
        "outputId": "8377493a-0451-48a8-db63-a5e9565d5860"
      },
      "execution_count": null,
      "outputs": [
        {
          "output_type": "execute_result",
          "data": {
            "text/plain": [
              "                 GÜN         HAFTA            AY           YIL  \\\n",
              "count   4.498820e+06  4.498820e+06  4.498820e+06  4.498820e+06   \n",
              "unique           NaN           NaN           NaN           NaN   \n",
              "top              NaN           NaN           NaN           NaN   \n",
              "freq             NaN           NaN           NaN           NaN   \n",
              "first            NaN           NaN           NaN           NaN   \n",
              "last             NaN           NaN           NaN           NaN   \n",
              "mean    3.038052e+00  2.759997e+01  6.591159e+00  2.021596e+03   \n",
              "std     2.034230e+00  1.559274e+01  3.587293e+00  6.098509e-01   \n",
              "min     0.000000e+00  1.000000e+00  1.000000e+00  2.021000e+03   \n",
              "25%     1.000000e+00  1.300000e+01  3.000000e+00  2.021000e+03   \n",
              "50%     3.000000e+00  2.800000e+01  7.000000e+00  2.022000e+03   \n",
              "75%     5.000000e+00  4.100000e+01  1.000000e+01  2.022000e+03   \n",
              "max     6.000000e+00  5.300000e+01  1.200000e+01  2.023000e+03   \n",
              "\n",
              "                      TARİH      AMBAR_NO                AMBAR MALZEME_KODU  \\\n",
              "count               4498820  4.498820e+06              4498820      4498820   \n",
              "unique                  780           NaN                  749          186   \n",
              "top     2021-11-27 00:00:00           NaN  Beşiktaş (İstanbul)    MRK.01002   \n",
              "freq                   9217           NaN                30949       157043   \n",
              "first   2021-01-01 00:00:00           NaN                  NaN          NaN   \n",
              "last    2023-02-28 00:00:00           NaN                  NaN          NaN   \n",
              "mean                    NaN  3.319599e+02                  NaN          NaN   \n",
              "std                     NaN  1.593536e+02                  NaN          NaN   \n",
              "min                     NaN  1.000000e+02                  NaN          NaN   \n",
              "25%                     NaN  2.020000e+02                  NaN          NaN   \n",
              "50%                     NaN  3.120000e+02                  NaN          NaN   \n",
              "75%                     NaN  4.380000e+02                  NaN          NaN   \n",
              "max                     NaN  8.180000e+02                  NaN          NaN   \n",
              "\n",
              "                            MALZEME_ADI   Satış Adedi  \n",
              "count                           4498820  4.498820e+06  \n",
              "unique                              315           NaN  \n",
              "top     Milagro Kokteyl Domates - 500 g           NaN  \n",
              "freq                              82242           NaN  \n",
              "first                               NaN           NaN  \n",
              "last                                NaN           NaN  \n",
              "mean                                NaN  3.357248e+00  \n",
              "std                                 NaN  3.224641e+00  \n",
              "min                                 NaN -3.000000e+00  \n",
              "25%                                 NaN  1.000000e+00  \n",
              "50%                                 NaN  2.000000e+00  \n",
              "75%                                 NaN  4.000000e+00  \n",
              "max                                 NaN  9.200000e+01  "
            ],
            "text/html": [
              "\n",
              "  <div id=\"df-1ff485bf-0c1c-4727-b8da-23b9d931cdec\">\n",
              "    <div class=\"colab-df-container\">\n",
              "      <div>\n",
              "<style scoped>\n",
              "    .dataframe tbody tr th:only-of-type {\n",
              "        vertical-align: middle;\n",
              "    }\n",
              "\n",
              "    .dataframe tbody tr th {\n",
              "        vertical-align: top;\n",
              "    }\n",
              "\n",
              "    .dataframe thead th {\n",
              "        text-align: right;\n",
              "    }\n",
              "</style>\n",
              "<table border=\"1\" class=\"dataframe\">\n",
              "  <thead>\n",
              "    <tr style=\"text-align: right;\">\n",
              "      <th></th>\n",
              "      <th>GÜN</th>\n",
              "      <th>HAFTA</th>\n",
              "      <th>AY</th>\n",
              "      <th>YIL</th>\n",
              "      <th>TARİH</th>\n",
              "      <th>AMBAR_NO</th>\n",
              "      <th>AMBAR</th>\n",
              "      <th>MALZEME_KODU</th>\n",
              "      <th>MALZEME_ADI</th>\n",
              "      <th>Satış Adedi</th>\n",
              "    </tr>\n",
              "  </thead>\n",
              "  <tbody>\n",
              "    <tr>\n",
              "      <th>count</th>\n",
              "      <td>4.498820e+06</td>\n",
              "      <td>4.498820e+06</td>\n",
              "      <td>4.498820e+06</td>\n",
              "      <td>4.498820e+06</td>\n",
              "      <td>4498820</td>\n",
              "      <td>4.498820e+06</td>\n",
              "      <td>4498820</td>\n",
              "      <td>4498820</td>\n",
              "      <td>4498820</td>\n",
              "      <td>4.498820e+06</td>\n",
              "    </tr>\n",
              "    <tr>\n",
              "      <th>unique</th>\n",
              "      <td>NaN</td>\n",
              "      <td>NaN</td>\n",
              "      <td>NaN</td>\n",
              "      <td>NaN</td>\n",
              "      <td>780</td>\n",
              "      <td>NaN</td>\n",
              "      <td>749</td>\n",
              "      <td>186</td>\n",
              "      <td>315</td>\n",
              "      <td>NaN</td>\n",
              "    </tr>\n",
              "    <tr>\n",
              "      <th>top</th>\n",
              "      <td>NaN</td>\n",
              "      <td>NaN</td>\n",
              "      <td>NaN</td>\n",
              "      <td>NaN</td>\n",
              "      <td>2021-11-27 00:00:00</td>\n",
              "      <td>NaN</td>\n",
              "      <td>Beşiktaş (İstanbul)</td>\n",
              "      <td>MRK.01002</td>\n",
              "      <td>Milagro Kokteyl Domates - 500 g</td>\n",
              "      <td>NaN</td>\n",
              "    </tr>\n",
              "    <tr>\n",
              "      <th>freq</th>\n",
              "      <td>NaN</td>\n",
              "      <td>NaN</td>\n",
              "      <td>NaN</td>\n",
              "      <td>NaN</td>\n",
              "      <td>9217</td>\n",
              "      <td>NaN</td>\n",
              "      <td>30949</td>\n",
              "      <td>157043</td>\n",
              "      <td>82242</td>\n",
              "      <td>NaN</td>\n",
              "    </tr>\n",
              "    <tr>\n",
              "      <th>first</th>\n",
              "      <td>NaN</td>\n",
              "      <td>NaN</td>\n",
              "      <td>NaN</td>\n",
              "      <td>NaN</td>\n",
              "      <td>2021-01-01 00:00:00</td>\n",
              "      <td>NaN</td>\n",
              "      <td>NaN</td>\n",
              "      <td>NaN</td>\n",
              "      <td>NaN</td>\n",
              "      <td>NaN</td>\n",
              "    </tr>\n",
              "    <tr>\n",
              "      <th>last</th>\n",
              "      <td>NaN</td>\n",
              "      <td>NaN</td>\n",
              "      <td>NaN</td>\n",
              "      <td>NaN</td>\n",
              "      <td>2023-02-28 00:00:00</td>\n",
              "      <td>NaN</td>\n",
              "      <td>NaN</td>\n",
              "      <td>NaN</td>\n",
              "      <td>NaN</td>\n",
              "      <td>NaN</td>\n",
              "    </tr>\n",
              "    <tr>\n",
              "      <th>mean</th>\n",
              "      <td>3.038052e+00</td>\n",
              "      <td>2.759997e+01</td>\n",
              "      <td>6.591159e+00</td>\n",
              "      <td>2.021596e+03</td>\n",
              "      <td>NaN</td>\n",
              "      <td>3.319599e+02</td>\n",
              "      <td>NaN</td>\n",
              "      <td>NaN</td>\n",
              "      <td>NaN</td>\n",
              "      <td>3.357248e+00</td>\n",
              "    </tr>\n",
              "    <tr>\n",
              "      <th>std</th>\n",
              "      <td>2.034230e+00</td>\n",
              "      <td>1.559274e+01</td>\n",
              "      <td>3.587293e+00</td>\n",
              "      <td>6.098509e-01</td>\n",
              "      <td>NaN</td>\n",
              "      <td>1.593536e+02</td>\n",
              "      <td>NaN</td>\n",
              "      <td>NaN</td>\n",
              "      <td>NaN</td>\n",
              "      <td>3.224641e+00</td>\n",
              "    </tr>\n",
              "    <tr>\n",
              "      <th>min</th>\n",
              "      <td>0.000000e+00</td>\n",
              "      <td>1.000000e+00</td>\n",
              "      <td>1.000000e+00</td>\n",
              "      <td>2.021000e+03</td>\n",
              "      <td>NaN</td>\n",
              "      <td>1.000000e+02</td>\n",
              "      <td>NaN</td>\n",
              "      <td>NaN</td>\n",
              "      <td>NaN</td>\n",
              "      <td>-3.000000e+00</td>\n",
              "    </tr>\n",
              "    <tr>\n",
              "      <th>25%</th>\n",
              "      <td>1.000000e+00</td>\n",
              "      <td>1.300000e+01</td>\n",
              "      <td>3.000000e+00</td>\n",
              "      <td>2.021000e+03</td>\n",
              "      <td>NaN</td>\n",
              "      <td>2.020000e+02</td>\n",
              "      <td>NaN</td>\n",
              "      <td>NaN</td>\n",
              "      <td>NaN</td>\n",
              "      <td>1.000000e+00</td>\n",
              "    </tr>\n",
              "    <tr>\n",
              "      <th>50%</th>\n",
              "      <td>3.000000e+00</td>\n",
              "      <td>2.800000e+01</td>\n",
              "      <td>7.000000e+00</td>\n",
              "      <td>2.022000e+03</td>\n",
              "      <td>NaN</td>\n",
              "      <td>3.120000e+02</td>\n",
              "      <td>NaN</td>\n",
              "      <td>NaN</td>\n",
              "      <td>NaN</td>\n",
              "      <td>2.000000e+00</td>\n",
              "    </tr>\n",
              "    <tr>\n",
              "      <th>75%</th>\n",
              "      <td>5.000000e+00</td>\n",
              "      <td>4.100000e+01</td>\n",
              "      <td>1.000000e+01</td>\n",
              "      <td>2.022000e+03</td>\n",
              "      <td>NaN</td>\n",
              "      <td>4.380000e+02</td>\n",
              "      <td>NaN</td>\n",
              "      <td>NaN</td>\n",
              "      <td>NaN</td>\n",
              "      <td>4.000000e+00</td>\n",
              "    </tr>\n",
              "    <tr>\n",
              "      <th>max</th>\n",
              "      <td>6.000000e+00</td>\n",
              "      <td>5.300000e+01</td>\n",
              "      <td>1.200000e+01</td>\n",
              "      <td>2.023000e+03</td>\n",
              "      <td>NaN</td>\n",
              "      <td>8.180000e+02</td>\n",
              "      <td>NaN</td>\n",
              "      <td>NaN</td>\n",
              "      <td>NaN</td>\n",
              "      <td>9.200000e+01</td>\n",
              "    </tr>\n",
              "  </tbody>\n",
              "</table>\n",
              "</div>\n",
              "      <button class=\"colab-df-convert\" onclick=\"convertToInteractive('df-1ff485bf-0c1c-4727-b8da-23b9d931cdec')\"\n",
              "              title=\"Convert this dataframe to an interactive table.\"\n",
              "              style=\"display:none;\">\n",
              "        \n",
              "  <svg xmlns=\"http://www.w3.org/2000/svg\" height=\"24px\"viewBox=\"0 0 24 24\"\n",
              "       width=\"24px\">\n",
              "    <path d=\"M0 0h24v24H0V0z\" fill=\"none\"/>\n",
              "    <path d=\"M18.56 5.44l.94 2.06.94-2.06 2.06-.94-2.06-.94-.94-2.06-.94 2.06-2.06.94zm-11 1L8.5 8.5l.94-2.06 2.06-.94-2.06-.94L8.5 2.5l-.94 2.06-2.06.94zm10 10l.94 2.06.94-2.06 2.06-.94-2.06-.94-.94-2.06-.94 2.06-2.06.94z\"/><path d=\"M17.41 7.96l-1.37-1.37c-.4-.4-.92-.59-1.43-.59-.52 0-1.04.2-1.43.59L10.3 9.45l-7.72 7.72c-.78.78-.78 2.05 0 2.83L4 21.41c.39.39.9.59 1.41.59.51 0 1.02-.2 1.41-.59l7.78-7.78 2.81-2.81c.8-.78.8-2.07 0-2.86zM5.41 20L4 18.59l7.72-7.72 1.47 1.35L5.41 20z\"/>\n",
              "  </svg>\n",
              "      </button>\n",
              "      \n",
              "  <style>\n",
              "    .colab-df-container {\n",
              "      display:flex;\n",
              "      flex-wrap:wrap;\n",
              "      gap: 12px;\n",
              "    }\n",
              "\n",
              "    .colab-df-convert {\n",
              "      background-color: #E8F0FE;\n",
              "      border: none;\n",
              "      border-radius: 50%;\n",
              "      cursor: pointer;\n",
              "      display: none;\n",
              "      fill: #1967D2;\n",
              "      height: 32px;\n",
              "      padding: 0 0 0 0;\n",
              "      width: 32px;\n",
              "    }\n",
              "\n",
              "    .colab-df-convert:hover {\n",
              "      background-color: #E2EBFA;\n",
              "      box-shadow: 0px 1px 2px rgba(60, 64, 67, 0.3), 0px 1px 3px 1px rgba(60, 64, 67, 0.15);\n",
              "      fill: #174EA6;\n",
              "    }\n",
              "\n",
              "    [theme=dark] .colab-df-convert {\n",
              "      background-color: #3B4455;\n",
              "      fill: #D2E3FC;\n",
              "    }\n",
              "\n",
              "    [theme=dark] .colab-df-convert:hover {\n",
              "      background-color: #434B5C;\n",
              "      box-shadow: 0px 1px 3px 1px rgba(0, 0, 0, 0.15);\n",
              "      filter: drop-shadow(0px 1px 2px rgba(0, 0, 0, 0.3));\n",
              "      fill: #FFFFFF;\n",
              "    }\n",
              "  </style>\n",
              "\n",
              "      <script>\n",
              "        const buttonEl =\n",
              "          document.querySelector('#df-1ff485bf-0c1c-4727-b8da-23b9d931cdec button.colab-df-convert');\n",
              "        buttonEl.style.display =\n",
              "          google.colab.kernel.accessAllowed ? 'block' : 'none';\n",
              "\n",
              "        async function convertToInteractive(key) {\n",
              "          const element = document.querySelector('#df-1ff485bf-0c1c-4727-b8da-23b9d931cdec');\n",
              "          const dataTable =\n",
              "            await google.colab.kernel.invokeFunction('convertToInteractive',\n",
              "                                                     [key], {});\n",
              "          if (!dataTable) return;\n",
              "\n",
              "          const docLinkHtml = 'Like what you see? Visit the ' +\n",
              "            '<a target=\"_blank\" href=https://colab.research.google.com/notebooks/data_table.ipynb>data table notebook</a>'\n",
              "            + ' to learn more about interactive tables.';\n",
              "          element.innerHTML = '';\n",
              "          dataTable['output_type'] = 'display_data';\n",
              "          await google.colab.output.renderOutput(dataTable, element);\n",
              "          const docLink = document.createElement('div');\n",
              "          docLink.innerHTML = docLinkHtml;\n",
              "          element.appendChild(docLink);\n",
              "        }\n",
              "      </script>\n",
              "    </div>\n",
              "  </div>\n",
              "  "
            ]
          },
          "metadata": {},
          "execution_count": 16
        }
      ]
    },
    {
      "cell_type": "code",
      "source": [],
      "metadata": {
        "id": "NL3FhGs9cqIU"
      },
      "execution_count": null,
      "outputs": []
    },
    {
      "cell_type": "markdown",
      "source": [
        "except sales column, all the columns are categorical. Sales column exhibits existence of definite outliars as max value is 92 while std=3.2 and the mean is 3.2.  before outliar detection lets delete the negative values as they are definetely mis-valued."
      ],
      "metadata": {
        "id": "TrQQMwEGVDZ3"
      }
    },
    {
      "cell_type": "code",
      "source": [
        "retailDataNzero = retailDataNzero[retailDataNzero['Satış Adedi']>0].reset_index(drop=True)\n"
      ],
      "metadata": {
        "id": "US6_dbtkW_9Z"
      },
      "execution_count": null,
      "outputs": []
    },
    {
      "cell_type": "code",
      "source": [
        "retailDataNzero.describe(include='all')"
      ],
      "metadata": {
        "colab": {
          "base_uri": "https://localhost:8080/",
          "height": 496
        },
        "id": "oeVH7AN0P_sZ",
        "outputId": "fe320ca7-7ce5-4b00-900b-e6ed755ca5be"
      },
      "execution_count": null,
      "outputs": [
        {
          "output_type": "execute_result",
          "data": {
            "text/plain": [
              "                 GÜN         HAFTA            AY           YIL  \\\n",
              "count   4.498683e+06  4.498683e+06  4.498683e+06  4.498683e+06   \n",
              "unique           NaN           NaN           NaN           NaN   \n",
              "top              NaN           NaN           NaN           NaN   \n",
              "freq             NaN           NaN           NaN           NaN   \n",
              "first            NaN           NaN           NaN           NaN   \n",
              "last             NaN           NaN           NaN           NaN   \n",
              "mean    3.038065e+00  2.759987e+01  6.591140e+00  2.021596e+03   \n",
              "std     2.034232e+00  1.559269e+01  3.587282e+00  6.098442e-01   \n",
              "min     0.000000e+00  1.000000e+00  1.000000e+00  2.021000e+03   \n",
              "25%     1.000000e+00  1.300000e+01  3.000000e+00  2.021000e+03   \n",
              "50%     3.000000e+00  2.800000e+01  7.000000e+00  2.022000e+03   \n",
              "75%     5.000000e+00  4.100000e+01  1.000000e+01  2.022000e+03   \n",
              "max     6.000000e+00  5.300000e+01  1.200000e+01  2.023000e+03   \n",
              "\n",
              "                      TARİH      AMBAR_NO                AMBAR MALZEME_KODU  \\\n",
              "count               4498683  4.498683e+06              4498683      4498683   \n",
              "unique                  780           NaN                  749          186   \n",
              "top     2021-11-27 00:00:00           NaN  Beşiktaş (İstanbul)    MRK.01002   \n",
              "freq                   9217           NaN                30949       157037   \n",
              "first   2021-01-01 00:00:00           NaN                  NaN          NaN   \n",
              "last    2023-02-28 00:00:00           NaN                  NaN          NaN   \n",
              "mean                    NaN  3.319574e+02                  NaN          NaN   \n",
              "std                     NaN  1.593515e+02                  NaN          NaN   \n",
              "min                     NaN  1.000000e+02                  NaN          NaN   \n",
              "25%                     NaN  2.020000e+02                  NaN          NaN   \n",
              "50%                     NaN  3.120000e+02                  NaN          NaN   \n",
              "75%                     NaN  4.380000e+02                  NaN          NaN   \n",
              "max                     NaN  8.180000e+02                  NaN          NaN   \n",
              "\n",
              "                            MALZEME_ADI   Satış Adedi  \n",
              "count                           4498683  4.498683e+06  \n",
              "unique                              315           NaN  \n",
              "top     Milagro Kokteyl Domates - 500 g           NaN  \n",
              "freq                              82242           NaN  \n",
              "first                               NaN           NaN  \n",
              "last                                NaN           NaN  \n",
              "mean                                NaN  3.357385e+00  \n",
              "std                                 NaN  3.224593e+00  \n",
              "min                                 NaN  1.000000e+00  \n",
              "25%                                 NaN  1.000000e+00  \n",
              "50%                                 NaN  2.000000e+00  \n",
              "75%                                 NaN  4.000000e+00  \n",
              "max                                 NaN  9.200000e+01  "
            ],
            "text/html": [
              "\n",
              "  <div id=\"df-388874a5-43e3-490d-926b-79acf1e2e40c\">\n",
              "    <div class=\"colab-df-container\">\n",
              "      <div>\n",
              "<style scoped>\n",
              "    .dataframe tbody tr th:only-of-type {\n",
              "        vertical-align: middle;\n",
              "    }\n",
              "\n",
              "    .dataframe tbody tr th {\n",
              "        vertical-align: top;\n",
              "    }\n",
              "\n",
              "    .dataframe thead th {\n",
              "        text-align: right;\n",
              "    }\n",
              "</style>\n",
              "<table border=\"1\" class=\"dataframe\">\n",
              "  <thead>\n",
              "    <tr style=\"text-align: right;\">\n",
              "      <th></th>\n",
              "      <th>GÜN</th>\n",
              "      <th>HAFTA</th>\n",
              "      <th>AY</th>\n",
              "      <th>YIL</th>\n",
              "      <th>TARİH</th>\n",
              "      <th>AMBAR_NO</th>\n",
              "      <th>AMBAR</th>\n",
              "      <th>MALZEME_KODU</th>\n",
              "      <th>MALZEME_ADI</th>\n",
              "      <th>Satış Adedi</th>\n",
              "    </tr>\n",
              "  </thead>\n",
              "  <tbody>\n",
              "    <tr>\n",
              "      <th>count</th>\n",
              "      <td>4.498683e+06</td>\n",
              "      <td>4.498683e+06</td>\n",
              "      <td>4.498683e+06</td>\n",
              "      <td>4.498683e+06</td>\n",
              "      <td>4498683</td>\n",
              "      <td>4.498683e+06</td>\n",
              "      <td>4498683</td>\n",
              "      <td>4498683</td>\n",
              "      <td>4498683</td>\n",
              "      <td>4.498683e+06</td>\n",
              "    </tr>\n",
              "    <tr>\n",
              "      <th>unique</th>\n",
              "      <td>NaN</td>\n",
              "      <td>NaN</td>\n",
              "      <td>NaN</td>\n",
              "      <td>NaN</td>\n",
              "      <td>780</td>\n",
              "      <td>NaN</td>\n",
              "      <td>749</td>\n",
              "      <td>186</td>\n",
              "      <td>315</td>\n",
              "      <td>NaN</td>\n",
              "    </tr>\n",
              "    <tr>\n",
              "      <th>top</th>\n",
              "      <td>NaN</td>\n",
              "      <td>NaN</td>\n",
              "      <td>NaN</td>\n",
              "      <td>NaN</td>\n",
              "      <td>2021-11-27 00:00:00</td>\n",
              "      <td>NaN</td>\n",
              "      <td>Beşiktaş (İstanbul)</td>\n",
              "      <td>MRK.01002</td>\n",
              "      <td>Milagro Kokteyl Domates - 500 g</td>\n",
              "      <td>NaN</td>\n",
              "    </tr>\n",
              "    <tr>\n",
              "      <th>freq</th>\n",
              "      <td>NaN</td>\n",
              "      <td>NaN</td>\n",
              "      <td>NaN</td>\n",
              "      <td>NaN</td>\n",
              "      <td>9217</td>\n",
              "      <td>NaN</td>\n",
              "      <td>30949</td>\n",
              "      <td>157037</td>\n",
              "      <td>82242</td>\n",
              "      <td>NaN</td>\n",
              "    </tr>\n",
              "    <tr>\n",
              "      <th>first</th>\n",
              "      <td>NaN</td>\n",
              "      <td>NaN</td>\n",
              "      <td>NaN</td>\n",
              "      <td>NaN</td>\n",
              "      <td>2021-01-01 00:00:00</td>\n",
              "      <td>NaN</td>\n",
              "      <td>NaN</td>\n",
              "      <td>NaN</td>\n",
              "      <td>NaN</td>\n",
              "      <td>NaN</td>\n",
              "    </tr>\n",
              "    <tr>\n",
              "      <th>last</th>\n",
              "      <td>NaN</td>\n",
              "      <td>NaN</td>\n",
              "      <td>NaN</td>\n",
              "      <td>NaN</td>\n",
              "      <td>2023-02-28 00:00:00</td>\n",
              "      <td>NaN</td>\n",
              "      <td>NaN</td>\n",
              "      <td>NaN</td>\n",
              "      <td>NaN</td>\n",
              "      <td>NaN</td>\n",
              "    </tr>\n",
              "    <tr>\n",
              "      <th>mean</th>\n",
              "      <td>3.038065e+00</td>\n",
              "      <td>2.759987e+01</td>\n",
              "      <td>6.591140e+00</td>\n",
              "      <td>2.021596e+03</td>\n",
              "      <td>NaN</td>\n",
              "      <td>3.319574e+02</td>\n",
              "      <td>NaN</td>\n",
              "      <td>NaN</td>\n",
              "      <td>NaN</td>\n",
              "      <td>3.357385e+00</td>\n",
              "    </tr>\n",
              "    <tr>\n",
              "      <th>std</th>\n",
              "      <td>2.034232e+00</td>\n",
              "      <td>1.559269e+01</td>\n",
              "      <td>3.587282e+00</td>\n",
              "      <td>6.098442e-01</td>\n",
              "      <td>NaN</td>\n",
              "      <td>1.593515e+02</td>\n",
              "      <td>NaN</td>\n",
              "      <td>NaN</td>\n",
              "      <td>NaN</td>\n",
              "      <td>3.224593e+00</td>\n",
              "    </tr>\n",
              "    <tr>\n",
              "      <th>min</th>\n",
              "      <td>0.000000e+00</td>\n",
              "      <td>1.000000e+00</td>\n",
              "      <td>1.000000e+00</td>\n",
              "      <td>2.021000e+03</td>\n",
              "      <td>NaN</td>\n",
              "      <td>1.000000e+02</td>\n",
              "      <td>NaN</td>\n",
              "      <td>NaN</td>\n",
              "      <td>NaN</td>\n",
              "      <td>1.000000e+00</td>\n",
              "    </tr>\n",
              "    <tr>\n",
              "      <th>25%</th>\n",
              "      <td>1.000000e+00</td>\n",
              "      <td>1.300000e+01</td>\n",
              "      <td>3.000000e+00</td>\n",
              "      <td>2.021000e+03</td>\n",
              "      <td>NaN</td>\n",
              "      <td>2.020000e+02</td>\n",
              "      <td>NaN</td>\n",
              "      <td>NaN</td>\n",
              "      <td>NaN</td>\n",
              "      <td>1.000000e+00</td>\n",
              "    </tr>\n",
              "    <tr>\n",
              "      <th>50%</th>\n",
              "      <td>3.000000e+00</td>\n",
              "      <td>2.800000e+01</td>\n",
              "      <td>7.000000e+00</td>\n",
              "      <td>2.022000e+03</td>\n",
              "      <td>NaN</td>\n",
              "      <td>3.120000e+02</td>\n",
              "      <td>NaN</td>\n",
              "      <td>NaN</td>\n",
              "      <td>NaN</td>\n",
              "      <td>2.000000e+00</td>\n",
              "    </tr>\n",
              "    <tr>\n",
              "      <th>75%</th>\n",
              "      <td>5.000000e+00</td>\n",
              "      <td>4.100000e+01</td>\n",
              "      <td>1.000000e+01</td>\n",
              "      <td>2.022000e+03</td>\n",
              "      <td>NaN</td>\n",
              "      <td>4.380000e+02</td>\n",
              "      <td>NaN</td>\n",
              "      <td>NaN</td>\n",
              "      <td>NaN</td>\n",
              "      <td>4.000000e+00</td>\n",
              "    </tr>\n",
              "    <tr>\n",
              "      <th>max</th>\n",
              "      <td>6.000000e+00</td>\n",
              "      <td>5.300000e+01</td>\n",
              "      <td>1.200000e+01</td>\n",
              "      <td>2.023000e+03</td>\n",
              "      <td>NaN</td>\n",
              "      <td>8.180000e+02</td>\n",
              "      <td>NaN</td>\n",
              "      <td>NaN</td>\n",
              "      <td>NaN</td>\n",
              "      <td>9.200000e+01</td>\n",
              "    </tr>\n",
              "  </tbody>\n",
              "</table>\n",
              "</div>\n",
              "      <button class=\"colab-df-convert\" onclick=\"convertToInteractive('df-388874a5-43e3-490d-926b-79acf1e2e40c')\"\n",
              "              title=\"Convert this dataframe to an interactive table.\"\n",
              "              style=\"display:none;\">\n",
              "        \n",
              "  <svg xmlns=\"http://www.w3.org/2000/svg\" height=\"24px\"viewBox=\"0 0 24 24\"\n",
              "       width=\"24px\">\n",
              "    <path d=\"M0 0h24v24H0V0z\" fill=\"none\"/>\n",
              "    <path d=\"M18.56 5.44l.94 2.06.94-2.06 2.06-.94-2.06-.94-.94-2.06-.94 2.06-2.06.94zm-11 1L8.5 8.5l.94-2.06 2.06-.94-2.06-.94L8.5 2.5l-.94 2.06-2.06.94zm10 10l.94 2.06.94-2.06 2.06-.94-2.06-.94-.94-2.06-.94 2.06-2.06.94z\"/><path d=\"M17.41 7.96l-1.37-1.37c-.4-.4-.92-.59-1.43-.59-.52 0-1.04.2-1.43.59L10.3 9.45l-7.72 7.72c-.78.78-.78 2.05 0 2.83L4 21.41c.39.39.9.59 1.41.59.51 0 1.02-.2 1.41-.59l7.78-7.78 2.81-2.81c.8-.78.8-2.07 0-2.86zM5.41 20L4 18.59l7.72-7.72 1.47 1.35L5.41 20z\"/>\n",
              "  </svg>\n",
              "      </button>\n",
              "      \n",
              "  <style>\n",
              "    .colab-df-container {\n",
              "      display:flex;\n",
              "      flex-wrap:wrap;\n",
              "      gap: 12px;\n",
              "    }\n",
              "\n",
              "    .colab-df-convert {\n",
              "      background-color: #E8F0FE;\n",
              "      border: none;\n",
              "      border-radius: 50%;\n",
              "      cursor: pointer;\n",
              "      display: none;\n",
              "      fill: #1967D2;\n",
              "      height: 32px;\n",
              "      padding: 0 0 0 0;\n",
              "      width: 32px;\n",
              "    }\n",
              "\n",
              "    .colab-df-convert:hover {\n",
              "      background-color: #E2EBFA;\n",
              "      box-shadow: 0px 1px 2px rgba(60, 64, 67, 0.3), 0px 1px 3px 1px rgba(60, 64, 67, 0.15);\n",
              "      fill: #174EA6;\n",
              "    }\n",
              "\n",
              "    [theme=dark] .colab-df-convert {\n",
              "      background-color: #3B4455;\n",
              "      fill: #D2E3FC;\n",
              "    }\n",
              "\n",
              "    [theme=dark] .colab-df-convert:hover {\n",
              "      background-color: #434B5C;\n",
              "      box-shadow: 0px 1px 3px 1px rgba(0, 0, 0, 0.15);\n",
              "      filter: drop-shadow(0px 1px 2px rgba(0, 0, 0, 0.3));\n",
              "      fill: #FFFFFF;\n",
              "    }\n",
              "  </style>\n",
              "\n",
              "      <script>\n",
              "        const buttonEl =\n",
              "          document.querySelector('#df-388874a5-43e3-490d-926b-79acf1e2e40c button.colab-df-convert');\n",
              "        buttonEl.style.display =\n",
              "          google.colab.kernel.accessAllowed ? 'block' : 'none';\n",
              "\n",
              "        async function convertToInteractive(key) {\n",
              "          const element = document.querySelector('#df-388874a5-43e3-490d-926b-79acf1e2e40c');\n",
              "          const dataTable =\n",
              "            await google.colab.kernel.invokeFunction('convertToInteractive',\n",
              "                                                     [key], {});\n",
              "          if (!dataTable) return;\n",
              "\n",
              "          const docLinkHtml = 'Like what you see? Visit the ' +\n",
              "            '<a target=\"_blank\" href=https://colab.research.google.com/notebooks/data_table.ipynb>data table notebook</a>'\n",
              "            + ' to learn more about interactive tables.';\n",
              "          element.innerHTML = '';\n",
              "          dataTable['output_type'] = 'display_data';\n",
              "          await google.colab.output.renderOutput(dataTable, element);\n",
              "          const docLink = document.createElement('div');\n",
              "          docLink.innerHTML = docLinkHtml;\n",
              "          element.appendChild(docLink);\n",
              "        }\n",
              "      </script>\n",
              "    </div>\n",
              "  </div>\n",
              "  "
            ]
          },
          "metadata": {},
          "execution_count": 19
        }
      ]
    },
    {
      "cell_type": "code",
      "source": [
        "import seaborn as sns\n",
        "\n",
        "sns.boxplot(x='AMBAR', y='Satış Adedi', data=grouped_data)\n"
      ],
      "metadata": {
        "colab": {
          "base_uri": "https://localhost:8080/",
          "height": 298
        },
        "id": "wnNQn_b4fiP8",
        "outputId": "582b47da-4670-434a-eedf-390133022e19"
      },
      "execution_count": null,
      "outputs": [
        {
          "output_type": "execute_result",
          "data": {
            "text/plain": [
              "<Axes: xlabel='AMBAR', ylabel='Satış Adedi'>"
            ]
          },
          "metadata": {},
          "execution_count": 28
        },
        {
          "output_type": "display_data",
          "data": {
            "text/plain": [
              "<Figure size 432x288 with 1 Axes>"
            ],
            "image/png": "[encoded data removed]"
          },
          "metadata": {
            "needs_background": "light"
          }
        }
      ]
    },
    {
      "cell_type": "code",
      "source": [
        "import seaborn as sns\n",
        "\n",
        "# Create a pairplot between each item and the corresponding sale value\n",
        "sns.pairplot(retailDataNzero, x_vars=['MALZEME_KODU'], y_vars=['Satış Adedi'], height=5)\n",
        "\n",
        "# Display the plot\n",
        "plt.show()\n"
      ],
      "metadata": {
        "colab": {
          "base_uri": "https://localhost:8080/",
          "height": 374
        },
        "id": "r2QtHVd4yzjy",
        "outputId": "91c585b9-81de-4a21-89a7-f8bcf9d90cd4"
      },
      "execution_count": null,
      "outputs": [
        {
          "output_type": "display_data",
          "data": {
            "text/plain": [
              "<Figure size 360x360 with 1 Axes>"
            ],
            "image/png": "[encoded data removed]"
          },
          "metadata": {
            "needs_background": "light"
          }
        }
      ]
    },
    {
      "cell_type": "code",
      "source": [
        "sns.distplot(retailDataNzero['Satış Adedi'], kde= True)\n",
        "plt.show()\n"
      ],
      "metadata": {
        "colab": {
          "base_uri": "https://localhost:8080/",
          "height": 279
        },
        "id": "jEaaF1PHH7cS",
        "outputId": "8501f071-1d52-4b4a-cf6a-5aa0addb8dab"
      },
      "execution_count": null,
      "outputs": [
        {
          "output_type": "display_data",
          "data": {
            "text/plain": [
              "<Figure size 432x288 with 1 Axes>"
            ],
            "image/png": "[encoded data removed]"
          },
          "metadata": {
            "needs_background": "light"
          }
        }
      ]
    },
    {
      "cell_type": "markdown",
      "source": [
        "let's see outliars with a scatter plot"
      ],
      "metadata": {
        "id": "ofd1ETVYcnqW"
      }
    },
    {
      "cell_type": "code",
      "source": [
        "import matplotlib.pyplot as plt\n",
        "%matplotlib inline\n",
        "retailDataNzero.hist(figsize=(30,40))"
      ],
      "metadata": {
        "colab": {
          "base_uri": "https://localhost:8080/",
          "height": 1000
        },
        "id": "hScpCjQSZKKG",
        "outputId": "695f2137-efa0-4189-97e2-0c0e621bd5a2"
      },
      "execution_count": null,
      "outputs": [
        {
          "output_type": "execute_result",
          "data": {
            "text/plain": [
              "array([[<Axes: title={'center': 'GÜN'}>,\n",
              "        <Axes: title={'center': 'HAFTA'}>,\n",
              "        <Axes: title={'center': 'AY'}>],\n",
              "       [<Axes: title={'center': 'YIL'}>,\n",
              "        <Axes: title={'center': 'TARİH'}>,\n",
              "        <Axes: title={'center': 'AMBAR_NO'}>],\n",
              "       [<Axes: title={'center': 'Satış Adedi'}>, <Axes: >, <Axes: >]],\n",
              "      dtype=object)"
            ]
          },
          "metadata": {},
          "execution_count": 45
        },
        {
          "output_type": "display_data",
          "data": {
            "text/plain": [
              "<Figure size 2160x2880 with 9 Axes>"
            ],
            "image/png": "[encoded data removed]"
          },
          "metadata": {
            "needs_background": "light"
          }
        }
      ]
    },
    {
      "cell_type": "code",
      "source": [
        "plt.hist(retailDataNzero['Satış Adedi'])\n",
        "\n",
        "# Set axis labels and plot title\n",
        "plt.xlabel('Satış Adedi')\n",
        "plt.ylabel('Frequency')\n",
        "plt.title('Histogram of Satış Adedi')\n",
        "\n",
        "# Show the plot\n",
        "plt.show()\n"
      ],
      "metadata": {
        "colab": {
          "base_uri": "https://localhost:8080/",
          "height": 295
        },
        "id": "G7edLYcwcjbj",
        "outputId": "bc557059-27c9-4b3e-97e1-b759d33e5102"
      },
      "execution_count": null,
      "outputs": [
        {
          "output_type": "display_data",
          "data": {
            "text/plain": [
              "<Figure size 432x288 with 1 Axes>"
            ],
            "image/png": "[encoded data removed]"
          },
          "metadata": {
            "needs_background": "light"
          }
        }
      ]
    },
    {
      "cell_type": "code",
      "source": [
        "import matplotlib.pyplot as plt\n",
        "\n",
        "# create a scatter plot of the 'Satış Adedi' column\n",
        "plt.scatter(range(len(retailDataNzero['Satış Adedi'])), retailDataNzero['Satış Adedi'])\n",
        "plt.xlabel('Index')\n",
        "plt.ylabel('Satış Adedi')\n",
        "plt.title('Scatter Plot of Satış Adedi')\n",
        "plt.show()\n"
      ],
      "metadata": {
        "colab": {
          "base_uri": "https://localhost:8080/",
          "height": 295
        },
        "id": "kuAovSYHcvl1",
        "outputId": "75c17c88-9ba3-42d5-f16a-0fd24668b8dc"
      },
      "execution_count": null,
      "outputs": [
        {
          "output_type": "display_data",
          "data": {
            "text/plain": [
              "<Figure size 432x288 with 1 Axes>"
            ],
            "image/png": "[encoded data removed]"
          },
          "metadata": {
            "needs_background": "light"
          }
        }
      ]
    },
    {
      "cell_type": "markdown",
      "source": [
        "***plotting the total sales data for every month. ***"
      ],
      "metadata": {
        "id": "a7whID236UjL"
      }
    },
    {
      "cell_type": "code",
      "source": [
        "monthly_sales = retailDataNzero.groupby(pd.Grouper(key='TARİH', freq='M'))['Satış Adedi'].sum()\n",
        "\n",
        "# Create a line chart of the monthly sales\n",
        "fig, ax = plt.subplots(figsize=(10, 6))\n",
        "monthly_sales.plot(kind='line', ax=ax)\n",
        "\n",
        "# Customize the plot\n",
        "plt.title('Monthly Sales')\n",
        "plt.xlabel('Month')\n",
        "plt.ylabel('Sales')\n",
        "plt.grid()\n",
        "plt.show()\n"
      ],
      "metadata": {
        "colab": {
          "base_uri": "https://localhost:8080/",
          "height": 416
        },
        "id": "cOEjmDDAh8tO",
        "outputId": "ee938ec4-d124-43ed-8162-927dcc68f318"
      },
      "execution_count": null,
      "outputs": [
        {
          "output_type": "display_data",
          "data": {
            "text/plain": [
              "<Figure size 720x432 with 1 Axes>"
            ],
            "image/png": "[encoded data removed]"
          },
          "metadata": {
            "needs_background": "light"
          }
        }
      ]
    },
    {
      "cell_type": "code",
      "source": [
        "Data21=retailDataNzero[(retailDataNzero['TARİH'] >= '2021-01-01') & (retailDataNzero['TARİH'] < '2022-01-01')].reset_index(drop=True)"
      ],
      "metadata": {
        "id": "KI1zcJ7eRiNo"
      },
      "execution_count": null,
      "outputs": []
    },
    {
      "cell_type": "code",
      "source": [
        "# Assuming your data frame is named 'data22'\n",
        "monthly_sales1 = Data21.groupby(['AY'])['Satış Adedi'].sum()\n",
        "# print(monthly_sales)\n",
        "\n",
        "# Plotting the bar chart\n",
        "plt.bar(monthly_sales.index, monthly_sales.values)\n",
        "plt.title('Monthly Sales in 2021')\n",
        "plt.xlabel('Month')\n",
        "plt.ylabel('Sales')\n",
        "plt.show()\n"
      ],
      "metadata": {
        "colab": {
          "base_uri": "https://localhost:8080/",
          "height": 295
        },
        "id": "6lZDdfLhSWb_",
        "outputId": "63201cd5-9613-4ef1-915c-b696f846e4b7"
      },
      "execution_count": null,
      "outputs": [
        {
          "output_type": "display_data",
          "data": {
            "text/plain": [
              "<Figure size 432x288 with 1 Axes>"
            ],
            "image/png": "[encoded data removed]"
          },
          "metadata": {
            "needs_background": "light"
          }
        }
      ]
    },
    {
      "cell_type": "code",
      "execution_count": null,
      "metadata": {
        "id": "oIo2hjO4VqDa"
      },
      "outputs": [],
      "source": [
        "Data2223= retailDataNzero[retailDataNzero['TARİH'] >= '2022-01-01'].reset_index(drop=True)\n"
      ]
    },
    {
      "cell_type": "code",
      "source": [
        "Data22=Data2223[retailDataNzero['TARİH']<'2023-01-01']"
      ],
      "metadata": {
        "id": "E5zQqWa4UtxD"
      },
      "execution_count": null,
      "outputs": []
    },
    {
      "cell_type": "markdown",
      "source": [],
      "metadata": {
        "id": "uqTSylYxT8-0"
      }
    },
    {
      "cell_type": "code",
      "source": [
        "Data2223['TARİH'] = pd.to_datetime(Data2223['TARİH'], utc=True)"
      ],
      "metadata": {
        "id": "qf5-0tA3Ua1M"
      },
      "execution_count": null,
      "outputs": []
    },
    {
      "cell_type": "markdown",
      "source": [
        "monthly sales for 2022"
      ],
      "metadata": {
        "id": "JawBaWWxY2rN"
      }
    },
    {
      "cell_type": "code",
      "source": [
        "import matplotlib.pyplot as plt\n",
        "\n",
        "# Assuming your data frame is named 'data22'\n",
        "monthly_sales2 = Data22.groupby(['AY'])['Satış Adedi'].sum()\n",
        "# print(monthly_sales)\n",
        "\n",
        "# Plotting the bar chart\n",
        "plt.bar(monthly_sales2.index, monthly_sales2.values)\n",
        "plt.title('Monthly Sales in 2022')\n",
        "plt.xlabel('Month')\n",
        "plt.ylabel('Sales')\n",
        "plt.show()\n"
      ],
      "metadata": {
        "colab": {
          "base_uri": "https://localhost:8080/",
          "height": 295
        },
        "id": "c6heagZ3WDrV",
        "outputId": "14fe8643-514e-4f73-c24f-e48fae2e78dd"
      },
      "execution_count": null,
      "outputs": [
        {
          "output_type": "display_data",
          "data": {
            "text/plain": [
              "<Figure size 432x288 with 1 Axes>"
            ],
            "image/png": "[encoded data removed]"
          },
          "metadata": {
            "needs_background": "light"
          }
        }
      ]
    },
    {
      "cell_type": "code",
      "source": [
        "monthly_sales = pd.concat([monthly_sales1, monthly_sales2], axis=1)\n",
        "monthly_sales.columns = ['2021', '2022']\n",
        "\n",
        "# Plot the monthly sales as a line graph\n",
        "monthly_sales.plot(kind='line', figsize=(10, 6))\n",
        "\n",
        "# Customize the plot\n",
        "plt.title('Monthly Sales for 2021 and 2022')\n",
        "plt.xlabel('Month')\n",
        "plt.ylabel('Sales')\n",
        "plt.grid()\n",
        "plt.show()\n"
      ],
      "metadata": {
        "colab": {
          "base_uri": "https://localhost:8080/",
          "height": 404
        },
        "id": "o4EXRlYfThE2",
        "outputId": "cd823024-fb1d-4d4b-83e4-9744916254b1"
      },
      "execution_count": null,
      "outputs": [
        {
          "output_type": "display_data",
          "data": {
            "text/plain": [
              "<Figure size 720x432 with 1 Axes>"
            ],
            "image/png": "[encoded data removed]"
          },
          "metadata": {
            "needs_background": "light"
          }
        }
      ]
    },
    {
      "cell_type": "code",
      "execution_count": null,
      "metadata": {
        "id": "f4JMFQniH8sj"
      },
      "outputs": [],
      "source": [
        "      \n",
        "def weekend_or_weekday(day):\n",
        "    if day>4:\n",
        "        return 1\n",
        "    else:\n",
        "        return 0\n",
        "  \n",
        "Data2223['weekend'] = Data2223.apply(lambda x:weekend_or_weekday(x['GÜN']), axis=1)\n",
        "Data2223.tail()\n"
      ]
    },
    {
      "cell_type": "code",
      "execution_count": null,
      "metadata": {
        "id": "BWkg2SMdBFq8"
      },
      "outputs": [],
      "source": [
        "Data2223.dtypes"
      ]
    },
    {
      "cell_type": "code",
      "execution_count": null,
      "metadata": {
        "id": "pua_RXcRRR4q"
      },
      "outputs": [],
      "source": [
        "from datetime import date\n",
        "import holidays\n",
        "\n",
        "# turkey_holidays = holidays.country_holidays('TR')\n",
        "# turkey_holidays.get('2023-05-01')\n",
        "# turkey_holidays = holidays.country_holidays('TR')\n",
        "\n",
        "def is_holiday(x):\n",
        "    \n",
        "  turkey_holidays = holidays.country_holidays('TR')\n",
        "  \n",
        "  if turkey_holidays.get(x):\n",
        "      return 1\n",
        "  else:\n",
        "      return 0\n",
        "      \n",
        "Data2223['holidays'] = Data2223['TARİH'].apply(is_holiday)\n"
      ]
    },
    {
      "cell_type": "code",
      "execution_count": null,
      "metadata": {
        "id": "-j_5YG7aT8x5"
      },
      "outputs": [],
      "source": [
        "retailData['day'] = pd.to_datetime(retailData['TARİH'], utc=True).dt.day"
      ]
    },
    {
      "cell_type": "code",
      "execution_count": null,
      "metadata": {
        "id": "RlqZEIill2Sp"
      },
      "outputs": [],
      "source": [
        "Data2223.to_pickle(\"/content/drive/My Drive/tumexceller/dataAfter2022.pkl\")  \n"
      ]
    },
    {
      "cell_type": "code",
      "source": [],
      "metadata": {
        "id": "cuVpSwhoLMud"
      },
      "execution_count": null,
      "outputs": []
    },
    {
      "cell_type": "code",
      "execution_count": null,
      "metadata": {
        "id": "oYRy49vYtGPI"
      },
      "outputs": [],
      "source": [
        "Data2223=pd.read_pickle(\"/content/drive/My Drive/tumexceller/dataAfter2022.pkl\")"
      ]
    },
    {
      "cell_type": "markdown",
      "source": [
        "autocorrelatıon for 2023"
      ],
      "metadata": {
        "id": "wHZpOIFHTBZn"
      }
    },
    {
      "cell_type": "code",
      "source": [
        "Data2 =Data2223.copy()\n",
        "Data2=Data2[Data2['TARİH'] >= '2023-01-01'].reset_index(drop=True)\n"
      ],
      "metadata": {
        "id": "CRISW4A4L9NV"
      },
      "execution_count": null,
      "outputs": []
    },
    {
      "cell_type": "code",
      "source": [
        "Data2.shape"
      ],
      "metadata": {
        "colab": {
          "base_uri": "https://localhost:8080/"
        },
        "id": "MAr2v6gcM9TO",
        "outputId": "8c49021c-5f90-4600-e8bc-ae262f7c1e3d"
      },
      "execution_count": null,
      "outputs": [
        {
          "output_type": "execute_result",
          "data": {
            "text/plain": [
              "(294850, 12)"
            ]
          },
          "metadata": {},
          "execution_count": 10
        }
      ]
    },
    {
      "cell_type": "code",
      "source": [],
      "metadata": {
        "id": "CogMNWiRPzHR"
      },
      "execution_count": null,
      "outputs": []
    },
    {
      "cell_type": "code",
      "source": [
        "Data2['TARİH']"
      ],
      "metadata": {
        "colab": {
          "base_uri": "https://localhost:8080/"
        },
        "id": "DjKyy6YGPvB_",
        "outputId": "85c14c4c-e213-431b-f5d7-6ad4858f11ea"
      },
      "execution_count": null,
      "outputs": [
        {
          "output_type": "execute_result",
          "data": {
            "text/plain": [
              "0        2023-01-01\n",
              "1        2023-01-01\n",
              "2        2023-01-01\n",
              "3        2023-01-01\n",
              "4        2023-01-01\n",
              "            ...    \n",
              "294845   2023-02-28\n",
              "294846   2023-02-28\n",
              "294847   2023-02-28\n",
              "294848   2023-02-28\n",
              "294849   2023-02-28\n",
              "Name: TARİH, Length: 294850, dtype: datetime64[ns]"
            ]
          },
          "metadata": {},
          "execution_count": 14
        }
      ]
    },
    {
      "cell_type": "code",
      "source": [
        "Data2['Satış Adedi'].dtypes"
      ],
      "metadata": {
        "colab": {
          "base_uri": "https://localhost:8080/"
        },
        "id": "aZ3pnJ15Q7Lz",
        "outputId": "d1bc5dd3-6651-4fe4-a173-a34db18de425"
      },
      "execution_count": null,
      "outputs": [
        {
          "output_type": "execute_result",
          "data": {
            "text/plain": [
              "dtype('int64')"
            ]
          },
          "metadata": {},
          "execution_count": 16
        }
      ]
    },
    {
      "cell_type": "code",
      "source": [
        "\n",
        "data = Data2['Satış Adedi'].astype(float)\n",
        "\n",
        "# Data for which we plot Autocorrelation.\n",
        "# data = Data2['Satış Adedi']\n",
        "   \n",
        "# Adding plot title.\n",
        "plt.title(\"Autocorrelation Plot\")\n",
        " \n",
        "# Providing x-axis name.\n",
        "plt.xlabel(\"Lags\")\n",
        " \n",
        "# Plotting the Autocorrelation plot.\n",
        "plt.acorr(data, maxlags = 30)\n",
        " \n",
        "# Displaying the plot.\n",
        "print(\"The Autocorrelation plot for the data is:\")\n",
        "plt.grid(True)\n",
        " \n",
        "plt.show()\n",
        "\n"
      ],
      "metadata": {
        "colab": {
          "base_uri": "https://localhost:8080/",
          "height": 312
        },
        "id": "D3PYf7J6FqKL",
        "outputId": "e99c1d20-f503-4aad-e7ed-e9a1b995e37d"
      },
      "execution_count": null,
      "outputs": [
        {
          "output_type": "stream",
          "name": "stdout",
          "text": [
            "The Autocorrelation plot for the data is:\n"
          ]
        },
        {
          "output_type": "display_data",
          "data": {
            "text/plain": [
              "<Figure size 432x288 with 1 Axes>"
            ],
            "image/png": "[encoded data removed]"
          },
          "metadata": {
            "needs_background": "light"
          }
        }
      ]
    },
    {
      "cell_type": "code",
      "source": [
        "Data2223['AMBAR']=Data2223['AMBAR'].astype(\"string\") \n",
        "Data2223['MALZEME_KODU']= Data2223['MALZEME_KODU'].astype(\"string\") \n",
        "Data2223['MALZEME_ADI']= Data2223['MALZEME_ADI'].astype(\"string\") \n",
        "Data2223['AMBAR_NO'] = Data2223['AMBAR_NO'].astype(np.int64)\n",
        "\n"
      ],
      "metadata": {
        "id": "AEM2ZBN9MC9m"
      },
      "execution_count": null,
      "outputs": []
    },
    {
      "cell_type": "code",
      "source": [
        "Data2223 = Data2223.sort_values(by='TARİH') # Step 1\n",
        "Data2223['last_7_days_avg'] = Data2223.groupby(['AMBAR', 'MALZEME_KODU'])['Satış Adedi'].rolling(window=8).mean().values # Steps 2-4\n",
        "Data2223['last_7_days_avg']=Data2223.groupby(['AMBAR', 'MALZEME_KODU'])['last_7_days_avg'].shift(1)\n",
        "# Data2223.loc[Data2223.groupby(['AMBAR', 'MALZEME_KODU'])['last_7_days_avg'].head(7).index, 'last_7_days_avg'] = pd.UInt64Index"
      ],
      "metadata": {
        "id": "s9IsyGzHPR-e"
      },
      "execution_count": null,
      "outputs": []
    },
    {
      "cell_type": "code",
      "source": [
        "Data2223['last_7_days_avg']=Data2223['last_7_days_avg'].astype(np.int64)"
      ],
      "metadata": {
        "colab": {
          "base_uri": "https://localhost:8080/",
          "height": 225
        },
        "id": "1ptCPEGWSW1U",
        "outputId": "07270cfe-f0a7-460d-f4f4-03b26b9873b4"
      },
      "execution_count": null,
      "outputs": [
        {
          "output_type": "error",
          "ename": "TypeError",
          "evalue": "ignored",
          "traceback": [
            "\u001b[0;31m---------------------------------------------------------------------------\u001b[0m",
            "\u001b[0;31mTypeError\u001b[0m                                 Traceback (most recent call last)",
            "\u001b[0;32m<ipython-input-47-2aa2311adc62>\u001b[0m in \u001b[0;36m<module>\u001b[0;34m\u001b[0m\n\u001b[0;32m----> 1\u001b[0;31m \u001b[0mData2223\u001b[0m\u001b[0;34m[\u001b[0m\u001b[0;34m'last_7_days_avg'\u001b[0m\u001b[0;34m]\u001b[0m\u001b[0;34m=\u001b[0m\u001b[0mData2223\u001b[0m\u001b[0;34m[\u001b[0m\u001b[0;34m'last_7_days_avg'\u001b[0m\u001b[0;34m]\u001b[0m\u001b[0;34m.\u001b[0m\u001b[0mastype\u001b[0m\u001b[0;34m(\u001b[0m\u001b[0mnp\u001b[0m\u001b[0;34m.\u001b[0m\u001b[0mint64\u001b[0m\u001b[0;34m)\u001b[0m\u001b[0;34m\u001b[0m\u001b[0;34m\u001b[0m\u001b[0m\n\u001b[0m",
            "\u001b[0;32m/usr/local/lib/python3.9/dist-packages/pandas/core/generic.py\u001b[0m in \u001b[0;36mastype\u001b[0;34m(self, dtype, copy, errors)\u001b[0m\n\u001b[1;32m   5910\u001b[0m         \u001b[0;32melse\u001b[0m\u001b[0;34m:\u001b[0m\u001b[0;34m\u001b[0m\u001b[0;34m\u001b[0m\u001b[0m\n\u001b[1;32m   5911\u001b[0m             \u001b[0;31m# else, only a single dtype is given\u001b[0m\u001b[0;34m\u001b[0m\u001b[0;34m\u001b[0m\u001b[0m\n\u001b[0;32m-> 5912\u001b[0;31m             \u001b[0mnew_data\u001b[0m \u001b[0;34m=\u001b[0m \u001b[0mself\u001b[0m\u001b[0;34m.\u001b[0m\u001b[0m_mgr\u001b[0m\u001b[0;34m.\u001b[0m\u001b[0mastype\u001b[0m\u001b[0;34m(\u001b[0m\u001b[0mdtype\u001b[0m\u001b[0;34m=\u001b[0m\u001b[0mdtype\u001b[0m\u001b[0;34m,\u001b[0m \u001b[0mcopy\u001b[0m\u001b[0;34m=\u001b[0m\u001b[0mcopy\u001b[0m\u001b[0;34m,\u001b[0m \u001b[0merrors\u001b[0m\u001b[0;34m=\u001b[0m\u001b[0merrors\u001b[0m\u001b[0;34m)\u001b[0m\u001b[0;34m\u001b[0m\u001b[0;34m\u001b[0m\u001b[0m\n\u001b[0m\u001b[1;32m   5913\u001b[0m             \u001b[0;32mreturn\u001b[0m \u001b[0mself\u001b[0m\u001b[0;34m.\u001b[0m\u001b[0m_constructor\u001b[0m\u001b[0;34m(\u001b[0m\u001b[0mnew_data\u001b[0m\u001b[0;34m)\u001b[0m\u001b[0;34m.\u001b[0m\u001b[0m__finalize__\u001b[0m\u001b[0;34m(\u001b[0m\u001b[0mself\u001b[0m\u001b[0;34m,\u001b[0m \u001b[0mmethod\u001b[0m\u001b[0;34m=\u001b[0m\u001b[0;34m\"astype\"\u001b[0m\u001b[0;34m)\u001b[0m\u001b[0;34m\u001b[0m\u001b[0;34m\u001b[0m\u001b[0m\n\u001b[1;32m   5914\u001b[0m \u001b[0;34m\u001b[0m\u001b[0m\n",
            "\u001b[0;32m/usr/local/lib/python3.9/dist-packages/pandas/core/internals/managers.py\u001b[0m in \u001b[0;36mastype\u001b[0;34m(self, dtype, copy, errors)\u001b[0m\n\u001b[1;32m    417\u001b[0m \u001b[0;34m\u001b[0m\u001b[0m\n\u001b[1;32m    418\u001b[0m     \u001b[0;32mdef\u001b[0m \u001b[0mastype\u001b[0m\u001b[0;34m(\u001b[0m\u001b[0mself\u001b[0m\u001b[0;34m:\u001b[0m \u001b[0mT\u001b[0m\u001b[0;34m,\u001b[0m \u001b[0mdtype\u001b[0m\u001b[0;34m,\u001b[0m \u001b[0mcopy\u001b[0m\u001b[0;34m:\u001b[0m \u001b[0mbool\u001b[0m \u001b[0;34m=\u001b[0m \u001b[0;32mFalse\u001b[0m\u001b[0;34m,\u001b[0m \u001b[0merrors\u001b[0m\u001b[0;34m:\u001b[0m \u001b[0mstr\u001b[0m \u001b[0;34m=\u001b[0m \u001b[0;34m\"raise\"\u001b[0m\u001b[0;34m)\u001b[0m \u001b[0;34m->\u001b[0m \u001b[0mT\u001b[0m\u001b[0;34m:\u001b[0m\u001b[0;34m\u001b[0m\u001b[0;34m\u001b[0m\u001b[0m\n\u001b[0;32m--> 419\u001b[0;31m         \u001b[0;32mreturn\u001b[0m \u001b[0mself\u001b[0m\u001b[0;34m.\u001b[0m\u001b[0mapply\u001b[0m\u001b[0;34m(\u001b[0m\u001b[0;34m\"astype\"\u001b[0m\u001b[0;34m,\u001b[0m \u001b[0mdtype\u001b[0m\u001b[0;34m=\u001b[0m\u001b[0mdtype\u001b[0m\u001b[0;34m,\u001b[0m \u001b[0mcopy\u001b[0m\u001b[0;34m=\u001b[0m\u001b[0mcopy\u001b[0m\u001b[0;34m,\u001b[0m \u001b[0merrors\u001b[0m\u001b[0;34m=\u001b[0m\u001b[0merrors\u001b[0m\u001b[0;34m)\u001b[0m\u001b[0;34m\u001b[0m\u001b[0;34m\u001b[0m\u001b[0m\n\u001b[0m\u001b[1;32m    420\u001b[0m \u001b[0;34m\u001b[0m\u001b[0m\n\u001b[1;32m    421\u001b[0m     def convert(\n",
            "\u001b[0;32m/usr/local/lib/python3.9/dist-packages/pandas/core/internals/managers.py\u001b[0m in \u001b[0;36mapply\u001b[0;34m(self, f, align_keys, ignore_failures, **kwargs)\u001b[0m\n\u001b[1;32m    302\u001b[0m                     \u001b[0mapplied\u001b[0m \u001b[0;34m=\u001b[0m \u001b[0mb\u001b[0m\u001b[0;34m.\u001b[0m\u001b[0mapply\u001b[0m\u001b[0;34m(\u001b[0m\u001b[0mf\u001b[0m\u001b[0;34m,\u001b[0m \u001b[0;34m**\u001b[0m\u001b[0mkwargs\u001b[0m\u001b[0;34m)\u001b[0m\u001b[0;34m\u001b[0m\u001b[0;34m\u001b[0m\u001b[0m\n\u001b[1;32m    303\u001b[0m                 \u001b[0;32melse\u001b[0m\u001b[0;34m:\u001b[0m\u001b[0;34m\u001b[0m\u001b[0;34m\u001b[0m\u001b[0m\n\u001b[0;32m--> 304\u001b[0;31m                     \u001b[0mapplied\u001b[0m \u001b[0;34m=\u001b[0m \u001b[0mgetattr\u001b[0m\u001b[0;34m(\u001b[0m\u001b[0mb\u001b[0m\u001b[0;34m,\u001b[0m \u001b[0mf\u001b[0m\u001b[0;34m)\u001b[0m\u001b[0;34m(\u001b[0m\u001b[0;34m**\u001b[0m\u001b[0mkwargs\u001b[0m\u001b[0;34m)\u001b[0m\u001b[0;34m\u001b[0m\u001b[0;34m\u001b[0m\u001b[0m\n\u001b[0m\u001b[1;32m    305\u001b[0m             \u001b[0;32mexcept\u001b[0m \u001b[0;34m(\u001b[0m\u001b[0mTypeError\u001b[0m\u001b[0;34m,\u001b[0m \u001b[0mNotImplementedError\u001b[0m\u001b[0;34m)\u001b[0m\u001b[0;34m:\u001b[0m\u001b[0;34m\u001b[0m\u001b[0;34m\u001b[0m\u001b[0m\n\u001b[1;32m    306\u001b[0m                 \u001b[0;32mif\u001b[0m \u001b[0;32mnot\u001b[0m \u001b[0mignore_failures\u001b[0m\u001b[0;34m:\u001b[0m\u001b[0;34m\u001b[0m\u001b[0;34m\u001b[0m\u001b[0m\n",
            "\u001b[0;32m/usr/local/lib/python3.9/dist-packages/pandas/core/internals/blocks.py\u001b[0m in \u001b[0;36mastype\u001b[0;34m(self, dtype, copy, errors)\u001b[0m\n\u001b[1;32m    578\u001b[0m         \u001b[0mvalues\u001b[0m \u001b[0;34m=\u001b[0m \u001b[0mself\u001b[0m\u001b[0;34m.\u001b[0m\u001b[0mvalues\u001b[0m\u001b[0;34m\u001b[0m\u001b[0;34m\u001b[0m\u001b[0m\n\u001b[1;32m    579\u001b[0m \u001b[0;34m\u001b[0m\u001b[0m\n\u001b[0;32m--> 580\u001b[0;31m         \u001b[0mnew_values\u001b[0m \u001b[0;34m=\u001b[0m \u001b[0mastype_array_safe\u001b[0m\u001b[0;34m(\u001b[0m\u001b[0mvalues\u001b[0m\u001b[0;34m,\u001b[0m \u001b[0mdtype\u001b[0m\u001b[0;34m,\u001b[0m \u001b[0mcopy\u001b[0m\u001b[0;34m=\u001b[0m\u001b[0mcopy\u001b[0m\u001b[0;34m,\u001b[0m \u001b[0merrors\u001b[0m\u001b[0;34m=\u001b[0m\u001b[0merrors\u001b[0m\u001b[0;34m)\u001b[0m\u001b[0;34m\u001b[0m\u001b[0;34m\u001b[0m\u001b[0m\n\u001b[0m\u001b[1;32m    581\u001b[0m \u001b[0;34m\u001b[0m\u001b[0m\n\u001b[1;32m    582\u001b[0m         \u001b[0mnew_values\u001b[0m \u001b[0;34m=\u001b[0m \u001b[0mmaybe_coerce_values\u001b[0m\u001b[0;34m(\u001b[0m\u001b[0mnew_values\u001b[0m\u001b[0;34m)\u001b[0m\u001b[0;34m\u001b[0m\u001b[0;34m\u001b[0m\u001b[0m\n",
            "\u001b[0;32m/usr/local/lib/python3.9/dist-packages/pandas/core/dtypes/cast.py\u001b[0m in \u001b[0;36mastype_array_safe\u001b[0;34m(values, dtype, copy, errors)\u001b[0m\n\u001b[1;32m   1290\u001b[0m \u001b[0;34m\u001b[0m\u001b[0m\n\u001b[1;32m   1291\u001b[0m     \u001b[0;32mtry\u001b[0m\u001b[0;34m:\u001b[0m\u001b[0;34m\u001b[0m\u001b[0;34m\u001b[0m\u001b[0m\n\u001b[0;32m-> 1292\u001b[0;31m         \u001b[0mnew_values\u001b[0m \u001b[0;34m=\u001b[0m \u001b[0mastype_array\u001b[0m\u001b[0;34m(\u001b[0m\u001b[0mvalues\u001b[0m\u001b[0;34m,\u001b[0m \u001b[0mdtype\u001b[0m\u001b[0;34m,\u001b[0m \u001b[0mcopy\u001b[0m\u001b[0;34m=\u001b[0m\u001b[0mcopy\u001b[0m\u001b[0;34m)\u001b[0m\u001b[0;34m\u001b[0m\u001b[0;34m\u001b[0m\u001b[0m\n\u001b[0m\u001b[1;32m   1293\u001b[0m     \u001b[0;32mexcept\u001b[0m \u001b[0;34m(\u001b[0m\u001b[0mValueError\u001b[0m\u001b[0;34m,\u001b[0m \u001b[0mTypeError\u001b[0m\u001b[0;34m)\u001b[0m\u001b[0;34m:\u001b[0m\u001b[0;34m\u001b[0m\u001b[0;34m\u001b[0m\u001b[0m\n\u001b[1;32m   1294\u001b[0m         \u001b[0;31m# e.g. astype_nansafe can fail on object-dtype of strings\u001b[0m\u001b[0;34m\u001b[0m\u001b[0;34m\u001b[0m\u001b[0m\n",
            "\u001b[0;32m/usr/local/lib/python3.9/dist-packages/pandas/core/dtypes/cast.py\u001b[0m in \u001b[0;36mastype_array\u001b[0;34m(values, dtype, copy)\u001b[0m\n\u001b[1;32m   1235\u001b[0m \u001b[0;34m\u001b[0m\u001b[0m\n\u001b[1;32m   1236\u001b[0m     \u001b[0;32melse\u001b[0m\u001b[0;34m:\u001b[0m\u001b[0;34m\u001b[0m\u001b[0;34m\u001b[0m\u001b[0m\n\u001b[0;32m-> 1237\u001b[0;31m         \u001b[0mvalues\u001b[0m \u001b[0;34m=\u001b[0m \u001b[0mastype_nansafe\u001b[0m\u001b[0;34m(\u001b[0m\u001b[0mvalues\u001b[0m\u001b[0;34m,\u001b[0m \u001b[0mdtype\u001b[0m\u001b[0;34m,\u001b[0m \u001b[0mcopy\u001b[0m\u001b[0;34m=\u001b[0m\u001b[0mcopy\u001b[0m\u001b[0;34m)\u001b[0m\u001b[0;34m\u001b[0m\u001b[0;34m\u001b[0m\u001b[0m\n\u001b[0m\u001b[1;32m   1238\u001b[0m \u001b[0;34m\u001b[0m\u001b[0m\n\u001b[1;32m   1239\u001b[0m     \u001b[0;31m# in pandas we don't store numpy str dtypes, so convert to object\u001b[0m\u001b[0;34m\u001b[0m\u001b[0;34m\u001b[0m\u001b[0m\n",
            "\u001b[0;32m/usr/local/lib/python3.9/dist-packages/pandas/core/dtypes/cast.py\u001b[0m in \u001b[0;36mastype_nansafe\u001b[0;34m(arr, dtype, copy, skipna)\u001b[0m\n\u001b[1;32m   1152\u001b[0m         \u001b[0;31m# work around NumPy brokenness, #1987\u001b[0m\u001b[0;34m\u001b[0m\u001b[0;34m\u001b[0m\u001b[0m\n\u001b[1;32m   1153\u001b[0m         \u001b[0;32mif\u001b[0m \u001b[0mnp\u001b[0m\u001b[0;34m.\u001b[0m\u001b[0missubdtype\u001b[0m\u001b[0;34m(\u001b[0m\u001b[0mdtype\u001b[0m\u001b[0;34m.\u001b[0m\u001b[0mtype\u001b[0m\u001b[0;34m,\u001b[0m \u001b[0mnp\u001b[0m\u001b[0;34m.\u001b[0m\u001b[0minteger\u001b[0m\u001b[0;34m)\u001b[0m\u001b[0;34m:\u001b[0m\u001b[0;34m\u001b[0m\u001b[0;34m\u001b[0m\u001b[0m\n\u001b[0;32m-> 1154\u001b[0;31m             \u001b[0;32mreturn\u001b[0m \u001b[0mlib\u001b[0m\u001b[0;34m.\u001b[0m\u001b[0mastype_intsafe\u001b[0m\u001b[0;34m(\u001b[0m\u001b[0marr\u001b[0m\u001b[0;34m,\u001b[0m \u001b[0mdtype\u001b[0m\u001b[0;34m)\u001b[0m\u001b[0;34m\u001b[0m\u001b[0;34m\u001b[0m\u001b[0m\n\u001b[0m\u001b[1;32m   1155\u001b[0m \u001b[0;34m\u001b[0m\u001b[0m\n\u001b[1;32m   1156\u001b[0m         \u001b[0;31m# if we have a datetime/timedelta array of objects\u001b[0m\u001b[0;34m\u001b[0m\u001b[0;34m\u001b[0m\u001b[0m\n",
            "\u001b[0;32m/usr/local/lib/python3.9/dist-packages/pandas/_libs/lib.pyx\u001b[0m in \u001b[0;36mpandas._libs.lib.astype_intsafe\u001b[0;34m()\u001b[0m\n",
            "\u001b[0;31mTypeError\u001b[0m: int() argument must be a string, a bytes-like object or a number, not 'type'"
          ]
        }
      ]
    },
    {
      "cell_type": "code",
      "source": [
        "Data2223.info()"
      ],
      "metadata": {
        "colab": {
          "base_uri": "https://localhost:8080/"
        },
        "outputId": "51359404-f2ca-4139-d95f-eb5abcc5381c",
        "id": "Xbl376LRPkh-"
      },
      "execution_count": null,
      "outputs": [
        {
          "output_type": "stream",
          "name": "stdout",
          "text": [
            "<class 'pandas.core.frame.DataFrame'>\n",
            "Int64Index: 2385152 entries, 0 to 2385151\n",
            "Data columns (total 11 columns):\n",
            " #   Column           Dtype              \n",
            "---  ------           -----              \n",
            " 0   GÜN              int64              \n",
            " 1   AY               int64              \n",
            " 2   YIL              int64              \n",
            " 3   TARİH            datetime64[ns, UTC]\n",
            " 4   AMBAR_NO         float64            \n",
            " 5   AMBAR            object             \n",
            " 6   MALZEME_KODU     object             \n",
            " 7   MALZEME_ADI      object             \n",
            " 8   Satış Adedi      int64              \n",
            " 9   day              int64              \n",
            " 10  last_7_days_avg  float64            \n",
            "dtypes: datetime64[ns, UTC](1), float64(2), int64(5), object(3)\n",
            "memory usage: 218.4+ MB\n"
          ]
        }
      ]
    },
    {
      "cell_type": "code",
      "source": [
        "features = Data2223.drop(['Satış Adedi', 'YIL', 'TARİH', 'AMBAR_NO', 'MALZEME_ADI', 'GÜN'], axis=1)\n",
        "target = Data2223['Satış Adedi'].values\n",
        "  \n",
        "  \n",
        "X_train, X_val, Y_train, Y_val = train_test_split(features, target,\n",
        "                                                  test_size = 0.1,\n",
        "                                                  random_state=22)\n",
        "X_train.shape, X_val.shape"
      ],
      "metadata": {
        "id": "_xBT09g6_ycV",
        "colab": {
          "base_uri": "https://localhost:8080/"
        },
        "outputId": "5a237655-93b2-4c17-dacb-a0f220e23e9e"
      },
      "execution_count": null,
      "outputs": [
        {
          "output_type": "execute_result",
          "data": {
            "text/plain": [
              "((2146636, 5), (238516, 5))"
            ]
          },
          "metadata": {},
          "execution_count": 50
        }
      ]
    },
    {
      "cell_type": "code",
      "source": [
        "features.info()"
      ],
      "metadata": {
        "id": "a6ebd5EN8wzb",
        "colab": {
          "base_uri": "https://localhost:8080/"
        },
        "outputId": "05e26530-5c2a-4632-8888-f6b64a2dd22d"
      },
      "execution_count": null,
      "outputs": [
        {
          "output_type": "stream",
          "name": "stdout",
          "text": [
            "<class 'pandas.core.frame.DataFrame'>\n",
            "Int64Index: 2385152 entries, 0 to 2385151\n",
            "Data columns (total 5 columns):\n",
            " #   Column           Dtype  \n",
            "---  ------           -----  \n",
            " 0   AY               int64  \n",
            " 1   AMBAR            object \n",
            " 2   MALZEME_KODU     object \n",
            " 3   day              int64  \n",
            " 4   last_7_days_avg  float64\n",
            "dtypes: float64(1), int64(2), object(2)\n",
            "memory usage: 109.2+ MB\n"
          ]
        }
      ]
    },
    {
      "cell_type": "code",
      "source": [
        "features.head()"
      ],
      "metadata": {
        "id": "iv4PbIvtiDew"
      },
      "execution_count": null,
      "outputs": []
    },
    {
      "cell_type": "code",
      "source": [
        "categorical_features_indices = np.where(X_train.dtypes != np.int)[0]\n",
        "categorical_features_indices "
      ],
      "metadata": {
        "id": "8QFHNoZsgNxJ"
      },
      "execution_count": null,
      "outputs": []
    },
    {
      "cell_type": "code",
      "source": [
        "X_train.shape, Y_train.shape\n"
      ],
      "metadata": {
        "id": "AEvgqZyn9qDE"
      },
      "execution_count": null,
      "outputs": []
    },
    {
      "cell_type": "markdown",
      "source": [
        "model=CatBoostRegressor(loss_function='RMSE', cat_features=[1,2])\n",
        "grid = {'learning_rate': [0.03,0.05, 0.1],\n",
        "        'depth': [ 6, 8, 10,],\n",
        "        'l2_leaf_reg': [1, 3, 5, 7, 9],\n",
        "        'iterations':[300,400,500]}\n",
        "        \n",
        "grid_search_result = model.grid_search(grid, \n",
        "                                       X=X_train, \n",
        "                                       y=Y_train, \n",
        "                                       cat_features=[1,2],\n",
        "                                       plot=True)"
      ],
      "metadata": {
        "id": "XeXMHwWgH4vV"
      }
    },
    {
      "cell_type": "code",
      "source": [
        "CBC=CatBoostRegressor(loss_function='RMSE', cat_features=[0,1,2,3])\n",
        "grid = {'learning_rate': [0.03,0.05, 0.1],\n",
        "        'depth': [ 4,5],\n",
        "        'l2_leaf_reg': [ 3, 5, 7, 9],\n",
        "        'iterations':[300,400,500]}\n",
        "        \n",
        "Grid_CBC = GridSearchCV(estimator=CBC, param_grid = grid, cv = 3, n_jobs=-1)\n",
        "Grid_CBC.fit(X_train, Y_train)\n"
      ],
      "metadata": {
        "id": "3r-E6w9Twk8h"
      },
      "execution_count": null,
      "outputs": []
    },
    {
      "cell_type": "code",
      "source": [
        "categorical_features_indices = np.where(X_train.dtypes != np.float)[0]\n",
        "model=CatBoostRegressor(500, depth=15, learning_rate=0.1, loss_function='RMSE')\n",
        "model.fit(X_train, Y_train,cat_features=[0,1,2,3],eval_set=(X_val, Y_val),plot=True)\n",
        "\n",
        "# print(f'{model} : ')\n",
        "  \n",
        "# train_preds = model.predict(X_train)\n",
        "# print('Training Error : ', mae(Y_train, train_preds))\n",
        "  \n",
        "# val_preds = models[i].predict(X_val)\n",
        "# print('Validation Error : ', mae(Y_val, val_preds))"
      ],
      "metadata": {
        "id": "4ZIZoUuUBO6S",
        "colab": {
          "base_uri": "https://localhost:8080/",
          "height": 1000,
          "referenced_widgets": [
            "c9abd6457e3e4a5fab2acbc64d7d304f"
          ]
        },
        "outputId": "9164cbe8-871f-4f2b-dbc5-252711ebde5e"
      },
      "execution_count": null,
      "outputs": [
        {
          "output_type": "display_data",
          "data": {
            "text/plain": [
              "MetricVisualizer(layout=Layout(align_self='stretch', height='500px'))"
            ],
            "application/vnd.jupyter.widget-view+json": {
              "version_major": 2,
              "version_minor": 0,
              "model_id": "c9abd6457e3e4a5fab2acbc64d7d304f"
            }
          },
          "metadata": {}
        },
        {
          "output_type": "stream",
          "name": "stdout",
          "text": [
            "0:\tlearn: 3.0849481\ttest: 3.0561517\tbest: 3.0561517 (0)\ttotal: 2.96s\tremaining: 24m 34s\n",
            "1:\tlearn: 2.9486033\ttest: 2.9207719\tbest: 2.9207719 (1)\ttotal: 5.49s\tremaining: 22m 46s\n",
            "2:\tlearn: 2.8322524\ttest: 2.8046675\tbest: 2.8046675 (2)\ttotal: 7.23s\tremaining: 19m 58s\n",
            "3:\tlearn: 2.7331558\ttest: 2.7070323\tbest: 2.7070323 (3)\ttotal: 9.35s\tremaining: 19m 19s\n",
            "4:\tlearn: 2.6480698\ttest: 2.6213338\tbest: 2.6213338 (4)\ttotal: 11.1s\tremaining: 18m 15s\n",
            "5:\tlearn: 2.5755211\ttest: 2.5486228\tbest: 2.5486228 (5)\ttotal: 12.8s\tremaining: 17m 33s\n",
            "6:\tlearn: 2.5144413\ttest: 2.4878003\tbest: 2.4878003 (6)\ttotal: 14.7s\tremaining: 17m 13s\n",
            "7:\tlearn: 2.4634587\ttest: 2.4365211\tbest: 2.4365211 (7)\ttotal: 16.6s\tremaining: 17m 2s\n",
            "8:\tlearn: 2.4098380\ttest: 2.3813419\tbest: 2.3813419 (8)\ttotal: 19.8s\tremaining: 17m 58s\n",
            "9:\tlearn: 2.3636831\ttest: 2.3340540\tbest: 2.3340540 (9)\ttotal: 21.8s\tremaining: 17m 46s\n",
            "10:\tlearn: 2.3257600\ttest: 2.2961642\tbest: 2.2961642 (10)\ttotal: 24.2s\tremaining: 17m 55s\n",
            "11:\tlearn: 2.2929836\ttest: 2.2618934\tbest: 2.2618934 (11)\ttotal: 26.6s\tremaining: 18m 1s\n",
            "12:\tlearn: 2.2641690\ttest: 2.2304031\tbest: 2.2304031 (12)\ttotal: 28.6s\tremaining: 17m 50s\n",
            "13:\tlearn: 2.2397113\ttest: 2.2064683\tbest: 2.2064683 (13)\ttotal: 30.9s\tremaining: 17m 51s\n",
            "14:\tlearn: 2.2185712\ttest: 2.1850432\tbest: 2.1850432 (14)\ttotal: 33.5s\tremaining: 18m 3s\n",
            "15:\tlearn: 2.2006252\ttest: 2.1668508\tbest: 2.1668508 (15)\ttotal: 35.6s\tremaining: 17m 57s\n",
            "16:\tlearn: 2.1847013\ttest: 2.1500662\tbest: 2.1500662 (16)\ttotal: 37.8s\tremaining: 17m 52s\n",
            "17:\tlearn: 2.1714435\ttest: 2.1360519\tbest: 2.1360519 (17)\ttotal: 39.7s\tremaining: 17m 43s\n",
            "18:\tlearn: 2.1588292\ttest: 2.1240309\tbest: 2.1240309 (18)\ttotal: 41.8s\tremaining: 17m 38s\n",
            "19:\tlearn: 2.1486979\ttest: 2.1140402\tbest: 2.1140402 (19)\ttotal: 43.8s\tremaining: 17m 30s\n",
            "20:\tlearn: 2.1390931\ttest: 2.1049680\tbest: 2.1049680 (20)\ttotal: 46.3s\tremaining: 17m 35s\n",
            "21:\tlearn: 2.1310355\ttest: 2.0975233\tbest: 2.0975233 (21)\ttotal: 48.9s\tremaining: 17m 41s\n",
            "22:\tlearn: 2.1230056\ttest: 2.0901279\tbest: 2.0901279 (22)\ttotal: 50.8s\tremaining: 17m 33s\n",
            "23:\tlearn: 2.1152777\ttest: 2.0832453\tbest: 2.0832453 (23)\ttotal: 53s\tremaining: 17m 30s\n",
            "24:\tlearn: 2.1088277\ttest: 2.0773206\tbest: 2.0773206 (24)\ttotal: 55.1s\tremaining: 17m 26s\n",
            "25:\tlearn: 2.1024436\ttest: 2.0722584\tbest: 2.0722584 (25)\ttotal: 57.1s\tremaining: 17m 21s\n",
            "26:\tlearn: 2.0965646\ttest: 2.0670390\tbest: 2.0670390 (26)\ttotal: 59.1s\tremaining: 17m 16s\n",
            "27:\tlearn: 2.0908490\ttest: 2.0629532\tbest: 2.0629532 (27)\ttotal: 1m 1s\tremaining: 17m 21s\n",
            "28:\tlearn: 2.0862128\ttest: 2.0589076\tbest: 2.0589076 (28)\ttotal: 1m 4s\tremaining: 17m 23s\n",
            "29:\tlearn: 2.0809946\ttest: 2.0555170\tbest: 2.0555170 (29)\ttotal: 1m 6s\tremaining: 17m 20s\n",
            "30:\tlearn: 2.0767770\ttest: 2.0523537\tbest: 2.0523537 (30)\ttotal: 1m 8s\tremaining: 17m 16s\n",
            "31:\tlearn: 2.0738548\ttest: 2.0492701\tbest: 2.0492701 (31)\ttotal: 1m 10s\tremaining: 17m 11s\n",
            "32:\tlearn: 2.0713995\ttest: 2.0468167\tbest: 2.0468167 (32)\ttotal: 1m 12s\tremaining: 17m 3s\n",
            "33:\tlearn: 2.0685335\ttest: 2.0442683\tbest: 2.0442683 (33)\ttotal: 1m 14s\tremaining: 17m 2s\n",
            "34:\tlearn: 2.0664495\ttest: 2.0419714\tbest: 2.0419714 (34)\ttotal: 1m 17s\tremaining: 17m 4s\n",
            "35:\tlearn: 2.0648609\ttest: 2.0400026\tbest: 2.0400026 (35)\ttotal: 1m 19s\tremaining: 17m 2s\n",
            "36:\tlearn: 2.0621956\ttest: 2.0379379\tbest: 2.0379379 (36)\ttotal: 1m 21s\tremaining: 16m 59s\n",
            "37:\tlearn: 2.0595745\ttest: 2.0361917\tbest: 2.0361917 (37)\ttotal: 1m 23s\tremaining: 16m 58s\n",
            "38:\tlearn: 2.0565562\ttest: 2.0343692\tbest: 2.0343692 (38)\ttotal: 1m 26s\tremaining: 16m 57s\n",
            "39:\tlearn: 2.0549798\ttest: 2.0326374\tbest: 2.0326374 (39)\ttotal: 1m 28s\tremaining: 16m 54s\n",
            "40:\tlearn: 2.0535499\ttest: 2.0311965\tbest: 2.0311965 (40)\ttotal: 1m 30s\tremaining: 16m 54s\n",
            "41:\tlearn: 2.0522950\ttest: 2.0298698\tbest: 2.0298698 (41)\ttotal: 1m 32s\tremaining: 16m 53s\n",
            "42:\tlearn: 2.0500462\ttest: 2.0281939\tbest: 2.0281939 (42)\ttotal: 1m 35s\tremaining: 16m 50s\n",
            "43:\tlearn: 2.0484666\ttest: 2.0270668\tbest: 2.0270668 (43)\ttotal: 1m 37s\tremaining: 16m 46s\n",
            "44:\tlearn: 2.0474032\ttest: 2.0258352\tbest: 2.0258352 (44)\ttotal: 1m 39s\tremaining: 16m 42s\n",
            "45:\tlearn: 2.0452053\ttest: 2.0244320\tbest: 2.0244320 (45)\ttotal: 1m 41s\tremaining: 16m 39s\n",
            "46:\tlearn: 2.0440211\ttest: 2.0233417\tbest: 2.0233417 (46)\ttotal: 1m 43s\tremaining: 16m 36s\n",
            "47:\tlearn: 2.0429033\ttest: 2.0223322\tbest: 2.0223322 (47)\ttotal: 1m 46s\tremaining: 16m 38s\n",
            "48:\tlearn: 2.0416544\ttest: 2.0215803\tbest: 2.0215803 (48)\ttotal: 1m 48s\tremaining: 16m 36s\n",
            "49:\tlearn: 2.0402389\ttest: 2.0204667\tbest: 2.0204667 (49)\ttotal: 1m 50s\tremaining: 16m 31s\n",
            "50:\tlearn: 2.0389651\ttest: 2.0196817\tbest: 2.0196817 (50)\ttotal: 1m 52s\tremaining: 16m 27s\n",
            "51:\tlearn: 2.0380469\ttest: 2.0188763\tbest: 2.0188763 (51)\ttotal: 1m 54s\tremaining: 16m 22s\n",
            "52:\tlearn: 2.0365361\ttest: 2.0179128\tbest: 2.0179128 (52)\ttotal: 1m 56s\tremaining: 16m 18s\n",
            "53:\tlearn: 2.0348380\ttest: 2.0168620\tbest: 2.0168620 (53)\ttotal: 1m 58s\tremaining: 16m 17s\n",
            "54:\tlearn: 2.0333664\ttest: 2.0160024\tbest: 2.0160024 (54)\ttotal: 2m 1s\tremaining: 16m 19s\n",
            "55:\tlearn: 2.0316866\ttest: 2.0151169\tbest: 2.0151169 (55)\ttotal: 2m 4s\tremaining: 16m 23s\n",
            "56:\tlearn: 2.0299799\ttest: 2.0143940\tbest: 2.0143940 (56)\ttotal: 2m 6s\tremaining: 16m 20s\n",
            "57:\tlearn: 2.0285062\ttest: 2.0134561\tbest: 2.0134561 (57)\ttotal: 2m 8s\tremaining: 16m 17s\n",
            "58:\tlearn: 2.0265364\ttest: 2.0126533\tbest: 2.0126533 (58)\ttotal: 2m 10s\tremaining: 16m 15s\n",
            "59:\tlearn: 2.0241404\ttest: 2.0121659\tbest: 2.0121659 (59)\ttotal: 2m 13s\tremaining: 16m 15s\n",
            "60:\tlearn: 2.0226197\ttest: 2.0114012\tbest: 2.0114012 (60)\ttotal: 2m 15s\tremaining: 16m 17s\n",
            "61:\tlearn: 2.0212130\ttest: 2.0106087\tbest: 2.0106087 (61)\ttotal: 2m 18s\tremaining: 16m 14s\n",
            "62:\tlearn: 2.0200909\ttest: 2.0099968\tbest: 2.0099968 (62)\ttotal: 2m 20s\tremaining: 16m 11s\n",
            "63:\tlearn: 2.0192629\ttest: 2.0094610\tbest: 2.0094610 (63)\ttotal: 2m 22s\tremaining: 16m 8s\n",
            "64:\tlearn: 2.0174319\ttest: 2.0088225\tbest: 2.0088225 (64)\ttotal: 2m 24s\tremaining: 16m 5s\n",
            "65:\tlearn: 2.0165416\ttest: 2.0083313\tbest: 2.0083313 (65)\ttotal: 2m 26s\tremaining: 16m 3s\n",
            "66:\tlearn: 2.0155586\ttest: 2.0079541\tbest: 2.0079541 (66)\ttotal: 2m 29s\tremaining: 16m 5s\n",
            "67:\tlearn: 2.0144554\ttest: 2.0073540\tbest: 2.0073540 (67)\ttotal: 2m 31s\tremaining: 16m 4s\n",
            "68:\tlearn: 2.0136931\ttest: 2.0067597\tbest: 2.0067597 (68)\ttotal: 2m 34s\tremaining: 16m 2s\n",
            "69:\tlearn: 2.0124607\ttest: 2.0062437\tbest: 2.0062437 (69)\ttotal: 2m 36s\tremaining: 15m 59s\n",
            "70:\tlearn: 2.0114422\ttest: 2.0057828\tbest: 2.0057828 (70)\ttotal: 2m 38s\tremaining: 15m 57s\n",
            "71:\tlearn: 2.0103475\ttest: 2.0051996\tbest: 2.0051996 (71)\ttotal: 2m 40s\tremaining: 15m 52s\n",
            "72:\tlearn: 2.0093354\ttest: 2.0048703\tbest: 2.0048703 (72)\ttotal: 2m 42s\tremaining: 15m 50s\n",
            "73:\tlearn: 2.0084734\ttest: 2.0042023\tbest: 2.0042023 (73)\ttotal: 2m 44s\tremaining: 15m 49s\n",
            "74:\tlearn: 2.0071800\ttest: 2.0033497\tbest: 2.0033497 (74)\ttotal: 2m 47s\tremaining: 15m 47s\n",
            "75:\tlearn: 2.0056521\ttest: 2.0026237\tbest: 2.0026237 (75)\ttotal: 2m 49s\tremaining: 15m 46s\n",
            "76:\tlearn: 2.0047533\ttest: 2.0021872\tbest: 2.0021872 (76)\ttotal: 2m 51s\tremaining: 15m 42s\n",
            "77:\tlearn: 2.0038159\ttest: 2.0015980\tbest: 2.0015980 (77)\ttotal: 2m 53s\tremaining: 15m 40s\n",
            "78:\tlearn: 2.0027146\ttest: 2.0010491\tbest: 2.0010491 (78)\ttotal: 2m 56s\tremaining: 15m 39s\n",
            "79:\tlearn: 2.0008022\ttest: 2.0004753\tbest: 2.0004753 (79)\ttotal: 2m 59s\tremaining: 15m 41s\n",
            "80:\tlearn: 1.9997308\ttest: 2.0000643\tbest: 2.0000643 (80)\ttotal: 3m 1s\tremaining: 15m 39s\n",
            "81:\tlearn: 1.9976360\ttest: 1.9999180\tbest: 1.9999180 (81)\ttotal: 3m 3s\tremaining: 15m 37s\n",
            "82:\tlearn: 1.9961216\ttest: 1.9993509\tbest: 1.9993509 (82)\ttotal: 3m 6s\tremaining: 15m 35s\n",
            "83:\tlearn: 1.9954810\ttest: 1.9990326\tbest: 1.9990326 (83)\ttotal: 3m 8s\tremaining: 15m 32s\n",
            "84:\tlearn: 1.9948929\ttest: 1.9987746\tbest: 1.9987746 (84)\ttotal: 3m 10s\tremaining: 15m 30s\n",
            "85:\tlearn: 1.9944794\ttest: 1.9984613\tbest: 1.9984613 (85)\ttotal: 3m 13s\tremaining: 15m 29s\n",
            "86:\tlearn: 1.9934684\ttest: 1.9980547\tbest: 1.9980547 (86)\ttotal: 3m 15s\tremaining: 15m 28s\n",
            "87:\tlearn: 1.9925726\ttest: 1.9977098\tbest: 1.9977098 (87)\ttotal: 3m 17s\tremaining: 15m 24s\n",
            "88:\tlearn: 1.9913980\ttest: 1.9972657\tbest: 1.9972657 (88)\ttotal: 3m 19s\tremaining: 15m 21s\n",
            "89:\tlearn: 1.9909436\ttest: 1.9968493\tbest: 1.9968493 (89)\ttotal: 3m 21s\tremaining: 15m 18s\n",
            "90:\tlearn: 1.9899071\ttest: 1.9966676\tbest: 1.9966676 (90)\ttotal: 3m 23s\tremaining: 15m 16s\n",
            "91:\tlearn: 1.9884973\ttest: 1.9961864\tbest: 1.9961864 (91)\ttotal: 3m 26s\tremaining: 15m 15s\n",
            "92:\tlearn: 1.9868844\ttest: 1.9959246\tbest: 1.9959246 (92)\ttotal: 3m 29s\tremaining: 15m 16s\n",
            "93:\tlearn: 1.9860730\ttest: 1.9955793\tbest: 1.9955793 (93)\ttotal: 3m 31s\tremaining: 15m 13s\n",
            "94:\tlearn: 1.9849022\ttest: 1.9953354\tbest: 1.9953354 (94)\ttotal: 3m 33s\tremaining: 15m 11s\n",
            "95:\tlearn: 1.9843653\ttest: 1.9950776\tbest: 1.9950776 (95)\ttotal: 3m 35s\tremaining: 15m 7s\n",
            "96:\tlearn: 1.9838043\ttest: 1.9948182\tbest: 1.9948182 (96)\ttotal: 3m 37s\tremaining: 15m 5s\n",
            "97:\tlearn: 1.9828633\ttest: 1.9944350\tbest: 1.9944350 (97)\ttotal: 3m 41s\tremaining: 15m 8s\n",
            "98:\tlearn: 1.9815595\ttest: 1.9942935\tbest: 1.9942935 (98)\ttotal: 3m 44s\tremaining: 15m 8s\n",
            "99:\tlearn: 1.9808741\ttest: 1.9938539\tbest: 1.9938539 (99)\ttotal: 3m 46s\tremaining: 15m 4s\n",
            "100:\tlearn: 1.9800547\ttest: 1.9934788\tbest: 1.9934788 (100)\ttotal: 3m 48s\tremaining: 15m 1s\n",
            "101:\tlearn: 1.9792560\ttest: 1.9932830\tbest: 1.9932830 (101)\ttotal: 3m 50s\tremaining: 14m 58s\n",
            "102:\tlearn: 1.9781816\ttest: 1.9929083\tbest: 1.9929083 (102)\ttotal: 3m 53s\tremaining: 14m 58s\n",
            "103:\tlearn: 1.9763036\ttest: 1.9925724\tbest: 1.9925724 (103)\ttotal: 3m 56s\tremaining: 15m\n",
            "104:\tlearn: 1.9753370\ttest: 1.9922461\tbest: 1.9922461 (104)\ttotal: 3m 59s\tremaining: 14m 59s\n",
            "105:\tlearn: 1.9739442\ttest: 1.9920486\tbest: 1.9920486 (105)\ttotal: 4m 1s\tremaining: 14m 56s\n",
            "106:\tlearn: 1.9732541\ttest: 1.9918088\tbest: 1.9918088 (106)\ttotal: 4m 3s\tremaining: 14m 53s\n",
            "107:\tlearn: 1.9717302\ttest: 1.9916136\tbest: 1.9916136 (107)\ttotal: 4m 7s\tremaining: 14m 56s\n",
            "108:\tlearn: 1.9707875\ttest: 1.9914129\tbest: 1.9914129 (108)\ttotal: 4m 10s\tremaining: 14m 59s\n",
            "109:\tlearn: 1.9698470\ttest: 1.9910882\tbest: 1.9910882 (109)\ttotal: 4m 13s\tremaining: 14m 58s\n",
            "110:\tlearn: 1.9691017\ttest: 1.9908198\tbest: 1.9908198 (110)\ttotal: 4m 16s\tremaining: 14m 59s\n",
            "111:\tlearn: 1.9682182\ttest: 1.9905910\tbest: 1.9905910 (111)\ttotal: 4m 18s\tremaining: 14m 56s\n",
            "112:\tlearn: 1.9666359\ttest: 1.9903742\tbest: 1.9903742 (112)\ttotal: 4m 20s\tremaining: 14m 52s\n",
            "113:\tlearn: 1.9657799\ttest: 1.9901608\tbest: 1.9901608 (113)\ttotal: 4m 23s\tremaining: 14m 51s\n",
            "114:\tlearn: 1.9640964\ttest: 1.9898778\tbest: 1.9898778 (114)\ttotal: 4m 26s\tremaining: 14m 50s\n",
            "115:\tlearn: 1.9635347\ttest: 1.9897131\tbest: 1.9897131 (115)\ttotal: 4m 28s\tremaining: 14m 49s\n",
            "116:\tlearn: 1.9631606\ttest: 1.9895018\tbest: 1.9895018 (116)\ttotal: 4m 30s\tremaining: 14m 46s\n",
            "117:\tlearn: 1.9626344\ttest: 1.9894419\tbest: 1.9894419 (117)\ttotal: 4m 32s\tremaining: 14m 43s\n",
            "118:\tlearn: 1.9622064\ttest: 1.9893553\tbest: 1.9893553 (118)\ttotal: 4m 34s\tremaining: 14m 40s\n",
            "119:\tlearn: 1.9613693\ttest: 1.9891445\tbest: 1.9891445 (119)\ttotal: 4m 36s\tremaining: 14m 36s\n",
            "120:\tlearn: 1.9609605\ttest: 1.9889483\tbest: 1.9889483 (120)\ttotal: 4m 39s\tremaining: 14m 34s\n",
            "121:\tlearn: 1.9591479\ttest: 1.9886555\tbest: 1.9886555 (121)\ttotal: 4m 42s\tremaining: 14m 33s\n",
            "122:\tlearn: 1.9584704\ttest: 1.9885349\tbest: 1.9885349 (122)\ttotal: 4m 44s\tremaining: 14m 31s\n",
            "123:\tlearn: 1.9569978\ttest: 1.9882446\tbest: 1.9882446 (123)\ttotal: 4m 46s\tremaining: 14m 28s\n",
            "124:\tlearn: 1.9563545\ttest: 1.9881071\tbest: 1.9881071 (124)\ttotal: 4m 48s\tremaining: 14m 26s\n",
            "125:\tlearn: 1.9552238\ttest: 1.9879563\tbest: 1.9879563 (125)\ttotal: 4m 50s\tremaining: 14m 23s\n",
            "126:\tlearn: 1.9539145\ttest: 1.9878457\tbest: 1.9878457 (126)\ttotal: 4m 53s\tremaining: 14m 21s\n",
            "127:\tlearn: 1.9534701\ttest: 1.9876999\tbest: 1.9876999 (127)\ttotal: 4m 55s\tremaining: 14m 20s\n",
            "128:\tlearn: 1.9527908\ttest: 1.9874177\tbest: 1.9874177 (128)\ttotal: 4m 58s\tremaining: 14m 17s\n",
            "129:\tlearn: 1.9520224\ttest: 1.9871900\tbest: 1.9871900 (129)\ttotal: 5m\tremaining: 14m 14s\n",
            "130:\tlearn: 1.9508071\ttest: 1.9871615\tbest: 1.9871615 (130)\ttotal: 5m 2s\tremaining: 14m 13s\n",
            "131:\tlearn: 1.9498627\ttest: 1.9870535\tbest: 1.9870535 (131)\ttotal: 5m 5s\tremaining: 14m 10s\n",
            "132:\tlearn: 1.9493427\ttest: 1.9869322\tbest: 1.9869322 (132)\ttotal: 5m 7s\tremaining: 14m 8s\n",
            "133:\tlearn: 1.9480512\ttest: 1.9868437\tbest: 1.9868437 (133)\ttotal: 5m 10s\tremaining: 14m 8s\n",
            "134:\tlearn: 1.9465239\ttest: 1.9866310\tbest: 1.9866310 (134)\ttotal: 5m 13s\tremaining: 14m 7s\n",
            "135:\tlearn: 1.9451534\ttest: 1.9864981\tbest: 1.9864981 (135)\ttotal: 5m 16s\tremaining: 14m 7s\n",
            "136:\tlearn: 1.9447693\ttest: 1.9864502\tbest: 1.9864502 (136)\ttotal: 5m 19s\tremaining: 14m 5s\n",
            "137:\tlearn: 1.9437582\ttest: 1.9862825\tbest: 1.9862825 (137)\ttotal: 5m 21s\tremaining: 14m 4s\n",
            "138:\tlearn: 1.9421593\ttest: 1.9862400\tbest: 1.9862400 (138)\ttotal: 5m 24s\tremaining: 14m 3s\n",
            "139:\tlearn: 1.9412896\ttest: 1.9859325\tbest: 1.9859325 (139)\ttotal: 5m 27s\tremaining: 14m 1s\n",
            "140:\tlearn: 1.9397324\ttest: 1.9857203\tbest: 1.9857203 (140)\ttotal: 5m 29s\tremaining: 13m 58s\n",
            "141:\tlearn: 1.9384144\ttest: 1.9856054\tbest: 1.9856054 (141)\ttotal: 5m 32s\tremaining: 13m 58s\n",
            "142:\tlearn: 1.9379935\ttest: 1.9855455\tbest: 1.9855455 (142)\ttotal: 5m 34s\tremaining: 13m 54s\n",
            "143:\tlearn: 1.9370810\ttest: 1.9853456\tbest: 1.9853456 (143)\ttotal: 5m 37s\tremaining: 13m 54s\n",
            "144:\tlearn: 1.9363903\ttest: 1.9852157\tbest: 1.9852157 (144)\ttotal: 5m 40s\tremaining: 13m 52s\n",
            "145:\tlearn: 1.9356123\ttest: 1.9851610\tbest: 1.9851610 (145)\ttotal: 5m 42s\tremaining: 13m 50s\n",
            "146:\tlearn: 1.9339389\ttest: 1.9850302\tbest: 1.9850302 (146)\ttotal: 5m 45s\tremaining: 13m 49s\n",
            "147:\tlearn: 1.9315676\ttest: 1.9849022\tbest: 1.9849022 (147)\ttotal: 5m 47s\tremaining: 13m 47s\n",
            "148:\tlearn: 1.9301188\ttest: 1.9847038\tbest: 1.9847038 (148)\ttotal: 5m 50s\tremaining: 13m 45s\n",
            "149:\tlearn: 1.9295458\ttest: 1.9845458\tbest: 1.9845458 (149)\ttotal: 5m 53s\tremaining: 13m 44s\n",
            "150:\tlearn: 1.9281562\ttest: 1.9845285\tbest: 1.9845285 (150)\ttotal: 5m 56s\tremaining: 13m 43s\n",
            "151:\tlearn: 1.9276233\ttest: 1.9844012\tbest: 1.9844012 (151)\ttotal: 5m 58s\tremaining: 13m 39s\n",
            "152:\tlearn: 1.9264074\ttest: 1.9842283\tbest: 1.9842283 (152)\ttotal: 6m\tremaining: 13m 37s\n",
            "153:\tlearn: 1.9258715\ttest: 1.9839274\tbest: 1.9839274 (153)\ttotal: 6m 2s\tremaining: 13m 34s\n",
            "154:\tlearn: 1.9251938\ttest: 1.9837844\tbest: 1.9837844 (154)\ttotal: 6m 6s\tremaining: 13m 35s\n",
            "155:\tlearn: 1.9245722\ttest: 1.9838134\tbest: 1.9837844 (154)\ttotal: 6m 10s\tremaining: 13m 36s\n",
            "156:\tlearn: 1.9230937\ttest: 1.9837212\tbest: 1.9837212 (156)\ttotal: 6m 12s\tremaining: 13m 34s\n",
            "157:\tlearn: 1.9225578\ttest: 1.9834060\tbest: 1.9834060 (157)\ttotal: 6m 15s\tremaining: 13m 32s\n",
            "158:\tlearn: 1.9219335\ttest: 1.9833292\tbest: 1.9833292 (158)\ttotal: 6m 17s\tremaining: 13m 29s\n",
            "159:\tlearn: 1.9206751\ttest: 1.9832111\tbest: 1.9832111 (159)\ttotal: 6m 20s\tremaining: 13m 29s\n",
            "160:\tlearn: 1.9197842\ttest: 1.9830736\tbest: 1.9830736 (160)\ttotal: 6m 23s\tremaining: 13m 27s\n",
            "161:\tlearn: 1.9191188\ttest: 1.9831038\tbest: 1.9830736 (160)\ttotal: 6m 26s\tremaining: 13m 25s\n",
            "162:\tlearn: 1.9180500\ttest: 1.9829879\tbest: 1.9829879 (162)\ttotal: 6m 29s\tremaining: 13m 25s\n",
            "163:\tlearn: 1.9164055\ttest: 1.9829175\tbest: 1.9829175 (163)\ttotal: 6m 32s\tremaining: 13m 23s\n",
            "164:\tlearn: 1.9154015\ttest: 1.9828319\tbest: 1.9828319 (164)\ttotal: 6m 35s\tremaining: 13m 23s\n",
            "165:\tlearn: 1.9147178\ttest: 1.9826479\tbest: 1.9826479 (165)\ttotal: 6m 38s\tremaining: 13m 21s\n",
            "166:\tlearn: 1.9136387\ttest: 1.9826269\tbest: 1.9826269 (166)\ttotal: 6m 41s\tremaining: 13m 19s\n",
            "167:\tlearn: 1.9129918\ttest: 1.9824905\tbest: 1.9824905 (167)\ttotal: 6m 43s\tremaining: 13m 17s\n",
            "168:\tlearn: 1.9124528\ttest: 1.9823757\tbest: 1.9823757 (168)\ttotal: 6m 45s\tremaining: 13m 14s\n",
            "169:\tlearn: 1.9112856\ttest: 1.9823011\tbest: 1.9823011 (169)\ttotal: 6m 48s\tremaining: 13m 12s\n",
            "170:\tlearn: 1.9107930\ttest: 1.9823082\tbest: 1.9823011 (169)\ttotal: 6m 50s\tremaining: 13m 9s\n",
            "171:\tlearn: 1.9099414\ttest: 1.9822160\tbest: 1.9822160 (171)\ttotal: 6m 53s\tremaining: 13m 8s\n",
            "172:\tlearn: 1.9089296\ttest: 1.9821189\tbest: 1.9821189 (172)\ttotal: 6m 56s\tremaining: 13m 7s\n",
            "173:\tlearn: 1.9080330\ttest: 1.9821046\tbest: 1.9821046 (173)\ttotal: 6m 59s\tremaining: 13m 5s\n",
            "174:\tlearn: 1.9072269\ttest: 1.9819720\tbest: 1.9819720 (174)\ttotal: 7m 2s\tremaining: 13m 3s\n",
            "175:\tlearn: 1.9065124\ttest: 1.9818718\tbest: 1.9818718 (175)\ttotal: 7m 5s\tremaining: 13m 2s\n",
            "176:\tlearn: 1.9062333\ttest: 1.9817505\tbest: 1.9817505 (176)\ttotal: 7m 7s\tremaining: 13m\n",
            "177:\tlearn: 1.9055384\ttest: 1.9816717\tbest: 1.9816717 (177)\ttotal: 7m 11s\tremaining: 13m\n",
            "178:\tlearn: 1.9049759\ttest: 1.9816448\tbest: 1.9816448 (178)\ttotal: 7m 13s\tremaining: 12m 57s\n",
            "179:\tlearn: 1.9037344\ttest: 1.9816177\tbest: 1.9816177 (179)\ttotal: 7m 16s\tremaining: 12m 56s\n",
            "180:\tlearn: 1.9022562\ttest: 1.9815634\tbest: 1.9815634 (180)\ttotal: 7m 20s\tremaining: 12m 55s\n",
            "181:\tlearn: 1.9015262\ttest: 1.9813469\tbest: 1.9813469 (181)\ttotal: 7m 22s\tremaining: 12m 53s\n",
            "182:\tlearn: 1.9004696\ttest: 1.9812421\tbest: 1.9812421 (182)\ttotal: 7m 24s\tremaining: 12m 50s\n",
            "183:\tlearn: 1.8988242\ttest: 1.9813159\tbest: 1.9812421 (182)\ttotal: 7m 27s\tremaining: 12m 48s\n",
            "184:\tlearn: 1.8980211\ttest: 1.9812369\tbest: 1.9812369 (184)\ttotal: 7m 30s\tremaining: 12m 46s\n",
            "185:\tlearn: 1.8967251\ttest: 1.9811449\tbest: 1.9811449 (185)\ttotal: 7m 34s\tremaining: 12m 46s\n",
            "186:\tlearn: 1.8958967\ttest: 1.9810182\tbest: 1.9810182 (186)\ttotal: 7m 37s\tremaining: 12m 44s\n",
            "187:\tlearn: 1.8937198\ttest: 1.9809172\tbest: 1.9809172 (187)\ttotal: 7m 39s\tremaining: 12m 43s\n",
            "188:\tlearn: 1.8933802\ttest: 1.9807492\tbest: 1.9807492 (188)\ttotal: 7m 41s\tremaining: 12m 40s\n",
            "189:\tlearn: 1.8925267\ttest: 1.9806472\tbest: 1.9806472 (189)\ttotal: 7m 45s\tremaining: 12m 39s\n",
            "190:\tlearn: 1.8917052\ttest: 1.9805295\tbest: 1.9805295 (190)\ttotal: 7m 48s\tremaining: 12m 38s\n",
            "191:\tlearn: 1.8912472\ttest: 1.9804316\tbest: 1.9804316 (191)\ttotal: 7m 51s\tremaining: 12m 36s\n",
            "192:\tlearn: 1.8905516\ttest: 1.9803552\tbest: 1.9803552 (192)\ttotal: 7m 54s\tremaining: 12m 34s\n",
            "193:\tlearn: 1.8898005\ttest: 1.9802974\tbest: 1.9802974 (193)\ttotal: 7m 56s\tremaining: 12m 32s\n",
            "194:\tlearn: 1.8886147\ttest: 1.9802717\tbest: 1.9802717 (194)\ttotal: 7m 59s\tremaining: 12m 30s\n",
            "195:\tlearn: 1.8877588\ttest: 1.9800952\tbest: 1.9800952 (195)\ttotal: 8m 2s\tremaining: 12m 28s\n",
            "196:\tlearn: 1.8866335\ttest: 1.9799408\tbest: 1.9799408 (196)\ttotal: 8m 5s\tremaining: 12m 26s\n",
            "197:\tlearn: 1.8859316\ttest: 1.9798598\tbest: 1.9798598 (197)\ttotal: 8m 8s\tremaining: 12m 25s\n",
            "198:\tlearn: 1.8849387\ttest: 1.9797429\tbest: 1.9797429 (198)\ttotal: 8m 10s\tremaining: 12m 22s\n",
            "199:\tlearn: 1.8837337\ttest: 1.9797484\tbest: 1.9797429 (198)\ttotal: 8m 13s\tremaining: 12m 19s\n",
            "200:\tlearn: 1.8824360\ttest: 1.9797892\tbest: 1.9797429 (198)\ttotal: 8m 16s\tremaining: 12m 19s\n",
            "201:\tlearn: 1.8811298\ttest: 1.9798619\tbest: 1.9797429 (198)\ttotal: 8m 20s\tremaining: 12m 18s\n",
            "202:\tlearn: 1.8804682\ttest: 1.9797557\tbest: 1.9797429 (198)\ttotal: 8m 22s\tremaining: 12m 15s\n",
            "203:\tlearn: 1.8790441\ttest: 1.9797026\tbest: 1.9797026 (203)\ttotal: 8m 25s\tremaining: 12m 13s\n",
            "204:\tlearn: 1.8786291\ttest: 1.9796407\tbest: 1.9796407 (204)\ttotal: 8m 27s\tremaining: 12m 10s\n",
            "205:\tlearn: 1.8774572\ttest: 1.9795588\tbest: 1.9795588 (205)\ttotal: 8m 30s\tremaining: 12m 8s\n",
            "206:\tlearn: 1.8767500\ttest: 1.9795116\tbest: 1.9795116 (206)\ttotal: 8m 33s\tremaining: 12m 7s\n",
            "207:\tlearn: 1.8761483\ttest: 1.9794718\tbest: 1.9794718 (207)\ttotal: 8m 36s\tremaining: 12m 4s\n",
            "208:\tlearn: 1.8753788\ttest: 1.9793515\tbest: 1.9793515 (208)\ttotal: 8m 38s\tremaining: 12m 2s\n",
            "209:\tlearn: 1.8749531\ttest: 1.9793016\tbest: 1.9793016 (209)\ttotal: 8m 41s\tremaining: 12m\n",
            "210:\tlearn: 1.8746542\ttest: 1.9792562\tbest: 1.9792562 (210)\ttotal: 8m 44s\tremaining: 11m 57s\n",
            "211:\tlearn: 1.8737067\ttest: 1.9792294\tbest: 1.9792294 (211)\ttotal: 8m 47s\tremaining: 11m 56s\n",
            "212:\tlearn: 1.8730023\ttest: 1.9791013\tbest: 1.9791013 (212)\ttotal: 8m 49s\tremaining: 11m 54s\n",
            "213:\tlearn: 1.8718818\ttest: 1.9790772\tbest: 1.9790772 (213)\ttotal: 8m 53s\tremaining: 11m 53s\n",
            "214:\tlearn: 1.8715380\ttest: 1.9789307\tbest: 1.9789307 (214)\ttotal: 8m 56s\tremaining: 11m 50s\n",
            "215:\tlearn: 1.8711482\ttest: 1.9788800\tbest: 1.9788800 (215)\ttotal: 8m 58s\tremaining: 11m 47s\n",
            "216:\tlearn: 1.8706534\ttest: 1.9787692\tbest: 1.9787692 (216)\ttotal: 9m 1s\tremaining: 11m 45s\n",
            "217:\tlearn: 1.8703452\ttest: 1.9786910\tbest: 1.9786910 (217)\ttotal: 9m 3s\tremaining: 11m 43s\n",
            "218:\tlearn: 1.8697676\ttest: 1.9786746\tbest: 1.9786746 (218)\ttotal: 9m 6s\tremaining: 11m 41s\n",
            "219:\tlearn: 1.8683402\ttest: 1.9785812\tbest: 1.9785812 (219)\ttotal: 9m 9s\tremaining: 11m 39s\n",
            "220:\tlearn: 1.8677062\ttest: 1.9784986\tbest: 1.9784986 (220)\ttotal: 9m 12s\tremaining: 11m 37s\n",
            "221:\tlearn: 1.8665234\ttest: 1.9784562\tbest: 1.9784562 (221)\ttotal: 9m 16s\tremaining: 11m 36s\n",
            "222:\tlearn: 1.8659642\ttest: 1.9783869\tbest: 1.9783869 (222)\ttotal: 9m 18s\tremaining: 11m 33s\n",
            "223:\tlearn: 1.8648671\ttest: 1.9782528\tbest: 1.9782528 (223)\ttotal: 9m 20s\tremaining: 11m 31s\n",
            "224:\tlearn: 1.8642187\ttest: 1.9781922\tbest: 1.9781922 (224)\ttotal: 9m 23s\tremaining: 11m 28s\n",
            "225:\tlearn: 1.8630256\ttest: 1.9782168\tbest: 1.9781922 (224)\ttotal: 9m 26s\tremaining: 11m 26s\n",
            "226:\tlearn: 1.8623008\ttest: 1.9782807\tbest: 1.9781922 (224)\ttotal: 9m 29s\tremaining: 11m 25s\n",
            "227:\tlearn: 1.8618081\ttest: 1.9782116\tbest: 1.9781922 (224)\ttotal: 9m 32s\tremaining: 11m 22s\n",
            "228:\tlearn: 1.8611386\ttest: 1.9781404\tbest: 1.9781404 (228)\ttotal: 9m 35s\tremaining: 11m 20s\n",
            "229:\tlearn: 1.8600085\ttest: 1.9781594\tbest: 1.9781404 (228)\ttotal: 9m 37s\tremaining: 11m 18s\n",
            "230:\tlearn: 1.8590497\ttest: 1.9779991\tbest: 1.9779991 (230)\ttotal: 9m 40s\tremaining: 11m 15s\n",
            "231:\tlearn: 1.8581461\ttest: 1.9778977\tbest: 1.9778977 (231)\ttotal: 9m 44s\tremaining: 11m 14s\n",
            "232:\tlearn: 1.8572032\ttest: 1.9778466\tbest: 1.9778466 (232)\ttotal: 9m 47s\tremaining: 11m 13s\n",
            "233:\tlearn: 1.8561598\ttest: 1.9778983\tbest: 1.9778466 (232)\ttotal: 9m 51s\tremaining: 11m 12s\n",
            "234:\tlearn: 1.8551242\ttest: 1.9778756\tbest: 1.9778466 (232)\ttotal: 9m 53s\tremaining: 11m 9s\n",
            "235:\tlearn: 1.8548577\ttest: 1.9777998\tbest: 1.9777998 (235)\ttotal: 9m 58s\tremaining: 11m 9s\n",
            "236:\tlearn: 1.8542672\ttest: 1.9777156\tbest: 1.9777156 (236)\ttotal: 10m 1s\tremaining: 11m 7s\n",
            "237:\tlearn: 1.8534055\ttest: 1.9776235\tbest: 1.9776235 (237)\ttotal: 10m 4s\tremaining: 11m 5s\n",
            "238:\tlearn: 1.8527391\ttest: 1.9776168\tbest: 1.9776168 (238)\ttotal: 10m 6s\tremaining: 11m 2s\n",
            "239:\tlearn: 1.8517415\ttest: 1.9776180\tbest: 1.9776168 (238)\ttotal: 10m 9s\tremaining: 11m\n",
            "240:\tlearn: 1.8505142\ttest: 1.9775425\tbest: 1.9775425 (240)\ttotal: 10m 13s\tremaining: 10m 59s\n",
            "241:\tlearn: 1.8500415\ttest: 1.9774518\tbest: 1.9774518 (241)\ttotal: 10m 16s\tremaining: 10m 56s\n",
            "242:\tlearn: 1.8489678\ttest: 1.9774058\tbest: 1.9774058 (242)\ttotal: 10m 18s\tremaining: 10m 54s\n",
            "243:\tlearn: 1.8482689\ttest: 1.9774029\tbest: 1.9774029 (243)\ttotal: 10m 21s\tremaining: 10m 51s\n",
            "244:\tlearn: 1.8474174\ttest: 1.9773781\tbest: 1.9773781 (244)\ttotal: 10m 24s\tremaining: 10m 49s\n",
            "245:\tlearn: 1.8470864\ttest: 1.9773192\tbest: 1.9773192 (245)\ttotal: 10m 28s\tremaining: 10m 49s\n",
            "246:\tlearn: 1.8465621\ttest: 1.9772400\tbest: 1.9772400 (246)\ttotal: 10m 30s\tremaining: 10m 46s\n",
            "247:\tlearn: 1.8459388\ttest: 1.9771581\tbest: 1.9771581 (247)\ttotal: 10m 33s\tremaining: 10m 43s\n",
            "248:\tlearn: 1.8444322\ttest: 1.9770751\tbest: 1.9770751 (248)\ttotal: 10m 35s\tremaining: 10m 41s\n",
            "249:\tlearn: 1.8432610\ttest: 1.9770472\tbest: 1.9770472 (249)\ttotal: 10m 38s\tremaining: 10m 38s\n",
            "250:\tlearn: 1.8420819\ttest: 1.9771047\tbest: 1.9770472 (249)\ttotal: 10m 41s\tremaining: 10m 35s\n",
            "251:\tlearn: 1.8413023\ttest: 1.9770637\tbest: 1.9770472 (249)\ttotal: 10m 43s\tremaining: 10m 33s\n",
            "252:\tlearn: 1.8406125\ttest: 1.9769845\tbest: 1.9769845 (252)\ttotal: 10m 46s\tremaining: 10m 31s\n",
            "253:\tlearn: 1.8400183\ttest: 1.9769528\tbest: 1.9769528 (253)\ttotal: 10m 48s\tremaining: 10m 28s\n",
            "254:\tlearn: 1.8391906\ttest: 1.9768552\tbest: 1.9768552 (254)\ttotal: 10m 50s\tremaining: 10m 25s\n",
            "255:\tlearn: 1.8390362\ttest: 1.9768293\tbest: 1.9768293 (255)\ttotal: 10m 53s\tremaining: 10m 22s\n",
            "256:\tlearn: 1.8378183\ttest: 1.9768990\tbest: 1.9768293 (255)\ttotal: 10m 56s\tremaining: 10m 20s\n",
            "257:\tlearn: 1.8364199\ttest: 1.9769589\tbest: 1.9768293 (255)\ttotal: 10m 59s\tremaining: 10m 18s\n",
            "258:\tlearn: 1.8357045\ttest: 1.9768763\tbest: 1.9768293 (255)\ttotal: 11m 1s\tremaining: 10m 15s\n",
            "259:\tlearn: 1.8346057\ttest: 1.9768120\tbest: 1.9768120 (259)\ttotal: 11m 4s\tremaining: 10m 13s\n",
            "260:\tlearn: 1.8341879\ttest: 1.9767753\tbest: 1.9767753 (260)\ttotal: 11m 6s\tremaining: 10m 10s\n",
            "261:\tlearn: 1.8335891\ttest: 1.9767560\tbest: 1.9767560 (261)\ttotal: 11m 10s\tremaining: 10m 8s\n",
            "262:\tlearn: 1.8330853\ttest: 1.9767420\tbest: 1.9767420 (262)\ttotal: 11m 13s\tremaining: 10m 7s\n",
            "263:\tlearn: 1.8326033\ttest: 1.9766091\tbest: 1.9766091 (263)\ttotal: 11m 16s\tremaining: 10m 4s\n",
            "264:\tlearn: 1.8314161\ttest: 1.9767011\tbest: 1.9766091 (263)\ttotal: 11m 19s\tremaining: 10m 2s\n",
            "265:\tlearn: 1.8302619\ttest: 1.9767528\tbest: 1.9766091 (263)\ttotal: 11m 21s\tremaining: 9m 59s\n",
            "266:\tlearn: 1.8298842\ttest: 1.9767581\tbest: 1.9766091 (263)\ttotal: 11m 25s\tremaining: 9m 57s\n",
            "267:\tlearn: 1.8294211\ttest: 1.9767277\tbest: 1.9766091 (263)\ttotal: 11m 27s\tremaining: 9m 55s\n",
            "268:\tlearn: 1.8283449\ttest: 1.9767290\tbest: 1.9766091 (263)\ttotal: 11m 30s\tremaining: 9m 53s\n",
            "269:\tlearn: 1.8279967\ttest: 1.9766773\tbest: 1.9766091 (263)\ttotal: 11m 32s\tremaining: 9m 50s\n",
            "270:\tlearn: 1.8273867\ttest: 1.9766749\tbest: 1.9766091 (263)\ttotal: 11m 35s\tremaining: 9m 47s\n",
            "271:\tlearn: 1.8265154\ttest: 1.9765920\tbest: 1.9765920 (271)\ttotal: 11m 38s\tremaining: 9m 45s\n",
            "272:\tlearn: 1.8260442\ttest: 1.9765102\tbest: 1.9765102 (272)\ttotal: 11m 41s\tremaining: 9m 43s\n",
            "273:\tlearn: 1.8253366\ttest: 1.9764514\tbest: 1.9764514 (273)\ttotal: 11m 45s\tremaining: 9m 42s\n",
            "274:\tlearn: 1.8243065\ttest: 1.9765032\tbest: 1.9764514 (273)\ttotal: 11m 48s\tremaining: 9m 40s\n",
            "275:\tlearn: 1.8241303\ttest: 1.9764693\tbest: 1.9764514 (273)\ttotal: 11m 51s\tremaining: 9m 37s\n",
            "276:\tlearn: 1.8236088\ttest: 1.9764779\tbest: 1.9764514 (273)\ttotal: 11m 55s\tremaining: 9m 35s\n",
            "277:\tlearn: 1.8227528\ttest: 1.9764883\tbest: 1.9764514 (273)\ttotal: 11m 58s\tremaining: 9m 33s\n",
            "278:\tlearn: 1.8218953\ttest: 1.9764842\tbest: 1.9764514 (273)\ttotal: 12m 1s\tremaining: 9m 31s\n",
            "279:\tlearn: 1.8216761\ttest: 1.9765044\tbest: 1.9764514 (273)\ttotal: 12m 6s\tremaining: 9m 30s\n",
            "280:\tlearn: 1.8213020\ttest: 1.9764718\tbest: 1.9764514 (273)\ttotal: 12m 9s\tremaining: 9m 28s\n",
            "281:\tlearn: 1.8203561\ttest: 1.9763750\tbest: 1.9763750 (281)\ttotal: 12m 12s\tremaining: 9m 26s\n",
            "282:\tlearn: 1.8194036\ttest: 1.9763054\tbest: 1.9763054 (282)\ttotal: 12m 15s\tremaining: 9m 24s\n",
            "283:\tlearn: 1.8186717\ttest: 1.9763941\tbest: 1.9763054 (282)\ttotal: 12m 18s\tremaining: 9m 21s\n",
            "284:\tlearn: 1.8173223\ttest: 1.9764349\tbest: 1.9763054 (282)\ttotal: 12m 21s\tremaining: 9m 19s\n",
            "285:\tlearn: 1.8168745\ttest: 1.9764301\tbest: 1.9763054 (282)\ttotal: 12m 24s\tremaining: 9m 16s\n",
            "286:\tlearn: 1.8161426\ttest: 1.9764422\tbest: 1.9763054 (282)\ttotal: 12m 26s\tremaining: 9m 14s\n",
            "287:\tlearn: 1.8154997\ttest: 1.9763946\tbest: 1.9763054 (282)\ttotal: 12m 29s\tremaining: 9m 11s\n",
            "288:\tlearn: 1.8148605\ttest: 1.9763791\tbest: 1.9763054 (282)\ttotal: 12m 31s\tremaining: 9m 8s\n",
            "289:\tlearn: 1.8146109\ttest: 1.9763794\tbest: 1.9763054 (282)\ttotal: 12m 33s\tremaining: 9m 5s\n",
            "290:\tlearn: 1.8136346\ttest: 1.9762957\tbest: 1.9762957 (290)\ttotal: 12m 37s\tremaining: 9m 3s\n",
            "291:\tlearn: 1.8124875\ttest: 1.9762500\tbest: 1.9762500 (291)\ttotal: 12m 40s\tremaining: 9m 1s\n",
            "292:\tlearn: 1.8117230\ttest: 1.9762406\tbest: 1.9762406 (292)\ttotal: 12m 43s\tremaining: 8m 59s\n",
            "293:\tlearn: 1.8108786\ttest: 1.9762043\tbest: 1.9762043 (293)\ttotal: 12m 46s\tremaining: 8m 57s\n",
            "294:\tlearn: 1.8103810\ttest: 1.9761373\tbest: 1.9761373 (294)\ttotal: 12m 49s\tremaining: 8m 54s\n",
            "295:\tlearn: 1.8094363\ttest: 1.9760422\tbest: 1.9760422 (295)\ttotal: 12m 53s\tremaining: 8m 53s\n",
            "296:\tlearn: 1.8084655\ttest: 1.9759783\tbest: 1.9759783 (296)\ttotal: 12m 56s\tremaining: 8m 50s\n",
            "297:\tlearn: 1.8076989\ttest: 1.9759426\tbest: 1.9759426 (297)\ttotal: 12m 59s\tremaining: 8m 48s\n",
            "298:\tlearn: 1.8065843\ttest: 1.9759910\tbest: 1.9759426 (297)\ttotal: 13m 1s\tremaining: 8m 45s\n",
            "299:\tlearn: 1.8051260\ttest: 1.9760120\tbest: 1.9759426 (297)\ttotal: 13m 4s\tremaining: 8m 42s\n",
            "300:\tlearn: 1.8044749\ttest: 1.9760250\tbest: 1.9759426 (297)\ttotal: 13m 7s\tremaining: 8m 40s\n",
            "301:\tlearn: 1.8035499\ttest: 1.9760694\tbest: 1.9759426 (297)\ttotal: 13m 9s\tremaining: 8m 37s\n",
            "302:\tlearn: 1.8030464\ttest: 1.9760099\tbest: 1.9759426 (297)\ttotal: 13m 13s\tremaining: 8m 35s\n",
            "303:\tlearn: 1.8023738\ttest: 1.9759454\tbest: 1.9759426 (297)\ttotal: 13m 15s\tremaining: 8m 32s\n",
            "304:\tlearn: 1.8016137\ttest: 1.9759377\tbest: 1.9759377 (304)\ttotal: 13m 18s\tremaining: 8m 30s\n",
            "305:\tlearn: 1.8003124\ttest: 1.9759642\tbest: 1.9759377 (304)\ttotal: 13m 21s\tremaining: 8m 28s\n",
            "306:\tlearn: 1.7995414\ttest: 1.9758369\tbest: 1.9758369 (306)\ttotal: 13m 25s\tremaining: 8m 26s\n",
            "307:\tlearn: 1.7991157\ttest: 1.9757928\tbest: 1.9757928 (307)\ttotal: 13m 27s\tremaining: 8m 23s\n",
            "308:\tlearn: 1.7989904\ttest: 1.9757913\tbest: 1.9757913 (308)\ttotal: 13m 29s\tremaining: 8m 20s\n",
            "309:\tlearn: 1.7984535\ttest: 1.9758117\tbest: 1.9757913 (308)\ttotal: 13m 34s\tremaining: 8m 19s\n",
            "310:\tlearn: 1.7976479\ttest: 1.9758398\tbest: 1.9757913 (308)\ttotal: 13m 37s\tremaining: 8m 16s\n",
            "311:\tlearn: 1.7967934\ttest: 1.9758063\tbest: 1.9757913 (308)\ttotal: 13m 40s\tremaining: 8m 14s\n",
            "312:\tlearn: 1.7960108\ttest: 1.9757878\tbest: 1.9757878 (312)\ttotal: 13m 42s\tremaining: 8m 11s\n",
            "313:\tlearn: 1.7953545\ttest: 1.9757488\tbest: 1.9757488 (313)\ttotal: 13m 44s\tremaining: 8m 8s\n",
            "314:\tlearn: 1.7946855\ttest: 1.9757349\tbest: 1.9757349 (314)\ttotal: 13m 48s\tremaining: 8m 6s\n",
            "315:\tlearn: 1.7931416\ttest: 1.9757221\tbest: 1.9757221 (315)\ttotal: 13m 51s\tremaining: 8m 4s\n",
            "316:\tlearn: 1.7925860\ttest: 1.9757115\tbest: 1.9757115 (316)\ttotal: 13m 53s\tremaining: 8m 1s\n",
            "317:\tlearn: 1.7914995\ttest: 1.9756775\tbest: 1.9756775 (317)\ttotal: 13m 57s\tremaining: 7m 59s\n",
            "318:\tlearn: 1.7910402\ttest: 1.9756521\tbest: 1.9756521 (318)\ttotal: 14m\tremaining: 7m 56s\n",
            "319:\tlearn: 1.7903917\ttest: 1.9756061\tbest: 1.9756061 (319)\ttotal: 14m 3s\tremaining: 7m 54s\n",
            "320:\tlearn: 1.7898713\ttest: 1.9755727\tbest: 1.9755727 (320)\ttotal: 14m 6s\tremaining: 7m 52s\n",
            "321:\tlearn: 1.7895191\ttest: 1.9755639\tbest: 1.9755639 (321)\ttotal: 14m 10s\tremaining: 7m 50s\n",
            "322:\tlearn: 1.7891682\ttest: 1.9755330\tbest: 1.9755330 (322)\ttotal: 14m 13s\tremaining: 7m 47s\n",
            "323:\tlearn: 1.7880297\ttest: 1.9754992\tbest: 1.9754992 (323)\ttotal: 14m 16s\tremaining: 7m 45s\n",
            "324:\tlearn: 1.7875538\ttest: 1.9754850\tbest: 1.9754850 (324)\ttotal: 14m 19s\tremaining: 7m 42s\n",
            "325:\tlearn: 1.7872404\ttest: 1.9754696\tbest: 1.9754696 (325)\ttotal: 14m 21s\tremaining: 7m 39s\n",
            "326:\tlearn: 1.7866169\ttest: 1.9755277\tbest: 1.9754696 (325)\ttotal: 14m 24s\tremaining: 7m 37s\n",
            "327:\tlearn: 1.7860084\ttest: 1.9755412\tbest: 1.9754696 (325)\ttotal: 14m 27s\tremaining: 7m 34s\n",
            "328:\tlearn: 1.7856215\ttest: 1.9754631\tbest: 1.9754631 (328)\ttotal: 14m 29s\tremaining: 7m 32s\n",
            "329:\tlearn: 1.7848750\ttest: 1.9754150\tbest: 1.9754150 (329)\ttotal: 14m 33s\tremaining: 7m 29s\n",
            "330:\tlearn: 1.7841425\ttest: 1.9754336\tbest: 1.9754150 (329)\ttotal: 14m 36s\tremaining: 7m 27s\n",
            "331:\tlearn: 1.7833704\ttest: 1.9754066\tbest: 1.9754066 (331)\ttotal: 14m 38s\tremaining: 7m 24s\n",
            "332:\tlearn: 1.7826439\ttest: 1.9753389\tbest: 1.9753389 (332)\ttotal: 14m 40s\tremaining: 7m 21s\n",
            "333:\tlearn: 1.7822566\ttest: 1.9753514\tbest: 1.9753389 (332)\ttotal: 14m 44s\tremaining: 7m 19s\n",
            "334:\tlearn: 1.7813848\ttest: 1.9752763\tbest: 1.9752763 (334)\ttotal: 14m 46s\tremaining: 7m 16s\n",
            "335:\tlearn: 1.7806968\ttest: 1.9752235\tbest: 1.9752235 (335)\ttotal: 14m 50s\tremaining: 7m 14s\n",
            "336:\tlearn: 1.7801312\ttest: 1.9751732\tbest: 1.9751732 (336)\ttotal: 14m 53s\tremaining: 7m 12s\n",
            "337:\tlearn: 1.7796322\ttest: 1.9751294\tbest: 1.9751294 (337)\ttotal: 14m 55s\tremaining: 7m 9s\n",
            "338:\tlearn: 1.7791296\ttest: 1.9751658\tbest: 1.9751294 (337)\ttotal: 14m 57s\tremaining: 7m 6s\n",
            "339:\tlearn: 1.7786083\ttest: 1.9751409\tbest: 1.9751294 (337)\ttotal: 15m\tremaining: 7m 3s\n",
            "340:\tlearn: 1.7777464\ttest: 1.9750898\tbest: 1.9750898 (340)\ttotal: 15m 4s\tremaining: 7m 1s\n",
            "341:\tlearn: 1.7770537\ttest: 1.9750784\tbest: 1.9750784 (341)\ttotal: 15m 6s\tremaining: 6m 58s\n",
            "342:\tlearn: 1.7763351\ttest: 1.9750807\tbest: 1.9750784 (341)\ttotal: 15m 10s\tremaining: 6m 56s\n",
            "343:\tlearn: 1.7756100\ttest: 1.9750956\tbest: 1.9750784 (341)\ttotal: 15m 12s\tremaining: 6m 53s\n",
            "344:\tlearn: 1.7749583\ttest: 1.9751405\tbest: 1.9750784 (341)\ttotal: 15m 17s\tremaining: 6m 52s\n",
            "345:\tlearn: 1.7743193\ttest: 1.9751344\tbest: 1.9750784 (341)\ttotal: 15m 19s\tremaining: 6m 49s\n",
            "346:\tlearn: 1.7738945\ttest: 1.9751888\tbest: 1.9750784 (341)\ttotal: 15m 22s\tremaining: 6m 46s\n",
            "347:\tlearn: 1.7726154\ttest: 1.9752288\tbest: 1.9750784 (341)\ttotal: 15m 24s\tremaining: 6m 43s\n",
            "348:\tlearn: 1.7722251\ttest: 1.9752014\tbest: 1.9750784 (341)\ttotal: 15m 28s\tremaining: 6m 41s\n",
            "349:\tlearn: 1.7717552\ttest: 1.9752601\tbest: 1.9750784 (341)\ttotal: 15m 31s\tremaining: 6m 39s\n",
            "350:\tlearn: 1.7709023\ttest: 1.9752888\tbest: 1.9750784 (341)\ttotal: 15m 34s\tremaining: 6m 36s\n",
            "351:\tlearn: 1.7703573\ttest: 1.9752749\tbest: 1.9750784 (341)\ttotal: 15m 36s\tremaining: 6m 33s\n",
            "352:\tlearn: 1.7698047\ttest: 1.9752232\tbest: 1.9750784 (341)\ttotal: 15m 39s\tremaining: 6m 31s\n",
            "353:\tlearn: 1.7688594\ttest: 1.9752598\tbest: 1.9750784 (341)\ttotal: 15m 42s\tremaining: 6m 28s\n",
            "354:\tlearn: 1.7686573\ttest: 1.9752572\tbest: 1.9750784 (341)\ttotal: 15m 46s\tremaining: 6m 26s\n",
            "355:\tlearn: 1.7679529\ttest: 1.9752665\tbest: 1.9750784 (341)\ttotal: 15m 48s\tremaining: 6m 23s\n",
            "356:\tlearn: 1.7677443\ttest: 1.9752542\tbest: 1.9750784 (341)\ttotal: 15m 51s\tremaining: 6m 21s\n",
            "357:\tlearn: 1.7672483\ttest: 1.9752439\tbest: 1.9750784 (341)\ttotal: 15m 53s\tremaining: 6m 18s\n",
            "358:\tlearn: 1.7667803\ttest: 1.9752725\tbest: 1.9750784 (341)\ttotal: 15m 56s\tremaining: 6m 15s\n",
            "359:\tlearn: 1.7657951\ttest: 1.9752354\tbest: 1.9750784 (341)\ttotal: 16m\tremaining: 6m 13s\n",
            "360:\tlearn: 1.7649992\ttest: 1.9751859\tbest: 1.9750784 (341)\ttotal: 16m 3s\tremaining: 6m 10s\n",
            "361:\tlearn: 1.7643728\ttest: 1.9751497\tbest: 1.9750784 (341)\ttotal: 16m 5s\tremaining: 6m 8s\n",
            "362:\tlearn: 1.7635148\ttest: 1.9751545\tbest: 1.9750784 (341)\ttotal: 16m 8s\tremaining: 6m 5s\n",
            "363:\tlearn: 1.7627697\ttest: 1.9751578\tbest: 1.9750784 (341)\ttotal: 16m 12s\tremaining: 6m 3s\n",
            "364:\tlearn: 1.7618713\ttest: 1.9751030\tbest: 1.9750784 (341)\ttotal: 16m 15s\tremaining: 6m\n",
            "365:\tlearn: 1.7613195\ttest: 1.9750805\tbest: 1.9750784 (341)\ttotal: 16m 18s\tremaining: 5m 58s\n",
            "366:\tlearn: 1.7609072\ttest: 1.9750523\tbest: 1.9750523 (366)\ttotal: 16m 21s\tremaining: 5m 55s\n",
            "367:\tlearn: 1.7603252\ttest: 1.9750118\tbest: 1.9750118 (367)\ttotal: 16m 24s\tremaining: 5m 52s\n",
            "368:\tlearn: 1.7598102\ttest: 1.9749458\tbest: 1.9749458 (368)\ttotal: 16m 28s\tremaining: 5m 50s\n",
            "369:\tlearn: 1.7591340\ttest: 1.9749009\tbest: 1.9749009 (369)\ttotal: 16m 31s\tremaining: 5m 48s\n",
            "370:\tlearn: 1.7587520\ttest: 1.9749235\tbest: 1.9749009 (369)\ttotal: 16m 33s\tremaining: 5m 45s\n",
            "371:\tlearn: 1.7582546\ttest: 1.9749171\tbest: 1.9749009 (369)\ttotal: 16m 35s\tremaining: 5m 42s\n",
            "372:\tlearn: 1.7578552\ttest: 1.9749589\tbest: 1.9749009 (369)\ttotal: 16m 38s\tremaining: 5m 39s\n",
            "373:\tlearn: 1.7567528\ttest: 1.9750187\tbest: 1.9749009 (369)\ttotal: 16m 42s\tremaining: 5m 37s\n",
            "374:\tlearn: 1.7564045\ttest: 1.9749887\tbest: 1.9749009 (369)\ttotal: 16m 44s\tremaining: 5m 34s\n",
            "375:\tlearn: 1.7556242\ttest: 1.9749548\tbest: 1.9749009 (369)\ttotal: 16m 47s\tremaining: 5m 32s\n",
            "376:\tlearn: 1.7552447\ttest: 1.9749639\tbest: 1.9749009 (369)\ttotal: 16m 49s\tremaining: 5m 29s\n",
            "377:\tlearn: 1.7545032\ttest: 1.9750197\tbest: 1.9749009 (369)\ttotal: 16m 52s\tremaining: 5m 26s\n",
            "378:\tlearn: 1.7537050\ttest: 1.9749895\tbest: 1.9749009 (369)\ttotal: 16m 56s\tremaining: 5m 24s\n",
            "379:\tlearn: 1.7528466\ttest: 1.9750397\tbest: 1.9749009 (369)\ttotal: 17m\tremaining: 5m 22s\n",
            "380:\tlearn: 1.7527204\ttest: 1.9750125\tbest: 1.9749009 (369)\ttotal: 17m 2s\tremaining: 5m 19s\n",
            "381:\tlearn: 1.7523966\ttest: 1.9749636\tbest: 1.9749009 (369)\ttotal: 17m 6s\tremaining: 5m 16s\n",
            "382:\tlearn: 1.7517259\ttest: 1.9749249\tbest: 1.9749009 (369)\ttotal: 17m 11s\tremaining: 5m 15s\n",
            "383:\tlearn: 1.7511658\ttest: 1.9748851\tbest: 1.9748851 (383)\ttotal: 17m 13s\tremaining: 5m 12s\n",
            "384:\tlearn: 1.7501864\ttest: 1.9749192\tbest: 1.9748851 (383)\ttotal: 17m 16s\tremaining: 5m 9s\n",
            "385:\tlearn: 1.7494429\ttest: 1.9748609\tbest: 1.9748609 (385)\ttotal: 17m 20s\tremaining: 5m 7s\n",
            "386:\tlearn: 1.7487238\ttest: 1.9748662\tbest: 1.9748609 (385)\ttotal: 17m 23s\tremaining: 5m 4s\n",
            "387:\tlearn: 1.7482846\ttest: 1.9748868\tbest: 1.9748609 (385)\ttotal: 17m 26s\tremaining: 5m 2s\n",
            "388:\tlearn: 1.7476671\ttest: 1.9748665\tbest: 1.9748609 (385)\ttotal: 17m 29s\tremaining: 4m 59s\n",
            "389:\tlearn: 1.7475091\ttest: 1.9748583\tbest: 1.9748583 (389)\ttotal: 17m 31s\tremaining: 4m 56s\n",
            "390:\tlearn: 1.7468423\ttest: 1.9748255\tbest: 1.9748255 (390)\ttotal: 17m 34s\tremaining: 4m 53s\n",
            "391:\tlearn: 1.7465458\ttest: 1.9748254\tbest: 1.9748254 (391)\ttotal: 17m 36s\tremaining: 4m 51s\n",
            "392:\tlearn: 1.7462279\ttest: 1.9748219\tbest: 1.9748219 (392)\ttotal: 17m 40s\tremaining: 4m 48s\n",
            "393:\tlearn: 1.7450857\ttest: 1.9747522\tbest: 1.9747522 (393)\ttotal: 17m 43s\tremaining: 4m 46s\n",
            "394:\tlearn: 1.7444427\ttest: 1.9747612\tbest: 1.9747522 (393)\ttotal: 17m 46s\tremaining: 4m 43s\n",
            "395:\tlearn: 1.7436099\ttest: 1.9747407\tbest: 1.9747407 (395)\ttotal: 17m 49s\tremaining: 4m 40s\n",
            "396:\tlearn: 1.7428548\ttest: 1.9747274\tbest: 1.9747274 (396)\ttotal: 17m 52s\tremaining: 4m 38s\n",
            "397:\tlearn: 1.7417288\ttest: 1.9746943\tbest: 1.9746943 (397)\ttotal: 17m 56s\tremaining: 4m 35s\n",
            "398:\tlearn: 1.7406977\ttest: 1.9746969\tbest: 1.9746943 (397)\ttotal: 17m 58s\tremaining: 4m 33s\n",
            "399:\tlearn: 1.7399340\ttest: 1.9747414\tbest: 1.9746943 (397)\ttotal: 18m 1s\tremaining: 4m 30s\n",
            "400:\tlearn: 1.7398050\ttest: 1.9747334\tbest: 1.9746943 (397)\ttotal: 18m 3s\tremaining: 4m 27s\n",
            "401:\tlearn: 1.7393286\ttest: 1.9746615\tbest: 1.9746615 (401)\ttotal: 18m 6s\tremaining: 4m 24s\n",
            "402:\tlearn: 1.7389017\ttest: 1.9747021\tbest: 1.9746615 (401)\ttotal: 18m 9s\tremaining: 4m 22s\n",
            "403:\tlearn: 1.7384212\ttest: 1.9746689\tbest: 1.9746615 (401)\ttotal: 18m 11s\tremaining: 4m 19s\n",
            "404:\tlearn: 1.7372637\ttest: 1.9747238\tbest: 1.9746615 (401)\ttotal: 18m 14s\tremaining: 4m 16s\n",
            "405:\tlearn: 1.7370368\ttest: 1.9746820\tbest: 1.9746615 (401)\ttotal: 18m 18s\tremaining: 4m 14s\n",
            "406:\tlearn: 1.7365439\ttest: 1.9746821\tbest: 1.9746615 (401)\ttotal: 18m 21s\tremaining: 4m 11s\n",
            "407:\tlearn: 1.7357935\ttest: 1.9746582\tbest: 1.9746582 (407)\ttotal: 18m 25s\tremaining: 4m 9s\n",
            "408:\tlearn: 1.7352225\ttest: 1.9746752\tbest: 1.9746582 (407)\ttotal: 18m 28s\tremaining: 4m 6s\n",
            "409:\tlearn: 1.7346867\ttest: 1.9746690\tbest: 1.9746582 (407)\ttotal: 18m 31s\tremaining: 4m 3s\n",
            "410:\tlearn: 1.7345070\ttest: 1.9746619\tbest: 1.9746582 (407)\ttotal: 18m 33s\tremaining: 4m 1s\n",
            "411:\tlearn: 1.7336380\ttest: 1.9746793\tbest: 1.9746582 (407)\ttotal: 18m 37s\tremaining: 3m 58s\n",
            "412:\tlearn: 1.7333901\ttest: 1.9746322\tbest: 1.9746322 (412)\ttotal: 18m 39s\tremaining: 3m 55s\n",
            "413:\tlearn: 1.7328816\ttest: 1.9745913\tbest: 1.9745913 (413)\ttotal: 18m 42s\tremaining: 3m 53s\n",
            "414:\tlearn: 1.7326499\ttest: 1.9745779\tbest: 1.9745779 (414)\ttotal: 18m 46s\tremaining: 3m 50s\n",
            "415:\tlearn: 1.7323310\ttest: 1.9745600\tbest: 1.9745600 (415)\ttotal: 18m 49s\tremaining: 3m 48s\n",
            "416:\tlearn: 1.7318957\ttest: 1.9745564\tbest: 1.9745564 (416)\ttotal: 18m 52s\tremaining: 3m 45s\n",
            "417:\tlearn: 1.7312039\ttest: 1.9745680\tbest: 1.9745564 (416)\ttotal: 18m 56s\tremaining: 3m 42s\n",
            "418:\tlearn: 1.7305866\ttest: 1.9745935\tbest: 1.9745564 (416)\ttotal: 18m 58s\tremaining: 3m 40s\n",
            "419:\tlearn: 1.7300408\ttest: 1.9746746\tbest: 1.9745564 (416)\ttotal: 19m\tremaining: 3m 37s\n",
            "420:\tlearn: 1.7293963\ttest: 1.9746556\tbest: 1.9745564 (416)\ttotal: 19m 4s\tremaining: 3m 34s\n",
            "421:\tlearn: 1.7284231\ttest: 1.9746433\tbest: 1.9745564 (416)\ttotal: 19m 7s\tremaining: 3m 32s\n",
            "422:\tlearn: 1.7278524\ttest: 1.9746089\tbest: 1.9745564 (416)\ttotal: 19m 9s\tremaining: 3m 29s\n",
            "423:\tlearn: 1.7271294\ttest: 1.9745647\tbest: 1.9745564 (416)\ttotal: 19m 12s\tremaining: 3m 26s\n",
            "424:\tlearn: 1.7265987\ttest: 1.9745561\tbest: 1.9745561 (424)\ttotal: 19m 16s\tremaining: 3m 24s\n",
            "425:\tlearn: 1.7257591\ttest: 1.9745245\tbest: 1.9745245 (425)\ttotal: 19m 19s\tremaining: 3m 21s\n",
            "426:\tlearn: 1.7249960\ttest: 1.9745026\tbest: 1.9745026 (426)\ttotal: 19m 22s\tremaining: 3m 18s\n",
            "427:\tlearn: 1.7243516\ttest: 1.9745054\tbest: 1.9745026 (426)\ttotal: 19m 25s\tremaining: 3m 16s\n",
            "428:\tlearn: 1.7235904\ttest: 1.9745383\tbest: 1.9745026 (426)\ttotal: 19m 28s\tremaining: 3m 13s\n",
            "429:\tlearn: 1.7231692\ttest: 1.9745285\tbest: 1.9745026 (426)\ttotal: 19m 31s\tremaining: 3m 10s\n",
            "430:\tlearn: 1.7225848\ttest: 1.9745224\tbest: 1.9745026 (426)\ttotal: 19m 35s\tremaining: 3m 8s\n",
            "431:\tlearn: 1.7221305\ttest: 1.9745340\tbest: 1.9745026 (426)\ttotal: 19m 37s\tremaining: 3m 5s\n",
            "432:\tlearn: 1.7219103\ttest: 1.9745037\tbest: 1.9745026 (426)\ttotal: 19m 40s\tremaining: 3m 2s\n",
            "433:\tlearn: 1.7216870\ttest: 1.9745161\tbest: 1.9745026 (426)\ttotal: 19m 43s\tremaining: 2m 59s\n",
            "434:\tlearn: 1.7210951\ttest: 1.9744974\tbest: 1.9744974 (434)\ttotal: 19m 46s\tremaining: 2m 57s\n",
            "435:\tlearn: 1.7205038\ttest: 1.9745197\tbest: 1.9744974 (434)\ttotal: 19m 51s\tremaining: 2m 54s\n",
            "436:\tlearn: 1.7202520\ttest: 1.9744766\tbest: 1.9744766 (436)\ttotal: 19m 55s\tremaining: 2m 52s\n",
            "437:\tlearn: 1.7192298\ttest: 1.9744164\tbest: 1.9744164 (437)\ttotal: 19m 58s\tremaining: 2m 49s\n",
            "438:\tlearn: 1.7185143\ttest: 1.9743649\tbest: 1.9743649 (438)\ttotal: 20m 1s\tremaining: 2m 46s\n",
            "439:\tlearn: 1.7181691\ttest: 1.9743729\tbest: 1.9743649 (438)\ttotal: 20m 3s\tremaining: 2m 44s\n",
            "440:\tlearn: 1.7176327\ttest: 1.9743820\tbest: 1.9743649 (438)\ttotal: 20m 6s\tremaining: 2m 41s\n",
            "441:\tlearn: 1.7167040\ttest: 1.9743974\tbest: 1.9743649 (438)\ttotal: 20m 9s\tremaining: 2m 38s\n",
            "442:\tlearn: 1.7160730\ttest: 1.9743849\tbest: 1.9743649 (438)\ttotal: 20m 13s\tremaining: 2m 36s\n",
            "443:\tlearn: 1.7156561\ttest: 1.9743889\tbest: 1.9743649 (438)\ttotal: 20m 16s\tremaining: 2m 33s\n",
            "444:\tlearn: 1.7153920\ttest: 1.9743932\tbest: 1.9743649 (438)\ttotal: 20m 19s\tremaining: 2m 30s\n",
            "445:\tlearn: 1.7151237\ttest: 1.9743723\tbest: 1.9743649 (438)\ttotal: 20m 23s\tremaining: 2m 28s\n",
            "446:\tlearn: 1.7149412\ttest: 1.9743528\tbest: 1.9743528 (446)\ttotal: 20m 25s\tremaining: 2m 25s\n",
            "447:\tlearn: 1.7137716\ttest: 1.9744168\tbest: 1.9743528 (446)\ttotal: 20m 28s\tremaining: 2m 22s\n",
            "448:\tlearn: 1.7127778\ttest: 1.9744265\tbest: 1.9743528 (446)\ttotal: 20m 31s\tremaining: 2m 19s\n",
            "449:\tlearn: 1.7122954\ttest: 1.9743810\tbest: 1.9743528 (446)\ttotal: 20m 33s\tremaining: 2m 17s\n",
            "450:\tlearn: 1.7121658\ttest: 1.9743742\tbest: 1.9743528 (446)\ttotal: 20m 37s\tremaining: 2m 14s\n",
            "451:\tlearn: 1.7119215\ttest: 1.9743260\tbest: 1.9743260 (451)\ttotal: 20m 41s\tremaining: 2m 11s\n",
            "452:\tlearn: 1.7110735\ttest: 1.9743303\tbest: 1.9743260 (451)\ttotal: 20m 44s\tremaining: 2m 9s\n",
            "453:\tlearn: 1.7107437\ttest: 1.9743299\tbest: 1.9743260 (451)\ttotal: 20m 48s\tremaining: 2m 6s\n",
            "454:\tlearn: 1.7104360\ttest: 1.9743079\tbest: 1.9743079 (454)\ttotal: 20m 50s\tremaining: 2m 3s\n",
            "455:\tlearn: 1.7097129\ttest: 1.9742919\tbest: 1.9742919 (455)\ttotal: 20m 52s\tremaining: 2m\n",
            "456:\tlearn: 1.7089727\ttest: 1.9742669\tbest: 1.9742669 (456)\ttotal: 20m 55s\tremaining: 1m 58s\n",
            "457:\tlearn: 1.7088479\ttest: 1.9742719\tbest: 1.9742669 (456)\ttotal: 21m\tremaining: 1m 55s\n",
            "458:\tlearn: 1.7082141\ttest: 1.9742738\tbest: 1.9742669 (456)\ttotal: 21m 2s\tremaining: 1m 52s\n",
            "459:\tlearn: 1.7080061\ttest: 1.9742838\tbest: 1.9742669 (456)\ttotal: 21m 6s\tremaining: 1m 50s\n",
            "460:\tlearn: 1.7074718\ttest: 1.9742584\tbest: 1.9742584 (460)\ttotal: 21m 8s\tremaining: 1m 47s\n",
            "461:\tlearn: 1.7069920\ttest: 1.9742121\tbest: 1.9742121 (461)\ttotal: 21m 10s\tremaining: 1m 44s\n",
            "462:\tlearn: 1.7066931\ttest: 1.9741953\tbest: 1.9741953 (462)\ttotal: 21m 14s\tremaining: 1m 41s\n",
            "463:\tlearn: 1.7065766\ttest: 1.9741370\tbest: 1.9741370 (463)\ttotal: 21m 18s\tremaining: 1m 39s\n",
            "464:\tlearn: 1.7061747\ttest: 1.9742017\tbest: 1.9741370 (463)\ttotal: 21m 21s\tremaining: 1m 36s\n",
            "465:\tlearn: 1.7054483\ttest: 1.9741853\tbest: 1.9741370 (463)\ttotal: 21m 23s\tremaining: 1m 33s\n",
            "466:\tlearn: 1.7049235\ttest: 1.9742238\tbest: 1.9741370 (463)\ttotal: 21m 27s\tremaining: 1m 30s\n",
            "467:\tlearn: 1.7042720\ttest: 1.9741978\tbest: 1.9741370 (463)\ttotal: 21m 32s\tremaining: 1m 28s\n",
            "468:\tlearn: 1.7037467\ttest: 1.9742134\tbest: 1.9741370 (463)\ttotal: 21m 34s\tremaining: 1m 25s\n",
            "469:\tlearn: 1.7034023\ttest: 1.9741998\tbest: 1.9741370 (463)\ttotal: 21m 37s\tremaining: 1m 22s\n",
            "470:\tlearn: 1.7033012\ttest: 1.9742101\tbest: 1.9741370 (463)\ttotal: 21m 41s\tremaining: 1m 20s\n",
            "471:\tlearn: 1.7027389\ttest: 1.9742679\tbest: 1.9741370 (463)\ttotal: 21m 45s\tremaining: 1m 17s\n",
            "472:\tlearn: 1.7019637\ttest: 1.9742778\tbest: 1.9741370 (463)\ttotal: 21m 48s\tremaining: 1m 14s\n",
            "473:\tlearn: 1.7014746\ttest: 1.9742774\tbest: 1.9741370 (463)\ttotal: 21m 51s\tremaining: 1m 11s\n",
            "474:\tlearn: 1.7012394\ttest: 1.9742976\tbest: 1.9741370 (463)\ttotal: 21m 55s\tremaining: 1m 9s\n",
            "475:\tlearn: 1.7009421\ttest: 1.9743291\tbest: 1.9741370 (463)\ttotal: 21m 58s\tremaining: 1m 6s\n",
            "476:\tlearn: 1.7000270\ttest: 1.9743326\tbest: 1.9741370 (463)\ttotal: 22m\tremaining: 1m 3s\n",
            "477:\tlearn: 1.6994258\ttest: 1.9743308\tbest: 1.9741370 (463)\ttotal: 22m 3s\tremaining: 1m\n",
            "478:\tlearn: 1.6988656\ttest: 1.9743152\tbest: 1.9741370 (463)\ttotal: 22m 6s\tremaining: 58.1s\n",
            "479:\tlearn: 1.6982599\ttest: 1.9742908\tbest: 1.9741370 (463)\ttotal: 22m 10s\tremaining: 55.4s\n",
            "480:\tlearn: 1.6973655\ttest: 1.9743415\tbest: 1.9741370 (463)\ttotal: 22m 14s\tremaining: 52.7s\n",
            "481:\tlearn: 1.6969909\ttest: 1.9743637\tbest: 1.9741370 (463)\ttotal: 22m 16s\tremaining: 49.9s\n",
            "482:\tlearn: 1.6962227\ttest: 1.9743761\tbest: 1.9741370 (463)\ttotal: 22m 19s\tremaining: 47.2s\n",
            "483:\tlearn: 1.6958730\ttest: 1.9743751\tbest: 1.9741370 (463)\ttotal: 22m 22s\tremaining: 44.4s\n",
            "484:\tlearn: 1.6954611\ttest: 1.9743420\tbest: 1.9741370 (463)\ttotal: 22m 25s\tremaining: 41.6s\n",
            "485:\tlearn: 1.6948303\ttest: 1.9743093\tbest: 1.9741370 (463)\ttotal: 22m 28s\tremaining: 38.9s\n",
            "486:\tlearn: 1.6944321\ttest: 1.9742999\tbest: 1.9741370 (463)\ttotal: 22m 31s\tremaining: 36.1s\n",
            "487:\tlearn: 1.6939971\ttest: 1.9742713\tbest: 1.9741370 (463)\ttotal: 22m 33s\tremaining: 33.3s\n",
            "488:\tlearn: 1.6937444\ttest: 1.9742634\tbest: 1.9741370 (463)\ttotal: 22m 36s\tremaining: 30.5s\n",
            "489:\tlearn: 1.6930787\ttest: 1.9742473\tbest: 1.9741370 (463)\ttotal: 22m 39s\tremaining: 27.7s\n",
            "490:\tlearn: 1.6921469\ttest: 1.9742781\tbest: 1.9741370 (463)\ttotal: 22m 42s\tremaining: 25s\n",
            "491:\tlearn: 1.6913140\ttest: 1.9742510\tbest: 1.9741370 (463)\ttotal: 22m 45s\tremaining: 22.2s\n",
            "492:\tlearn: 1.6910580\ttest: 1.9743039\tbest: 1.9741370 (463)\ttotal: 22m 48s\tremaining: 19.4s\n",
            "493:\tlearn: 1.6905066\ttest: 1.9742506\tbest: 1.9741370 (463)\ttotal: 22m 51s\tremaining: 16.7s\n",
            "494:\tlearn: 1.6902693\ttest: 1.9742260\tbest: 1.9741370 (463)\ttotal: 22m 55s\tremaining: 13.9s\n",
            "495:\tlearn: 1.6895088\ttest: 1.9743017\tbest: 1.9741370 (463)\ttotal: 22m 58s\tremaining: 11.1s\n",
            "496:\tlearn: 1.6891383\ttest: 1.9742427\tbest: 1.9741370 (463)\ttotal: 23m\tremaining: 8.33s\n",
            "497:\tlearn: 1.6884885\ttest: 1.9742959\tbest: 1.9741370 (463)\ttotal: 23m 3s\tremaining: 5.55s\n",
            "498:\tlearn: 1.6876371\ttest: 1.9742647\tbest: 1.9741370 (463)\ttotal: 23m 6s\tremaining: 2.78s\n",
            "499:\tlearn: 1.6868318\ttest: 1.9742271\tbest: 1.9741370 (463)\ttotal: 23m 9s\tremaining: 0us\n",
            "\n",
            "bestTest = 1.974136979\n",
            "bestIteration = 463\n",
            "\n",
            "Shrink model to first 464 iterations.\n"
          ]
        },
        {
          "output_type": "execute_result",
          "data": {
            "text/plain": [
              "<catboost.core.CatBoostRegressor at 0x7f732ebdcc70>"
            ]
          },
          "metadata": {},
          "execution_count": 54
        }
      ]
    },
    {
      "cell_type": "code",
      "source": [
        "2.04/Y_train.mean()"
      ],
      "metadata": {
        "id": "F1eY-UBnBXMF"
      },
      "execution_count": null,
      "outputs": []
    }
  ],
  "metadata": {
    "colab": {
      "provenance": [],
      "machine_shape": "hm"
    },
    "kernelspec": {
      "display_name": "Python 3",
      "name": "python3"
    },
    "language_info": {
      "name": "python"
    },
    "gpuClass": "standard",
    "widgets": {
      "application/vnd.jupyter.widget-state+json": {
        "c9abd6457e3e4a5fab2acbc64d7d304f": {
          "model_module": "catboost-widget",
          "model_name": "CatboostWidgetModel",
          "model_module_version": "^1.0.0",
          "state": {
            "_dom_classes": [],
            "_model_module": "catboost-widget",
            "_model_module_version": "^1.0.0",
            "_model_name": "CatboostWidgetModel",
            "_view_count": null,
            "_view_module": "catboost-widget",
            "_view_module_version": "^1.0.0",
            "_view_name": "CatboostWidgetView",
            "data": {
              "catboost_info": {
                "path": "catboost_info",
                "name": "catboost_info",
                "content": {
                  "passed_iterations": 499,
                  "total_iterations": 500,
                  "data": {
                    "iterations": [
                      {
                        "learn": [
                          3.084948111
                        ],
                        "iteration": 0,
                        "passed_time": 2.955787636,
                        "remaining_time": 1474.93803,
                        "test": [
                          3.056151683
                        ]
                      },
                      {
                        "learn": [
                          2.948603276
                        ],
                        "iteration": 1,
                        "passed_time": 5.489163937,
                        "remaining_time": 1366.80182,
                        "test": [
                          2.92077185
                        ]
                      },
                      {
                        "learn": [
                          2.832252382
                        ],
                        "iteration": 2,
                        "passed_time": 7.233952321,
                        "remaining_time": 1198.424768,
                        "test": [
                          2.804667518
                        ]
                      },
                      {
                        "learn": [
                          2.733155759
                        ],
                        "iteration": 3,
                        "passed_time": 9.347531687,
                        "remaining_time": 1159.093929,
                        "test": [
                          2.707032253
                        ]
                      },
                      {
                        "learn": [
                          2.648069764
                        ],
                        "iteration": 4,
                        "passed_time": 11.06105469,
                        "remaining_time": 1095.044415,
                        "test": [
                          2.621333827
                        ]
                      },
                      {
                        "learn": [
                          2.575521096
                        ],
                        "iteration": 5,
                        "passed_time": 12.80082537,
                        "remaining_time": 1053.934622,
                        "test": [
                          2.548622766
                        ]
                      },
                      {
                        "learn": [
                          2.514441284
                        ],
                        "iteration": 6,
                        "passed_time": 14.67860298,
                        "remaining_time": 1033.793038,
                        "test": [
                          2.487800276
                        ]
                      },
                      {
                        "learn": [
                          2.463458652
                        ],
                        "iteration": 7,
                        "passed_time": 16.62852173,
                        "remaining_time": 1022.654086,
                        "test": [
                          2.436521144
                        ]
                      },
                      {
                        "learn": [
                          2.409838028
                        ],
                        "iteration": 8,
                        "passed_time": 19.77311965,
                        "remaining_time": 1078.733527,
                        "test": [
                          2.38134189
                        ]
                      },
                      {
                        "learn": [
                          2.363683104
                        ],
                        "iteration": 9,
                        "passed_time": 21.7624341,
                        "remaining_time": 1066.359271,
                        "test": [
                          2.334054016
                        ]
                      },
                      {
                        "learn": [
                          2.325759988
                        ],
                        "iteration": 10,
                        "passed_time": 24.18380521,
                        "remaining_time": 1075.080068,
                        "test": [
                          2.296164208
                        ]
                      },
                      {
                        "learn": [
                          2.29298358
                        ],
                        "iteration": 11,
                        "passed_time": 26.59319559,
                        "remaining_time": 1081.456621,
                        "test": [
                          2.261893377
                        ]
                      },
                      {
                        "learn": [
                          2.264169019
                        ],
                        "iteration": 12,
                        "passed_time": 28.58252133,
                        "remaining_time": 1070.745222,
                        "test": [
                          2.230403075
                        ]
                      },
                      {
                        "learn": [
                          2.239711345
                        ],
                        "iteration": 13,
                        "passed_time": 30.86925977,
                        "remaining_time": 1071.604303,
                        "test": [
                          2.206468267
                        ]
                      },
                      {
                        "learn": [
                          2.218571188
                        ],
                        "iteration": 14,
                        "passed_time": 33.51305757,
                        "remaining_time": 1083.588861,
                        "test": [
                          2.18504323
                        ]
                      },
                      {
                        "learn": [
                          2.200625217
                        ],
                        "iteration": 15,
                        "passed_time": 35.63045976,
                        "remaining_time": 1077.821408,
                        "test": [
                          2.166850794
                        ]
                      },
                      {
                        "learn": [
                          2.184701307
                        ],
                        "iteration": 16,
                        "passed_time": 37.75256976,
                        "remaining_time": 1072.617129,
                        "test": [
                          2.150066172
                        ]
                      },
                      {
                        "learn": [
                          2.171443506
                        ],
                        "iteration": 17,
                        "passed_time": 39.72772561,
                        "remaining_time": 1063.820208,
                        "test": [
                          2.136051875
                        ]
                      },
                      {
                        "learn": [
                          2.158829187
                        ],
                        "iteration": 18,
                        "passed_time": 41.80336136,
                        "remaining_time": 1058.285096,
                        "test": [
                          2.124030934
                        ]
                      },
                      {
                        "learn": [
                          2.148697859
                        ],
                        "iteration": 19,
                        "passed_time": 43.7855052,
                        "remaining_time": 1050.852125,
                        "test": [
                          2.114040203
                        ]
                      },
                      {
                        "learn": [
                          2.139093057
                        ],
                        "iteration": 20,
                        "passed_time": 46.26846744,
                        "remaining_time": 1055.36171,
                        "test": [
                          2.104968
                        ]
                      },
                      {
                        "learn": [
                          2.131035528
                        ],
                        "iteration": 21,
                        "passed_time": 48.8758156,
                        "remaining_time": 1061.938175,
                        "test": [
                          2.097523268
                        ]
                      },
                      {
                        "learn": [
                          2.123005621
                        ],
                        "iteration": 22,
                        "passed_time": 50.8190369,
                        "remaining_time": 1053.942635,
                        "test": [
                          2.090127907
                        ]
                      },
                      {
                        "learn": [
                          2.11527768
                        ],
                        "iteration": 23,
                        "passed_time": 52.9827005,
                        "remaining_time": 1050.82356,
                        "test": [
                          2.083245308
                        ]
                      },
                      {
                        "learn": [
                          2.108827662
                        ],
                        "iteration": 24,
                        "passed_time": 55.06343809,
                        "remaining_time": 1046.205324,
                        "test": [
                          2.077320573
                        ]
                      },
                      {
                        "learn": [
                          2.102443597
                        ],
                        "iteration": 25,
                        "passed_time": 57.14721358,
                        "remaining_time": 1041.837663,
                        "test": [
                          2.072258427
                        ]
                      },
                      {
                        "learn": [
                          2.096564621
                        ],
                        "iteration": 26,
                        "passed_time": 59.14786798,
                        "remaining_time": 1036.183021,
                        "test": [
                          2.067039024
                        ]
                      },
                      {
                        "learn": [
                          2.090848993
                        ],
                        "iteration": 27,
                        "passed_time": 61.80783887,
                        "remaining_time": 1041.90357,
                        "test": [
                          2.062953171
                        ]
                      },
                      {
                        "learn": [
                          2.086212811
                        ],
                        "iteration": 28,
                        "passed_time": 64.23479224,
                        "remaining_time": 1043.261626,
                        "test": [
                          2.058907593
                        ]
                      },
                      {
                        "learn": [
                          2.080994631
                        ],
                        "iteration": 29,
                        "passed_time": 66.39837165,
                        "remaining_time": 1040.241156,
                        "test": [
                          2.055516991
                        ]
                      },
                      {
                        "learn": [
                          2.07677695
                        ],
                        "iteration": 30,
                        "passed_time": 68.53354995,
                        "remaining_time": 1036.846288,
                        "test": [
                          2.052353725
                        ]
                      },
                      {
                        "learn": [
                          2.07385481
                        ],
                        "iteration": 31,
                        "passed_time": 70.50264447,
                        "remaining_time": 1031.101175,
                        "test": [
                          2.049270097
                        ]
                      },
                      {
                        "learn": [
                          2.071399488
                        ],
                        "iteration": 32,
                        "passed_time": 72.34533851,
                        "remaining_time": 1023.796154,
                        "test": [
                          2.046816663
                        ]
                      },
                      {
                        "learn": [
                          2.068533545
                        ],
                        "iteration": 33,
                        "passed_time": 74.59065102,
                        "remaining_time": 1022.330687,
                        "test": [
                          2.044268257
                        ]
                      },
                      {
                        "learn": [
                          2.066449484
                        ],
                        "iteration": 34,
                        "passed_time": 77.13282734,
                        "remaining_time": 1024.764706,
                        "test": [
                          2.041971433
                        ]
                      },
                      {
                        "learn": [
                          2.064860887
                        ],
                        "iteration": 35,
                        "passed_time": 79.32311849,
                        "remaining_time": 1022.386861,
                        "test": [
                          2.040002632
                        ]
                      },
                      {
                        "learn": [
                          2.062195557
                        ],
                        "iteration": 36,
                        "passed_time": 81.48513363,
                        "remaining_time": 1019.665321,
                        "test": [
                          2.037937853
                        ]
                      },
                      {
                        "learn": [
                          2.059574459
                        ],
                        "iteration": 37,
                        "passed_time": 83.77218233,
                        "remaining_time": 1018.493375,
                        "test": [
                          2.036191673
                        ]
                      },
                      {
                        "learn": [
                          2.056556161
                        ],
                        "iteration": 38,
                        "passed_time": 86.1116238,
                        "remaining_time": 1017.883553,
                        "test": [
                          2.034369187
                        ]
                      },
                      {
                        "learn": [
                          2.054979765
                        ],
                        "iteration": 39,
                        "passed_time": 88.23155088,
                        "remaining_time": 1014.662835,
                        "test": [
                          2.032637411
                        ]
                      },
                      {
                        "learn": [
                          2.053549885
                        ],
                        "iteration": 40,
                        "passed_time": 90.61966048,
                        "remaining_time": 1014.49815,
                        "test": [
                          2.031196543
                        ]
                      },
                      {
                        "learn": [
                          2.052294952
                        ],
                        "iteration": 41,
                        "passed_time": 92.98175049,
                        "remaining_time": 1013.943851,
                        "test": [
                          2.029869772
                        ]
                      },
                      {
                        "learn": [
                          2.05004625
                        ],
                        "iteration": 42,
                        "passed_time": 95.11277449,
                        "remaining_time": 1010.84972,
                        "test": [
                          2.028193917
                        ]
                      },
                      {
                        "learn": [
                          2.048466608
                        ],
                        "iteration": 43,
                        "passed_time": 97.13332891,
                        "remaining_time": 1006.6545,
                        "test": [
                          2.027066845
                        ]
                      },
                      {
                        "learn": [
                          2.047403215
                        ],
                        "iteration": 44,
                        "passed_time": 99.10709907,
                        "remaining_time": 1002.082891,
                        "test": [
                          2.025835175
                        ]
                      },
                      {
                        "learn": [
                          2.04520531
                        ],
                        "iteration": 45,
                        "passed_time": 101.2633223,
                        "remaining_time": 999.4249639,
                        "test": [
                          2.024432001
                        ]
                      },
                      {
                        "learn": [
                          2.044021136
                        ],
                        "iteration": 46,
                        "passed_time": 103.4114707,
                        "remaining_time": 996.7105584,
                        "test": [
                          2.023341659
                        ]
                      },
                      {
                        "learn": [
                          2.042903273
                        ],
                        "iteration": 47,
                        "passed_time": 106.0412656,
                        "remaining_time": 998.5552511,
                        "test": [
                          2.022332155
                        ]
                      },
                      {
                        "learn": [
                          2.041654382
                        ],
                        "iteration": 48,
                        "passed_time": 108.217843,
                        "remaining_time": 996.0458611,
                        "test": [
                          2.021580343
                        ]
                      },
                      {
                        "learn": [
                          2.040238865
                        ],
                        "iteration": 49,
                        "passed_time": 110.1896035,
                        "remaining_time": 991.7064311,
                        "test": [
                          2.020466732
                        ]
                      },
                      {
                        "learn": [
                          2.038965097
                        ],
                        "iteration": 50,
                        "passed_time": 112.1531287,
                        "remaining_time": 987.3873489,
                        "test": [
                          2.019681691
                        ]
                      },
                      {
                        "learn": [
                          2.038046896
                        ],
                        "iteration": 51,
                        "passed_time": 114.0701107,
                        "remaining_time": 982.7578766,
                        "test": [
                          2.018876305
                        ]
                      },
                      {
                        "learn": [
                          2.036536085
                        ],
                        "iteration": 52,
                        "passed_time": 116.0354045,
                        "remaining_time": 978.6382227,
                        "test": [
                          2.017912797
                        ]
                      },
                      {
                        "learn": [
                          2.034837969
                        ],
                        "iteration": 53,
                        "passed_time": 118.3501406,
                        "remaining_time": 977.4844944,
                        "test": [
                          2.01686199
                        ]
                      },
                      {
                        "learn": [
                          2.033366362
                        ],
                        "iteration": 54,
                        "passed_time": 121.121818,
                        "remaining_time": 979.9856185,
                        "test": [
                          2.016002387
                        ]
                      },
                      {
                        "learn": [
                          2.031686572
                        ],
                        "iteration": 55,
                        "passed_time": 124.0184127,
                        "remaining_time": 983.2888435,
                        "test": [
                          2.015116947
                        ]
                      },
                      {
                        "learn": [
                          2.029979871
                        ],
                        "iteration": 56,
                        "passed_time": 126.1141237,
                        "remaining_time": 980.150119,
                        "test": [
                          2.014394032
                        ]
                      },
                      {
                        "learn": [
                          2.028506186
                        ],
                        "iteration": 57,
                        "passed_time": 128.2214526,
                        "remaining_time": 977.1358971,
                        "test": [
                          2.013456136
                        ]
                      },
                      {
                        "learn": [
                          2.026536406
                        ],
                        "iteration": 58,
                        "passed_time": 130.5027734,
                        "remaining_time": 975.4529335,
                        "test": [
                          2.012653296
                        ]
                      },
                      {
                        "learn": [
                          2.024140406
                        ],
                        "iteration": 59,
                        "passed_time": 133.0554329,
                        "remaining_time": 975.7398415,
                        "test": [
                          2.012165888
                        ]
                      },
                      {
                        "learn": [
                          2.022619728
                        ],
                        "iteration": 60,
                        "passed_time": 135.7824505,
                        "remaining_time": 977.1884555,
                        "test": [
                          2.011401207
                        ]
                      },
                      {
                        "learn": [
                          2.021212979
                        ],
                        "iteration": 61,
                        "passed_time": 138.0018583,
                        "remaining_time": 974.9163539,
                        "test": [
                          2.01060871
                        ]
                      },
                      {
                        "learn": [
                          2.02009095
                        ],
                        "iteration": 62,
                        "passed_time": 140.0738608,
                        "remaining_time": 971.6234474,
                        "test": [
                          2.00999679
                        ]
                      },
                      {
                        "learn": [
                          2.019262858
                        ],
                        "iteration": 63,
                        "passed_time": 142.219707,
                        "remaining_time": 968.8717542,
                        "test": [
                          2.009461036
                        ]
                      },
                      {
                        "learn": [
                          2.017431925
                        ],
                        "iteration": 64,
                        "passed_time": 144.2854891,
                        "remaining_time": 965.6028888,
                        "test": [
                          2.008822503
                        ]
                      },
                      {
                        "learn": [
                          2.016541569
                        ],
                        "iteration": 65,
                        "passed_time": 146.4477585,
                        "remaining_time": 963.0049574,
                        "test": [
                          2.008331328
                        ]
                      },
                      {
                        "learn": [
                          2.015558586
                        ],
                        "iteration": 66,
                        "passed_time": 149.319463,
                        "remaining_time": 965.0048878,
                        "test": [
                          2.00795406
                        ]
                      },
                      {
                        "learn": [
                          2.014455449
                        ],
                        "iteration": 67,
                        "passed_time": 151.8475321,
                        "remaining_time": 964.6784392,
                        "test": [
                          2.007353953
                        ]
                      },
                      {
                        "learn": [
                          2.013693065
                        ],
                        "iteration": 68,
                        "passed_time": 154.0560544,
                        "remaining_time": 962.2921657,
                        "test": [
                          2.006759715
                        ]
                      },
                      {
                        "learn": [
                          2.012460659
                        ],
                        "iteration": 69,
                        "passed_time": 156.2574383,
                        "remaining_time": 959.867121,
                        "test": [
                          2.006243732
                        ]
                      },
                      {
                        "learn": [
                          2.011442238
                        ],
                        "iteration": 70,
                        "passed_time": 158.4594356,
                        "remaining_time": 957.4520828,
                        "test": [
                          2.005782785
                        ]
                      },
                      {
                        "learn": [
                          2.010347547
                        ],
                        "iteration": 71,
                        "passed_time": 160.2600387,
                        "remaining_time": 952.6568969,
                        "test": [
                          2.005199633
                        ]
                      },
                      {
                        "learn": [
                          2.009335403
                        ],
                        "iteration": 72,
                        "passed_time": 162.5095426,
                        "remaining_time": 950.5695165,
                        "test": [
                          2.004870306
                        ]
                      },
                      {
                        "learn": [
                          2.008473406
                        ],
                        "iteration": 73,
                        "passed_time": 164.903757,
                        "remaining_time": 949.3108173,
                        "test": [
                          2.004202262
                        ]
                      },
                      {
                        "learn": [
                          2.007179983
                        ],
                        "iteration": 74,
                        "passed_time": 167.1249863,
                        "remaining_time": 947.0415891,
                        "test": [
                          2.003349736
                        ]
                      },
                      {
                        "learn": [
                          2.005652118
                        ],
                        "iteration": 75,
                        "passed_time": 169.6333443,
                        "remaining_time": 946.3754995,
                        "test": [
                          2.002623674
                        ]
                      },
                      {
                        "learn": [
                          2.004753299
                        ],
                        "iteration": 76,
                        "passed_time": 171.6334928,
                        "remaining_time": 942.869707,
                        "test": [
                          2.002187235
                        ]
                      },
                      {
                        "learn": [
                          2.003815935
                        ],
                        "iteration": 77,
                        "passed_time": 173.8689543,
                        "remaining_time": 940.6756245,
                        "test": [
                          2.001598049
                        ]
                      },
                      {
                        "learn": [
                          2.002714572
                        ],
                        "iteration": 78,
                        "passed_time": 176.2693751,
                        "remaining_time": 939.3595815,
                        "test": [
                          2.001049067
                        ]
                      },
                      {
                        "learn": [
                          2.000802161
                        ],
                        "iteration": 79,
                        "passed_time": 179.291287,
                        "remaining_time": 941.2792567,
                        "test": [
                          2.000475332
                        ]
                      },
                      {
                        "learn": [
                          1.999730828
                        ],
                        "iteration": 80,
                        "passed_time": 181.6889897,
                        "remaining_time": 939.8479836,
                        "test": [
                          2.00006428
                        ]
                      },
                      {
                        "learn": [
                          1.997636046
                        ],
                        "iteration": 81,
                        "passed_time": 183.9981179,
                        "remaining_time": 937.9416252,
                        "test": [
                          1.999917971
                        ]
                      },
                      {
                        "learn": [
                          1.996121648
                        ],
                        "iteration": 82,
                        "passed_time": 186.1614251,
                        "remaining_time": 935.2929428,
                        "test": [
                          1.99935087
                        ]
                      },
                      {
                        "learn": [
                          1.995480977
                        ],
                        "iteration": 83,
                        "passed_time": 188.1929882,
                        "remaining_time": 932.0033699,
                        "test": [
                          1.99903265
                        ]
                      },
                      {
                        "learn": [
                          1.994892939
                        ],
                        "iteration": 84,
                        "passed_time": 190.5937623,
                        "remaining_time": 930.5460158,
                        "test": [
                          1.998774559
                        ]
                      },
                      {
                        "learn": [
                          1.99447936
                        ],
                        "iteration": 85,
                        "passed_time": 193.0506623,
                        "remaining_time": 929.3369091,
                        "test": [
                          1.998461291
                        ]
                      },
                      {
                        "learn": [
                          1.993468383
                        ],
                        "iteration": 86,
                        "passed_time": 195.5530721,
                        "remaining_time": 928.3151585,
                        "test": [
                          1.998054678
                        ]
                      },
                      {
                        "learn": [
                          1.992572591
                        ],
                        "iteration": 87,
                        "passed_time": 197.475975,
                        "remaining_time": 924.54661,
                        "test": [
                          1.997709799
                        ]
                      },
                      {
                        "learn": [
                          1.991397966
                        ],
                        "iteration": 88,
                        "passed_time": 199.4427047,
                        "remaining_time": 921.0219285,
                        "test": [
                          1.997265741
                        ]
                      },
                      {
                        "learn": [
                          1.990943626
                        ],
                        "iteration": 89,
                        "passed_time": 201.51639,
                        "remaining_time": 918.0191102,
                        "test": [
                          1.996849274
                        ]
                      },
                      {
                        "learn": [
                          1.989907063
                        ],
                        "iteration": 90,
                        "passed_time": 203.9068624,
                        "remaining_time": 916.4605134,
                        "test": [
                          1.996667608
                        ]
                      },
                      {
                        "learn": [
                          1.988497312
                        ],
                        "iteration": 91,
                        "passed_time": 206.4402695,
                        "remaining_time": 915.5177169,
                        "test": [
                          1.996186404
                        ]
                      },
                      {
                        "learn": [
                          1.98688442
                        ],
                        "iteration": 92,
                        "passed_time": 209.5120764,
                        "remaining_time": 916.8969363,
                        "test": [
                          1.995924635
                        ]
                      },
                      {
                        "learn": [
                          1.986072967
                        ],
                        "iteration": 93,
                        "passed_time": 211.5976078,
                        "remaining_time": 913.9215826,
                        "test": [
                          1.995579307
                        ]
                      },
                      {
                        "learn": [
                          1.984902181
                        ],
                        "iteration": 94,
                        "passed_time": 213.6981227,
                        "remaining_time": 911.028839,
                        "test": [
                          1.995335361
                        ]
                      },
                      {
                        "learn": [
                          1.984365271
                        ],
                        "iteration": 95,
                        "passed_time": 215.7401568,
                        "remaining_time": 907.9064932,
                        "test": [
                          1.99507758
                        ]
                      },
                      {
                        "learn": [
                          1.98380429
                        ],
                        "iteration": 96,
                        "passed_time": 217.9603814,
                        "remaining_time": 905.5467393,
                        "test": [
                          1.994818183
                        ]
                      },
                      {
                        "learn": [
                          1.982863256
                        ],
                        "iteration": 97,
                        "passed_time": 221.5652318,
                        "remaining_time": 908.8696245,
                        "test": [
                          1.99443503
                        ]
                      },
                      {
                        "learn": [
                          1.981559547
                        ],
                        "iteration": 98,
                        "passed_time": 224.2945327,
                        "remaining_time": 908.5061375,
                        "test": [
                          1.994293456
                        ]
                      },
                      {
                        "learn": [
                          1.980874057
                        ],
                        "iteration": 99,
                        "passed_time": 226.1531288,
                        "remaining_time": 904.6125154,
                        "test": [
                          1.993853914
                        ]
                      },
                      {
                        "learn": [
                          1.980054699
                        ],
                        "iteration": 100,
                        "passed_time": 228.1165973,
                        "remaining_time": 901.1734883,
                        "test": [
                          1.993478776
                        ]
                      },
                      {
                        "learn": [
                          1.979256004
                        ],
                        "iteration": 101,
                        "passed_time": 230.3849126,
                        "remaining_time": 898.9528944,
                        "test": [
                          1.99328301
                        ]
                      },
                      {
                        "learn": [
                          1.978181584
                        ],
                        "iteration": 102,
                        "passed_time": 233.1808758,
                        "remaining_time": 898.7651231,
                        "test": [
                          1.992908258
                        ]
                      },
                      {
                        "learn": [
                          1.976303593
                        ],
                        "iteration": 103,
                        "passed_time": 236.4282984,
                        "remaining_time": 900.2462132,
                        "test": [
                          1.99257239
                        ]
                      },
                      {
                        "learn": [
                          1.975336965
                        ],
                        "iteration": 104,
                        "passed_time": 239.0965436,
                        "remaining_time": 899.458426,
                        "test": [
                          1.992246077
                        ]
                      },
                      {
                        "learn": [
                          1.973944203
                        ],
                        "iteration": 105,
                        "passed_time": 241.2599549,
                        "remaining_time": 896.7587002,
                        "test": [
                          1.992048595
                        ]
                      },
                      {
                        "learn": [
                          1.973254068
                        ],
                        "iteration": 106,
                        "passed_time": 243.3584493,
                        "remaining_time": 893.830566,
                        "test": [
                          1.991808778
                        ]
                      },
                      {
                        "learn": [
                          1.971730151
                        ],
                        "iteration": 107,
                        "passed_time": 247.0966187,
                        "remaining_time": 896.8692086,
                        "test": [
                          1.991613587
                        ]
                      },
                      {
                        "learn": [
                          1.970787485
                        ],
                        "iteration": 108,
                        "passed_time": 250.7549858,
                        "remaining_time": 899.4972425,
                        "test": [
                          1.991412936
                        ]
                      },
                      {
                        "learn": [
                          1.969847029
                        ],
                        "iteration": 109,
                        "passed_time": 253.2910007,
                        "remaining_time": 898.0317299,
                        "test": [
                          1.991088235
                        ]
                      },
                      {
                        "learn": [
                          1.969101669
                        ],
                        "iteration": 110,
                        "passed_time": 256.5822234,
                        "remaining_time": 899.1935577,
                        "test": [
                          1.990819842
                        ]
                      },
                      {
                        "learn": [
                          1.968218205
                        ],
                        "iteration": 111,
                        "passed_time": 258.7056826,
                        "remaining_time": 896.2304005,
                        "test": [
                          1.990591047
                        ]
                      },
                      {
                        "learn": [
                          1.966635931
                        ],
                        "iteration": 112,
                        "passed_time": 260.717288,
                        "remaining_time": 892.8990305,
                        "test": [
                          1.990374157
                        ]
                      },
                      {
                        "learn": [
                          1.965779868
                        ],
                        "iteration": 113,
                        "passed_time": 263.153742,
                        "remaining_time": 891.029337,
                        "test": [
                          1.990160804
                        ]
                      },
                      {
                        "learn": [
                          1.964096394
                        ],
                        "iteration": 114,
                        "passed_time": 266.1372971,
                        "remaining_time": 890.981386,
                        "test": [
                          1.989877775
                        ]
                      },
                      {
                        "learn": [
                          1.963534742
                        ],
                        "iteration": 115,
                        "passed_time": 268.7709618,
                        "remaining_time": 889.7245631,
                        "test": [
                          1.989713131
                        ]
                      },
                      {
                        "learn": [
                          1.96316065
                        ],
                        "iteration": 116,
                        "passed_time": 270.8563128,
                        "remaining_time": 886.6492975,
                        "test": [
                          1.989501767
                        ]
                      },
                      {
                        "learn": [
                          1.962634386
                        ],
                        "iteration": 117,
                        "passed_time": 272.7653688,
                        "remaining_time": 883.0200923,
                        "test": [
                          1.989441905
                        ]
                      },
                      {
                        "learn": [
                          1.96220641
                        ],
                        "iteration": 118,
                        "passed_time": 274.86692,
                        "remaining_time": 880.0361052,
                        "test": [
                          1.989355275
                        ]
                      },
                      {
                        "learn": [
                          1.961369318
                        ],
                        "iteration": 119,
                        "passed_time": 276.9170394,
                        "remaining_time": 876.9039582,
                        "test": [
                          1.989144484
                        ]
                      },
                      {
                        "learn": [
                          1.960960474
                        ],
                        "iteration": 120,
                        "passed_time": 279.2778695,
                        "remaining_time": 874.7629137,
                        "test": [
                          1.988948255
                        ]
                      },
                      {
                        "learn": [
                          1.959147862
                        ],
                        "iteration": 121,
                        "passed_time": 282.0706555,
                        "remaining_time": 873.956621,
                        "test": [
                          1.988655512
                        ]
                      },
                      {
                        "learn": [
                          1.958470428
                        ],
                        "iteration": 122,
                        "passed_time": 284.4001564,
                        "remaining_time": 871.6980402,
                        "test": [
                          1.988534918
                        ]
                      },
                      {
                        "learn": [
                          1.956997817
                        ],
                        "iteration": 123,
                        "passed_time": 286.5677471,
                        "remaining_time": 868.9473623,
                        "test": [
                          1.988244633
                        ]
                      },
                      {
                        "learn": [
                          1.956354511
                        ],
                        "iteration": 124,
                        "passed_time": 288.6977655,
                        "remaining_time": 866.0932965,
                        "test": [
                          1.988107097
                        ]
                      },
                      {
                        "learn": [
                          1.955223765
                        ],
                        "iteration": 125,
                        "passed_time": 290.8023452,
                        "remaining_time": 863.1752152,
                        "test": [
                          1.987956314
                        ]
                      },
                      {
                        "learn": [
                          1.95391446
                        ],
                        "iteration": 126,
                        "passed_time": 293.3469946,
                        "remaining_time": 861.5624331,
                        "test": [
                          1.987845691
                        ]
                      },
                      {
                        "learn": [
                          1.953470073
                        ],
                        "iteration": 127,
                        "passed_time": 295.9311345,
                        "remaining_time": 860.0498595,
                        "test": [
                          1.987699859
                        ]
                      },
                      {
                        "learn": [
                          1.952790796
                        ],
                        "iteration": 128,
                        "passed_time": 298.1684087,
                        "remaining_time": 857.5230978,
                        "test": [
                          1.98741766
                        ]
                      },
                      {
                        "learn": [
                          1.952022384
                        ],
                        "iteration": 129,
                        "passed_time": 300.3543163,
                        "remaining_time": 854.8545927,
                        "test": [
                          1.98719
                        ]
                      },
                      {
                        "learn": [
                          1.950807134
                        ],
                        "iteration": 130,
                        "passed_time": 302.827402,
                        "remaining_time": 853.0023766,
                        "test": [
                          1.987161463
                        ]
                      },
                      {
                        "learn": [
                          1.949862658
                        ],
                        "iteration": 131,
                        "passed_time": 305.1093306,
                        "remaining_time": 850.6078307,
                        "test": [
                          1.987053541
                        ]
                      },
                      {
                        "learn": [
                          1.949342701
                        ],
                        "iteration": 132,
                        "passed_time": 307.441603,
                        "remaining_time": 848.3538969,
                        "test": [
                          1.986932242
                        ]
                      },
                      {
                        "learn": [
                          1.94805116
                        ],
                        "iteration": 133,
                        "passed_time": 310.7944144,
                        "remaining_time": 848.8862364,
                        "test": [
                          1.986843677
                        ]
                      },
                      {
                        "learn": [
                          1.946523919
                        ],
                        "iteration": 134,
                        "passed_time": 313.5769568,
                        "remaining_time": 847.8191796,
                        "test": [
                          1.986630969
                        ]
                      },
                      {
                        "learn": [
                          1.945153409
                        ],
                        "iteration": 135,
                        "passed_time": 316.6756822,
                        "remaining_time": 847.5731495,
                        "test": [
                          1.986498085
                        ]
                      },
                      {
                        "learn": [
                          1.944769291
                        ],
                        "iteration": 136,
                        "passed_time": 319.0154246,
                        "remaining_time": 845.2744461,
                        "test": [
                          1.986450232
                        ]
                      },
                      {
                        "learn": [
                          1.943758181
                        ],
                        "iteration": 137,
                        "passed_time": 321.8819949,
                        "remaining_time": 844.3571169,
                        "test": [
                          1.986282546
                        ]
                      },
                      {
                        "learn": [
                          1.942159346
                        ],
                        "iteration": 138,
                        "passed_time": 324.823693,
                        "remaining_time": 843.6068573,
                        "test": [
                          1.98623998
                        ]
                      },
                      {
                        "learn": [
                          1.941289629
                        ],
                        "iteration": 139,
                        "passed_time": 327.1148452,
                        "remaining_time": 841.1524591,
                        "test": [
                          1.985932513
                        ]
                      },
                      {
                        "learn": [
                          1.939732368
                        ],
                        "iteration": 140,
                        "passed_time": 329.3627607,
                        "remaining_time": 838.5902913,
                        "test": [
                          1.985720318
                        ]
                      },
                      {
                        "learn": [
                          1.938414418
                        ],
                        "iteration": 141,
                        "passed_time": 332.4603063,
                        "remaining_time": 838.1745751,
                        "test": [
                          1.985605378
                        ]
                      },
                      {
                        "learn": [
                          1.937993534
                        ],
                        "iteration": 142,
                        "passed_time": 334.4515525,
                        "remaining_time": 834.9594703,
                        "test": [
                          1.985545463
                        ]
                      },
                      {
                        "learn": [
                          1.937081028
                        ],
                        "iteration": 143,
                        "passed_time": 337.6182293,
                        "remaining_time": 834.6672891,
                        "test": [
                          1.985345632
                        ]
                      },
                      {
                        "learn": [
                          1.936390279
                        ],
                        "iteration": 144,
                        "passed_time": 340.2299162,
                        "remaining_time": 832.9766914,
                        "test": [
                          1.985215653
                        ]
                      },
                      {
                        "learn": [
                          1.935612347
                        ],
                        "iteration": 145,
                        "passed_time": 342.542231,
                        "remaining_time": 830.5476012,
                        "test": [
                          1.985160961
                        ]
                      },
                      {
                        "learn": [
                          1.933938908
                        ],
                        "iteration": 146,
                        "passed_time": 345.5576373,
                        "remaining_time": 829.8084761,
                        "test": [
                          1.985030156
                        ]
                      },
                      {
                        "learn": [
                          1.931567644
                        ],
                        "iteration": 147,
                        "passed_time": 347.7695171,
                        "remaining_time": 827.1275,
                        "test": [
                          1.984902228
                        ]
                      },
                      {
                        "learn": [
                          1.930118836
                        ],
                        "iteration": 148,
                        "passed_time": 350.5432005,
                        "remaining_time": 825.7762641,
                        "test": [
                          1.984703753
                        ]
                      },
                      {
                        "learn": [
                          1.929545836
                        ],
                        "iteration": 149,
                        "passed_time": 353.433214,
                        "remaining_time": 824.6774994,
                        "test": [
                          1.984545836
                        ]
                      },
                      {
                        "learn": [
                          1.928156209
                        ],
                        "iteration": 150,
                        "passed_time": 356.1063595,
                        "remaining_time": 823.0537713,
                        "test": [
                          1.984528486
                        ]
                      },
                      {
                        "learn": [
                          1.9276233
                        ],
                        "iteration": 151,
                        "passed_time": 358.0839665,
                        "remaining_time": 819.8238181,
                        "test": [
                          1.984401204
                        ]
                      },
                      {
                        "learn": [
                          1.926407365
                        ],
                        "iteration": 152,
                        "passed_time": 360.3176134,
                        "remaining_time": 817.1909271,
                        "test": [
                          1.984228268
                        ]
                      },
                      {
                        "learn": [
                          1.925871469
                        ],
                        "iteration": 153,
                        "passed_time": 362.3948769,
                        "remaining_time": 814.2118662,
                        "test": [
                          1.983927397
                        ]
                      },
                      {
                        "learn": [
                          1.925193792
                        ],
                        "iteration": 154,
                        "passed_time": 366.4576893,
                        "remaining_time": 815.6638891,
                        "test": [
                          1.983784361
                        ]
                      },
                      {
                        "learn": [
                          1.924572163
                        ],
                        "iteration": 155,
                        "passed_time": 370.0493409,
                        "remaining_time": 816.0062389,
                        "test": [
                          1.983813427
                        ]
                      },
                      {
                        "learn": [
                          1.923093662
                        ],
                        "iteration": 156,
                        "passed_time": 372.9305768,
                        "remaining_time": 814.7464194,
                        "test": [
                          1.983721164
                        ]
                      },
                      {
                        "learn": [
                          1.922557806
                        ],
                        "iteration": 157,
                        "passed_time": 375.2729056,
                        "remaining_time": 812.2995804,
                        "test": [
                          1.983405991
                        ]
                      },
                      {
                        "learn": [
                          1.921933474
                        ],
                        "iteration": 158,
                        "passed_time": 377.6246624,
                        "remaining_time": 809.874276,
                        "test": [
                          1.98332922
                        ]
                      },
                      {
                        "learn": [
                          1.920675118
                        ],
                        "iteration": 159,
                        "passed_time": 380.9914377,
                        "remaining_time": 809.6068052,
                        "test": [
                          1.983211061
                        ]
                      },
                      {
                        "learn": [
                          1.91978419
                        ],
                        "iteration": 160,
                        "passed_time": 383.6731113,
                        "remaining_time": 807.8582902,
                        "test": [
                          1.983073567
                        ]
                      },
                      {
                        "learn": [
                          1.919118751
                        ],
                        "iteration": 161,
                        "passed_time": 386.0827874,
                        "remaining_time": 805.5307539,
                        "test": [
                          1.98310377
                        ]
                      },
                      {
                        "learn": [
                          1.918050031
                        ],
                        "iteration": 162,
                        "passed_time": 389.513237,
                        "remaining_time": 805.3126433,
                        "test": [
                          1.98298792
                        ]
                      },
                      {
                        "learn": [
                          1.916405527
                        ],
                        "iteration": 163,
                        "passed_time": 392.0500768,
                        "remaining_time": 803.2245475,
                        "test": [
                          1.982917499
                        ]
                      },
                      {
                        "learn": [
                          1.915401495
                        ],
                        "iteration": 164,
                        "passed_time": 395.7076832,
                        "remaining_time": 803.4065084,
                        "test": [
                          1.982831943
                        ]
                      },
                      {
                        "learn": [
                          1.914717776
                        ],
                        "iteration": 165,
                        "passed_time": 398.3802307,
                        "remaining_time": 801.5602232,
                        "test": [
                          1.982647866
                        ]
                      },
                      {
                        "learn": [
                          1.913638723
                        ],
                        "iteration": 166,
                        "passed_time": 401.137128,
                        "remaining_time": 799.8722373,
                        "test": [
                          1.98262693
                        ]
                      },
                      {
                        "learn": [
                          1.912991796
                        ],
                        "iteration": 167,
                        "passed_time": 403.4489406,
                        "remaining_time": 797.291954,
                        "test": [
                          1.982490479
                        ]
                      },
                      {
                        "learn": [
                          1.912452788
                        ],
                        "iteration": 168,
                        "passed_time": 405.7817409,
                        "remaining_time": 794.7559541,
                        "test": [
                          1.982375677
                        ]
                      },
                      {
                        "learn": [
                          1.911285554
                        ],
                        "iteration": 169,
                        "passed_time": 408.053839,
                        "remaining_time": 792.104511,
                        "test": [
                          1.982301101
                        ]
                      },
                      {
                        "learn": [
                          1.910793008
                        ],
                        "iteration": 170,
                        "passed_time": 410.5075025,
                        "remaining_time": 789.8068322,
                        "test": [
                          1.982308178
                        ]
                      },
                      {
                        "learn": [
                          1.9099414
                        ],
                        "iteration": 171,
                        "passed_time": 413.6834028,
                        "remaining_time": 788.8846287,
                        "test": [
                          1.982215971
                        ]
                      },
                      {
                        "learn": [
                          1.908929622
                        ],
                        "iteration": 172,
                        "passed_time": 416.763108,
                        "remaining_time": 787.7545452,
                        "test": [
                          1.982118911
                        ]
                      },
                      {
                        "learn": [
                          1.908032975
                        ],
                        "iteration": 173,
                        "passed_time": 419.2316826,
                        "remaining_time": 785.4570606,
                        "test": [
                          1.982104569
                        ]
                      },
                      {
                        "learn": [
                          1.907226861
                        ],
                        "iteration": 174,
                        "passed_time": 422.0453155,
                        "remaining_time": 783.798443,
                        "test": [
                          1.981971997
                        ]
                      },
                      {
                        "learn": [
                          1.906512395
                        ],
                        "iteration": 175,
                        "passed_time": 425.133764,
                        "remaining_time": 782.6326109,
                        "test": [
                          1.981871775
                        ]
                      },
                      {
                        "learn": [
                          1.906233255
                        ],
                        "iteration": 176,
                        "passed_time": 427.8882094,
                        "remaining_time": 780.835546,
                        "test": [
                          1.981750547
                        ]
                      },
                      {
                        "learn": [
                          1.90553837
                        ],
                        "iteration": 177,
                        "passed_time": 431.2683012,
                        "remaining_time": 780.1595112,
                        "test": [
                          1.981671724
                        ]
                      },
                      {
                        "learn": [
                          1.90497587
                        ],
                        "iteration": 178,
                        "passed_time": 433.6190084,
                        "remaining_time": 777.6072721,
                        "test": [
                          1.981644781
                        ]
                      },
                      {
                        "learn": [
                          1.903734406
                        ],
                        "iteration": 179,
                        "passed_time": 436.5959671,
                        "remaining_time": 776.1706081,
                        "test": [
                          1.981617655
                        ]
                      },
                      {
                        "learn": [
                          1.902256236
                        ],
                        "iteration": 180,
                        "passed_time": 440.3001989,
                        "remaining_time": 775.9986931,
                        "test": [
                          1.981563367
                        ]
                      },
                      {
                        "learn": [
                          1.901526227
                        ],
                        "iteration": 181,
                        "passed_time": 442.6906334,
                        "remaining_time": 773.4924255,
                        "test": [
                          1.981346869
                        ]
                      },
                      {
                        "learn": [
                          1.900469615
                        ],
                        "iteration": 182,
                        "passed_time": 444.9644851,
                        "remaining_time": 770.7854742,
                        "test": [
                          1.981242087
                        ]
                      },
                      {
                        "learn": [
                          1.898824174
                        ],
                        "iteration": 183,
                        "passed_time": 447.5765139,
                        "remaining_time": 768.664013,
                        "test": [
                          1.981315903
                        ]
                      },
                      {
                        "learn": [
                          1.898021115
                        ],
                        "iteration": 184,
                        "passed_time": 450.4112615,
                        "remaining_time": 766.9164722,
                        "test": [
                          1.981236928
                        ]
                      },
                      {
                        "learn": [
                          1.896725051
                        ],
                        "iteration": 185,
                        "passed_time": 454.0852039,
                        "remaining_time": 766.5739464,
                        "test": [
                          1.981144852
                        ]
                      },
                      {
                        "learn": [
                          1.895896681
                        ],
                        "iteration": 186,
                        "passed_time": 457.0425959,
                        "remaining_time": 764.9964306,
                        "test": [
                          1.98101822
                        ]
                      },
                      {
                        "learn": [
                          1.89371975
                        ],
                        "iteration": 187,
                        "passed_time": 459.7864883,
                        "remaining_time": 763.0499168,
                        "test": [
                          1.980917178
                        ]
                      },
                      {
                        "learn": [
                          1.893380171
                        ],
                        "iteration": 188,
                        "passed_time": 461.9561329,
                        "remaining_time": 760.1500388,
                        "test": [
                          1.980749222
                        ]
                      },
                      {
                        "learn": [
                          1.892526663
                        ],
                        "iteration": 189,
                        "passed_time": 465.6298975,
                        "remaining_time": 759.7119381,
                        "test": [
                          1.980647175
                        ]
                      },
                      {
                        "learn": [
                          1.891705168
                        ],
                        "iteration": 190,
                        "passed_time": 468.8038413,
                        "remaining_time": 758.4313454,
                        "test": [
                          1.98052952
                        ]
                      },
                      {
                        "learn": [
                          1.891247189
                        ],
                        "iteration": 191,
                        "passed_time": 471.7625627,
                        "remaining_time": 756.7857776,
                        "test": [
                          1.980431587
                        ]
                      },
                      {
                        "learn": [
                          1.890551592
                        ],
                        "iteration": 192,
                        "passed_time": 474.5282915,
                        "remaining_time": 754.8196139,
                        "test": [
                          1.980355186
                        ]
                      },
                      {
                        "learn": [
                          1.889800455
                        ],
                        "iteration": 193,
                        "passed_time": 476.9222125,
                        "remaining_time": 752.2587475,
                        "test": [
                          1.980297392
                        ]
                      },
                      {
                        "learn": [
                          1.888614708
                        ],
                        "iteration": 194,
                        "passed_time": 479.8280402,
                        "remaining_time": 750.5002679,
                        "test": [
                          1.980271746
                        ]
                      },
                      {
                        "learn": [
                          1.887758828
                        ],
                        "iteration": 195,
                        "passed_time": 482.6961609,
                        "remaining_time": 748.6715965,
                        "test": [
                          1.980095236
                        ]
                      },
                      {
                        "learn": [
                          1.886633469
                        ],
                        "iteration": 196,
                        "passed_time": 485.321974,
                        "remaining_time": 746.4596859,
                        "test": [
                          1.979940781
                        ]
                      },
                      {
                        "learn": [
                          1.885931564
                        ],
                        "iteration": 197,
                        "passed_time": 488.5524418,
                        "remaining_time": 745.1658456,
                        "test": [
                          1.979859824
                        ]
                      },
                      {
                        "learn": [
                          1.884938672
                        ],
                        "iteration": 198,
                        "passed_time": 490.7304989,
                        "remaining_time": 742.2607044,
                        "test": [
                          1.979742862
                        ]
                      },
                      {
                        "learn": [
                          1.883733712
                        ],
                        "iteration": 199,
                        "passed_time": 493.1732796,
                        "remaining_time": 739.7599195,
                        "test": [
                          1.979748381
                        ]
                      },
                      {
                        "learn": [
                          1.88243601
                        ],
                        "iteration": 200,
                        "passed_time": 496.9082426,
                        "remaining_time": 739.1819131,
                        "test": [
                          1.979789154
                        ]
                      },
                      {
                        "learn": [
                          1.881129793
                        ],
                        "iteration": 201,
                        "passed_time": 500.379087,
                        "remaining_time": 738.1830096,
                        "test": [
                          1.979861879
                        ]
                      },
                      {
                        "learn": [
                          1.880468218
                        ],
                        "iteration": 202,
                        "passed_time": 502.6448396,
                        "remaining_time": 735.3966372,
                        "test": [
                          1.979755719
                        ]
                      },
                      {
                        "learn": [
                          1.879044103
                        ],
                        "iteration": 203,
                        "passed_time": 505.78045,
                        "remaining_time": 733.8775157,
                        "test": [
                          1.979702576
                        ]
                      },
                      {
                        "learn": [
                          1.878629122
                        ],
                        "iteration": 204,
                        "passed_time": 507.8015893,
                        "remaining_time": 730.7388725,
                        "test": [
                          1.979640737
                        ]
                      },
                      {
                        "learn": [
                          1.877457233
                        ],
                        "iteration": 205,
                        "passed_time": 510.5721386,
                        "remaining_time": 728.680625,
                        "test": [
                          1.97955876
                        ]
                      },
                      {
                        "learn": [
                          1.876750029
                        ],
                        "iteration": 206,
                        "passed_time": 513.8288888,
                        "remaining_time": 727.3036929,
                        "test": [
                          1.979511626
                        ]
                      },
                      {
                        "learn": [
                          1.876148281
                        ],
                        "iteration": 207,
                        "passed_time": 516.2279956,
                        "remaining_time": 724.7046861,
                        "test": [
                          1.979471802
                        ]
                      },
                      {
                        "learn": [
                          1.875378792
                        ],
                        "iteration": 208,
                        "passed_time": 518.8551475,
                        "remaining_time": 722.4251096,
                        "test": [
                          1.979351524
                        ]
                      },
                      {
                        "learn": [
                          1.874953063
                        ],
                        "iteration": 209,
                        "passed_time": 521.863323,
                        "remaining_time": 720.6683984,
                        "test": [
                          1.9793016
                        ]
                      },
                      {
                        "learn": [
                          1.874654206
                        ],
                        "iteration": 210,
                        "passed_time": 524.0103667,
                        "remaining_time": 717.7203601,
                        "test": [
                          1.979256187
                        ]
                      },
                      {
                        "learn": [
                          1.873706718
                        ],
                        "iteration": 211,
                        "passed_time": 527.1509776,
                        "remaining_time": 716.1296299,
                        "test": [
                          1.979229355
                        ]
                      },
                      {
                        "learn": [
                          1.873002263
                        ],
                        "iteration": 212,
                        "passed_time": 529.9846822,
                        "remaining_time": 714.110816,
                        "test": [
                          1.979101333
                        ]
                      },
                      {
                        "learn": [
                          1.871881809
                        ],
                        "iteration": 213,
                        "passed_time": 533.6694672,
                        "remaining_time": 713.2218113,
                        "test": [
                          1.979077219
                        ]
                      },
                      {
                        "learn": [
                          1.871538026
                        ],
                        "iteration": 214,
                        "passed_time": 536.0252157,
                        "remaining_time": 710.5450534,
                        "test": [
                          1.978930706
                        ]
                      },
                      {
                        "learn": [
                          1.871148196
                        ],
                        "iteration": 215,
                        "passed_time": 538.3474937,
                        "remaining_time": 707.8272602,
                        "test": [
                          1.978880001
                        ]
                      },
                      {
                        "learn": [
                          1.87065337
                        ],
                        "iteration": 216,
                        "passed_time": 541.3413397,
                        "remaining_time": 705.9889362,
                        "test": [
                          1.978769193
                        ]
                      },
                      {
                        "learn": [
                          1.870345168
                        ],
                        "iteration": 217,
                        "passed_time": 543.7297048,
                        "remaining_time": 703.3567741,
                        "test": [
                          1.978691031
                        ]
                      },
                      {
                        "learn": [
                          1.869767594
                        ],
                        "iteration": 218,
                        "passed_time": 546.6226178,
                        "remaining_time": 701.3742265,
                        "test": [
                          1.978674555
                        ]
                      },
                      {
                        "learn": [
                          1.86834017
                        ],
                        "iteration": 219,
                        "passed_time": 549.7173242,
                        "remaining_time": 699.6402308,
                        "test": [
                          1.978581198
                        ]
                      },
                      {
                        "learn": [
                          1.867706235
                        ],
                        "iteration": 220,
                        "passed_time": 552.2042052,
                        "remaining_time": 697.1265758,
                        "test": [
                          1.978498635
                        ]
                      },
                      {
                        "learn": [
                          1.866523406
                        ],
                        "iteration": 221,
                        "passed_time": 556.0606785,
                        "remaining_time": 696.328237,
                        "test": [
                          1.978456237
                        ]
                      },
                      {
                        "learn": [
                          1.86596418
                        ],
                        "iteration": 222,
                        "passed_time": 558.5103721,
                        "remaining_time": 693.7550361,
                        "test": [
                          1.978386899
                        ]
                      },
                      {
                        "learn": [
                          1.864867107
                        ],
                        "iteration": 223,
                        "passed_time": 560.9264222,
                        "remaining_time": 691.1414845,
                        "test": [
                          1.978252827
                        ]
                      },
                      {
                        "learn": [
                          1.864218696
                        ],
                        "iteration": 224,
                        "passed_time": 563.2226774,
                        "remaining_time": 688.3832724,
                        "test": [
                          1.978192187
                        ]
                      },
                      {
                        "learn": [
                          1.863025575
                        ],
                        "iteration": 225,
                        "passed_time": 566.089685,
                        "remaining_time": 686.3211226,
                        "test": [
                          1.9782168
                        ]
                      },
                      {
                        "learn": [
                          1.862300803
                        ],
                        "iteration": 226,
                        "passed_time": 569.735291,
                        "remaining_time": 685.1882575,
                        "test": [
                          1.978280688
                        ]
                      },
                      {
                        "learn": [
                          1.861808102
                        ],
                        "iteration": 227,
                        "passed_time": 572.4379589,
                        "remaining_time": 682.9084422,
                        "test": [
                          1.978211608
                        ]
                      },
                      {
                        "learn": [
                          1.861138585
                        ],
                        "iteration": 228,
                        "passed_time": 575.2755747,
                        "remaining_time": 680.784632,
                        "test": [
                          1.978140389
                        ]
                      },
                      {
                        "learn": [
                          1.860008499
                        ],
                        "iteration": 229,
                        "passed_time": 577.7765114,
                        "remaining_time": 678.259383,
                        "test": [
                          1.978159388
                        ]
                      },
                      {
                        "learn": [
                          1.8590497
                        ],
                        "iteration": 230,
                        "passed_time": 580.027654,
                        "remaining_time": 675.4434585,
                        "test": [
                          1.977999086
                        ]
                      },
                      {
                        "learn": [
                          1.858146111
                        ],
                        "iteration": 231,
                        "passed_time": 584.1201847,
                        "remaining_time": 674.7595237,
                        "test": [
                          1.977897682
                        ]
                      },
                      {
                        "learn": [
                          1.857203223
                        ],
                        "iteration": 232,
                        "passed_time": 587.6508001,
                        "remaining_time": 673.402419,
                        "test": [
                          1.977846583
                        ]
                      },
                      {
                        "learn": [
                          1.856159845
                        ],
                        "iteration": 233,
                        "passed_time": 591.4056357,
                        "remaining_time": 672.2816201,
                        "test": [
                          1.977898314
                        ]
                      },
                      {
                        "learn": [
                          1.85512416
                        ],
                        "iteration": 234,
                        "passed_time": 593.7201879,
                        "remaining_time": 669.5142545,
                        "test": [
                          1.977875592
                        ]
                      },
                      {
                        "learn": [
                          1.854857733
                        ],
                        "iteration": 235,
                        "passed_time": 598.294231,
                        "remaining_time": 669.2782923,
                        "test": [
                          1.977799822
                        ]
                      },
                      {
                        "learn": [
                          1.854267224
                        ],
                        "iteration": 236,
                        "passed_time": 601.2543478,
                        "remaining_time": 667.2147403,
                        "test": [
                          1.977715613
                        ]
                      },
                      {
                        "learn": [
                          1.853405487
                        ],
                        "iteration": 237,
                        "passed_time": 604.4753327,
                        "remaining_time": 665.4308284,
                        "test": [
                          1.977623493
                        ]
                      },
                      {
                        "learn": [
                          1.85273907
                        ],
                        "iteration": 238,
                        "passed_time": 606.6391552,
                        "remaining_time": 662.4804164,
                        "test": [
                          1.977616756
                        ]
                      },
                      {
                        "learn": [
                          1.851741497
                        ],
                        "iteration": 239,
                        "passed_time": 609.9527847,
                        "remaining_time": 660.7821834,
                        "test": [
                          1.977618041
                        ]
                      },
                      {
                        "learn": [
                          1.850514235
                        ],
                        "iteration": 240,
                        "passed_time": 613.7164778,
                        "remaining_time": 659.5542231,
                        "test": [
                          1.977542518
                        ]
                      },
                      {
                        "learn": [
                          1.850041529
                        ],
                        "iteration": 241,
                        "passed_time": 616.1571985,
                        "remaining_time": 656.8948646,
                        "test": [
                          1.977451763
                        ]
                      },
                      {
                        "learn": [
                          1.848967809
                        ],
                        "iteration": 242,
                        "passed_time": 618.7148865,
                        "remaining_time": 654.3610117,
                        "test": [
                          1.977405828
                        ]
                      },
                      {
                        "learn": [
                          1.848268853
                        ],
                        "iteration": 243,
                        "passed_time": 621.0233693,
                        "remaining_time": 651.5655022,
                        "test": [
                          1.977402887
                        ]
                      },
                      {
                        "learn": [
                          1.847417439
                        ],
                        "iteration": 244,
                        "passed_time": 624.0410036,
                        "remaining_time": 649.512065,
                        "test": [
                          1.977378074
                        ]
                      },
                      {
                        "learn": [
                          1.847086432
                        ],
                        "iteration": 245,
                        "passed_time": 628.727432,
                        "remaining_time": 649.1738525,
                        "test": [
                          1.977319159
                        ]
                      },
                      {
                        "learn": [
                          1.846562118
                        ],
                        "iteration": 246,
                        "passed_time": 630.8930304,
                        "remaining_time": 646.2183672,
                        "test": [
                          1.977239957
                        ]
                      },
                      {
                        "learn": [
                          1.845938802
                        ],
                        "iteration": 247,
                        "passed_time": 633.2574818,
                        "remaining_time": 643.4713121,
                        "test": [
                          1.977158066
                        ]
                      },
                      {
                        "learn": [
                          1.844432182
                        ],
                        "iteration": 248,
                        "passed_time": 635.928506,
                        "remaining_time": 641.0363655,
                        "test": [
                          1.977075138
                        ]
                      },
                      {
                        "learn": [
                          1.843260953
                        ],
                        "iteration": 249,
                        "passed_time": 638.4261487,
                        "remaining_time": 638.4261487,
                        "test": [
                          1.977047236
                        ]
                      },
                      {
                        "learn": [
                          1.842081912
                        ],
                        "iteration": 250,
                        "passed_time": 641.0912608,
                        "remaining_time": 635.9829639,
                        "test": [
                          1.977104699
                        ]
                      },
                      {
                        "learn": [
                          1.841302289
                        ],
                        "iteration": 251,
                        "passed_time": 643.9961775,
                        "remaining_time": 633.774016,
                        "test": [
                          1.977063676
                        ]
                      },
                      {
                        "learn": [
                          1.840612453
                        ],
                        "iteration": 252,
                        "passed_time": 646.390752,
                        "remaining_time": 631.061327,
                        "test": [
                          1.976984459
                        ]
                      },
                      {
                        "learn": [
                          1.840018299
                        ],
                        "iteration": 253,
                        "passed_time": 648.7582252,
                        "remaining_time": 628.3248953,
                        "test": [
                          1.97695278
                        ]
                      },
                      {
                        "learn": [
                          1.839190582
                        ],
                        "iteration": 254,
                        "passed_time": 650.8979964,
                        "remaining_time": 625.3725848,
                        "test": [
                          1.976855218
                        ]
                      },
                      {
                        "learn": [
                          1.839036152
                        ],
                        "iteration": 255,
                        "passed_time": 653.2135131,
                        "remaining_time": 622.5941296,
                        "test": [
                          1.976829253
                        ]
                      },
                      {
                        "learn": [
                          1.837818296
                        ],
                        "iteration": 256,
                        "passed_time": 656.3517333,
                        "remaining_time": 620.5971642,
                        "test": [
                          1.976899041
                        ]
                      },
                      {
                        "learn": [
                          1.836419899
                        ],
                        "iteration": 257,
                        "passed_time": 659.0120187,
                        "remaining_time": 618.1430563,
                        "test": [
                          1.976958878
                        ]
                      },
                      {
                        "learn": [
                          1.835704475
                        ],
                        "iteration": 258,
                        "passed_time": 661.5722159,
                        "remaining_time": 615.5942241,
                        "test": [
                          1.9768763
                        ]
                      },
                      {
                        "learn": [
                          1.834605675
                        ],
                        "iteration": 259,
                        "passed_time": 664.3497028,
                        "remaining_time": 613.2458795,
                        "test": [
                          1.976812016
                        ]
                      },
                      {
                        "learn": [
                          1.834187885
                        ],
                        "iteration": 260,
                        "passed_time": 666.9138782,
                        "remaining_time": 610.6989152,
                        "test": [
                          1.97677532
                        ]
                      },
                      {
                        "learn": [
                          1.833589066
                        ],
                        "iteration": 261,
                        "passed_time": 670.2630776,
                        "remaining_time": 608.8649331,
                        "test": [
                          1.976756034
                        ]
                      },
                      {
                        "learn": [
                          1.833085272
                        ],
                        "iteration": 262,
                        "passed_time": 673.6053569,
                        "remaining_time": 607.0131923,
                        "test": [
                          1.976741968
                        ]
                      },
                      {
                        "learn": [
                          1.83260327
                        ],
                        "iteration": 263,
                        "passed_time": 676.3511168,
                        "remaining_time": 604.6169074,
                        "test": [
                          1.976609067
                        ]
                      },
                      {
                        "learn": [
                          1.831416118
                        ],
                        "iteration": 264,
                        "passed_time": 679.3032415,
                        "remaining_time": 602.4009878,
                        "test": [
                          1.976701117
                        ]
                      },
                      {
                        "learn": [
                          1.830261916
                        ],
                        "iteration": 265,
                        "passed_time": 681.5808998,
                        "remaining_time": 599.5862051,
                        "test": [
                          1.976752831
                        ]
                      },
                      {
                        "learn": [
                          1.829884245
                        ],
                        "iteration": 266,
                        "passed_time": 684.9990479,
                        "remaining_time": 597.7707047,
                        "test": [
                          1.976758055
                        ]
                      },
                      {
                        "learn": [
                          1.829421091
                        ],
                        "iteration": 267,
                        "passed_time": 687.7119075,
                        "remaining_time": 595.332696,
                        "test": [
                          1.976727746
                        ]
                      },
                      {
                        "learn": [
                          1.828344933
                        ],
                        "iteration": 268,
                        "passed_time": 690.858266,
                        "remaining_time": 593.264905,
                        "test": [
                          1.97672902
                        ]
                      },
                      {
                        "learn": [
                          1.827996654
                        ],
                        "iteration": 269,
                        "passed_time": 692.7214032,
                        "remaining_time": 590.0960101,
                        "test": [
                          1.976677295
                        ]
                      },
                      {
                        "learn": [
                          1.827386681
                        ],
                        "iteration": 270,
                        "passed_time": 695.5909169,
                        "remaining_time": 587.7871586,
                        "test": [
                          1.976674888
                        ]
                      },
                      {
                        "learn": [
                          1.826515403
                        ],
                        "iteration": 271,
                        "passed_time": 698.4807498,
                        "remaining_time": 585.4912167,
                        "test": [
                          1.976591979
                        ]
                      },
                      {
                        "learn": [
                          1.826044184
                        ],
                        "iteration": 272,
                        "passed_time": 701.730493,
                        "remaining_time": 583.4901901,
                        "test": [
                          1.976510243
                        ]
                      },
                      {
                        "learn": [
                          1.825336639
                        ],
                        "iteration": 273,
                        "passed_time": 705.8173932,
                        "remaining_time": 582.1705506,
                        "test": [
                          1.976451382
                        ]
                      },
                      {
                        "learn": [
                          1.824306478
                        ],
                        "iteration": 274,
                        "passed_time": 708.9438369,
                        "remaining_time": 580.0449575,
                        "test": [
                          1.976503199
                        ]
                      },
                      {
                        "learn": [
                          1.824130294
                        ],
                        "iteration": 275,
                        "passed_time": 711.2736313,
                        "remaining_time": 577.2655559,
                        "test": [
                          1.976469255
                        ]
                      },
                      {
                        "learn": [
                          1.823608783
                        ],
                        "iteration": 276,
                        "passed_time": 715.0467004,
                        "remaining_time": 575.6513148,
                        "test": [
                          1.976477949
                        ]
                      },
                      {
                        "learn": [
                          1.822752806
                        ],
                        "iteration": 277,
                        "passed_time": 718.6033013,
                        "remaining_time": 573.8486795,
                        "test": [
                          1.976488344
                        ]
                      },
                      {
                        "learn": [
                          1.821895308
                        ],
                        "iteration": 278,
                        "passed_time": 721.8729825,
                        "remaining_time": 571.8061976,
                        "test": [
                          1.976484229
                        ]
                      },
                      {
                        "learn": [
                          1.821676062
                        ],
                        "iteration": 279,
                        "passed_time": 726.004798,
                        "remaining_time": 570.4323413,
                        "test": [
                          1.976504432
                        ]
                      },
                      {
                        "learn": [
                          1.821302005
                        ],
                        "iteration": 280,
                        "passed_time": 729.0581989,
                        "remaining_time": 568.1983828,
                        "test": [
                          1.976471764
                        ]
                      },
                      {
                        "learn": [
                          1.820356125
                        ],
                        "iteration": 281,
                        "passed_time": 732.8113428,
                        "remaining_time": 566.4995487,
                        "test": [
                          1.976374981
                        ]
                      },
                      {
                        "learn": [
                          1.819403597
                        ],
                        "iteration": 282,
                        "passed_time": 735.8693568,
                        "remaining_time": 564.2531817,
                        "test": [
                          1.976305427
                        ]
                      },
                      {
                        "learn": [
                          1.818671663
                        ],
                        "iteration": 283,
                        "passed_time": 738.3256518,
                        "remaining_time": 561.5434535,
                        "test": [
                          1.976394068
                        ]
                      },
                      {
                        "learn": [
                          1.817322328
                        ],
                        "iteration": 284,
                        "passed_time": 741.0963571,
                        "remaining_time": 559.0726904,
                        "test": [
                          1.976434911
                        ]
                      },
                      {
                        "learn": [
                          1.816874539
                        ],
                        "iteration": 285,
                        "passed_time": 744.2210958,
                        "remaining_time": 556.864736,
                        "test": [
                          1.976430097
                        ]
                      },
                      {
                        "learn": [
                          1.816142604
                        ],
                        "iteration": 286,
                        "passed_time": 746.5840908,
                        "remaining_time": 554.0850569,
                        "test": [
                          1.976442168
                        ]
                      },
                      {
                        "learn": [
                          1.815499677
                        ],
                        "iteration": 287,
                        "passed_time": 749.2275043,
                        "remaining_time": 551.5146906,
                        "test": [
                          1.976394562
                        ]
                      },
                      {
                        "learn": [
                          1.814860518
                        ],
                        "iteration": 288,
                        "passed_time": 751.4822881,
                        "remaining_time": 548.6600789,
                        "test": [
                          1.976379075
                        ]
                      },
                      {
                        "learn": [
                          1.814610882
                        ],
                        "iteration": 289,
                        "passed_time": 753.6204978,
                        "remaining_time": 545.725188,
                        "test": [
                          1.9763794
                        ]
                      },
                      {
                        "learn": [
                          1.813634596
                        ],
                        "iteration": 290,
                        "passed_time": 757.0299607,
                        "remaining_time": 543.7088034,
                        "test": [
                          1.976295684
                        ]
                      },
                      {
                        "learn": [
                          1.812487548
                        ],
                        "iteration": 291,
                        "passed_time": 760.0594682,
                        "remaining_time": 541.4122239,
                        "test": [
                          1.976249956
                        ]
                      },
                      {
                        "learn": [
                          1.811722993
                        ],
                        "iteration": 292,
                        "passed_time": 763.1880181,
                        "remaining_time": 539.1806135,
                        "test": [
                          1.976240582
                        ]
                      },
                      {
                        "learn": [
                          1.810878569
                        ],
                        "iteration": 293,
                        "passed_time": 766.5662937,
                        "remaining_time": 537.1178792,
                        "test": [
                          1.976204328
                        ]
                      },
                      {
                        "learn": [
                          1.810381043
                        ],
                        "iteration": 294,
                        "passed_time": 769.1012944,
                        "remaining_time": 534.4602215,
                        "test": [
                          1.976137284
                        ]
                      },
                      {
                        "learn": [
                          1.80943634
                        ],
                        "iteration": 295,
                        "passed_time": 773.8344104,
                        "remaining_time": 533.3183099,
                        "test": [
                          1.976042223
                        ]
                      },
                      {
                        "learn": [
                          1.808465494
                        ],
                        "iteration": 296,
                        "passed_time": 776.8767821,
                        "remaining_time": 530.9965884,
                        "test": [
                          1.975978306
                        ]
                      },
                      {
                        "learn": [
                          1.807698912
                        ],
                        "iteration": 297,
                        "passed_time": 779.4878015,
                        "remaining_time": 528.3776373,
                        "test": [
                          1.975942647
                        ]
                      },
                      {
                        "learn": [
                          1.806584293
                        ],
                        "iteration": 298,
                        "passed_time": 781.9465887,
                        "remaining_time": 525.6564024,
                        "test": [
                          1.975990977
                        ]
                      },
                      {
                        "learn": [
                          1.805126041
                        ],
                        "iteration": 299,
                        "passed_time": 784.4436082,
                        "remaining_time": 522.9624054,
                        "test": [
                          1.976012043
                        ]
                      },
                      {
                        "learn": [
                          1.8044749
                        ],
                        "iteration": 300,
                        "passed_time": 787.3097493,
                        "remaining_time": 520.5137545,
                        "test": [
                          1.976025003
                        ]
                      },
                      {
                        "learn": [
                          1.803549913
                        ],
                        "iteration": 301,
                        "passed_time": 789.582077,
                        "remaining_time": 517.6730174,
                        "test": [
                          1.976069417
                        ]
                      },
                      {
                        "learn": [
                          1.803046402
                        ],
                        "iteration": 302,
                        "passed_time": 793.0889927,
                        "remaining_time": 515.638718,
                        "test": [
                          1.976009918
                        ]
                      },
                      {
                        "learn": [
                          1.802373771
                        ],
                        "iteration": 303,
                        "passed_time": 795.4112727,
                        "remaining_time": 512.8309521,
                        "test": [
                          1.975945397
                        ]
                      },
                      {
                        "learn": [
                          1.80161368
                        ],
                        "iteration": 304,
                        "passed_time": 798.206255,
                        "remaining_time": 510.3285893,
                        "test": [
                          1.975937673
                        ]
                      },
                      {
                        "learn": [
                          1.800312441
                        ],
                        "iteration": 305,
                        "passed_time": 801.4976724,
                        "remaining_time": 508.1390472,
                        "test": [
                          1.975964242
                        ]
                      },
                      {
                        "learn": [
                          1.799541421
                        ],
                        "iteration": 306,
                        "passed_time": 805.1920154,
                        "remaining_time": 506.1956318,
                        "test": [
                          1.975836897
                        ]
                      },
                      {
                        "learn": [
                          1.799115674
                        ],
                        "iteration": 307,
                        "passed_time": 807.7857364,
                        "remaining_time": 503.5547448,
                        "test": [
                          1.975792803
                        ]
                      },
                      {
                        "learn": [
                          1.79899038
                        ],
                        "iteration": 308,
                        "passed_time": 809.9973595,
                        "remaining_time": 500.6779795,
                        "test": [
                          1.975791344
                        ]
                      },
                      {
                        "learn": [
                          1.798453505
                        ],
                        "iteration": 309,
                        "passed_time": 814.1601313,
                        "remaining_time": 499.0013708,
                        "test": [
                          1.975811695
                        ]
                      },
                      {
                        "learn": [
                          1.797647939
                        ],
                        "iteration": 310,
                        "passed_time": 817.5974521,
                        "remaining_time": 496.867905,
                        "test": [
                          1.975839809
                        ]
                      },
                      {
                        "learn": [
                          1.796793414
                        ],
                        "iteration": 311,
                        "passed_time": 820.4368529,
                        "remaining_time": 494.365796,
                        "test": [
                          1.97580634
                        ]
                      },
                      {
                        "learn": [
                          1.796010833
                        ],
                        "iteration": 312,
                        "passed_time": 822.58032,
                        "remaining_time": 491.4457503,
                        "test": [
                          1.97578782
                        ]
                      },
                      {
                        "learn": [
                          1.79535452
                        ],
                        "iteration": 313,
                        "passed_time": 824.8928512,
                        "remaining_time": 488.6307972,
                        "test": [
                          1.975748809
                        ]
                      },
                      {
                        "learn": [
                          1.79468549
                        ],
                        "iteration": 314,
                        "passed_time": 828.0656259,
                        "remaining_time": 486.3242565,
                        "test": [
                          1.97573491
                        ]
                      },
                      {
                        "learn": [
                          1.793141588
                        ],
                        "iteration": 315,
                        "passed_time": 831.2451742,
                        "remaining_time": 484.0161774,
                        "test": [
                          1.975722148
                        ]
                      },
                      {
                        "learn": [
                          1.792586048
                        ],
                        "iteration": 316,
                        "passed_time": 833.5595502,
                        "remaining_time": 481.2031473,
                        "test": [
                          1.975711513
                        ]
                      },
                      {
                        "learn": [
                          1.791499451
                        ],
                        "iteration": 317,
                        "passed_time": 837.6993955,
                        "remaining_time": 479.4380188,
                        "test": [
                          1.975677526
                        ]
                      },
                      {
                        "learn": [
                          1.791040154
                        ],
                        "iteration": 318,
                        "passed_time": 840.597327,
                        "remaining_time": 476.9533423,
                        "test": [
                          1.975652062
                        ]
                      },
                      {
                        "learn": [
                          1.790391671
                        ],
                        "iteration": 319,
                        "passed_time": 843.2827022,
                        "remaining_time": 474.34652,
                        "test": [
                          1.975606139
                        ]
                      },
                      {
                        "learn": [
                          1.789871343
                        ],
                        "iteration": 320,
                        "passed_time": 846.9234872,
                        "remaining_time": 472.2719757,
                        "test": [
                          1.975572658
                        ]
                      },
                      {
                        "learn": [
                          1.789519053
                        ],
                        "iteration": 321,
                        "passed_time": 850.4796239,
                        "remaining_time": 470.1409101,
                        "test": [
                          1.975563853
                        ]
                      },
                      {
                        "learn": [
                          1.789168177
                        ],
                        "iteration": 322,
                        "passed_time": 853.1277815,
                        "remaining_time": 467.5034592,
                        "test": [
                          1.975532994
                        ]
                      },
                      {
                        "learn": [
                          1.788029713
                        ],
                        "iteration": 323,
                        "passed_time": 856.2590581,
                        "remaining_time": 465.1283773,
                        "test": [
                          1.97549924
                        ]
                      },
                      {
                        "learn": [
                          1.78755385
                        ],
                        "iteration": 324,
                        "passed_time": 859.2837827,
                        "remaining_time": 462.6912676,
                        "test": [
                          1.975485033
                        ]
                      },
                      {
                        "learn": [
                          1.787240415
                        ],
                        "iteration": 325,
                        "passed_time": 861.8040362,
                        "remaining_time": 459.9812954,
                        "test": [
                          1.975469616
                        ]
                      },
                      {
                        "learn": [
                          1.786616932
                        ],
                        "iteration": 326,
                        "passed_time": 864.942333,
                        "remaining_time": 457.5994606,
                        "test": [
                          1.975527737
                        ]
                      },
                      {
                        "learn": [
                          1.786008387
                        ],
                        "iteration": 327,
                        "passed_time": 867.326557,
                        "remaining_time": 454.8175848,
                        "test": [
                          1.975541225
                        ]
                      },
                      {
                        "learn": [
                          1.785621513
                        ],
                        "iteration": 328,
                        "passed_time": 869.673158,
                        "remaining_time": 452.0185715,
                        "test": [
                          1.975463115
                        ]
                      },
                      {
                        "learn": [
                          1.784875047
                        ],
                        "iteration": 329,
                        "passed_time": 873.358615,
                        "remaining_time": 449.9120138,
                        "test": [
                          1.975415037
                        ]
                      },
                      {
                        "learn": [
                          1.784142472
                        ],
                        "iteration": 330,
                        "passed_time": 876.0145732,
                        "remaining_time": 447.2702806,
                        "test": [
                          1.975433599
                        ]
                      },
                      {
                        "learn": [
                          1.783370412
                        ],
                        "iteration": 331,
                        "passed_time": 878.408676,
                        "remaining_time": 444.4959565,
                        "test": [
                          1.975406558
                        ]
                      },
                      {
                        "learn": [
                          1.782643882
                        ],
                        "iteration": 332,
                        "passed_time": 880.6967608,
                        "remaining_time": 441.6707479,
                        "test": [
                          1.975338881
                        ]
                      },
                      {
                        "learn": [
                          1.782256623
                        ],
                        "iteration": 333,
                        "passed_time": 884.1410312,
                        "remaining_time": 439.4233868,
                        "test": [
                          1.975351442
                        ]
                      },
                      {
                        "learn": [
                          1.781384835
                        ],
                        "iteration": 334,
                        "passed_time": 886.924216,
                        "remaining_time": 436.8432706,
                        "test": [
                          1.975276323
                        ]
                      },
                      {
                        "learn": [
                          1.780696812
                        ],
                        "iteration": 335,
                        "passed_time": 890.445715,
                        "remaining_time": 434.6223133,
                        "test": [
                          1.975223489
                        ]
                      },
                      {
                        "learn": [
                          1.780131172
                        ],
                        "iteration": 336,
                        "passed_time": 893.3182154,
                        "remaining_time": 432.0797303,
                        "test": [
                          1.975173172
                        ]
                      },
                      {
                        "learn": [
                          1.779632224
                        ],
                        "iteration": 337,
                        "passed_time": 895.6550373,
                        "remaining_time": 429.2784499,
                        "test": [
                          1.975129442
                        ]
                      },
                      {
                        "learn": [
                          1.779129574
                        ],
                        "iteration": 338,
                        "passed_time": 897.9455978,
                        "remaining_time": 426.4579388,
                        "test": [
                          1.97516583
                        ]
                      },
                      {
                        "learn": [
                          1.778608316
                        ],
                        "iteration": 339,
                        "passed_time": 900.8248813,
                        "remaining_time": 423.9175912,
                        "test": [
                          1.975140909
                        ]
                      },
                      {
                        "learn": [
                          1.777746447
                        ],
                        "iteration": 340,
                        "passed_time": 903.9998053,
                        "remaining_time": 421.5131057,
                        "test": [
                          1.975089787
                        ]
                      },
                      {
                        "learn": [
                          1.777053702
                        ],
                        "iteration": 341,
                        "passed_time": 906.484219,
                        "remaining_time": 418.785107,
                        "test": [
                          1.975078391
                        ]
                      },
                      {
                        "learn": [
                          1.776335083
                        ],
                        "iteration": 342,
                        "passed_time": 910.2926581,
                        "remaining_time": 416.6645695,
                        "test": [
                          1.975080667
                        ]
                      },
                      {
                        "learn": [
                          1.775609985
                        ],
                        "iteration": 343,
                        "passed_time": 912.8453308,
                        "remaining_time": 413.964743,
                        "test": [
                          1.975095553
                        ]
                      },
                      {
                        "learn": [
                          1.774958321
                        ],
                        "iteration": 344,
                        "passed_time": 917.1502443,
                        "remaining_time": 412.0530083,
                        "test": [
                          1.975140513
                        ]
                      },
                      {
                        "learn": [
                          1.774319265
                        ],
                        "iteration": 345,
                        "passed_time": 919.8080376,
                        "remaining_time": 409.3943289,
                        "test": [
                          1.975134354
                        ]
                      },
                      {
                        "learn": [
                          1.773894547
                        ],
                        "iteration": 346,
                        "passed_time": 922.1614693,
                        "remaining_time": 406.6014548,
                        "test": [
                          1.975188809
                        ]
                      },
                      {
                        "learn": [
                          1.772615369
                        ],
                        "iteration": 347,
                        "passed_time": 924.7954483,
                        "remaining_time": 403.9336441,
                        "test": [
                          1.975228801
                        ]
                      },
                      {
                        "learn": [
                          1.772225132
                        ],
                        "iteration": 348,
                        "passed_time": 928.6324478,
                        "remaining_time": 401.7865319,
                        "test": [
                          1.97520138
                        ]
                      },
                      {
                        "learn": [
                          1.771755163
                        ],
                        "iteration": 349,
                        "passed_time": 931.972385,
                        "remaining_time": 399.4167364,
                        "test": [
                          1.97526012
                        ]
                      },
                      {
                        "learn": [
                          1.770902308
                        ],
                        "iteration": 350,
                        "passed_time": 934.2654075,
                        "remaining_time": 396.5969964,
                        "test": [
                          1.975288844
                        ]
                      },
                      {
                        "learn": [
                          1.770357253
                        ],
                        "iteration": 351,
                        "passed_time": 936.9941218,
                        "remaining_time": 393.9634376,
                        "test": [
                          1.975274904
                        ]
                      },
                      {
                        "learn": [
                          1.769804695
                        ],
                        "iteration": 352,
                        "passed_time": 939.2070492,
                        "remaining_time": 391.1145502,
                        "test": [
                          1.975223186
                        ]
                      },
                      {
                        "learn": [
                          1.768859398
                        ],
                        "iteration": 353,
                        "passed_time": 942.5698829,
                        "remaining_time": 388.743511,
                        "test": [
                          1.975259768
                        ]
                      },
                      {
                        "learn": [
                          1.768657261
                        ],
                        "iteration": 354,
                        "passed_time": 946.1944561,
                        "remaining_time": 386.4737919,
                        "test": [
                          1.975257216
                        ]
                      },
                      {
                        "learn": [
                          1.767952906
                        ],
                        "iteration": 355,
                        "passed_time": 948.8314114,
                        "remaining_time": 383.7969754,
                        "test": [
                          1.975266459
                        ]
                      },
                      {
                        "learn": [
                          1.767744258
                        ],
                        "iteration": 356,
                        "passed_time": 951.1777137,
                        "remaining_time": 381.0039581,
                        "test": [
                          1.975254235
                        ]
                      },
                      {
                        "learn": [
                          1.767248333
                        ],
                        "iteration": 357,
                        "passed_time": 953.6368879,
                        "remaining_time": 378.2582069,
                        "test": [
                          1.975243941
                        ]
                      },
                      {
                        "learn": [
                          1.766780285
                        ],
                        "iteration": 358,
                        "passed_time": 956.9767631,
                        "remaining_time": 375.8599543,
                        "test": [
                          1.975272525
                        ]
                      },
                      {
                        "learn": [
                          1.76579513
                        ],
                        "iteration": 359,
                        "passed_time": 960.4557449,
                        "remaining_time": 373.5105675,
                        "test": [
                          1.975235373
                        ]
                      },
                      {
                        "learn": [
                          1.764999243
                        ],
                        "iteration": 360,
                        "passed_time": 963.0161013,
                        "remaining_time": 370.8012135,
                        "test": [
                          1.97518591
                        ]
                      },
                      {
                        "learn": [
                          1.764372773
                        ],
                        "iteration": 361,
                        "passed_time": 965.5734859,
                        "remaining_time": 368.0915499,
                        "test": [
                          1.975149699
                        ]
                      },
                      {
                        "learn": [
                          1.763514784
                        ],
                        "iteration": 362,
                        "passed_time": 968.0143543,
                        "remaining_time": 365.3387508,
                        "test": [
                          1.975154474
                        ]
                      },
                      {
                        "learn": [
                          1.762769711
                        ],
                        "iteration": 363,
                        "passed_time": 972.0337177,
                        "remaining_time": 363.177433,
                        "test": [
                          1.975157768
                        ]
                      },
                      {
                        "learn": [
                          1.761871284
                        ],
                        "iteration": 364,
                        "passed_time": 975.0565562,
                        "remaining_time": 360.6373564,
                        "test": [
                          1.975102991
                        ]
                      },
                      {
                        "learn": [
                          1.761319495
                        ],
                        "iteration": 365,
                        "passed_time": 978.6622766,
                        "remaining_time": 358.3080466,
                        "test": [
                          1.975080542
                        ]
                      },
                      {
                        "learn": [
                          1.760907167
                        ],
                        "iteration": 366,
                        "passed_time": 981.0580338,
                        "remaining_time": 355.5332929,
                        "test": [
                          1.975052312
                        ]
                      },
                      {
                        "learn": [
                          1.76032519
                        ],
                        "iteration": 367,
                        "passed_time": 984.0794772,
                        "remaining_time": 352.9850299,
                        "test": [
                          1.975011815
                        ]
                      },
                      {
                        "learn": [
                          1.759810152
                        ],
                        "iteration": 368,
                        "passed_time": 988.6796631,
                        "remaining_time": 350.9946771,
                        "test": [
                          1.974945768
                        ]
                      },
                      {
                        "learn": [
                          1.759134018
                        ],
                        "iteration": 369,
                        "passed_time": 991.0187092,
                        "remaining_time": 348.1957627,
                        "test": [
                          1.974900914
                        ]
                      },
                      {
                        "learn": [
                          1.758751973
                        ],
                        "iteration": 370,
                        "passed_time": 993.3333664,
                        "remaining_time": 345.3908471,
                        "test": [
                          1.974923498
                        ]
                      },
                      {
                        "learn": [
                          1.758254587
                        ],
                        "iteration": 371,
                        "passed_time": 995.7032613,
                        "remaining_time": 342.6075738,
                        "test": [
                          1.974917087
                        ]
                      },
                      {
                        "learn": [
                          1.757855155
                        ],
                        "iteration": 372,
                        "passed_time": 998.2220748,
                        "remaining_time": 339.8772212,
                        "test": [
                          1.974958918
                        ]
                      },
                      {
                        "learn": [
                          1.756752818
                        ],
                        "iteration": 373,
                        "passed_time": 1002.583358,
                        "remaining_time": 337.768725,
                        "test": [
                          1.97501871
                        ]
                      },
                      {
                        "learn": [
                          1.756404546
                        ],
                        "iteration": 374,
                        "passed_time": 1004.868308,
                        "remaining_time": 334.9561027,
                        "test": [
                          1.97498869
                        ]
                      },
                      {
                        "learn": [
                          1.755624183
                        ],
                        "iteration": 375,
                        "passed_time": 1007.083747,
                        "remaining_time": 332.1233635,
                        "test": [
                          1.974954835
                        ]
                      },
                      {
                        "learn": [
                          1.755244672
                        ],
                        "iteration": 376,
                        "passed_time": 1009.780976,
                        "remaining_time": 329.4510877,
                        "test": [
                          1.974963852
                        ]
                      },
                      {
                        "learn": [
                          1.75450322
                        ],
                        "iteration": 377,
                        "passed_time": 1012.950755,
                        "remaining_time": 326.931196,
                        "test": [
                          1.975019703
                        ]
                      },
                      {
                        "learn": [
                          1.753704963
                        ],
                        "iteration": 378,
                        "passed_time": 1016.766125,
                        "remaining_time": 324.6139873,
                        "test": [
                          1.974989458
                        ]
                      },
                      {
                        "learn": [
                          1.752846595
                        ],
                        "iteration": 379,
                        "passed_time": 1020.019753,
                        "remaining_time": 322.1115009,
                        "test": [
                          1.975039671
                        ]
                      },
                      {
                        "learn": [
                          1.752720377
                        ],
                        "iteration": 380,
                        "passed_time": 1022.115768,
                        "remaining_time": 319.2435077,
                        "test": [
                          1.975012485
                        ]
                      },
                      {
                        "learn": [
                          1.752396612
                        ],
                        "iteration": 381,
                        "passed_time": 1026.139583,
                        "remaining_time": 316.9750545,
                        "test": [
                          1.97496357
                        ]
                      },
                      {
                        "learn": [
                          1.751725944
                        ],
                        "iteration": 382,
                        "passed_time": 1031.282316,
                        "remaining_time": 315.0392454,
                        "test": [
                          1.974924909
                        ]
                      },
                      {
                        "learn": [
                          1.751165815
                        ],
                        "iteration": 383,
                        "passed_time": 1033.787538,
                        "remaining_time": 312.2899855,
                        "test": [
                          1.974885071
                        ]
                      },
                      {
                        "learn": [
                          1.750186394
                        ],
                        "iteration": 384,
                        "passed_time": 1036.476652,
                        "remaining_time": 309.5969221,
                        "test": [
                          1.974919195
                        ]
                      },
                      {
                        "learn": [
                          1.749442928
                        ],
                        "iteration": 385,
                        "passed_time": 1040.060427,
                        "remaining_time": 307.1681055,
                        "test": [
                          1.974860865
                        ]
                      },
                      {
                        "learn": [
                          1.748723754
                        ],
                        "iteration": 386,
                        "passed_time": 1043.613353,
                        "remaining_time": 304.7243123,
                        "test": [
                          1.974866248
                        ]
                      },
                      {
                        "learn": [
                          1.748284562
                        ],
                        "iteration": 387,
                        "passed_time": 1046.58241,
                        "remaining_time": 302.1062628,
                        "test": [
                          1.974886752
                        ]
                      },
                      {
                        "learn": [
                          1.747667105
                        ],
                        "iteration": 388,
                        "passed_time": 1049.050708,
                        "remaining_time": 299.3435182,
                        "test": [
                          1.974866475
                        ]
                      },
                      {
                        "learn": [
                          1.747509084
                        ],
                        "iteration": 389,
                        "passed_time": 1051.820124,
                        "remaining_time": 296.6672144,
                        "test": [
                          1.974858308
                        ]
                      },
                      {
                        "learn": [
                          1.746842283
                        ],
                        "iteration": 390,
                        "passed_time": 1054.264379,
                        "remaining_time": 293.8997884,
                        "test": [
                          1.974825532
                        ]
                      },
                      {
                        "learn": [
                          1.746545783
                        ],
                        "iteration": 391,
                        "passed_time": 1056.925277,
                        "remaining_time": 291.1936989,
                        "test": [
                          1.974825379
                        ]
                      },
                      {
                        "learn": [
                          1.746227889
                        ],
                        "iteration": 392,
                        "passed_time": 1060.59565,
                        "remaining_time": 288.7626834,
                        "test": [
                          1.974821927
                        ]
                      },
                      {
                        "learn": [
                          1.745085726
                        ],
                        "iteration": 393,
                        "passed_time": 1063.390402,
                        "remaining_time": 286.0898037,
                        "test": [
                          1.974752231
                        ]
                      },
                      {
                        "learn": [
                          1.744442743
                        ],
                        "iteration": 394,
                        "passed_time": 1066.203697,
                        "remaining_time": 283.4212358,
                        "test": [
                          1.974761191
                        ]
                      },
                      {
                        "learn": [
                          1.743609946
                        ],
                        "iteration": 395,
                        "passed_time": 1069.153767,
                        "remaining_time": 280.787858,
                        "test": [
                          1.974740669
                        ]
                      },
                      {
                        "learn": [
                          1.74285477
                        ],
                        "iteration": 396,
                        "passed_time": 1072.380699,
                        "remaining_time": 278.2247153,
                        "test": [
                          1.974727424
                        ]
                      },
                      {
                        "learn": [
                          1.741728785
                        ],
                        "iteration": 397,
                        "passed_time": 1076.238585,
                        "remaining_time": 275.8199388,
                        "test": [
                          1.974694285
                        ]
                      },
                      {
                        "learn": [
                          1.740697743
                        ],
                        "iteration": 398,
                        "passed_time": 1078.593051,
                        "remaining_time": 273.0273137,
                        "test": [
                          1.974696909
                        ]
                      },
                      {
                        "learn": [
                          1.739933952
                        ],
                        "iteration": 399,
                        "passed_time": 1081.172835,
                        "remaining_time": 270.2932087,
                        "test": [
                          1.974741445
                        ]
                      },
                      {
                        "learn": [
                          1.739805041
                        ],
                        "iteration": 400,
                        "passed_time": 1083.411813,
                        "remaining_time": 267.4757345,
                        "test": [
                          1.974733433
                        ]
                      },
                      {
                        "learn": [
                          1.739328594
                        ],
                        "iteration": 401,
                        "passed_time": 1086.320185,
                        "remaining_time": 264.8243238,
                        "test": [
                          1.974661478
                        ]
                      },
                      {
                        "learn": [
                          1.73890174
                        ],
                        "iteration": 402,
                        "passed_time": 1089.146819,
                        "remaining_time": 262.1519638,
                        "test": [
                          1.974702089
                        ]
                      },
                      {
                        "learn": [
                          1.738421209
                        ],
                        "iteration": 403,
                        "passed_time": 1091.659551,
                        "remaining_time": 259.4042497,
                        "test": [
                          1.974668911
                        ]
                      },
                      {
                        "learn": [
                          1.737263668
                        ],
                        "iteration": 404,
                        "passed_time": 1094.318946,
                        "remaining_time": 256.6920985,
                        "test": [
                          1.974723849
                        ]
                      },
                      {
                        "learn": [
                          1.737036762
                        ],
                        "iteration": 405,
                        "passed_time": 1098.297808,
                        "remaining_time": 254.2856993,
                        "test": [
                          1.974681957
                        ]
                      },
                      {
                        "learn": [
                          1.736543874
                        ],
                        "iteration": 406,
                        "passed_time": 1101.035126,
                        "remaining_time": 251.5878788,
                        "test": [
                          1.974682126
                        ]
                      },
                      {
                        "learn": [
                          1.735793452
                        ],
                        "iteration": 407,
                        "passed_time": 1105.055663,
                        "remaining_time": 249.179218,
                        "test": [
                          1.974658242
                        ]
                      },
                      {
                        "learn": [
                          1.73522253
                        ],
                        "iteration": 408,
                        "passed_time": 1108.569094,
                        "remaining_time": 246.6498473,
                        "test": [
                          1.974675237
                        ]
                      },
                      {
                        "learn": [
                          1.734686696
                        ],
                        "iteration": 409,
                        "passed_time": 1111.2839,
                        "remaining_time": 243.9403683,
                        "test": [
                          1.974668974
                        ]
                      },
                      {
                        "learn": [
                          1.734507005
                        ],
                        "iteration": 410,
                        "passed_time": 1113.782518,
                        "remaining_time": 241.1840488,
                        "test": [
                          1.974661883
                        ]
                      },
                      {
                        "learn": [
                          1.73363804
                        ],
                        "iteration": 411,
                        "passed_time": 1117.817215,
                        "remaining_time": 238.757075,
                        "test": [
                          1.974679284
                        ]
                      },
                      {
                        "learn": [
                          1.733390068
                        ],
                        "iteration": 412,
                        "passed_time": 1119.973684,
                        "remaining_time": 235.9266599,
                        "test": [
                          1.974632246
                        ]
                      },
                      {
                        "learn": [
                          1.732881553
                        ],
                        "iteration": 413,
                        "passed_time": 1122.894447,
                        "remaining_time": 233.2582669,
                        "test": [
                          1.974591267
                        ]
                      },
                      {
                        "learn": [
                          1.732649851
                        ],
                        "iteration": 414,
                        "passed_time": 1126.841932,
                        "remaining_time": 230.79895,
                        "test": [
                          1.974577936
                        ]
                      },
                      {
                        "learn": [
                          1.732330996
                        ],
                        "iteration": 415,
                        "passed_time": 1129.47212,
                        "remaining_time": 228.0664858,
                        "test": [
                          1.974560016
                        ]
                      },
                      {
                        "learn": [
                          1.731895739
                        ],
                        "iteration": 416,
                        "passed_time": 1132.850017,
                        "remaining_time": 225.4833368,
                        "test": [
                          1.974556442
                        ]
                      },
                      {
                        "learn": [
                          1.731203881
                        ],
                        "iteration": 417,
                        "passed_time": 1136.358425,
                        "remaining_time": 222.9219877,
                        "test": [
                          1.974568015
                        ]
                      },
                      {
                        "learn": [
                          1.730586568
                        ],
                        "iteration": 418,
                        "passed_time": 1138.306407,
                        "remaining_time": 220.0544606,
                        "test": [
                          1.974593549
                        ]
                      },
                      {
                        "learn": [
                          1.730040811
                        ],
                        "iteration": 419,
                        "passed_time": 1140.673503,
                        "remaining_time": 217.2711435,
                        "test": [
                          1.974674577
                        ]
                      },
                      {
                        "learn": [
                          1.729396294
                        ],
                        "iteration": 420,
                        "passed_time": 1144.792268,
                        "remaining_time": 214.8185016,
                        "test": [
                          1.974655562
                        ]
                      },
                      {
                        "learn": [
                          1.728423072
                        ],
                        "iteration": 421,
                        "passed_time": 1147.713103,
                        "remaining_time": 212.1365452,
                        "test": [
                          1.974643284
                        ]
                      },
                      {
                        "learn": [
                          1.727852407
                        ],
                        "iteration": 422,
                        "passed_time": 1149.692468,
                        "remaining_time": 209.2820804,
                        "test": [
                          1.974608921
                        ]
                      },
                      {
                        "learn": [
                          1.727129396
                        ],
                        "iteration": 423,
                        "passed_time": 1152.251571,
                        "remaining_time": 206.5356589,
                        "test": [
                          1.974564706
                        ]
                      },
                      {
                        "learn": [
                          1.726598658
                        ],
                        "iteration": 424,
                        "passed_time": 1156.223317,
                        "remaining_time": 204.0394088,
                        "test": [
                          1.974556077
                        ]
                      },
                      {
                        "learn": [
                          1.725759149
                        ],
                        "iteration": 425,
                        "passed_time": 1159.994201,
                        "remaining_time": 201.5013402,
                        "test": [
                          1.974524498
                        ]
                      },
                      {
                        "learn": [
                          1.724995993
                        ],
                        "iteration": 426,
                        "passed_time": 1162.560544,
                        "remaining_time": 198.7515684,
                        "test": [
                          1.974502644
                        ]
                      },
                      {
                        "learn": [
                          1.724351647
                        ],
                        "iteration": 427,
                        "passed_time": 1165.837826,
                        "remaining_time": 196.1222511,
                        "test": [
                          1.974505356
                        ]
                      },
                      {
                        "learn": [
                          1.723590384
                        ],
                        "iteration": 428,
                        "passed_time": 1168.846215,
                        "remaining_time": 193.4454109,
                        "test": [
                          1.974538262
                        ]
                      },
                      {
                        "learn": [
                          1.723169229
                        ],
                        "iteration": 429,
                        "passed_time": 1171.827681,
                        "remaining_time": 190.7626457,
                        "test": [
                          1.974528531
                        ]
                      },
                      {
                        "learn": [
                          1.722584766
                        ],
                        "iteration": 430,
                        "passed_time": 1175.22162,
                        "remaining_time": 188.1445284,
                        "test": [
                          1.974522439
                        ]
                      },
                      {
                        "learn": [
                          1.722130541
                        ],
                        "iteration": 431,
                        "passed_time": 1177.970474,
                        "remaining_time": 185.4212783,
                        "test": [
                          1.974534017
                        ]
                      },
                      {
                        "learn": [
                          1.721910279
                        ],
                        "iteration": 432,
                        "passed_time": 1180.324235,
                        "remaining_time": 182.6367754,
                        "test": [
                          1.974503653
                        ]
                      },
                      {
                        "learn": [
                          1.721687027
                        ],
                        "iteration": 433,
                        "passed_time": 1183.414792,
                        "remaining_time": 179.9663048,
                        "test": [
                          1.974516094
                        ]
                      },
                      {
                        "learn": [
                          1.721095095
                        ],
                        "iteration": 434,
                        "passed_time": 1186.879881,
                        "remaining_time": 177.3498673,
                        "test": [
                          1.974497353
                        ]
                      },
                      {
                        "learn": [
                          1.720503773
                        ],
                        "iteration": 435,
                        "passed_time": 1191.051882,
                        "remaining_time": 174.8333038,
                        "test": [
                          1.974519681
                        ]
                      },
                      {
                        "learn": [
                          1.720251972
                        ],
                        "iteration": 436,
                        "passed_time": 1195.111947,
                        "remaining_time": 172.2930267,
                        "test": [
                          1.974476591
                        ]
                      },
                      {
                        "learn": [
                          1.719229768
                        ],
                        "iteration": 437,
                        "passed_time": 1198.372993,
                        "remaining_time": 169.6327068,
                        "test": [
                          1.974416351
                        ]
                      },
                      {
                        "learn": [
                          1.718514298
                        ],
                        "iteration": 438,
                        "passed_time": 1201.089735,
                        "remaining_time": 166.8940179,
                        "test": [
                          1.974364937
                        ]
                      },
                      {
                        "learn": [
                          1.71816913
                        ],
                        "iteration": 439,
                        "passed_time": 1203.863739,
                        "remaining_time": 164.1632371,
                        "test": [
                          1.97437293
                        ]
                      },
                      {
                        "learn": [
                          1.717632658
                        ],
                        "iteration": 440,
                        "passed_time": 1206.980215,
                        "remaining_time": 161.4780787,
                        "test": [
                          1.974382048
                        ]
                      },
                      {
                        "learn": [
                          1.716704034
                        ],
                        "iteration": 441,
                        "passed_time": 1209.837829,
                        "remaining_time": 158.7570002,
                        "test": [
                          1.974397383
                        ]
                      },
                      {
                        "learn": [
                          1.716073044
                        ],
                        "iteration": 442,
                        "passed_time": 1213.235695,
                        "remaining_time": 156.1048185,
                        "test": [
                          1.974384874
                        ]
                      },
                      {
                        "learn": [
                          1.715656068
                        ],
                        "iteration": 443,
                        "passed_time": 1216.891253,
                        "remaining_time": 153.4817796,
                        "test": [
                          1.974388923
                        ]
                      },
                      {
                        "learn": [
                          1.715392001
                        ],
                        "iteration": 444,
                        "passed_time": 1219.960504,
                        "remaining_time": 150.7816353,
                        "test": [
                          1.974393154
                        ]
                      },
                      {
                        "learn": [
                          1.715123658
                        ],
                        "iteration": 445,
                        "passed_time": 1223.284823,
                        "remaining_time": 148.1107184,
                        "test": [
                          1.974372336
                        ]
                      },
                      {
                        "learn": [
                          1.714941179
                        ],
                        "iteration": 446,
                        "passed_time": 1225.587117,
                        "remaining_time": 145.3156985,
                        "test": [
                          1.974352765
                        ]
                      },
                      {
                        "learn": [
                          1.713771568
                        ],
                        "iteration": 447,
                        "passed_time": 1228.050343,
                        "remaining_time": 142.5415576,
                        "test": [
                          1.974416752
                        ]
                      },
                      {
                        "learn": [
                          1.712777753
                        ],
                        "iteration": 448,
                        "passed_time": 1231.297166,
                        "remaining_time": 139.8578072,
                        "test": [
                          1.974426466
                        ]
                      },
                      {
                        "learn": [
                          1.712295364
                        ],
                        "iteration": 449,
                        "passed_time": 1233.809234,
                        "remaining_time": 137.0899148,
                        "test": [
                          1.974380999
                        ]
                      },
                      {
                        "learn": [
                          1.71216575
                        ],
                        "iteration": 450,
                        "passed_time": 1237.404804,
                        "remaining_time": 134.4408767,
                        "test": [
                          1.974374212
                        ]
                      },
                      {
                        "learn": [
                          1.711921456
                        ],
                        "iteration": 451,
                        "passed_time": 1241.10121,
                        "remaining_time": 131.7983585,
                        "test": [
                          1.974325995
                        ]
                      },
                      {
                        "learn": [
                          1.711073524
                        ],
                        "iteration": 452,
                        "passed_time": 1244.104344,
                        "remaining_time": 129.0792586,
                        "test": [
                          1.974330327
                        ]
                      },
                      {
                        "learn": [
                          1.710743706
                        ],
                        "iteration": 453,
                        "passed_time": 1248.186058,
                        "remaining_time": 126.4681909,
                        "test": [
                          1.974329864
                        ]
                      },
                      {
                        "learn": [
                          1.710435968
                        ],
                        "iteration": 454,
                        "passed_time": 1250.748179,
                        "remaining_time": 123.7003693,
                        "test": [
                          1.974307862
                        ]
                      },
                      {
                        "learn": [
                          1.709712935
                        ],
                        "iteration": 455,
                        "passed_time": 1252.826214,
                        "remaining_time": 120.8867399,
                        "test": [
                          1.974291901
                        ]
                      },
                      {
                        "learn": [
                          1.708972681
                        ],
                        "iteration": 456,
                        "passed_time": 1255.172802,
                        "remaining_time": 118.1015984,
                        "test": [
                          1.974266937
                        ]
                      },
                      {
                        "learn": [
                          1.708847929
                        ],
                        "iteration": 457,
                        "passed_time": 1260.269142,
                        "remaining_time": 115.5705327,
                        "test": [
                          1.974271884
                        ]
                      },
                      {
                        "learn": [
                          1.708214058
                        ],
                        "iteration": 458,
                        "passed_time": 1262.633283,
                        "remaining_time": 112.7842366,
                        "test": [
                          1.974273848
                        ]
                      },
                      {
                        "learn": [
                          1.708006122
                        ],
                        "iteration": 459,
                        "passed_time": 1266.149812,
                        "remaining_time": 110.0999837,
                        "test": [
                          1.974283777
                        ]
                      },
                      {
                        "learn": [
                          1.707471842
                        ],
                        "iteration": 460,
                        "passed_time": 1268.390234,
                        "remaining_time": 107.3041629,
                        "test": [
                          1.974258374
                        ]
                      },
                      {
                        "learn": [
                          1.706992044
                        ],
                        "iteration": 461,
                        "passed_time": 1270.604931,
                        "remaining_time": 104.5086307,
                        "test": [
                          1.974212108
                        ]
                      },
                      {
                        "learn": [
                          1.706693084
                        ],
                        "iteration": 462,
                        "passed_time": 1274.053872,
                        "remaining_time": 101.8142403,
                        "test": [
                          1.974195268
                        ]
                      },
                      {
                        "learn": [
                          1.706576586
                        ],
                        "iteration": 463,
                        "passed_time": 1278.012909,
                        "remaining_time": 99.156174,
                        "test": [
                          1.974136979
                        ]
                      },
                      {
                        "learn": [
                          1.706174726
                        ],
                        "iteration": 464,
                        "passed_time": 1281.076934,
                        "remaining_time": 96.42514559,
                        "test": [
                          1.974201686
                        ]
                      },
                      {
                        "learn": [
                          1.705448308
                        ],
                        "iteration": 465,
                        "passed_time": 1283.354738,
                        "remaining_time": 93.6353242,
                        "test": [
                          1.974185346
                        ]
                      },
                      {
                        "learn": [
                          1.704923485
                        ],
                        "iteration": 466,
                        "passed_time": 1287.358976,
                        "remaining_time": 90.96969208,
                        "test": [
                          1.974223818
                        ]
                      },
                      {
                        "learn": [
                          1.704271966
                        ],
                        "iteration": 467,
                        "passed_time": 1292.007222,
                        "remaining_time": 88.34237417,
                        "test": [
                          1.974197764
                        ]
                      },
                      {
                        "learn": [
                          1.703746685
                        ],
                        "iteration": 468,
                        "passed_time": 1294.648762,
                        "remaining_time": 85.57379876,
                        "test": [
                          1.974213355
                        ]
                      },
                      {
                        "learn": [
                          1.703402328
                        ],
                        "iteration": 469,
                        "passed_time": 1297.614585,
                        "remaining_time": 82.82646285,
                        "test": [
                          1.974199808
                        ]
                      },
                      {
                        "learn": [
                          1.703301153
                        ],
                        "iteration": 470,
                        "passed_time": 1301.258513,
                        "remaining_time": 80.11995089,
                        "test": [
                          1.974210051
                        ]
                      },
                      {
                        "learn": [
                          1.702738915
                        ],
                        "iteration": 471,
                        "passed_time": 1305.62185,
                        "remaining_time": 77.45214366,
                        "test": [
                          1.974267898
                        ]
                      },
                      {
                        "learn": [
                          1.701963744
                        ],
                        "iteration": 472,
                        "passed_time": 1308.602896,
                        "remaining_time": 74.69826254,
                        "test": [
                          1.974277774
                        ]
                      },
                      {
                        "learn": [
                          1.701474613
                        ],
                        "iteration": 473,
                        "passed_time": 1311.136588,
                        "remaining_time": 71.9188846,
                        "test": [
                          1.974277379
                        ]
                      },
                      {
                        "learn": [
                          1.701239433
                        ],
                        "iteration": 474,
                        "passed_time": 1315.567489,
                        "remaining_time": 69.24039414,
                        "test": [
                          1.974297598
                        ]
                      },
                      {
                        "learn": [
                          1.700942135
                        ],
                        "iteration": 475,
                        "passed_time": 1318.262255,
                        "remaining_time": 66.46700448,
                        "test": [
                          1.974329133
                        ]
                      },
                      {
                        "learn": [
                          1.700027041
                        ],
                        "iteration": 476,
                        "passed_time": 1320.85289,
                        "remaining_time": 63.6889234,
                        "test": [
                          1.974332595
                        ]
                      },
                      {
                        "learn": [
                          1.699425771
                        ],
                        "iteration": 477,
                        "passed_time": 1323.134488,
                        "remaining_time": 60.8974032,
                        "test": [
                          1.974330847
                        ]
                      },
                      {
                        "learn": [
                          1.69886557
                        ],
                        "iteration": 478,
                        "passed_time": 1326.206671,
                        "remaining_time": 58.14267244,
                        "test": [
                          1.974315159
                        ]
                      },
                      {
                        "learn": [
                          1.698259944
                        ],
                        "iteration": 479,
                        "passed_time": 1330.100063,
                        "remaining_time": 55.42083596,
                        "test": [
                          1.974290756
                        ]
                      },
                      {
                        "learn": [
                          1.697365519
                        ],
                        "iteration": 480,
                        "passed_time": 1334.548252,
                        "remaining_time": 52.71604322,
                        "test": [
                          1.974341472
                        ]
                      },
                      {
                        "learn": [
                          1.696990892
                        ],
                        "iteration": 481,
                        "passed_time": 1336.957284,
                        "remaining_time": 49.92786537,
                        "test": [
                          1.974363711
                        ]
                      },
                      {
                        "learn": [
                          1.696222681
                        ],
                        "iteration": 482,
                        "passed_time": 1339.704411,
                        "remaining_time": 47.15315733,
                        "test": [
                          1.974376138
                        ]
                      },
                      {
                        "learn": [
                          1.695872962
                        ],
                        "iteration": 483,
                        "passed_time": 1342.009631,
                        "remaining_time": 44.36395475,
                        "test": [
                          1.974375078
                        ]
                      },
                      {
                        "learn": [
                          1.695461063
                        ],
                        "iteration": 484,
                        "passed_time": 1345.831315,
                        "remaining_time": 41.62364891,
                        "test": [
                          1.974342006
                        ]
                      },
                      {
                        "learn": [
                          1.694830294
                        ],
                        "iteration": 485,
                        "passed_time": 1348.847096,
                        "remaining_time": 38.85567765,
                        "test": [
                          1.974309257
                        ]
                      },
                      {
                        "learn": [
                          1.694432104
                        ],
                        "iteration": 486,
                        "passed_time": 1351.213637,
                        "remaining_time": 36.06935786,
                        "test": [
                          1.974299876
                        ]
                      },
                      {
                        "learn": [
                          1.693997085
                        ],
                        "iteration": 487,
                        "passed_time": 1353.40228,
                        "remaining_time": 33.28038393,
                        "test": [
                          1.974271328
                        ]
                      },
                      {
                        "learn": [
                          1.693744437
                        ],
                        "iteration": 488,
                        "passed_time": 1356.290245,
                        "remaining_time": 30.50959651,
                        "test": [
                          1.974263396
                        ]
                      },
                      {
                        "learn": [
                          1.693078712
                        ],
                        "iteration": 489,
                        "passed_time": 1359.687703,
                        "remaining_time": 27.74872864,
                        "test": [
                          1.97424732
                        ]
                      },
                      {
                        "learn": [
                          1.692146944
                        ],
                        "iteration": 490,
                        "passed_time": 1362.591094,
                        "remaining_time": 24.9762115,
                        "test": [
                          1.974278122
                        ]
                      },
                      {
                        "learn": [
                          1.691313959
                        ],
                        "iteration": 491,
                        "passed_time": 1365.771731,
                        "remaining_time": 22.20767042,
                        "test": [
                          1.974251038
                        ]
                      },
                      {
                        "learn": [
                          1.691057983
                        ],
                        "iteration": 492,
                        "passed_time": 1368.129174,
                        "remaining_time": 19.42576921,
                        "test": [
                          1.974303864
                        ]
                      },
                      {
                        "learn": [
                          1.690506577
                        ],
                        "iteration": 493,
                        "passed_time": 1371.558089,
                        "remaining_time": 16.65860027,
                        "test": [
                          1.974250571
                        ]
                      },
                      {
                        "learn": [
                          1.690269301
                        ],
                        "iteration": 494,
                        "passed_time": 1375.20401,
                        "remaining_time": 13.89094959,
                        "test": [
                          1.974225974
                        ]
                      },
                      {
                        "learn": [
                          1.689508766
                        ],
                        "iteration": 495,
                        "passed_time": 1378.197352,
                        "remaining_time": 11.11449478,
                        "test": [
                          1.974301711
                        ]
                      },
                      {
                        "learn": [
                          1.689138297
                        ],
                        "iteration": 496,
                        "passed_time": 1380.540723,
                        "remaining_time": 8.333243804,
                        "test": [
                          1.974242666
                        ]
                      },
                      {
                        "learn": [
                          1.688488548
                        ],
                        "iteration": 497,
                        "passed_time": 1383.315518,
                        "remaining_time": 5.555484009,
                        "test": [
                          1.97429592
                        ]
                      },
                      {
                        "learn": [
                          1.68763713
                        ],
                        "iteration": 498,
                        "passed_time": 1386.313283,
                        "remaining_time": 2.778182932,
                        "test": [
                          1.974264678
                        ]
                      },
                      {
                        "learn": [
                          1.68683185
                        ],
                        "iteration": 499,
                        "passed_time": 1389.736543,
                        "remaining_time": 0,
                        "test": [
                          1.974227075
                        ]
                      }
                    ],
                    "meta": {
                      "test_sets": [
                        "test"
                      ],
                      "test_metrics": [
                        {
                          "best_value": "Min",
                          "name": "RMSE"
                        }
                      ],
                      "learn_metrics": [
                        {
                          "best_value": "Min",
                          "name": "RMSE"
                        }
                      ],
                      "launch_mode": "Train",
                      "parameters": "",
                      "iteration_count": 500,
                      "learn_sets": [
                        "learn"
                      ],
                      "name": "experiment"
                    }
                  }
                }
              }
            },
            "layout": "IPY_MODEL_b6ac9915eb3a488981a7b53f07d8a51b"
          }
        }
      }
    }
  },
  "nbformat": 4,
  "nbformat_minor": 0
}