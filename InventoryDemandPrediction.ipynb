{
  "cells": [
    {
      "cell_type": "markdown",
      "metadata": {
        "id": "view-in-github",
        "colab_type": "text"
      },
      "source": [
        "<a href=\"https://colab.research.google.com/github/mdeniz1/datascienceprojects/blob/main/InventoryDemandPrediction.ipynb\" target=\"_parent\"><img src=\"https://colab.research.google.com/assets/colab-badge.svg\" alt=\"Open In Colab\"/></a>"
      ]
    },
    {
      "cell_type": "markdown",
      "source": [
        "  This notebook builds a catboost model for  the daily demand prediction of perishable food items. The data come from a famous turkish retailer and contains daily sales of different perisable goods between 01-10-2021 and 28-01-2023 in different stores of the retailer.\n"
      ],
      "metadata": {
        "id": "Odmv8YOaa7To"
      }
    },
    {
      "cell_type": "code",
      "execution_count": 1,
      "metadata": {
        "colab": {
          "base_uri": "https://localhost:8080/"
        },
        "id": "jXKVvWREcf0-",
        "outputId": "d5fa7e1e-31be-4300-ac90-d0964845c153"
      },
      "outputs": [
        {
          "output_type": "stream",
          "name": "stdout",
          "text": [
            "Looking in indexes: https://pypi.org/simple, https://us-python.pkg.dev/colab-wheels/public/simple/\n",
            "Collecting catboost\n",
            "  Downloading catboost-1.1.1-cp39-none-manylinux1_x86_64.whl (76.6 MB)\n",
            "\u001b[2K     \u001b[90m━━━━━━━━━━━━━━━━━━━━━━━━━━━━━━━━━━━━━━━━\u001b[0m \u001b[32m76.6/76.6 MB\u001b[0m \u001b[31m16.4 MB/s\u001b[0m eta \u001b[36m0:00:00\u001b[0m\n",
            "\u001b[?25hRequirement already satisfied: scipy in /usr/local/lib/python3.9/dist-packages (from catboost) (1.10.1)\n",
            "Requirement already satisfied: matplotlib in /usr/local/lib/python3.9/dist-packages (from catboost) (3.7.1)\n",
            "Requirement already satisfied: pandas>=0.24.0 in /usr/local/lib/python3.9/dist-packages (from catboost) (1.4.4)\n",
            "Requirement already satisfied: six in /usr/local/lib/python3.9/dist-packages (from catboost) (1.16.0)\n",
            "Requirement already satisfied: plotly in /usr/local/lib/python3.9/dist-packages (from catboost) (5.13.1)\n",
            "Requirement already satisfied: graphviz in /usr/local/lib/python3.9/dist-packages (from catboost) (0.20.1)\n",
            "Requirement already satisfied: numpy>=1.16.0 in /usr/local/lib/python3.9/dist-packages (from catboost) (1.22.4)\n",
            "Requirement already satisfied: pytz>=2020.1 in /usr/local/lib/python3.9/dist-packages (from pandas>=0.24.0->catboost) (2022.7.1)\n",
            "Requirement already satisfied: python-dateutil>=2.8.1 in /usr/local/lib/python3.9/dist-packages (from pandas>=0.24.0->catboost) (2.8.2)\n",
            "Requirement already satisfied: importlib-resources>=3.2.0 in /usr/local/lib/python3.9/dist-packages (from matplotlib->catboost) (5.12.0)\n",
            "Requirement already satisfied: packaging>=20.0 in /usr/local/lib/python3.9/dist-packages (from matplotlib->catboost) (23.0)\n",
            "Requirement already satisfied: fonttools>=4.22.0 in /usr/local/lib/python3.9/dist-packages (from matplotlib->catboost) (4.39.3)\n",
            "Requirement already satisfied: pillow>=6.2.0 in /usr/local/lib/python3.9/dist-packages (from matplotlib->catboost) (8.4.0)\n",
            "Requirement already satisfied: cycler>=0.10 in /usr/local/lib/python3.9/dist-packages (from matplotlib->catboost) (0.11.0)\n",
            "Requirement already satisfied: pyparsing>=2.3.1 in /usr/local/lib/python3.9/dist-packages (from matplotlib->catboost) (3.0.9)\n",
            "Requirement already satisfied: contourpy>=1.0.1 in /usr/local/lib/python3.9/dist-packages (from matplotlib->catboost) (1.0.7)\n",
            "Requirement already satisfied: kiwisolver>=1.0.1 in /usr/local/lib/python3.9/dist-packages (from matplotlib->catboost) (1.4.4)\n",
            "Requirement already satisfied: tenacity>=6.2.0 in /usr/local/lib/python3.9/dist-packages (from plotly->catboost) (8.2.2)\n",
            "Requirement already satisfied: zipp>=3.1.0 in /usr/local/lib/python3.9/dist-packages (from importlib-resources>=3.2.0->matplotlib->catboost) (3.15.0)\n",
            "Installing collected packages: catboost\n",
            "Successfully installed catboost-1.1.1\n"
          ]
        }
      ],
      "source": [
        "pip install catboost\n"
      ]
    },
    {
      "cell_type": "code",
      "execution_count": 2,
      "metadata": {
        "id": "sN5uPLZ5o33-"
      },
      "outputs": [],
      "source": [
        "import pandas as pd\n",
        "import numpy as np\n",
        "from sklearn.model_selection import train_test_split\n",
        "from sklearn.preprocessing import LabelEncoder, StandardScaler\n",
        "from sklearn import metrics\n",
        "from xgboost import XGBRegressor\n",
        "from sklearn.linear_model import LinearRegression, Lasso, Ridge\n",
        "from sklearn.ensemble import RandomForestRegressor\n",
        "from sklearn.metrics import mean_absolute_error as mae\n",
        "  \n",
        "import warnings\n",
        "warnings.filterwarnings('ignore')\n",
        "from catboost import CatBoostRegressor\n",
        "from sklearn.model_selection import GridSearchCV\n",
        "from sklearn.model_selection import RandomizedSearchCV\n",
        "\n",
        "import matplotlib.pyplot as plt\n",
        "import numpy as np\n",
        "import seaborn as sns\n",
        "from sklearn.model_selection import RandomizedSearchCV\n",
        "from scipy.stats import randint\n",
        "from sklearn.model_selection import RandomizedSearchCV, TimeSeriesSplit\n",
        "\n",
        "from sklearn.model_selection import RandomizedSearchCV\n",
        "from sklearn.metrics import mean_squared_error\n"
      ]
    },
    {
      "cell_type": "code",
      "execution_count": 3,
      "metadata": {
        "colab": {
          "base_uri": "https://localhost:8080/"
        },
        "id": "RU_3F3D7mUwC",
        "outputId": "2c868a44-06b7-4669-d093-745acc60728f"
      },
      "outputs": [
        {
          "output_type": "stream",
          "name": "stdout",
          "text": [
            "Mounted at /content/drive/\n"
          ]
        }
      ],
      "source": [
        "from google.colab import drive\n",
        "drive.mount('/content/drive/')"
      ]
    },
    {
      "cell_type": "code",
      "execution_count": null,
      "metadata": {
        "id": "QKHTjmKhuTrq"
      },
      "outputs": [],
      "source": [
        "import glob\n",
        "import os\n"
      ]
    },
    {
      "cell_type": "code",
      "execution_count": null,
      "metadata": {
        "colab": {
          "background_save": true
        },
        "id": "sgDtNUvrnm2S"
      },
      "outputs": [],
      "source": [
        "path = r'/content/drive/My Drive/tumexceller/'   \n",
        "all_files = glob.glob(os.path.join(path, \"*.xlsx\"))    \n",
        "\n",
        "\n",
        "\n",
        "df_from_each_file = (pd.read_excel(f,'Data') for f in all_files)\n",
        "df_from_each_file\n",
        "concatenated_df = pd.concat(df_from_each_file, ignore_index=True)\n"
      ]
    },
    {
      "cell_type": "code",
      "execution_count": null,
      "metadata": {
        "id": "yVq3Dluzmiyb"
      },
      "outputs": [],
      "source": [
        "# concatenated_df.to_pickle(\"/content/drive/My Drive/tumexceller/concatenated_Data.pkl\")\n"
      ]
    },
    {
      "cell_type": "code",
      "execution_count": 4,
      "metadata": {
        "id": "R0yiz-r8687J"
      },
      "outputs": [],
      "source": [
        "unpickled_df = pd.read_pickle(\"/content/drive/My Drive/tumexceller/concatenated_Data.pkl\")  "
      ]
    },
    {
      "cell_type": "code",
      "execution_count": 6,
      "metadata": {
        "id": "VyZeI_sxEefP"
      },
      "outputs": [],
      "source": [
        "retailData=unpickled_df.copy()"
      ]
    },
    {
      "cell_type": "markdown",
      "metadata": {
        "id": "nt0ZR5eOopud"
      },
      "source": [
        "EXPLORATORY DATA ANALYSIS AND DATA CLEANING"
      ]
    },
    {
      "cell_type": "code",
      "execution_count": null,
      "metadata": {
        "colab": {
          "base_uri": "https://localhost:8080/",
          "height": 206
        },
        "id": "OZhrF6CCHwJk",
        "outputId": "8c5cadee-17bd-4f86-a1bf-183075583ab0"
      },
      "outputs": [
        {
          "output_type": "execute_result",
          "data": {
            "text/plain": [
              "   GÜN  HAFTA  AY   YIL      TARİH  AMBAR_NO                AMBAR  \\\n",
              "0    5      1   1  2021 2021-01-01     100.0  Beşiktaş (İstanbul)   \n",
              "1    5      1   1  2021 2021-01-01     100.0  Beşiktaş (İstanbul)   \n",
              "2    5      1   1  2021 2021-01-01     100.0  Beşiktaş (İstanbul)   \n",
              "3    5      1   1  2021 2021-01-01     100.0  Beşiktaş (İstanbul)   \n",
              "4    5      1   1  2021 2021-01-01     100.0  Beşiktaş (İstanbul)   \n",
              "\n",
              "  MALZEME_KODU                     MALZEME_ADI  Satış Adedi segment  İ/Ş   İL  \\\n",
              "0    MRK.00826     Milagro Patates File - 2 kg           16     NaN  NaN  NaN   \n",
              "1    MRK.00827  Milagro Salkım Domates - 900 g            8     NaN  NaN  NaN   \n",
              "2    MRK.00830   Milagro Şeker Domates - 250 g           13     NaN  NaN  NaN   \n",
              "3    MRK.00834         Kivi 3'lü Paket - 250 g            5     NaN  NaN  NaN   \n",
              "4    MRK.00926             Milagro Muz - 600 g            5     NaN  NaN  NaN   \n",
              "\n",
              "  ROUT SEGMENT  \n",
              "0  NaN     NaN  \n",
              "1  NaN     NaN  \n",
              "2  NaN     NaN  \n",
              "3  NaN     NaN  \n",
              "4  NaN     NaN  "
            ],
            "text/html": [
              "\n",
              "  <div id=\"df-ca1d9508-0bc0-4d00-9dbd-c7d96b971129\">\n",
              "    <div class=\"colab-df-container\">\n",
              "      <div>\n",
              "<style scoped>\n",
              "    .dataframe tbody tr th:only-of-type {\n",
              "        vertical-align: middle;\n",
              "    }\n",
              "\n",
              "    .dataframe tbody tr th {\n",
              "        vertical-align: top;\n",
              "    }\n",
              "\n",
              "    .dataframe thead th {\n",
              "        text-align: right;\n",
              "    }\n",
              "</style>\n",
              "<table border=\"1\" class=\"dataframe\">\n",
              "  <thead>\n",
              "    <tr style=\"text-align: right;\">\n",
              "      <th></th>\n",
              "      <th>GÜN</th>\n",
              "      <th>HAFTA</th>\n",
              "      <th>AY</th>\n",
              "      <th>YIL</th>\n",
              "      <th>TARİH</th>\n",
              "      <th>AMBAR_NO</th>\n",
              "      <th>AMBAR</th>\n",
              "      <th>MALZEME_KODU</th>\n",
              "      <th>MALZEME_ADI</th>\n",
              "      <th>Satış Adedi</th>\n",
              "      <th>segment</th>\n",
              "      <th>İ/Ş</th>\n",
              "      <th>İL</th>\n",
              "      <th>ROUT</th>\n",
              "      <th>SEGMENT</th>\n",
              "    </tr>\n",
              "  </thead>\n",
              "  <tbody>\n",
              "    <tr>\n",
              "      <th>0</th>\n",
              "      <td>5</td>\n",
              "      <td>1</td>\n",
              "      <td>1</td>\n",
              "      <td>2021</td>\n",
              "      <td>2021-01-01</td>\n",
              "      <td>100.0</td>\n",
              "      <td>Beşiktaş (İstanbul)</td>\n",
              "      <td>MRK.00826</td>\n",
              "      <td>Milagro Patates File - 2 kg</td>\n",
              "      <td>16</td>\n",
              "      <td>NaN</td>\n",
              "      <td>NaN</td>\n",
              "      <td>NaN</td>\n",
              "      <td>NaN</td>\n",
              "      <td>NaN</td>\n",
              "    </tr>\n",
              "    <tr>\n",
              "      <th>1</th>\n",
              "      <td>5</td>\n",
              "      <td>1</td>\n",
              "      <td>1</td>\n",
              "      <td>2021</td>\n",
              "      <td>2021-01-01</td>\n",
              "      <td>100.0</td>\n",
              "      <td>Beşiktaş (İstanbul)</td>\n",
              "      <td>MRK.00827</td>\n",
              "      <td>Milagro Salkım Domates - 900 g</td>\n",
              "      <td>8</td>\n",
              "      <td>NaN</td>\n",
              "      <td>NaN</td>\n",
              "      <td>NaN</td>\n",
              "      <td>NaN</td>\n",
              "      <td>NaN</td>\n",
              "    </tr>\n",
              "    <tr>\n",
              "      <th>2</th>\n",
              "      <td>5</td>\n",
              "      <td>1</td>\n",
              "      <td>1</td>\n",
              "      <td>2021</td>\n",
              "      <td>2021-01-01</td>\n",
              "      <td>100.0</td>\n",
              "      <td>Beşiktaş (İstanbul)</td>\n",
              "      <td>MRK.00830</td>\n",
              "      <td>Milagro Şeker Domates - 250 g</td>\n",
              "      <td>13</td>\n",
              "      <td>NaN</td>\n",
              "      <td>NaN</td>\n",
              "      <td>NaN</td>\n",
              "      <td>NaN</td>\n",
              "      <td>NaN</td>\n",
              "    </tr>\n",
              "    <tr>\n",
              "      <th>3</th>\n",
              "      <td>5</td>\n",
              "      <td>1</td>\n",
              "      <td>1</td>\n",
              "      <td>2021</td>\n",
              "      <td>2021-01-01</td>\n",
              "      <td>100.0</td>\n",
              "      <td>Beşiktaş (İstanbul)</td>\n",
              "      <td>MRK.00834</td>\n",
              "      <td>Kivi 3'lü Paket - 250 g</td>\n",
              "      <td>5</td>\n",
              "      <td>NaN</td>\n",
              "      <td>NaN</td>\n",
              "      <td>NaN</td>\n",
              "      <td>NaN</td>\n",
              "      <td>NaN</td>\n",
              "    </tr>\n",
              "    <tr>\n",
              "      <th>4</th>\n",
              "      <td>5</td>\n",
              "      <td>1</td>\n",
              "      <td>1</td>\n",
              "      <td>2021</td>\n",
              "      <td>2021-01-01</td>\n",
              "      <td>100.0</td>\n",
              "      <td>Beşiktaş (İstanbul)</td>\n",
              "      <td>MRK.00926</td>\n",
              "      <td>Milagro Muz - 600 g</td>\n",
              "      <td>5</td>\n",
              "      <td>NaN</td>\n",
              "      <td>NaN</td>\n",
              "      <td>NaN</td>\n",
              "      <td>NaN</td>\n",
              "      <td>NaN</td>\n",
              "    </tr>\n",
              "  </tbody>\n",
              "</table>\n",
              "</div>\n",
              "      <button class=\"colab-df-convert\" onclick=\"convertToInteractive('df-ca1d9508-0bc0-4d00-9dbd-c7d96b971129')\"\n",
              "              title=\"Convert this dataframe to an interactive table.\"\n",
              "              style=\"display:none;\">\n",
              "        \n",
              "  <svg xmlns=\"http://www.w3.org/2000/svg\" height=\"24px\"viewBox=\"0 0 24 24\"\n",
              "       width=\"24px\">\n",
              "    <path d=\"M0 0h24v24H0V0z\" fill=\"none\"/>\n",
              "    <path d=\"M18.56 5.44l.94 2.06.94-2.06 2.06-.94-2.06-.94-.94-2.06-.94 2.06-2.06.94zm-11 1L8.5 8.5l.94-2.06 2.06-.94-2.06-.94L8.5 2.5l-.94 2.06-2.06.94zm10 10l.94 2.06.94-2.06 2.06-.94-2.06-.94-.94-2.06-.94 2.06-2.06.94z\"/><path d=\"M17.41 7.96l-1.37-1.37c-.4-.4-.92-.59-1.43-.59-.52 0-1.04.2-1.43.59L10.3 9.45l-7.72 7.72c-.78.78-.78 2.05 0 2.83L4 21.41c.39.39.9.59 1.41.59.51 0 1.02-.2 1.41-.59l7.78-7.78 2.81-2.81c.8-.78.8-2.07 0-2.86zM5.41 20L4 18.59l7.72-7.72 1.47 1.35L5.41 20z\"/>\n",
              "  </svg>\n",
              "      </button>\n",
              "      \n",
              "  <style>\n",
              "    .colab-df-container {\n",
              "      display:flex;\n",
              "      flex-wrap:wrap;\n",
              "      gap: 12px;\n",
              "    }\n",
              "\n",
              "    .colab-df-convert {\n",
              "      background-color: #E8F0FE;\n",
              "      border: none;\n",
              "      border-radius: 50%;\n",
              "      cursor: pointer;\n",
              "      display: none;\n",
              "      fill: #1967D2;\n",
              "      height: 32px;\n",
              "      padding: 0 0 0 0;\n",
              "      width: 32px;\n",
              "    }\n",
              "\n",
              "    .colab-df-convert:hover {\n",
              "      background-color: #E2EBFA;\n",
              "      box-shadow: 0px 1px 2px rgba(60, 64, 67, 0.3), 0px 1px 3px 1px rgba(60, 64, 67, 0.15);\n",
              "      fill: #174EA6;\n",
              "    }\n",
              "\n",
              "    [theme=dark] .colab-df-convert {\n",
              "      background-color: #3B4455;\n",
              "      fill: #D2E3FC;\n",
              "    }\n",
              "\n",
              "    [theme=dark] .colab-df-convert:hover {\n",
              "      background-color: #434B5C;\n",
              "      box-shadow: 0px 1px 3px 1px rgba(0, 0, 0, 0.15);\n",
              "      filter: drop-shadow(0px 1px 2px rgba(0, 0, 0, 0.3));\n",
              "      fill: #FFFFFF;\n",
              "    }\n",
              "  </style>\n",
              "\n",
              "      <script>\n",
              "        const buttonEl =\n",
              "          document.querySelector('#df-ca1d9508-0bc0-4d00-9dbd-c7d96b971129 button.colab-df-convert');\n",
              "        buttonEl.style.display =\n",
              "          google.colab.kernel.accessAllowed ? 'block' : 'none';\n",
              "\n",
              "        async function convertToInteractive(key) {\n",
              "          const element = document.querySelector('#df-ca1d9508-0bc0-4d00-9dbd-c7d96b971129');\n",
              "          const dataTable =\n",
              "            await google.colab.kernel.invokeFunction('convertToInteractive',\n",
              "                                                     [key], {});\n",
              "          if (!dataTable) return;\n",
              "\n",
              "          const docLinkHtml = 'Like what you see? Visit the ' +\n",
              "            '<a target=\"_blank\" href=https://colab.research.google.com/notebooks/data_table.ipynb>data table notebook</a>'\n",
              "            + ' to learn more about interactive tables.';\n",
              "          element.innerHTML = '';\n",
              "          dataTable['output_type'] = 'display_data';\n",
              "          await google.colab.output.renderOutput(dataTable, element);\n",
              "          const docLink = document.createElement('div');\n",
              "          docLink.innerHTML = docLinkHtml;\n",
              "          element.appendChild(docLink);\n",
              "        }\n",
              "      </script>\n",
              "    </div>\n",
              "  </div>\n",
              "  "
            ]
          },
          "metadata": {},
          "execution_count": 6
        }
      ],
      "source": [
        "retailData.head()"
      ]
    },
    {
      "cell_type": "markdown",
      "metadata": {
        "id": "QaGFWPgXBC9U"
      },
      "source": [
        "The last 4 columns are useless so I delete them all."
      ]
    },
    {
      "cell_type": "code",
      "execution_count": 7,
      "metadata": {
        "id": "LJgyV9NM8rGL"
      },
      "outputs": [],
      "source": [
        "retailData.drop(retailData.iloc[:, 10:16], inplace=True, axis=1)\n"
      ]
    },
    {
      "cell_type": "code",
      "execution_count": null,
      "metadata": {
        "colab": {
          "base_uri": "https://localhost:8080/"
        },
        "id": "Z_NxfTHKI2bA",
        "outputId": "54465f08-0c6f-4be7-ad5f-0ad1f880a41b"
      },
      "outputs": [
        {
          "data": {
            "text/plain": [
              "(11882206, 10)"
            ]
          },
          "execution_count": 14,
          "metadata": {},
          "output_type": "execute_result"
        }
      ],
      "source": [
        "# the number of samples in the data set\n",
        "retailData.shape "
      ]
    },
    {
      "cell_type": "code",
      "execution_count": null,
      "metadata": {
        "colab": {
          "base_uri": "https://localhost:8080/"
        },
        "id": "ktbY7k_EJW3N",
        "outputId": "72d0fd95-f8f4-4a90-bb1e-db347e954bfc"
      },
      "outputs": [
        {
          "data": {
            "text/plain": [
              "(10502,)"
            ]
          },
          "execution_count": 15,
          "metadata": {},
          "output_type": "execute_result"
        }
      ],
      "source": [
        "# the number of Null values\n",
        "retailData.isna().sum().sum() ,"
      ]
    },
    {
      "cell_type": "markdown",
      "metadata": {
        "id": "A80z5j9KKTQq"
      },
      "source": [
        "let's see which columns have NA  values and the type of each column"
      ]
    },
    {
      "cell_type": "code",
      "execution_count": null,
      "metadata": {
        "colab": {
          "base_uri": "https://localhost:8080/"
        },
        "id": "MSKbf2DJOcMn",
        "outputId": "6f7cbde0-7b56-471e-f745-6daecfa8ae0e"
      },
      "outputs": [
        {
          "name": "stdout",
          "output_type": "stream",
          "text": [
            "<class 'pandas.core.frame.DataFrame'>\n",
            "Int64Index: 11876955 entries, 0 to 11882205\n",
            "Data columns (total 10 columns):\n",
            " #   Column        Non-Null Count     Dtype         \n",
            "---  ------        --------------     -----         \n",
            " 0   GÜN           11876955 non-null  int64         \n",
            " 1   HAFTA         11876955 non-null  int64         \n",
            " 2   AY            11876955 non-null  int64         \n",
            " 3   YIL           11876955 non-null  int64         \n",
            " 4   TARİH         11876955 non-null  datetime64[ns]\n",
            " 5   AMBAR_NO      11876955 non-null  float64       \n",
            " 6   AMBAR         11876955 non-null  object        \n",
            " 7   MALZEME_KODU  11876955 non-null  object        \n",
            " 8   MALZEME_ADI   11876955 non-null  object        \n",
            " 9   Satış Adedi   11876955 non-null  int64         \n",
            "dtypes: datetime64[ns](1), float64(1), int64(5), object(3)\n",
            "memory usage: 996.8+ MB\n"
          ]
        }
      ],
      "source": [
        "retailData.info(verbose=True, show_counts=True)"
      ]
    },
    {
      "cell_type": "markdown",
      "metadata": {
        "id": "G5o79nkiKfm-"
      },
      "source": [
        "** There are 10502 NA values and according to the above table, half of the NA values come from item code and the other half comes out of store code. The rest of the columns all have non-null values. So I impute those rows with null values since rows without item and/or store code can not be feed into a machine model **"
      ]
    },
    {
      "cell_type": "code",
      "execution_count": 8,
      "metadata": {
        "id": "POkCekiLXJx4"
      },
      "outputs": [],
      "source": [
        "retailData = retailData.dropna()"
      ]
    },
    {
      "cell_type": "code",
      "execution_count": null,
      "metadata": {
        "colab": {
          "base_uri": "https://localhost:8080/"
        },
        "id": "uC7fLhdrJHKw",
        "outputId": "e4f8e6d5-be43-474c-dae3-bc38066591c0"
      },
      "outputs": [
        {
          "data": {
            "text/plain": [
              "7378135"
            ]
          },
          "execution_count": 12,
          "metadata": {},
          "output_type": "execute_result"
        }
      ],
      "source": [
        "# the number of target values that are equal to 0\n",
        "(retailData['Satış Adedi'] == 0).sum().sum()"
      ]
    },
    {
      "cell_type": "markdown",
      "metadata": {
        "id": "nDc31T3BRH2k"
      },
      "source": [
        "over 75 % of the dataset have 0 sales. We dont have the stock data. However, I learned from inventory demand planners that 0 number sales are the items that the planners decided not to send these stores. that is why their sales value is equal to zero. So imputing those rows is a good idea. "
      ]
    },
    {
      "cell_type": "code",
      "execution_count": 9,
      "metadata": {
        "colab": {
          "base_uri": "https://localhost:8080/"
        },
        "id": "Pha2GJwNuqiD",
        "outputId": "3c1c73d6-0de1-48f5-bc2e-b70a6d49bca5"
      },
      "outputs": [
        {
          "output_type": "execute_result",
          "data": {
            "text/plain": [
              "(4498820, 10)"
            ]
          },
          "metadata": {},
          "execution_count": 9
        }
      ],
      "source": [
        "retailDataNzero = retailData[retailData['Satış Adedi'] != 0].reset_index(drop=True)\n",
        "retailDataNzero.shape\n",
        "\n"
      ]
    },
    {
      "cell_type": "markdown",
      "metadata": {
        "id": "Z0g4Ny38Hv-J"
      },
      "source": [
        "**Summary statistics of the new non-zero dataset**"
      ]
    },
    {
      "cell_type": "code",
      "execution_count": null,
      "metadata": {
        "colab": {
          "base_uri": "https://localhost:8080/",
          "height": 300
        },
        "id": "geOCQEbzepxS",
        "outputId": "e6528386-0869-40af-cf99-7170f8727aef"
      },
      "outputs": [
        {
          "output_type": "execute_result",
          "data": {
            "text/plain": [
              "              GÜN       HAFTA          AY         YIL    AMBAR_NO  Satış Adedi\n",
              "count  4504061.00  4504061.00  4504061.00  4504061.00  4498820.00   4504061.00\n",
              "mean         3.04       27.58        6.59     2021.60      331.96         3.36\n",
              "std          2.03       15.59        3.59        0.61      159.35         3.23\n",
              "min          0.00        1.00        1.00     2021.00      100.00        -3.00\n",
              "25%          1.00       13.00        3.00     2021.00      202.00         1.00\n",
              "50%          3.00       28.00        7.00     2022.00      312.00         2.00\n",
              "75%          5.00       41.00       10.00     2022.00      438.00         4.00\n",
              "max          6.00       53.00       12.00     2023.00      818.00        92.00"
            ],
            "text/html": [
              "\n",
              "  <div id=\"df-b680d049-07df-431b-83ef-c4279961dd12\">\n",
              "    <div class=\"colab-df-container\">\n",
              "      <div>\n",
              "<style scoped>\n",
              "    .dataframe tbody tr th:only-of-type {\n",
              "        vertical-align: middle;\n",
              "    }\n",
              "\n",
              "    .dataframe tbody tr th {\n",
              "        vertical-align: top;\n",
              "    }\n",
              "\n",
              "    .dataframe thead th {\n",
              "        text-align: right;\n",
              "    }\n",
              "</style>\n",
              "<table border=\"1\" class=\"dataframe\">\n",
              "  <thead>\n",
              "    <tr style=\"text-align: right;\">\n",
              "      <th></th>\n",
              "      <th>GÜN</th>\n",
              "      <th>HAFTA</th>\n",
              "      <th>AY</th>\n",
              "      <th>YIL</th>\n",
              "      <th>AMBAR_NO</th>\n",
              "      <th>Satış Adedi</th>\n",
              "    </tr>\n",
              "  </thead>\n",
              "  <tbody>\n",
              "    <tr>\n",
              "      <th>count</th>\n",
              "      <td>4504061.00</td>\n",
              "      <td>4504061.00</td>\n",
              "      <td>4504061.00</td>\n",
              "      <td>4504061.00</td>\n",
              "      <td>4498820.00</td>\n",
              "      <td>4504061.00</td>\n",
              "    </tr>\n",
              "    <tr>\n",
              "      <th>mean</th>\n",
              "      <td>3.04</td>\n",
              "      <td>27.58</td>\n",
              "      <td>6.59</td>\n",
              "      <td>2021.60</td>\n",
              "      <td>331.96</td>\n",
              "      <td>3.36</td>\n",
              "    </tr>\n",
              "    <tr>\n",
              "      <th>std</th>\n",
              "      <td>2.03</td>\n",
              "      <td>15.59</td>\n",
              "      <td>3.59</td>\n",
              "      <td>0.61</td>\n",
              "      <td>159.35</td>\n",
              "      <td>3.23</td>\n",
              "    </tr>\n",
              "    <tr>\n",
              "      <th>min</th>\n",
              "      <td>0.00</td>\n",
              "      <td>1.00</td>\n",
              "      <td>1.00</td>\n",
              "      <td>2021.00</td>\n",
              "      <td>100.00</td>\n",
              "      <td>-3.00</td>\n",
              "    </tr>\n",
              "    <tr>\n",
              "      <th>25%</th>\n",
              "      <td>1.00</td>\n",
              "      <td>13.00</td>\n",
              "      <td>3.00</td>\n",
              "      <td>2021.00</td>\n",
              "      <td>202.00</td>\n",
              "      <td>1.00</td>\n",
              "    </tr>\n",
              "    <tr>\n",
              "      <th>50%</th>\n",
              "      <td>3.00</td>\n",
              "      <td>28.00</td>\n",
              "      <td>7.00</td>\n",
              "      <td>2022.00</td>\n",
              "      <td>312.00</td>\n",
              "      <td>2.00</td>\n",
              "    </tr>\n",
              "    <tr>\n",
              "      <th>75%</th>\n",
              "      <td>5.00</td>\n",
              "      <td>41.00</td>\n",
              "      <td>10.00</td>\n",
              "      <td>2022.00</td>\n",
              "      <td>438.00</td>\n",
              "      <td>4.00</td>\n",
              "    </tr>\n",
              "    <tr>\n",
              "      <th>max</th>\n",
              "      <td>6.00</td>\n",
              "      <td>53.00</td>\n",
              "      <td>12.00</td>\n",
              "      <td>2023.00</td>\n",
              "      <td>818.00</td>\n",
              "      <td>92.00</td>\n",
              "    </tr>\n",
              "  </tbody>\n",
              "</table>\n",
              "</div>\n",
              "      <button class=\"colab-df-convert\" onclick=\"convertToInteractive('df-b680d049-07df-431b-83ef-c4279961dd12')\"\n",
              "              title=\"Convert this dataframe to an interactive table.\"\n",
              "              style=\"display:none;\">\n",
              "        \n",
              "  <svg xmlns=\"http://www.w3.org/2000/svg\" height=\"24px\"viewBox=\"0 0 24 24\"\n",
              "       width=\"24px\">\n",
              "    <path d=\"M0 0h24v24H0V0z\" fill=\"none\"/>\n",
              "    <path d=\"M18.56 5.44l.94 2.06.94-2.06 2.06-.94-2.06-.94-.94-2.06-.94 2.06-2.06.94zm-11 1L8.5 8.5l.94-2.06 2.06-.94-2.06-.94L8.5 2.5l-.94 2.06-2.06.94zm10 10l.94 2.06.94-2.06 2.06-.94-2.06-.94-.94-2.06-.94 2.06-2.06.94z\"/><path d=\"M17.41 7.96l-1.37-1.37c-.4-.4-.92-.59-1.43-.59-.52 0-1.04.2-1.43.59L10.3 9.45l-7.72 7.72c-.78.78-.78 2.05 0 2.83L4 21.41c.39.39.9.59 1.41.59.51 0 1.02-.2 1.41-.59l7.78-7.78 2.81-2.81c.8-.78.8-2.07 0-2.86zM5.41 20L4 18.59l7.72-7.72 1.47 1.35L5.41 20z\"/>\n",
              "  </svg>\n",
              "      </button>\n",
              "      \n",
              "  <style>\n",
              "    .colab-df-container {\n",
              "      display:flex;\n",
              "      flex-wrap:wrap;\n",
              "      gap: 12px;\n",
              "    }\n",
              "\n",
              "    .colab-df-convert {\n",
              "      background-color: #E8F0FE;\n",
              "      border: none;\n",
              "      border-radius: 50%;\n",
              "      cursor: pointer;\n",
              "      display: none;\n",
              "      fill: #1967D2;\n",
              "      height: 32px;\n",
              "      padding: 0 0 0 0;\n",
              "      width: 32px;\n",
              "    }\n",
              "\n",
              "    .colab-df-convert:hover {\n",
              "      background-color: #E2EBFA;\n",
              "      box-shadow: 0px 1px 2px rgba(60, 64, 67, 0.3), 0px 1px 3px 1px rgba(60, 64, 67, 0.15);\n",
              "      fill: #174EA6;\n",
              "    }\n",
              "\n",
              "    [theme=dark] .colab-df-convert {\n",
              "      background-color: #3B4455;\n",
              "      fill: #D2E3FC;\n",
              "    }\n",
              "\n",
              "    [theme=dark] .colab-df-convert:hover {\n",
              "      background-color: #434B5C;\n",
              "      box-shadow: 0px 1px 3px 1px rgba(0, 0, 0, 0.15);\n",
              "      filter: drop-shadow(0px 1px 2px rgba(0, 0, 0, 0.3));\n",
              "      fill: #FFFFFF;\n",
              "    }\n",
              "  </style>\n",
              "\n",
              "      <script>\n",
              "        const buttonEl =\n",
              "          document.querySelector('#df-b680d049-07df-431b-83ef-c4279961dd12 button.colab-df-convert');\n",
              "        buttonEl.style.display =\n",
              "          google.colab.kernel.accessAllowed ? 'block' : 'none';\n",
              "\n",
              "        async function convertToInteractive(key) {\n",
              "          const element = document.querySelector('#df-b680d049-07df-431b-83ef-c4279961dd12');\n",
              "          const dataTable =\n",
              "            await google.colab.kernel.invokeFunction('convertToInteractive',\n",
              "                                                     [key], {});\n",
              "          if (!dataTable) return;\n",
              "\n",
              "          const docLinkHtml = 'Like what you see? Visit the ' +\n",
              "            '<a target=\"_blank\" href=https://colab.research.google.com/notebooks/data_table.ipynb>data table notebook</a>'\n",
              "            + ' to learn more about interactive tables.';\n",
              "          element.innerHTML = '';\n",
              "          dataTable['output_type'] = 'display_data';\n",
              "          await google.colab.output.renderOutput(dataTable, element);\n",
              "          const docLink = document.createElement('div');\n",
              "          docLink.innerHTML = docLinkHtml;\n",
              "          element.appendChild(docLink);\n",
              "        }\n",
              "      </script>\n",
              "    </div>\n",
              "  </div>\n",
              "  "
            ]
          },
          "metadata": {},
          "execution_count": 9
        }
      ],
      "source": [
        "retailDataNzero.describe().round(2)"
      ]
    },
    {
      "cell_type": "markdown",
      "source": [
        "Negative values are definetely errors in data preparation process. So I delete them all"
      ],
      "metadata": {
        "id": "k5DVCvPlDuGx"
      }
    },
    {
      "cell_type": "code",
      "execution_count": 10,
      "metadata": {
        "id": "NL3FhGs9cqIU"
      },
      "outputs": [],
      "source": [
        "retailDataNzero = retailDataNzero[retailDataNzero['Satış Adedi']>0].reset_index(drop=True)"
      ]
    },
    {
      "cell_type": "code",
      "execution_count": 11,
      "metadata": {
        "colab": {
          "base_uri": "https://localhost:8080/",
          "height": 300
        },
        "id": "PnVqjb09fDGg",
        "outputId": "0705cda3-e8eb-4fab-8df9-5365bfa1a206"
      },
      "outputs": [
        {
          "output_type": "execute_result",
          "data": {
            "text/plain": [
              "              GÜN       HAFTA          AY         YIL    AMBAR_NO  Satış Adedi\n",
              "count  4498683.00  4498683.00  4498683.00  4498683.00  4498683.00   4498683.00\n",
              "mean         3.04       27.60        6.59     2021.60      331.96         3.36\n",
              "std          2.03       15.59        3.59        0.61      159.35         3.22\n",
              "min          0.00        1.00        1.00     2021.00      100.00         1.00\n",
              "25%          1.00       13.00        3.00     2021.00      202.00         1.00\n",
              "50%          3.00       28.00        7.00     2022.00      312.00         2.00\n",
              "75%          5.00       41.00       10.00     2022.00      438.00         4.00\n",
              "max          6.00       53.00       12.00     2023.00      818.00        92.00"
            ],
            "text/html": [
              "\n",
              "  <div id=\"df-d3af3b73-e938-4393-a793-cb5b55c0f44c\">\n",
              "    <div class=\"colab-df-container\">\n",
              "      <div>\n",
              "<style scoped>\n",
              "    .dataframe tbody tr th:only-of-type {\n",
              "        vertical-align: middle;\n",
              "    }\n",
              "\n",
              "    .dataframe tbody tr th {\n",
              "        vertical-align: top;\n",
              "    }\n",
              "\n",
              "    .dataframe thead th {\n",
              "        text-align: right;\n",
              "    }\n",
              "</style>\n",
              "<table border=\"1\" class=\"dataframe\">\n",
              "  <thead>\n",
              "    <tr style=\"text-align: right;\">\n",
              "      <th></th>\n",
              "      <th>GÜN</th>\n",
              "      <th>HAFTA</th>\n",
              "      <th>AY</th>\n",
              "      <th>YIL</th>\n",
              "      <th>AMBAR_NO</th>\n",
              "      <th>Satış Adedi</th>\n",
              "    </tr>\n",
              "  </thead>\n",
              "  <tbody>\n",
              "    <tr>\n",
              "      <th>count</th>\n",
              "      <td>4498683.00</td>\n",
              "      <td>4498683.00</td>\n",
              "      <td>4498683.00</td>\n",
              "      <td>4498683.00</td>\n",
              "      <td>4498683.00</td>\n",
              "      <td>4498683.00</td>\n",
              "    </tr>\n",
              "    <tr>\n",
              "      <th>mean</th>\n",
              "      <td>3.04</td>\n",
              "      <td>27.60</td>\n",
              "      <td>6.59</td>\n",
              "      <td>2021.60</td>\n",
              "      <td>331.96</td>\n",
              "      <td>3.36</td>\n",
              "    </tr>\n",
              "    <tr>\n",
              "      <th>std</th>\n",
              "      <td>2.03</td>\n",
              "      <td>15.59</td>\n",
              "      <td>3.59</td>\n",
              "      <td>0.61</td>\n",
              "      <td>159.35</td>\n",
              "      <td>3.22</td>\n",
              "    </tr>\n",
              "    <tr>\n",
              "      <th>min</th>\n",
              "      <td>0.00</td>\n",
              "      <td>1.00</td>\n",
              "      <td>1.00</td>\n",
              "      <td>2021.00</td>\n",
              "      <td>100.00</td>\n",
              "      <td>1.00</td>\n",
              "    </tr>\n",
              "    <tr>\n",
              "      <th>25%</th>\n",
              "      <td>1.00</td>\n",
              "      <td>13.00</td>\n",
              "      <td>3.00</td>\n",
              "      <td>2021.00</td>\n",
              "      <td>202.00</td>\n",
              "      <td>1.00</td>\n",
              "    </tr>\n",
              "    <tr>\n",
              "      <th>50%</th>\n",
              "      <td>3.00</td>\n",
              "      <td>28.00</td>\n",
              "      <td>7.00</td>\n",
              "      <td>2022.00</td>\n",
              "      <td>312.00</td>\n",
              "      <td>2.00</td>\n",
              "    </tr>\n",
              "    <tr>\n",
              "      <th>75%</th>\n",
              "      <td>5.00</td>\n",
              "      <td>41.00</td>\n",
              "      <td>10.00</td>\n",
              "      <td>2022.00</td>\n",
              "      <td>438.00</td>\n",
              "      <td>4.00</td>\n",
              "    </tr>\n",
              "    <tr>\n",
              "      <th>max</th>\n",
              "      <td>6.00</td>\n",
              "      <td>53.00</td>\n",
              "      <td>12.00</td>\n",
              "      <td>2023.00</td>\n",
              "      <td>818.00</td>\n",
              "      <td>92.00</td>\n",
              "    </tr>\n",
              "  </tbody>\n",
              "</table>\n",
              "</div>\n",
              "      <button class=\"colab-df-convert\" onclick=\"convertToInteractive('df-d3af3b73-e938-4393-a793-cb5b55c0f44c')\"\n",
              "              title=\"Convert this dataframe to an interactive table.\"\n",
              "              style=\"display:none;\">\n",
              "        \n",
              "  <svg xmlns=\"http://www.w3.org/2000/svg\" height=\"24px\"viewBox=\"0 0 24 24\"\n",
              "       width=\"24px\">\n",
              "    <path d=\"M0 0h24v24H0V0z\" fill=\"none\"/>\n",
              "    <path d=\"M18.56 5.44l.94 2.06.94-2.06 2.06-.94-2.06-.94-.94-2.06-.94 2.06-2.06.94zm-11 1L8.5 8.5l.94-2.06 2.06-.94-2.06-.94L8.5 2.5l-.94 2.06-2.06.94zm10 10l.94 2.06.94-2.06 2.06-.94-2.06-.94-.94-2.06-.94 2.06-2.06.94z\"/><path d=\"M17.41 7.96l-1.37-1.37c-.4-.4-.92-.59-1.43-.59-.52 0-1.04.2-1.43.59L10.3 9.45l-7.72 7.72c-.78.78-.78 2.05 0 2.83L4 21.41c.39.39.9.59 1.41.59.51 0 1.02-.2 1.41-.59l7.78-7.78 2.81-2.81c.8-.78.8-2.07 0-2.86zM5.41 20L4 18.59l7.72-7.72 1.47 1.35L5.41 20z\"/>\n",
              "  </svg>\n",
              "      </button>\n",
              "      \n",
              "  <style>\n",
              "    .colab-df-container {\n",
              "      display:flex;\n",
              "      flex-wrap:wrap;\n",
              "      gap: 12px;\n",
              "    }\n",
              "\n",
              "    .colab-df-convert {\n",
              "      background-color: #E8F0FE;\n",
              "      border: none;\n",
              "      border-radius: 50%;\n",
              "      cursor: pointer;\n",
              "      display: none;\n",
              "      fill: #1967D2;\n",
              "      height: 32px;\n",
              "      padding: 0 0 0 0;\n",
              "      width: 32px;\n",
              "    }\n",
              "\n",
              "    .colab-df-convert:hover {\n",
              "      background-color: #E2EBFA;\n",
              "      box-shadow: 0px 1px 2px rgba(60, 64, 67, 0.3), 0px 1px 3px 1px rgba(60, 64, 67, 0.15);\n",
              "      fill: #174EA6;\n",
              "    }\n",
              "\n",
              "    [theme=dark] .colab-df-convert {\n",
              "      background-color: #3B4455;\n",
              "      fill: #D2E3FC;\n",
              "    }\n",
              "\n",
              "    [theme=dark] .colab-df-convert:hover {\n",
              "      background-color: #434B5C;\n",
              "      box-shadow: 0px 1px 3px 1px rgba(0, 0, 0, 0.15);\n",
              "      filter: drop-shadow(0px 1px 2px rgba(0, 0, 0, 0.3));\n",
              "      fill: #FFFFFF;\n",
              "    }\n",
              "  </style>\n",
              "\n",
              "      <script>\n",
              "        const buttonEl =\n",
              "          document.querySelector('#df-d3af3b73-e938-4393-a793-cb5b55c0f44c button.colab-df-convert');\n",
              "        buttonEl.style.display =\n",
              "          google.colab.kernel.accessAllowed ? 'block' : 'none';\n",
              "\n",
              "        async function convertToInteractive(key) {\n",
              "          const element = document.querySelector('#df-d3af3b73-e938-4393-a793-cb5b55c0f44c');\n",
              "          const dataTable =\n",
              "            await google.colab.kernel.invokeFunction('convertToInteractive',\n",
              "                                                     [key], {});\n",
              "          if (!dataTable) return;\n",
              "\n",
              "          const docLinkHtml = 'Like what you see? Visit the ' +\n",
              "            '<a target=\"_blank\" href=https://colab.research.google.com/notebooks/data_table.ipynb>data table notebook</a>'\n",
              "            + ' to learn more about interactive tables.';\n",
              "          element.innerHTML = '';\n",
              "          dataTable['output_type'] = 'display_data';\n",
              "          await google.colab.output.renderOutput(dataTable, element);\n",
              "          const docLink = document.createElement('div');\n",
              "          docLink.innerHTML = docLinkHtml;\n",
              "          element.appendChild(docLink);\n",
              "        }\n",
              "      </script>\n",
              "    </div>\n",
              "  </div>\n",
              "  "
            ]
          },
          "metadata": {},
          "execution_count": 11
        }
      ],
      "source": [
        "retailDataNzero.describe().round(2)"
      ]
    },
    {
      "cell_type": "markdown",
      "metadata": {
        "id": "TrQQMwEGVDZ3"
      },
      "source": [
        "except sales column, all the columns are categorical. Sales column shows that there are outlier columns  as max value is 92 while std=3.2 and the mean is 3.2.  So the target column is right skewed. Before outlier detection lets delete the negative values as they are definetely mis-valued."
      ]
    },
    {
      "cell_type": "markdown",
      "metadata": {
        "id": "hKHMb8e6rPe8"
      },
      "source": [
        "OUTLIER DETECTION"
      ]
    },
    {
      "cell_type": "markdown",
      "metadata": {
        "id": "tUeTBFspsfIB"
      },
      "source": [
        "below is whisker's plot for sale information. Sale column is the only column with non-categorical integer value."
      ]
    },
    {
      "cell_type": "code",
      "execution_count": null,
      "metadata": {
        "id": "mej9paBHD24U",
        "colab": {
          "base_uri": "https://localhost:8080/",
          "height": 539
        },
        "outputId": "677afaf4-2806-46d8-d5be-46c68def5174"
      },
      "outputs": [
        {
          "output_type": "execute_result",
          "data": {
            "text/plain": [
              "<Axes: >"
            ]
          },
          "metadata": {},
          "execution_count": 11
        },
        {
          "output_type": "display_data",
          "data": {
            "text/plain": [
              "<Figure size 800x600 with 1 Axes>"
            ],
            "image/png": "[encoded data removed]"
          },
          "metadata": {}
        }
      ],
      "source": [
        "retailDataNzero['Satış Adedi'].plot(kind=\"box\", figsize=(8,6))\n"
      ]
    },
    {
      "cell_type": "markdown",
      "metadata": {
        "id": "sMSfO-80LHSF"
      },
      "source": [
        "values above 15 are outliers yet I decide not to impute them because the inventory planners told me that that it shows the variance in the target column rather than a enrror in the dataset. That's why a model choice that is rebust to outliers is needed. "
      ]
    },
    {
      "cell_type": "markdown",
      "metadata": {
        "id": "a7whID236UjL"
      },
      "source": [
        "***plotting the total sales data for every month to detect seasonality ***"
      ]
    },
    {
      "cell_type": "code",
      "execution_count": null,
      "metadata": {
        "id": "cOEjmDDAh8tO",
        "colab": {
          "base_uri": "https://localhost:8080/",
          "height": 580
        },
        "outputId": "79891808-b71e-4b90-e966-c8d4ae7aa056"
      },
      "outputs": [
        {
          "output_type": "display_data",
          "data": {
            "text/plain": [
              "<Figure size 1000x600 with 1 Axes>"
            ],
            "image/png": "[encoded data removed]"
          },
          "metadata": {}
        }
      ],
      "source": [
        "monthly_sales = retailDataNzero.groupby(pd.Grouper(key='TARİH', freq='M'))['Satış Adedi'].sum()\n",
        "\n",
        "fig, ax = plt.subplots(figsize=(10, 6))\n",
        "monthly_sales.plot(kind='line', ax=ax)\n",
        "\n",
        "plt.title('Monthly Sales')\n",
        "plt.xlabel('Month')\n",
        "plt.ylabel('Sales')\n",
        "plt.grid()\n",
        "plt.show()\n"
      ]
    },
    {
      "cell_type": "markdown",
      "metadata": {
        "id": "KKEaBJLFXRaM"
      },
      "source": [
        "there seems to be a seasonal trend in the sales. "
      ]
    },
    {
      "cell_type": "markdown",
      "metadata": {
        "id": "mekhS12qX0BA"
      },
      "source": [
        "# **`FEATURE ENGINEERING `**"
      ]
    },
    {
      "cell_type": "markdown",
      "source": [
        "as holiday period affects the sale values, I  firstly decided to add a new feature for holidays of Turkey. Then I deleted it to decrease the complexity of the model to avoid overfitting.  "
      ],
      "metadata": {
        "id": "UKTOL9EBFUz6"
      }
    },
    {
      "cell_type": "code",
      "execution_count": null,
      "metadata": {
        "id": "pua_RXcRRR4q"
      },
      "outputs": [],
      "source": [
        "# def is_holiday(x):\n",
        "    \n",
        "#   turkey_holidays = holidays.country_holidays('TR')\n",
        "  \n",
        "#   if turkey_holidays.get(x):\n",
        "#       return 1\n",
        "#   else:\n",
        "#       return 0\n",
        "      \n",
        "# retailDataNzero['holidays'] = retailDataNzero['TARİH'].apply(is_holiday)\n"
      ]
    },
    {
      "cell_type": "code",
      "execution_count": 12,
      "metadata": {
        "id": "j_gR7Xc_fec2"
      },
      "outputs": [],
      "source": [
        "# adding the day value of the month. Remember that the 'GÜN' value indicates the day of the week. \n",
        "retailDataNzero['day'] = pd.to_datetime(retailDataNzero['TARİH'], utc=True).dt.day"
      ]
    },
    {
      "cell_type": "markdown",
      "source": [
        "I also add the 7 day average sale of each item in each store because today's sales are affected by past sales as typical with time series data. Taking weekly averages is also the major technique the demand planners employ to predict future sales. "
      ],
      "metadata": {
        "id": "oBu_tLSQdePW"
      }
    },
    {
      "cell_type": "code",
      "execution_count": null,
      "metadata": {
        "id": "CogMNWiRPzHR"
      },
      "outputs": [],
      "source": [
        "grouped = retailDataNzero.groupby(['AMBAR_NO', 'MALZEME_KODU'])\n",
        "\n",
        "rolling_avg = grouped['Satış Adedi'].rolling(window=7, min_periods=1).mean()\n",
        "# I shift one day because I dont want to include toda's sale in calculating the the last 7 days average.\n",
        "shifted_rolling_avg = rolling_avg.groupby(level=[0,1]).apply(lambda x: x.shift(1))\n",
        "\n",
        "retailDataNzero['last_7day_avg_sale'] = shifted_rolling_avg.values\n"
      ]
    },
    {
      "cell_type": "markdown",
      "source": [
        "# **MODEL TRAINING**"
      ],
      "metadata": {
        "id": "IYXAXQGlGA8m"
      }
    },
    {
      "cell_type": "markdown",
      "source": [
        "      After carefull review of the relevant computer science literature,  I\n",
        "    decided to build a gradient boosting model. \n",
        "\n",
        "      There are two traditional models for demand forecasting. \n",
        "    The first is  time series analysis, the second is linear regression. \n",
        "    After the literature review, I dediced to employ machine learning models \n",
        "    since they provide better results than traditional model. RNN/lstm and \n",
        "    gradient boosting trees are the consensus in the literature among the \n",
        "    plethora of different machine learning models. I decided to train \n",
        "    gradiend boosting tree model for two reasons. 1) They are better at\n",
        "    handling large amounts of data in less time and 2) they are more suitable\n",
        "    for sets with large features. I choose catboost over lightgbm and xgboost \n",
        "    since all but one feature in my dataset are categorical and catboost is\n",
        "    well known for its ability to handle categorical features. "
      ],
      "metadata": {
        "id": "PDzJMBnWGE1m"
      }
    },
    {
      "cell_type": "code",
      "execution_count": 13,
      "metadata": {
        "colab": {
          "base_uri": "https://localhost:8080/"
        },
        "id": "uxqTHEO6QG_c",
        "outputId": "d1d36ea6-042f-4575-b6cd-de4be7a02558"
      },
      "outputs": [
        {
          "output_type": "stream",
          "name": "stdout",
          "text": [
            "<class 'pandas.core.frame.DataFrame'>\n",
            "RangeIndex: 4498683 entries, 0 to 4498682\n",
            "Data columns (total 11 columns):\n",
            " #   Column        Dtype         \n",
            "---  ------        -----         \n",
            " 0   GÜN           int64         \n",
            " 1   HAFTA         int64         \n",
            " 2   AY            int64         \n",
            " 3   YIL           int64         \n",
            " 4   TARİH         datetime64[ns]\n",
            " 5   AMBAR_NO      float64       \n",
            " 6   AMBAR         object        \n",
            " 7   MALZEME_KODU  object        \n",
            " 8   MALZEME_ADI   object        \n",
            " 9   Satış Adedi   int64         \n",
            " 10  day           int64         \n",
            "dtypes: datetime64[ns](1), float64(1), int64(6), object(3)\n",
            "memory usage: 377.5+ MB\n"
          ]
        }
      ],
      "source": [
        "retailDataNzero.info()"
      ]
    },
    {
      "cell_type": "markdown",
      "source": [
        "Catboost requires string type for categorical features. That is why I convert all categorcal features' type as string."
      ],
      "metadata": {
        "id": "TdYWGnQyZkQ4"
      }
    },
    {
      "cell_type": "code",
      "execution_count": null,
      "metadata": {
        "id": "5qkvtVzIfsUI"
      },
      "outputs": [],
      "source": [
        "retailDataNzero['AMBAR']=retailDataNzero['AMBAR'].astype(\"string\") \n",
        "retailDataNzero['MALZEME_KODU']= retailDataNzero['MALZEME_KODU'].astype(\"string\") \n",
        "retailDataNzero['MALZEME_ADI']= retailDataNzero['MALZEME_ADI'].astype(\"string\") \n",
        "retailDataNzero['AMBAR_NO'] = retailDataNzero['AMBAR_NO'].astype(\"string\")\n",
        "retailDataNzero['GÜN'] = retailDataNzero['GÜN'].astype(\"string\")\n",
        "retailDataNzero['HAFTA'] = retailDataNzero['HAFTA'].astype(\"string\")\n",
        "retailDataNzero['AY'] = retailDataNzero['AY'].astype(\"string\")\n",
        "retailDataNzero['YIL'] = retailDataNzero['YIL'].astype(\"string\")\n",
        "retailDataNzero['day'] = retailDataNzero['day'].astype(\"string\")\n",
        "\n"
      ]
    },
    {
      "cell_type": "code",
      "execution_count": null,
      "metadata": {
        "id": "ycZ792y0k-4v"
      },
      "outputs": [],
      "source": [
        "retailDataNzero.to_pickle(\"/content/drive/My Drive/tumexceller/retailDataNzero.pkl\")  \n"
      ]
    },
    {
      "cell_type": "code",
      "execution_count": null,
      "metadata": {
        "id": "vprprBr4lQRP"
      },
      "outputs": [],
      "source": [
        "retailDataNzero=pd.read_pickle(\"/content/drive/My Drive/tumexceller/retailDataNzero.pkl\")"
      ]
    },
    {
      "cell_type": "markdown",
      "source": [
        "I use train_test_split method of scikitlearn without shuffling since it is squential data. I dont create a seperate cross validation set as I will control for overfitting during the training process"
      ],
      "metadata": {
        "id": "ktUHx-k4aGit"
      }
    },
    {
      "cell_type": "code",
      "execution_count": null,
      "metadata": {
        "id": "Bfcruy7SgKzg"
      },
      "outputs": [],
      "source": [
        "features = retailDataNzero.drop(['Satış Adedi', 'TARİH', 'AMBAR', 'MALZEME_ADI', 'GÜN', 'HAFTA'], axis=1)\n",
        "target = retailDataNzero['Satış Adedi'].values\n",
        "  \n",
        "# shuffle is zero so that we dont lose squential data. \n",
        "X_train, X_test, y_train, y_test = train_test_split(features, target, test_size=0.1, random_state=42, shuffle=False)\n",
        "# X_train, X_val, y_train, y_val = train_test_split(X_train, y_train, test_size=0.1, random_state=42, shuffle=False)\n"
      ]
    },
    {
      "cell_type": "code",
      "execution_count": null,
      "metadata": {
        "colab": {
          "base_uri": "https://localhost:8080/"
        },
        "id": "a6ebd5EN8wzb",
        "outputId": "29608902-6ac3-423c-dee3-f474f695aea4"
      },
      "outputs": [
        {
          "name": "stdout",
          "output_type": "stream",
          "text": [
            "<class 'pandas.core.frame.DataFrame'>\n",
            "RangeIndex: 4498683 entries, 0 to 4498682\n",
            "Data columns (total 6 columns):\n",
            " #   Column              Non-Null Count    Dtype  \n",
            "---  ------              --------------    -----  \n",
            " 0   AY                  4498683 non-null  string \n",
            " 1   YIL                 4498683 non-null  string \n",
            " 2   AMBAR_NO            4498683 non-null  string \n",
            " 3   MALZEME_KODU        4498683 non-null  string \n",
            " 4   day                 4498683 non-null  string \n",
            " 5   last_7day_avg_sale  4457798 non-null  float64\n",
            "dtypes: float64(1), string(5)\n",
            "memory usage: 205.9 MB\n"
          ]
        }
      ],
      "source": [
        "features.info(verbose=True, show_counts=True)"
      ]
    },
    {
      "cell_type": "code",
      "execution_count": null,
      "metadata": {
        "colab": {
          "base_uri": "https://localhost:8080/",
          "height": 206
        },
        "id": "iv4PbIvtiDew",
        "outputId": "e240d4b1-c555-4852-9e76-60a6c92341d7"
      },
      "outputs": [
        {
          "output_type": "execute_result",
          "data": {
            "text/plain": [
              "  AY   YIL AMBAR_NO MALZEME_KODU day  last_7day_avg_sale\n",
              "0  1  2021    100.0    MRK.00826   1                 NaN\n",
              "1  1  2021    100.0    MRK.00827   1            1.000000\n",
              "2  1  2021    100.0    MRK.00830   1            1.500000\n",
              "3  1  2021    100.0    MRK.00834   1            1.333333\n",
              "4  1  2021    100.0    MRK.00926   1            1.500000"
            ],
            "text/html": [
              "\n",
              "  <div id=\"df-723c169a-321d-4cd3-a379-b180c1d00f88\">\n",
              "    <div class=\"colab-df-container\">\n",
              "      <div>\n",
              "<style scoped>\n",
              "    .dataframe tbody tr th:only-of-type {\n",
              "        vertical-align: middle;\n",
              "    }\n",
              "\n",
              "    .dataframe tbody tr th {\n",
              "        vertical-align: top;\n",
              "    }\n",
              "\n",
              "    .dataframe thead th {\n",
              "        text-align: right;\n",
              "    }\n",
              "</style>\n",
              "<table border=\"1\" class=\"dataframe\">\n",
              "  <thead>\n",
              "    <tr style=\"text-align: right;\">\n",
              "      <th></th>\n",
              "      <th>AY</th>\n",
              "      <th>YIL</th>\n",
              "      <th>AMBAR_NO</th>\n",
              "      <th>MALZEME_KODU</th>\n",
              "      <th>day</th>\n",
              "      <th>last_7day_avg_sale</th>\n",
              "    </tr>\n",
              "  </thead>\n",
              "  <tbody>\n",
              "    <tr>\n",
              "      <th>0</th>\n",
              "      <td>1</td>\n",
              "      <td>2021</td>\n",
              "      <td>100.0</td>\n",
              "      <td>MRK.00826</td>\n",
              "      <td>1</td>\n",
              "      <td>NaN</td>\n",
              "    </tr>\n",
              "    <tr>\n",
              "      <th>1</th>\n",
              "      <td>1</td>\n",
              "      <td>2021</td>\n",
              "      <td>100.0</td>\n",
              "      <td>MRK.00827</td>\n",
              "      <td>1</td>\n",
              "      <td>1.000000</td>\n",
              "    </tr>\n",
              "    <tr>\n",
              "      <th>2</th>\n",
              "      <td>1</td>\n",
              "      <td>2021</td>\n",
              "      <td>100.0</td>\n",
              "      <td>MRK.00830</td>\n",
              "      <td>1</td>\n",
              "      <td>1.500000</td>\n",
              "    </tr>\n",
              "    <tr>\n",
              "      <th>3</th>\n",
              "      <td>1</td>\n",
              "      <td>2021</td>\n",
              "      <td>100.0</td>\n",
              "      <td>MRK.00834</td>\n",
              "      <td>1</td>\n",
              "      <td>1.333333</td>\n",
              "    </tr>\n",
              "    <tr>\n",
              "      <th>4</th>\n",
              "      <td>1</td>\n",
              "      <td>2021</td>\n",
              "      <td>100.0</td>\n",
              "      <td>MRK.00926</td>\n",
              "      <td>1</td>\n",
              "      <td>1.500000</td>\n",
              "    </tr>\n",
              "  </tbody>\n",
              "</table>\n",
              "</div>\n",
              "      <button class=\"colab-df-convert\" onclick=\"convertToInteractive('df-723c169a-321d-4cd3-a379-b180c1d00f88')\"\n",
              "              title=\"Convert this dataframe to an interactive table.\"\n",
              "              style=\"display:none;\">\n",
              "        \n",
              "  <svg xmlns=\"http://www.w3.org/2000/svg\" height=\"24px\"viewBox=\"0 0 24 24\"\n",
              "       width=\"24px\">\n",
              "    <path d=\"M0 0h24v24H0V0z\" fill=\"none\"/>\n",
              "    <path d=\"M18.56 5.44l.94 2.06.94-2.06 2.06-.94-2.06-.94-.94-2.06-.94 2.06-2.06.94zm-11 1L8.5 8.5l.94-2.06 2.06-.94-2.06-.94L8.5 2.5l-.94 2.06-2.06.94zm10 10l.94 2.06.94-2.06 2.06-.94-2.06-.94-.94-2.06-.94 2.06-2.06.94z\"/><path d=\"M17.41 7.96l-1.37-1.37c-.4-.4-.92-.59-1.43-.59-.52 0-1.04.2-1.43.59L10.3 9.45l-7.72 7.72c-.78.78-.78 2.05 0 2.83L4 21.41c.39.39.9.59 1.41.59.51 0 1.02-.2 1.41-.59l7.78-7.78 2.81-2.81c.8-.78.8-2.07 0-2.86zM5.41 20L4 18.59l7.72-7.72 1.47 1.35L5.41 20z\"/>\n",
              "  </svg>\n",
              "      </button>\n",
              "      \n",
              "  <style>\n",
              "    .colab-df-container {\n",
              "      display:flex;\n",
              "      flex-wrap:wrap;\n",
              "      gap: 12px;\n",
              "    }\n",
              "\n",
              "    .colab-df-convert {\n",
              "      background-color: #E8F0FE;\n",
              "      border: none;\n",
              "      border-radius: 50%;\n",
              "      cursor: pointer;\n",
              "      display: none;\n",
              "      fill: #1967D2;\n",
              "      height: 32px;\n",
              "      padding: 0 0 0 0;\n",
              "      width: 32px;\n",
              "    }\n",
              "\n",
              "    .colab-df-convert:hover {\n",
              "      background-color: #E2EBFA;\n",
              "      box-shadow: 0px 1px 2px rgba(60, 64, 67, 0.3), 0px 1px 3px 1px rgba(60, 64, 67, 0.15);\n",
              "      fill: #174EA6;\n",
              "    }\n",
              "\n",
              "    [theme=dark] .colab-df-convert {\n",
              "      background-color: #3B4455;\n",
              "      fill: #D2E3FC;\n",
              "    }\n",
              "\n",
              "    [theme=dark] .colab-df-convert:hover {\n",
              "      background-color: #434B5C;\n",
              "      box-shadow: 0px 1px 3px 1px rgba(0, 0, 0, 0.15);\n",
              "      filter: drop-shadow(0px 1px 2px rgba(0, 0, 0, 0.3));\n",
              "      fill: #FFFFFF;\n",
              "    }\n",
              "  </style>\n",
              "\n",
              "      <script>\n",
              "        const buttonEl =\n",
              "          document.querySelector('#df-723c169a-321d-4cd3-a379-b180c1d00f88 button.colab-df-convert');\n",
              "        buttonEl.style.display =\n",
              "          google.colab.kernel.accessAllowed ? 'block' : 'none';\n",
              "\n",
              "        async function convertToInteractive(key) {\n",
              "          const element = document.querySelector('#df-723c169a-321d-4cd3-a379-b180c1d00f88');\n",
              "          const dataTable =\n",
              "            await google.colab.kernel.invokeFunction('convertToInteractive',\n",
              "                                                     [key], {});\n",
              "          if (!dataTable) return;\n",
              "\n",
              "          const docLinkHtml = 'Like what you see? Visit the ' +\n",
              "            '<a target=\"_blank\" href=https://colab.research.google.com/notebooks/data_table.ipynb>data table notebook</a>'\n",
              "            + ' to learn more about interactive tables.';\n",
              "          element.innerHTML = '';\n",
              "          dataTable['output_type'] = 'display_data';\n",
              "          await google.colab.output.renderOutput(dataTable, element);\n",
              "          const docLink = document.createElement('div');\n",
              "          docLink.innerHTML = docLinkHtml;\n",
              "          element.appendChild(docLink);\n",
              "        }\n",
              "      </script>\n",
              "    </div>\n",
              "  </div>\n",
              "  "
            ]
          },
          "metadata": {},
          "execution_count": 27
        }
      ],
      "source": [
        "features.head()"
      ]
    },
    {
      "cell_type": "code",
      "source": [
        "\n",
        "\n",
        "#  the parameter grid\n",
        "params = {\n",
        "    'iterations': randint(100, 1000),\n",
        "    'depth': randint(3, 10),\n",
        "    'learning_rate': [0.01, 0.02, 0.03, 0.04, 0.05],\n",
        "    'l2_leaf_reg': randint(1, 10),\n",
        "    'border_count': randint(32, 255),\n",
        "    'bagging_temperature': [0.0, 0.2, 0.4, 0.6, 0.8, 1.0],\n",
        "}\n",
        "cv = TimeSeriesSplit(n_splits=5)\n",
        "\n",
        "# the model and RandomizedSearchCV\n",
        "model = CatBoostRegressor(loss_function='RMSE', od_type='Iter', cat_features=[0, 1, 2, 3, 4], task_type='GPU')\n",
        "search = RandomizedSearchCV(model, param_distributions=params, n_iter=10, cv=cv, scoring='neg_root_mean_squared_error')\n",
        "\n",
        "# Fit the model\n",
        "search.fit(X_train, y_train, plot=True)\n"
      ],
      "metadata": {
        "id": "1RppPo0qoL6p"
      },
      "execution_count": null,
      "outputs": []
    },
    {
      "cell_type": "code",
      "source": [
        "best_model = search.best_estimator_\n",
        "y_pred = best_model.predict(X_test)\n",
        "\n",
        "# Calculate the RMSE scores\n",
        "rmse = np.sqrt(mean_squared_error(y_test, y_pred))\n",
        "print('Best CV error: {:.4f}'.format(best_cv_error))\n",
        "\n",
        "print('RMSE score of the best estimator on the test set:', rmse)\n",
        "print('Training RMSE of best model: {:.4f}'.format(best_training_error))\n",
        "mape = np.mean(np.abs((y_test - y_pred) / y_test)) * 100\n",
        "\n",
        "print('Mean absolute percentage error score of the best estimator on the test set:', mape)\n"
      ],
      "metadata": {
        "colab": {
          "base_uri": "https://localhost:8080/"
        },
        "id": "faUf8iTvri16",
        "outputId": "eb103a45-dd61-407f-d56b-3e1cfb3007ed"
      },
      "execution_count": null,
      "outputs": [
        {
          "output_type": "stream",
          "name": "stdout",
          "text": [
            "Best CV error: 2.6400\n",
            "RMSE score of the best estimator on the test set: 2.76683785957103\n",
            "Training RMSE of best model: 1.6248\n",
            "Mean absolute percentage error score of the best estimator on the test set: 72.08936289739172\n"
          ]
        }
      ]
    },
    {
      "cell_type": "code",
      "source": [],
      "metadata": {
        "id": "mVVGgczKTKZM"
      },
      "execution_count": null,
      "outputs": []
    }
  ],
  "metadata": {
    "colab": {
      "machine_shape": "hm",
      "provenance": [],
      "authorship_tag": "ABX9TyN0/oKB/VAMIU2IhtosBVV5",
      "include_colab_link": true
    },
    "gpuClass": "premium",
    "kernelspec": {
      "display_name": "Python 3",
      "name": "python3"
    },
    "language_info": {
      "name": "python"
    }
  },
  "nbformat": 4,
  "nbformat_minor": 0
}