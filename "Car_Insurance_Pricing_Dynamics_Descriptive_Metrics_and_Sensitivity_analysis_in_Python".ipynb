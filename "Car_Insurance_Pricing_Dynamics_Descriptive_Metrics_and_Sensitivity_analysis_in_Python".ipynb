{
  "nbformat": 4,
  "nbformat_minor": 0,
  "metadata": {
    "colab": {
      "provenance": [],
      "gpuType": "T4",
      "authorship_tag": "ABX9TyO4BGUSZPpf1NEBj3HsmJin",
      "include_colab_link": true
    },
    "kernelspec": {
      "name": "python3",
      "display_name": "Python 3"
    },
    "language_info": {
      "name": "python"
    },
    "accelerator": "GPU"
  },
  "cells": [
    {
      "cell_type": "markdown",
      "metadata": {
        "id": "view-in-github",
        "colab_type": "text"
      },
      "source": [
        "<a href=\"https://colab.research.google.com/github/mdeniz1/datascienceprojects/blob/main/%22Car_Insurance_Pricing_Dynamics_Descriptive_Metrics_and_Sensitivity_analysis_in_Python%22.ipynb\" target=\"_parent\"><img src=\"https://colab.research.google.com/assets/colab-badge.svg\" alt=\"Open In Colab\"/></a>"
      ]
    },
    {
      "cell_type": "markdown",
      "source": [
        "\n",
        "An insurance company provided a dataset that contains the data on car insurance between 2019-2022. The company manager would like to understand the reasons behind the steep fall in the profits for 2022 while the profits were good between 2019-2022. They also want to know what actions can be taken in terms of price or cost arrangements to increase the profits. As a response to this task, I applied descriptive, diagnostic and predictive analytics to both understand the problem and offer a solution to overcome it.\n",
        "---\n",
        "\n"
      ],
      "metadata": {
        "id": "X-VSdMlUBmIP"
      }
    },
    {
      "cell_type": "code",
      "source": [
        "pip install shap"
      ],
      "metadata": {
        "colab": {
          "base_uri": "https://localhost:8080/"
        },
        "id": "2yEXSlnMfblU",
        "outputId": "14ae976f-2fc9-4cf8-9c43-95508b2d54db"
      },
      "execution_count": null,
      "outputs": [
        {
          "output_type": "stream",
          "name": "stdout",
          "text": [
            "Looking in indexes: https://pypi.org/simple, https://us-python.pkg.dev/colab-wheels/public/simple/\n",
            "Requirement already satisfied: shap in /usr/local/lib/python3.10/dist-packages (0.41.0)\n",
            "Requirement already satisfied: numpy in /usr/local/lib/python3.10/dist-packages (from shap) (1.22.4)\n",
            "Requirement already satisfied: scipy in /usr/local/lib/python3.10/dist-packages (from shap) (1.10.1)\n",
            "Requirement already satisfied: scikit-learn in /usr/local/lib/python3.10/dist-packages (from shap) (1.2.2)\n",
            "Requirement already satisfied: pandas in /usr/local/lib/python3.10/dist-packages (from shap) (1.5.3)\n",
            "Requirement already satisfied: tqdm>4.25.0 in /usr/local/lib/python3.10/dist-packages (from shap) (4.65.0)\n",
            "Requirement already satisfied: packaging>20.9 in /usr/local/lib/python3.10/dist-packages (from shap) (23.1)\n",
            "Requirement already satisfied: slicer==0.0.7 in /usr/local/lib/python3.10/dist-packages (from shap) (0.0.7)\n",
            "Requirement already satisfied: numba in /usr/local/lib/python3.10/dist-packages (from shap) (0.56.4)\n",
            "Requirement already satisfied: cloudpickle in /usr/local/lib/python3.10/dist-packages (from shap) (2.2.1)\n",
            "Requirement already satisfied: llvmlite<0.40,>=0.39.0dev0 in /usr/local/lib/python3.10/dist-packages (from numba->shap) (0.39.1)\n",
            "Requirement already satisfied: setuptools in /usr/local/lib/python3.10/dist-packages (from numba->shap) (67.7.2)\n",
            "Requirement already satisfied: python-dateutil>=2.8.1 in /usr/local/lib/python3.10/dist-packages (from pandas->shap) (2.8.2)\n",
            "Requirement already satisfied: pytz>=2020.1 in /usr/local/lib/python3.10/dist-packages (from pandas->shap) (2022.7.1)\n",
            "Requirement already satisfied: joblib>=1.1.1 in /usr/local/lib/python3.10/dist-packages (from scikit-learn->shap) (1.2.0)\n",
            "Requirement already satisfied: threadpoolctl>=2.0.0 in /usr/local/lib/python3.10/dist-packages (from scikit-learn->shap) (3.1.0)\n",
            "Requirement already satisfied: six>=1.5 in /usr/local/lib/python3.10/dist-packages (from python-dateutil>=2.8.1->pandas->shap) (1.16.0)\n"
          ]
        }
      ]
    },
    {
      "cell_type": "code",
      "source": [
        "pip install catboost"
      ],
      "metadata": {
        "colab": {
          "base_uri": "https://localhost:8080/"
        },
        "id": "Jgb1rZ0EhT6B",
        "outputId": "fb396cb9-08d9-4966-e563-e765141da58e"
      },
      "execution_count": null,
      "outputs": [
        {
          "output_type": "stream",
          "name": "stdout",
          "text": [
            "Looking in indexes: https://pypi.org/simple, https://us-python.pkg.dev/colab-wheels/public/simple/\n",
            "Collecting catboost\n",
            "  Downloading catboost-1.2-cp310-cp310-manylinux2014_x86_64.whl (98.6 MB)\n",
            "\u001b[2K     \u001b[90m━━━━━━━━━━━━━━━━━━━━━━━━━━━━━━━━━━━━━━━━\u001b[0m \u001b[32m98.6/98.6 MB\u001b[0m \u001b[31m10.1 MB/s\u001b[0m eta \u001b[36m0:00:00\u001b[0m\n",
            "\u001b[?25hRequirement already satisfied: graphviz in /usr/local/lib/python3.10/dist-packages (from catboost) (0.20.1)\n",
            "Requirement already satisfied: matplotlib in /usr/local/lib/python3.10/dist-packages (from catboost) (3.7.1)\n",
            "Requirement already satisfied: numpy>=1.16.0 in /usr/local/lib/python3.10/dist-packages (from catboost) (1.22.4)\n",
            "Requirement already satisfied: pandas>=0.24 in /usr/local/lib/python3.10/dist-packages (from catboost) (1.5.3)\n",
            "Requirement already satisfied: scipy in /usr/local/lib/python3.10/dist-packages (from catboost) (1.10.1)\n",
            "Requirement already satisfied: plotly in /usr/local/lib/python3.10/dist-packages (from catboost) (5.13.1)\n",
            "Requirement already satisfied: six in /usr/local/lib/python3.10/dist-packages (from catboost) (1.16.0)\n",
            "Requirement already satisfied: python-dateutil>=2.8.1 in /usr/local/lib/python3.10/dist-packages (from pandas>=0.24->catboost) (2.8.2)\n",
            "Requirement already satisfied: pytz>=2020.1 in /usr/local/lib/python3.10/dist-packages (from pandas>=0.24->catboost) (2022.7.1)\n",
            "Requirement already satisfied: contourpy>=1.0.1 in /usr/local/lib/python3.10/dist-packages (from matplotlib->catboost) (1.0.7)\n",
            "Requirement already satisfied: cycler>=0.10 in /usr/local/lib/python3.10/dist-packages (from matplotlib->catboost) (0.11.0)\n",
            "Requirement already satisfied: fonttools>=4.22.0 in /usr/local/lib/python3.10/dist-packages (from matplotlib->catboost) (4.39.3)\n",
            "Requirement already satisfied: kiwisolver>=1.0.1 in /usr/local/lib/python3.10/dist-packages (from matplotlib->catboost) (1.4.4)\n",
            "Requirement already satisfied: packaging>=20.0 in /usr/local/lib/python3.10/dist-packages (from matplotlib->catboost) (23.1)\n",
            "Requirement already satisfied: pillow>=6.2.0 in /usr/local/lib/python3.10/dist-packages (from matplotlib->catboost) (8.4.0)\n",
            "Requirement already satisfied: pyparsing>=2.3.1 in /usr/local/lib/python3.10/dist-packages (from matplotlib->catboost) (3.0.9)\n",
            "Requirement already satisfied: tenacity>=6.2.0 in /usr/local/lib/python3.10/dist-packages (from plotly->catboost) (8.2.2)\n",
            "Installing collected packages: catboost\n",
            "Successfully installed catboost-1.2\n"
          ]
        }
      ]
    },
    {
      "cell_type": "code",
      "source": [
        "import pandas as pd\n",
        "from scipy.stats import randint\n",
        "import numpy as np\n",
        "import matplotlib.pyplot as plt\n",
        "from sklearn.model_selection import train_test_split\n",
        "from catboost import CatBoostRegressor\n",
        "from sklearn.metrics import mean_absolute_error as mae\n",
        "from sklearn import metrics\n",
        "from sklearn.model_selection import RandomizedSearchCV, TimeSeriesSplit\n",
        "from sklearn.metrics import mean_squared_error\n",
        "from sklearn.model_selection import GridSearchCV\n",
        "import shap\n",
        "from catboost import Pool\n",
        "import catboost as cb\n",
        "\n"
      ],
      "metadata": {
        "id": "Jx5MfiZ0qk44"
      },
      "execution_count": null,
      "outputs": []
    },
    {
      "cell_type": "code",
      "execution_count": null,
      "metadata": {
        "colab": {
          "base_uri": "https://localhost:8080/"
        },
        "id": "Tg-PrUHuilbV",
        "outputId": "7eee13c2-1f4c-4a60-ef06-e9ff182a42f3"
      },
      "outputs": [
        {
          "output_type": "stream",
          "name": "stdout",
          "text": [
            "Mounted at /content/drive/\n"
          ]
        }
      ],
      "source": [
        "from google.colab import drive\n",
        "drive.mount('/content/drive/')"
      ]
    },
    {
      "cell_type": "code",
      "source": [
        "path = r'/content/drive/My Drive/smp_train.xlsx'\n",
        "df = pd.read_excel(path)"
      ],
      "metadata": {
        "colab": {
          "base_uri": "https://localhost:8080/"
        },
        "id": "K8m9PqRii9GM",
        "outputId": "05fc3be2-2c7e-4fe0-ab64-b73acd082f3a"
      },
      "execution_count": null,
      "outputs": [
        {
          "output_type": "stream",
          "name": "stderr",
          "text": [
            "Workbook contains no default style, apply openpyxl's default\n"
          ]
        }
      ]
    },
    {
      "cell_type": "code",
      "source": [
        "df.head(100)"
      ],
      "metadata": {
        "colab": {
          "base_uri": "https://localhost:8080/",
          "height": 483
        },
        "id": "1ouaF460rZH8",
        "outputId": "88d1d6a4-62d9-4d3c-b2c0-df95422266dd"
      },
      "execution_count": null,
      "outputs": [
        {
          "output_type": "execute_result",
          "data": {
            "text/plain": [
              "    YEAR  MONTH POLICY_TYPE  NO_CLAIMS_LEVEL  COVER  CLAIM  CLAIM_FREQ  \\\n",
              "0   2019      8         MOD                4  76450  66911           3   \n",
              "1   2020      5         MOD                3  82650  65008           1   \n",
              "2   2019     10         MOD                1  37050  35060           1   \n",
              "3   2020      7         MOD                1  29790  23593           1   \n",
              "4   2020      5         MOD                2  35840  33966           1   \n",
              "..   ...    ...         ...              ...    ...    ...         ...   \n",
              "95  2020      9         MOD                5  16830  16164           1   \n",
              "96  2019     12         MOD                2  16170  12661           1   \n",
              "97  2021      8         MOD                4  17710  10526           2   \n",
              "98  2021      7         MOD                5  13420   8785           1   \n",
              "99  2020      6         MOD                0   9680   7647           1   \n",
              "\n",
              "    CUST_AGE  CUST_GENDER_F  LOCATION_URBAN  ... TYPE_CORP  VEHICLE_TYPE  \\\n",
              "0         19              0               1  ...         0      Mini Bus   \n",
              "1         19              0               0  ...         0  Personal Car   \n",
              "2         23              0               1  ...         0      Mini Bus   \n",
              "3         27              1               0  ...         0  Personal Car   \n",
              "4         37              0               1  ...         0      Mini Bus   \n",
              "..       ...            ...             ...  ...       ...           ...   \n",
              "95        34              1               1  ...         0    Mini Truck   \n",
              "96        52              1               1  ...         0  Personal Car   \n",
              "97        48              0               0  ...         0  Personal Car   \n",
              "98        59              0               1  ...         0  Personal Car   \n",
              "99        41              0               0  ...         0      Mini Bus   \n",
              "\n",
              "    VEHICLE_YEAR FLAG_SPORTS_CAR  HOME_AGE  HOME_M2 LOC_INDEX  \\\n",
              "0           2019               0         ?        ?        17   \n",
              "1           2019               1         ?        ?        30   \n",
              "2           2016               1         ?        ?        93   \n",
              "3           2016               1         ?        ?        69   \n",
              "4           2020               0         ?        ?        75   \n",
              "..           ...             ...       ...      ...       ...   \n",
              "95          2013               0         ?        ?        96   \n",
              "96          2015               0         ?        ?        22   \n",
              "97          2015               0         ?        ?        49   \n",
              "98          2020               0         ?        ?        38   \n",
              "99          2011               0         ?        ?         6   \n",
              "\n",
              "    PRE_HEALTH_ISSUES  INSTALLMENTS PREMIUM  \n",
              "0                   ?             8    4834  \n",
              "1                   ?            12    2856  \n",
              "2                   ?             8    3836  \n",
              "3                   ?             5    2222  \n",
              "4                   ?             1    3566  \n",
              "..                ...           ...     ...  \n",
              "95                  ?             1    3796  \n",
              "96                  ?             2    3642  \n",
              "97                  ?             2    4004  \n",
              "98                  ?             8    3030  \n",
              "99                  ?            11    2196  \n",
              "\n",
              "[100 rows x 25 columns]"
            ],
            "text/html": [
              "\n",
              "  <div id=\"df-351fab8a-9166-47ec-a307-7fa19295dac5\">\n",
              "    <div class=\"colab-df-container\">\n",
              "      <div>\n",
              "<style scoped>\n",
              "    .dataframe tbody tr th:only-of-type {\n",
              "        vertical-align: middle;\n",
              "    }\n",
              "\n",
              "    .dataframe tbody tr th {\n",
              "        vertical-align: top;\n",
              "    }\n",
              "\n",
              "    .dataframe thead th {\n",
              "        text-align: right;\n",
              "    }\n",
              "</style>\n",
              "<table border=\"1\" class=\"dataframe\">\n",
              "  <thead>\n",
              "    <tr style=\"text-align: right;\">\n",
              "      <th></th>\n",
              "      <th>YEAR</th>\n",
              "      <th>MONTH</th>\n",
              "      <th>POLICY_TYPE</th>\n",
              "      <th>NO_CLAIMS_LEVEL</th>\n",
              "      <th>COVER</th>\n",
              "      <th>CLAIM</th>\n",
              "      <th>CLAIM_FREQ</th>\n",
              "      <th>CUST_AGE</th>\n",
              "      <th>CUST_GENDER_F</th>\n",
              "      <th>LOCATION_URBAN</th>\n",
              "      <th>...</th>\n",
              "      <th>TYPE_CORP</th>\n",
              "      <th>VEHICLE_TYPE</th>\n",
              "      <th>VEHICLE_YEAR</th>\n",
              "      <th>FLAG_SPORTS_CAR</th>\n",
              "      <th>HOME_AGE</th>\n",
              "      <th>HOME_M2</th>\n",
              "      <th>LOC_INDEX</th>\n",
              "      <th>PRE_HEALTH_ISSUES</th>\n",
              "      <th>INSTALLMENTS</th>\n",
              "      <th>PREMIUM</th>\n",
              "    </tr>\n",
              "  </thead>\n",
              "  <tbody>\n",
              "    <tr>\n",
              "      <th>0</th>\n",
              "      <td>2019</td>\n",
              "      <td>8</td>\n",
              "      <td>MOD</td>\n",
              "      <td>4</td>\n",
              "      <td>76450</td>\n",
              "      <td>66911</td>\n",
              "      <td>3</td>\n",
              "      <td>19</td>\n",
              "      <td>0</td>\n",
              "      <td>1</td>\n",
              "      <td>...</td>\n",
              "      <td>0</td>\n",
              "      <td>Mini Bus</td>\n",
              "      <td>2019</td>\n",
              "      <td>0</td>\n",
              "      <td>?</td>\n",
              "      <td>?</td>\n",
              "      <td>17</td>\n",
              "      <td>?</td>\n",
              "      <td>8</td>\n",
              "      <td>4834</td>\n",
              "    </tr>\n",
              "    <tr>\n",
              "      <th>1</th>\n",
              "      <td>2020</td>\n",
              "      <td>5</td>\n",
              "      <td>MOD</td>\n",
              "      <td>3</td>\n",
              "      <td>82650</td>\n",
              "      <td>65008</td>\n",
              "      <td>1</td>\n",
              "      <td>19</td>\n",
              "      <td>0</td>\n",
              "      <td>0</td>\n",
              "      <td>...</td>\n",
              "      <td>0</td>\n",
              "      <td>Personal Car</td>\n",
              "      <td>2019</td>\n",
              "      <td>1</td>\n",
              "      <td>?</td>\n",
              "      <td>?</td>\n",
              "      <td>30</td>\n",
              "      <td>?</td>\n",
              "      <td>12</td>\n",
              "      <td>2856</td>\n",
              "    </tr>\n",
              "    <tr>\n",
              "      <th>2</th>\n",
              "      <td>2019</td>\n",
              "      <td>10</td>\n",
              "      <td>MOD</td>\n",
              "      <td>1</td>\n",
              "      <td>37050</td>\n",
              "      <td>35060</td>\n",
              "      <td>1</td>\n",
              "      <td>23</td>\n",
              "      <td>0</td>\n",
              "      <td>1</td>\n",
              "      <td>...</td>\n",
              "      <td>0</td>\n",
              "      <td>Mini Bus</td>\n",
              "      <td>2016</td>\n",
              "      <td>1</td>\n",
              "      <td>?</td>\n",
              "      <td>?</td>\n",
              "      <td>93</td>\n",
              "      <td>?</td>\n",
              "      <td>8</td>\n",
              "      <td>3836</td>\n",
              "    </tr>\n",
              "    <tr>\n",
              "      <th>3</th>\n",
              "      <td>2020</td>\n",
              "      <td>7</td>\n",
              "      <td>MOD</td>\n",
              "      <td>1</td>\n",
              "      <td>29790</td>\n",
              "      <td>23593</td>\n",
              "      <td>1</td>\n",
              "      <td>27</td>\n",
              "      <td>1</td>\n",
              "      <td>0</td>\n",
              "      <td>...</td>\n",
              "      <td>0</td>\n",
              "      <td>Personal Car</td>\n",
              "      <td>2016</td>\n",
              "      <td>1</td>\n",
              "      <td>?</td>\n",
              "      <td>?</td>\n",
              "      <td>69</td>\n",
              "      <td>?</td>\n",
              "      <td>5</td>\n",
              "      <td>2222</td>\n",
              "    </tr>\n",
              "    <tr>\n",
              "      <th>4</th>\n",
              "      <td>2020</td>\n",
              "      <td>5</td>\n",
              "      <td>MOD</td>\n",
              "      <td>2</td>\n",
              "      <td>35840</td>\n",
              "      <td>33966</td>\n",
              "      <td>1</td>\n",
              "      <td>37</td>\n",
              "      <td>0</td>\n",
              "      <td>1</td>\n",
              "      <td>...</td>\n",
              "      <td>0</td>\n",
              "      <td>Mini Bus</td>\n",
              "      <td>2020</td>\n",
              "      <td>0</td>\n",
              "      <td>?</td>\n",
              "      <td>?</td>\n",
              "      <td>75</td>\n",
              "      <td>?</td>\n",
              "      <td>1</td>\n",
              "      <td>3566</td>\n",
              "    </tr>\n",
              "    <tr>\n",
              "      <th>...</th>\n",
              "      <td>...</td>\n",
              "      <td>...</td>\n",
              "      <td>...</td>\n",
              "      <td>...</td>\n",
              "      <td>...</td>\n",
              "      <td>...</td>\n",
              "      <td>...</td>\n",
              "      <td>...</td>\n",
              "      <td>...</td>\n",
              "      <td>...</td>\n",
              "      <td>...</td>\n",
              "      <td>...</td>\n",
              "      <td>...</td>\n",
              "      <td>...</td>\n",
              "      <td>...</td>\n",
              "      <td>...</td>\n",
              "      <td>...</td>\n",
              "      <td>...</td>\n",
              "      <td>...</td>\n",
              "      <td>...</td>\n",
              "      <td>...</td>\n",
              "    </tr>\n",
              "    <tr>\n",
              "      <th>95</th>\n",
              "      <td>2020</td>\n",
              "      <td>9</td>\n",
              "      <td>MOD</td>\n",
              "      <td>5</td>\n",
              "      <td>16830</td>\n",
              "      <td>16164</td>\n",
              "      <td>1</td>\n",
              "      <td>34</td>\n",
              "      <td>1</td>\n",
              "      <td>1</td>\n",
              "      <td>...</td>\n",
              "      <td>0</td>\n",
              "      <td>Mini Truck</td>\n",
              "      <td>2013</td>\n",
              "      <td>0</td>\n",
              "      <td>?</td>\n",
              "      <td>?</td>\n",
              "      <td>96</td>\n",
              "      <td>?</td>\n",
              "      <td>1</td>\n",
              "      <td>3796</td>\n",
              "    </tr>\n",
              "    <tr>\n",
              "      <th>96</th>\n",
              "      <td>2019</td>\n",
              "      <td>12</td>\n",
              "      <td>MOD</td>\n",
              "      <td>2</td>\n",
              "      <td>16170</td>\n",
              "      <td>12661</td>\n",
              "      <td>1</td>\n",
              "      <td>52</td>\n",
              "      <td>1</td>\n",
              "      <td>1</td>\n",
              "      <td>...</td>\n",
              "      <td>0</td>\n",
              "      <td>Personal Car</td>\n",
              "      <td>2015</td>\n",
              "      <td>0</td>\n",
              "      <td>?</td>\n",
              "      <td>?</td>\n",
              "      <td>22</td>\n",
              "      <td>?</td>\n",
              "      <td>2</td>\n",
              "      <td>3642</td>\n",
              "    </tr>\n",
              "    <tr>\n",
              "      <th>97</th>\n",
              "      <td>2021</td>\n",
              "      <td>8</td>\n",
              "      <td>MOD</td>\n",
              "      <td>4</td>\n",
              "      <td>17710</td>\n",
              "      <td>10526</td>\n",
              "      <td>2</td>\n",
              "      <td>48</td>\n",
              "      <td>0</td>\n",
              "      <td>0</td>\n",
              "      <td>...</td>\n",
              "      <td>0</td>\n",
              "      <td>Personal Car</td>\n",
              "      <td>2015</td>\n",
              "      <td>0</td>\n",
              "      <td>?</td>\n",
              "      <td>?</td>\n",
              "      <td>49</td>\n",
              "      <td>?</td>\n",
              "      <td>2</td>\n",
              "      <td>4004</td>\n",
              "    </tr>\n",
              "    <tr>\n",
              "      <th>98</th>\n",
              "      <td>2021</td>\n",
              "      <td>7</td>\n",
              "      <td>MOD</td>\n",
              "      <td>5</td>\n",
              "      <td>13420</td>\n",
              "      <td>8785</td>\n",
              "      <td>1</td>\n",
              "      <td>59</td>\n",
              "      <td>0</td>\n",
              "      <td>1</td>\n",
              "      <td>...</td>\n",
              "      <td>0</td>\n",
              "      <td>Personal Car</td>\n",
              "      <td>2020</td>\n",
              "      <td>0</td>\n",
              "      <td>?</td>\n",
              "      <td>?</td>\n",
              "      <td>38</td>\n",
              "      <td>?</td>\n",
              "      <td>8</td>\n",
              "      <td>3030</td>\n",
              "    </tr>\n",
              "    <tr>\n",
              "      <th>99</th>\n",
              "      <td>2020</td>\n",
              "      <td>6</td>\n",
              "      <td>MOD</td>\n",
              "      <td>0</td>\n",
              "      <td>9680</td>\n",
              "      <td>7647</td>\n",
              "      <td>1</td>\n",
              "      <td>41</td>\n",
              "      <td>0</td>\n",
              "      <td>0</td>\n",
              "      <td>...</td>\n",
              "      <td>0</td>\n",
              "      <td>Mini Bus</td>\n",
              "      <td>2011</td>\n",
              "      <td>0</td>\n",
              "      <td>?</td>\n",
              "      <td>?</td>\n",
              "      <td>6</td>\n",
              "      <td>?</td>\n",
              "      <td>11</td>\n",
              "      <td>2196</td>\n",
              "    </tr>\n",
              "  </tbody>\n",
              "</table>\n",
              "<p>100 rows × 25 columns</p>\n",
              "</div>\n",
              "      <button class=\"colab-df-convert\" onclick=\"convertToInteractive('df-351fab8a-9166-47ec-a307-7fa19295dac5')\"\n",
              "              title=\"Convert this dataframe to an interactive table.\"\n",
              "              style=\"display:none;\">\n",
              "        \n",
              "  <svg xmlns=\"http://www.w3.org/2000/svg\" height=\"24px\"viewBox=\"0 0 24 24\"\n",
              "       width=\"24px\">\n",
              "    <path d=\"M0 0h24v24H0V0z\" fill=\"none\"/>\n",
              "    <path d=\"M18.56 5.44l.94 2.06.94-2.06 2.06-.94-2.06-.94-.94-2.06-.94 2.06-2.06.94zm-11 1L8.5 8.5l.94-2.06 2.06-.94-2.06-.94L8.5 2.5l-.94 2.06-2.06.94zm10 10l.94 2.06.94-2.06 2.06-.94-2.06-.94-.94-2.06-.94 2.06-2.06.94z\"/><path d=\"M17.41 7.96l-1.37-1.37c-.4-.4-.92-.59-1.43-.59-.52 0-1.04.2-1.43.59L10.3 9.45l-7.72 7.72c-.78.78-.78 2.05 0 2.83L4 21.41c.39.39.9.59 1.41.59.51 0 1.02-.2 1.41-.59l7.78-7.78 2.81-2.81c.8-.78.8-2.07 0-2.86zM5.41 20L4 18.59l7.72-7.72 1.47 1.35L5.41 20z\"/>\n",
              "  </svg>\n",
              "      </button>\n",
              "      \n",
              "  <style>\n",
              "    .colab-df-container {\n",
              "      display:flex;\n",
              "      flex-wrap:wrap;\n",
              "      gap: 12px;\n",
              "    }\n",
              "\n",
              "    .colab-df-convert {\n",
              "      background-color: #E8F0FE;\n",
              "      border: none;\n",
              "      border-radius: 50%;\n",
              "      cursor: pointer;\n",
              "      display: none;\n",
              "      fill: #1967D2;\n",
              "      height: 32px;\n",
              "      padding: 0 0 0 0;\n",
              "      width: 32px;\n",
              "    }\n",
              "\n",
              "    .colab-df-convert:hover {\n",
              "      background-color: #E2EBFA;\n",
              "      box-shadow: 0px 1px 2px rgba(60, 64, 67, 0.3), 0px 1px 3px 1px rgba(60, 64, 67, 0.15);\n",
              "      fill: #174EA6;\n",
              "    }\n",
              "\n",
              "    [theme=dark] .colab-df-convert {\n",
              "      background-color: #3B4455;\n",
              "      fill: #D2E3FC;\n",
              "    }\n",
              "\n",
              "    [theme=dark] .colab-df-convert:hover {\n",
              "      background-color: #434B5C;\n",
              "      box-shadow: 0px 1px 3px 1px rgba(0, 0, 0, 0.15);\n",
              "      filter: drop-shadow(0px 1px 2px rgba(0, 0, 0, 0.3));\n",
              "      fill: #FFFFFF;\n",
              "    }\n",
              "  </style>\n",
              "\n",
              "      <script>\n",
              "        const buttonEl =\n",
              "          document.querySelector('#df-351fab8a-9166-47ec-a307-7fa19295dac5 button.colab-df-convert');\n",
              "        buttonEl.style.display =\n",
              "          google.colab.kernel.accessAllowed ? 'block' : 'none';\n",
              "\n",
              "        async function convertToInteractive(key) {\n",
              "          const element = document.querySelector('#df-351fab8a-9166-47ec-a307-7fa19295dac5');\n",
              "          const dataTable =\n",
              "            await google.colab.kernel.invokeFunction('convertToInteractive',\n",
              "                                                     [key], {});\n",
              "          if (!dataTable) return;\n",
              "\n",
              "          const docLinkHtml = 'Like what you see? Visit the ' +\n",
              "            '<a target=\"_blank\" href=https://colab.research.google.com/notebooks/data_table.ipynb>data table notebook</a>'\n",
              "            + ' to learn more about interactive tables.';\n",
              "          element.innerHTML = '';\n",
              "          dataTable['output_type'] = 'display_data';\n",
              "          await google.colab.output.renderOutput(dataTable, element);\n",
              "          const docLink = document.createElement('div');\n",
              "          docLink.innerHTML = docLinkHtml;\n",
              "          element.appendChild(docLink);\n",
              "        }\n",
              "      </script>\n",
              "    </div>\n",
              "  </div>\n",
              "  "
            ]
          },
          "metadata": {},
          "execution_count": 6
        }
      ]
    },
    {
      "cell_type": "markdown",
      "source": [
        "The data has 25 features. I added one more feature, namely, ‘PROFIT’ by calculating it with the equation PROFIT=premiumX0.77-CLAIM.\n",
        "\n"
      ],
      "metadata": {
        "id": "i8xUc-z_Uz4U"
      }
    },
    {
      "cell_type": "code",
      "source": [
        "df['PROFIT']=df['PREMIUM']*0.77-df['CLAIM']"
      ],
      "metadata": {
        "id": "sp_jmXkDsLmX"
      },
      "execution_count": null,
      "outputs": []
    },
    {
      "cell_type": "code",
      "source": [
        "unique_years = df['YEAR'].unique()\n",
        "unique_years"
      ],
      "metadata": {
        "colab": {
          "base_uri": "https://localhost:8080/"
        },
        "id": "V9VPHfA5RBcV",
        "outputId": "9478949d-e87a-4b48-f129-45b65ef3695a"
      },
      "execution_count": null,
      "outputs": [
        {
          "output_type": "execute_result",
          "data": {
            "text/plain": [
              "array([2019, 2020, 2021])"
            ]
          },
          "metadata": {},
          "execution_count": 49
        }
      ]
    },
    {
      "cell_type": "code",
      "source": [
        "path = r'/content/drive/My Drive/smp_test.xlsx'\n",
        "df2 = pd.read_excel(path)"
      ],
      "metadata": {
        "colab": {
          "base_uri": "https://localhost:8080/"
        },
        "id": "NbVkoxLdceNo",
        "outputId": "794eba77-de88-4d49-cf55-815785abf5dc"
      },
      "execution_count": null,
      "outputs": [
        {
          "output_type": "stream",
          "name": "stderr",
          "text": [
            "Workbook contains no default style, apply openpyxl's default\n"
          ]
        }
      ]
    },
    {
      "cell_type": "code",
      "source": [
        "unique_years = df2['YEAR'].unique()\n",
        "unique_years"
      ],
      "metadata": {
        "colab": {
          "base_uri": "https://localhost:8080/"
        },
        "id": "Aq6a0kc6d2ut",
        "outputId": "06e0ae46-5a24-4956-80a8-0b3258011b20"
      },
      "execution_count": null,
      "outputs": [
        {
          "output_type": "execute_result",
          "data": {
            "text/plain": [
              "array([2022])"
            ]
          },
          "metadata": {},
          "execution_count": 14
        }
      ]
    },
    {
      "cell_type": "code",
      "source": [
        "df2['PROFIT']=df2['PREMIUM']*0.77-df2['CLAIM']"
      ],
      "metadata": {
        "id": "qUjo7eK0nhAY"
      },
      "execution_count": null,
      "outputs": []
    },
    {
      "cell_type": "code",
      "source": [
        "df2.head()"
      ],
      "metadata": {
        "colab": {
          "base_uri": "https://localhost:8080/",
          "height": 297
        },
        "id": "S3ZTlwAPd3O9",
        "outputId": "94ab85d0-e486-4f4f-88c1-e7845768dc44"
      },
      "execution_count": null,
      "outputs": [
        {
          "output_type": "execute_result",
          "data": {
            "text/plain": [
              "   YEAR  MONTH POLICY_TYPE  NO_CLAIMS_LEVEL  COVER  CLAIM  CLAIM_FREQ  \\\n",
              "0  2022      6         MOD                0  61050  38737           1   \n",
              "1  2022      4         MOD                5  58370  33033           1   \n",
              "2  2022      3         MOD                5  71560  47131           1   \n",
              "3  2022     10         MOD                4  61340  22114           1   \n",
              "4  2022      1         MOD                3  36500  31604           1   \n",
              "\n",
              "   CUST_AGE  CUST_GENDER_F  LOCATION_URBAN  ...  VEHICLE_TYPE  VEHICLE_YEAR  \\\n",
              "0        61              1               0  ...  Personal Car          2009   \n",
              "1        45              1               0  ...  Personal Car          2015   \n",
              "2        61              0               1  ...  Personal Car          2016   \n",
              "3        55              0               0  ...  Personal Car          2017   \n",
              "4        51              1               1  ...    Mini Truck          2013   \n",
              "\n",
              "   FLAG_SPORTS_CAR HOME_AGE  HOME_M2  LOC_INDEX PRE_HEALTH_ISSUES  \\\n",
              "0                0        ?        ?         72                 ?   \n",
              "1                0        ?        ?         31                 ?   \n",
              "2                1        ?        ?         10                 ?   \n",
              "3                0        ?        ?         58                 ?   \n",
              "4                0        ?        ?         33                 ?   \n",
              "\n",
              "   INSTALLMENTS  PREMIUM    PROFIT  \n",
              "0             1     5582 -34438.86  \n",
              "1             9     3400 -30415.00  \n",
              "2             8     4116 -43961.68  \n",
              "3             9     4080 -18972.40  \n",
              "4            10     2976 -29312.48  \n",
              "\n",
              "[5 rows x 26 columns]"
            ],
            "text/html": [
              "\n",
              "  <div id=\"df-055392a1-d4f8-4d5d-be0e-f44eb3f28dd6\">\n",
              "    <div class=\"colab-df-container\">\n",
              "      <div>\n",
              "<style scoped>\n",
              "    .dataframe tbody tr th:only-of-type {\n",
              "        vertical-align: middle;\n",
              "    }\n",
              "\n",
              "    .dataframe tbody tr th {\n",
              "        vertical-align: top;\n",
              "    }\n",
              "\n",
              "    .dataframe thead th {\n",
              "        text-align: right;\n",
              "    }\n",
              "</style>\n",
              "<table border=\"1\" class=\"dataframe\">\n",
              "  <thead>\n",
              "    <tr style=\"text-align: right;\">\n",
              "      <th></th>\n",
              "      <th>YEAR</th>\n",
              "      <th>MONTH</th>\n",
              "      <th>POLICY_TYPE</th>\n",
              "      <th>NO_CLAIMS_LEVEL</th>\n",
              "      <th>COVER</th>\n",
              "      <th>CLAIM</th>\n",
              "      <th>CLAIM_FREQ</th>\n",
              "      <th>CUST_AGE</th>\n",
              "      <th>CUST_GENDER_F</th>\n",
              "      <th>LOCATION_URBAN</th>\n",
              "      <th>...</th>\n",
              "      <th>VEHICLE_TYPE</th>\n",
              "      <th>VEHICLE_YEAR</th>\n",
              "      <th>FLAG_SPORTS_CAR</th>\n",
              "      <th>HOME_AGE</th>\n",
              "      <th>HOME_M2</th>\n",
              "      <th>LOC_INDEX</th>\n",
              "      <th>PRE_HEALTH_ISSUES</th>\n",
              "      <th>INSTALLMENTS</th>\n",
              "      <th>PREMIUM</th>\n",
              "      <th>PROFIT</th>\n",
              "    </tr>\n",
              "  </thead>\n",
              "  <tbody>\n",
              "    <tr>\n",
              "      <th>0</th>\n",
              "      <td>2022</td>\n",
              "      <td>6</td>\n",
              "      <td>MOD</td>\n",
              "      <td>0</td>\n",
              "      <td>61050</td>\n",
              "      <td>38737</td>\n",
              "      <td>1</td>\n",
              "      <td>61</td>\n",
              "      <td>1</td>\n",
              "      <td>0</td>\n",
              "      <td>...</td>\n",
              "      <td>Personal Car</td>\n",
              "      <td>2009</td>\n",
              "      <td>0</td>\n",
              "      <td>?</td>\n",
              "      <td>?</td>\n",
              "      <td>72</td>\n",
              "      <td>?</td>\n",
              "      <td>1</td>\n",
              "      <td>5582</td>\n",
              "      <td>-34438.86</td>\n",
              "    </tr>\n",
              "    <tr>\n",
              "      <th>1</th>\n",
              "      <td>2022</td>\n",
              "      <td>4</td>\n",
              "      <td>MOD</td>\n",
              "      <td>5</td>\n",
              "      <td>58370</td>\n",
              "      <td>33033</td>\n",
              "      <td>1</td>\n",
              "      <td>45</td>\n",
              "      <td>1</td>\n",
              "      <td>0</td>\n",
              "      <td>...</td>\n",
              "      <td>Personal Car</td>\n",
              "      <td>2015</td>\n",
              "      <td>0</td>\n",
              "      <td>?</td>\n",
              "      <td>?</td>\n",
              "      <td>31</td>\n",
              "      <td>?</td>\n",
              "      <td>9</td>\n",
              "      <td>3400</td>\n",
              "      <td>-30415.00</td>\n",
              "    </tr>\n",
              "    <tr>\n",
              "      <th>2</th>\n",
              "      <td>2022</td>\n",
              "      <td>3</td>\n",
              "      <td>MOD</td>\n",
              "      <td>5</td>\n",
              "      <td>71560</td>\n",
              "      <td>47131</td>\n",
              "      <td>1</td>\n",
              "      <td>61</td>\n",
              "      <td>0</td>\n",
              "      <td>1</td>\n",
              "      <td>...</td>\n",
              "      <td>Personal Car</td>\n",
              "      <td>2016</td>\n",
              "      <td>1</td>\n",
              "      <td>?</td>\n",
              "      <td>?</td>\n",
              "      <td>10</td>\n",
              "      <td>?</td>\n",
              "      <td>8</td>\n",
              "      <td>4116</td>\n",
              "      <td>-43961.68</td>\n",
              "    </tr>\n",
              "    <tr>\n",
              "      <th>3</th>\n",
              "      <td>2022</td>\n",
              "      <td>10</td>\n",
              "      <td>MOD</td>\n",
              "      <td>4</td>\n",
              "      <td>61340</td>\n",
              "      <td>22114</td>\n",
              "      <td>1</td>\n",
              "      <td>55</td>\n",
              "      <td>0</td>\n",
              "      <td>0</td>\n",
              "      <td>...</td>\n",
              "      <td>Personal Car</td>\n",
              "      <td>2017</td>\n",
              "      <td>0</td>\n",
              "      <td>?</td>\n",
              "      <td>?</td>\n",
              "      <td>58</td>\n",
              "      <td>?</td>\n",
              "      <td>9</td>\n",
              "      <td>4080</td>\n",
              "      <td>-18972.40</td>\n",
              "    </tr>\n",
              "    <tr>\n",
              "      <th>4</th>\n",
              "      <td>2022</td>\n",
              "      <td>1</td>\n",
              "      <td>MOD</td>\n",
              "      <td>3</td>\n",
              "      <td>36500</td>\n",
              "      <td>31604</td>\n",
              "      <td>1</td>\n",
              "      <td>51</td>\n",
              "      <td>1</td>\n",
              "      <td>1</td>\n",
              "      <td>...</td>\n",
              "      <td>Mini Truck</td>\n",
              "      <td>2013</td>\n",
              "      <td>0</td>\n",
              "      <td>?</td>\n",
              "      <td>?</td>\n",
              "      <td>33</td>\n",
              "      <td>?</td>\n",
              "      <td>10</td>\n",
              "      <td>2976</td>\n",
              "      <td>-29312.48</td>\n",
              "    </tr>\n",
              "  </tbody>\n",
              "</table>\n",
              "<p>5 rows × 26 columns</p>\n",
              "</div>\n",
              "      <button class=\"colab-df-convert\" onclick=\"convertToInteractive('df-055392a1-d4f8-4d5d-be0e-f44eb3f28dd6')\"\n",
              "              title=\"Convert this dataframe to an interactive table.\"\n",
              "              style=\"display:none;\">\n",
              "        \n",
              "  <svg xmlns=\"http://www.w3.org/2000/svg\" height=\"24px\"viewBox=\"0 0 24 24\"\n",
              "       width=\"24px\">\n",
              "    <path d=\"M0 0h24v24H0V0z\" fill=\"none\"/>\n",
              "    <path d=\"M18.56 5.44l.94 2.06.94-2.06 2.06-.94-2.06-.94-.94-2.06-.94 2.06-2.06.94zm-11 1L8.5 8.5l.94-2.06 2.06-.94-2.06-.94L8.5 2.5l-.94 2.06-2.06.94zm10 10l.94 2.06.94-2.06 2.06-.94-2.06-.94-.94-2.06-.94 2.06-2.06.94z\"/><path d=\"M17.41 7.96l-1.37-1.37c-.4-.4-.92-.59-1.43-.59-.52 0-1.04.2-1.43.59L10.3 9.45l-7.72 7.72c-.78.78-.78 2.05 0 2.83L4 21.41c.39.39.9.59 1.41.59.51 0 1.02-.2 1.41-.59l7.78-7.78 2.81-2.81c.8-.78.8-2.07 0-2.86zM5.41 20L4 18.59l7.72-7.72 1.47 1.35L5.41 20z\"/>\n",
              "  </svg>\n",
              "      </button>\n",
              "      \n",
              "  <style>\n",
              "    .colab-df-container {\n",
              "      display:flex;\n",
              "      flex-wrap:wrap;\n",
              "      gap: 12px;\n",
              "    }\n",
              "\n",
              "    .colab-df-convert {\n",
              "      background-color: #E8F0FE;\n",
              "      border: none;\n",
              "      border-radius: 50%;\n",
              "      cursor: pointer;\n",
              "      display: none;\n",
              "      fill: #1967D2;\n",
              "      height: 32px;\n",
              "      padding: 0 0 0 0;\n",
              "      width: 32px;\n",
              "    }\n",
              "\n",
              "    .colab-df-convert:hover {\n",
              "      background-color: #E2EBFA;\n",
              "      box-shadow: 0px 1px 2px rgba(60, 64, 67, 0.3), 0px 1px 3px 1px rgba(60, 64, 67, 0.15);\n",
              "      fill: #174EA6;\n",
              "    }\n",
              "\n",
              "    [theme=dark] .colab-df-convert {\n",
              "      background-color: #3B4455;\n",
              "      fill: #D2E3FC;\n",
              "    }\n",
              "\n",
              "    [theme=dark] .colab-df-convert:hover {\n",
              "      background-color: #434B5C;\n",
              "      box-shadow: 0px 1px 3px 1px rgba(0, 0, 0, 0.15);\n",
              "      filter: drop-shadow(0px 1px 2px rgba(0, 0, 0, 0.3));\n",
              "      fill: #FFFFFF;\n",
              "    }\n",
              "  </style>\n",
              "\n",
              "      <script>\n",
              "        const buttonEl =\n",
              "          document.querySelector('#df-055392a1-d4f8-4d5d-be0e-f44eb3f28dd6 button.colab-df-convert');\n",
              "        buttonEl.style.display =\n",
              "          google.colab.kernel.accessAllowed ? 'block' : 'none';\n",
              "\n",
              "        async function convertToInteractive(key) {\n",
              "          const element = document.querySelector('#df-055392a1-d4f8-4d5d-be0e-f44eb3f28dd6');\n",
              "          const dataTable =\n",
              "            await google.colab.kernel.invokeFunction('convertToInteractive',\n",
              "                                                     [key], {});\n",
              "          if (!dataTable) return;\n",
              "\n",
              "          const docLinkHtml = 'Like what you see? Visit the ' +\n",
              "            '<a target=\"_blank\" href=https://colab.research.google.com/notebooks/data_table.ipynb>data table notebook</a>'\n",
              "            + ' to learn more about interactive tables.';\n",
              "          element.innerHTML = '';\n",
              "          dataTable['output_type'] = 'display_data';\n",
              "          await google.colab.output.renderOutput(dataTable, element);\n",
              "          const docLink = document.createElement('div');\n",
              "          docLink.innerHTML = docLinkHtml;\n",
              "          element.appendChild(docLink);\n",
              "        }\n",
              "      </script>\n",
              "    </div>\n",
              "  </div>\n",
              "  "
            ]
          },
          "metadata": {},
          "execution_count": 16
        }
      ]
    },
    {
      "cell_type": "code",
      "source": [
        "if df.columns.equals(df2.columns):\n",
        "    print('the two data frame columns equal each other')\n",
        "else:\n",
        "    print('they are different')"
      ],
      "metadata": {
        "colab": {
          "base_uri": "https://localhost:8080/"
        },
        "id": "Kc-GaOqql49V",
        "outputId": "69cae99b-a0a0-445a-e766-1332b9746843"
      },
      "execution_count": null,
      "outputs": [
        {
          "output_type": "stream",
          "name": "stdout",
          "text": [
            "they are different\n"
          ]
        }
      ]
    },
    {
      "cell_type": "code",
      "source": [
        "merged_df = pd.concat([df, df2]).reset_index(drop=True)\n"
      ],
      "metadata": {
        "id": "tt85TUvEmAOp"
      },
      "execution_count": null,
      "outputs": []
    },
    {
      "cell_type": "code",
      "source": [
        "merged_df.info()"
      ],
      "metadata": {
        "colab": {
          "base_uri": "https://localhost:8080/"
        },
        "id": "YAQ82NSCpn_o",
        "outputId": "9c21e3d2-ae61-4a9e-e6eb-1ea86a309cee"
      },
      "execution_count": null,
      "outputs": [
        {
          "output_type": "stream",
          "name": "stdout",
          "text": [
            "<class 'pandas.core.frame.DataFrame'>\n",
            "RangeIndex: 2427 entries, 0 to 2426\n",
            "Data columns (total 26 columns):\n",
            " #   Column               Non-Null Count  Dtype  \n",
            "---  ------               --------------  -----  \n",
            " 0   YEAR                 2427 non-null   int64  \n",
            " 1   MONTH                2427 non-null   int64  \n",
            " 2   POLICY_TYPE          2427 non-null   object \n",
            " 3   NO_CLAIMS_LEVEL      2427 non-null   int64  \n",
            " 4   COVER                2427 non-null   int64  \n",
            " 5   CLAIM                2427 non-null   int64  \n",
            " 6   CLAIM_FREQ           2427 non-null   int64  \n",
            " 7   CUST_AGE             2427 non-null   int64  \n",
            " 8   CUST_GENDER_F        2427 non-null   int64  \n",
            " 9   LOCATION_URBAN       2427 non-null   int64  \n",
            " 10  CLAIM_REASON         2427 non-null   object \n",
            " 11  CUST_INCOME          2427 non-null   int64  \n",
            " 12  CUST_FINDEKS         2427 non-null   int64  \n",
            " 13  CUST_EMPLOYMENT      2427 non-null   object \n",
            " 14  CUST_MARITAL_SINGLE  2427 non-null   int64  \n",
            " 15  TYPE_CORP            2427 non-null   int64  \n",
            " 16  VEHICLE_TYPE         2427 non-null   object \n",
            " 17  VEHICLE_YEAR         2427 non-null   int64  \n",
            " 18  FLAG_SPORTS_CAR      2427 non-null   int64  \n",
            " 19  HOME_AGE             2427 non-null   object \n",
            " 20  HOME_M2              2427 non-null   object \n",
            " 21  LOC_INDEX            2427 non-null   int64  \n",
            " 22  PRE_HEALTH_ISSUES    2427 non-null   object \n",
            " 23  INSTALLMENTS         2427 non-null   int64  \n",
            " 24  PREMIUM              2427 non-null   int64  \n",
            " 25  PROFIT               1842 non-null   float64\n",
            "dtypes: float64(1), int64(18), object(7)\n",
            "memory usage: 493.1+ KB\n"
          ]
        }
      ]
    },
    {
      "cell_type": "markdown",
      "source": [
        "To understand the problem of profit, I first checked the change in annual average profit and realized that there is a sudden drop in profit in 2022.\n",
        "Here is the graph"
      ],
      "metadata": {
        "id": "t2hr67XVVrF8"
      }
    },
    {
      "cell_type": "code",
      "source": [
        "merged_df.groupby(['YEAR'])['PROFIT'].mean().plot(kind='bar')\n",
        "plt.xlabel('Year')\n",
        "plt.ylabel('Total Profit')\n",
        "plt.title('Average Profit Per Year')\n",
        "\n"
      ],
      "metadata": {
        "colab": {
          "base_uri": "https://localhost:8080/",
          "height": 510
        },
        "id": "BOiWXyihVxhA",
        "outputId": "a1eeeeb0-7314-4f32-f8ce-cb3e0bb22c8e"
      },
      "execution_count": null,
      "outputs": [
        {
          "output_type": "execute_result",
          "data": {
            "text/plain": [
              "Text(0.5, 1.0, 'Average Profit Per Year')"
            ]
          },
          "metadata": {},
          "execution_count": 14
        },
        {
          "output_type": "display_data",
          "data": {
            "text/plain": [
              "<Figure size 640x480 with 1 Axes>"
            ],
            "image/png": "[encoded data removed]"
          },
          "metadata": {}
        }
      ]
    },
    {
      "cell_type": "markdown",
      "source": [
        "I then checked the usual culprits that influence the profit as revealed in the equation i.e PREMIUM and CLAIM. I also checked the cover column. Here are the average annual values of each feature as represented by bar charts.\n"
      ],
      "metadata": {
        "id": "X4vCP6jKV4m1"
      }
    },
    {
      "cell_type": "code",
      "source": [
        "merged_df.groupby(['YEAR'])['PREMIUM'].mean().plot(kind='bar')\n",
        "plt.xlabel('Year')\n",
        "plt.ylabel('Average Premium')\n",
        "plt.title('Average Premium per Year')\n",
        "\n"
      ],
      "metadata": {
        "colab": {
          "base_uri": "https://localhost:8080/",
          "height": 510
        },
        "id": "vQ1vyRGtV52v",
        "outputId": "a79c1a36-bda0-4c3e-b7ed-ba2cb155ff52"
      },
      "execution_count": null,
      "outputs": [
        {
          "output_type": "execute_result",
          "data": {
            "text/plain": [
              "Text(0.5, 1.0, 'Average Premium per Year')"
            ]
          },
          "metadata": {},
          "execution_count": 18
        },
        {
          "output_type": "display_data",
          "data": {
            "text/plain": [
              "<Figure size 640x480 with 1 Axes>"
            ],
            "image/png": "[encoded data removed]"
          },
          "metadata": {}
        }
      ]
    },
    {
      "cell_type": "code",
      "source": [
        "merged_df.groupby(['YEAR'])['CLAIM'].mean().plot(kind='bar')\n",
        "plt.xlabel('Year')\n",
        "plt.ylabel('Average Claim')\n",
        "plt.title('Average Claim per Year')\n",
        "\n"
      ],
      "metadata": {
        "colab": {
          "base_uri": "https://localhost:8080/",
          "height": 510
        },
        "id": "i_CkdRdJWKFt",
        "outputId": "54c1a888-6ad5-48b6-8462-a6e7d84d2dea"
      },
      "execution_count": null,
      "outputs": [
        {
          "output_type": "execute_result",
          "data": {
            "text/plain": [
              "Text(0.5, 1.0, 'Average Claim per Year')"
            ]
          },
          "metadata": {},
          "execution_count": 19
        },
        {
          "output_type": "display_data",
          "data": {
            "text/plain": [
              "<Figure size 640x480 with 1 Axes>"
            ],
            "image/png": "[encoded data removed]"
          },
          "metadata": {}
        }
      ]
    },
    {
      "cell_type": "code",
      "source": [
        "merged_df.groupby(['YEAR'])['COVER'].mean().plot(kind='bar')\n",
        "plt.xlabel('Year')\n",
        "plt.ylabel('Average Cover')\n",
        "plt.title('Average Cover per Year')\n",
        "\n"
      ],
      "metadata": {
        "colab": {
          "base_uri": "https://localhost:8080/",
          "height": 510
        },
        "id": "wbaZ5ldJXMFu",
        "outputId": "3894a54b-5bae-44f1-ac5c-137b7754c7d3"
      },
      "execution_count": null,
      "outputs": [
        {
          "output_type": "execute_result",
          "data": {
            "text/plain": [
              "Text(0.5, 1.0, 'Average Cover per Year')"
            ]
          },
          "metadata": {},
          "execution_count": 20
        },
        {
          "output_type": "display_data",
          "data": {
            "text/plain": [
              "<Figure size 640x480 with 1 Axes>"
            ],
            "image/png": "[encoded data removed]"
          },
          "metadata": {}
        }
      ]
    },
    {
      "cell_type": "markdown",
      "source": [
        "As can be seen on the graphs, while the average premiums did not change over the years, there are sharp increases in average cover and premium values. So can they be the main reason for the fall in profit?I followed up with correlation analysis for numerical features to gain further insights on the issue.\n",
        "\n",
        "\n"
      ],
      "metadata": {
        "id": "C6MUhpngXWXU"
      }
    },
    {
      "cell_type": "markdown",
      "source": [
        "Here is the correlation matrix\n"
      ],
      "metadata": {
        "id": "1H94HZVJXbtp"
      }
    },
    {
      "cell_type": "code",
      "source": [
        "#observing the correlation for all numerical column\n",
        "correlation_matrix=merged_df[['PROFIT','CLAIM', 'PREMIUM','CLAIM_FREQ','NO_CLAIMS_LEVEL','NO_CLAIMS_LEVEL', 'COVER','CUST_AGE','VEHICLE_YEAR', 'CUST_INCOME', 'CUST_FINDEKS'  ]].corr(method='pearson')\n",
        "print(correlation_matrix)"
      ],
      "metadata": {
        "colab": {
          "base_uri": "https://localhost:8080/"
        },
        "id": "aw2uJXQjXoAa",
        "outputId": "acd49580-0073-4bf0-f695-1d4781748986"
      },
      "execution_count": null,
      "outputs": [
        {
          "output_type": "stream",
          "name": "stdout",
          "text": [
            "                   PROFIT     CLAIM   PREMIUM  CLAIM_FREQ  NO_CLAIMS_LEVEL  \\\n",
            "PROFIT           1.000000 -0.993388 -0.011848   -0.825665         0.051278   \n",
            "CLAIM           -0.993388  1.000000  0.127530    0.806658        -0.040256   \n",
            "PREMIUM         -0.011848  0.127530  1.000000    0.002009        -0.012336   \n",
            "CLAIM_FREQ      -0.825665  0.806658  0.002009    1.000000         0.004535   \n",
            "NO_CLAIMS_LEVEL  0.051278 -0.040256 -0.012336    0.004535         1.000000   \n",
            "NO_CLAIMS_LEVEL  0.051278 -0.040256 -0.012336    0.004535         1.000000   \n",
            "COVER           -0.449535  0.534642  0.635501    0.244427        -0.008776   \n",
            "CUST_AGE         0.075971 -0.052351  0.003270   -0.019591        -0.028283   \n",
            "VEHICLE_YEAR    -0.013011  0.013701 -0.026650    0.011934        -0.016245   \n",
            "CUST_INCOME      0.010188 -0.044226 -0.013377   -0.030600         0.031820   \n",
            "CUST_FINDEKS     0.044503 -0.039773 -0.007951    0.019398         0.000697   \n",
            "\n",
            "                 NO_CLAIMS_LEVEL     COVER  CUST_AGE  VEHICLE_YEAR  \\\n",
            "PROFIT                  0.051278 -0.449535  0.075971     -0.013011   \n",
            "CLAIM                  -0.040256  0.534642 -0.052351      0.013701   \n",
            "PREMIUM                -0.012336  0.635501  0.003270     -0.026650   \n",
            "CLAIM_FREQ              0.004535  0.244427 -0.019591      0.011934   \n",
            "NO_CLAIMS_LEVEL         1.000000 -0.008776 -0.028283     -0.016245   \n",
            "NO_CLAIMS_LEVEL         1.000000 -0.008776 -0.028283     -0.016245   \n",
            "COVER                  -0.008776  1.000000 -0.018839      0.011099   \n",
            "CUST_AGE               -0.028283 -0.018839  1.000000     -0.013212   \n",
            "VEHICLE_YEAR           -0.016245  0.011099 -0.013212      1.000000   \n",
            "CUST_INCOME             0.031820 -0.027053  0.007184     -0.016373   \n",
            "CUST_FINDEKS            0.000697 -0.013186 -0.022992      0.006488   \n",
            "\n",
            "                 CUST_INCOME  CUST_FINDEKS  \n",
            "PROFIT              0.010188      0.044503  \n",
            "CLAIM              -0.044226     -0.039773  \n",
            "PREMIUM            -0.013377     -0.007951  \n",
            "CLAIM_FREQ         -0.030600      0.019398  \n",
            "NO_CLAIMS_LEVEL     0.031820      0.000697  \n",
            "NO_CLAIMS_LEVEL     0.031820      0.000697  \n",
            "COVER              -0.027053     -0.013186  \n",
            "CUST_AGE            0.007184     -0.022992  \n",
            "VEHICLE_YEAR       -0.016373      0.006488  \n",
            "CUST_INCOME         1.000000      0.021939  \n",
            "CUST_FINDEKS        0.021939      1.000000  \n"
          ]
        }
      ]
    },
    {
      "cell_type": "markdown",
      "source": [
        "Profit is highly negatively correlated with claim, claim_freq and cover features. Therefore, one would suspect a sharp increase in those features could potentially decrease the profits. one interesting observation is that premium is weakly correlated with profit although it is one of the two variables in the construction of the profit feature.\n",
        "\n",
        "Correlation only shows a linear association among features yet it does not reveal how much one variable changes in relation to another variable. Moreover, it also does not show us a casual relationship. An ML model would help to explore the existence of non-linear as well as linear relationships among different variables in the dataset. That is why, I built a Catboost regressor model for sensitivity analysis of the profit on different variables.\n"
      ],
      "metadata": {
        "id": "gbKXRlRyYCrI"
      }
    },
    {
      "cell_type": "code",
      "source": [
        "#checking the types of the features\n",
        "merged_df.info()"
      ],
      "metadata": {
        "colab": {
          "base_uri": "https://localhost:8080/"
        },
        "id": "85JHaGuqYwIa",
        "outputId": "d65fa41a-6d44-4399-9d4a-d9a29072f958"
      },
      "execution_count": null,
      "outputs": [
        {
          "output_type": "stream",
          "name": "stdout",
          "text": [
            "<class 'pandas.core.frame.DataFrame'>\n",
            "RangeIndex: 2427 entries, 0 to 2426\n",
            "Data columns (total 26 columns):\n",
            " #   Column               Non-Null Count  Dtype  \n",
            "---  ------               --------------  -----  \n",
            " 0   YEAR                 2427 non-null   int64  \n",
            " 1   MONTH                2427 non-null   int64  \n",
            " 2   POLICY_TYPE          2427 non-null   object \n",
            " 3   NO_CLAIMS_LEVEL      2427 non-null   int64  \n",
            " 4   COVER                2427 non-null   int64  \n",
            " 5   CLAIM                2427 non-null   int64  \n",
            " 6   CLAIM_FREQ           2427 non-null   int64  \n",
            " 7   CUST_AGE             2427 non-null   int64  \n",
            " 8   CUST_GENDER_F        2427 non-null   int64  \n",
            " 9   LOCATION_URBAN       2427 non-null   int64  \n",
            " 10  CLAIM_REASON         2427 non-null   object \n",
            " 11  CUST_INCOME          2427 non-null   int64  \n",
            " 12  CUST_FINDEKS         2427 non-null   int64  \n",
            " 13  CUST_EMPLOYMENT      2427 non-null   object \n",
            " 14  CUST_MARITAL_SINGLE  2427 non-null   int64  \n",
            " 15  TYPE_CORP            2427 non-null   int64  \n",
            " 16  VEHICLE_TYPE         2427 non-null   object \n",
            " 17  VEHICLE_YEAR         2427 non-null   int64  \n",
            " 18  FLAG_SPORTS_CAR      2427 non-null   int64  \n",
            " 19  HOME_AGE             2427 non-null   object \n",
            " 20  HOME_M2              2427 non-null   object \n",
            " 21  LOC_INDEX            2427 non-null   int64  \n",
            " 22  PRE_HEALTH_ISSUES    2427 non-null   object \n",
            " 23  INSTALLMENTS         2427 non-null   int64  \n",
            " 24  PREMIUM              2427 non-null   int64  \n",
            " 25  PROFIT               1842 non-null   float64\n",
            "dtypes: float64(1), int64(18), object(7)\n",
            "memory usage: 493.1+ KB\n"
          ]
        }
      ]
    },
    {
      "cell_type": "code",
      "source": [
        "#changing the type of object variables to string as catboost requires.\n",
        "merged_df['POLICY_TYPE']=merged_df['POLICY_TYPE'].astype(\"string\")\n",
        "merged_df['CUST_GENDER_F']= merged_df['CUST_GENDER_F'].astype(\"string\")\n",
        "merged_df['CLAIM_REASON']= merged_df['CLAIM_REASON'].astype(\"string\")\n",
        "merged_df['CUST_EMPLOYMENT'] = merged_df['CUST_EMPLOYMENT'].astype(\"string\")\n",
        "merged_df['CUST_MARITAL_SINGLE'] = merged_df['CUST_MARITAL_SINGLE'].astype(\"string\")\n",
        "merged_df['VEHICLE_TYPE'] = merged_df['VEHICLE_TYPE'].astype(\"string\")\n",
        "merged_df['FLAG_SPORTS_CAR'] = merged_df['FLAG_SPORTS_CAR'].astype(\"string\")\n",
        "merged_df['LOCATION_URBAN'] = merged_df['LOCATION_URBAN'].astype(\"string\")\n",
        "\n"
      ],
      "metadata": {
        "id": "KYzrUSwCeLVm"
      },
      "execution_count": null,
      "outputs": []
    },
    {
      "cell_type": "code",
      "source": [
        "#preparing the train-test sets.\n",
        "\n",
        "features = merged_df.drop(['PROFIT', 'NO_CLAIMS_LEVEL','CUST_AGE', 'VEHICLE_YEAR', 'TYPE_CORP', 'CUST_INCOME', 'CUST_FINDEKS','HOME_AGE','HOME_M2','LOC_INDEX','PRE_HEALTH_ISSUES', 'INSTALLMENTS'], axis=1)\n",
        "target = merged_df['PROFIT'].values\n",
        "\n",
        "# shuffle is zero so that we dont lose squential data.\n",
        "X_train, X_test, y_train, y_test = train_test_split(features, target, test_size=0.1, random_state=42, shuffle=False)"
      ],
      "metadata": {
        "id": "Sgsx4YqBCsjk"
      },
      "execution_count": null,
      "outputs": []
    },
    {
      "cell_type": "code",
      "source": [
        "features.info()"
      ],
      "metadata": {
        "colab": {
          "base_uri": "https://localhost:8080/"
        },
        "id": "iHdmXrOGmqnL",
        "outputId": "7a0ec940-73b9-48b6-ae09-987fad2d0cf1"
      },
      "execution_count": null,
      "outputs": [
        {
          "output_type": "stream",
          "name": "stdout",
          "text": [
            "<class 'pandas.core.frame.DataFrame'>\n",
            "RangeIndex: 2427 entries, 0 to 2426\n",
            "Data columns (total 14 columns):\n",
            " #   Column               Non-Null Count  Dtype \n",
            "---  ------               --------------  ----- \n",
            " 0   YEAR                 2427 non-null   int64 \n",
            " 1   MONTH                2427 non-null   int64 \n",
            " 2   POLICY_TYPE          2427 non-null   string\n",
            " 3   COVER                2427 non-null   int64 \n",
            " 4   CLAIM                2427 non-null   int64 \n",
            " 5   CLAIM_FREQ           2427 non-null   int64 \n",
            " 6   CUST_GENDER_F        2427 non-null   string\n",
            " 7   LOCATION_URBAN       2427 non-null   int64 \n",
            " 8   CLAIM_REASON         2427 non-null   string\n",
            " 9   CUST_EMPLOYMENT      2427 non-null   string\n",
            " 10  CUST_MARITAL_SINGLE  2427 non-null   string\n",
            " 11  VEHICLE_TYPE         2427 non-null   string\n",
            " 12  FLAG_SPORTS_CAR      2427 non-null   string\n",
            " 13  PREMIUM              2427 non-null   int64 \n",
            "dtypes: int64(7), string(7)\n",
            "memory usage: 265.6 KB\n"
          ]
        }
      ]
    },
    {
      "cell_type": "markdown",
      "source": [
        "Model 1 with a set of hyperparameters"
      ],
      "metadata": {
        "id": "yFx3UjX4ZOVd"
      }
    },
    {
      "cell_type": "code",
      "source": [
        "\n",
        "params = {\n",
        "    'iterations': randint(100, 1000),\n",
        "    'depth': randint(3, 10),\n",
        "    'learning_rate': [0.01, 0.02, 0.03, 0.04, 0.05],\n",
        "    'l2_leaf_reg': randint(1, 10),\n",
        "    'border_count': randint(32, 255),\n",
        "    'bagging_temperature': [0.0, 0.1, 0.2, 0.4, 0.6, 0.8, 1.0],\n",
        "}\n",
        "\n",
        "cv = TimeSeriesSplit(n_splits=5)\n",
        "\n",
        "# the model and GridSearchCV\n",
        "model = CatBoostRegressor(loss_function='RMSE', od_type='Iter', cat_features=[ 2, 5, 7, 8, 9, 11, 12], task_type='GPU')\n",
        "search = RandomizedSearchCV(model, param_distributions=params, n_iter=15, cv=cv, scoring='neg_root_mean_squared_error')\n",
        "# Fit the model\n",
        "search.fit(X_train, y_train, plot=True)"
      ],
      "metadata": {
        "id": "70IWiFlDkfWt"
      },
      "execution_count": null,
      "outputs": []
    },
    {
      "cell_type": "code",
      "source": [
        "search.best_params_"
      ],
      "metadata": {
        "colab": {
          "base_uri": "https://localhost:8080/"
        },
        "id": "584KudT11Y6H",
        "outputId": "61281962-0c6b-48ef-8dc8-d111ef8d307f"
      },
      "execution_count": null,
      "outputs": [
        {
          "output_type": "execute_result",
          "data": {
            "text/plain": [
              "{'bagging_temperature': 0.6,\n",
              " 'border_count': 166,\n",
              " 'depth': 5,\n",
              " 'iterations': 965,\n",
              " 'l2_leaf_reg': 3,\n",
              " 'learning_rate': 0.05}"
            ]
          },
          "metadata": {},
          "execution_count": 42
        }
      ]
    },
    {
      "cell_type": "code",
      "source": [
        "best_model = search.best_estimator_\n",
        "y_pred = best_model.predict(X_test)\n",
        "\n",
        "# Calculate the RMSE scores\n",
        "rmse = np.sqrt(mean_squared_error(y_test, y_pred))\n",
        "#print('Best CV error: {:.4f}'.format(best_cv_error))\n",
        "\n",
        "print('RMSE score of the best estimator on the test set:', rmse)\n",
        "mape = np.mean(np.abs((y_test - y_pred) / y_test)) * 100\n",
        "\n",
        "print('Mean absolute percentage error score of the best estimator on the test set:', mape)\n",
        "\n",
        "# Calculate training error\n",
        "y_train_pred = best_model.predict(X_train)\n",
        "best_training_error = np.sqrt(mean_squared_error(y_train, y_train_pred))\n",
        "print('Training RMSE of the best model:', best_training_error)\n",
        "\n",
        "# Calculate CV error\n",
        "best_cv_error = -search.best_score_\n",
        "print('Best CV error:', best_cv_error)\n"
      ],
      "metadata": {
        "colab": {
          "base_uri": "https://localhost:8080/"
        },
        "id": "685ZLzb1mPxa",
        "outputId": "f908f530-21ca-4df7-d939-daa354de0a98"
      },
      "execution_count": null,
      "outputs": [
        {
          "output_type": "stream",
          "name": "stdout",
          "text": [
            "RMSE score of the best estimator on the test set: 298.02609026693034\n",
            "Mean absolute percentage error score of the best estimator on the test set: 13.42884222113189\n",
            "Training RMSE of the best model: 238.73825107731415\n",
            "Best CV error: 1448.5698228072538\n"
          ]
        }
      ]
    },
    {
      "cell_type": "markdown",
      "source": [
        "Model 2 with a set of new hyperparameters as model 1 overfits the data"
      ],
      "metadata": {
        "id": "ccQ7yPcOZX6O"
      }
    },
    {
      "cell_type": "code",
      "source": [
        "\n",
        "params = {\n",
        "    'iterations': randint(100, 1000),\n",
        "    'depth': randint(3, 10),\n",
        "    'learning_rate': [0.01, 0.02, 0.03, 0.04, 0.05],\n",
        "    'l2_leaf_reg': randint(1, 10),\n",
        "    'border_count': randint(32, 255),\n",
        "    'bagging_temperature': [0.0, 0.1, 0.2, 0.4, 0.6, 0.8, 1.0],\n",
        "}\n",
        "\n",
        "cv = TimeSeriesSplit(n_splits=5)\n",
        "\n",
        "# the model and GridSearchCV\n",
        "model = CatBoostRegressor(loss_function='RMSE', od_type='Iter', cat_features=[ 2, 5, 7, 8, 9, 11, 12], task_type='GPU')\n",
        "search2 = RandomizedSearchCV(model, param_distributions=params, n_iter=15, cv=cv, scoring='neg_root_mean_squared_error')\n",
        "# Fit the model\n",
        "search2.fit(X_train, y_train, plot=True)"
      ],
      "metadata": {
        "id": "iMKkUQxivG1S"
      },
      "execution_count": null,
      "outputs": []
    },
    {
      "cell_type": "code",
      "source": [
        "search2.best_params_"
      ],
      "metadata": {
        "colab": {
          "base_uri": "https://localhost:8080/"
        },
        "id": "IlDEtRbA_nf9",
        "outputId": "0d56d975-74d4-454b-825a-d11a72cfb169"
      },
      "execution_count": null,
      "outputs": [
        {
          "output_type": "execute_result",
          "data": {
            "text/plain": [
              "{'bagging_temperature': 0.8,\n",
              " 'border_count': 229,\n",
              " 'depth': 3,\n",
              " 'iterations': 649,\n",
              " 'l2_leaf_reg': 4,\n",
              " 'learning_rate': 0.05}"
            ]
          },
          "metadata": {},
          "execution_count": 57
        }
      ]
    },
    {
      "cell_type": "code",
      "source": [
        "best_model = search2.best_estimator_\n",
        "y_pred = best_model.predict(X_test)\n",
        "\n",
        "# Calculate the RMSE scores\n",
        "rmse = np.sqrt(mean_squared_error(y_test, y_pred))\n",
        "#print('Best CV error: {:.4f}'.format(best_cv_error))\n",
        "\n",
        "print('RMSE score of the best estimator on the test set:', rmse)\n",
        "mape = np.mean(np.abs((y_test - y_pred) / y_test)) * 100\n",
        "\n",
        "print('Mean absolute percentage error score of the best estimator on the test set:', mape)\n",
        "\n",
        "# Calculate training error\n",
        "y_train_pred = best_model.predict(X_train)\n",
        "best_training_error = np.sqrt(mean_squared_error(y_train, y_train_pred))\n",
        "print('Training RMSE of the best model:', best_training_error)\n",
        "\n",
        "# Calculate CV error\n",
        "best_cv_error = -search.best_score_\n",
        "print('Best CV error:', best_cv_error)\n"
      ],
      "metadata": {
        "colab": {
          "base_uri": "https://localhost:8080/"
        },
        "id": "LltiWLHN_2hL",
        "outputId": "95371a82-cee1-43ea-830c-9eb67015e7bd"
      },
      "execution_count": null,
      "outputs": [
        {
          "output_type": "stream",
          "name": "stdout",
          "text": [
            "RMSE score of the best estimator on the test set: 255.88707594604034\n",
            "Mean absolute percentage error score of the best estimator on the test set: 12.566394101679077\n",
            "Training RMSE of the best model: 289.60082449922413\n",
            "Best CV error: 1490.2774160181295\n"
          ]
        }
      ]
    },
    {
      "cell_type": "markdown",
      "source": [
        "Model 3 with a set of new hyperparameters and with fewer features as model 2 overfits the data"
      ],
      "metadata": {
        "id": "rOFSVK6hZkEx"
      }
    },
    {
      "cell_type": "code",
      "source": [
        "params = {\n",
        "    'iterations': randint(100, 1000),\n",
        "    'depth': [1,2,3,4,5],\n",
        "    'learning_rate': [0.02, 0.03, 0.04, 0.05, 0.06],\n",
        "    'l2_leaf_reg': randint(1, 10),\n",
        "    'border_count': randint(32, 255),\n",
        "    'bagging_temperature': [0.0, 0.1, 0.2, 0.4, 0.6, 0.8, 1.0],\n",
        "}\n",
        "\n",
        "cv = TimeSeriesSplit(n_splits=4)\n",
        "\n",
        "# the model and GridSearchCV\n",
        "model = CatBoostRegressor(loss_function='RMSE', od_type='Iter', cat_features=[ 2, 5, 7, 8, 9, 10,11], task_type='GPU')\n",
        "search3 = RandomizedSearchCV(model, param_distributions=params, n_iter=30, cv=cv, scoring='neg_root_mean_squared_error')\n",
        "# Fit the model\n",
        "search3.fit(X_train, y_train, plot=True)"
      ],
      "metadata": {
        "id": "rRfdimzqF0wM"
      },
      "execution_count": null,
      "outputs": []
    },
    {
      "cell_type": "code",
      "source": [
        "search3.best_params_"
      ],
      "metadata": {
        "colab": {
          "base_uri": "https://localhost:8080/"
        },
        "id": "q6ZjVH5MPvHQ",
        "outputId": "afbd6731-205d-4dc1-959d-c1692a485b8f"
      },
      "execution_count": null,
      "outputs": [
        {
          "output_type": "execute_result",
          "data": {
            "text/plain": [
              "{'bagging_temperature': 1.0,\n",
              " 'border_count': 232,\n",
              " 'depth': 1,\n",
              " 'iterations': 934,\n",
              " 'l2_leaf_reg': 9,\n",
              " 'learning_rate': 0.04}"
            ]
          },
          "metadata": {},
          "execution_count": 70
        }
      ]
    },
    {
      "cell_type": "code",
      "source": [
        "best_model = search3.best_estimator_\n",
        "y_pred = best_model.predict(X_test)\n",
        "\n",
        "# Calculate the RMSE scores\n",
        "rmse = np.sqrt(mean_squared_error(y_test, y_pred))\n",
        "#print('Best CV error: {:.4f}'.format(best_cv_error))\n",
        "\n",
        "print('RMSE score of the best estimator on the test set:', rmse)\n",
        "mape = np.mean(np.abs((y_test - y_pred) / y_test)) * 100\n",
        "\n",
        "print('Mean absolute percentage error score of the best estimator on the test set:', mape)\n",
        "\n",
        "# Calculate training error\n",
        "y_train_pred = best_model.predict(X_train)\n",
        "best_training_error = np.sqrt(mean_squared_error(y_train, y_train_pred))\n",
        "print('Training RMSE of the best model:', best_training_error)\n",
        "\n",
        "# Calculate CV error\n",
        "best_cv_error = -search3.best_score_\n",
        "print('Best CV error:', best_cv_error)\n"
      ],
      "metadata": {
        "colab": {
          "base_uri": "https://localhost:8080/"
        },
        "id": "3HrrbYxzP0gT",
        "outputId": "e92601c5-9bb3-4f06-ca94-776a95b2f7f0"
      },
      "execution_count": null,
      "outputs": [
        {
          "output_type": "stream",
          "name": "stdout",
          "text": [
            "RMSE score of the best estimator on the test set: 480.93564336370656\n",
            "Mean absolute percentage error score of the best estimator on the test set: 25.91379977527297\n",
            "Training RMSE of the best model: 488.85272629738006\n",
            "Best CV error: 570.9229501853597\n"
          ]
        }
      ]
    },
    {
      "cell_type": "markdown",
      "source": [
        "Model 4 with a set of new hyperparameters and with fewer as model 2 overfits the data"
      ],
      "metadata": {
        "id": "HzSu26FWrmJ9"
      }
    },
    {
      "cell_type": "code",
      "source": [
        "params = {\n",
        "    'iterations': randint(100, 1000),\n",
        "    'depth': [1,2,3,4,5],\n",
        "    'learning_rate': [0.02, 0.03, 0.04, 0.05, 0.06],\n",
        "    'l2_leaf_reg': randint(1, 10),\n",
        "    'border_count': randint(32, 255),\n",
        "    'bagging_temperature': [ 0.6, 0.8, 1.0,1.1,1.2],\n",
        "}\n",
        "\n",
        "cv = TimeSeriesSplit(n_splits=4)\n",
        "\n",
        "# the model and GridSearchCV\n",
        "model = CatBoostRegressor(loss_function='RMSE', od_type='Iter', cat_features=[ 2, 6, 7, 8, 9, 10,11,12], task_type='GPU')\n",
        "New_search = RandomizedSearchCV(model, param_distributions=params, n_iter=40, cv=cv, scoring='neg_root_mean_squared_error',  error_score='raise')\n",
        "# Fit the model\n",
        "New_search.fit(X_train, y_train, plot=True)"
      ],
      "metadata": {
        "id": "e78YK-OByAGr"
      },
      "execution_count": null,
      "outputs": []
    },
    {
      "cell_type": "code",
      "source": [
        "best_model = New_search.best_estimator_\n",
        "y_pred = best_model.predict(X_test)\n",
        "\n",
        "# Calculate the RMSE scores\n",
        "rmse = np.sqrt(mean_squared_error(y_test, y_pred))\n",
        "#print('Best CV error: {:.4f}'.format(best_cv_error))\n",
        "\n",
        "print('RMSE score of the best estimator on the test set:', rmse)\n",
        "mape = np.mean(np.abs((y_test - y_pred) / y_test)) * 100\n",
        "\n",
        "print('Mean absolute percentage error score of the best estimator on the test set:', mape)\n",
        "\n",
        "# Calculate training error\n",
        "y_train_pred = best_model.predict(X_train)\n",
        "best_training_error = np.sqrt(mean_squared_error(y_train, y_train_pred))\n",
        "print('Training RMSE of the best model:', best_training_error)\n",
        "\n",
        "# Calculate CV error\n",
        "best_cv_error = -New_search.best_score_\n",
        "print('Best CV error:', best_cv_error)\n"
      ],
      "metadata": {
        "colab": {
          "base_uri": "https://localhost:8080/"
        },
        "id": "zTIAHMYT8MOL",
        "outputId": "3b517c2e-378e-4429-b168-73f83fc0995c"
      },
      "execution_count": null,
      "outputs": [
        {
          "output_type": "stream",
          "name": "stdout",
          "text": [
            "RMSE score of the best estimator on the test set: 113.76467818124635\n",
            "Mean absolute percentage error score of the best estimator on the test set: 5.178174575360201\n",
            "Training RMSE of the best model: 118.96618032904139\n",
            "Best CV error: 387.5318995853154\n"
          ]
        }
      ]
    },
    {
      "cell_type": "markdown",
      "source": [
        "I built several models using scikitlearn’s randomizedCV model which I fed different sets of hyperparameters for Catboost. Note that, I have chosen catboost for its sound method of dealing with categorical features since the dataset includes 8 different categorical features. After having a decent enough non-overfitted model, I performed two analysis to understand how the model reveals the relationship between variables.\n",
        "a) shap summary plot\n",
        "b) sensitivity analysis based on the results of shap summary plot\n"
      ],
      "metadata": {
        "id": "Rs-uNXnHtxYq"
      }
    },
    {
      "cell_type": "code",
      "source": [
        "bestmodel=New_search.best_estimator_\n",
        "shap_values = shap.TreeExplainer(best_model).shap_values(Pool(features,target, cat_features=[ 2, 6, 7, 8, 9, 10,11,12]))\n",
        "shap.summary_plot(shap_values, features)\n",
        "\n",
        "\n"
      ],
      "metadata": {
        "colab": {
          "base_uri": "https://localhost:8080/",
          "height": 735
        },
        "id": "uhXOkcUmcka6",
        "outputId": "cea38b20-a137-4200-c856-2a972ae38442"
      },
      "execution_count": null,
      "outputs": [
        {
          "output_type": "stream",
          "name": "stderr",
          "text": [
            "No data for colormapping provided via 'c'. Parameters 'vmin', 'vmax' will be ignored\n"
          ]
        },
        {
          "output_type": "display_data",
          "data": {
            "text/plain": [
              "<Figure size 800x710 with 2 Axes>"
            ],
            "image/png": "[encoded data removed]"
          },
          "metadata": {}
        }
      ]
    },
    {
      "cell_type": "markdown",
      "source": [
        "\n",
        "Shap is a method that presents how much each variable contributed to the target and it creates a plot to show the contribution of the variables. .When we look at the graph above, we realize that CLAIM CLAIM FREQ and COVER are important features for the model with CLAIM being the most important. One interesting observation is that premium emerged as an important feature that positively contributes to the profit. Another unexpected observation is that COVER’s effect is ambiguous despite the fact that Pearson correlation analysis showed a strong negative correlation for COVER.\n"
      ],
      "metadata": {
        "id": "6c37SROUuBpe"
      }
    },
    {
      "cell_type": "code",
      "source": [
        "best_model=New_search.best_estimator_"
      ],
      "metadata": {
        "id": "oo_NcIWlDH8Z"
      },
      "execution_count": null,
      "outputs": []
    },
    {
      "cell_type": "code",
      "source": [
        "best_model.save_model('/content/drive/My Drive/model2.cbm')"
      ],
      "metadata": {
        "id": "ERggN9fHgTnT"
      },
      "execution_count": null,
      "outputs": []
    },
    {
      "cell_type": "code",
      "source": [
        "\n",
        "loaded_model = cb.CatBoost().load_model('/content/drive/My Drive/model.cbm')"
      ],
      "metadata": {
        "id": "XLFUn7rwczon"
      },
      "execution_count": null,
      "outputs": []
    },
    {
      "cell_type": "markdown",
      "source": [
        "Here, I use my catboost model to perform Sensitivity Analysis. This will help me to understand how much changes in different important features such as CLAIM, Claim Freaquency and Cover cause a decline or an increase in the profits."
      ],
      "metadata": {
        "id": "8Rq1VN9kuPHD"
      }
    },
    {
      "cell_type": "code",
      "source": [
        "ypred=loaded_model.predict(features)"
      ],
      "metadata": {
        "id": "K7vnrxdDc3sR"
      },
      "execution_count": null,
      "outputs": []
    },
    {
      "cell_type": "code",
      "source": [
        "pred_df=features.copy()\n",
        "pred_df['PROFIT']=ypred"
      ],
      "metadata": {
        "id": "r6LECCQkFDfE"
      },
      "execution_count": null,
      "outputs": []
    },
    {
      "cell_type": "code",
      "source": [
        "annual_AVG_Cover=pred_df.groupby(['YEAR'])['COVER'].mean()\n",
        "annual_AVG_CLAIM=pred_df.groupby(['YEAR'])['CLAIM'].mean()\n",
        "annual_AVG_PROFIT=pred_df.groupby(['YEAR'])['PROFIT'].mean()\n",
        "print(annual_AVG_Cover)\n",
        "\n",
        "\n",
        "print(annual_AVG_CLAIM)\n",
        "\n",
        "print(annual_AVG_PROFIT)"
      ],
      "metadata": {
        "colab": {
          "base_uri": "https://localhost:8080/"
        },
        "id": "6hz91Yu9YbNn",
        "outputId": "37532d0b-de5e-4ebb-a535-e996dbaa44f9"
      },
      "execution_count": null,
      "outputs": [
        {
          "output_type": "stream",
          "name": "stdout",
          "text": [
            "YEAR\n",
            "2019    13520.241935\n",
            "2020    13449.419795\n",
            "2021    13309.261006\n",
            "2022    17128.401709\n",
            "Name: COVER, dtype: float64\n",
            "YEAR\n",
            "2019    2179.522581\n",
            "2020    2394.148464\n",
            "2021    1964.100629\n",
            "2022    3090.194872\n",
            "Name: CLAIM, dtype: float64\n",
            "YEAR\n",
            "2019    218.534915\n",
            "2020      3.881163\n",
            "2021    438.147668\n",
            "2022   -645.151413\n",
            "Name: PROFIT, dtype: float64\n"
          ]
        }
      ]
    },
    {
      "cell_type": "code",
      "source": [
        "new_features=features.copy()\n",
        "new_features['CLAIM_FREQ']=features['CLAIM_FREQ']*0.5\n",
        "ypred_new=New_search.predict(new_features)\n",
        "df_new=new_features.copy()\n",
        "df_new['PROFIT']=ypred_new\n"
      ],
      "metadata": {
        "id": "DcQs5S_zZPy6"
      },
      "execution_count": null,
      "outputs": []
    },
    {
      "cell_type": "code",
      "source": [
        "annual_AVG_Cover=df_new.groupby(['YEAR'])['COVER'].mean()\n",
        "annual_AVG_CLAIM=df_new.groupby(['YEAR'])['CLAIM'].mean()\n",
        "annual_AVG_PROFIT=df_new.groupby(['YEAR'])['PROFIT'].mean()\n",
        "#annual_claim_freq=pred_df.groupby(['YEAR'])['CLAIM_FREQ'].mean()\n",
        "print(annual_AVG_Cover)\n",
        "\n",
        "\n",
        "print(annual_AVG_CLAIM)\n",
        "\n",
        "print(annual_AVG_PROFIT)"
      ],
      "metadata": {
        "colab": {
          "base_uri": "https://localhost:8080/"
        },
        "id": "-LuEAWZ0Z8qM",
        "outputId": "10d887bb-5efb-4cca-a3d5-11cdf833dba0"
      },
      "execution_count": null,
      "outputs": [
        {
          "output_type": "stream",
          "name": "stdout",
          "text": [
            "YEAR\n",
            "2019    13520.241935\n",
            "2020    13449.419795\n",
            "2021    13309.261006\n",
            "2022    17128.401709\n",
            "Name: COVER, dtype: float64\n",
            "YEAR\n",
            "2019    2179.522581\n",
            "2020    2394.148464\n",
            "2021    1964.100629\n",
            "2022    3090.194872\n",
            "Name: CLAIM, dtype: float64\n",
            "YEAR\n",
            "2019    681.452485\n",
            "2020    583.006349\n",
            "2021    890.196930\n",
            "2022     14.671988\n",
            "Name: PROFIT, dtype: float64\n"
          ]
        }
      ]
    },
    {
      "cell_type": "code",
      "source": [
        "new_features=features.copy()\n",
        "new_features['CLAIM']=features['CLAIM']*0.5\n",
        "ypred_new=loaded_model.predict(new_features)\n",
        "df_new=new_features.copy()\n",
        "df_new['PROFIT']=ypred_new\n"
      ],
      "metadata": {
        "id": "rBj-x4i_Z_T4"
      },
      "execution_count": null,
      "outputs": []
    },
    {
      "cell_type": "code",
      "source": [
        "annual_AVG_Cover=df_new.groupby(['YEAR'])['COVER'].mean()\n",
        "annual_AVG_CLAIM=df_new.groupby(['YEAR'])['CLAIM'].mean()\n",
        "annual_AVG_PROFIT=df_new.groupby(['YEAR'])['PROFIT'].mean()\n",
        "#annual_claim_freq=pred_df.groupby(['YEAR'])['CLAIM_FREQ'].mean()\n",
        "print(annual_AVG_Cover)\n",
        "\n",
        "\n",
        "print(annual_AVG_CLAIM)\n",
        "\n",
        "print(annual_AVG_PROFIT)"
      ],
      "metadata": {
        "colab": {
          "base_uri": "https://localhost:8080/"
        },
        "id": "9YOXfQYiclza",
        "outputId": "24debbb3-8552-4504-febd-ef931fbd168d"
      },
      "execution_count": null,
      "outputs": [
        {
          "output_type": "stream",
          "name": "stdout",
          "text": [
            "YEAR\n",
            "2019    13520.241935\n",
            "2020    13449.419795\n",
            "2021    13309.261006\n",
            "2022    17128.401709\n",
            "Name: COVER, dtype: float64\n",
            "YEAR\n",
            "2019    1089.761290\n",
            "2020    1197.074232\n",
            "2021     982.050314\n",
            "2022    1545.097436\n",
            "Name: CLAIM, dtype: float64\n",
            "YEAR\n",
            "2019    1272.335034\n",
            "2020    1149.638284\n",
            "2021    1368.501804\n",
            "2022    1095.301203\n",
            "Name: PROFIT, dtype: float64\n"
          ]
        }
      ]
    },
    {
      "cell_type": "markdown",
      "source": [
        "after several rounds of trials with different levels of COVER, PREMIUM and CLAIM, I found out that\n",
        "\n",
        "\n",
        "**Premium**: 10 % increase for premium causes 30% increase in the profit\n",
        "\n",
        " **claim**: 10 % increase for claim causes 47 % decrease in the profit\n",
        "\n",
        "**claim** **frequency**: while a 10% reduction doesn't change PROFIT much, 50% reduction caused a 102% increase for the profit.\n"
      ],
      "metadata": {
        "id": "QuPgsEWHwOsn"
      }
    },
    {
      "cell_type": "markdown",
      "source": [
        "At the end of the sensitivity analysis, the feature with the highest effect on profit is the claim feature as 10% increases causes the highest decrease in profit. Increasing premium also substantially increases profit. while a %10 reduction in claim frequency doesn't chang profit at all, 50%reduction caused a 102% increase for the profit.\n",
        "\n",
        "I offer two solutions to the profit problem. The first one is rewarding customers with low claims with lower premiums. the premium distribution for 2022 did not reflect this proposition so 2023 premiums should be arranged according to the past claims. Second proposol is again increasing premiums by %10 especially for customers with high past claims. Again 2022 average premiums were similar to the previous years regardless of past claims. Rearranging premiums based on claims would boost the premiums."
      ],
      "metadata": {
        "id": "TxWmJrZDw2k8"
      }
    }
  ]
}