{
  "nbformat": 4,
  "nbformat_minor": 0,
  "metadata": {
    "colab": {
      "provenance": [],
      "machine_shape": "hm",
      "authorship_tag": "ABX9TyPZHZDpdcKEVV3SkqA2JdZG",
      "include_colab_link": true
    },
    "kernelspec": {
      "name": "python3",
      "display_name": "Python 3"
    },
    "language_info": {
      "name": "python"
    }
  },
  "cells": [
    {
      "cell_type": "markdown",
      "metadata": {
        "id": "view-in-github",
        "colab_type": "text"
      },
      "source": [
        "<a href=\"https://colab.research.google.com/github/mdeniz1/datascienceprojects/blob/main/attribute_modelling_on_google_analytics_4_data.ipynb\" target=\"_parent\"><img src=\"https://colab.research.google.com/assets/colab-badge.svg\" alt=\"Open In Colab\"/></a>"
      ]
    },
    {
      "cell_type": "markdown",
      "source": [
        "In this notebook I trained catboost model architecture with google analytics 4 data for predictive analysis of customer online advertisement engagemet.\n",
        "\n",
        "I used publicly available ga4 data which is accessiblee through BigQuery. I first retrieved all the 60 tables using a wild card table. I then stored the table in my personal bigquery database and accessed it in this colab notebook.\n",
        "\n",
        "after data cleaning and"
      ],
      "metadata": {
        "id": "FlpQ4KgtuxZw"
      }
    },
    {
      "cell_type": "code",
      "source": [
        "!pip install shap\n"
      ],
      "metadata": {
        "id": "fubAVDtdnoJ4"
      },
      "execution_count": null,
      "outputs": []
    },
    {
      "cell_type": "code",
      "source": [
        "!pip install catboost"
      ],
      "metadata": {
        "id": "TFpqHkXkGFYU"
      },
      "execution_count": null,
      "outputs": []
    },
    {
      "cell_type": "code",
      "execution_count": 69,
      "metadata": {
        "id": "_bQs67XIU9C2"
      },
      "outputs": [],
      "source": [
        "import pandas as pd\n",
        "pd.set_option('display.max_rows', None)\n",
        "pd.set_option('display.max_columns', None)\n",
        "from sklearn.model_selection import train_test_split\n",
        "from sklearn.model_selection import StratifiedKFold, RandomizedSearchCV\n",
        "#from catboost import CatBoostClassifier\n",
        "from sklearn.metrics import f1_score\n",
        "from sklearn.metrics import recall_score\n",
        "import joblib\n",
        "#import shap\n",
        "import matplotlib.pyplot as plt"
      ]
    },
    {
      "cell_type": "code",
      "source": [
        "from google.colab import auth\n",
        "auth.authenticate_user()\n",
        "print('Authenticated')"
      ],
      "metadata": {
        "colab": {
          "base_uri": "https://localhost:8080/"
        },
        "id": "qyQX6_5nVa9m",
        "outputId": "42f05e8d-6e13-41b7-c1da-67a48270b320"
      },
      "execution_count": null,
      "outputs": [
        {
          "output_type": "stream",
          "name": "stdout",
          "text": [
            "Authenticated\n"
          ]
        }
      ]
    },
    {
      "cell_type": "code",
      "source": [
        "from google.cloud import bigquery\n",
        "\n",
        "client = bigquery.Client(project='eng-wharf-410711')\n",
        "\n",
        "\n",
        "df = client.query('''\n",
        "  SELECT\n",
        "  *\n",
        "FROM `eng-wharf-410711.ga4.ga4_table`\n",
        "limit 1500000\n",
        "''').to_dataframe()\n"
      ],
      "metadata": {
        "id": "1-8jI3NaWZZn"
      },
      "execution_count": null,
      "outputs": []
    },
    {
      "cell_type": "code",
      "source": [
        "from google.colab import drive\n",
        "drive.mount('/content/drive/')"
      ],
      "metadata": {
        "colab": {
          "base_uri": "https://localhost:8080/"
        },
        "id": "TxawrwI2OmiZ",
        "outputId": "6692ef68-25e1-439a-949a-648380664bf9"
      },
      "execution_count": 2,
      "outputs": [
        {
          "output_type": "stream",
          "name": "stdout",
          "text": [
            "Mounted at /content/drive/\n"
          ]
        }
      ]
    },
    {
      "cell_type": "code",
      "source": [
        "path = '/content/drive/My Drive/df_ga4_2.pkl'\n",
        "df1=pd.read_pickle(path)"
      ],
      "metadata": {
        "id": "QbtCc0XOznyz"
      },
      "execution_count": 3,
      "outputs": []
    },
    {
      "cell_type": "code",
      "source": [
        "#path = '/content/drive/My Drive/df_ga4_2.pkl'\n",
        "#df.to_pickle(path)\n"
      ],
      "metadata": {
        "id": "Xdgea9-8OZPq"
      },
      "execution_count": null,
      "outputs": []
    },
    {
      "cell_type": "markdown",
      "source": [],
      "metadata": {
        "id": "aecsF-l9xssy"
      }
    },
    {
      "cell_type": "code",
      "source": [
        "df=df1.copy()"
      ],
      "metadata": {
        "id": "QCjNMPdT_Xmx"
      },
      "execution_count": 10,
      "outputs": []
    },
    {
      "cell_type": "code",
      "source": [
        "df['event_bundle_sequence_id'].nunique()"
      ],
      "metadata": {
        "colab": {
          "base_uri": "https://localhost:8080/"
        },
        "id": "8Baq9ArsjYw3",
        "outputId": "d52ae6f1-2837-47bd-c4cf-a9a692f6a0f2"
      },
      "execution_count": 6,
      "outputs": [
        {
          "output_type": "execute_result",
          "data": {
            "text/plain": [
              "1302127"
            ]
          },
          "metadata": {},
          "execution_count": 6
        }
      ]
    },
    {
      "cell_type": "code",
      "source": [],
      "metadata": {
        "id": "EBOSFhIJCOKQ"
      },
      "execution_count": null,
      "outputs": []
    },
    {
      "cell_type": "code",
      "source": [
        "df.info()"
      ],
      "metadata": {
        "colab": {
          "base_uri": "https://localhost:8080/"
        },
        "id": "-_id11mFVWWR",
        "outputId": "c801600b-6667-49cf-bae7-8ce343a5d59f"
      },
      "execution_count": null,
      "outputs": [
        {
          "output_type": "stream",
          "name": "stdout",
          "text": [
            "<class 'pandas.core.frame.DataFrame'>\n",
            "RangeIndex: 1500000 entries, 0 to 1499999\n",
            "Data columns (total 23 columns):\n",
            " #   Column                         Non-Null Count    Dtype  \n",
            "---  ------                         --------------    -----  \n",
            " 0   event_date                     1500000 non-null  object \n",
            " 1   event_timestamp                1500000 non-null  Int64  \n",
            " 2   event_name                     1500000 non-null  object \n",
            " 3   event_params                   1500000 non-null  object \n",
            " 4   event_previous_timestamp       0 non-null        Int64  \n",
            " 5   event_value_in_usd             1833 non-null     float64\n",
            " 6   event_bundle_sequence_id       1500000 non-null  Int64  \n",
            " 7   event_server_timestamp_offset  0 non-null        Int64  \n",
            " 8   user_id                        0 non-null        object \n",
            " 9   user_pseudo_id                 1500000 non-null  object \n",
            " 10  privacy_info                   1500000 non-null  object \n",
            " 11  user_properties                1500000 non-null  object \n",
            " 12  user_first_touch_timestamp     1469959 non-null  Int64  \n",
            " 13  user_ltv                       1500000 non-null  object \n",
            " 14  device                         1500000 non-null  object \n",
            " 15  geo                            1500000 non-null  object \n",
            " 16  app_info                       0 non-null        object \n",
            " 17  traffic_source                 1500000 non-null  object \n",
            " 18  stream_id                      1500000 non-null  Int64  \n",
            " 19  platform                       1500000 non-null  object \n",
            " 20  event_dimensions               0 non-null        object \n",
            " 21  ecommerce                      1500000 non-null  object \n",
            " 22  items                          1500000 non-null  object \n",
            "dtypes: Int64(6), float64(1), object(16)\n",
            "memory usage: 271.8+ MB\n"
          ]
        }
      ]
    },
    {
      "cell_type": "code",
      "source": [
        "df.head()"
      ],
      "metadata": {
        "colab": {
          "base_uri": "https://localhost:8080/",
          "height": 487
        },
        "id": "AlxjLIRDAyby",
        "outputId": "3d25cd64-7ec0-4497-cf38-38bfd5634e5b"
      },
      "execution_count": 5,
      "outputs": [
        {
          "output_type": "execute_result",
          "data": {
            "text/plain": [
              "  event_date   event_timestamp       event_name  \\\n",
              "0   20201110  1604971820344522   begin_checkout   \n",
              "1   20210120  1611105762299838        page_view   \n",
              "2   20210119  1611048922509453        view_item   \n",
              "3   20201212  1607757908307933  user_engagement   \n",
              "4   20210125  1611551863121673        page_view   \n",
              "\n",
              "                                        event_params  \\\n",
              "0  [{'key': 'clean_event', 'value': {'string_valu...   \n",
              "1  [{'key': 'page_location', 'value': {'string_va...   \n",
              "2  [{'key': 'page_title', 'value': {'string_value...   \n",
              "3  [{'key': 'debug_mode', 'value': {'string_value...   \n",
              "4  [{'key': 'page_referrer', 'value': {'string_va...   \n",
              "\n",
              "   event_previous_timestamp  event_value_in_usd  event_bundle_sequence_id  \\\n",
              "0                      <NA>                 NaN                1752648042   \n",
              "1                      <NA>                 NaN                3046368137   \n",
              "2                      <NA>                 NaN               -3130684596   \n",
              "3                      <NA>                 NaN                1763954426   \n",
              "4                      <NA>                 NaN                3622512011   \n",
              "\n",
              "   event_server_timestamp_offset user_id       user_pseudo_id  \\\n",
              "0                           <NA>    None  21732519.8875634255   \n",
              "1                           <NA>    None   8079006.6650182195   \n",
              "2                           <NA>    None  24467430.7181196119   \n",
              "3                           <NA>    None   8135710.8287882373   \n",
              "4                           <NA>    None   4258423.8896454000   \n",
              "\n",
              "                                        privacy_info user_properties  \\\n",
              "0  {'analytics_storage': None, 'ads_storage': Non...              []   \n",
              "1  {'analytics_storage': None, 'ads_storage': Non...              []   \n",
              "2  {'analytics_storage': None, 'ads_storage': Non...              []   \n",
              "3  {'analytics_storage': None, 'ads_storage': Non...              []   \n",
              "4  {'analytics_storage': None, 'ads_storage': Non...              []   \n",
              "\n",
              "   user_first_touch_timestamp                             user_ltv  \\\n",
              "0            1604969882342411  {'revenue': 0.0, 'currency': 'USD'}   \n",
              "1            1610778647214866  {'revenue': 0.0, 'currency': 'USD'}   \n",
              "2            1611048875682334  {'revenue': 0.0, 'currency': 'USD'}   \n",
              "3            1607757872095164  {'revenue': 0.0, 'currency': 'USD'}   \n",
              "4            1611551858110729  {'revenue': 0.0, 'currency': 'USD'}   \n",
              "\n",
              "                                              device  \\\n",
              "0  {'category': 'desktop', 'mobile_brand_name': '...   \n",
              "1  {'category': 'mobile', 'mobile_brand_name': 'S...   \n",
              "2  {'category': 'desktop', 'mobile_brand_name': '...   \n",
              "3  {'category': 'mobile', 'mobile_brand_name': 'A...   \n",
              "4  {'category': 'mobile', 'mobile_brand_name': 'X...   \n",
              "\n",
              "                                                 geo app_info  \\\n",
              "0  {'continent': 'Africa', 'sub_continent': 'Nort...     None   \n",
              "1  {'continent': 'Americas', 'sub_continent': 'No...     None   \n",
              "2  {'continent': 'Americas', 'sub_continent': 'No...     None   \n",
              "3  {'continent': 'Americas', 'sub_continent': 'No...     None   \n",
              "4  {'continent': 'Americas', 'sub_continent': 'No...     None   \n",
              "\n",
              "                                      traffic_source   stream_id platform  \\\n",
              "0  {'medium': 'referral', 'name': '(referral)', '...  2100450278      WEB   \n",
              "1  {'medium': '(none)', 'name': '(direct)', 'sour...  2100450278      WEB   \n",
              "2  {'medium': '<Other>', 'name': '<Other>', 'sour...  2100450278      WEB   \n",
              "3  {'medium': '(none)', 'name': '(direct)', 'sour...  2100450278      WEB   \n",
              "4  {'medium': 'organic', 'name': '(organic)', 'so...  2100450278      WEB   \n",
              "\n",
              "  event_dimensions                                          ecommerce  \\\n",
              "0             None  {'total_item_quantity': None, 'purchase_revenu...   \n",
              "1             None  {'total_item_quantity': None, 'purchase_revenu...   \n",
              "2             None  {'total_item_quantity': None, 'purchase_revenu...   \n",
              "3             None  {'total_item_quantity': None, 'purchase_revenu...   \n",
              "4             None  {'total_item_quantity': None, 'purchase_revenu...   \n",
              "\n",
              "                                               items  \n",
              "0                                                 []  \n",
              "1                                                 []  \n",
              "2  [{'item_id': 'GGOEGOCJ093999', 'item_name': 'G...  \n",
              "3                                                 []  \n",
              "4                                                 []  "
            ],
            "text/html": [
              "\n",
              "  <div id=\"df-38f222e6-3279-491d-8ad4-680578be64da\" class=\"colab-df-container\">\n",
              "    <div>\n",
              "<style scoped>\n",
              "    .dataframe tbody tr th:only-of-type {\n",
              "        vertical-align: middle;\n",
              "    }\n",
              "\n",
              "    .dataframe tbody tr th {\n",
              "        vertical-align: top;\n",
              "    }\n",
              "\n",
              "    .dataframe thead th {\n",
              "        text-align: right;\n",
              "    }\n",
              "</style>\n",
              "<table border=\"1\" class=\"dataframe\">\n",
              "  <thead>\n",
              "    <tr style=\"text-align: right;\">\n",
              "      <th></th>\n",
              "      <th>event_date</th>\n",
              "      <th>event_timestamp</th>\n",
              "      <th>event_name</th>\n",
              "      <th>event_params</th>\n",
              "      <th>event_previous_timestamp</th>\n",
              "      <th>event_value_in_usd</th>\n",
              "      <th>event_bundle_sequence_id</th>\n",
              "      <th>event_server_timestamp_offset</th>\n",
              "      <th>user_id</th>\n",
              "      <th>user_pseudo_id</th>\n",
              "      <th>privacy_info</th>\n",
              "      <th>user_properties</th>\n",
              "      <th>user_first_touch_timestamp</th>\n",
              "      <th>user_ltv</th>\n",
              "      <th>device</th>\n",
              "      <th>geo</th>\n",
              "      <th>app_info</th>\n",
              "      <th>traffic_source</th>\n",
              "      <th>stream_id</th>\n",
              "      <th>platform</th>\n",
              "      <th>event_dimensions</th>\n",
              "      <th>ecommerce</th>\n",
              "      <th>items</th>\n",
              "    </tr>\n",
              "  </thead>\n",
              "  <tbody>\n",
              "    <tr>\n",
              "      <th>0</th>\n",
              "      <td>20201110</td>\n",
              "      <td>1604971820344522</td>\n",
              "      <td>begin_checkout</td>\n",
              "      <td>[{'key': 'clean_event', 'value': {'string_valu...</td>\n",
              "      <td>&lt;NA&gt;</td>\n",
              "      <td>NaN</td>\n",
              "      <td>1752648042</td>\n",
              "      <td>&lt;NA&gt;</td>\n",
              "      <td>None</td>\n",
              "      <td>21732519.8875634255</td>\n",
              "      <td>{'analytics_storage': None, 'ads_storage': Non...</td>\n",
              "      <td>[]</td>\n",
              "      <td>1604969882342411</td>\n",
              "      <td>{'revenue': 0.0, 'currency': 'USD'}</td>\n",
              "      <td>{'category': 'desktop', 'mobile_brand_name': '...</td>\n",
              "      <td>{'continent': 'Africa', 'sub_continent': 'Nort...</td>\n",
              "      <td>None</td>\n",
              "      <td>{'medium': 'referral', 'name': '(referral)', '...</td>\n",
              "      <td>2100450278</td>\n",
              "      <td>WEB</td>\n",
              "      <td>None</td>\n",
              "      <td>{'total_item_quantity': None, 'purchase_revenu...</td>\n",
              "      <td>[]</td>\n",
              "    </tr>\n",
              "    <tr>\n",
              "      <th>1</th>\n",
              "      <td>20210120</td>\n",
              "      <td>1611105762299838</td>\n",
              "      <td>page_view</td>\n",
              "      <td>[{'key': 'page_location', 'value': {'string_va...</td>\n",
              "      <td>&lt;NA&gt;</td>\n",
              "      <td>NaN</td>\n",
              "      <td>3046368137</td>\n",
              "      <td>&lt;NA&gt;</td>\n",
              "      <td>None</td>\n",
              "      <td>8079006.6650182195</td>\n",
              "      <td>{'analytics_storage': None, 'ads_storage': Non...</td>\n",
              "      <td>[]</td>\n",
              "      <td>1610778647214866</td>\n",
              "      <td>{'revenue': 0.0, 'currency': 'USD'}</td>\n",
              "      <td>{'category': 'mobile', 'mobile_brand_name': 'S...</td>\n",
              "      <td>{'continent': 'Americas', 'sub_continent': 'No...</td>\n",
              "      <td>None</td>\n",
              "      <td>{'medium': '(none)', 'name': '(direct)', 'sour...</td>\n",
              "      <td>2100450278</td>\n",
              "      <td>WEB</td>\n",
              "      <td>None</td>\n",
              "      <td>{'total_item_quantity': None, 'purchase_revenu...</td>\n",
              "      <td>[]</td>\n",
              "    </tr>\n",
              "    <tr>\n",
              "      <th>2</th>\n",
              "      <td>20210119</td>\n",
              "      <td>1611048922509453</td>\n",
              "      <td>view_item</td>\n",
              "      <td>[{'key': 'page_title', 'value': {'string_value...</td>\n",
              "      <td>&lt;NA&gt;</td>\n",
              "      <td>NaN</td>\n",
              "      <td>-3130684596</td>\n",
              "      <td>&lt;NA&gt;</td>\n",
              "      <td>None</td>\n",
              "      <td>24467430.7181196119</td>\n",
              "      <td>{'analytics_storage': None, 'ads_storage': Non...</td>\n",
              "      <td>[]</td>\n",
              "      <td>1611048875682334</td>\n",
              "      <td>{'revenue': 0.0, 'currency': 'USD'}</td>\n",
              "      <td>{'category': 'desktop', 'mobile_brand_name': '...</td>\n",
              "      <td>{'continent': 'Americas', 'sub_continent': 'No...</td>\n",
              "      <td>None</td>\n",
              "      <td>{'medium': '&lt;Other&gt;', 'name': '&lt;Other&gt;', 'sour...</td>\n",
              "      <td>2100450278</td>\n",
              "      <td>WEB</td>\n",
              "      <td>None</td>\n",
              "      <td>{'total_item_quantity': None, 'purchase_revenu...</td>\n",
              "      <td>[{'item_id': 'GGOEGOCJ093999', 'item_name': 'G...</td>\n",
              "    </tr>\n",
              "    <tr>\n",
              "      <th>3</th>\n",
              "      <td>20201212</td>\n",
              "      <td>1607757908307933</td>\n",
              "      <td>user_engagement</td>\n",
              "      <td>[{'key': 'debug_mode', 'value': {'string_value...</td>\n",
              "      <td>&lt;NA&gt;</td>\n",
              "      <td>NaN</td>\n",
              "      <td>1763954426</td>\n",
              "      <td>&lt;NA&gt;</td>\n",
              "      <td>None</td>\n",
              "      <td>8135710.8287882373</td>\n",
              "      <td>{'analytics_storage': None, 'ads_storage': Non...</td>\n",
              "      <td>[]</td>\n",
              "      <td>1607757872095164</td>\n",
              "      <td>{'revenue': 0.0, 'currency': 'USD'}</td>\n",
              "      <td>{'category': 'mobile', 'mobile_brand_name': 'A...</td>\n",
              "      <td>{'continent': 'Americas', 'sub_continent': 'No...</td>\n",
              "      <td>None</td>\n",
              "      <td>{'medium': '(none)', 'name': '(direct)', 'sour...</td>\n",
              "      <td>2100450278</td>\n",
              "      <td>WEB</td>\n",
              "      <td>None</td>\n",
              "      <td>{'total_item_quantity': None, 'purchase_revenu...</td>\n",
              "      <td>[]</td>\n",
              "    </tr>\n",
              "    <tr>\n",
              "      <th>4</th>\n",
              "      <td>20210125</td>\n",
              "      <td>1611551863121673</td>\n",
              "      <td>page_view</td>\n",
              "      <td>[{'key': 'page_referrer', 'value': {'string_va...</td>\n",
              "      <td>&lt;NA&gt;</td>\n",
              "      <td>NaN</td>\n",
              "      <td>3622512011</td>\n",
              "      <td>&lt;NA&gt;</td>\n",
              "      <td>None</td>\n",
              "      <td>4258423.8896454000</td>\n",
              "      <td>{'analytics_storage': None, 'ads_storage': Non...</td>\n",
              "      <td>[]</td>\n",
              "      <td>1611551858110729</td>\n",
              "      <td>{'revenue': 0.0, 'currency': 'USD'}</td>\n",
              "      <td>{'category': 'mobile', 'mobile_brand_name': 'X...</td>\n",
              "      <td>{'continent': 'Americas', 'sub_continent': 'No...</td>\n",
              "      <td>None</td>\n",
              "      <td>{'medium': 'organic', 'name': '(organic)', 'so...</td>\n",
              "      <td>2100450278</td>\n",
              "      <td>WEB</td>\n",
              "      <td>None</td>\n",
              "      <td>{'total_item_quantity': None, 'purchase_revenu...</td>\n",
              "      <td>[]</td>\n",
              "    </tr>\n",
              "  </tbody>\n",
              "</table>\n",
              "</div>\n",
              "    <div class=\"colab-df-buttons\">\n",
              "\n",
              "  <div class=\"colab-df-container\">\n",
              "    <button class=\"colab-df-convert\" onclick=\"convertToInteractive('df-38f222e6-3279-491d-8ad4-680578be64da')\"\n",
              "            title=\"Convert this dataframe to an interactive table.\"\n",
              "            style=\"display:none;\">\n",
              "\n",
              "  <svg xmlns=\"http://www.w3.org/2000/svg\" height=\"24px\" viewBox=\"0 -960 960 960\">\n",
              "    <path d=\"M120-120v-720h720v720H120Zm60-500h600v-160H180v160Zm220 220h160v-160H400v160Zm0 220h160v-160H400v160ZM180-400h160v-160H180v160Zm440 0h160v-160H620v160ZM180-180h160v-160H180v160Zm440 0h160v-160H620v160Z\"/>\n",
              "  </svg>\n",
              "    </button>\n",
              "\n",
              "  <style>\n",
              "    .colab-df-container {\n",
              "      display:flex;\n",
              "      gap: 12px;\n",
              "    }\n",
              "\n",
              "    .colab-df-convert {\n",
              "      background-color: #E8F0FE;\n",
              "      border: none;\n",
              "      border-radius: 50%;\n",
              "      cursor: pointer;\n",
              "      display: none;\n",
              "      fill: #1967D2;\n",
              "      height: 32px;\n",
              "      padding: 0 0 0 0;\n",
              "      width: 32px;\n",
              "    }\n",
              "\n",
              "    .colab-df-convert:hover {\n",
              "      background-color: #E2EBFA;\n",
              "      box-shadow: 0px 1px 2px rgba(60, 64, 67, 0.3), 0px 1px 3px 1px rgba(60, 64, 67, 0.15);\n",
              "      fill: #174EA6;\n",
              "    }\n",
              "\n",
              "    .colab-df-buttons div {\n",
              "      margin-bottom: 4px;\n",
              "    }\n",
              "\n",
              "    [theme=dark] .colab-df-convert {\n",
              "      background-color: #3B4455;\n",
              "      fill: #D2E3FC;\n",
              "    }\n",
              "\n",
              "    [theme=dark] .colab-df-convert:hover {\n",
              "      background-color: #434B5C;\n",
              "      box-shadow: 0px 1px 3px 1px rgba(0, 0, 0, 0.15);\n",
              "      filter: drop-shadow(0px 1px 2px rgba(0, 0, 0, 0.3));\n",
              "      fill: #FFFFFF;\n",
              "    }\n",
              "  </style>\n",
              "\n",
              "    <script>\n",
              "      const buttonEl =\n",
              "        document.querySelector('#df-38f222e6-3279-491d-8ad4-680578be64da button.colab-df-convert');\n",
              "      buttonEl.style.display =\n",
              "        google.colab.kernel.accessAllowed ? 'block' : 'none';\n",
              "\n",
              "      async function convertToInteractive(key) {\n",
              "        const element = document.querySelector('#df-38f222e6-3279-491d-8ad4-680578be64da');\n",
              "        const dataTable =\n",
              "          await google.colab.kernel.invokeFunction('convertToInteractive',\n",
              "                                                    [key], {});\n",
              "        if (!dataTable) return;\n",
              "\n",
              "        const docLinkHtml = 'Like what you see? Visit the ' +\n",
              "          '<a target=\"_blank\" href=https://colab.research.google.com/notebooks/data_table.ipynb>data table notebook</a>'\n",
              "          + ' to learn more about interactive tables.';\n",
              "        element.innerHTML = '';\n",
              "        dataTable['output_type'] = 'display_data';\n",
              "        await google.colab.output.renderOutput(dataTable, element);\n",
              "        const docLink = document.createElement('div');\n",
              "        docLink.innerHTML = docLinkHtml;\n",
              "        element.appendChild(docLink);\n",
              "      }\n",
              "    </script>\n",
              "  </div>\n",
              "\n",
              "\n",
              "<div id=\"df-47a8cbe8-bc31-4dce-9d0e-d4928a71afad\">\n",
              "  <button class=\"colab-df-quickchart\" onclick=\"quickchart('df-47a8cbe8-bc31-4dce-9d0e-d4928a71afad')\"\n",
              "            title=\"Suggest charts\"\n",
              "            style=\"display:none;\">\n",
              "\n",
              "<svg xmlns=\"http://www.w3.org/2000/svg\" height=\"24px\"viewBox=\"0 0 24 24\"\n",
              "     width=\"24px\">\n",
              "    <g>\n",
              "        <path d=\"M19 3H5c-1.1 0-2 .9-2 2v14c0 1.1.9 2 2 2h14c1.1 0 2-.9 2-2V5c0-1.1-.9-2-2-2zM9 17H7v-7h2v7zm4 0h-2V7h2v10zm4 0h-2v-4h2v4z\"/>\n",
              "    </g>\n",
              "</svg>\n",
              "  </button>\n",
              "\n",
              "<style>\n",
              "  .colab-df-quickchart {\n",
              "      --bg-color: #E8F0FE;\n",
              "      --fill-color: #1967D2;\n",
              "      --hover-bg-color: #E2EBFA;\n",
              "      --hover-fill-color: #174EA6;\n",
              "      --disabled-fill-color: #AAA;\n",
              "      --disabled-bg-color: #DDD;\n",
              "  }\n",
              "\n",
              "  [theme=dark] .colab-df-quickchart {\n",
              "      --bg-color: #3B4455;\n",
              "      --fill-color: #D2E3FC;\n",
              "      --hover-bg-color: #434B5C;\n",
              "      --hover-fill-color: #FFFFFF;\n",
              "      --disabled-bg-color: #3B4455;\n",
              "      --disabled-fill-color: #666;\n",
              "  }\n",
              "\n",
              "  .colab-df-quickchart {\n",
              "    background-color: var(--bg-color);\n",
              "    border: none;\n",
              "    border-radius: 50%;\n",
              "    cursor: pointer;\n",
              "    display: none;\n",
              "    fill: var(--fill-color);\n",
              "    height: 32px;\n",
              "    padding: 0;\n",
              "    width: 32px;\n",
              "  }\n",
              "\n",
              "  .colab-df-quickchart:hover {\n",
              "    background-color: var(--hover-bg-color);\n",
              "    box-shadow: 0 1px 2px rgba(60, 64, 67, 0.3), 0 1px 3px 1px rgba(60, 64, 67, 0.15);\n",
              "    fill: var(--button-hover-fill-color);\n",
              "  }\n",
              "\n",
              "  .colab-df-quickchart-complete:disabled,\n",
              "  .colab-df-quickchart-complete:disabled:hover {\n",
              "    background-color: var(--disabled-bg-color);\n",
              "    fill: var(--disabled-fill-color);\n",
              "    box-shadow: none;\n",
              "  }\n",
              "\n",
              "  .colab-df-spinner {\n",
              "    border: 2px solid var(--fill-color);\n",
              "    border-color: transparent;\n",
              "    border-bottom-color: var(--fill-color);\n",
              "    animation:\n",
              "      spin 1s steps(1) infinite;\n",
              "  }\n",
              "\n",
              "  @keyframes spin {\n",
              "    0% {\n",
              "      border-color: transparent;\n",
              "      border-bottom-color: var(--fill-color);\n",
              "      border-left-color: var(--fill-color);\n",
              "    }\n",
              "    20% {\n",
              "      border-color: transparent;\n",
              "      border-left-color: var(--fill-color);\n",
              "      border-top-color: var(--fill-color);\n",
              "    }\n",
              "    30% {\n",
              "      border-color: transparent;\n",
              "      border-left-color: var(--fill-color);\n",
              "      border-top-color: var(--fill-color);\n",
              "      border-right-color: var(--fill-color);\n",
              "    }\n",
              "    40% {\n",
              "      border-color: transparent;\n",
              "      border-right-color: var(--fill-color);\n",
              "      border-top-color: var(--fill-color);\n",
              "    }\n",
              "    60% {\n",
              "      border-color: transparent;\n",
              "      border-right-color: var(--fill-color);\n",
              "    }\n",
              "    80% {\n",
              "      border-color: transparent;\n",
              "      border-right-color: var(--fill-color);\n",
              "      border-bottom-color: var(--fill-color);\n",
              "    }\n",
              "    90% {\n",
              "      border-color: transparent;\n",
              "      border-bottom-color: var(--fill-color);\n",
              "    }\n",
              "  }\n",
              "</style>\n",
              "\n",
              "  <script>\n",
              "    async function quickchart(key) {\n",
              "      const quickchartButtonEl =\n",
              "        document.querySelector('#' + key + ' button');\n",
              "      quickchartButtonEl.disabled = true;  // To prevent multiple clicks.\n",
              "      quickchartButtonEl.classList.add('colab-df-spinner');\n",
              "      try {\n",
              "        const charts = await google.colab.kernel.invokeFunction(\n",
              "            'suggestCharts', [key], {});\n",
              "      } catch (error) {\n",
              "        console.error('Error during call to suggestCharts:', error);\n",
              "      }\n",
              "      quickchartButtonEl.classList.remove('colab-df-spinner');\n",
              "      quickchartButtonEl.classList.add('colab-df-quickchart-complete');\n",
              "    }\n",
              "    (() => {\n",
              "      let quickchartButtonEl =\n",
              "        document.querySelector('#df-47a8cbe8-bc31-4dce-9d0e-d4928a71afad button');\n",
              "      quickchartButtonEl.style.display =\n",
              "        google.colab.kernel.accessAllowed ? 'block' : 'none';\n",
              "    })();\n",
              "  </script>\n",
              "</div>\n",
              "\n",
              "    </div>\n",
              "  </div>\n"
            ]
          },
          "metadata": {},
          "execution_count": 5
        }
      ]
    },
    {
      "cell_type": "code",
      "source": [
        "df.drop(['app_info', 'event_dimensions', 'event_server_timestamp_offset', 'user_id', 'event_previous_timestamp',\n",
        "'event_timestamp', 'user_properties','user_first_touch_timestamp', 'stream_id',#'event_bundle_sequence_id'\n",
        "], axis=1, inplace=True)"
      ],
      "metadata": {
        "id": "3hVel0BtFPWo"
      },
      "execution_count": 6,
      "outputs": []
    },
    {
      "cell_type": "code",
      "source": [
        "df.head()"
      ],
      "metadata": {
        "id": "ul1tmR8c4xAP"
      },
      "execution_count": null,
      "outputs": []
    },
    {
      "cell_type": "code",
      "source": [
        "df['user_pseudo_id'].nunique()\n"
      ],
      "metadata": {
        "colab": {
          "base_uri": "https://localhost:8080/"
        },
        "id": "jVkRo5t1D1SR",
        "outputId": "ea0fd35f-adf1-4b1c-fcb6-e79d8d8af1c4"
      },
      "execution_count": 14,
      "outputs": [
        {
          "output_type": "execute_result",
          "data": {
            "text/plain": [
              "244395"
            ]
          },
          "metadata": {},
          "execution_count": 14
        }
      ]
    },
    {
      "cell_type": "markdown",
      "source": [
        "I group unique users with event dates to create unique sessions."
      ],
      "metadata": {
        "id": "Lxm5LftlPI-j"
      }
    },
    {
      "cell_type": "code",
      "source": [
        "df['event_date'] = pd.to_datetime(df['event_date'])\n",
        "\n",
        "# Sort the DataFrame by 'event_date' and 'user_pseudo_id'\n",
        "df = df.sort_values(['event_date', 'user_pseudo_id'])\n",
        "\n",
        "# Convert 'event_date' column to datetime\n",
        "\n",
        "# Group the DataFrame\n",
        "grouped = df.groupby(['event_date', 'user_pseudo_id'])\n",
        "\n",
        "# Filter out groups with less than 4 rows\n",
        "filtered_groups = grouped.filter(lambda x: len(x) >= 4)\n",
        "filtered_groups.reset_index(drop=True, inplace=True)"
      ],
      "metadata": {
        "id": "i-yV6IN-V2CA"
      },
      "execution_count": 7,
      "outputs": []
    },
    {
      "cell_type": "code",
      "source": [
        "# Create a new column 'n_engagements' and initialize it with 0\n",
        "filtered_groups['n_engagements'] = 0\n",
        "\n",
        "# Iterate over each group\n",
        "for name, group in filtered_groups.groupby(['event_date', 'user_pseudo_id']):\n",
        "    # Get the total number of members in the group\n",
        "    group_size = len(group)\n",
        "\n",
        "    # Iterate over each row in the group in reverse order\n",
        "    for i, row in enumerate(group[::-1].itertuples(), start=1):\n",
        "        # Calculate the value to be assigned to 'n_engagements'\n",
        "        value = group_size - i+1\n",
        "\n",
        "        # Assign the value to the corresponding row in the 'n_engagements' column\n",
        "        filtered_groups.loc[row.Index, 'n_engagements'] = value"
      ],
      "metadata": {
        "id": "reMO2cf_4qMi"
      },
      "execution_count": 8,
      "outputs": []
    },
    {
      "cell_type": "code",
      "source": [
        "filtered_groups.head(5)"
      ],
      "metadata": {
        "colab": {
          "base_uri": "https://localhost:8080/",
          "height": 487
        },
        "id": "aIQ7LUjJ7a3M",
        "outputId": "4e9c54ff-813a-4299-e773-7989bc1bb2e2"
      },
      "execution_count": 9,
      "outputs": [
        {
          "output_type": "execute_result",
          "data": {
            "text/plain": [
              "  event_date       event_name  \\\n",
              "0 2020-11-01  user_engagement   \n",
              "1 2020-11-01    session_start   \n",
              "2 2020-11-01  user_engagement   \n",
              "3 2020-11-01   view_promotion   \n",
              "4 2020-11-01        page_view   \n",
              "\n",
              "                                        event_params  event_value_in_usd  \\\n",
              "0  [{'key': 'source', 'value': {'string_value': '...                 NaN   \n",
              "1  [{'key': 'ga_session_number', 'value': {'strin...                 NaN   \n",
              "2  [{'key': 'debug_mode', 'value': {'string_value...                 NaN   \n",
              "3  [{'key': 'all_data', 'value': {'string_value':...                 NaN   \n",
              "4  [{'key': 'all_data', 'value': {'string_value':...                 NaN   \n",
              "\n",
              "   event_bundle_sequence_id      user_pseudo_id  \\\n",
              "0               -2628586713  1013442.5000387623   \n",
              "1               -1341154570  1013442.5000387623   \n",
              "2                7038273736  1013442.5000387623   \n",
              "3                  20088199  1013442.5000387623   \n",
              "4               -3423414439  1013442.5000387623   \n",
              "\n",
              "                                        privacy_info  \\\n",
              "0  {'analytics_storage': None, 'ads_storage': Non...   \n",
              "1  {'analytics_storage': None, 'ads_storage': Non...   \n",
              "2  {'analytics_storage': None, 'ads_storage': Non...   \n",
              "3  {'analytics_storage': None, 'ads_storage': Non...   \n",
              "4  {'analytics_storage': None, 'ads_storage': Non...   \n",
              "\n",
              "                              user_ltv  \\\n",
              "0  {'revenue': 0.0, 'currency': 'USD'}   \n",
              "1  {'revenue': 0.0, 'currency': 'USD'}   \n",
              "2  {'revenue': 0.0, 'currency': 'USD'}   \n",
              "3  {'revenue': 0.0, 'currency': 'USD'}   \n",
              "4  {'revenue': 0.0, 'currency': 'USD'}   \n",
              "\n",
              "                                              device  \\\n",
              "0  {'category': 'mobile', 'mobile_brand_name': 'S...   \n",
              "1  {'category': 'mobile', 'mobile_brand_name': 'S...   \n",
              "2  {'category': 'mobile', 'mobile_brand_name': 'S...   \n",
              "3  {'category': 'mobile', 'mobile_brand_name': 'S...   \n",
              "4  {'category': 'mobile', 'mobile_brand_name': 'S...   \n",
              "\n",
              "                                                 geo  \\\n",
              "0  {'continent': 'Americas', 'sub_continent': 'No...   \n",
              "1  {'continent': 'Americas', 'sub_continent': 'No...   \n",
              "2  {'continent': 'Americas', 'sub_continent': 'No...   \n",
              "3  {'continent': 'Americas', 'sub_continent': 'No...   \n",
              "4  {'continent': 'Americas', 'sub_continent': 'No...   \n",
              "\n",
              "                                      traffic_source platform  \\\n",
              "0  {'medium': '(none)', 'name': '(direct)', 'sour...      WEB   \n",
              "1  {'medium': '(none)', 'name': '(direct)', 'sour...      WEB   \n",
              "2  {'medium': '(none)', 'name': '(direct)', 'sour...      WEB   \n",
              "3  {'medium': '(none)', 'name': '(direct)', 'sour...      WEB   \n",
              "4  {'medium': '(none)', 'name': '(direct)', 'sour...      WEB   \n",
              "\n",
              "                                           ecommerce items  n_engagements  \n",
              "0  {'total_item_quantity': None, 'purchase_revenu...    []              1  \n",
              "1  {'total_item_quantity': None, 'purchase_revenu...    []              2  \n",
              "2  {'total_item_quantity': None, 'purchase_revenu...    []              3  \n",
              "3  {'total_item_quantity': None, 'purchase_revenu...    []              4  \n",
              "4  {'total_item_quantity': None, 'purchase_revenu...    []              5  "
            ],
            "text/html": [
              "\n",
              "  <div id=\"df-a1944832-3ff3-4b88-bcc8-ea823f05c473\" class=\"colab-df-container\">\n",
              "    <div>\n",
              "<style scoped>\n",
              "    .dataframe tbody tr th:only-of-type {\n",
              "        vertical-align: middle;\n",
              "    }\n",
              "\n",
              "    .dataframe tbody tr th {\n",
              "        vertical-align: top;\n",
              "    }\n",
              "\n",
              "    .dataframe thead th {\n",
              "        text-align: right;\n",
              "    }\n",
              "</style>\n",
              "<table border=\"1\" class=\"dataframe\">\n",
              "  <thead>\n",
              "    <tr style=\"text-align: right;\">\n",
              "      <th></th>\n",
              "      <th>event_date</th>\n",
              "      <th>event_name</th>\n",
              "      <th>event_params</th>\n",
              "      <th>event_value_in_usd</th>\n",
              "      <th>event_bundle_sequence_id</th>\n",
              "      <th>user_pseudo_id</th>\n",
              "      <th>privacy_info</th>\n",
              "      <th>user_ltv</th>\n",
              "      <th>device</th>\n",
              "      <th>geo</th>\n",
              "      <th>traffic_source</th>\n",
              "      <th>platform</th>\n",
              "      <th>ecommerce</th>\n",
              "      <th>items</th>\n",
              "      <th>n_engagements</th>\n",
              "    </tr>\n",
              "  </thead>\n",
              "  <tbody>\n",
              "    <tr>\n",
              "      <th>0</th>\n",
              "      <td>2020-11-01</td>\n",
              "      <td>user_engagement</td>\n",
              "      <td>[{'key': 'source', 'value': {'string_value': '...</td>\n",
              "      <td>NaN</td>\n",
              "      <td>-2628586713</td>\n",
              "      <td>1013442.5000387623</td>\n",
              "      <td>{'analytics_storage': None, 'ads_storage': Non...</td>\n",
              "      <td>{'revenue': 0.0, 'currency': 'USD'}</td>\n",
              "      <td>{'category': 'mobile', 'mobile_brand_name': 'S...</td>\n",
              "      <td>{'continent': 'Americas', 'sub_continent': 'No...</td>\n",
              "      <td>{'medium': '(none)', 'name': '(direct)', 'sour...</td>\n",
              "      <td>WEB</td>\n",
              "      <td>{'total_item_quantity': None, 'purchase_revenu...</td>\n",
              "      <td>[]</td>\n",
              "      <td>1</td>\n",
              "    </tr>\n",
              "    <tr>\n",
              "      <th>1</th>\n",
              "      <td>2020-11-01</td>\n",
              "      <td>session_start</td>\n",
              "      <td>[{'key': 'ga_session_number', 'value': {'strin...</td>\n",
              "      <td>NaN</td>\n",
              "      <td>-1341154570</td>\n",
              "      <td>1013442.5000387623</td>\n",
              "      <td>{'analytics_storage': None, 'ads_storage': Non...</td>\n",
              "      <td>{'revenue': 0.0, 'currency': 'USD'}</td>\n",
              "      <td>{'category': 'mobile', 'mobile_brand_name': 'S...</td>\n",
              "      <td>{'continent': 'Americas', 'sub_continent': 'No...</td>\n",
              "      <td>{'medium': '(none)', 'name': '(direct)', 'sour...</td>\n",
              "      <td>WEB</td>\n",
              "      <td>{'total_item_quantity': None, 'purchase_revenu...</td>\n",
              "      <td>[]</td>\n",
              "      <td>2</td>\n",
              "    </tr>\n",
              "    <tr>\n",
              "      <th>2</th>\n",
              "      <td>2020-11-01</td>\n",
              "      <td>user_engagement</td>\n",
              "      <td>[{'key': 'debug_mode', 'value': {'string_value...</td>\n",
              "      <td>NaN</td>\n",
              "      <td>7038273736</td>\n",
              "      <td>1013442.5000387623</td>\n",
              "      <td>{'analytics_storage': None, 'ads_storage': Non...</td>\n",
              "      <td>{'revenue': 0.0, 'currency': 'USD'}</td>\n",
              "      <td>{'category': 'mobile', 'mobile_brand_name': 'S...</td>\n",
              "      <td>{'continent': 'Americas', 'sub_continent': 'No...</td>\n",
              "      <td>{'medium': '(none)', 'name': '(direct)', 'sour...</td>\n",
              "      <td>WEB</td>\n",
              "      <td>{'total_item_quantity': None, 'purchase_revenu...</td>\n",
              "      <td>[]</td>\n",
              "      <td>3</td>\n",
              "    </tr>\n",
              "    <tr>\n",
              "      <th>3</th>\n",
              "      <td>2020-11-01</td>\n",
              "      <td>view_promotion</td>\n",
              "      <td>[{'key': 'all_data', 'value': {'string_value':...</td>\n",
              "      <td>NaN</td>\n",
              "      <td>20088199</td>\n",
              "      <td>1013442.5000387623</td>\n",
              "      <td>{'analytics_storage': None, 'ads_storage': Non...</td>\n",
              "      <td>{'revenue': 0.0, 'currency': 'USD'}</td>\n",
              "      <td>{'category': 'mobile', 'mobile_brand_name': 'S...</td>\n",
              "      <td>{'continent': 'Americas', 'sub_continent': 'No...</td>\n",
              "      <td>{'medium': '(none)', 'name': '(direct)', 'sour...</td>\n",
              "      <td>WEB</td>\n",
              "      <td>{'total_item_quantity': None, 'purchase_revenu...</td>\n",
              "      <td>[]</td>\n",
              "      <td>4</td>\n",
              "    </tr>\n",
              "    <tr>\n",
              "      <th>4</th>\n",
              "      <td>2020-11-01</td>\n",
              "      <td>page_view</td>\n",
              "      <td>[{'key': 'all_data', 'value': {'string_value':...</td>\n",
              "      <td>NaN</td>\n",
              "      <td>-3423414439</td>\n",
              "      <td>1013442.5000387623</td>\n",
              "      <td>{'analytics_storage': None, 'ads_storage': Non...</td>\n",
              "      <td>{'revenue': 0.0, 'currency': 'USD'}</td>\n",
              "      <td>{'category': 'mobile', 'mobile_brand_name': 'S...</td>\n",
              "      <td>{'continent': 'Americas', 'sub_continent': 'No...</td>\n",
              "      <td>{'medium': '(none)', 'name': '(direct)', 'sour...</td>\n",
              "      <td>WEB</td>\n",
              "      <td>{'total_item_quantity': None, 'purchase_revenu...</td>\n",
              "      <td>[]</td>\n",
              "      <td>5</td>\n",
              "    </tr>\n",
              "  </tbody>\n",
              "</table>\n",
              "</div>\n",
              "    <div class=\"colab-df-buttons\">\n",
              "\n",
              "  <div class=\"colab-df-container\">\n",
              "    <button class=\"colab-df-convert\" onclick=\"convertToInteractive('df-a1944832-3ff3-4b88-bcc8-ea823f05c473')\"\n",
              "            title=\"Convert this dataframe to an interactive table.\"\n",
              "            style=\"display:none;\">\n",
              "\n",
              "  <svg xmlns=\"http://www.w3.org/2000/svg\" height=\"24px\" viewBox=\"0 -960 960 960\">\n",
              "    <path d=\"M120-120v-720h720v720H120Zm60-500h600v-160H180v160Zm220 220h160v-160H400v160Zm0 220h160v-160H400v160ZM180-400h160v-160H180v160Zm440 0h160v-160H620v160ZM180-180h160v-160H180v160Zm440 0h160v-160H620v160Z\"/>\n",
              "  </svg>\n",
              "    </button>\n",
              "\n",
              "  <style>\n",
              "    .colab-df-container {\n",
              "      display:flex;\n",
              "      gap: 12px;\n",
              "    }\n",
              "\n",
              "    .colab-df-convert {\n",
              "      background-color: #E8F0FE;\n",
              "      border: none;\n",
              "      border-radius: 50%;\n",
              "      cursor: pointer;\n",
              "      display: none;\n",
              "      fill: #1967D2;\n",
              "      height: 32px;\n",
              "      padding: 0 0 0 0;\n",
              "      width: 32px;\n",
              "    }\n",
              "\n",
              "    .colab-df-convert:hover {\n",
              "      background-color: #E2EBFA;\n",
              "      box-shadow: 0px 1px 2px rgba(60, 64, 67, 0.3), 0px 1px 3px 1px rgba(60, 64, 67, 0.15);\n",
              "      fill: #174EA6;\n",
              "    }\n",
              "\n",
              "    .colab-df-buttons div {\n",
              "      margin-bottom: 4px;\n",
              "    }\n",
              "\n",
              "    [theme=dark] .colab-df-convert {\n",
              "      background-color: #3B4455;\n",
              "      fill: #D2E3FC;\n",
              "    }\n",
              "\n",
              "    [theme=dark] .colab-df-convert:hover {\n",
              "      background-color: #434B5C;\n",
              "      box-shadow: 0px 1px 3px 1px rgba(0, 0, 0, 0.15);\n",
              "      filter: drop-shadow(0px 1px 2px rgba(0, 0, 0, 0.3));\n",
              "      fill: #FFFFFF;\n",
              "    }\n",
              "  </style>\n",
              "\n",
              "    <script>\n",
              "      const buttonEl =\n",
              "        document.querySelector('#df-a1944832-3ff3-4b88-bcc8-ea823f05c473 button.colab-df-convert');\n",
              "      buttonEl.style.display =\n",
              "        google.colab.kernel.accessAllowed ? 'block' : 'none';\n",
              "\n",
              "      async function convertToInteractive(key) {\n",
              "        const element = document.querySelector('#df-a1944832-3ff3-4b88-bcc8-ea823f05c473');\n",
              "        const dataTable =\n",
              "          await google.colab.kernel.invokeFunction('convertToInteractive',\n",
              "                                                    [key], {});\n",
              "        if (!dataTable) return;\n",
              "\n",
              "        const docLinkHtml = 'Like what you see? Visit the ' +\n",
              "          '<a target=\"_blank\" href=https://colab.research.google.com/notebooks/data_table.ipynb>data table notebook</a>'\n",
              "          + ' to learn more about interactive tables.';\n",
              "        element.innerHTML = '';\n",
              "        dataTable['output_type'] = 'display_data';\n",
              "        await google.colab.output.renderOutput(dataTable, element);\n",
              "        const docLink = document.createElement('div');\n",
              "        docLink.innerHTML = docLinkHtml;\n",
              "        element.appendChild(docLink);\n",
              "      }\n",
              "    </script>\n",
              "  </div>\n",
              "\n",
              "\n",
              "<div id=\"df-c2958abd-6aef-4e28-97c6-345a19eb1b2c\">\n",
              "  <button class=\"colab-df-quickchart\" onclick=\"quickchart('df-c2958abd-6aef-4e28-97c6-345a19eb1b2c')\"\n",
              "            title=\"Suggest charts\"\n",
              "            style=\"display:none;\">\n",
              "\n",
              "<svg xmlns=\"http://www.w3.org/2000/svg\" height=\"24px\"viewBox=\"0 0 24 24\"\n",
              "     width=\"24px\">\n",
              "    <g>\n",
              "        <path d=\"M19 3H5c-1.1 0-2 .9-2 2v14c0 1.1.9 2 2 2h14c1.1 0 2-.9 2-2V5c0-1.1-.9-2-2-2zM9 17H7v-7h2v7zm4 0h-2V7h2v10zm4 0h-2v-4h2v4z\"/>\n",
              "    </g>\n",
              "</svg>\n",
              "  </button>\n",
              "\n",
              "<style>\n",
              "  .colab-df-quickchart {\n",
              "      --bg-color: #E8F0FE;\n",
              "      --fill-color: #1967D2;\n",
              "      --hover-bg-color: #E2EBFA;\n",
              "      --hover-fill-color: #174EA6;\n",
              "      --disabled-fill-color: #AAA;\n",
              "      --disabled-bg-color: #DDD;\n",
              "  }\n",
              "\n",
              "  [theme=dark] .colab-df-quickchart {\n",
              "      --bg-color: #3B4455;\n",
              "      --fill-color: #D2E3FC;\n",
              "      --hover-bg-color: #434B5C;\n",
              "      --hover-fill-color: #FFFFFF;\n",
              "      --disabled-bg-color: #3B4455;\n",
              "      --disabled-fill-color: #666;\n",
              "  }\n",
              "\n",
              "  .colab-df-quickchart {\n",
              "    background-color: var(--bg-color);\n",
              "    border: none;\n",
              "    border-radius: 50%;\n",
              "    cursor: pointer;\n",
              "    display: none;\n",
              "    fill: var(--fill-color);\n",
              "    height: 32px;\n",
              "    padding: 0;\n",
              "    width: 32px;\n",
              "  }\n",
              "\n",
              "  .colab-df-quickchart:hover {\n",
              "    background-color: var(--hover-bg-color);\n",
              "    box-shadow: 0 1px 2px rgba(60, 64, 67, 0.3), 0 1px 3px 1px rgba(60, 64, 67, 0.15);\n",
              "    fill: var(--button-hover-fill-color);\n",
              "  }\n",
              "\n",
              "  .colab-df-quickchart-complete:disabled,\n",
              "  .colab-df-quickchart-complete:disabled:hover {\n",
              "    background-color: var(--disabled-bg-color);\n",
              "    fill: var(--disabled-fill-color);\n",
              "    box-shadow: none;\n",
              "  }\n",
              "\n",
              "  .colab-df-spinner {\n",
              "    border: 2px solid var(--fill-color);\n",
              "    border-color: transparent;\n",
              "    border-bottom-color: var(--fill-color);\n",
              "    animation:\n",
              "      spin 1s steps(1) infinite;\n",
              "  }\n",
              "\n",
              "  @keyframes spin {\n",
              "    0% {\n",
              "      border-color: transparent;\n",
              "      border-bottom-color: var(--fill-color);\n",
              "      border-left-color: var(--fill-color);\n",
              "    }\n",
              "    20% {\n",
              "      border-color: transparent;\n",
              "      border-left-color: var(--fill-color);\n",
              "      border-top-color: var(--fill-color);\n",
              "    }\n",
              "    30% {\n",
              "      border-color: transparent;\n",
              "      border-left-color: var(--fill-color);\n",
              "      border-top-color: var(--fill-color);\n",
              "      border-right-color: var(--fill-color);\n",
              "    }\n",
              "    40% {\n",
              "      border-color: transparent;\n",
              "      border-right-color: var(--fill-color);\n",
              "      border-top-color: var(--fill-color);\n",
              "    }\n",
              "    60% {\n",
              "      border-color: transparent;\n",
              "      border-right-color: var(--fill-color);\n",
              "    }\n",
              "    80% {\n",
              "      border-color: transparent;\n",
              "      border-right-color: var(--fill-color);\n",
              "      border-bottom-color: var(--fill-color);\n",
              "    }\n",
              "    90% {\n",
              "      border-color: transparent;\n",
              "      border-bottom-color: var(--fill-color);\n",
              "    }\n",
              "  }\n",
              "</style>\n",
              "\n",
              "  <script>\n",
              "    async function quickchart(key) {\n",
              "      const quickchartButtonEl =\n",
              "        document.querySelector('#' + key + ' button');\n",
              "      quickchartButtonEl.disabled = true;  // To prevent multiple clicks.\n",
              "      quickchartButtonEl.classList.add('colab-df-spinner');\n",
              "      try {\n",
              "        const charts = await google.colab.kernel.invokeFunction(\n",
              "            'suggestCharts', [key], {});\n",
              "      } catch (error) {\n",
              "        console.error('Error during call to suggestCharts:', error);\n",
              "      }\n",
              "      quickchartButtonEl.classList.remove('colab-df-spinner');\n",
              "      quickchartButtonEl.classList.add('colab-df-quickchart-complete');\n",
              "    }\n",
              "    (() => {\n",
              "      let quickchartButtonEl =\n",
              "        document.querySelector('#df-c2958abd-6aef-4e28-97c6-345a19eb1b2c button');\n",
              "      quickchartButtonEl.style.display =\n",
              "        google.colab.kernel.accessAllowed ? 'block' : 'none';\n",
              "    })();\n",
              "  </script>\n",
              "</div>\n",
              "\n",
              "    </div>\n",
              "  </div>\n"
            ]
          },
          "metadata": {},
          "execution_count": 9
        }
      ]
    },
    {
      "cell_type": "markdown",
      "source": [
        "here I check whether there are unique sessions within each user-event date group. There are two candidates for this check: stream_id and event_bundle_sequence_id. I start with checking value counts of each column"
      ],
      "metadata": {
        "id": "pTaLZZNjPYLY"
      }
    },
    {
      "cell_type": "code",
      "source": [
        "df['stream_id'].value_counts()"
      ],
      "metadata": {
        "colab": {
          "base_uri": "https://localhost:8080/"
        },
        "id": "LxsadX7kO4yK",
        "outputId": "842c14fe-8d6a-49e3-c054-d01e09f990ad"
      },
      "execution_count": 11,
      "outputs": [
        {
          "output_type": "execute_result",
          "data": {
            "text/plain": [
              "2100450278    1500000\n",
              "Name: stream_id, dtype: Int64"
            ]
          },
          "metadata": {},
          "execution_count": 11
        }
      ]
    },
    {
      "cell_type": "markdown",
      "source": [
        "There are only one value in stream_id so it does not offer any further knowdledge."
      ],
      "metadata": {
        "id": "qRZmWq03P9yo"
      }
    },
    {
      "cell_type": "code",
      "source": [
        "df['event_bundle_sequence_id'].nunique()"
      ],
      "metadata": {
        "colab": {
          "base_uri": "https://localhost:8080/"
        },
        "id": "RcN9E9P2QnAV",
        "outputId": "2badfdf6-b507-4bc6-da89-18613ad4ff8d"
      },
      "execution_count": 14,
      "outputs": [
        {
          "output_type": "execute_result",
          "data": {
            "text/plain": [
              "1302127"
            ]
          },
          "metadata": {},
          "execution_count": 14
        }
      ]
    },
    {
      "cell_type": "markdown",
      "source": [
        "as there are repeating event_bundle_sequence_id, I will further check the column values."
      ],
      "metadata": {
        "id": "mesocSGWRE4T"
      }
    },
    {
      "cell_type": "code",
      "source": [
        "\n",
        "groups = df.groupby('event_bundle_sequence_id')\n",
        "\n",
        "grouped_dfs = groups.filter(lambda x: len(x) > 1)"
      ],
      "metadata": {
        "id": "y6qSt-PmkfH7"
      },
      "execution_count": null,
      "outputs": []
    },
    {
      "cell_type": "code",
      "source": [
        "grouped_dfs.sort_values('event_bundle_sequence_id', inplace=True)\n"
      ],
      "metadata": {
        "id": "LQp_dVSBBoQw"
      },
      "execution_count": 8,
      "outputs": []
    },
    {
      "cell_type": "code",
      "source": [
        "path = '/content/drive/My Drive/grouped_dfs_ga4.pkl'\n",
        "grouped_dfs.to_pickle(path)\n"
      ],
      "metadata": {
        "id": "-ZV9DWzxCBHf"
      },
      "execution_count": 10,
      "outputs": []
    },
    {
      "cell_type": "code",
      "source": [
        "grouped_dfs.head()"
      ],
      "metadata": {
        "colab": {
          "base_uri": "https://localhost:8080/",
          "height": 487
        },
        "id": "lPmFUgSsBp3S",
        "outputId": "e1534f39-a479-4fc8-f5e3-d6b48d83ba73"
      },
      "execution_count": 9,
      "outputs": [
        {
          "output_type": "execute_result",
          "data": {
            "text/plain": [
              "        event_date   event_timestamp   event_name  \\\n",
              "1223563   20201110  1605037157335826       scroll   \n",
              "799546    20201110  1605037157335826    page_view   \n",
              "470479    20201118  1605685045827463  first_visit   \n",
              "468993    20201118  1605685045827463    page_view   \n",
              "1247398   20210128  1611800903289441    page_view   \n",
              "\n",
              "                                              event_params  \\\n",
              "1223563  [{'key': 'page_location', 'value': {'string_va...   \n",
              "799546   [{'key': 'page_location', 'value': {'string_va...   \n",
              "470479   [{'key': 'ga_session_id', 'value': {'string_va...   \n",
              "468993   [{'key': 'page_title', 'value': {'string_value...   \n",
              "1247398  [{'key': 'ga_session_number', 'value': {'strin...   \n",
              "\n",
              "         event_previous_timestamp  event_value_in_usd  \\\n",
              "1223563                      <NA>                 NaN   \n",
              "799546                       <NA>                 NaN   \n",
              "470479                       <NA>                 NaN   \n",
              "468993                       <NA>                 NaN   \n",
              "1247398                      <NA>                 NaN   \n",
              "\n",
              "         event_bundle_sequence_id  event_server_timestamp_offset user_id  \\\n",
              "1223563               -9999940514                           <NA>    None   \n",
              "799546                -9999940514                           <NA>    None   \n",
              "470479                -9999933101                           <NA>    None   \n",
              "468993                -9999933101                           <NA>    None   \n",
              "1247398               -9999867379                           <NA>    None   \n",
              "\n",
              "              user_pseudo_id  \\\n",
              "1223563  73631766.1438326419   \n",
              "799546   73631766.1438326419   \n",
              "470479    8952049.1195785499   \n",
              "468993    8952049.1195785499   \n",
              "1247398  38067757.0522298514   \n",
              "\n",
              "                                              privacy_info user_properties  \\\n",
              "1223563  {'analytics_storage': None, 'ads_storage': Non...              []   \n",
              "799546   {'analytics_storage': None, 'ads_storage': Non...              []   \n",
              "470479   {'analytics_storage': None, 'ads_storage': Non...              []   \n",
              "468993   {'analytics_storage': None, 'ads_storage': Non...              []   \n",
              "1247398  {'analytics_storage': None, 'ads_storage': Non...              []   \n",
              "\n",
              "         user_first_touch_timestamp                             user_ltv  \\\n",
              "1223563            1605037131077816  {'revenue': 0.0, 'currency': 'USD'}   \n",
              "799546             1605037131077816  {'revenue': 0.0, 'currency': 'USD'}   \n",
              "470479             1605685045827463  {'revenue': 0.0, 'currency': 'USD'}   \n",
              "468993             1605685045827463  {'revenue': 0.0, 'currency': 'USD'}   \n",
              "1247398            1611137723793504  {'revenue': 0.0, 'currency': 'USD'}   \n",
              "\n",
              "                                                    device  \\\n",
              "1223563  {'category': 'mobile', 'mobile_brand_name': 'A...   \n",
              "799546   {'category': 'mobile', 'mobile_brand_name': 'A...   \n",
              "470479   {'category': 'desktop', 'mobile_brand_name': '...   \n",
              "468993   {'category': 'desktop', 'mobile_brand_name': '...   \n",
              "1247398  {'category': 'mobile', 'mobile_brand_name': 'A...   \n",
              "\n",
              "                                                       geo app_info  \\\n",
              "1223563  {'continent': 'Americas', 'sub_continent': 'No...     None   \n",
              "799546   {'continent': 'Americas', 'sub_continent': 'No...     None   \n",
              "470479   {'continent': 'Americas', 'sub_continent': 'No...     None   \n",
              "468993   {'continent': 'Americas', 'sub_continent': 'No...     None   \n",
              "1247398  {'continent': 'Americas', 'sub_continent': 'No...     None   \n",
              "\n",
              "                                            traffic_source   stream_id  \\\n",
              "1223563  {'medium': 'organic', 'name': '(organic)', 'so...  2100450278   \n",
              "799546   {'medium': 'organic', 'name': '(organic)', 'so...  2100450278   \n",
              "470479   {'medium': 'organic', 'name': '(organic)', 'so...  2100450278   \n",
              "468993   {'medium': 'organic', 'name': '(organic)', 'so...  2100450278   \n",
              "1247398  {'medium': 'referral', 'name': '(referral)', '...  2100450278   \n",
              "\n",
              "        platform event_dimensions  \\\n",
              "1223563      WEB             None   \n",
              "799546       WEB             None   \n",
              "470479       WEB             None   \n",
              "468993       WEB             None   \n",
              "1247398      WEB             None   \n",
              "\n",
              "                                                 ecommerce items  \n",
              "1223563  {'total_item_quantity': None, 'purchase_revenu...    []  \n",
              "799546   {'total_item_quantity': None, 'purchase_revenu...    []  \n",
              "470479   {'total_item_quantity': None, 'purchase_revenu...    []  \n",
              "468993   {'total_item_quantity': None, 'purchase_revenu...    []  \n",
              "1247398  {'total_item_quantity': None, 'purchase_revenu...    []  "
            ],
            "text/html": [
              "\n",
              "  <div id=\"df-35e49210-2def-4563-a412-aa0c77b81e1e\" class=\"colab-df-container\">\n",
              "    <div>\n",
              "<style scoped>\n",
              "    .dataframe tbody tr th:only-of-type {\n",
              "        vertical-align: middle;\n",
              "    }\n",
              "\n",
              "    .dataframe tbody tr th {\n",
              "        vertical-align: top;\n",
              "    }\n",
              "\n",
              "    .dataframe thead th {\n",
              "        text-align: right;\n",
              "    }\n",
              "</style>\n",
              "<table border=\"1\" class=\"dataframe\">\n",
              "  <thead>\n",
              "    <tr style=\"text-align: right;\">\n",
              "      <th></th>\n",
              "      <th>event_date</th>\n",
              "      <th>event_timestamp</th>\n",
              "      <th>event_name</th>\n",
              "      <th>event_params</th>\n",
              "      <th>event_previous_timestamp</th>\n",
              "      <th>event_value_in_usd</th>\n",
              "      <th>event_bundle_sequence_id</th>\n",
              "      <th>event_server_timestamp_offset</th>\n",
              "      <th>user_id</th>\n",
              "      <th>user_pseudo_id</th>\n",
              "      <th>privacy_info</th>\n",
              "      <th>user_properties</th>\n",
              "      <th>user_first_touch_timestamp</th>\n",
              "      <th>user_ltv</th>\n",
              "      <th>device</th>\n",
              "      <th>geo</th>\n",
              "      <th>app_info</th>\n",
              "      <th>traffic_source</th>\n",
              "      <th>stream_id</th>\n",
              "      <th>platform</th>\n",
              "      <th>event_dimensions</th>\n",
              "      <th>ecommerce</th>\n",
              "      <th>items</th>\n",
              "    </tr>\n",
              "  </thead>\n",
              "  <tbody>\n",
              "    <tr>\n",
              "      <th>1223563</th>\n",
              "      <td>20201110</td>\n",
              "      <td>1605037157335826</td>\n",
              "      <td>scroll</td>\n",
              "      <td>[{'key': 'page_location', 'value': {'string_va...</td>\n",
              "      <td>&lt;NA&gt;</td>\n",
              "      <td>NaN</td>\n",
              "      <td>-9999940514</td>\n",
              "      <td>&lt;NA&gt;</td>\n",
              "      <td>None</td>\n",
              "      <td>73631766.1438326419</td>\n",
              "      <td>{'analytics_storage': None, 'ads_storage': Non...</td>\n",
              "      <td>[]</td>\n",
              "      <td>1605037131077816</td>\n",
              "      <td>{'revenue': 0.0, 'currency': 'USD'}</td>\n",
              "      <td>{'category': 'mobile', 'mobile_brand_name': 'A...</td>\n",
              "      <td>{'continent': 'Americas', 'sub_continent': 'No...</td>\n",
              "      <td>None</td>\n",
              "      <td>{'medium': 'organic', 'name': '(organic)', 'so...</td>\n",
              "      <td>2100450278</td>\n",
              "      <td>WEB</td>\n",
              "      <td>None</td>\n",
              "      <td>{'total_item_quantity': None, 'purchase_revenu...</td>\n",
              "      <td>[]</td>\n",
              "    </tr>\n",
              "    <tr>\n",
              "      <th>799546</th>\n",
              "      <td>20201110</td>\n",
              "      <td>1605037157335826</td>\n",
              "      <td>page_view</td>\n",
              "      <td>[{'key': 'page_location', 'value': {'string_va...</td>\n",
              "      <td>&lt;NA&gt;</td>\n",
              "      <td>NaN</td>\n",
              "      <td>-9999940514</td>\n",
              "      <td>&lt;NA&gt;</td>\n",
              "      <td>None</td>\n",
              "      <td>73631766.1438326419</td>\n",
              "      <td>{'analytics_storage': None, 'ads_storage': Non...</td>\n",
              "      <td>[]</td>\n",
              "      <td>1605037131077816</td>\n",
              "      <td>{'revenue': 0.0, 'currency': 'USD'}</td>\n",
              "      <td>{'category': 'mobile', 'mobile_brand_name': 'A...</td>\n",
              "      <td>{'continent': 'Americas', 'sub_continent': 'No...</td>\n",
              "      <td>None</td>\n",
              "      <td>{'medium': 'organic', 'name': '(organic)', 'so...</td>\n",
              "      <td>2100450278</td>\n",
              "      <td>WEB</td>\n",
              "      <td>None</td>\n",
              "      <td>{'total_item_quantity': None, 'purchase_revenu...</td>\n",
              "      <td>[]</td>\n",
              "    </tr>\n",
              "    <tr>\n",
              "      <th>470479</th>\n",
              "      <td>20201118</td>\n",
              "      <td>1605685045827463</td>\n",
              "      <td>first_visit</td>\n",
              "      <td>[{'key': 'ga_session_id', 'value': {'string_va...</td>\n",
              "      <td>&lt;NA&gt;</td>\n",
              "      <td>NaN</td>\n",
              "      <td>-9999933101</td>\n",
              "      <td>&lt;NA&gt;</td>\n",
              "      <td>None</td>\n",
              "      <td>8952049.1195785499</td>\n",
              "      <td>{'analytics_storage': None, 'ads_storage': Non...</td>\n",
              "      <td>[]</td>\n",
              "      <td>1605685045827463</td>\n",
              "      <td>{'revenue': 0.0, 'currency': 'USD'}</td>\n",
              "      <td>{'category': 'desktop', 'mobile_brand_name': '...</td>\n",
              "      <td>{'continent': 'Americas', 'sub_continent': 'No...</td>\n",
              "      <td>None</td>\n",
              "      <td>{'medium': 'organic', 'name': '(organic)', 'so...</td>\n",
              "      <td>2100450278</td>\n",
              "      <td>WEB</td>\n",
              "      <td>None</td>\n",
              "      <td>{'total_item_quantity': None, 'purchase_revenu...</td>\n",
              "      <td>[]</td>\n",
              "    </tr>\n",
              "    <tr>\n",
              "      <th>468993</th>\n",
              "      <td>20201118</td>\n",
              "      <td>1605685045827463</td>\n",
              "      <td>page_view</td>\n",
              "      <td>[{'key': 'page_title', 'value': {'string_value...</td>\n",
              "      <td>&lt;NA&gt;</td>\n",
              "      <td>NaN</td>\n",
              "      <td>-9999933101</td>\n",
              "      <td>&lt;NA&gt;</td>\n",
              "      <td>None</td>\n",
              "      <td>8952049.1195785499</td>\n",
              "      <td>{'analytics_storage': None, 'ads_storage': Non...</td>\n",
              "      <td>[]</td>\n",
              "      <td>1605685045827463</td>\n",
              "      <td>{'revenue': 0.0, 'currency': 'USD'}</td>\n",
              "      <td>{'category': 'desktop', 'mobile_brand_name': '...</td>\n",
              "      <td>{'continent': 'Americas', 'sub_continent': 'No...</td>\n",
              "      <td>None</td>\n",
              "      <td>{'medium': 'organic', 'name': '(organic)', 'so...</td>\n",
              "      <td>2100450278</td>\n",
              "      <td>WEB</td>\n",
              "      <td>None</td>\n",
              "      <td>{'total_item_quantity': None, 'purchase_revenu...</td>\n",
              "      <td>[]</td>\n",
              "    </tr>\n",
              "    <tr>\n",
              "      <th>1247398</th>\n",
              "      <td>20210128</td>\n",
              "      <td>1611800903289441</td>\n",
              "      <td>page_view</td>\n",
              "      <td>[{'key': 'ga_session_number', 'value': {'strin...</td>\n",
              "      <td>&lt;NA&gt;</td>\n",
              "      <td>NaN</td>\n",
              "      <td>-9999867379</td>\n",
              "      <td>&lt;NA&gt;</td>\n",
              "      <td>None</td>\n",
              "      <td>38067757.0522298514</td>\n",
              "      <td>{'analytics_storage': None, 'ads_storage': Non...</td>\n",
              "      <td>[]</td>\n",
              "      <td>1611137723793504</td>\n",
              "      <td>{'revenue': 0.0, 'currency': 'USD'}</td>\n",
              "      <td>{'category': 'mobile', 'mobile_brand_name': 'A...</td>\n",
              "      <td>{'continent': 'Americas', 'sub_continent': 'No...</td>\n",
              "      <td>None</td>\n",
              "      <td>{'medium': 'referral', 'name': '(referral)', '...</td>\n",
              "      <td>2100450278</td>\n",
              "      <td>WEB</td>\n",
              "      <td>None</td>\n",
              "      <td>{'total_item_quantity': None, 'purchase_revenu...</td>\n",
              "      <td>[]</td>\n",
              "    </tr>\n",
              "  </tbody>\n",
              "</table>\n",
              "</div>\n",
              "    <div class=\"colab-df-buttons\">\n",
              "\n",
              "  <div class=\"colab-df-container\">\n",
              "    <button class=\"colab-df-convert\" onclick=\"convertToInteractive('df-35e49210-2def-4563-a412-aa0c77b81e1e')\"\n",
              "            title=\"Convert this dataframe to an interactive table.\"\n",
              "            style=\"display:none;\">\n",
              "\n",
              "  <svg xmlns=\"http://www.w3.org/2000/svg\" height=\"24px\" viewBox=\"0 -960 960 960\">\n",
              "    <path d=\"M120-120v-720h720v720H120Zm60-500h600v-160H180v160Zm220 220h160v-160H400v160Zm0 220h160v-160H400v160ZM180-400h160v-160H180v160Zm440 0h160v-160H620v160ZM180-180h160v-160H180v160Zm440 0h160v-160H620v160Z\"/>\n",
              "  </svg>\n",
              "    </button>\n",
              "\n",
              "  <style>\n",
              "    .colab-df-container {\n",
              "      display:flex;\n",
              "      gap: 12px;\n",
              "    }\n",
              "\n",
              "    .colab-df-convert {\n",
              "      background-color: #E8F0FE;\n",
              "      border: none;\n",
              "      border-radius: 50%;\n",
              "      cursor: pointer;\n",
              "      display: none;\n",
              "      fill: #1967D2;\n",
              "      height: 32px;\n",
              "      padding: 0 0 0 0;\n",
              "      width: 32px;\n",
              "    }\n",
              "\n",
              "    .colab-df-convert:hover {\n",
              "      background-color: #E2EBFA;\n",
              "      box-shadow: 0px 1px 2px rgba(60, 64, 67, 0.3), 0px 1px 3px 1px rgba(60, 64, 67, 0.15);\n",
              "      fill: #174EA6;\n",
              "    }\n",
              "\n",
              "    .colab-df-buttons div {\n",
              "      margin-bottom: 4px;\n",
              "    }\n",
              "\n",
              "    [theme=dark] .colab-df-convert {\n",
              "      background-color: #3B4455;\n",
              "      fill: #D2E3FC;\n",
              "    }\n",
              "\n",
              "    [theme=dark] .colab-df-convert:hover {\n",
              "      background-color: #434B5C;\n",
              "      box-shadow: 0px 1px 3px 1px rgba(0, 0, 0, 0.15);\n",
              "      filter: drop-shadow(0px 1px 2px rgba(0, 0, 0, 0.3));\n",
              "      fill: #FFFFFF;\n",
              "    }\n",
              "  </style>\n",
              "\n",
              "    <script>\n",
              "      const buttonEl =\n",
              "        document.querySelector('#df-35e49210-2def-4563-a412-aa0c77b81e1e button.colab-df-convert');\n",
              "      buttonEl.style.display =\n",
              "        google.colab.kernel.accessAllowed ? 'block' : 'none';\n",
              "\n",
              "      async function convertToInteractive(key) {\n",
              "        const element = document.querySelector('#df-35e49210-2def-4563-a412-aa0c77b81e1e');\n",
              "        const dataTable =\n",
              "          await google.colab.kernel.invokeFunction('convertToInteractive',\n",
              "                                                    [key], {});\n",
              "        if (!dataTable) return;\n",
              "\n",
              "        const docLinkHtml = 'Like what you see? Visit the ' +\n",
              "          '<a target=\"_blank\" href=https://colab.research.google.com/notebooks/data_table.ipynb>data table notebook</a>'\n",
              "          + ' to learn more about interactive tables.';\n",
              "        element.innerHTML = '';\n",
              "        dataTable['output_type'] = 'display_data';\n",
              "        await google.colab.output.renderOutput(dataTable, element);\n",
              "        const docLink = document.createElement('div');\n",
              "        docLink.innerHTML = docLinkHtml;\n",
              "        element.appendChild(docLink);\n",
              "      }\n",
              "    </script>\n",
              "  </div>\n",
              "\n",
              "\n",
              "<div id=\"df-8468aa4a-0ee3-4489-b5eb-ec8eaf209439\">\n",
              "  <button class=\"colab-df-quickchart\" onclick=\"quickchart('df-8468aa4a-0ee3-4489-b5eb-ec8eaf209439')\"\n",
              "            title=\"Suggest charts\"\n",
              "            style=\"display:none;\">\n",
              "\n",
              "<svg xmlns=\"http://www.w3.org/2000/svg\" height=\"24px\"viewBox=\"0 0 24 24\"\n",
              "     width=\"24px\">\n",
              "    <g>\n",
              "        <path d=\"M19 3H5c-1.1 0-2 .9-2 2v14c0 1.1.9 2 2 2h14c1.1 0 2-.9 2-2V5c0-1.1-.9-2-2-2zM9 17H7v-7h2v7zm4 0h-2V7h2v10zm4 0h-2v-4h2v4z\"/>\n",
              "    </g>\n",
              "</svg>\n",
              "  </button>\n",
              "\n",
              "<style>\n",
              "  .colab-df-quickchart {\n",
              "      --bg-color: #E8F0FE;\n",
              "      --fill-color: #1967D2;\n",
              "      --hover-bg-color: #E2EBFA;\n",
              "      --hover-fill-color: #174EA6;\n",
              "      --disabled-fill-color: #AAA;\n",
              "      --disabled-bg-color: #DDD;\n",
              "  }\n",
              "\n",
              "  [theme=dark] .colab-df-quickchart {\n",
              "      --bg-color: #3B4455;\n",
              "      --fill-color: #D2E3FC;\n",
              "      --hover-bg-color: #434B5C;\n",
              "      --hover-fill-color: #FFFFFF;\n",
              "      --disabled-bg-color: #3B4455;\n",
              "      --disabled-fill-color: #666;\n",
              "  }\n",
              "\n",
              "  .colab-df-quickchart {\n",
              "    background-color: var(--bg-color);\n",
              "    border: none;\n",
              "    border-radius: 50%;\n",
              "    cursor: pointer;\n",
              "    display: none;\n",
              "    fill: var(--fill-color);\n",
              "    height: 32px;\n",
              "    padding: 0;\n",
              "    width: 32px;\n",
              "  }\n",
              "\n",
              "  .colab-df-quickchart:hover {\n",
              "    background-color: var(--hover-bg-color);\n",
              "    box-shadow: 0 1px 2px rgba(60, 64, 67, 0.3), 0 1px 3px 1px rgba(60, 64, 67, 0.15);\n",
              "    fill: var(--button-hover-fill-color);\n",
              "  }\n",
              "\n",
              "  .colab-df-quickchart-complete:disabled,\n",
              "  .colab-df-quickchart-complete:disabled:hover {\n",
              "    background-color: var(--disabled-bg-color);\n",
              "    fill: var(--disabled-fill-color);\n",
              "    box-shadow: none;\n",
              "  }\n",
              "\n",
              "  .colab-df-spinner {\n",
              "    border: 2px solid var(--fill-color);\n",
              "    border-color: transparent;\n",
              "    border-bottom-color: var(--fill-color);\n",
              "    animation:\n",
              "      spin 1s steps(1) infinite;\n",
              "  }\n",
              "\n",
              "  @keyframes spin {\n",
              "    0% {\n",
              "      border-color: transparent;\n",
              "      border-bottom-color: var(--fill-color);\n",
              "      border-left-color: var(--fill-color);\n",
              "    }\n",
              "    20% {\n",
              "      border-color: transparent;\n",
              "      border-left-color: var(--fill-color);\n",
              "      border-top-color: var(--fill-color);\n",
              "    }\n",
              "    30% {\n",
              "      border-color: transparent;\n",
              "      border-left-color: var(--fill-color);\n",
              "      border-top-color: var(--fill-color);\n",
              "      border-right-color: var(--fill-color);\n",
              "    }\n",
              "    40% {\n",
              "      border-color: transparent;\n",
              "      border-right-color: var(--fill-color);\n",
              "      border-top-color: var(--fill-color);\n",
              "    }\n",
              "    60% {\n",
              "      border-color: transparent;\n",
              "      border-right-color: var(--fill-color);\n",
              "    }\n",
              "    80% {\n",
              "      border-color: transparent;\n",
              "      border-right-color: var(--fill-color);\n",
              "      border-bottom-color: var(--fill-color);\n",
              "    }\n",
              "    90% {\n",
              "      border-color: transparent;\n",
              "      border-bottom-color: var(--fill-color);\n",
              "    }\n",
              "  }\n",
              "</style>\n",
              "\n",
              "  <script>\n",
              "    async function quickchart(key) {\n",
              "      const quickchartButtonEl =\n",
              "        document.querySelector('#' + key + ' button');\n",
              "      quickchartButtonEl.disabled = true;  // To prevent multiple clicks.\n",
              "      quickchartButtonEl.classList.add('colab-df-spinner');\n",
              "      try {\n",
              "        const charts = await google.colab.kernel.invokeFunction(\n",
              "            'suggestCharts', [key], {});\n",
              "      } catch (error) {\n",
              "        console.error('Error during call to suggestCharts:', error);\n",
              "      }\n",
              "      quickchartButtonEl.classList.remove('colab-df-spinner');\n",
              "      quickchartButtonEl.classList.add('colab-df-quickchart-complete');\n",
              "    }\n",
              "    (() => {\n",
              "      let quickchartButtonEl =\n",
              "        document.querySelector('#df-8468aa4a-0ee3-4489-b5eb-ec8eaf209439 button');\n",
              "      quickchartButtonEl.style.display =\n",
              "        google.colab.kernel.accessAllowed ? 'block' : 'none';\n",
              "    })();\n",
              "  </script>\n",
              "</div>\n",
              "\n",
              "    </div>\n",
              "  </div>\n"
            ]
          },
          "metadata": {},
          "execution_count": 9
        }
      ]
    },
    {
      "cell_type": "markdown",
      "source": [
        "when I check both the grouped and non grouped data frames basen on event_bundle_sequence_id, I see no repeating pattern for each event-date user_psuedo_id groups. so I also delete this column for its irregular values."
      ],
      "metadata": {
        "id": "LLtuH-tZQWCS"
      }
    },
    {
      "cell_type": "code",
      "source": [
        "df_grouped=filtered_groups.copy()"
      ],
      "metadata": {
        "id": "8cciN2uJp0ux"
      },
      "execution_count": 45,
      "outputs": []
    },
    {
      "cell_type": "code",
      "source": [
        "df_grouped.info()"
      ],
      "metadata": {
        "colab": {
          "base_uri": "https://localhost:8080/"
        },
        "id": "kDmARtfP3-5A",
        "outputId": "bcd83aa1-a49f-401d-d75c-cacd81651d0f"
      },
      "execution_count": null,
      "outputs": [
        {
          "output_type": "stream",
          "name": "stdout",
          "text": [
            "<class 'pandas.core.frame.DataFrame'>\n",
            "RangeIndex: 1147914 entries, 0 to 1147913\n",
            "Data columns (total 14 columns):\n",
            " #   Column              Non-Null Count    Dtype         \n",
            "---  ------              --------------    -----         \n",
            " 0   event_date          1147914 non-null  datetime64[ns]\n",
            " 1   event_name          1147914 non-null  object        \n",
            " 2   event_params        1147914 non-null  object        \n",
            " 3   event_value_in_usd  1831 non-null     float64       \n",
            " 4   user_pseudo_id      1147914 non-null  object        \n",
            " 5   privacy_info        1147914 non-null  object        \n",
            " 6   user_ltv            1147914 non-null  object        \n",
            " 7   device              1147914 non-null  object        \n",
            " 8   geo                 1147914 non-null  object        \n",
            " 9   traffic_source      1147914 non-null  object        \n",
            " 10  platform            1147914 non-null  object        \n",
            " 11  ecommerce           1147914 non-null  object        \n",
            " 12  items               1147914 non-null  object        \n",
            " 13  n_engagements       1147914 non-null  int64         \n",
            "dtypes: datetime64[ns](1), float64(1), int64(1), object(11)\n",
            "memory usage: 122.6+ MB\n"
          ]
        }
      ]
    },
    {
      "cell_type": "markdown",
      "source": [
        "Analysis below shows that there are 144 row that are recorded as 'purchase'but without any value in usd. I take this as an error in data preparation but keep these rows assuming the data labeler omitted filling event_value_in_usd column in 144 events. I will use a transformed version of event_name column as the target column to be feed into the model. That is why, these omitted values will not make any problem in model building."
      ],
      "metadata": {
        "id": "1SKRAhGms-Wb"
      }
    },
    {
      "cell_type": "code",
      "source": [
        "df_purchase=df_grouped[df_grouped['event_name']=='purchase']\n",
        "df_purchase.info()"
      ],
      "metadata": {
        "colab": {
          "base_uri": "https://localhost:8080/"
        },
        "id": "1jYVqqRPTae6",
        "outputId": "0db76387-6274-4b2b-9ee2-daedf19f5950"
      },
      "execution_count": 21,
      "outputs": [
        {
          "output_type": "stream",
          "name": "stdout",
          "text": [
            "1975\n",
            "<class 'pandas.core.frame.DataFrame'>\n",
            "Int64Index: 1975 entries, 2233 to 1145809\n",
            "Data columns (total 15 columns):\n",
            " #   Column                    Non-Null Count  Dtype         \n",
            "---  ------                    --------------  -----         \n",
            " 0   event_date                1975 non-null   datetime64[ns]\n",
            " 1   event_name                1975 non-null   object        \n",
            " 2   event_params              1975 non-null   object        \n",
            " 3   event_value_in_usd        1831 non-null   float64       \n",
            " 4   event_bundle_sequence_id  1975 non-null   Int64         \n",
            " 5   user_pseudo_id            1975 non-null   object        \n",
            " 6   privacy_info              1975 non-null   object        \n",
            " 7   user_ltv                  1975 non-null   object        \n",
            " 8   device                    1975 non-null   object        \n",
            " 9   geo                       1975 non-null   object        \n",
            " 10  traffic_source            1975 non-null   object        \n",
            " 11  platform                  1975 non-null   object        \n",
            " 12  ecommerce                 1975 non-null   object        \n",
            " 13  items                     1975 non-null   object        \n",
            " 14  n_engagements             1975 non-null   int64         \n",
            "dtypes: Int64(1), datetime64[ns](1), float64(1), int64(1), object(11)\n",
            "memory usage: 248.8+ KB\n"
          ]
        }
      ]
    },
    {
      "cell_type": "code",
      "source": [
        "df1=df_grouped[df_grouped['event_value_in_usd']>0]\n",
        "df1['event_name'].value_counts()"
      ],
      "metadata": {
        "colab": {
          "base_uri": "https://localhost:8080/"
        },
        "id": "lvvQXFaTT_X6",
        "outputId": "34dbf4b5-1dcb-4d02-fe19-3f91959a06a2"
      },
      "execution_count": null,
      "outputs": [
        {
          "output_type": "execute_result",
          "data": {
            "text/plain": [
              "purchase    1831\n",
              "Name: event_name, dtype: int64"
            ]
          },
          "metadata": {},
          "execution_count": 16
        }
      ]
    },
    {
      "cell_type": "code",
      "source": [
        "df_grouped['event_value_in_usd'] = df_grouped['event_value_in_usd'].fillna(0)"
      ],
      "metadata": {
        "id": "8PxE00KHNV3N"
      },
      "execution_count": 22,
      "outputs": []
    },
    {
      "cell_type": "code",
      "source": [
        "df_grouped.head()"
      ],
      "metadata": {
        "id": "UeMpeLEIq_To",
        "colab": {
          "base_uri": "https://localhost:8080/",
          "height": 487
        },
        "outputId": "b5099dff-3492-4a72-c906-7794284b686f"
      },
      "execution_count": null,
      "outputs": [
        {
          "output_type": "execute_result",
          "data": {
            "text/plain": [
              "  event_date       event_name  \\\n",
              "0 2020-11-01  user_engagement   \n",
              "1 2020-11-01    session_start   \n",
              "2 2020-11-01  user_engagement   \n",
              "3 2020-11-01   view_promotion   \n",
              "4 2020-11-01        page_view   \n",
              "\n",
              "                                        event_params  event_value_in_usd  \\\n",
              "0  [{'key': 'source', 'value': {'string_value': '...                 0.0   \n",
              "1  [{'key': 'ga_session_number', 'value': {'strin...                 0.0   \n",
              "2  [{'key': 'debug_mode', 'value': {'string_value...                 0.0   \n",
              "3  [{'key': 'all_data', 'value': {'string_value':...                 0.0   \n",
              "4  [{'key': 'all_data', 'value': {'string_value':...                 0.0   \n",
              "\n",
              "   event_bundle_sequence_id      user_pseudo_id  \\\n",
              "0               -2628586713  1013442.5000387623   \n",
              "1               -1341154570  1013442.5000387623   \n",
              "2                7038273736  1013442.5000387623   \n",
              "3                  20088199  1013442.5000387623   \n",
              "4               -3423414439  1013442.5000387623   \n",
              "\n",
              "                                        privacy_info  \\\n",
              "0  {'analytics_storage': None, 'ads_storage': Non...   \n",
              "1  {'analytics_storage': None, 'ads_storage': Non...   \n",
              "2  {'analytics_storage': None, 'ads_storage': Non...   \n",
              "3  {'analytics_storage': None, 'ads_storage': Non...   \n",
              "4  {'analytics_storage': None, 'ads_storage': Non...   \n",
              "\n",
              "                              user_ltv  \\\n",
              "0  {'revenue': 0.0, 'currency': 'USD'}   \n",
              "1  {'revenue': 0.0, 'currency': 'USD'}   \n",
              "2  {'revenue': 0.0, 'currency': 'USD'}   \n",
              "3  {'revenue': 0.0, 'currency': 'USD'}   \n",
              "4  {'revenue': 0.0, 'currency': 'USD'}   \n",
              "\n",
              "                                              device  \\\n",
              "0  {'category': 'mobile', 'mobile_brand_name': 'S...   \n",
              "1  {'category': 'mobile', 'mobile_brand_name': 'S...   \n",
              "2  {'category': 'mobile', 'mobile_brand_name': 'S...   \n",
              "3  {'category': 'mobile', 'mobile_brand_name': 'S...   \n",
              "4  {'category': 'mobile', 'mobile_brand_name': 'S...   \n",
              "\n",
              "                                                 geo  \\\n",
              "0  {'continent': 'Americas', 'sub_continent': 'No...   \n",
              "1  {'continent': 'Americas', 'sub_continent': 'No...   \n",
              "2  {'continent': 'Americas', 'sub_continent': 'No...   \n",
              "3  {'continent': 'Americas', 'sub_continent': 'No...   \n",
              "4  {'continent': 'Americas', 'sub_continent': 'No...   \n",
              "\n",
              "                                      traffic_source platform  \\\n",
              "0  {'medium': '(none)', 'name': '(direct)', 'sour...      WEB   \n",
              "1  {'medium': '(none)', 'name': '(direct)', 'sour...      WEB   \n",
              "2  {'medium': '(none)', 'name': '(direct)', 'sour...      WEB   \n",
              "3  {'medium': '(none)', 'name': '(direct)', 'sour...      WEB   \n",
              "4  {'medium': '(none)', 'name': '(direct)', 'sour...      WEB   \n",
              "\n",
              "                                           ecommerce items  \n",
              "0  {'total_item_quantity': None, 'purchase_revenu...    []  \n",
              "1  {'total_item_quantity': None, 'purchase_revenu...    []  \n",
              "2  {'total_item_quantity': None, 'purchase_revenu...    []  \n",
              "3  {'total_item_quantity': None, 'purchase_revenu...    []  \n",
              "4  {'total_item_quantity': None, 'purchase_revenu...    []  "
            ],
            "text/html": [
              "\n",
              "  <div id=\"df-b6567994-e249-42d9-b508-877e5aed451b\" class=\"colab-df-container\">\n",
              "    <div>\n",
              "<style scoped>\n",
              "    .dataframe tbody tr th:only-of-type {\n",
              "        vertical-align: middle;\n",
              "    }\n",
              "\n",
              "    .dataframe tbody tr th {\n",
              "        vertical-align: top;\n",
              "    }\n",
              "\n",
              "    .dataframe thead th {\n",
              "        text-align: right;\n",
              "    }\n",
              "</style>\n",
              "<table border=\"1\" class=\"dataframe\">\n",
              "  <thead>\n",
              "    <tr style=\"text-align: right;\">\n",
              "      <th></th>\n",
              "      <th>event_date</th>\n",
              "      <th>event_name</th>\n",
              "      <th>event_params</th>\n",
              "      <th>event_value_in_usd</th>\n",
              "      <th>event_bundle_sequence_id</th>\n",
              "      <th>user_pseudo_id</th>\n",
              "      <th>privacy_info</th>\n",
              "      <th>user_ltv</th>\n",
              "      <th>device</th>\n",
              "      <th>geo</th>\n",
              "      <th>traffic_source</th>\n",
              "      <th>platform</th>\n",
              "      <th>ecommerce</th>\n",
              "      <th>items</th>\n",
              "    </tr>\n",
              "  </thead>\n",
              "  <tbody>\n",
              "    <tr>\n",
              "      <th>0</th>\n",
              "      <td>2020-11-01</td>\n",
              "      <td>user_engagement</td>\n",
              "      <td>[{'key': 'source', 'value': {'string_value': '...</td>\n",
              "      <td>0.0</td>\n",
              "      <td>-2628586713</td>\n",
              "      <td>1013442.5000387623</td>\n",
              "      <td>{'analytics_storage': None, 'ads_storage': Non...</td>\n",
              "      <td>{'revenue': 0.0, 'currency': 'USD'}</td>\n",
              "      <td>{'category': 'mobile', 'mobile_brand_name': 'S...</td>\n",
              "      <td>{'continent': 'Americas', 'sub_continent': 'No...</td>\n",
              "      <td>{'medium': '(none)', 'name': '(direct)', 'sour...</td>\n",
              "      <td>WEB</td>\n",
              "      <td>{'total_item_quantity': None, 'purchase_revenu...</td>\n",
              "      <td>[]</td>\n",
              "    </tr>\n",
              "    <tr>\n",
              "      <th>1</th>\n",
              "      <td>2020-11-01</td>\n",
              "      <td>session_start</td>\n",
              "      <td>[{'key': 'ga_session_number', 'value': {'strin...</td>\n",
              "      <td>0.0</td>\n",
              "      <td>-1341154570</td>\n",
              "      <td>1013442.5000387623</td>\n",
              "      <td>{'analytics_storage': None, 'ads_storage': Non...</td>\n",
              "      <td>{'revenue': 0.0, 'currency': 'USD'}</td>\n",
              "      <td>{'category': 'mobile', 'mobile_brand_name': 'S...</td>\n",
              "      <td>{'continent': 'Americas', 'sub_continent': 'No...</td>\n",
              "      <td>{'medium': '(none)', 'name': '(direct)', 'sour...</td>\n",
              "      <td>WEB</td>\n",
              "      <td>{'total_item_quantity': None, 'purchase_revenu...</td>\n",
              "      <td>[]</td>\n",
              "    </tr>\n",
              "    <tr>\n",
              "      <th>2</th>\n",
              "      <td>2020-11-01</td>\n",
              "      <td>user_engagement</td>\n",
              "      <td>[{'key': 'debug_mode', 'value': {'string_value...</td>\n",
              "      <td>0.0</td>\n",
              "      <td>7038273736</td>\n",
              "      <td>1013442.5000387623</td>\n",
              "      <td>{'analytics_storage': None, 'ads_storage': Non...</td>\n",
              "      <td>{'revenue': 0.0, 'currency': 'USD'}</td>\n",
              "      <td>{'category': 'mobile', 'mobile_brand_name': 'S...</td>\n",
              "      <td>{'continent': 'Americas', 'sub_continent': 'No...</td>\n",
              "      <td>{'medium': '(none)', 'name': '(direct)', 'sour...</td>\n",
              "      <td>WEB</td>\n",
              "      <td>{'total_item_quantity': None, 'purchase_revenu...</td>\n",
              "      <td>[]</td>\n",
              "    </tr>\n",
              "    <tr>\n",
              "      <th>3</th>\n",
              "      <td>2020-11-01</td>\n",
              "      <td>view_promotion</td>\n",
              "      <td>[{'key': 'all_data', 'value': {'string_value':...</td>\n",
              "      <td>0.0</td>\n",
              "      <td>20088199</td>\n",
              "      <td>1013442.5000387623</td>\n",
              "      <td>{'analytics_storage': None, 'ads_storage': Non...</td>\n",
              "      <td>{'revenue': 0.0, 'currency': 'USD'}</td>\n",
              "      <td>{'category': 'mobile', 'mobile_brand_name': 'S...</td>\n",
              "      <td>{'continent': 'Americas', 'sub_continent': 'No...</td>\n",
              "      <td>{'medium': '(none)', 'name': '(direct)', 'sour...</td>\n",
              "      <td>WEB</td>\n",
              "      <td>{'total_item_quantity': None, 'purchase_revenu...</td>\n",
              "      <td>[]</td>\n",
              "    </tr>\n",
              "    <tr>\n",
              "      <th>4</th>\n",
              "      <td>2020-11-01</td>\n",
              "      <td>page_view</td>\n",
              "      <td>[{'key': 'all_data', 'value': {'string_value':...</td>\n",
              "      <td>0.0</td>\n",
              "      <td>-3423414439</td>\n",
              "      <td>1013442.5000387623</td>\n",
              "      <td>{'analytics_storage': None, 'ads_storage': Non...</td>\n",
              "      <td>{'revenue': 0.0, 'currency': 'USD'}</td>\n",
              "      <td>{'category': 'mobile', 'mobile_brand_name': 'S...</td>\n",
              "      <td>{'continent': 'Americas', 'sub_continent': 'No...</td>\n",
              "      <td>{'medium': '(none)', 'name': '(direct)', 'sour...</td>\n",
              "      <td>WEB</td>\n",
              "      <td>{'total_item_quantity': None, 'purchase_revenu...</td>\n",
              "      <td>[]</td>\n",
              "    </tr>\n",
              "  </tbody>\n",
              "</table>\n",
              "</div>\n",
              "    <div class=\"colab-df-buttons\">\n",
              "\n",
              "  <div class=\"colab-df-container\">\n",
              "    <button class=\"colab-df-convert\" onclick=\"convertToInteractive('df-b6567994-e249-42d9-b508-877e5aed451b')\"\n",
              "            title=\"Convert this dataframe to an interactive table.\"\n",
              "            style=\"display:none;\">\n",
              "\n",
              "  <svg xmlns=\"http://www.w3.org/2000/svg\" height=\"24px\" viewBox=\"0 -960 960 960\">\n",
              "    <path d=\"M120-120v-720h720v720H120Zm60-500h600v-160H180v160Zm220 220h160v-160H400v160Zm0 220h160v-160H400v160ZM180-400h160v-160H180v160Zm440 0h160v-160H620v160ZM180-180h160v-160H180v160Zm440 0h160v-160H620v160Z\"/>\n",
              "  </svg>\n",
              "    </button>\n",
              "\n",
              "  <style>\n",
              "    .colab-df-container {\n",
              "      display:flex;\n",
              "      gap: 12px;\n",
              "    }\n",
              "\n",
              "    .colab-df-convert {\n",
              "      background-color: #E8F0FE;\n",
              "      border: none;\n",
              "      border-radius: 50%;\n",
              "      cursor: pointer;\n",
              "      display: none;\n",
              "      fill: #1967D2;\n",
              "      height: 32px;\n",
              "      padding: 0 0 0 0;\n",
              "      width: 32px;\n",
              "    }\n",
              "\n",
              "    .colab-df-convert:hover {\n",
              "      background-color: #E2EBFA;\n",
              "      box-shadow: 0px 1px 2px rgba(60, 64, 67, 0.3), 0px 1px 3px 1px rgba(60, 64, 67, 0.15);\n",
              "      fill: #174EA6;\n",
              "    }\n",
              "\n",
              "    .colab-df-buttons div {\n",
              "      margin-bottom: 4px;\n",
              "    }\n",
              "\n",
              "    [theme=dark] .colab-df-convert {\n",
              "      background-color: #3B4455;\n",
              "      fill: #D2E3FC;\n",
              "    }\n",
              "\n",
              "    [theme=dark] .colab-df-convert:hover {\n",
              "      background-color: #434B5C;\n",
              "      box-shadow: 0px 1px 3px 1px rgba(0, 0, 0, 0.15);\n",
              "      filter: drop-shadow(0px 1px 2px rgba(0, 0, 0, 0.3));\n",
              "      fill: #FFFFFF;\n",
              "    }\n",
              "  </style>\n",
              "\n",
              "    <script>\n",
              "      const buttonEl =\n",
              "        document.querySelector('#df-b6567994-e249-42d9-b508-877e5aed451b button.colab-df-convert');\n",
              "      buttonEl.style.display =\n",
              "        google.colab.kernel.accessAllowed ? 'block' : 'none';\n",
              "\n",
              "      async function convertToInteractive(key) {\n",
              "        const element = document.querySelector('#df-b6567994-e249-42d9-b508-877e5aed451b');\n",
              "        const dataTable =\n",
              "          await google.colab.kernel.invokeFunction('convertToInteractive',\n",
              "                                                    [key], {});\n",
              "        if (!dataTable) return;\n",
              "\n",
              "        const docLinkHtml = 'Like what you see? Visit the ' +\n",
              "          '<a target=\"_blank\" href=https://colab.research.google.com/notebooks/data_table.ipynb>data table notebook</a>'\n",
              "          + ' to learn more about interactive tables.';\n",
              "        element.innerHTML = '';\n",
              "        dataTable['output_type'] = 'display_data';\n",
              "        await google.colab.output.renderOutput(dataTable, element);\n",
              "        const docLink = document.createElement('div');\n",
              "        docLink.innerHTML = docLinkHtml;\n",
              "        element.appendChild(docLink);\n",
              "      }\n",
              "    </script>\n",
              "  </div>\n",
              "\n",
              "\n",
              "<div id=\"df-ee42d2df-baeb-4193-9301-9514a3db3914\">\n",
              "  <button class=\"colab-df-quickchart\" onclick=\"quickchart('df-ee42d2df-baeb-4193-9301-9514a3db3914')\"\n",
              "            title=\"Suggest charts\"\n",
              "            style=\"display:none;\">\n",
              "\n",
              "<svg xmlns=\"http://www.w3.org/2000/svg\" height=\"24px\"viewBox=\"0 0 24 24\"\n",
              "     width=\"24px\">\n",
              "    <g>\n",
              "        <path d=\"M19 3H5c-1.1 0-2 .9-2 2v14c0 1.1.9 2 2 2h14c1.1 0 2-.9 2-2V5c0-1.1-.9-2-2-2zM9 17H7v-7h2v7zm4 0h-2V7h2v10zm4 0h-2v-4h2v4z\"/>\n",
              "    </g>\n",
              "</svg>\n",
              "  </button>\n",
              "\n",
              "<style>\n",
              "  .colab-df-quickchart {\n",
              "      --bg-color: #E8F0FE;\n",
              "      --fill-color: #1967D2;\n",
              "      --hover-bg-color: #E2EBFA;\n",
              "      --hover-fill-color: #174EA6;\n",
              "      --disabled-fill-color: #AAA;\n",
              "      --disabled-bg-color: #DDD;\n",
              "  }\n",
              "\n",
              "  [theme=dark] .colab-df-quickchart {\n",
              "      --bg-color: #3B4455;\n",
              "      --fill-color: #D2E3FC;\n",
              "      --hover-bg-color: #434B5C;\n",
              "      --hover-fill-color: #FFFFFF;\n",
              "      --disabled-bg-color: #3B4455;\n",
              "      --disabled-fill-color: #666;\n",
              "  }\n",
              "\n",
              "  .colab-df-quickchart {\n",
              "    background-color: var(--bg-color);\n",
              "    border: none;\n",
              "    border-radius: 50%;\n",
              "    cursor: pointer;\n",
              "    display: none;\n",
              "    fill: var(--fill-color);\n",
              "    height: 32px;\n",
              "    padding: 0;\n",
              "    width: 32px;\n",
              "  }\n",
              "\n",
              "  .colab-df-quickchart:hover {\n",
              "    background-color: var(--hover-bg-color);\n",
              "    box-shadow: 0 1px 2px rgba(60, 64, 67, 0.3), 0 1px 3px 1px rgba(60, 64, 67, 0.15);\n",
              "    fill: var(--button-hover-fill-color);\n",
              "  }\n",
              "\n",
              "  .colab-df-quickchart-complete:disabled,\n",
              "  .colab-df-quickchart-complete:disabled:hover {\n",
              "    background-color: var(--disabled-bg-color);\n",
              "    fill: var(--disabled-fill-color);\n",
              "    box-shadow: none;\n",
              "  }\n",
              "\n",
              "  .colab-df-spinner {\n",
              "    border: 2px solid var(--fill-color);\n",
              "    border-color: transparent;\n",
              "    border-bottom-color: var(--fill-color);\n",
              "    animation:\n",
              "      spin 1s steps(1) infinite;\n",
              "  }\n",
              "\n",
              "  @keyframes spin {\n",
              "    0% {\n",
              "      border-color: transparent;\n",
              "      border-bottom-color: var(--fill-color);\n",
              "      border-left-color: var(--fill-color);\n",
              "    }\n",
              "    20% {\n",
              "      border-color: transparent;\n",
              "      border-left-color: var(--fill-color);\n",
              "      border-top-color: var(--fill-color);\n",
              "    }\n",
              "    30% {\n",
              "      border-color: transparent;\n",
              "      border-left-color: var(--fill-color);\n",
              "      border-top-color: var(--fill-color);\n",
              "      border-right-color: var(--fill-color);\n",
              "    }\n",
              "    40% {\n",
              "      border-color: transparent;\n",
              "      border-right-color: var(--fill-color);\n",
              "      border-top-color: var(--fill-color);\n",
              "    }\n",
              "    60% {\n",
              "      border-color: transparent;\n",
              "      border-right-color: var(--fill-color);\n",
              "    }\n",
              "    80% {\n",
              "      border-color: transparent;\n",
              "      border-right-color: var(--fill-color);\n",
              "      border-bottom-color: var(--fill-color);\n",
              "    }\n",
              "    90% {\n",
              "      border-color: transparent;\n",
              "      border-bottom-color: var(--fill-color);\n",
              "    }\n",
              "  }\n",
              "</style>\n",
              "\n",
              "  <script>\n",
              "    async function quickchart(key) {\n",
              "      const quickchartButtonEl =\n",
              "        document.querySelector('#' + key + ' button');\n",
              "      quickchartButtonEl.disabled = true;  // To prevent multiple clicks.\n",
              "      quickchartButtonEl.classList.add('colab-df-spinner');\n",
              "      try {\n",
              "        const charts = await google.colab.kernel.invokeFunction(\n",
              "            'suggestCharts', [key], {});\n",
              "      } catch (error) {\n",
              "        console.error('Error during call to suggestCharts:', error);\n",
              "      }\n",
              "      quickchartButtonEl.classList.remove('colab-df-spinner');\n",
              "      quickchartButtonEl.classList.add('colab-df-quickchart-complete');\n",
              "    }\n",
              "    (() => {\n",
              "      let quickchartButtonEl =\n",
              "        document.querySelector('#df-ee42d2df-baeb-4193-9301-9514a3db3914 button');\n",
              "      quickchartButtonEl.style.display =\n",
              "        google.colab.kernel.accessAllowed ? 'block' : 'none';\n",
              "    })();\n",
              "  </script>\n",
              "</div>\n",
              "\n",
              "    </div>\n",
              "  </div>\n"
            ]
          },
          "metadata": {},
          "execution_count": 21
        }
      ]
    },
    {
      "cell_type": "code",
      "source": [
        "#as seen below, platform variable has a constant value which means we can delete it\n",
        "df_grouped['platform'].value_counts()"
      ],
      "metadata": {
        "colab": {
          "base_uri": "https://localhost:8080/"
        },
        "id": "j8ZHQDAc7nN7",
        "outputId": "cd04f114-7211-4481-829a-f1009cfd97bc"
      },
      "execution_count": null,
      "outputs": [
        {
          "output_type": "execute_result",
          "data": {
            "text/plain": [
              "WEB    1147914\n",
              "Name: platform, dtype: int64"
            ]
          },
          "metadata": {},
          "execution_count": 9
        }
      ]
    },
    {
      "cell_type": "code",
      "source": [
        "df_grouped.drop(['platform'], axis=1, inplace= True )"
      ],
      "metadata": {
        "id": "wDqxFoxVKMF2"
      },
      "execution_count": 46,
      "outputs": []
    },
    {
      "cell_type": "code",
      "source": [
        "df_grouped.drop(['items'], axis=1, inplace= True )#item column also has a constant value."
      ],
      "metadata": {
        "id": "MgRE6YYCRPf2"
      },
      "execution_count": 47,
      "outputs": []
    },
    {
      "cell_type": "markdown",
      "source": [
        "here I decompose columns with dictionaries to by creating two new features with the key names of these dictionaries.  "
      ],
      "metadata": {
        "id": "Xj1eAWWCS_v7"
      }
    },
    {
      "cell_type": "code",
      "source": [
        "df_grouped['medium'] = df['traffic_source'].apply(lambda x: x['medium'])\n",
        "df_grouped['name'] = df['traffic_source'].apply(lambda x: x['name'])\n",
        "\n",
        "# Delete the 'traffic_source' column\n",
        "df_grouped = df_grouped.drop('traffic_source', axis=1)\n"
      ],
      "metadata": {
        "id": "PxV2h8WfI1GS"
      },
      "execution_count": 48,
      "outputs": []
    },
    {
      "cell_type": "code",
      "source": [
        "df_grouped['analytics_storage'] = df['privacy_info'].apply(lambda x: x['analytics_storage'])\n",
        "df_grouped['ads_storage'] = df['privacy_info'].apply(lambda x: x['ads_storage'])\n",
        "\n",
        "# Delete the 'traffic_source' column\n",
        "df_grouped = df_grouped.drop('privacy_info', axis=1)\n"
      ],
      "metadata": {
        "id": "t9ckO8LSJ6Ml"
      },
      "execution_count": 49,
      "outputs": []
    },
    {
      "cell_type": "code",
      "source": [
        "print(df_grouped['analytics_storage'].value_counts())\n",
        "print(df_grouped['ads_storage'].value_counts())"
      ],
      "metadata": {
        "colab": {
          "base_uri": "https://localhost:8080/"
        },
        "id": "I038amAeKTlr",
        "outputId": "13db419b-35e3-4e4b-c325-bce5afd6e7f1"
      },
      "execution_count": 50,
      "outputs": [
        {
          "output_type": "stream",
          "name": "stdout",
          "text": [
            "Series([], Name: analytics_storage, dtype: int64)\n",
            "Series([], Name: ads_storage, dtype: int64)\n"
          ]
        }
      ]
    },
    {
      "cell_type": "code",
      "source": [
        "df_grouped = df_grouped.drop('analytics_storage', axis=1)\n",
        "df_grouped = df_grouped.drop('ads_storage', axis=1)\n"
      ],
      "metadata": {
        "id": "lWhOKbraKiFT"
      },
      "execution_count": 51,
      "outputs": []
    },
    {
      "cell_type": "code",
      "source": [
        "df_grouped['category'] = df['device'].apply(lambda x: x['category'])\n",
        "df_grouped['mobile_brand_name'] = df['device'].apply(lambda x: x['mobile_brand_name'])\n",
        "\n",
        "# Delete the 'traffic_source' column\n",
        "df_grouped = df_grouped.drop('device', axis=1)\n"
      ],
      "metadata": {
        "id": "DGUCgM94Akda"
      },
      "execution_count": 52,
      "outputs": []
    },
    {
      "cell_type": "code",
      "source": [
        "df_grouped['revenue'] = df['user_ltv'].apply(lambda x: x['revenue'])\n",
        "df_grouped['currency'] = df['user_ltv'].apply(lambda x: x['currency'])\n",
        "\n",
        "# Delete the 'traffic_source' column\n",
        "df_grouped = df_grouped.drop('user_ltv', axis=1)\n"
      ],
      "metadata": {
        "id": "3ZIxDqONBP_x"
      },
      "execution_count": 53,
      "outputs": []
    },
    {
      "cell_type": "code",
      "source": [
        "df_grouped['continent'] = df['geo'].apply(lambda x: x['continent'])\n",
        "df_grouped['sub_continent'] = df['geo'].apply(lambda x: x['sub_continent'])\n",
        "\n",
        "# Delete the 'traffic_source' column\n",
        "df_grouped = df_grouped.drop('geo', axis=1)\n"
      ],
      "metadata": {
        "id": "AzM8YqSrBqK9"
      },
      "execution_count": 54,
      "outputs": []
    },
    {
      "cell_type": "code",
      "source": [
        "df_grouped['total_item_quantity'] = df['ecommerce'].apply(lambda x: x['total_item_quantity'])\n",
        "df_grouped['purchase_revenue'] = df['ecommerce'].apply(lambda x: x['purchase_revenue'])\n",
        "\n",
        "# Delete the 'traffic_source' column\n",
        "df_grouped = df_grouped.drop('ecommerce', axis=1)\n"
      ],
      "metadata": {
        "id": "Xy5WQqC-B-07"
      },
      "execution_count": 55,
      "outputs": []
    },
    {
      "cell_type": "code",
      "source": [
        "#event_params also does not seem to reveal important information. so I delete it.\n",
        "df_grouped = df_grouped.drop('event_params', axis=1)\n"
      ],
      "metadata": {
        "id": "xkWvngVBLmwa"
      },
      "execution_count": 56,
      "outputs": []
    },
    {
      "cell_type": "code",
      "source": [
        "df_grouped.head(5)"
      ],
      "metadata": {
        "id": "DZrUPoRHJDzp",
        "colab": {
          "base_uri": "https://localhost:8080/",
          "height": 226
        },
        "outputId": "1d8ccc39-5bdc-4bf6-f1c7-b475ee0d6c13"
      },
      "execution_count": 58,
      "outputs": [
        {
          "output_type": "execute_result",
          "data": {
            "text/plain": [
              "  event_date       event_name  event_value_in_usd  event_bundle_sequence_id  \\\n",
              "0 2020-11-01  user_engagement                 NaN               -2628586713   \n",
              "1 2020-11-01    session_start                 NaN               -1341154570   \n",
              "2 2020-11-01  user_engagement                 NaN                7038273736   \n",
              "3 2020-11-01   view_promotion                 NaN                  20088199   \n",
              "4 2020-11-01        page_view                 NaN               -3423414439   \n",
              "\n",
              "       user_pseudo_id  n_engagements    medium        name category  \\\n",
              "0  1013442.5000387623              1  referral  (referral)  desktop   \n",
              "1  1013442.5000387623              2    (none)    (direct)   mobile   \n",
              "2  1013442.5000387623              3   <Other>     <Other>  desktop   \n",
              "3  1013442.5000387623              4    (none)    (direct)   mobile   \n",
              "4  1013442.5000387623              5   organic   (organic)   mobile   \n",
              "\n",
              "  mobile_brand_name  revenue currency continent     sub_continent  \\\n",
              "0            Google      0.0      USD    Africa   Northern Africa   \n",
              "1           Samsung      0.0      USD  Americas  Northern America   \n",
              "2            Google      0.0      USD  Americas  Northern America   \n",
              "3             Apple      0.0      USD  Americas  Northern America   \n",
              "4            Xiaomi      0.0      USD  Americas  Northern America   \n",
              "\n",
              "   total_item_quantity  purchase_revenue  \n",
              "0                  NaN               NaN  \n",
              "1                  NaN               NaN  \n",
              "2                  NaN               NaN  \n",
              "3                  NaN               NaN  \n",
              "4                  NaN               NaN  "
            ],
            "text/html": [
              "\n",
              "  <div id=\"df-8812a9aa-c203-47ab-ad9b-2348728f7d19\" class=\"colab-df-container\">\n",
              "    <div>\n",
              "<style scoped>\n",
              "    .dataframe tbody tr th:only-of-type {\n",
              "        vertical-align: middle;\n",
              "    }\n",
              "\n",
              "    .dataframe tbody tr th {\n",
              "        vertical-align: top;\n",
              "    }\n",
              "\n",
              "    .dataframe thead th {\n",
              "        text-align: right;\n",
              "    }\n",
              "</style>\n",
              "<table border=\"1\" class=\"dataframe\">\n",
              "  <thead>\n",
              "    <tr style=\"text-align: right;\">\n",
              "      <th></th>\n",
              "      <th>event_date</th>\n",
              "      <th>event_name</th>\n",
              "      <th>event_value_in_usd</th>\n",
              "      <th>event_bundle_sequence_id</th>\n",
              "      <th>user_pseudo_id</th>\n",
              "      <th>n_engagements</th>\n",
              "      <th>medium</th>\n",
              "      <th>name</th>\n",
              "      <th>category</th>\n",
              "      <th>mobile_brand_name</th>\n",
              "      <th>revenue</th>\n",
              "      <th>currency</th>\n",
              "      <th>continent</th>\n",
              "      <th>sub_continent</th>\n",
              "      <th>total_item_quantity</th>\n",
              "      <th>purchase_revenue</th>\n",
              "    </tr>\n",
              "  </thead>\n",
              "  <tbody>\n",
              "    <tr>\n",
              "      <th>0</th>\n",
              "      <td>2020-11-01</td>\n",
              "      <td>user_engagement</td>\n",
              "      <td>NaN</td>\n",
              "      <td>-2628586713</td>\n",
              "      <td>1013442.5000387623</td>\n",
              "      <td>1</td>\n",
              "      <td>referral</td>\n",
              "      <td>(referral)</td>\n",
              "      <td>desktop</td>\n",
              "      <td>Google</td>\n",
              "      <td>0.0</td>\n",
              "      <td>USD</td>\n",
              "      <td>Africa</td>\n",
              "      <td>Northern Africa</td>\n",
              "      <td>NaN</td>\n",
              "      <td>NaN</td>\n",
              "    </tr>\n",
              "    <tr>\n",
              "      <th>1</th>\n",
              "      <td>2020-11-01</td>\n",
              "      <td>session_start</td>\n",
              "      <td>NaN</td>\n",
              "      <td>-1341154570</td>\n",
              "      <td>1013442.5000387623</td>\n",
              "      <td>2</td>\n",
              "      <td>(none)</td>\n",
              "      <td>(direct)</td>\n",
              "      <td>mobile</td>\n",
              "      <td>Samsung</td>\n",
              "      <td>0.0</td>\n",
              "      <td>USD</td>\n",
              "      <td>Americas</td>\n",
              "      <td>Northern America</td>\n",
              "      <td>NaN</td>\n",
              "      <td>NaN</td>\n",
              "    </tr>\n",
              "    <tr>\n",
              "      <th>2</th>\n",
              "      <td>2020-11-01</td>\n",
              "      <td>user_engagement</td>\n",
              "      <td>NaN</td>\n",
              "      <td>7038273736</td>\n",
              "      <td>1013442.5000387623</td>\n",
              "      <td>3</td>\n",
              "      <td>&lt;Other&gt;</td>\n",
              "      <td>&lt;Other&gt;</td>\n",
              "      <td>desktop</td>\n",
              "      <td>Google</td>\n",
              "      <td>0.0</td>\n",
              "      <td>USD</td>\n",
              "      <td>Americas</td>\n",
              "      <td>Northern America</td>\n",
              "      <td>NaN</td>\n",
              "      <td>NaN</td>\n",
              "    </tr>\n",
              "    <tr>\n",
              "      <th>3</th>\n",
              "      <td>2020-11-01</td>\n",
              "      <td>view_promotion</td>\n",
              "      <td>NaN</td>\n",
              "      <td>20088199</td>\n",
              "      <td>1013442.5000387623</td>\n",
              "      <td>4</td>\n",
              "      <td>(none)</td>\n",
              "      <td>(direct)</td>\n",
              "      <td>mobile</td>\n",
              "      <td>Apple</td>\n",
              "      <td>0.0</td>\n",
              "      <td>USD</td>\n",
              "      <td>Americas</td>\n",
              "      <td>Northern America</td>\n",
              "      <td>NaN</td>\n",
              "      <td>NaN</td>\n",
              "    </tr>\n",
              "    <tr>\n",
              "      <th>4</th>\n",
              "      <td>2020-11-01</td>\n",
              "      <td>page_view</td>\n",
              "      <td>NaN</td>\n",
              "      <td>-3423414439</td>\n",
              "      <td>1013442.5000387623</td>\n",
              "      <td>5</td>\n",
              "      <td>organic</td>\n",
              "      <td>(organic)</td>\n",
              "      <td>mobile</td>\n",
              "      <td>Xiaomi</td>\n",
              "      <td>0.0</td>\n",
              "      <td>USD</td>\n",
              "      <td>Americas</td>\n",
              "      <td>Northern America</td>\n",
              "      <td>NaN</td>\n",
              "      <td>NaN</td>\n",
              "    </tr>\n",
              "  </tbody>\n",
              "</table>\n",
              "</div>\n",
              "    <div class=\"colab-df-buttons\">\n",
              "\n",
              "  <div class=\"colab-df-container\">\n",
              "    <button class=\"colab-df-convert\" onclick=\"convertToInteractive('df-8812a9aa-c203-47ab-ad9b-2348728f7d19')\"\n",
              "            title=\"Convert this dataframe to an interactive table.\"\n",
              "            style=\"display:none;\">\n",
              "\n",
              "  <svg xmlns=\"http://www.w3.org/2000/svg\" height=\"24px\" viewBox=\"0 -960 960 960\">\n",
              "    <path d=\"M120-120v-720h720v720H120Zm60-500h600v-160H180v160Zm220 220h160v-160H400v160Zm0 220h160v-160H400v160ZM180-400h160v-160H180v160Zm440 0h160v-160H620v160ZM180-180h160v-160H180v160Zm440 0h160v-160H620v160Z\"/>\n",
              "  </svg>\n",
              "    </button>\n",
              "\n",
              "  <style>\n",
              "    .colab-df-container {\n",
              "      display:flex;\n",
              "      gap: 12px;\n",
              "    }\n",
              "\n",
              "    .colab-df-convert {\n",
              "      background-color: #E8F0FE;\n",
              "      border: none;\n",
              "      border-radius: 50%;\n",
              "      cursor: pointer;\n",
              "      display: none;\n",
              "      fill: #1967D2;\n",
              "      height: 32px;\n",
              "      padding: 0 0 0 0;\n",
              "      width: 32px;\n",
              "    }\n",
              "\n",
              "    .colab-df-convert:hover {\n",
              "      background-color: #E2EBFA;\n",
              "      box-shadow: 0px 1px 2px rgba(60, 64, 67, 0.3), 0px 1px 3px 1px rgba(60, 64, 67, 0.15);\n",
              "      fill: #174EA6;\n",
              "    }\n",
              "\n",
              "    .colab-df-buttons div {\n",
              "      margin-bottom: 4px;\n",
              "    }\n",
              "\n",
              "    [theme=dark] .colab-df-convert {\n",
              "      background-color: #3B4455;\n",
              "      fill: #D2E3FC;\n",
              "    }\n",
              "\n",
              "    [theme=dark] .colab-df-convert:hover {\n",
              "      background-color: #434B5C;\n",
              "      box-shadow: 0px 1px 3px 1px rgba(0, 0, 0, 0.15);\n",
              "      filter: drop-shadow(0px 1px 2px rgba(0, 0, 0, 0.3));\n",
              "      fill: #FFFFFF;\n",
              "    }\n",
              "  </style>\n",
              "\n",
              "    <script>\n",
              "      const buttonEl =\n",
              "        document.querySelector('#df-8812a9aa-c203-47ab-ad9b-2348728f7d19 button.colab-df-convert');\n",
              "      buttonEl.style.display =\n",
              "        google.colab.kernel.accessAllowed ? 'block' : 'none';\n",
              "\n",
              "      async function convertToInteractive(key) {\n",
              "        const element = document.querySelector('#df-8812a9aa-c203-47ab-ad9b-2348728f7d19');\n",
              "        const dataTable =\n",
              "          await google.colab.kernel.invokeFunction('convertToInteractive',\n",
              "                                                    [key], {});\n",
              "        if (!dataTable) return;\n",
              "\n",
              "        const docLinkHtml = 'Like what you see? Visit the ' +\n",
              "          '<a target=\"_blank\" href=https://colab.research.google.com/notebooks/data_table.ipynb>data table notebook</a>'\n",
              "          + ' to learn more about interactive tables.';\n",
              "        element.innerHTML = '';\n",
              "        dataTable['output_type'] = 'display_data';\n",
              "        await google.colab.output.renderOutput(dataTable, element);\n",
              "        const docLink = document.createElement('div');\n",
              "        docLink.innerHTML = docLinkHtml;\n",
              "        element.appendChild(docLink);\n",
              "      }\n",
              "    </script>\n",
              "  </div>\n",
              "\n",
              "\n",
              "<div id=\"df-e3ebeb99-04b4-4e36-ac42-81c16b7c19cc\">\n",
              "  <button class=\"colab-df-quickchart\" onclick=\"quickchart('df-e3ebeb99-04b4-4e36-ac42-81c16b7c19cc')\"\n",
              "            title=\"Suggest charts\"\n",
              "            style=\"display:none;\">\n",
              "\n",
              "<svg xmlns=\"http://www.w3.org/2000/svg\" height=\"24px\"viewBox=\"0 0 24 24\"\n",
              "     width=\"24px\">\n",
              "    <g>\n",
              "        <path d=\"M19 3H5c-1.1 0-2 .9-2 2v14c0 1.1.9 2 2 2h14c1.1 0 2-.9 2-2V5c0-1.1-.9-2-2-2zM9 17H7v-7h2v7zm4 0h-2V7h2v10zm4 0h-2v-4h2v4z\"/>\n",
              "    </g>\n",
              "</svg>\n",
              "  </button>\n",
              "\n",
              "<style>\n",
              "  .colab-df-quickchart {\n",
              "      --bg-color: #E8F0FE;\n",
              "      --fill-color: #1967D2;\n",
              "      --hover-bg-color: #E2EBFA;\n",
              "      --hover-fill-color: #174EA6;\n",
              "      --disabled-fill-color: #AAA;\n",
              "      --disabled-bg-color: #DDD;\n",
              "  }\n",
              "\n",
              "  [theme=dark] .colab-df-quickchart {\n",
              "      --bg-color: #3B4455;\n",
              "      --fill-color: #D2E3FC;\n",
              "      --hover-bg-color: #434B5C;\n",
              "      --hover-fill-color: #FFFFFF;\n",
              "      --disabled-bg-color: #3B4455;\n",
              "      --disabled-fill-color: #666;\n",
              "  }\n",
              "\n",
              "  .colab-df-quickchart {\n",
              "    background-color: var(--bg-color);\n",
              "    border: none;\n",
              "    border-radius: 50%;\n",
              "    cursor: pointer;\n",
              "    display: none;\n",
              "    fill: var(--fill-color);\n",
              "    height: 32px;\n",
              "    padding: 0;\n",
              "    width: 32px;\n",
              "  }\n",
              "\n",
              "  .colab-df-quickchart:hover {\n",
              "    background-color: var(--hover-bg-color);\n",
              "    box-shadow: 0 1px 2px rgba(60, 64, 67, 0.3), 0 1px 3px 1px rgba(60, 64, 67, 0.15);\n",
              "    fill: var(--button-hover-fill-color);\n",
              "  }\n",
              "\n",
              "  .colab-df-quickchart-complete:disabled,\n",
              "  .colab-df-quickchart-complete:disabled:hover {\n",
              "    background-color: var(--disabled-bg-color);\n",
              "    fill: var(--disabled-fill-color);\n",
              "    box-shadow: none;\n",
              "  }\n",
              "\n",
              "  .colab-df-spinner {\n",
              "    border: 2px solid var(--fill-color);\n",
              "    border-color: transparent;\n",
              "    border-bottom-color: var(--fill-color);\n",
              "    animation:\n",
              "      spin 1s steps(1) infinite;\n",
              "  }\n",
              "\n",
              "  @keyframes spin {\n",
              "    0% {\n",
              "      border-color: transparent;\n",
              "      border-bottom-color: var(--fill-color);\n",
              "      border-left-color: var(--fill-color);\n",
              "    }\n",
              "    20% {\n",
              "      border-color: transparent;\n",
              "      border-left-color: var(--fill-color);\n",
              "      border-top-color: var(--fill-color);\n",
              "    }\n",
              "    30% {\n",
              "      border-color: transparent;\n",
              "      border-left-color: var(--fill-color);\n",
              "      border-top-color: var(--fill-color);\n",
              "      border-right-color: var(--fill-color);\n",
              "    }\n",
              "    40% {\n",
              "      border-color: transparent;\n",
              "      border-right-color: var(--fill-color);\n",
              "      border-top-color: var(--fill-color);\n",
              "    }\n",
              "    60% {\n",
              "      border-color: transparent;\n",
              "      border-right-color: var(--fill-color);\n",
              "    }\n",
              "    80% {\n",
              "      border-color: transparent;\n",
              "      border-right-color: var(--fill-color);\n",
              "      border-bottom-color: var(--fill-color);\n",
              "    }\n",
              "    90% {\n",
              "      border-color: transparent;\n",
              "      border-bottom-color: var(--fill-color);\n",
              "    }\n",
              "  }\n",
              "</style>\n",
              "\n",
              "  <script>\n",
              "    async function quickchart(key) {\n",
              "      const quickchartButtonEl =\n",
              "        document.querySelector('#' + key + ' button');\n",
              "      quickchartButtonEl.disabled = true;  // To prevent multiple clicks.\n",
              "      quickchartButtonEl.classList.add('colab-df-spinner');\n",
              "      try {\n",
              "        const charts = await google.colab.kernel.invokeFunction(\n",
              "            'suggestCharts', [key], {});\n",
              "      } catch (error) {\n",
              "        console.error('Error during call to suggestCharts:', error);\n",
              "      }\n",
              "      quickchartButtonEl.classList.remove('colab-df-spinner');\n",
              "      quickchartButtonEl.classList.add('colab-df-quickchart-complete');\n",
              "    }\n",
              "    (() => {\n",
              "      let quickchartButtonEl =\n",
              "        document.querySelector('#df-e3ebeb99-04b4-4e36-ac42-81c16b7c19cc button');\n",
              "      quickchartButtonEl.style.display =\n",
              "        google.colab.kernel.accessAllowed ? 'block' : 'none';\n",
              "    })();\n",
              "  </script>\n",
              "</div>\n",
              "\n",
              "    </div>\n",
              "  </div>\n"
            ]
          },
          "metadata": {},
          "execution_count": 58
        }
      ]
    },
    {
      "cell_type": "code",
      "source": [
        "df_grouped = df_grouped.drop(['total_item_quantity', 'event_value_in_usd', 'purchase_revenue', 'event_bundle_sequence_id','event_bundle_sequence_id'], axis=1)\n"
      ],
      "metadata": {
        "id": "sJLmftz4UTXx"
      },
      "execution_count": 60,
      "outputs": []
    },
    {
      "cell_type": "markdown",
      "source": [
        "**Feature Engineering**\n",
        "\n",
        "\n",
        "here I create three new features out of the existing event_name feature. each of the last three clicks before the last event of each session will be stored as a feature in the dataset."
      ],
      "metadata": {
        "id": "d5SSQhaqYaWn"
      }
    },
    {
      "cell_type": "code",
      "source": [
        "df_grouped['event_name_L1'] = df_grouped.groupby(['event_date', 'user_pseudo_id'])['event_name'].shift(1)\n",
        "df_grouped['event_name_L2'] = df_grouped.groupby(['event_date', 'user_pseudo_id'])['event_name'].shift(2)\n",
        "df_grouped['event_name_L3'] = df_grouped.groupby(['event_date', 'user_pseudo_id'])['event_name'].shift(3)\n"
      ],
      "metadata": {
        "id": "AZLswtz_wL69"
      },
      "execution_count": 61,
      "outputs": []
    },
    {
      "cell_type": "code",
      "source": [
        "df_grouped.info()"
      ],
      "metadata": {
        "colab": {
          "base_uri": "https://localhost:8080/"
        },
        "id": "DUbwJtprMlo8",
        "outputId": "04873233-4ecd-4c8b-a857-f9448b71be28"
      },
      "execution_count": 36,
      "outputs": [
        {
          "output_type": "stream",
          "name": "stdout",
          "text": [
            "<class 'pandas.core.frame.DataFrame'>\n",
            "RangeIndex: 1147914 entries, 0 to 1147913\n",
            "Data columns (total 16 columns):\n",
            " #   Column              Non-Null Count    Dtype         \n",
            "---  ------              --------------    -----         \n",
            " 0   event_date          1147914 non-null  datetime64[ns]\n",
            " 1   event_name          1147914 non-null  object        \n",
            " 2   event_value_in_usd  1147914 non-null  float64       \n",
            " 3   user_pseudo_id      1147914 non-null  object        \n",
            " 4   n_engagements       1147914 non-null  int64         \n",
            " 5   medium              1147914 non-null  object        \n",
            " 6   name                1147914 non-null  object        \n",
            " 7   category            1147914 non-null  object        \n",
            " 8   mobile_brand_name   1147914 non-null  object        \n",
            " 9   revenue             1147914 non-null  float64       \n",
            " 10  currency            1147914 non-null  object        \n",
            " 11  continent           1147914 non-null  object        \n",
            " 12  sub_continent       1147914 non-null  object        \n",
            " 13  event_name_L1       1053837 non-null  object        \n",
            " 14  event_name_L2       959760 non-null   object        \n",
            " 15  event_name_L3       865683 non-null   object        \n",
            "dtypes: datetime64[ns](1), float64(2), int64(1), object(12)\n",
            "memory usage: 140.1+ MB\n"
          ]
        }
      ]
    },
    {
      "cell_type": "code",
      "source": [
        "df_grouped.dropna(inplace=True)\n"
      ],
      "metadata": {
        "id": "d63BToL-NB_f"
      },
      "execution_count": 62,
      "outputs": []
    },
    {
      "cell_type": "code",
      "source": [
        "df_grouped.info()"
      ],
      "metadata": {
        "colab": {
          "base_uri": "https://localhost:8080/"
        },
        "id": "Szz6208uP8Q5",
        "outputId": "5faa3593-c994-40cd-96d3-a9a5828dd803"
      },
      "execution_count": 63,
      "outputs": [
        {
          "output_type": "stream",
          "name": "stdout",
          "text": [
            "<class 'pandas.core.frame.DataFrame'>\n",
            "Int64Index: 865683 entries, 3 to 1147913\n",
            "Data columns (total 15 columns):\n",
            " #   Column             Non-Null Count   Dtype         \n",
            "---  ------             --------------   -----         \n",
            " 0   event_date         865683 non-null  datetime64[ns]\n",
            " 1   event_name         865683 non-null  object        \n",
            " 2   user_pseudo_id     865683 non-null  object        \n",
            " 3   n_engagements      865683 non-null  int64         \n",
            " 4   medium             865683 non-null  object        \n",
            " 5   name               865683 non-null  object        \n",
            " 6   category           865683 non-null  object        \n",
            " 7   mobile_brand_name  865683 non-null  object        \n",
            " 8   revenue            865683 non-null  float64       \n",
            " 9   currency           865683 non-null  object        \n",
            " 10  continent          865683 non-null  object        \n",
            " 11  sub_continent      865683 non-null  object        \n",
            " 12  event_name_L1      865683 non-null  object        \n",
            " 13  event_name_L2      865683 non-null  object        \n",
            " 14  event_name_L3      865683 non-null  object        \n",
            "dtypes: datetime64[ns](1), float64(1), int64(1), object(12)\n",
            "memory usage: 105.7+ MB\n"
          ]
        }
      ]
    },
    {
      "cell_type": "code",
      "source": [
        "df_grouped.head(100)"
      ],
      "metadata": {
        "id": "Xr9FBriTCJ0f"
      },
      "execution_count": null,
      "outputs": []
    },
    {
      "cell_type": "code",
      "source": [
        "df_grouped['currency'].value_counts()"
      ],
      "metadata": {
        "colab": {
          "base_uri": "https://localhost:8080/"
        },
        "id": "LQvWaG5rUuq_",
        "outputId": "fec3bf7e-6fa7-4209-aeba-97e84401db01"
      },
      "execution_count": 39,
      "outputs": [
        {
          "output_type": "execute_result",
          "data": {
            "text/plain": [
              "USD    865683\n",
              "Name: currency, dtype: int64"
            ]
          },
          "metadata": {},
          "execution_count": 39
        }
      ]
    },
    {
      "cell_type": "code",
      "source": [
        "df_grouped.drop(['currency'], axis=1, inplace= True )"
      ],
      "metadata": {
        "id": "lN4A08hwU5Ye"
      },
      "execution_count": 64,
      "outputs": []
    },
    {
      "cell_type": "markdown",
      "source": [
        "now we can also delete event_date, user_pseudo_id columns and event_value_in_usd"
      ],
      "metadata": {
        "id": "fflxK-Q4Y0N0"
      }
    },
    {
      "cell_type": "code",
      "source": [
        "df_grouped.drop(['user_pseudo_id','event_date','revenue'], axis=1, inplace= True )"
      ],
      "metadata": {
        "id": "SYJVqT30QMAz"
      },
      "execution_count": 65,
      "outputs": []
    },
    {
      "cell_type": "code",
      "source": [
        "df_grouped.head()"
      ],
      "metadata": {
        "id": "OyFMGNe_Z8Ft",
        "colab": {
          "base_uri": "https://localhost:8080/",
          "height": 244
        },
        "outputId": "4e5abc6f-0a26-4cfe-d0be-897107f206ed"
      },
      "execution_count": 66,
      "outputs": [
        {
          "output_type": "execute_result",
          "data": {
            "text/plain": [
              "         event_name  n_engagements          medium            name category  \\\n",
              "3    view_promotion              4          (none)        (direct)   mobile   \n",
              "4         page_view              5         organic       (organic)   mobile   \n",
              "5       first_visit              6         organic       (organic)  desktop   \n",
              "9         page_view              4         <Other>         <Other>   mobile   \n",
              "10  user_engagement              5  (data deleted)  (data deleted)   mobile   \n",
              "\n",
              "   mobile_brand_name continent     sub_continent    event_name_L1  \\\n",
              "3              Apple  Americas  Northern America  user_engagement   \n",
              "4             Xiaomi  Americas  Northern America   view_promotion   \n",
              "5              Apple    Europe   Northern Europe        page_view   \n",
              "9            Samsung    Africa   Northern Africa        page_view   \n",
              "10             Apple      Asia    Southeast Asia        page_view   \n",
              "\n",
              "      event_name_L2    event_name_L3  \n",
              "3     session_start  user_engagement  \n",
              "4   user_engagement    session_start  \n",
              "5    view_promotion  user_engagement  \n",
              "9            scroll      first_visit  \n",
              "10        page_view           scroll  "
            ],
            "text/html": [
              "\n",
              "  <div id=\"df-c2643463-dd52-4b07-b8c5-38dcdf4d654e\" class=\"colab-df-container\">\n",
              "    <div>\n",
              "<style scoped>\n",
              "    .dataframe tbody tr th:only-of-type {\n",
              "        vertical-align: middle;\n",
              "    }\n",
              "\n",
              "    .dataframe tbody tr th {\n",
              "        vertical-align: top;\n",
              "    }\n",
              "\n",
              "    .dataframe thead th {\n",
              "        text-align: right;\n",
              "    }\n",
              "</style>\n",
              "<table border=\"1\" class=\"dataframe\">\n",
              "  <thead>\n",
              "    <tr style=\"text-align: right;\">\n",
              "      <th></th>\n",
              "      <th>event_name</th>\n",
              "      <th>n_engagements</th>\n",
              "      <th>medium</th>\n",
              "      <th>name</th>\n",
              "      <th>category</th>\n",
              "      <th>mobile_brand_name</th>\n",
              "      <th>continent</th>\n",
              "      <th>sub_continent</th>\n",
              "      <th>event_name_L1</th>\n",
              "      <th>event_name_L2</th>\n",
              "      <th>event_name_L3</th>\n",
              "    </tr>\n",
              "  </thead>\n",
              "  <tbody>\n",
              "    <tr>\n",
              "      <th>3</th>\n",
              "      <td>view_promotion</td>\n",
              "      <td>4</td>\n",
              "      <td>(none)</td>\n",
              "      <td>(direct)</td>\n",
              "      <td>mobile</td>\n",
              "      <td>Apple</td>\n",
              "      <td>Americas</td>\n",
              "      <td>Northern America</td>\n",
              "      <td>user_engagement</td>\n",
              "      <td>session_start</td>\n",
              "      <td>user_engagement</td>\n",
              "    </tr>\n",
              "    <tr>\n",
              "      <th>4</th>\n",
              "      <td>page_view</td>\n",
              "      <td>5</td>\n",
              "      <td>organic</td>\n",
              "      <td>(organic)</td>\n",
              "      <td>mobile</td>\n",
              "      <td>Xiaomi</td>\n",
              "      <td>Americas</td>\n",
              "      <td>Northern America</td>\n",
              "      <td>view_promotion</td>\n",
              "      <td>user_engagement</td>\n",
              "      <td>session_start</td>\n",
              "    </tr>\n",
              "    <tr>\n",
              "      <th>5</th>\n",
              "      <td>first_visit</td>\n",
              "      <td>6</td>\n",
              "      <td>organic</td>\n",
              "      <td>(organic)</td>\n",
              "      <td>desktop</td>\n",
              "      <td>Apple</td>\n",
              "      <td>Europe</td>\n",
              "      <td>Northern Europe</td>\n",
              "      <td>page_view</td>\n",
              "      <td>view_promotion</td>\n",
              "      <td>user_engagement</td>\n",
              "    </tr>\n",
              "    <tr>\n",
              "      <th>9</th>\n",
              "      <td>page_view</td>\n",
              "      <td>4</td>\n",
              "      <td>&lt;Other&gt;</td>\n",
              "      <td>&lt;Other&gt;</td>\n",
              "      <td>mobile</td>\n",
              "      <td>Samsung</td>\n",
              "      <td>Africa</td>\n",
              "      <td>Northern Africa</td>\n",
              "      <td>page_view</td>\n",
              "      <td>scroll</td>\n",
              "      <td>first_visit</td>\n",
              "    </tr>\n",
              "    <tr>\n",
              "      <th>10</th>\n",
              "      <td>user_engagement</td>\n",
              "      <td>5</td>\n",
              "      <td>(data deleted)</td>\n",
              "      <td>(data deleted)</td>\n",
              "      <td>mobile</td>\n",
              "      <td>Apple</td>\n",
              "      <td>Asia</td>\n",
              "      <td>Southeast Asia</td>\n",
              "      <td>page_view</td>\n",
              "      <td>page_view</td>\n",
              "      <td>scroll</td>\n",
              "    </tr>\n",
              "  </tbody>\n",
              "</table>\n",
              "</div>\n",
              "    <div class=\"colab-df-buttons\">\n",
              "\n",
              "  <div class=\"colab-df-container\">\n",
              "    <button class=\"colab-df-convert\" onclick=\"convertToInteractive('df-c2643463-dd52-4b07-b8c5-38dcdf4d654e')\"\n",
              "            title=\"Convert this dataframe to an interactive table.\"\n",
              "            style=\"display:none;\">\n",
              "\n",
              "  <svg xmlns=\"http://www.w3.org/2000/svg\" height=\"24px\" viewBox=\"0 -960 960 960\">\n",
              "    <path d=\"M120-120v-720h720v720H120Zm60-500h600v-160H180v160Zm220 220h160v-160H400v160Zm0 220h160v-160H400v160ZM180-400h160v-160H180v160Zm440 0h160v-160H620v160ZM180-180h160v-160H180v160Zm440 0h160v-160H620v160Z\"/>\n",
              "  </svg>\n",
              "    </button>\n",
              "\n",
              "  <style>\n",
              "    .colab-df-container {\n",
              "      display:flex;\n",
              "      gap: 12px;\n",
              "    }\n",
              "\n",
              "    .colab-df-convert {\n",
              "      background-color: #E8F0FE;\n",
              "      border: none;\n",
              "      border-radius: 50%;\n",
              "      cursor: pointer;\n",
              "      display: none;\n",
              "      fill: #1967D2;\n",
              "      height: 32px;\n",
              "      padding: 0 0 0 0;\n",
              "      width: 32px;\n",
              "    }\n",
              "\n",
              "    .colab-df-convert:hover {\n",
              "      background-color: #E2EBFA;\n",
              "      box-shadow: 0px 1px 2px rgba(60, 64, 67, 0.3), 0px 1px 3px 1px rgba(60, 64, 67, 0.15);\n",
              "      fill: #174EA6;\n",
              "    }\n",
              "\n",
              "    .colab-df-buttons div {\n",
              "      margin-bottom: 4px;\n",
              "    }\n",
              "\n",
              "    [theme=dark] .colab-df-convert {\n",
              "      background-color: #3B4455;\n",
              "      fill: #D2E3FC;\n",
              "    }\n",
              "\n",
              "    [theme=dark] .colab-df-convert:hover {\n",
              "      background-color: #434B5C;\n",
              "      box-shadow: 0px 1px 3px 1px rgba(0, 0, 0, 0.15);\n",
              "      filter: drop-shadow(0px 1px 2px rgba(0, 0, 0, 0.3));\n",
              "      fill: #FFFFFF;\n",
              "    }\n",
              "  </style>\n",
              "\n",
              "    <script>\n",
              "      const buttonEl =\n",
              "        document.querySelector('#df-c2643463-dd52-4b07-b8c5-38dcdf4d654e button.colab-df-convert');\n",
              "      buttonEl.style.display =\n",
              "        google.colab.kernel.accessAllowed ? 'block' : 'none';\n",
              "\n",
              "      async function convertToInteractive(key) {\n",
              "        const element = document.querySelector('#df-c2643463-dd52-4b07-b8c5-38dcdf4d654e');\n",
              "        const dataTable =\n",
              "          await google.colab.kernel.invokeFunction('convertToInteractive',\n",
              "                                                    [key], {});\n",
              "        if (!dataTable) return;\n",
              "\n",
              "        const docLinkHtml = 'Like what you see? Visit the ' +\n",
              "          '<a target=\"_blank\" href=https://colab.research.google.com/notebooks/data_table.ipynb>data table notebook</a>'\n",
              "          + ' to learn more about interactive tables.';\n",
              "        element.innerHTML = '';\n",
              "        dataTable['output_type'] = 'display_data';\n",
              "        await google.colab.output.renderOutput(dataTable, element);\n",
              "        const docLink = document.createElement('div');\n",
              "        docLink.innerHTML = docLinkHtml;\n",
              "        element.appendChild(docLink);\n",
              "      }\n",
              "    </script>\n",
              "  </div>\n",
              "\n",
              "\n",
              "<div id=\"df-00b94ceb-f053-473e-9faa-2f065620d1fe\">\n",
              "  <button class=\"colab-df-quickchart\" onclick=\"quickchart('df-00b94ceb-f053-473e-9faa-2f065620d1fe')\"\n",
              "            title=\"Suggest charts\"\n",
              "            style=\"display:none;\">\n",
              "\n",
              "<svg xmlns=\"http://www.w3.org/2000/svg\" height=\"24px\"viewBox=\"0 0 24 24\"\n",
              "     width=\"24px\">\n",
              "    <g>\n",
              "        <path d=\"M19 3H5c-1.1 0-2 .9-2 2v14c0 1.1.9 2 2 2h14c1.1 0 2-.9 2-2V5c0-1.1-.9-2-2-2zM9 17H7v-7h2v7zm4 0h-2V7h2v10zm4 0h-2v-4h2v4z\"/>\n",
              "    </g>\n",
              "</svg>\n",
              "  </button>\n",
              "\n",
              "<style>\n",
              "  .colab-df-quickchart {\n",
              "      --bg-color: #E8F0FE;\n",
              "      --fill-color: #1967D2;\n",
              "      --hover-bg-color: #E2EBFA;\n",
              "      --hover-fill-color: #174EA6;\n",
              "      --disabled-fill-color: #AAA;\n",
              "      --disabled-bg-color: #DDD;\n",
              "  }\n",
              "\n",
              "  [theme=dark] .colab-df-quickchart {\n",
              "      --bg-color: #3B4455;\n",
              "      --fill-color: #D2E3FC;\n",
              "      --hover-bg-color: #434B5C;\n",
              "      --hover-fill-color: #FFFFFF;\n",
              "      --disabled-bg-color: #3B4455;\n",
              "      --disabled-fill-color: #666;\n",
              "  }\n",
              "\n",
              "  .colab-df-quickchart {\n",
              "    background-color: var(--bg-color);\n",
              "    border: none;\n",
              "    border-radius: 50%;\n",
              "    cursor: pointer;\n",
              "    display: none;\n",
              "    fill: var(--fill-color);\n",
              "    height: 32px;\n",
              "    padding: 0;\n",
              "    width: 32px;\n",
              "  }\n",
              "\n",
              "  .colab-df-quickchart:hover {\n",
              "    background-color: var(--hover-bg-color);\n",
              "    box-shadow: 0 1px 2px rgba(60, 64, 67, 0.3), 0 1px 3px 1px rgba(60, 64, 67, 0.15);\n",
              "    fill: var(--button-hover-fill-color);\n",
              "  }\n",
              "\n",
              "  .colab-df-quickchart-complete:disabled,\n",
              "  .colab-df-quickchart-complete:disabled:hover {\n",
              "    background-color: var(--disabled-bg-color);\n",
              "    fill: var(--disabled-fill-color);\n",
              "    box-shadow: none;\n",
              "  }\n",
              "\n",
              "  .colab-df-spinner {\n",
              "    border: 2px solid var(--fill-color);\n",
              "    border-color: transparent;\n",
              "    border-bottom-color: var(--fill-color);\n",
              "    animation:\n",
              "      spin 1s steps(1) infinite;\n",
              "  }\n",
              "\n",
              "  @keyframes spin {\n",
              "    0% {\n",
              "      border-color: transparent;\n",
              "      border-bottom-color: var(--fill-color);\n",
              "      border-left-color: var(--fill-color);\n",
              "    }\n",
              "    20% {\n",
              "      border-color: transparent;\n",
              "      border-left-color: var(--fill-color);\n",
              "      border-top-color: var(--fill-color);\n",
              "    }\n",
              "    30% {\n",
              "      border-color: transparent;\n",
              "      border-left-color: var(--fill-color);\n",
              "      border-top-color: var(--fill-color);\n",
              "      border-right-color: var(--fill-color);\n",
              "    }\n",
              "    40% {\n",
              "      border-color: transparent;\n",
              "      border-right-color: var(--fill-color);\n",
              "      border-top-color: var(--fill-color);\n",
              "    }\n",
              "    60% {\n",
              "      border-color: transparent;\n",
              "      border-right-color: var(--fill-color);\n",
              "    }\n",
              "    80% {\n",
              "      border-color: transparent;\n",
              "      border-right-color: var(--fill-color);\n",
              "      border-bottom-color: var(--fill-color);\n",
              "    }\n",
              "    90% {\n",
              "      border-color: transparent;\n",
              "      border-bottom-color: var(--fill-color);\n",
              "    }\n",
              "  }\n",
              "</style>\n",
              "\n",
              "  <script>\n",
              "    async function quickchart(key) {\n",
              "      const quickchartButtonEl =\n",
              "        document.querySelector('#' + key + ' button');\n",
              "      quickchartButtonEl.disabled = true;  // To prevent multiple clicks.\n",
              "      quickchartButtonEl.classList.add('colab-df-spinner');\n",
              "      try {\n",
              "        const charts = await google.colab.kernel.invokeFunction(\n",
              "            'suggestCharts', [key], {});\n",
              "      } catch (error) {\n",
              "        console.error('Error during call to suggestCharts:', error);\n",
              "      }\n",
              "      quickchartButtonEl.classList.remove('colab-df-spinner');\n",
              "      quickchartButtonEl.classList.add('colab-df-quickchart-complete');\n",
              "    }\n",
              "    (() => {\n",
              "      let quickchartButtonEl =\n",
              "        document.querySelector('#df-00b94ceb-f053-473e-9faa-2f065620d1fe button');\n",
              "      quickchartButtonEl.style.display =\n",
              "        google.colab.kernel.accessAllowed ? 'block' : 'none';\n",
              "    })();\n",
              "  </script>\n",
              "</div>\n",
              "\n",
              "    </div>\n",
              "  </div>\n"
            ]
          },
          "metadata": {},
          "execution_count": 66
        }
      ]
    },
    {
      "cell_type": "markdown",
      "source": [
        "There are 17 different events in event_name column. Purchase is the desired outcome and it is stored in event_name column. The desired outcome is the purchase event. So I choose purchase as the target and label it as 1 and leave others as 0."
      ],
      "metadata": {
        "id": "pX2Q5rqJZ4wC"
      }
    },
    {
      "cell_type": "code",
      "source": [
        "# prompt: out of event_name columns, create a new colum with the name 'purchase' and write 1 if the event is 'purchase' otherwise 0\n",
        "\n",
        "df_grouped['purchase'] = df_grouped['event_name'].apply(lambda x: 1 if x=='purchase' else 0)\n",
        "df_grouped.drop('event_name', axis=1, inplace=True)"
      ],
      "metadata": {
        "id": "ksxNYwAhaBsi"
      },
      "execution_count": 67,
      "outputs": []
    },
    {
      "cell_type": "code",
      "source": [
        "df_grouped.info()"
      ],
      "metadata": {
        "colab": {
          "base_uri": "https://localhost:8080/"
        },
        "id": "1zy1hTXQaSAi",
        "outputId": "93b6fcf2-9e65-4d2c-dc58-d7da51001cc5"
      },
      "execution_count": 73,
      "outputs": [
        {
          "output_type": "stream",
          "name": "stdout",
          "text": [
            "<class 'pandas.core.frame.DataFrame'>\n",
            "Int64Index: 865683 entries, 3 to 1147913\n",
            "Data columns (total 11 columns):\n",
            " #   Column             Non-Null Count   Dtype \n",
            "---  ------             --------------   ----- \n",
            " 0   n_engagements      865683 non-null  int64 \n",
            " 1   medium             865683 non-null  object\n",
            " 2   name               865683 non-null  object\n",
            " 3   category           865683 non-null  object\n",
            " 4   mobile_brand_name  865683 non-null  object\n",
            " 5   continent          865683 non-null  object\n",
            " 6   sub_continent      865683 non-null  object\n",
            " 7   event_name_L1      865683 non-null  object\n",
            " 8   event_name_L2      865683 non-null  object\n",
            " 9   event_name_L3      865683 non-null  object\n",
            " 10  purchase           865683 non-null  int64 \n",
            "dtypes: int64(2), object(9)\n",
            "memory usage: 79.3+ MB\n"
          ]
        }
      ]
    },
    {
      "cell_type": "markdown",
      "source": [
        "**Visualization of major features**\n",
        "\n",
        "Except engagement feature, all the features are categorical. I will first check the target 'purchase' feature to observe a possible imbalance."
      ],
      "metadata": {
        "id": "1_cAEkP5Y6KG"
      }
    },
    {
      "cell_type": "code",
      "source": [
        "#as seen below, purchase distribution is highly imbalanced\n",
        "df_grouped['purchase'].value_counts().plot(kind='bar')\n",
        "\n",
        "plt.title('Purchase Distribution')\n",
        "plt.xlabel('Purchase')\n",
        "plt.ylabel('Count')\n",
        "\n",
        "plt.show()"
      ],
      "metadata": {
        "colab": {
          "base_uri": "https://localhost:8080/",
          "height": 467
        },
        "id": "yUfuTnz4Z7xZ",
        "outputId": "6e2a59f5-f3b6-4ef1-97ac-f813d29d2978"
      },
      "execution_count": 72,
      "outputs": [
        {
          "output_type": "display_data",
          "data": {
            "text/plain": [
              "<Figure size 640x480 with 1 Axes>"
            ],
            "image/png": "[encoded data removed]"
          },
          "metadata": {}
        }
      ]
    },
    {
      "cell_type": "code",
      "source": [
        "df_grouped['n_engagements'].plot(kind='hist', bins=200)\n",
        "\n",
        "# Set the plot title and axis labels\n",
        "plt.title('Engagement Distribution')\n",
        "plt.xlabel('Engagement')\n",
        "plt.ylabel('Frequency')\n",
        "\n",
        "# Display the plot\n",
        "plt.show()\n"
      ],
      "metadata": {
        "colab": {
          "base_uri": "https://localhost:8080/",
          "height": 472
        },
        "id": "1YKME6YJaYqX",
        "outputId": "85de652e-3522-4be6-9b3d-934b31f3f696"
      },
      "execution_count": 81,
      "outputs": [
        {
          "output_type": "display_data",
          "data": {
            "text/plain": [
              "<Figure size 640x480 with 1 Axes>"
            ],
            "image/png": "[encoded data removed]"
          },
          "metadata": {}
        }
      ]
    },
    {
      "cell_type": "markdown",
      "source": [
        "majority of the engagements are smaller than 10."
      ],
      "metadata": {
        "id": "5r3BuhVebRkS"
      }
    },
    {
      "cell_type": "code",
      "source": [
        "#as seen below, purchase distribution is highly imbalanced\n",
        "df_grouped['event_name_L1'].value_counts().plot(kind='bar')\n",
        "\n",
        "plt.title('event_name_L1 Distribution')\n",
        "plt.xlabel('event_name_L1')\n",
        "plt.ylabel('Count')\n",
        "\n",
        "plt.show()"
      ],
      "metadata": {
        "colab": {
          "base_uri": "https://localhost:8080/",
          "height": 596
        },
        "id": "ClpqAmV6bXVA",
        "outputId": "73235515-58a1-4c33-95bd-1d1f77894e4b"
      },
      "execution_count": 82,
      "outputs": [
        {
          "output_type": "display_data",
          "data": {
            "text/plain": [
              "<Figure size 640x480 with 1 Axes>"
            ],
            "image/png": "[encoded data removed]"
          },
          "metadata": {}
        }
      ]
    },
    {
      "cell_type": "markdown",
      "source": [
        "majority of the engagements are page_views and scroll. notably, very few of them are purchase"
      ],
      "metadata": {
        "id": "rYP6Yq2Bbh1G"
      }
    },
    {
      "cell_type": "code",
      "source": [
        "#as seen below, purchase distribution is highly imbalanced\n",
        "df_grouped['continent'].value_counts().plot(kind='bar')\n",
        "\n",
        "plt.title('continent Distribution')\n",
        "plt.xlabel('continent')\n",
        "plt.ylabel('Count')\n",
        "\n",
        "plt.show()"
      ],
      "metadata": {
        "colab": {
          "base_uri": "https://localhost:8080/",
          "height": 522
        },
        "id": "2aHt2Bd5cACh",
        "outputId": "3917743d-8cea-4ec2-93b2-25d22b5ad48f"
      },
      "execution_count": 84,
      "outputs": [
        {
          "output_type": "display_data",
          "data": {
            "text/plain": [
              "<Figure size 640x480 with 1 Axes>"
            ],
            "image/png": "[encoded data removed]"
          },
          "metadata": {}
        }
      ]
    },
    {
      "cell_type": "markdown",
      "source": [
        "Americas dominate the continent representation followed by Asia and Europe"
      ],
      "metadata": {
        "id": "BoMtHsc3cD2-"
      }
    },
    {
      "cell_type": "code",
      "source": [],
      "metadata": {
        "id": "tguMDZs5cCtv"
      },
      "execution_count": null,
      "outputs": []
    },
    {
      "cell_type": "code",
      "source": [
        "path = '/content/drive/My Drive/df_grouped_ga4.pkl'\n",
        "df_grouped.to_pickle(path)\n"
      ],
      "metadata": {
        "id": "WnXD3KcObOc0"
      },
      "execution_count": null,
      "outputs": []
    },
    {
      "cell_type": "code",
      "source": [
        "path = '/content/drive/My Drive/df_grouped_ga4.pkl'\n",
        "df_grouped=pd.read_pickle(path)"
      ],
      "metadata": {
        "id": "OPMyqZ3u_yXZ"
      },
      "execution_count": null,
      "outputs": []
    },
    {
      "cell_type": "markdown",
      "source": [
        "**Predicting Model Building with Catboost**\n",
        "\n",
        "I will build a catboost model for attribution modelling. My purpose is to understand which features are importont in predicting the 'purchase' event."
      ],
      "metadata": {
        "id": "z-xoy_vwAaJH"
      }
    },
    {
      "cell_type": "markdown",
      "source": [
        "* Test-Train Split"
      ],
      "metadata": {
        "id": "-s8kU_NiBTgl"
      }
    },
    {
      "cell_type": "code",
      "source": [
        "df_grouped.info()"
      ],
      "metadata": {
        "colab": {
          "base_uri": "https://localhost:8080/"
        },
        "id": "-Y_z4PV-J84g",
        "outputId": "9cf77e67-56cc-454e-e108-fa1c8abbbce4"
      },
      "execution_count": null,
      "outputs": [
        {
          "output_type": "stream",
          "name": "stdout",
          "text": [
            "<class 'pandas.core.frame.DataFrame'>\n",
            "Int64Index: 865683 entries, 3 to 1147913\n",
            "Data columns (total 11 columns):\n",
            " #   Column             Non-Null Count   Dtype   \n",
            "---  ------             --------------   -----   \n",
            " 0   n_engagements      865683 non-null  int64   \n",
            " 1   medium             865683 non-null  category\n",
            " 2   name               865683 non-null  category\n",
            " 3   category           865683 non-null  category\n",
            " 4   mobile_brand_name  865683 non-null  category\n",
            " 5   continent          865683 non-null  category\n",
            " 6   sub_continent      865683 non-null  category\n",
            " 7   event_name_L1      865683 non-null  category\n",
            " 8   event_name_L2      865683 non-null  category\n",
            " 9   event_name_L3      865683 non-null  category\n",
            " 10  purchase           865683 non-null  category\n",
            "dtypes: category(10), int64(1)\n",
            "memory usage: 21.5 MB\n"
          ]
        }
      ]
    },
    {
      "cell_type": "code",
      "source": [
        "df_grouped=df_grouped.astype('category')\n",
        "df_grouped['n_engagements']=df_grouped['n_engagements'].astype('int')"
      ],
      "metadata": {
        "id": "0yasO6INJu1b"
      },
      "execution_count": null,
      "outputs": []
    },
    {
      "cell_type": "code",
      "source": [
        "X = df_grouped.drop('purchase', axis=1)\n",
        "y = df_grouped['purchase']\n",
        "\n",
        "X_train, X_test, y_train, y_test = train_test_split(X, y, test_size=0.2, stratify=y)"
      ],
      "metadata": {
        "id": "Ov9rLXaM_-gy"
      },
      "execution_count": null,
      "outputs": []
    },
    {
      "cell_type": "code",
      "source": [
        "categorical_features = ['name', 'category', 'mobile_brand_name', 'continent', 'sub_continent',\n",
        "                        'event_name_L1', 'event_name_L2', 'event_name_L3', 'medium']\n"
      ],
      "metadata": {
        "id": "4TimaTplHrz2"
      },
      "execution_count": null,
      "outputs": []
    },
    {
      "cell_type": "code",
      "source": [
        "\n",
        "params = {\n",
        "    'iterations': [ 500, 600],\n",
        "    'depth': [ 8, 10,12],\n",
        "    'learning_rate': [ 0.05,0.01],\n",
        "    'l2_leaf_reg': [1, 3, 5],\n",
        "    'auto_class_weights': ['Balanced']\n",
        "\n",
        "}\n",
        "\n",
        "cv = StratifiedKFold(n_splits=2)\n",
        "\n",
        "clf = CatBoostClassifier(cat_features=categorical_features, task_type='GPU')\n",
        "search1 = RandomizedSearchCV(clf, param_distributions=params, n_iter=8, cv=cv, scoring='recall')\n",
        "search1.fit(X_train, y_train)"
      ],
      "metadata": {
        "id": "Cm2II7wtBZ5s"
      },
      "execution_count": null,
      "outputs": []
    },
    {
      "cell_type": "code",
      "source": [
        "\n",
        "best_estimator = search1.best_estimator_\n",
        "\n",
        "# Training set\n",
        "y_train_pred = best_estimator.predict(X_train)\n",
        "train_recall_score = recall_score(y_train, y_train_pred)\n",
        "\n",
        "# Cross-validation\n",
        "cv_result = search1.best_score_\n",
        "\n",
        "# Test set\n",
        "y_pred = best_estimator.predict(X_test)\n",
        "test_recall_score = recall_score(y_test, y_pred)\n",
        "\n",
        "print(f\"Train F1 Score: {train_recall_score:.2f}\")\n",
        "print(f\"Mean CV F1 Score: {cv_result:.2f}\")\n",
        "print(f\"Test F1 Score: {test_recall_score:.2f}\")\n",
        "\n",
        "print(\"Best Parameters:\", search1.best_params_)"
      ],
      "metadata": {
        "colab": {
          "base_uri": "https://localhost:8080/"
        },
        "id": "KyG6dQQFKOQr",
        "outputId": "0857c20d-5efb-48ea-8b10-ee0853b52925"
      },
      "execution_count": null,
      "outputs": [
        {
          "output_type": "stream",
          "name": "stdout",
          "text": [
            "Train F1 Score: 0.78\n",
            "Mean CV F1 Score: 0.21\n",
            "Test F1 Score: 0.46\n",
            "Best Parameters: {'learning_rate': 0.01, 'l2_leaf_reg': 5, 'iterations': 600, 'depth': 8, 'auto_class_weights': 'Balanced'}\n"
          ]
        }
      ]
    },
    {
      "cell_type": "code",
      "source": [
        "\n",
        "params = {\n",
        "    'iterations': [ 600,700],\n",
        "    'depth': [ 8, 6],\n",
        "    'learning_rate': [0.01, 0.005],\n",
        "    'l2_leaf_reg': [ 5,6],\n",
        "    'auto_class_weights': ['Balanced']\n",
        "\n",
        "}\n",
        "\n",
        "cv = StratifiedKFold(n_splits=2)\n",
        "\n",
        "clf = CatBoostClassifier(cat_features=categorical_features, task_type='GPU')\n",
        "search2 = RandomizedSearchCV(clf, param_distributions=params, n_iter=8, cv=cv, scoring='recall')\n",
        "search2.fit(X_train, y_train)"
      ],
      "metadata": {
        "id": "q8eP9gAklLiu"
      },
      "execution_count": null,
      "outputs": []
    },
    {
      "cell_type": "code",
      "source": [
        "\n",
        "best_estimator = search2.best_estimator_\n",
        "\n",
        "# Training set\n",
        "y_train_pred = best_estimator.predict(X_train)\n",
        "train_recall_score = recall_score(y_train, y_train_pred)\n",
        "\n",
        "# Cross-validation\n",
        "cv_result = search2.best_score_\n",
        "\n",
        "# Test set\n",
        "y_pred = best_estimator.predict(X_test)\n",
        "test_recall_score = recall_score(y_test, y_pred)\n",
        "\n",
        "print(f\"Train F1 Score: {train_recall_score:.2f}\")\n",
        "print(f\"Mean CV F1 Score: {cv_result:.2f}\")\n",
        "print(f\"Test F1 Score: {test_recall_score:.2f}\")\n",
        "\n",
        "print(\"Best Parameters:\", search2.best_params_)"
      ],
      "metadata": {
        "colab": {
          "base_uri": "https://localhost:8080/"
        },
        "id": "vqQgDTlklq66",
        "outputId": "63427d2e-f3ba-4869-9728-bcd00e3da3c1"
      },
      "execution_count": null,
      "outputs": [
        {
          "output_type": "stream",
          "name": "stdout",
          "text": [
            "Train F1 Score: 0.75\n",
            "Mean CV F1 Score: 0.64\n",
            "Test F1 Score: 0.69\n",
            "Best Parameters: {'learning_rate': 0.005, 'l2_leaf_reg': 6, 'iterations': 600, 'depth': 6, 'auto_class_weights': 'Balanced'}\n"
          ]
        }
      ]
    },
    {
      "cell_type": "markdown",
      "source": [
        "After several experiments, two of which I show here, I have created a good enough model which performs in similar performance for the test data as it does for the training data"
      ],
      "metadata": {
        "id": "ZRcyuDe5fEx9"
      }
    },
    {
      "cell_type": "markdown",
      "source": [
        "**Analysis of feature importance with Shap Values**"
      ],
      "metadata": {
        "id": "ghmUCZM5fXeP"
      }
    },
    {
      "cell_type": "code",
      "source": [
        "explainer = shap.Explainer(best_estimator)\n",
        "shap_values = explainer(X_train)\n",
        "shap.summary_plot(shap_values, X_train)\n",
        "\n",
        "\n"
      ],
      "metadata": {
        "colab": {
          "base_uri": "https://localhost:8080/",
          "height": 557
        },
        "id": "EFUP1aJ_qsKZ",
        "outputId": "19aaf9ac-fd5d-4ceb-a8b3-7d227769dce0"
      },
      "execution_count": null,
      "outputs": [
        {
          "output_type": "display_data",
          "data": {
            "text/plain": [
              "<Figure size 800x550 with 2 Axes>"
            ],
            "image/png": "[encoded data removed]"
          },
          "metadata": {}
        }
      ]
    },
    {
      "cell_type": "markdown",
      "source": [
        "Four features emerge as the most important features. These four features cause the biggest impact for the model's predictions. In the order of importance these are:\n",
        "\n",
        "1. n_engagements\n",
        "2. event_name_1\n",
        "3. event_name_2\n",
        "4. event_name_3\n",
        "\n",
        "These four features help us to understand which channels are the most important in understanding the customer's ad journey for a purchase.\n",
        "\n",
        "The most important feature is the number of engagements. As the engagements decrease, the possibility of purchase  also decreases. while an increase in engagements do not always increase the purchase outcome, still in majority of the cases there increase in engagements created the purchase outcome.\n",
        "\n",
        "Each of the last three engagements are also quite important in endangering the purchase evet. however, all of these features are categorical. That is why, I will visualize how different events in these clicks are associated with the purchase and non-purchase outcome.\n",
        "\n"
      ],
      "metadata": {
        "id": "VojFuLkwfcBs"
      }
    },
    {
      "cell_type": "markdown",
      "source": [],
      "metadata": {
        "id": "DjGXe-QLniQc"
      }
    },
    {
      "cell_type": "code",
      "source": [
        "df_grouped.info()"
      ],
      "metadata": {
        "colab": {
          "base_uri": "https://localhost:8080/"
        },
        "id": "N_fEfVs7oXEu",
        "outputId": "c4a47174-2e2b-4434-9502-840c8614f6d2"
      },
      "execution_count": 86,
      "outputs": [
        {
          "output_type": "stream",
          "name": "stdout",
          "text": [
            "<class 'pandas.core.frame.DataFrame'>\n",
            "Int64Index: 865683 entries, 3 to 1147913\n",
            "Data columns (total 11 columns):\n",
            " #   Column             Non-Null Count   Dtype \n",
            "---  ------             --------------   ----- \n",
            " 0   n_engagements      865683 non-null  int64 \n",
            " 1   medium             865683 non-null  object\n",
            " 2   name               865683 non-null  object\n",
            " 3   category           865683 non-null  object\n",
            " 4   mobile_brand_name  865683 non-null  object\n",
            " 5   continent          865683 non-null  object\n",
            " 6   sub_continent      865683 non-null  object\n",
            " 7   event_name_L1      865683 non-null  object\n",
            " 8   event_name_L2      865683 non-null  object\n",
            " 9   event_name_L3      865683 non-null  object\n",
            " 10  purchase           865683 non-null  int64 \n",
            "dtypes: int64(2), object(9)\n",
            "memory usage: 79.3+ MB\n"
          ]
        }
      ]
    },
    {
      "cell_type": "code",
      "source": [
        "import matplotlib.pyplot as plt\n",
        "\n",
        "# Calculate the distribution of 'purchase' for each unique value in 'event_name_L1'\n",
        "grouped_counts = df_grouped.groupby('event_name_L1')['purchase'].value_counts().unstack()\n",
        "\n",
        "# Normalize the counts to get proportions\n",
        "grouped_props = grouped_counts.div(grouped_counts.sum(axis=1), axis=0)\n",
        "\n",
        "# Plot the stacked bar plot\n",
        "grouped_props.plot(kind='bar', stacked=True)\n",
        "plt.xlabel('event_name_L1')\n",
        "plt.ylabel('Proportion')\n",
        "plt.title('Distribution of purchase by event_name_L1')\n",
        "plt.legend(['Not Purchased', 'Purchased'])\n",
        "plt.show()"
      ],
      "metadata": {
        "colab": {
          "base_uri": "https://localhost:8080/",
          "height": 596
        },
        "id": "MPLDOjU4og5G",
        "outputId": "1bf4320a-eab0-4eb0-82a7-7410d77db9ca"
      },
      "execution_count": 87,
      "outputs": [
        {
          "output_type": "display_data",
          "data": {
            "text/plain": [
              "<Figure size 640x480 with 1 Axes>"
            ],
            "image/png": "[encoded data removed]"
          },
          "metadata": {}
        }
      ]
    },
    {
      "cell_type": "code",
      "source": [
        "import matplotlib.pyplot as plt\n",
        "\n",
        "# Calculate the distribution of 'purchase' for each unique value in 'event_name_L1'\n",
        "grouped_counts = df_grouped.groupby('event_name_L2')['purchase'].value_counts().unstack()\n",
        "\n",
        "# Normalize the counts to get proportions\n",
        "grouped_props = grouped_counts.div(grouped_counts.sum(axis=1), axis=0)\n",
        "\n",
        "# Plot the stacked bar plot\n",
        "grouped_props.plot(kind='bar', stacked=True)\n",
        "plt.xlabel('event_name_L2')\n",
        "plt.ylabel('Proportion')\n",
        "plt.title('Distribution of purchase by event_name_L2')\n",
        "plt.legend(['Not Purchased', 'Purchased'])\n",
        "plt.show()"
      ],
      "metadata": {
        "colab": {
          "base_uri": "https://localhost:8080/",
          "height": 596
        },
        "id": "vTzZMyT2pFR8",
        "outputId": "8dd72f73-c2c6-4716-8f89-2ded0101b8d0"
      },
      "execution_count": 88,
      "outputs": [
        {
          "output_type": "display_data",
          "data": {
            "text/plain": [
              "<Figure size 640x480 with 1 Axes>"
            ],
            "image/png": "[encoded data removed]"
          },
          "metadata": {}
        }
      ]
    },
    {
      "cell_type": "code",
      "source": [
        "import matplotlib.pyplot as plt\n",
        "\n",
        "# Calculate the distribution of 'purchase' for each unique value in 'event_name_L1'\n",
        "grouped_counts = df_grouped.groupby('event_name_L3')['purchase'].value_counts().unstack()\n",
        "\n",
        "# Normalize the counts to get proportions\n",
        "grouped_props = grouped_counts.div(grouped_counts.sum(axis=1), axis=0)\n",
        "\n",
        "# Plot the stacked bar plot\n",
        "grouped_props.plot(kind='bar', stacked=True)\n",
        "plt.xlabel('event_name_L3')\n",
        "plt.ylabel('Proportion')\n",
        "plt.title('Distribution of purchase by event_name_L3')\n",
        "plt.legend(['Not Purchased', 'Purchased'])\n",
        "plt.show()"
      ],
      "metadata": {
        "colab": {
          "base_uri": "https://localhost:8080/",
          "height": 596
        },
        "id": "Yh5z63FnpVNv",
        "outputId": "f9e00937-ccf1-49b6-bb2d-c1fd34b90101"
      },
      "execution_count": 89,
      "outputs": [
        {
          "output_type": "display_data",
          "data": {
            "text/plain": [
              "<Figure size 640x480 with 1 Axes>"
            ],
            "image/png": "[encoded data removed]"
          },
          "metadata": {}
        }
      ]
    },
    {
      "cell_type": "markdown",
      "source": [
        "As revealed in stacked bar charts,\n",
        "in all the last three events before the last purchase event, 5 events emerge as the important ones to predict the purchase incidence. These are add_payment_info, add_shipping_info, add_to_cart, previous purchase and begin_checkout events. if any of these are present in especially the last click(the one with the highest shap value), the customer has a higher chances of making a purchase."
      ],
      "metadata": {
        "id": "Y_Kdqn_ps49Q"
      }
    },
    {
      "cell_type": "code",
      "source": [],
      "metadata": {
        "id": "oqDSWH0YpiZb"
      },
      "execution_count": null,
      "outputs": []
    }
  ]
}