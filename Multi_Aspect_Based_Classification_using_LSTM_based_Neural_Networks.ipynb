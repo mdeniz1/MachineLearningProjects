{
  "nbformat": 4,
  "nbformat_minor": 0,
  "metadata": {
    "colab": {
      "provenance": [],
      "gpuType": "V100",
      "machine_shape": "hm",
      "mount_file_id": "12EAQ2oVxbLgQwmqyoiwi30Bseh2srCSe",
      "authorship_tag": "ABX9TyMsTrg6aU6hkBvHz5jxROC8",
      "include_colab_link": true
    },
    "kernelspec": {
      "name": "python3",
      "display_name": "Python 3"
    },
    "language_info": {
      "name": "python"
    },
    "accelerator": "GPU"
  },
  "cells": [
    {
      "cell_type": "markdown",
      "metadata": {
        "id": "view-in-github",
        "colab_type": "text"
      },
      "source": [
        "<a href=\"https://colab.research.google.com/github/mdeniz1/datascienceprojects/blob/main/Multi_Aspect_Based_Classification_using_LSTM_based_Neural_Networks.ipynb\" target=\"_parent\"><img src=\"https://colab.research.google.com/assets/colab-badge.svg\" alt=\"Open In Colab\"/></a>"
      ]
    },
    {
      "cell_type": "markdown",
      "source": [
        "Multi-aspect based classification is performed in this notebook. Essentially, it works on a LSTM-based neural network model for multi-label aspect classification.\n",
        "\n",
        "In the training set, there can be multiple aspects for a sentence. Therefore, a model needs to predict multiple labels simultaneously or multiple models need to be created for multiple targets. I followed the first approach.\n",
        "\n",
        "To summarize what I have done in the notebook:\n",
        "\n",
        "Data cleaning and encoding:\n",
        "I noticed that the aspects in the training data were incorrectly encoded. For example, many aspects actually represented similar contexts. For instance, aspects like 'personnel,' 'service,' and 'attention' essentially provided information about the service received at a location. Considering the large dataset and the risk of losing nuances between these aspects, I decided to group them based on their meanings. I merged several aspects together. Additionally, I removed aspects with less than 25 occurrences in the dataset as trying to predict over 200 targets from a small dataset of around 900 instances would not yield good results.\n",
        "Training a multi-label bi-LSTM model and showcasing the results.\n",
        "I used the test set for testing the model, following the data cleaning and transformation process I performed in the first step."
      ],
      "metadata": {
        "id": "LZNrIgdzFrlL"
      }
    },
    {
      "cell_type": "code",
      "execution_count": null,
      "metadata": {
        "colab": {
          "base_uri": "https://localhost:8080/"
        },
        "id": "sgdRn8mMbZ1w",
        "outputId": "bbd9b483-8658-43c3-e869-f87875269584"
      },
      "outputs": [
        {
          "output_type": "stream",
          "name": "stderr",
          "text": [
            "[nltk_data] Downloading package stopwords to /root/nltk_data...\n",
            "[nltk_data]   Unzipping corpora/stopwords.zip.\n",
            "[nltk_data] Downloading package punkt to /root/nltk_data...\n",
            "[nltk_data]   Unzipping tokenizers/punkt.zip.\n"
          ]
        },
        {
          "output_type": "stream",
          "name": "stdout",
          "text": [
            "2.12.0\n",
            "[PhysicalDevice(name='/physical_device:GPU:0', device_type='GPU')]\n"
          ]
        }
      ],
      "source": [
        "import requests\n",
        "import pandas as pd\n",
        "pd.set_option('display.max_columns', None)\n",
        "pd.set_option('display.max_rows', None)\n",
        "import numpy as np\n",
        "import nltk\n",
        "nltk.download('stopwords')\n",
        "from nltk.corpus import stopwords\n",
        "nltk.download('punkt')\n",
        "from nltk.tokenize import word_tokenize, sent_tokenize\n",
        "import tensorflow as tf\n",
        "from tensorflow.keras.preprocessing.text import Tokenizer\n",
        "from tensorflow.keras.preprocessing.sequence import pad_sequences\n",
        "from tensorflow.keras.models import Sequential\n",
        "from tensorflow.keras.layers import Input, Embedding, Bidirectional, LSTM, Dense\n",
        "import requests\n",
        "from sklearn.model_selection import train_test_split\n",
        "print(tf.__version__)\n",
        "print(tf.config.list_physical_devices('GPU'))\n",
        "from tensorflow.keras.optimizers.legacy import Adam\n",
        "from tensorflow.keras.models import load_model\n",
        "from tensorflow.keras.layers import Dropout\n",
        "from tensorflow.keras.regularizers import l2\n",
        "from sklearn.metrics import precision_score, recall_score\n",
        "\n",
        "\n",
        "\n"
      ]
    },
    {
      "cell_type": "code",
      "source": [
        "\n",
        "\n",
        "url = 'https://github.com/yangheng95/ABSADatasets/raw/v2.0/datasets/apc_datasets/120.SemEval2016Task5/128.turkish/restaurants_train_turkish.xml.dat'\n",
        "response = requests.get(url)\n",
        "lines = response.text.splitlines()\n",
        "\n",
        "texts = []\n",
        "aspects = []\n",
        "sentiments = []\n",
        "\n",
        "for i in range(0, len(lines), 3):\n",
        "    text = lines[i].strip()\n",
        "    aspect = lines[i + 1].strip()\n",
        "    sentiment = lines[i + 2].strip()\n",
        "\n",
        "    texts.append(text)\n",
        "    aspects.append(aspect)\n",
        "    sentiments.append(sentiment)\n",
        "\n",
        "data = {'text': texts, 'aspect': aspects, 'sentiment': sentiments}\n",
        "df = pd.DataFrame(data)\n",
        "\n",
        "df['text'] = df.apply(lambda row: row['text'].replace('$T$', str(row['aspect'])), axis=1)\n",
        "\n",
        "\n"
      ],
      "metadata": {
        "id": "l0mqdcirbeb5"
      },
      "execution_count": null,
      "outputs": []
    },
    {
      "cell_type": "code",
      "source": [
        "df['text'] = df['text'].str.lower()\n",
        "df['aspect'] = df['aspect'].str.lower()\n",
        "df['text'] = df['text'].str.replace(r\"'\", '')\n",
        "df['aspect'] = df['aspect'].str.replace(r\"'\", '')\n",
        "df['text'] = df['text'].str.replace(r\"-\", '')\n",
        "df['aspect'] = df['aspect'].str.replace(r\"-\", '')\n",
        "df['text'] = df['text'].str.replace(r\"(\", '')\n",
        "df['aspect'] = df['aspect'].str.replace(r\"(\", '')\n",
        "df['text'] = df['text'].str.replace(r\")\", '')\n",
        "df['aspect'] = df['aspect'].str.replace(r\")\", '')\n"
      ],
      "metadata": {
        "id": "QO_pIqqYetNT",
        "colab": {
          "base_uri": "https://localhost:8080/"
        },
        "outputId": "22a96c89-376f-4edb-efd5-de384346cea3"
      },
      "execution_count": null,
      "outputs": [
        {
          "output_type": "stream",
          "name": "stderr",
          "text": [
            "<ipython-input-3-ac392c51a14c>:7: FutureWarning: The default value of regex will change from True to False in a future version. In addition, single character regular expressions will *not* be treated as literal strings when regex=True.\n",
            "  df['text'] = df['text'].str.replace(r\"(\", '')\n",
            "<ipython-input-3-ac392c51a14c>:8: FutureWarning: The default value of regex will change from True to False in a future version. In addition, single character regular expressions will *not* be treated as literal strings when regex=True.\n",
            "  df['aspect'] = df['aspect'].str.replace(r\"(\", '')\n",
            "<ipython-input-3-ac392c51a14c>:9: FutureWarning: The default value of regex will change from True to False in a future version. In addition, single character regular expressions will *not* be treated as literal strings when regex=True.\n",
            "  df['text'] = df['text'].str.replace(r\")\", '')\n",
            "<ipython-input-3-ac392c51a14c>:10: FutureWarning: The default value of regex will change from True to False in a future version. In addition, single character regular expressions will *not* be treated as literal strings when regex=True.\n",
            "  df['aspect'] = df['aspect'].str.replace(r\")\", '')\n"
          ]
        }
      ]
    },
    {
      "cell_type": "code",
      "source": [
        "aspect_num=df['aspect'].nunique()\n",
        "aspect_num"
      ],
      "metadata": {
        "colab": {
          "base_uri": "https://localhost:8080/"
        },
        "id": "efX9HlqwbgwN",
        "outputId": "69b3221e-6937-4fa9-d9fc-f38019de68cb"
      },
      "execution_count": null,
      "outputs": [
        {
          "output_type": "execute_result",
          "data": {
            "text/plain": [
              "838"
            ]
          },
          "metadata": {},
          "execution_count": 4
        }
      ]
    },
    {
      "cell_type": "code",
      "source": [],
      "metadata": {
        "id": "vYpGz8Cfb4nO"
      },
      "execution_count": null,
      "outputs": []
    },
    {
      "cell_type": "code",
      "source": [
        "df = df.drop('sentiment', axis=1)\n",
        "df.drop(691, axis=0, inplace=True) # similar aspect for the same sentence\n",
        "df.drop(732, axis=0, inplace=True) #repeating aspect for the same sentence\n",
        "\n",
        "\n",
        "\n"
      ],
      "metadata": {
        "id": "fbm7Ewok6tzk"
      },
      "execution_count": null,
      "outputs": []
    },
    {
      "cell_type": "code",
      "source": [
        "df['aspect'] = df['aspect'].astype(str)\n",
        "df['text'] = df['text'].astype(str)\n",
        "\n",
        "df.info()"
      ],
      "metadata": {
        "id": "lFcutW3I_yvH",
        "colab": {
          "base_uri": "https://localhost:8080/"
        },
        "outputId": "d3adadc6-5c32-4282-97ce-1f30cc857663"
      },
      "execution_count": null,
      "outputs": [
        {
          "output_type": "stream",
          "name": "stdout",
          "text": [
            "<class 'pandas.core.frame.DataFrame'>\n",
            "Int64Index: 1383 entries, 0 to 1384\n",
            "Data columns (total 2 columns):\n",
            " #   Column  Non-Null Count  Dtype \n",
            "---  ------  --------------  ----- \n",
            " 0   text    1383 non-null   object\n",
            " 1   aspect  1383 non-null   object\n",
            "dtypes: object(2)\n",
            "memory usage: 32.4+ KB\n"
          ]
        }
      ]
    },
    {
      "cell_type": "markdown",
      "source": [
        "I applied manual lemmatization. After observing that Turkish lemmatizers were providing incorrect results, I decided to resort to this approach."
      ],
      "metadata": {
        "id": "8fvGNg2PZ-1N"
      }
    },
    {
      "cell_type": "code",
      "source": [
        "import re\n",
        "\n",
        "lemma = ['ortam', 'manzara', 'yemek', 'kalite', 'yemegi', 'fiyat', 'garson', 'çay', 'salata', 'guvec', 'sube', 'köşe', 'pilav','mekan','ürün','sütlac',\n",
        "        'sos','lokum', 'servis', 'sütlaç','porsiyon','lezzet', 'beşiktaş', 'lezzet','sipariş','kenar', 'orta', 'bütçe', 'yer', 'meze',\n",
        "         'kağıt', 'köprü', 'ışık','hisar','müzik', 'döner', 'et', 'dilim', 'wrap','tavuk','tad', 'tuvalet', 'eleman', 'servis', 'spesyal',\n",
        "         'tatlı','kuaför','restoran', 'hanım', 'getir', 'bölüm', 'bey','işletmeci',\n",
        "         'baklava', 'bura', 'geçir', 'çalışan','ilgi','hamburger','porsiyon','seçim','çeşit','fasulye','fasülye','kahvaltı',\n",
        "         'koku','döner','yoğurt','bütçe','kızartma','ara','hizmet', 'merkez','bira','magnolia','ızdara','dekorasyon','seçenek', 'gel',\n",
        "         'kesim','lavas','kebap','kebab', 'arkadaş','yer','aroma', 'sufle','ikram','parça','halk', 'manti','mantı','ayran','konum','hesap','paket', 'malzeme', 'boğaz',\n",
        "         'başlangıç', 'kart','helva','sis','lahmacun','balıkçı','dükkan','tereyağ','künefe','salep','bilgilendirme','nargile', 'menü','tavır','musteri','müessese', 'masa','konum',\n",
        "         'vale','sunum','çanak','tavuk göğsü','içecek','işletme','aşk-ı memnu', 'fıccın', 'yumurta','bal','sokak','ev','aperitif','aperatif','nargile','biber','personel',\n",
        "         'terbiyesiz','renk','ayran', 'manti','mantı','bahçe','aşkı memnu','pizza','menemen','çorba','corba','sube','şube', 'bahce','alan','calisan','limon',\n",
        "         'müşteri','dem','limonata','pasta','patates','su', 'puding','kalabalık','şey','kafe','ulaşım','bekleme','gecikme','pudding']\n",
        "for replacement in lemma:\n",
        "    pattern = fr'\\b{replacement}\\w*\\b'\n",
        "    df['aspect'] = df['aspect'].apply(lambda x: re.sub(pattern, replacement, x))\n"
      ],
      "metadata": {
        "id": "QZIixYTKdQ12"
      },
      "execution_count": null,
      "outputs": []
    },
    {
      "cell_type": "markdown",
      "source": [
        "below is clustering of the aspects."
      ],
      "metadata": {
        "id": "eI0kIJxcaHv_"
      }
    },
    {
      "cell_type": "code",
      "source": [
        "\n",
        "\n",
        "\n",
        "word_pairs = {'işletmeci': 'sahibi', 'hesap': 'fiyat', 'dem':'çay','ekmeği':'ekmek','yediğimi':'yemek','bütçe':'fiyat','doyduk':'doymak','yemeğini':'yemek','merkez':'mekan',\n",
        "              'salıncağı':'salıncak','kisiyorum':'kısmak','seçeneğiniz':'seçenek','fiyat skalasını':'fiyat', 'kebab':'kebap', 'yediklerimden':'yemek', 'e5 üstünde':'konum',\n",
        "              'beklesekte':'gecikme', 'anzarası':'manzara', 'kalkmak':'kalabalık','gidilebilir':'mekan','sabah kahvaltısı':'kahvaltı', 'geniş bahçesi ve terası':'bahçe','nusretinki':'yemek',\n",
        "            'kedi böreği':'börek','host ediyorlar':'servis','otagtepenin manzara':'manzara', 'kestanesi suflesi':'sufle', 'fresh meyve suları':'meyve suyu','boğazın göbeğinde':'konum',\n",
        "              'manti':'mantı','serpme kahvaltı':'kahvaltı','çay veya kahve':'içecek', 'kahve':'içecek','çay':'içecek','canlı müzik':'müzik', 'lynchburgleri':'hamburger',\n",
        "              '80/90 tl hesap':'hesap', 'İthal peynir tabağındaki peynirler':'peynir)', 'pahalanmış':'fiyat', 'üst kat terası':'teras', 'Patlıcanlı zeytinli penne':'penne','Sipariş almaya geç gel':'gecikme',\n",
        "              'kurufasulye ve sütlaç':'yemek', 'çıkış yolu':'konum', '342 tl':'hesap','pide türleri':'çeşit','demlenen':'demlemek','ücrete':'fiyat','diyorlar':'demek',\n",
        "              'musteri':'müşteri','müessese':'işletme', 'lavas':'lavaş','yediriyor':'yedirmek', 'hersey':'her şey','her sey':'her şey', 'garson ilgi':'servis', 'garson':'servis',\n",
        "              'servis hızı':'servis', 'manzara parası':'fiyat', '13-14tl':'fiyat', 'ogle':'öğle', 'yer bulmak':'kalabalık','kirmizi limonata':'limonata', 'self servis':'servis', 'köfte':'köfte',\n",
        "              'pilav da kurufasulye de':'yemek', 'pazar kahvaltısı':'kahvaltı', 'sohbet orta':'ortam', 'yemeği':'yemek', 'kafe yemek':'yemek', 'iç dizaynını':'tasarım', 'kış aylarında':'kış',\n",
        "              'karamel ara çay':'çay', 'pizza fagotto':'pizza', 'sorbe dondurması':'dondurma', 'şatorbiryan isimli et':'et', 'mantar çorbası':'çorba', 'yiyecekleri':'yemek',\n",
        "              'yer bulamamak':'kalabalık', 'kahvalti':'kahvaltı', 'lezzet kalitesi':'lezzet', 'mekan tasarımı':'tasarım', 'ikisi de':'yemek','Passion fruitlu dondurması':'dondurma',\n",
        "              'aşşk-ı memnu':'aşkı-memnu', 'içindeki yağın':'yağ', 'gireceğimizi':'konum', 'cafe orta':'ortam', 'tavla, okey gibi oyunları':'oyun', 'yiyebilirsiniz':'yemek',\n",
        "              'maçlarını':'maç', 'kuru fasulye lezzet':'lezzet', 'mekan konum':'konum','mekan kimliği enerjisi':'ortam', 'otoparkta masa':'ortam', 'mekan üst katlarinda':'mekan',\n",
        "              'içi':'tasarım','servis eden':'servis', 'havuç dilimi':'baklava', 'el yapımı ayran':'ayran', 'küçük pizzaları':'pizza', 'domates sos':'sos',\n",
        "              'bira menüsü':'menü', 'ice tea ve limonataları':'içecek', 'et meze':'meze', 'çay çeşidi':'çeşit','damla sakızlı mastika keki':'kek', 'dekorasyon ve orta':'ortam',\n",
        "              'dekorasyon':'tasarım', 'çalışan':'garson','stres kontrolu':'kalabalık', 'istanbul şubesi':'şube', 'arka bahçesi':'bahçe','iyilerinden':'mekan', 'masa yer':'ortam',\n",
        "              'yer bulmak':'kalabalık','tereyağlı pilav':'pilav', 'hizmet':'servis','bura':'mekan', 'personel':'servis','yer':'mekan','orta':'ortam','ev yemek':'yemek','küçük pizzaları':'pizza',\n",
        "              '13.5 lira':'fiyat','4.5 lira':'fiyat','fıstıklı tat':'yemek',  'künefe':'dessert', 'baklava':'dessert','içki servis':'servis','patatesli mantı':'mantı', 'ev yemeği':'yemek', 'iç mekan konseptiyle':'tasarım',\n",
        "               'corba':'çorba', 'kofte':'köfte','iç alanı':'ortam', 'ny steak':'et', 'ayran':'içecek','orta':'ortam','alan':'ortam','ikram':'servis', 'ayran':'içecek','alkol':'içecek', 'calisan':'servis','hesabı':'fiyat', 'burger':'hamburger',\n",
        "              'limon':'limonata', 'yemege':'yemek', 'mayonez':'sos','musteri':'müşteri','cay':'çay','dondurma':'dessert','jager mojito':'içecek','yoğurdu':'yoğurt', 'tavirlarina':'hizmet', 'muamele':'hizmet', 'aşşkı memnu':'aşkı memnu', 'sote':'et',\n",
        "              'limonata':'içecek','kavurmalı':'et', 'sarap':'şarap', 'şarap':'içecek','görselliğe':'tasarım','lakerdası':'balık','ıstakoz':'balık','su':'içecek','sahlep':'içecek','ambians':'ortam','havuç dilim':'dessert',\n",
        "              'yenilen her şey':'yemek','dizaynı':'tasarım','kişi başı':'fiyat','somon':'balık','kapali kasarlisi':'pide', 'menu fiyat': 'fiyati','ev cafe':'cafe','ilgi':'servis', 'her şey':'yemek',\n",
        "              'ulasım':'ulaşım','ulaşım':'konum','bekleme':'gecikme','d bal izgara':'balık','mantı ficcini zeytinyağlı mezgiti':'yemek','koltukları':'ortam','irish malt':'içecek','fiyatn gel':'gecikme',\n",
        "              'gecikme':'servis','ev hanım':'müşteri','bira':'içecek','hamhamburger':'hamburger','lokasyon':'konum','pudding':'dessert', 'alkol':'içecek','aşkı memnu':'dessert', 'tatlı':'dessert', 'tl':'fiyat',\n",
        "              'atıştırmalık jumbo combo':'yemek','kebap':'et','kisi basi':'fiyat'}\n",
        "\n",
        "for word, replacement in word_pairs.items():\n",
        "    df['aspect'] = df['aspect'].str.replace(word, replacement)\n",
        "\n"
      ],
      "metadata": {
        "colab": {
          "base_uri": "https://localhost:8080/"
        },
        "id": "_1cEGkOr6wEv",
        "outputId": "6de9e2d1-3e5f-49c2-c86d-a10e740f8c00"
      },
      "execution_count": null,
      "outputs": [
        {
          "output_type": "stream",
          "name": "stderr",
          "text": [
            "<ipython-input-8-97f1f5d0b8e2>:29: FutureWarning: The default value of regex will change from True to False in a future version.\n",
            "  df['aspect'] = df['aspect'].str.replace(word, replacement)\n"
          ]
        }
      ]
    },
    {
      "cell_type": "code",
      "source": [
        "mylist=['pizza','çorba','tavuk','salata','patates','içecek','mekan','hamburger','biber','peynir','balık','müşteri','servis','penne', 'pide','ortam',\n",
        "        'fastfood','bahce','alkol','pilav','yemek','şube','sube','kahvalti','zeytinyag','dessert','et','köfte','manzara','menü','tost','çorba','kofte','kebap','fiyat']\n",
        "for aspect in mylist:\n",
        "    df.loc[df['aspect'].str.contains(aspect, case=False, na=False), 'aspect'] = aspect"
      ],
      "metadata": {
        "id": "7gnHXBGhxzAo"
      },
      "execution_count": null,
      "outputs": []
    },
    {
      "cell_type": "code",
      "source": [
        "df['aspect'] = df['aspect'].str.replace('dessert', 'tatlı')\n",
        "\n",
        "\n",
        "df.loc[df['aspect'].str.contains('kuzu', case=False, na=False), 'aspect'] = 'et'\n",
        "df.loc[df['aspect'].str.contains('teras', case=False, na=False), 'aspect'] = 'bahçe'\n",
        "df.loc[df['aspect'].str.contains('yoğurt', case=False, na=False), 'aspect'] = 'yoğurt'\n",
        "df.loc[df['aspect'].str.contains('yagindan', case=False, na=False), 'aspect'] = 'yemek'\n",
        "df.loc[df['aspect'].str.contains('pasta', case=False, na=False), 'aspect'] = 'tatlı'\n",
        "df.loc[df['aspect'].str.contains('havuç dilim', case=False, na=False), 'aspect'] = 'tatlı'\n",
        "df.loc[df['aspect'].str.contains('yagin', case=False, na=False), 'aspect'] = 'yemek'\n",
        "df.loc[df['aspect'].str.contains('yemegi', case=False, na=False), 'aspect'] = 'yemek'\n",
        "df.loc[df['aspect'].str.contains('hahvaltı', case=False, na=False), 'aspect'] = 'kahvaltı'\n",
        "df.loc[df['aspect'].str.contains('puding', case=False, na=False), 'aspect'] = 'tatlı'\n",
        "\n",
        "\n"
      ],
      "metadata": {
        "id": "wszIksDdtP1Z"
      },
      "execution_count": null,
      "outputs": []
    },
    {
      "cell_type": "code",
      "source": [
        "aspect_num=df['aspect'].nunique()\n",
        "aspect_num"
      ],
      "metadata": {
        "colab": {
          "base_uri": "https://localhost:8080/"
        },
        "id": "WV79LWBwuKyn",
        "outputId": "d2386fb7-f474-4c15-a0e1-2352c0e61630"
      },
      "execution_count": null,
      "outputs": [
        {
          "output_type": "execute_result",
          "data": {
            "text/plain": [
              "247"
            ]
          },
          "metadata": {},
          "execution_count": 11
        }
      ]
    },
    {
      "cell_type": "code",
      "source": [
        "df['aspect'] = df['aspect'].str.replace('hamhamburger', 'hamburger')\n",
        "df['aspect'] = df['aspect'].str.replace('ortammm', 'ortam')\n"
      ],
      "metadata": {
        "id": "hE56fLklT5f9"
      },
      "execution_count": null,
      "outputs": []
    },
    {
      "cell_type": "code",
      "source": [
        "df['aspect'].value_counts()"
      ],
      "metadata": {
        "id": "IUNXhRBQtNzo",
        "colab": {
          "base_uri": "https://localhost:8080/"
        },
        "outputId": "0249eb45-553e-4b32-df4d-b93d3f839c06"
      },
      "execution_count": null,
      "outputs": [
        {
          "output_type": "execute_result",
          "data": {
            "text/plain": [
              "servis                          160\n",
              "mekan                           140\n",
              "yemek                           113\n",
              "fiyat                           104\n",
              "içecek                          103\n",
              "et                               84\n",
              "manzara                          69\n",
              "ortam                            36\n",
              "tatlı                            29\n",
              "kahvalti                         20\n",
              "konum                            20\n",
              "meze                             19\n",
              "pizza                            17\n",
              "menü                             16\n",
              "bahçe                            15\n",
              "pide                             14\n",
              "hamburger                        13\n",
              "tasarım                          13\n",
              "köfte                            13\n",
              "tavuk                            12\n",
              "balık                            11\n",
              "porsiyon                         11\n",
              "kalite                           10\n",
              "müzik                            10\n",
              "salata                            8\n",
              "sos                               7\n",
              "menemen                           7\n",
              "patates                           7\n",
              "döner                             7\n",
              "malzeme                           7\n",
              "bal                               6\n",
              "müşteri                           6\n",
              "cafe                              6\n",
              "tad                               6\n",
              "masa                              4\n",
              "çeşit                             4\n",
              "peynir                            4\n",
              "çorba                             4\n",
              "zeytinyag                         3\n",
              "ürün                              3\n",
              "sipariş                           3\n",
              "brunch                            3\n",
              "pilav                             3\n",
              "deniz ürün                        3\n",
              "sıra                              3\n",
              "koku                              3\n",
              "hamuru                            3\n",
              "happy moons                       2\n",
              "magnolia                          2\n",
              "bahce                             2\n",
              "lavaş                             2\n",
              "nargile                           2\n",
              "mantı                             2\n",
              "penne                             2\n",
              "tesis                             2\n",
              "irmik helva                       2\n",
              "tost                              2\n",
              "biber                             2\n",
              "otopark                           2\n",
              "vale                              2\n",
              "fajita                            2\n",
              "ulasim                            2\n",
              "dürüm                             2\n",
              "gel                               2\n",
              "yoğurt                            2\n",
              "bourbon vanilla                   2\n",
              "kalamar                           2\n",
              "tat                               2\n",
              "kabukları                         1\n",
              "çaldıkları müzik                  1\n",
              "fıstığı                           1\n",
              "burda                             1\n",
              "hamur                             1\n",
              "canyon road                       1\n",
              "puanı                             1\n",
              "fırında makarnasını               1\n",
              "rezervasyon                       1\n",
              "siparisin                         1\n",
              "bogazin gobeginde                 1\n",
              "bulunan                           1\n",
              "iç tasarım                        1\n",
              "arka bahçe                        1\n",
              "alternatif                        1\n",
              "güveçte mantarda                  1\n",
              "terbiyesiz                        1\n",
              "talebi                            1\n",
              "hard rock                         1\n",
              "bahçe kedilerinin                 1\n",
              "otoparkta                         1\n",
              "anzarasi                          1\n",
              "çatal, bıçak                      1\n",
              "kek                               1\n",
              "koltuklari                        1\n",
              "seker orani                       1\n",
              "kavun aroma                       1\n",
              "cafelerden                        1\n",
              "otoparki                          1\n",
              "şube                              1\n",
              "bourban vanilla                   1\n",
              "cevre duzenlemesi                 1\n",
              "kulbasti                          1\n",
              "jest                              1\n",
              "güllüoğlu                         1\n",
              "jumbo combo ve kola               1\n",
              "yiyecekler                        1\n",
              "soğan halk tad                    1\n",
              "nachos                            1\n",
              "wifi                              1\n",
              "quattro stagioni ve ortoyu        1\n",
              "istediğini                        1\n",
              "pastırmalı yumurta                1\n",
              "fıccın                            1\n",
              "çikis yolu                        1\n",
              "kuru                              1\n",
              "oturma duzeni                     1\n",
              "yedirmek                          1\n",
              "aparatifleri                      1\n",
              "cheescake                         1\n",
              "i̇cerisi                          1\n",
              "kütük ev                          1\n",
              "kış                               1\n",
              "sokak                             1\n",
              "konsepte                          1\n",
              "mantar çanak                      1\n",
              "halk açik olmasi                  1\n",
              "sampi                             1\n",
              "barmeni                           1\n",
              "sahibinin                         1\n",
              "sırada                            1\n",
              "esnaf restoran                    1\n",
              "içeceğini                         1\n",
              "nane yapragi                      1\n",
              "num num                           1\n",
              "durum                             1\n",
              "baslangiclarinin                  1\n",
              "ara sicaklari                     1\n",
              "anadolu hisar                     1\n",
              "sahanda yumurta                   1\n",
              "yumurta                           1\n",
              "kapida bekleyen kisi              1\n",
              "canli müzik                       1\n",
              "bogazin                           1\n",
              "damla sakizi                      1\n",
              "premier league maç                1\n",
              "oyun                              1\n",
              "guler yuz                         1\n",
              "kredi kart                        1\n",
              "cin li kokteylleri                1\n",
              "tuzla bal                         1\n",
              "dükkan                            1\n",
              "menu                              1\n",
              "lasagne                           1\n",
              "siparis almaya gec gel            1\n",
              "renk                              1\n",
              "salıncak                          1\n",
              "kahvaltı                          1\n",
              "hızlı                             1\n",
              "çesit                             1\n",
              "göründügü                         1\n",
              "gözleme                           1\n",
              "kuaför                            1\n",
              "mutfak                            1\n",
              "restoran                          1\n",
              "dösenmis                          1\n",
              "sira                              1\n",
              "yiyin                             1\n",
              "mısır ekmek                       1\n",
              "fastfood                          1\n",
              "paraya                            1\n",
              "eleos                             1\n",
              "tavri tarzi konusmasi uslubu      1\n",
              "karışık tabak                     1\n",
              "muzikler                          1\n",
              "vakit geçir                       1\n",
              "votka                             1\n",
              "tabak                             1\n",
              "müzik seçim                       1\n",
              "bayan                             1\n",
              "koymak                            1\n",
              "big chefs                         1\n",
              "tabağa                            1\n",
              "bal gel                           1\n",
              "kasap reyonu                      1\n",
              "lokum                             1\n",
              "küşleme                           1\n",
              "şatobiryanı                       1\n",
              "gardenya bolumu                   1\n",
              "oturma köşe                       1\n",
              "gitmenizi                         1\n",
              "kurufasülyeci                     1\n",
              "siparis                           1\n",
              "çilekli magnolia                  1\n",
              "beşiktaş göbeğinde                1\n",
              "deneyim                           1\n",
              "kenar                             1\n",
              "istakoz kavurma                   1\n",
              "ızgara mantar                     1\n",
              "kagitta bal pastirma              1\n",
              "köprü ve hisar ışık               1\n",
              "doneri                            1\n",
              "koku tad                          1\n",
              "yedigimi                          1\n",
              "küçük ev                          1\n",
              "kokteyliler                       1\n",
              "park                              1\n",
              "seçenek                           1\n",
              "konumu                            1\n",
              "doner kesim                       1\n",
              "tandir lavaş                      1\n",
              "siparisiniz                       1\n",
              "donerci                           1\n",
              "kafe                              1\n",
              "guleryuz                          1\n",
              "herkes                            1\n",
              "yogurdun                          1\n",
              "bonsai agaç                       1\n",
              "karsilandik                       1\n",
              "zeytinyağlı tabağı                1\n",
              "kokteylleri                       1\n",
              "firinda makarnasi                 1\n",
              "süslemeleri                       1\n",
              "karşılama                         1\n",
              "urunleri                          1\n",
              "kısmak                            1\n",
              "örneği                            1\n",
              "yediklerimizide                   1\n",
              "satıyor                           1\n",
              "kazandibini                       1\n",
              "agaç                              1\n",
              "çaba                              1\n",
              "domates                           1\n",
              "cesit                             1\n",
              "doymak                            1\n",
              "sani                              1\n",
              "sokak ara                         1\n",
              "atmosfere                         1\n",
              "kül tablalarının                  1\n",
              "kuş yuvası                        1\n",
              "konsept                           1\n",
              "hesabi                            1\n",
              "happy hour                        1\n",
              "big chefste oturmak               1\n",
              "kızartma                          1\n",
              "başarılıydı                       1\n",
              "tereyagi                          1\n",
              "toplayan                          1\n",
              "kurufasülye                       1\n",
              "Name: aspect, dtype: int64"
            ]
          },
          "metadata": {},
          "execution_count": 13
        }
      ]
    },
    {
      "cell_type": "code",
      "source": [],
      "metadata": {
        "id": "q1q5mJf8bGk-"
      },
      "execution_count": null,
      "outputs": []
    },
    {
      "cell_type": "markdown",
      "source": [
        "Despite intensive clustering efforts, there are still many aspects with fewer than 25 occurrences. Due to the small size of the dataset, I decided to remove these aspects.\n",
        "\n",
        "\n",
        "\n"
      ],
      "metadata": {
        "id": "6JPWN0QDaXp4"
      }
    },
    {
      "cell_type": "code",
      "source": [
        "\n",
        "aspect_counts = df['aspect'].value_counts()\n",
        "\n",
        "aspects_to_drop = aspect_counts[aspect_counts < 25].index\n",
        "aspects_to_drop\n",
        "\n",
        "df2 = df[~df['aspect'].isin(aspects_to_drop)]\n"
      ],
      "metadata": {
        "id": "Mob35eUCRhMj"
      },
      "execution_count": null,
      "outputs": []
    },
    {
      "cell_type": "code",
      "source": [
        "df2['aspect'].nunique()"
      ],
      "metadata": {
        "colab": {
          "base_uri": "https://localhost:8080/"
        },
        "id": "7sONhpWkibNw",
        "outputId": "163fb724-0730-4798-c3f4-60b2f00933ce"
      },
      "execution_count": null,
      "outputs": [
        {
          "output_type": "execute_result",
          "data": {
            "text/plain": [
              "9"
            ]
          },
          "metadata": {},
          "execution_count": 14
        }
      ]
    },
    {
      "cell_type": "code",
      "source": [
        "df2=df2.reset_index()\n",
        "df2.info()"
      ],
      "metadata": {
        "colab": {
          "base_uri": "https://localhost:8080/"
        },
        "id": "4gd4usviUy3W",
        "outputId": "604ac26f-4e30-463e-c76b-7b964479662c"
      },
      "execution_count": null,
      "outputs": [
        {
          "output_type": "stream",
          "name": "stdout",
          "text": [
            "<class 'pandas.core.frame.DataFrame'>\n",
            "RangeIndex: 812 entries, 0 to 811\n",
            "Data columns (total 3 columns):\n",
            " #   Column  Non-Null Count  Dtype \n",
            "---  ------  --------------  ----- \n",
            " 0   index   812 non-null    int64 \n",
            " 1   text    812 non-null    object\n",
            " 2   aspect  812 non-null    object\n",
            "dtypes: int64(1), object(2)\n",
            "memory usage: 19.2+ KB\n"
          ]
        }
      ]
    },
    {
      "cell_type": "code",
      "source": [
        "df2.drop('index', axis=1, inplace=True)"
      ],
      "metadata": {
        "id": "N4eVUu3IVIKY"
      },
      "execution_count": null,
      "outputs": []
    },
    {
      "cell_type": "code",
      "source": [
        "df2.head()"
      ],
      "metadata": {
        "colab": {
          "base_uri": "https://localhost:8080/",
          "height": 206
        },
        "id": "EYEDBnTfgr4O",
        "outputId": "7bf20b46-574a-49b9-bee1-e3a6ad32563d"
      },
      "execution_count": null,
      "outputs": [
        {
          "output_type": "execute_result",
          "data": {
            "text/plain": [
              "                                                text   aspect\n",
              "0            manzara sahane evet ama servis rezalet.  manzara\n",
              "1            manzara sahane evet ama servis rezalet.   servis\n",
              "2  soguk su isteyince, soguk yok, butun sulari di...   servis\n",
              "3  yemekler iyi hos, lezzetler iyi ama heyecan ve...    yemek\n",
              "4  yemekler iyi hos, lezzetler iyi ama heyecan ve...       et"
            ],
            "text/html": [
              "\n",
              "  <div id=\"df-7433c94f-1855-46f8-a85d-c5884c0a1e5f\">\n",
              "    <div class=\"colab-df-container\">\n",
              "      <div>\n",
              "<style scoped>\n",
              "    .dataframe tbody tr th:only-of-type {\n",
              "        vertical-align: middle;\n",
              "    }\n",
              "\n",
              "    .dataframe tbody tr th {\n",
              "        vertical-align: top;\n",
              "    }\n",
              "\n",
              "    .dataframe thead th {\n",
              "        text-align: right;\n",
              "    }\n",
              "</style>\n",
              "<table border=\"1\" class=\"dataframe\">\n",
              "  <thead>\n",
              "    <tr style=\"text-align: right;\">\n",
              "      <th></th>\n",
              "      <th>text</th>\n",
              "      <th>aspect</th>\n",
              "    </tr>\n",
              "  </thead>\n",
              "  <tbody>\n",
              "    <tr>\n",
              "      <th>0</th>\n",
              "      <td>manzara sahane evet ama servis rezalet.</td>\n",
              "      <td>manzara</td>\n",
              "    </tr>\n",
              "    <tr>\n",
              "      <th>1</th>\n",
              "      <td>manzara sahane evet ama servis rezalet.</td>\n",
              "      <td>servis</td>\n",
              "    </tr>\n",
              "    <tr>\n",
              "      <th>2</th>\n",
              "      <td>soguk su isteyince, soguk yok, butun sulari di...</td>\n",
              "      <td>servis</td>\n",
              "    </tr>\n",
              "    <tr>\n",
              "      <th>3</th>\n",
              "      <td>yemekler iyi hos, lezzetler iyi ama heyecan ve...</td>\n",
              "      <td>yemek</td>\n",
              "    </tr>\n",
              "    <tr>\n",
              "      <th>4</th>\n",
              "      <td>yemekler iyi hos, lezzetler iyi ama heyecan ve...</td>\n",
              "      <td>et</td>\n",
              "    </tr>\n",
              "  </tbody>\n",
              "</table>\n",
              "</div>\n",
              "      <button class=\"colab-df-convert\" onclick=\"convertToInteractive('df-7433c94f-1855-46f8-a85d-c5884c0a1e5f')\"\n",
              "              title=\"Convert this dataframe to an interactive table.\"\n",
              "              style=\"display:none;\">\n",
              "        \n",
              "  <svg xmlns=\"http://www.w3.org/2000/svg\" height=\"24px\"viewBox=\"0 0 24 24\"\n",
              "       width=\"24px\">\n",
              "    <path d=\"M0 0h24v24H0V0z\" fill=\"none\"/>\n",
              "    <path d=\"M18.56 5.44l.94 2.06.94-2.06 2.06-.94-2.06-.94-.94-2.06-.94 2.06-2.06.94zm-11 1L8.5 8.5l.94-2.06 2.06-.94-2.06-.94L8.5 2.5l-.94 2.06-2.06.94zm10 10l.94 2.06.94-2.06 2.06-.94-2.06-.94-.94-2.06-.94 2.06-2.06.94z\"/><path d=\"M17.41 7.96l-1.37-1.37c-.4-.4-.92-.59-1.43-.59-.52 0-1.04.2-1.43.59L10.3 9.45l-7.72 7.72c-.78.78-.78 2.05 0 2.83L4 21.41c.39.39.9.59 1.41.59.51 0 1.02-.2 1.41-.59l7.78-7.78 2.81-2.81c.8-.78.8-2.07 0-2.86zM5.41 20L4 18.59l7.72-7.72 1.47 1.35L5.41 20z\"/>\n",
              "  </svg>\n",
              "      </button>\n",
              "      \n",
              "  <style>\n",
              "    .colab-df-container {\n",
              "      display:flex;\n",
              "      flex-wrap:wrap;\n",
              "      gap: 12px;\n",
              "    }\n",
              "\n",
              "    .colab-df-convert {\n",
              "      background-color: #E8F0FE;\n",
              "      border: none;\n",
              "      border-radius: 50%;\n",
              "      cursor: pointer;\n",
              "      display: none;\n",
              "      fill: #1967D2;\n",
              "      height: 32px;\n",
              "      padding: 0 0 0 0;\n",
              "      width: 32px;\n",
              "    }\n",
              "\n",
              "    .colab-df-convert:hover {\n",
              "      background-color: #E2EBFA;\n",
              "      box-shadow: 0px 1px 2px rgba(60, 64, 67, 0.3), 0px 1px 3px 1px rgba(60, 64, 67, 0.15);\n",
              "      fill: #174EA6;\n",
              "    }\n",
              "\n",
              "    [theme=dark] .colab-df-convert {\n",
              "      background-color: #3B4455;\n",
              "      fill: #D2E3FC;\n",
              "    }\n",
              "\n",
              "    [theme=dark] .colab-df-convert:hover {\n",
              "      background-color: #434B5C;\n",
              "      box-shadow: 0px 1px 3px 1px rgba(0, 0, 0, 0.15);\n",
              "      filter: drop-shadow(0px 1px 2px rgba(0, 0, 0, 0.3));\n",
              "      fill: #FFFFFF;\n",
              "    }\n",
              "  </style>\n",
              "\n",
              "      <script>\n",
              "        const buttonEl =\n",
              "          document.querySelector('#df-7433c94f-1855-46f8-a85d-c5884c0a1e5f button.colab-df-convert');\n",
              "        buttonEl.style.display =\n",
              "          google.colab.kernel.accessAllowed ? 'block' : 'none';\n",
              "\n",
              "        async function convertToInteractive(key) {\n",
              "          const element = document.querySelector('#df-7433c94f-1855-46f8-a85d-c5884c0a1e5f');\n",
              "          const dataTable =\n",
              "            await google.colab.kernel.invokeFunction('convertToInteractive',\n",
              "                                                     [key], {});\n",
              "          if (!dataTable) return;\n",
              "\n",
              "          const docLinkHtml = 'Like what you see? Visit the ' +\n",
              "            '<a target=\"_blank\" href=https://colab.research.google.com/notebooks/data_table.ipynb>data table notebook</a>'\n",
              "            + ' to learn more about interactive tables.';\n",
              "          element.innerHTML = '';\n",
              "          dataTable['output_type'] = 'display_data';\n",
              "          await google.colab.output.renderOutput(dataTable, element);\n",
              "          const docLink = document.createElement('div');\n",
              "          docLink.innerHTML = docLinkHtml;\n",
              "          element.appendChild(docLink);\n",
              "        }\n",
              "      </script>\n",
              "    </div>\n",
              "  </div>\n",
              "  "
            ]
          },
          "metadata": {},
          "execution_count": 20
        }
      ]
    },
    {
      "cell_type": "code",
      "source": [
        "encoded_df = pd.get_dummies(df2, columns=['aspect'])\n"
      ],
      "metadata": {
        "id": "m7IEghD6hcAe"
      },
      "execution_count": null,
      "outputs": []
    },
    {
      "cell_type": "code",
      "source": [
        "encoded_df.head()"
      ],
      "metadata": {
        "colab": {
          "base_uri": "https://localhost:8080/",
          "height": 250
        },
        "id": "lIuKU3j2iUPT",
        "outputId": "7fbfe2e0-28de-4a82-b3c0-f2c4550c32b4"
      },
      "execution_count": null,
      "outputs": [
        {
          "output_type": "execute_result",
          "data": {
            "text/plain": [
              "                                                text  aspect_et  aspect_fiyat  \\\n",
              "0            manzara sahane evet ama servis rezalet.          0             0   \n",
              "1            manzara sahane evet ama servis rezalet.          0             0   \n",
              "2  soguk su isteyince, soguk yok, butun sulari di...          0             0   \n",
              "3  yemekler iyi hos, lezzetler iyi ama heyecan ve...          0             0   \n",
              "4  yemekler iyi hos, lezzetler iyi ama heyecan ve...          1             0   \n",
              "\n",
              "   aspect_içecek  aspect_manzara  aspect_mekan  aspect_ortam  aspect_servis  \\\n",
              "0              0               1             0             0              0   \n",
              "1              0               0             0             0              1   \n",
              "2              0               0             0             0              1   \n",
              "3              0               0             0             0              0   \n",
              "4              0               0             0             0              0   \n",
              "\n",
              "   aspect_tatlı  aspect_yemek  \n",
              "0             0             0  \n",
              "1             0             0  \n",
              "2             0             0  \n",
              "3             0             1  \n",
              "4             0             0  "
            ],
            "text/html": [
              "\n",
              "  <div id=\"df-562c66d0-84ac-4b85-8885-216347a1d99e\">\n",
              "    <div class=\"colab-df-container\">\n",
              "      <div>\n",
              "<style scoped>\n",
              "    .dataframe tbody tr th:only-of-type {\n",
              "        vertical-align: middle;\n",
              "    }\n",
              "\n",
              "    .dataframe tbody tr th {\n",
              "        vertical-align: top;\n",
              "    }\n",
              "\n",
              "    .dataframe thead th {\n",
              "        text-align: right;\n",
              "    }\n",
              "</style>\n",
              "<table border=\"1\" class=\"dataframe\">\n",
              "  <thead>\n",
              "    <tr style=\"text-align: right;\">\n",
              "      <th></th>\n",
              "      <th>text</th>\n",
              "      <th>aspect_et</th>\n",
              "      <th>aspect_fiyat</th>\n",
              "      <th>aspect_içecek</th>\n",
              "      <th>aspect_manzara</th>\n",
              "      <th>aspect_mekan</th>\n",
              "      <th>aspect_ortam</th>\n",
              "      <th>aspect_servis</th>\n",
              "      <th>aspect_tatlı</th>\n",
              "      <th>aspect_yemek</th>\n",
              "    </tr>\n",
              "  </thead>\n",
              "  <tbody>\n",
              "    <tr>\n",
              "      <th>0</th>\n",
              "      <td>manzara sahane evet ama servis rezalet.</td>\n",
              "      <td>0</td>\n",
              "      <td>0</td>\n",
              "      <td>0</td>\n",
              "      <td>1</td>\n",
              "      <td>0</td>\n",
              "      <td>0</td>\n",
              "      <td>0</td>\n",
              "      <td>0</td>\n",
              "      <td>0</td>\n",
              "    </tr>\n",
              "    <tr>\n",
              "      <th>1</th>\n",
              "      <td>manzara sahane evet ama servis rezalet.</td>\n",
              "      <td>0</td>\n",
              "      <td>0</td>\n",
              "      <td>0</td>\n",
              "      <td>0</td>\n",
              "      <td>0</td>\n",
              "      <td>0</td>\n",
              "      <td>1</td>\n",
              "      <td>0</td>\n",
              "      <td>0</td>\n",
              "    </tr>\n",
              "    <tr>\n",
              "      <th>2</th>\n",
              "      <td>soguk su isteyince, soguk yok, butun sulari di...</td>\n",
              "      <td>0</td>\n",
              "      <td>0</td>\n",
              "      <td>0</td>\n",
              "      <td>0</td>\n",
              "      <td>0</td>\n",
              "      <td>0</td>\n",
              "      <td>1</td>\n",
              "      <td>0</td>\n",
              "      <td>0</td>\n",
              "    </tr>\n",
              "    <tr>\n",
              "      <th>3</th>\n",
              "      <td>yemekler iyi hos, lezzetler iyi ama heyecan ve...</td>\n",
              "      <td>0</td>\n",
              "      <td>0</td>\n",
              "      <td>0</td>\n",
              "      <td>0</td>\n",
              "      <td>0</td>\n",
              "      <td>0</td>\n",
              "      <td>0</td>\n",
              "      <td>0</td>\n",
              "      <td>1</td>\n",
              "    </tr>\n",
              "    <tr>\n",
              "      <th>4</th>\n",
              "      <td>yemekler iyi hos, lezzetler iyi ama heyecan ve...</td>\n",
              "      <td>1</td>\n",
              "      <td>0</td>\n",
              "      <td>0</td>\n",
              "      <td>0</td>\n",
              "      <td>0</td>\n",
              "      <td>0</td>\n",
              "      <td>0</td>\n",
              "      <td>0</td>\n",
              "      <td>0</td>\n",
              "    </tr>\n",
              "  </tbody>\n",
              "</table>\n",
              "</div>\n",
              "      <button class=\"colab-df-convert\" onclick=\"convertToInteractive('df-562c66d0-84ac-4b85-8885-216347a1d99e')\"\n",
              "              title=\"Convert this dataframe to an interactive table.\"\n",
              "              style=\"display:none;\">\n",
              "        \n",
              "  <svg xmlns=\"http://www.w3.org/2000/svg\" height=\"24px\"viewBox=\"0 0 24 24\"\n",
              "       width=\"24px\">\n",
              "    <path d=\"M0 0h24v24H0V0z\" fill=\"none\"/>\n",
              "    <path d=\"M18.56 5.44l.94 2.06.94-2.06 2.06-.94-2.06-.94-.94-2.06-.94 2.06-2.06.94zm-11 1L8.5 8.5l.94-2.06 2.06-.94-2.06-.94L8.5 2.5l-.94 2.06-2.06.94zm10 10l.94 2.06.94-2.06 2.06-.94-2.06-.94-.94-2.06-.94 2.06-2.06.94z\"/><path d=\"M17.41 7.96l-1.37-1.37c-.4-.4-.92-.59-1.43-.59-.52 0-1.04.2-1.43.59L10.3 9.45l-7.72 7.72c-.78.78-.78 2.05 0 2.83L4 21.41c.39.39.9.59 1.41.59.51 0 1.02-.2 1.41-.59l7.78-7.78 2.81-2.81c.8-.78.8-2.07 0-2.86zM5.41 20L4 18.59l7.72-7.72 1.47 1.35L5.41 20z\"/>\n",
              "  </svg>\n",
              "      </button>\n",
              "      \n",
              "  <style>\n",
              "    .colab-df-container {\n",
              "      display:flex;\n",
              "      flex-wrap:wrap;\n",
              "      gap: 12px;\n",
              "    }\n",
              "\n",
              "    .colab-df-convert {\n",
              "      background-color: #E8F0FE;\n",
              "      border: none;\n",
              "      border-radius: 50%;\n",
              "      cursor: pointer;\n",
              "      display: none;\n",
              "      fill: #1967D2;\n",
              "      height: 32px;\n",
              "      padding: 0 0 0 0;\n",
              "      width: 32px;\n",
              "    }\n",
              "\n",
              "    .colab-df-convert:hover {\n",
              "      background-color: #E2EBFA;\n",
              "      box-shadow: 0px 1px 2px rgba(60, 64, 67, 0.3), 0px 1px 3px 1px rgba(60, 64, 67, 0.15);\n",
              "      fill: #174EA6;\n",
              "    }\n",
              "\n",
              "    [theme=dark] .colab-df-convert {\n",
              "      background-color: #3B4455;\n",
              "      fill: #D2E3FC;\n",
              "    }\n",
              "\n",
              "    [theme=dark] .colab-df-convert:hover {\n",
              "      background-color: #434B5C;\n",
              "      box-shadow: 0px 1px 3px 1px rgba(0, 0, 0, 0.15);\n",
              "      filter: drop-shadow(0px 1px 2px rgba(0, 0, 0, 0.3));\n",
              "      fill: #FFFFFF;\n",
              "    }\n",
              "  </style>\n",
              "\n",
              "      <script>\n",
              "        const buttonEl =\n",
              "          document.querySelector('#df-562c66d0-84ac-4b85-8885-216347a1d99e button.colab-df-convert');\n",
              "        buttonEl.style.display =\n",
              "          google.colab.kernel.accessAllowed ? 'block' : 'none';\n",
              "\n",
              "        async function convertToInteractive(key) {\n",
              "          const element = document.querySelector('#df-562c66d0-84ac-4b85-8885-216347a1d99e');\n",
              "          const dataTable =\n",
              "            await google.colab.kernel.invokeFunction('convertToInteractive',\n",
              "                                                     [key], {});\n",
              "          if (!dataTable) return;\n",
              "\n",
              "          const docLinkHtml = 'Like what you see? Visit the ' +\n",
              "            '<a target=\"_blank\" href=https://colab.research.google.com/notebooks/data_table.ipynb>data table notebook</a>'\n",
              "            + ' to learn more about interactive tables.';\n",
              "          element.innerHTML = '';\n",
              "          dataTable['output_type'] = 'display_data';\n",
              "          await google.colab.output.renderOutput(dataTable, element);\n",
              "          const docLink = document.createElement('div');\n",
              "          docLink.innerHTML = docLinkHtml;\n",
              "          element.appendChild(docLink);\n",
              "        }\n",
              "      </script>\n",
              "    </div>\n",
              "  </div>\n",
              "  "
            ]
          },
          "metadata": {},
          "execution_count": 22
        }
      ]
    },
    {
      "cell_type": "code",
      "source": [
        "encoded_df = pd.get_dummies(df2, columns=['aspect'])\n",
        "df_model = encoded_df.groupby('text').sum().reset_index()\n"
      ],
      "metadata": {
        "id": "4iCsFxNhOk4e"
      },
      "execution_count": null,
      "outputs": []
    },
    {
      "cell_type": "code",
      "source": [],
      "metadata": {
        "id": "qAWuP28-7aKs"
      },
      "execution_count": null,
      "outputs": []
    },
    {
      "cell_type": "code",
      "source": [
        "df_model.info()"
      ],
      "metadata": {
        "colab": {
          "base_uri": "https://localhost:8080/"
        },
        "id": "7VjlrFUpnc7_",
        "outputId": "8f288364-400e-42df-8938-81483648a6ba"
      },
      "execution_count": null,
      "outputs": [
        {
          "output_type": "stream",
          "name": "stdout",
          "text": [
            "<class 'pandas.core.frame.DataFrame'>\n",
            "RangeIndex: 635 entries, 0 to 634\n",
            "Data columns (total 10 columns):\n",
            " #   Column          Non-Null Count  Dtype \n",
            "---  ------          --------------  ----- \n",
            " 0   text            635 non-null    object\n",
            " 1   aspect_et       635 non-null    uint8 \n",
            " 2   aspect_fiyat    635 non-null    uint8 \n",
            " 3   aspect_içecek   635 non-null    uint8 \n",
            " 4   aspect_manzara  635 non-null    uint8 \n",
            " 5   aspect_mekan    635 non-null    uint8 \n",
            " 6   aspect_ortam    635 non-null    uint8 \n",
            " 7   aspect_servis   635 non-null    uint8 \n",
            " 8   aspect_tatlı    635 non-null    uint8 \n",
            " 9   aspect_yemek    635 non-null    uint8 \n",
            "dtypes: object(1), uint8(9)\n",
            "memory usage: 10.7+ KB\n"
          ]
        }
      ]
    },
    {
      "cell_type": "markdown",
      "source": [
        "building the model"
      ],
      "metadata": {
        "id": "I_nsrvCKdpGl"
      }
    },
    {
      "cell_type": "code",
      "source": [
        "num_targets=9\n",
        "tokenizer = Tokenizer(num_words=1000)\n",
        "tokenizer.fit_on_texts(df_model['text'])\n",
        "sequences = tokenizer.texts_to_sequences(df_model['text'])\n",
        "\n",
        "max_sequence_length = max(len(sequence) for sequence in sequences)\n",
        "vocab_size2=tokenizer.num_words\n",
        "embedding_dim=100\n",
        "padded_sequences = pad_sequences(sequences, maxlen=max_sequence_length, padding='post')\n",
        "print(vocab_size2)\n",
        "targets = df_model.iloc[:, 1:].to_numpy()\n",
        "\n",
        "X_train, X_test, y_train, y_test = train_test_split(padded_sequences, targets, test_size=0.05, random_state=42)\n"
      ],
      "metadata": {
        "id": "luz3hwv7pDbW"
      },
      "execution_count": null,
      "outputs": []
    },
    {
      "cell_type": "code",
      "source": [
        "y_train_reshaped = np.repeat(y_train[:, np.newaxis, :], max_sequence_length, axis=1)\n",
        "y_test_reshaped = np.repeat(y_test[:, np.newaxis, :], max_sequence_length, axis=1)\n",
        "\n",
        "input_layer = Input(shape=(max_sequence_length,))\n",
        "\n",
        "embedding_layer = Embedding(input_dim=vocab_size2, output_dim=embedding_dim)(input_layer)\n",
        "\n",
        "lstm_layer = LSTM(units=1024, return_sequences=True)(embedding_layer)\n",
        "dropout_layer = Dropout(0.65)(lstm_layer)\n",
        "\n",
        "\n",
        "dense_layer_2 = Dense(units=num_targets, kernel_regularizer=l2(0.009), activation='sigmoid')(dropout_layer)\n",
        "\n",
        "model = tf.keras.Model(inputs=input_layer, outputs=dense_layer_2)\n",
        "\n",
        "model.compile(optimizer='adam', loss='binary_crossentropy', metrics=['Precision','Recall',])\n",
        "\n",
        "\n",
        "model.fit(X_train, y_train_reshaped, validation_data=(X_test, y_test_reshaped), epochs=65, batch_size=32)\n"
      ],
      "metadata": {
        "colab": {
          "base_uri": "https://localhost:8080/"
        },
        "id": "96wG0VviixQ5",
        "outputId": "18cef383-5345-4e89-fde5-e9fa092de020"
      },
      "execution_count": null,
      "outputs": [
        {
          "output_type": "stream",
          "name": "stdout",
          "text": [
            "Epoch 1/65\n",
            "19/19 [==============================] - 6s 173ms/step - loss: 0.6231 - precision: 0.1637 - recall: 0.0443 - val_loss: 0.5368 - val_precision: 0.0000e+00 - val_recall: 0.0000e+00\n",
            "Epoch 2/65\n",
            "19/19 [==============================] - 2s 101ms/step - loss: 0.5102 - precision: 0.2323 - recall: 0.0022 - val_loss: 0.4945 - val_precision: 0.0000e+00 - val_recall: 0.0000e+00\n",
            "Epoch 3/65\n",
            "19/19 [==============================] - 1s 67ms/step - loss: 0.4715 - precision: 0.0000e+00 - recall: 0.0000e+00 - val_loss: 0.4846 - val_precision: 0.0000e+00 - val_recall: 0.0000e+00\n",
            "Epoch 4/65\n",
            "19/19 [==============================] - 1s 35ms/step - loss: 0.4491 - precision: 1.0000 - recall: 3.1216e-05 - val_loss: 0.4506 - val_precision: 0.0000e+00 - val_recall: 0.0000e+00\n",
            "Epoch 5/65\n",
            "19/19 [==============================] - 1s 50ms/step - loss: 0.4350 - precision: 0.4000 - recall: 2.4973e-04 - val_loss: 0.4496 - val_precision: 0.0000e+00 - val_recall: 0.0000e+00\n",
            "Epoch 6/65\n",
            "19/19 [==============================] - 1s 35ms/step - loss: 0.4313 - precision: 0.3498 - recall: 0.0049 - val_loss: 0.4428 - val_precision: 0.0000e+00 - val_recall: 0.0000e+00\n",
            "Epoch 7/65\n",
            "19/19 [==============================] - 1s 43ms/step - loss: 0.4237 - precision: 0.3679 - recall: 0.0128 - val_loss: 0.4342 - val_precision: 0.0000e+00 - val_recall: 0.0000e+00\n",
            "Epoch 8/65\n",
            "19/19 [==============================] - 1s 36ms/step - loss: 0.4141 - precision: 0.6076 - recall: 0.0055 - val_loss: 0.4369 - val_precision: 0.0000e+00 - val_recall: 0.0000e+00\n",
            "Epoch 9/65\n",
            "19/19 [==============================] - 1s 51ms/step - loss: 0.4121 - precision: 0.4085 - recall: 0.0093 - val_loss: 0.4294 - val_precision: 0.0000e+00 - val_recall: 0.0000e+00\n",
            "Epoch 10/65\n",
            "19/19 [==============================] - 1s 42ms/step - loss: 0.4092 - precision: 0.4508 - recall: 0.0086 - val_loss: 0.4265 - val_precision: 0.1667 - val_recall: 0.0013\n",
            "Epoch 11/65\n",
            "19/19 [==============================] - 1s 41ms/step - loss: 0.4062 - precision: 0.4452 - recall: 0.0087 - val_loss: 0.4288 - val_precision: 0.1176 - val_recall: 0.0013\n",
            "Epoch 12/65\n",
            "19/19 [==============================] - 0s 27ms/step - loss: 0.4058 - precision: 0.3791 - recall: 0.0109 - val_loss: 0.4255 - val_precision: 0.1053 - val_recall: 0.0013\n",
            "Epoch 13/65\n",
            "19/19 [==============================] - 0s 27ms/step - loss: 0.4038 - precision: 0.4428 - recall: 0.0093 - val_loss: 0.4238 - val_precision: 0.1111 - val_recall: 0.0019\n",
            "Epoch 14/65\n",
            "19/19 [==============================] - 0s 27ms/step - loss: 0.4044 - precision: 0.3860 - recall: 0.0104 - val_loss: 0.4254 - val_precision: 0.1290 - val_recall: 0.0026\n",
            "Epoch 15/65\n",
            "19/19 [==============================] - 0s 12ms/step - loss: 0.4033 - precision: 0.3841 - recall: 0.0091 - val_loss: 0.4232 - val_precision: 0.1111 - val_recall: 0.0026\n",
            "Epoch 16/65\n",
            "19/19 [==============================] - 1s 41ms/step - loss: 0.4010 - precision: 0.3720 - recall: 0.0073 - val_loss: 0.4159 - val_precision: 0.1304 - val_recall: 0.0039\n",
            "Epoch 17/65\n",
            "19/19 [==============================] - 1s 28ms/step - loss: 0.4013 - precision: 0.3456 - recall: 0.0056 - val_loss: 0.4387 - val_precision: 0.1744 - val_recall: 0.0291\n",
            "Epoch 18/65\n",
            "19/19 [==============================] - 1s 21ms/step - loss: 0.4018 - precision: 0.3934 - recall: 0.0089 - val_loss: 0.4223 - val_precision: 0.2083 - val_recall: 0.0291\n",
            "Epoch 19/65\n",
            "19/19 [==============================] - 0s 21ms/step - loss: 0.4000 - precision: 0.3986 - recall: 0.0139 - val_loss: 0.4278 - val_precision: 0.2571 - val_recall: 0.0291\n",
            "Epoch 20/65\n",
            "19/19 [==============================] - 0s 22ms/step - loss: 0.4003 - precision: 0.3819 - recall: 0.0071 - val_loss: 0.4233 - val_precision: 0.4545 - val_recall: 0.0291\n",
            "Epoch 21/65\n",
            "19/19 [==============================] - 0s 22ms/step - loss: 0.3986 - precision: 0.4702 - recall: 0.0076 - val_loss: 0.4324 - val_precision: 0.3309 - val_recall: 0.0291\n",
            "Epoch 22/65\n",
            "19/19 [==============================] - 0s 13ms/step - loss: 0.3996 - precision: 0.3554 - recall: 0.0091 - val_loss: 0.4247 - val_precision: 0.3309 - val_recall: 0.0291\n",
            "Epoch 23/65\n",
            "19/19 [==============================] - 0s 21ms/step - loss: 0.3987 - precision: 0.3952 - recall: 0.0051 - val_loss: 0.4186 - val_precision: 0.1111 - val_recall: 0.0019\n",
            "Epoch 24/65\n",
            "19/19 [==============================] - 0s 19ms/step - loss: 0.4011 - precision: 0.3571 - recall: 0.0012 - val_loss: 0.4302 - val_precision: 0.1000 - val_recall: 0.0013\n",
            "Epoch 25/65\n",
            "19/19 [==============================] - 0s 12ms/step - loss: 0.4007 - precision: 0.3425 - recall: 0.0016 - val_loss: 0.4216 - val_precision: 0.1111 - val_recall: 0.0013\n",
            "Epoch 26/65\n",
            "19/19 [==============================] - 0s 12ms/step - loss: 0.3999 - precision: 0.3727 - recall: 0.0013 - val_loss: 0.4211 - val_precision: 0.1111 - val_recall: 0.0013\n",
            "Epoch 27/65\n",
            "19/19 [==============================] - 0s 12ms/step - loss: 0.3998 - precision: 0.3652 - recall: 0.0013 - val_loss: 0.4221 - val_precision: 0.1111 - val_recall: 0.0013\n",
            "Epoch 28/65\n",
            "19/19 [==============================] - 0s 19ms/step - loss: 0.3967 - precision: 0.3684 - recall: 0.0013 - val_loss: 0.4294 - val_precision: 0.1111 - val_recall: 0.0013\n",
            "Epoch 29/65\n",
            "19/19 [==============================] - 0s 20ms/step - loss: 0.4023 - precision: 0.3793 - recall: 0.0014 - val_loss: 0.4205 - val_precision: 0.1111 - val_recall: 0.0013\n",
            "Epoch 30/65\n",
            "19/19 [==============================] - 0s 20ms/step - loss: 0.4009 - precision: 0.3889 - recall: 0.0011 - val_loss: 0.4224 - val_precision: 0.1111 - val_recall: 0.0013\n",
            "Epoch 31/65\n",
            "19/19 [==============================] - 0s 12ms/step - loss: 0.3990 - precision: 0.3854 - recall: 0.0012 - val_loss: 0.4252 - val_precision: 0.1111 - val_recall: 0.0013\n",
            "Epoch 32/65\n",
            "19/19 [==============================] - 0s 12ms/step - loss: 0.3971 - precision: 0.3933 - recall: 0.0011 - val_loss: 0.4160 - val_precision: 0.1111 - val_recall: 0.0013\n",
            "Epoch 33/65\n",
            "19/19 [==============================] - 0s 12ms/step - loss: 0.3952 - precision: 0.3846 - recall: 0.0012 - val_loss: 0.4190 - val_precision: 0.1111 - val_recall: 0.0013\n",
            "Epoch 34/65\n",
            "19/19 [==============================] - 0s 12ms/step - loss: 0.3903 - precision: 0.3407 - recall: 0.0014 - val_loss: 0.4186 - val_precision: 0.1111 - val_recall: 0.0013\n",
            "Epoch 35/65\n",
            "19/19 [==============================] - 0s 20ms/step - loss: 0.3873 - precision: 0.3450 - recall: 0.0022 - val_loss: 0.4195 - val_precision: 0.1053 - val_recall: 0.0013\n",
            "Epoch 36/65\n",
            "19/19 [==============================] - 0s 20ms/step - loss: 0.3825 - precision: 0.3878 - recall: 0.0042 - val_loss: 0.4112 - val_precision: 0.1739 - val_recall: 0.0026\n",
            "Epoch 37/65\n",
            "19/19 [==============================] - 0s 19ms/step - loss: 0.3743 - precision: 0.3383 - recall: 0.0043 - val_loss: 0.4063 - val_precision: 0.1250 - val_recall: 0.0019\n",
            "Epoch 38/65\n",
            "19/19 [==============================] - 0s 20ms/step - loss: 0.3747 - precision: 0.4364 - recall: 0.0047 - val_loss: 0.4031 - val_precision: 0.1250 - val_recall: 0.0019\n",
            "Epoch 39/65\n",
            "19/19 [==============================] - 0s 20ms/step - loss: 0.3706 - precision: 0.4486 - recall: 0.0119 - val_loss: 0.4024 - val_precision: 0.1429 - val_recall: 0.0045\n",
            "Epoch 40/65\n",
            "19/19 [==============================] - 0s 12ms/step - loss: 0.3621 - precision: 0.3945 - recall: 0.0194 - val_loss: 0.4039 - val_precision: 0.1176 - val_recall: 0.0039\n",
            "Epoch 41/65\n",
            "19/19 [==============================] - 0s 12ms/step - loss: 0.3610 - precision: 0.4598 - recall: 0.0365 - val_loss: 0.4129 - val_precision: 0.1321 - val_recall: 0.0045\n",
            "Epoch 42/65\n",
            "19/19 [==============================] - 0s 19ms/step - loss: 0.3629 - precision: 0.4209 - recall: 0.0400 - val_loss: 0.3920 - val_precision: 0.1132 - val_recall: 0.0039\n",
            "Epoch 43/65\n",
            "19/19 [==============================] - 0s 12ms/step - loss: 0.3584 - precision: 0.3897 - recall: 0.0343 - val_loss: 0.3983 - val_precision: 0.5933 - val_recall: 0.1027\n",
            "Epoch 44/65\n",
            "19/19 [==============================] - 0s 12ms/step - loss: 0.3534 - precision: 0.4597 - recall: 0.0727 - val_loss: 0.4067 - val_precision: 0.0707 - val_recall: 0.0045\n",
            "Epoch 45/65\n",
            "19/19 [==============================] - 0s 12ms/step - loss: 0.3411 - precision: 0.4762 - recall: 0.0938 - val_loss: 0.4093 - val_precision: 0.4816 - val_recall: 0.1014\n",
            "Epoch 46/65\n",
            "19/19 [==============================] - 0s 12ms/step - loss: 0.3382 - precision: 0.5233 - recall: 0.1209 - val_loss: 0.4357 - val_precision: 0.1458 - val_recall: 0.0323\n",
            "Epoch 47/65\n",
            "19/19 [==============================] - 0s 12ms/step - loss: 0.3376 - precision: 0.5000 - recall: 0.1352 - val_loss: 0.4123 - val_precision: 0.3117 - val_recall: 0.0310\n",
            "Epoch 48/65\n",
            "19/19 [==============================] - 0s 12ms/step - loss: 0.3341 - precision: 0.4826 - recall: 0.1075 - val_loss: 0.4153 - val_precision: 0.5184 - val_recall: 0.1001\n",
            "Epoch 49/65\n",
            "19/19 [==============================] - 0s 12ms/step - loss: 0.3383 - precision: 0.4700 - recall: 0.1172 - val_loss: 0.4221 - val_precision: 0.0758 - val_recall: 0.0065\n",
            "Epoch 50/65\n",
            "19/19 [==============================] - 0s 12ms/step - loss: 0.3366 - precision: 0.4940 - recall: 0.1143 - val_loss: 0.4280 - val_precision: 0.1988 - val_recall: 0.0846\n",
            "Epoch 51/65\n",
            "19/19 [==============================] - 0s 12ms/step - loss: 0.3312 - precision: 0.4683 - recall: 0.1434 - val_loss: 0.4253 - val_precision: 0.2832 - val_recall: 0.0317\n",
            "Epoch 52/65\n",
            "19/19 [==============================] - 0s 12ms/step - loss: 0.3231 - precision: 0.5010 - recall: 0.1121 - val_loss: 0.4246 - val_precision: 0.1782 - val_recall: 0.0381\n",
            "Epoch 53/65\n",
            "19/19 [==============================] - 0s 19ms/step - loss: 0.3229 - precision: 0.4969 - recall: 0.1929 - val_loss: 0.4344 - val_precision: 0.2398 - val_recall: 0.0342\n",
            "Epoch 54/65\n",
            "19/19 [==============================] - 0s 22ms/step - loss: 0.3177 - precision: 0.5085 - recall: 0.1667 - val_loss: 0.4430 - val_precision: 0.2862 - val_recall: 0.1072\n",
            "Epoch 55/65\n",
            "19/19 [==============================] - 0s 12ms/step - loss: 0.3233 - precision: 0.5081 - recall: 0.2000 - val_loss: 0.4436 - val_precision: 0.2289 - val_recall: 0.0594\n",
            "Epoch 56/65\n",
            "19/19 [==============================] - 0s 12ms/step - loss: 0.3227 - precision: 0.5390 - recall: 0.1875 - val_loss: 0.4371 - val_precision: 0.2582 - val_recall: 0.0355\n",
            "Epoch 57/65\n",
            "19/19 [==============================] - 0s 12ms/step - loss: 0.3203 - precision: 0.5381 - recall: 0.1941 - val_loss: 0.4376 - val_precision: 0.3262 - val_recall: 0.0788\n",
            "Epoch 58/65\n",
            "19/19 [==============================] - 0s 13ms/step - loss: 0.3108 - precision: 0.5672 - recall: 0.2263 - val_loss: 0.4437 - val_precision: 0.4454 - val_recall: 0.1292\n",
            "Epoch 59/65\n",
            "19/19 [==============================] - 0s 13ms/step - loss: 0.3071 - precision: 0.5633 - recall: 0.2556 - val_loss: 0.4466 - val_precision: 0.2710 - val_recall: 0.0898\n",
            "Epoch 60/65\n",
            "19/19 [==============================] - 0s 21ms/step - loss: 0.3029 - precision: 0.5875 - recall: 0.2832 - val_loss: 0.4481 - val_precision: 0.3026 - val_recall: 0.1124\n",
            "Epoch 61/65\n",
            "19/19 [==============================] - 0s 21ms/step - loss: 0.2999 - precision: 0.5992 - recall: 0.2902 - val_loss: 0.4263 - val_precision: 0.3750 - val_recall: 0.1182\n",
            "Epoch 62/65\n",
            "19/19 [==============================] - 0s 20ms/step - loss: 0.3053 - precision: 0.6328 - recall: 0.2732 - val_loss: 0.4474 - val_precision: 0.2191 - val_recall: 0.1098\n",
            "Epoch 63/65\n",
            "19/19 [==============================] - 0s 20ms/step - loss: 0.2934 - precision: 0.6597 - recall: 0.3432 - val_loss: 0.4297 - val_precision: 0.2505 - val_recall: 0.1596\n",
            "Epoch 64/65\n",
            "19/19 [==============================] - 0s 21ms/step - loss: 0.2871 - precision: 0.7162 - recall: 0.3322 - val_loss: 0.4589 - val_precision: 0.2261 - val_recall: 0.1531\n",
            "Epoch 65/65\n",
            "19/19 [==============================] - 0s 13ms/step - loss: 0.2866 - precision: 0.7262 - recall: 0.3810 - val_loss: 0.4517 - val_precision: 0.2389 - val_recall: 0.1318\n"
          ]
        },
        {
          "output_type": "execute_result",
          "data": {
            "text/plain": [
              "<keras.callbacks.History at 0x7fec102be6b0>"
            ]
          },
          "metadata": {},
          "execution_count": 36
        }
      ]
    },
    {
      "cell_type": "markdown",
      "source": [
        "I developed a model by adjusting hyperparameters and changing the number of layers to prevent overfitting with the available data. The training loss was 0.28, and the validation loss was 0.45, yielding similar results. However, when examining the metrics, both precision and recall appear to be low. I would like to highlight two points:\n",
        "\n",
        "It's important to remember that accuracy measures whether an instance is predicted entirely correct or not. In this case, the prediction result is an array of probabilities, and the accuracy metric checks for an exact match between this array and the target array. It doesn't consider the matching ratio of individual labels within the array. Therefore, I believe that considering label-level matching would yield better results. Unfortunately, as of now, Keras does not provide a specific metric like \"precision per item\" for multi-label problems, so I couldn't use it.\n",
        "The dataset is very small, which limits its ability to generalize. We will see this issue more clearly when evaluating the model on the test set.\n",
        "In summary, the model achieved relatively low precision and recall due to the limitations of the dataset size and the chosen evaluation metrics.\n",
        "\n",
        "\n",
        "\n"
      ],
      "metadata": {
        "id": "agmbBjRlaRin"
      }
    },
    {
      "cell_type": "code",
      "source": [
        "model.save(\"model.keras\")"
      ],
      "metadata": {
        "id": "4lGDwuCOFVWI"
      },
      "execution_count": null,
      "outputs": []
    },
    {
      "cell_type": "code",
      "source": [
        "model2 = load_model(\"model.keras\")\n"
      ],
      "metadata": {
        "id": "gTT3rwTAFja8"
      },
      "execution_count": null,
      "outputs": []
    },
    {
      "cell_type": "markdown",
      "source": [
        "In this section, I am applying the same data cleaning process that I performed on the training set to the test set."
      ],
      "metadata": {
        "id": "zRIL9sxvd_vW"
      }
    },
    {
      "cell_type": "code",
      "source": [
        "import pandas as pd\n",
        "import requests\n",
        "import re\n",
        "\n",
        "url = \"https://github.com/yangheng95/ABSADatasets/raw/v2.0/datasets/apc_datasets/120.SemEval2016Task5/128.turkish/restaurants_test_turkish.xml.dat.inference\"\n",
        "\n",
        "# Read the file from the URL\n",
        "response = requests.get(url)\n",
        "data = response.content.decode(\"utf-8\")\n",
        "\n",
        "# Create a DataFrame with the desired columns\n",
        "df = pd.DataFrame(columns=[\"text\", \"aspect\", \"sentiment\"])\n",
        "\n",
        "# Process each line of the file\n",
        "for line in data.split(\"\\n\"):\n",
        "    if line:\n",
        "        matches = re.match(r\"(.*?)\\[B-ASP\\](.*?)\\[E-ASP\\](.*?)\\$LABEL\\$(.*)\", line)\n",
        "        if matches:\n",
        "            text = matches.group(1) + matches.group(2) + matches.group(3)\n",
        "            aspect = matches.group(2)\n",
        "            sentiment = matches.group(4)\n",
        "            df = df.append({\"text\": text.strip(), \"aspect\": aspect.strip(), \"sentiment\": sentiment.strip()}, ignore_index=True)\n",
        "\n",
        "# Display the resulting DataFrame\n"
      ],
      "metadata": {
        "id": "YCRaOtkiFxR5"
      },
      "execution_count": null,
      "outputs": []
    },
    {
      "cell_type": "code",
      "source": [
        "df.head()"
      ],
      "metadata": {
        "colab": {
          "base_uri": "https://localhost:8080/",
          "height": 206
        },
        "id": "oUWbmt1lKCD_",
        "outputId": "e02168d5-90d5-4f3d-938b-12f979b2d362"
      },
      "execution_count": null,
      "outputs": [
        {
          "output_type": "execute_result",
          "data": {
            "text/plain": [
              "                                     text          aspect sentiment\n",
              "0                     Serviste cok guzel.        Serviste  Positive\n",
              "1                        Ortam cok guzel.           Ortam  Positive\n",
              "2         En beğendigimiz sushico şubesi.  sushico şubesi  Positive\n",
              "3             Bahçesi çok güzel ve ferah.         Bahçesi  Positive\n",
              "4  Sushi ustasi cok becerikli ve şakaci :    Sushi ustasi  Positive"
            ],
            "text/html": [
              "\n",
              "  <div id=\"df-98155fc7-3af2-4b85-90d9-1fc94c84ff74\">\n",
              "    <div class=\"colab-df-container\">\n",
              "      <div>\n",
              "<style scoped>\n",
              "    .dataframe tbody tr th:only-of-type {\n",
              "        vertical-align: middle;\n",
              "    }\n",
              "\n",
              "    .dataframe tbody tr th {\n",
              "        vertical-align: top;\n",
              "    }\n",
              "\n",
              "    .dataframe thead th {\n",
              "        text-align: right;\n",
              "    }\n",
              "</style>\n",
              "<table border=\"1\" class=\"dataframe\">\n",
              "  <thead>\n",
              "    <tr style=\"text-align: right;\">\n",
              "      <th></th>\n",
              "      <th>text</th>\n",
              "      <th>aspect</th>\n",
              "      <th>sentiment</th>\n",
              "    </tr>\n",
              "  </thead>\n",
              "  <tbody>\n",
              "    <tr>\n",
              "      <th>0</th>\n",
              "      <td>Serviste cok guzel.</td>\n",
              "      <td>Serviste</td>\n",
              "      <td>Positive</td>\n",
              "    </tr>\n",
              "    <tr>\n",
              "      <th>1</th>\n",
              "      <td>Ortam cok guzel.</td>\n",
              "      <td>Ortam</td>\n",
              "      <td>Positive</td>\n",
              "    </tr>\n",
              "    <tr>\n",
              "      <th>2</th>\n",
              "      <td>En beğendigimiz sushico şubesi.</td>\n",
              "      <td>sushico şubesi</td>\n",
              "      <td>Positive</td>\n",
              "    </tr>\n",
              "    <tr>\n",
              "      <th>3</th>\n",
              "      <td>Bahçesi çok güzel ve ferah.</td>\n",
              "      <td>Bahçesi</td>\n",
              "      <td>Positive</td>\n",
              "    </tr>\n",
              "    <tr>\n",
              "      <th>4</th>\n",
              "      <td>Sushi ustasi cok becerikli ve şakaci :</td>\n",
              "      <td>Sushi ustasi</td>\n",
              "      <td>Positive</td>\n",
              "    </tr>\n",
              "  </tbody>\n",
              "</table>\n",
              "</div>\n",
              "      <button class=\"colab-df-convert\" onclick=\"convertToInteractive('df-98155fc7-3af2-4b85-90d9-1fc94c84ff74')\"\n",
              "              title=\"Convert this dataframe to an interactive table.\"\n",
              "              style=\"display:none;\">\n",
              "        \n",
              "  <svg xmlns=\"http://www.w3.org/2000/svg\" height=\"24px\"viewBox=\"0 0 24 24\"\n",
              "       width=\"24px\">\n",
              "    <path d=\"M0 0h24v24H0V0z\" fill=\"none\"/>\n",
              "    <path d=\"M18.56 5.44l.94 2.06.94-2.06 2.06-.94-2.06-.94-.94-2.06-.94 2.06-2.06.94zm-11 1L8.5 8.5l.94-2.06 2.06-.94-2.06-.94L8.5 2.5l-.94 2.06-2.06.94zm10 10l.94 2.06.94-2.06 2.06-.94-2.06-.94-.94-2.06-.94 2.06-2.06.94z\"/><path d=\"M17.41 7.96l-1.37-1.37c-.4-.4-.92-.59-1.43-.59-.52 0-1.04.2-1.43.59L10.3 9.45l-7.72 7.72c-.78.78-.78 2.05 0 2.83L4 21.41c.39.39.9.59 1.41.59.51 0 1.02-.2 1.41-.59l7.78-7.78 2.81-2.81c.8-.78.8-2.07 0-2.86zM5.41 20L4 18.59l7.72-7.72 1.47 1.35L5.41 20z\"/>\n",
              "  </svg>\n",
              "      </button>\n",
              "      \n",
              "  <style>\n",
              "    .colab-df-container {\n",
              "      display:flex;\n",
              "      flex-wrap:wrap;\n",
              "      gap: 12px;\n",
              "    }\n",
              "\n",
              "    .colab-df-convert {\n",
              "      background-color: #E8F0FE;\n",
              "      border: none;\n",
              "      border-radius: 50%;\n",
              "      cursor: pointer;\n",
              "      display: none;\n",
              "      fill: #1967D2;\n",
              "      height: 32px;\n",
              "      padding: 0 0 0 0;\n",
              "      width: 32px;\n",
              "    }\n",
              "\n",
              "    .colab-df-convert:hover {\n",
              "      background-color: #E2EBFA;\n",
              "      box-shadow: 0px 1px 2px rgba(60, 64, 67, 0.3), 0px 1px 3px 1px rgba(60, 64, 67, 0.15);\n",
              "      fill: #174EA6;\n",
              "    }\n",
              "\n",
              "    [theme=dark] .colab-df-convert {\n",
              "      background-color: #3B4455;\n",
              "      fill: #D2E3FC;\n",
              "    }\n",
              "\n",
              "    [theme=dark] .colab-df-convert:hover {\n",
              "      background-color: #434B5C;\n",
              "      box-shadow: 0px 1px 3px 1px rgba(0, 0, 0, 0.15);\n",
              "      filter: drop-shadow(0px 1px 2px rgba(0, 0, 0, 0.3));\n",
              "      fill: #FFFFFF;\n",
              "    }\n",
              "  </style>\n",
              "\n",
              "      <script>\n",
              "        const buttonEl =\n",
              "          document.querySelector('#df-98155fc7-3af2-4b85-90d9-1fc94c84ff74 button.colab-df-convert');\n",
              "        buttonEl.style.display =\n",
              "          google.colab.kernel.accessAllowed ? 'block' : 'none';\n",
              "\n",
              "        async function convertToInteractive(key) {\n",
              "          const element = document.querySelector('#df-98155fc7-3af2-4b85-90d9-1fc94c84ff74');\n",
              "          const dataTable =\n",
              "            await google.colab.kernel.invokeFunction('convertToInteractive',\n",
              "                                                     [key], {});\n",
              "          if (!dataTable) return;\n",
              "\n",
              "          const docLinkHtml = 'Like what you see? Visit the ' +\n",
              "            '<a target=\"_blank\" href=https://colab.research.google.com/notebooks/data_table.ipynb>data table notebook</a>'\n",
              "            + ' to learn more about interactive tables.';\n",
              "          element.innerHTML = '';\n",
              "          dataTable['output_type'] = 'display_data';\n",
              "          await google.colab.output.renderOutput(dataTable, element);\n",
              "          const docLink = document.createElement('div');\n",
              "          docLink.innerHTML = docLinkHtml;\n",
              "          element.appendChild(docLink);\n",
              "        }\n",
              "      </script>\n",
              "    </div>\n",
              "  </div>\n",
              "  "
            ]
          },
          "metadata": {},
          "execution_count": 40
        }
      ]
    },
    {
      "cell_type": "code",
      "source": [
        "df['text'] = df['text'].str.lower()\n",
        "df['aspect'] = df['aspect'].str.lower()\n",
        "df['text'] = df['text'].str.replace(r\"'\", '')\n",
        "df['aspect'] = df['aspect'].str.replace(r\"'\", '')\n",
        "df['text'] = df['text'].str.replace(r\"-\", '')\n",
        "df['aspect'] = df['aspect'].str.replace(r\"-\", '')\n",
        "df['text'] = df['text'].str.replace(r\"(\", '')\n",
        "df['aspect'] = df['aspect'].str.replace(r\"(\", '')\n",
        "df['text'] = df['text'].str.replace(r\")\", '')\n",
        "df['aspect'] = df['aspect'].str.replace(r\")\", '')\n"
      ],
      "metadata": {
        "id": "jVJCq58ENVsH"
      },
      "execution_count": null,
      "outputs": []
    },
    {
      "cell_type": "code",
      "source": [
        "aspect_num=df['aspect'].nunique()\n",
        "aspect_num"
      ],
      "metadata": {
        "id": "CS1gQz2eok3u",
        "colab": {
          "base_uri": "https://localhost:8080/"
        },
        "outputId": "8a038a14-3a9b-4001-b6d1-ce1c14f5c671"
      },
      "execution_count": null,
      "outputs": [
        {
          "output_type": "execute_result",
          "data": {
            "text/plain": [
              "117"
            ]
          },
          "metadata": {},
          "execution_count": 42
        }
      ]
    },
    {
      "cell_type": "code",
      "source": [
        "df = df.drop('sentiment', axis=1)\n"
      ],
      "metadata": {
        "id": "ioSpzcwF1i0z"
      },
      "execution_count": null,
      "outputs": []
    },
    {
      "cell_type": "code",
      "source": [
        "df['aspect'] = df['aspect'].astype(str)\n",
        "df['text'] = df['text'].astype(str)\n",
        "\n",
        "df.info()"
      ],
      "metadata": {
        "colab": {
          "base_uri": "https://localhost:8080/"
        },
        "id": "CA3PCnPv1xhD",
        "outputId": "759fe35d-4dcd-4ddb-bc11-66c9f518bdeb"
      },
      "execution_count": null,
      "outputs": [
        {
          "output_type": "stream",
          "name": "stdout",
          "text": [
            "<class 'pandas.core.frame.DataFrame'>\n",
            "RangeIndex: 145 entries, 0 to 144\n",
            "Data columns (total 2 columns):\n",
            " #   Column  Non-Null Count  Dtype \n",
            "---  ------  --------------  ----- \n",
            " 0   text    145 non-null    object\n",
            " 1   aspect  145 non-null    object\n",
            "dtypes: object(2)\n",
            "memory usage: 2.4+ KB\n"
          ]
        }
      ]
    },
    {
      "cell_type": "code",
      "source": [
        "df['aspect'].value_counts()"
      ],
      "metadata": {
        "colab": {
          "base_uri": "https://localhost:8080/"
        },
        "id": "SjUJVB4rASc2",
        "outputId": "56143c24-e8bd-4a52-a422-dfeb74ce7bdc"
      },
      "execution_count": null,
      "outputs": [
        {
          "output_type": "execute_result",
          "data": {
            "text/plain": [
              "mekan                           7\n",
              "servis                          5\n",
              "yemekler                        3\n",
              "etler                           3\n",
              "fiyatlar                        3\n",
              "garsonlar                       3\n",
              "lezzetler                       2\n",
              "saç arasi                       2\n",
              "döner                           2\n",
              "çalışanları                     2\n",
              "kahvalti                        2\n",
              "biçak arasi                     2\n",
              "ambiyans                        2\n",
              "çalışanlar                      2\n",
              "yemekleri                       2\n",
              "garsonlarin                     2\n",
              "kebapları                       1\n",
              "kuzu kol                        1\n",
              "zeytinyağlılar                  1\n",
              "salonlar                        1\n",
              "imambayıldı                     1\n",
              "konumu                          1\n",
              "lahmacun                        1\n",
              "manzarası                       1\n",
              "lezzeti                         1\n",
              "fiyatlara                       1\n",
              "garsonlari                      1\n",
              "beyoglunda ki subede            1\n",
              "9,5 tl                          1\n",
              "pilavda                         1\n",
              "tavuklarin                      1\n",
              "tatlar                          1\n",
              "bıçak arası                     1\n",
              "tereyağlı mercimek çorbası      1\n",
              "koyu ayranı                     1\n",
              "serviste                        1\n",
              "lokanta                         1\n",
              "dolmaları                       1\n",
              "mekanların                      1\n",
              "solda                           1\n",
              "su böreği                       1\n",
              "çayı                            1\n",
              "kahvaltısı                      1\n",
              "koku                            1\n",
              "porsiyon miktarı                1\n",
              "manzara                         1\n",
              "sipariş                         1\n",
              "ambiyans ve dekorasyon          1\n",
              "katmer                          1\n",
              "fıstıklı kebap                  1\n",
              "lahmacun ve içliköfte           1\n",
              "susileri                        1\n",
              "lezzet                          1\n",
              "yogurt                          1\n",
              "sos                             1\n",
              "iskenderi                       1\n",
              "döneri                          1\n",
              "çayi                            1\n",
              "sütlü tatlilari                 1\n",
              "dondurması                      1\n",
              "tatlılarını                     1\n",
              "öğle ve akşam yemekleriyle      1\n",
              "et yemekler                     1\n",
              "çin yemekleri                   1\n",
              "tarihi bina                     1\n",
              "1600 tl                         1\n",
              "fiyata                          1\n",
              "et                              1\n",
              "sushiler                        1\n",
              "susi                            1\n",
              "cikolatali karayip katlarini    1\n",
              "marina manzarasi                1\n",
              "geliyor                         1\n",
              "lezzetleri                      1\n",
              "dekorasyonu                     1\n",
              "yemek                           1\n",
              "mekanın sahibi                  1\n",
              "tatlılar                        1\n",
              "tatların                        1\n",
              "bicak arasi                     1\n",
              "mekanın                         1\n",
              "kola                            1\n",
              "ekmeklerde                      1\n",
              "tavuk sis                       1\n",
              "künefesini                      1\n",
              "fiyatları                       1\n",
              "menü çeşitleri                  1\n",
              "sushi ustasi                    1\n",
              "bahçesi                         1\n",
              "sushico şubesi                  1\n",
              "yemeklerinizz                   1\n",
              "çikolatalı saray muhallebisi    1\n",
              "i̇ftar servisini                1\n",
              "et köfte                        1\n",
              "personel                        1\n",
              "oturumu                         1\n",
              "kahve ve caylar                 1\n",
              "ortam                           1\n",
              "design                          1\n",
              "hesap                           1\n",
              "lahmacunu tavugu                1\n",
              "kebap                           1\n",
              "künefe                          1\n",
              "kırmızı et                      1\n",
              "aksesuarlar                     1\n",
              "krem karamel                    1\n",
              "deniz ürünleri salatası         1\n",
              "lezzetine                       1\n",
              "mekanın yeri                    1\n",
              "başakşehir şubesi               1\n",
              "etli ekmeğinin                  1\n",
              "teras katında                   1\n",
              "katlara                         1\n",
              "şubesi                          1\n",
              "pilav üstü döneri               1\n",
              "ayva tatlısından                1\n",
              "buranın                         1\n",
              "Name: aspect, dtype: int64"
            ]
          },
          "metadata": {},
          "execution_count": 45
        }
      ]
    },
    {
      "cell_type": "code",
      "source": [
        "import re\n",
        "\n",
        "lemma = ['ortam', 'manzara', 'yemek', 'kalite', 'yemegi', 'fiyat', 'garson', 'çay', 'salata', 'guvec', 'sube', 'köşe', 'pilav','mekan','ürün','sütlac',\n",
        "        'sos','lokum', 'servis', 'sütlaç','porsiyon','lezzet', 'beşiktaş', 'lezzet','sipariş','kenar', 'orta', 'bütçe', 'yer', 'meze',\n",
        "         'kağıt', 'köprü', 'ışık','hisar','müzik', 'döner', 'et', 'dilim', 'wrap','tavuk','tad', 'tuvalet', 'eleman', 'servis', 'spesyal',\n",
        "         'tatlı','kuaför','restoran', 'hanım', 'getir', 'bölüm', 'bey','işletmeci',\n",
        "         'baklava', 'bura', 'geçir', 'çalışan','ilgi','hamburger','porsiyon','seçim','çeşit','fasulye','fasülye','kahvaltı',\n",
        "         'koku','döner','yoğurt','bütçe','kızartma','ara','hizmet', 'merkez','bira','magnolia','ızdara','dekorasyon','seçenek', 'gel',\n",
        "         'kesim','lavas','kebap','kebab', 'arkadaş','yer','aroma', 'sufle','ikram','parça','halk', 'manti','mantı','ayran','konum','hesap','paket', 'malzeme', 'boğaz',\n",
        "         'başlangıç', 'kart','helva','sis','lahmacun','balıkçı','dükkan','tereyağ','künefe','salep','bilgilendirme','nargile', 'menü','tavır','musteri','müessese', 'masa','konum',\n",
        "         'vale','sunum','çanak','tavuk göğsü','içecek','işletme','aşk-ı memnu', 'fıccın', 'yumurta','bal','sokak','ev','aperitif','aperatif','nargile','biber','personel',\n",
        "         'terbiyesiz','renk','ayran', 'manti','mantı','bahçe','aşkı memnu','pizza','menemen','çorba','corba','sube','şube', 'bahce','alan','calisan','limon',\n",
        "         'müşteri','dem','limonata','pasta','patates','su', 'puding','kalabalık','şey','kafe','ulaşım','bekleme','gecikme','pudding']\n",
        "for replacement in lemma:\n",
        "    pattern = fr'\\b{replacement}\\w*\\b'\n",
        "    df['aspect'] = df['aspect'].apply(lambda x: re.sub(pattern, replacement, x))\n"
      ],
      "metadata": {
        "id": "57P4U_6B1xwU"
      },
      "execution_count": null,
      "outputs": []
    },
    {
      "cell_type": "code",
      "source": [
        "\n",
        "\n",
        "\n",
        "word_pairs = {'işletmeci': 'sahibi', 'hesap': 'fiyat', 'dem':'çay','ekmeği':'ekmek','yediğimi':'yemek','bütçe':'fiyat','doyduk':'doymak','yemeğini':'yemek','merkez':'mekan',\n",
        "              'salıncağı':'salıncak','kisiyorum':'kısmak','seçeneğiniz':'seçenek','fiyat skalasını':'fiyat', 'kebab':'kebap', 'yediklerimden':'yemek', 'e5 üstünde':'konum',\n",
        "              'beklesekte':'gecikme', 'anzarası':'manzara', 'kalkmak':'kalabalık','gidilebilir':'mekan','sabah kahvaltısı':'kahvaltı', 'geniş bahçesi ve terası':'bahçe','nusretinki':'yemek',\n",
        "            'kedi böreği':'börek','host ediyorlar':'servis','otagtepenin manzara':'manzara', 'kestanesi suflesi':'sufle', 'fresh meyve suları':'meyve suyu','boğazın göbeğinde':'konum',\n",
        "              'manti':'mantı','serpme kahvaltı':'kahvaltı','çay veya kahve':'içecek', 'kahve':'içecek','çay':'içecek','canlı müzik':'müzik', 'lynchburgleri':'hamburger',\n",
        "              '80/90 tl hesap':'hesap', 'İthal peynir tabağındaki peynirler':'peynir)', 'pahalanmış':'fiyat', 'üst kat terası':'teras', 'Patlıcanlı zeytinli penne':'penne','Sipariş almaya geç gel':'gecikme',\n",
        "              'kurufasulye ve sütlaç':'yemek', 'çıkış yolu':'konum', '342 tl':'hesap','pide türleri':'çeşit','demlenen':'demlemek','ücrete':'fiyat','diyorlar':'demek',\n",
        "              'musteri':'müşteri','müessese':'işletme', 'lavas':'lavaş','yediriyor':'yedirmek', 'hersey':'her şey','her sey':'her şey', 'garson ilgi':'servis', 'garson':'servis',\n",
        "              'servis hızı':'servis', 'manzara parası':'fiyat', '13-14tl':'fiyat', 'ogle':'öğle', 'yer bulmak':'kalabalık','kirmizi limonata':'limonata', 'self servis':'servis', 'köfte':'köfte',\n",
        "              'pilav da kurufasulye de':'yemek', 'pazar kahvaltısı':'kahvaltı', 'sohbet orta':'ortam', 'yemeği':'yemek', 'kafe yemek':'yemek', 'iç dizaynını':'tasarım', 'kış aylarında':'kış',\n",
        "              'karamel ara çay':'çay', 'pizza fagotto':'pizza', 'sorbe dondurması':'dondurma', 'şatorbiryan isimli et':'et', 'mantar çorbası':'çorba', 'yiyecekleri':'yemek',\n",
        "              'yer bulamamak':'kalabalık', 'kahvalti':'kahvaltı', 'lezzet kalitesi':'lezzet', 'mekan tasarımı':'tasarım', 'ikisi de':'yemek','Passion fruitlu dondurması':'dondurma',\n",
        "              'aşşk-ı memnu':'aşkı-memnu', 'içindeki yağın':'yağ', 'gireceğimizi':'konum', 'cafe orta':'ortam', 'tavla, okey gibi oyunları':'oyun', 'yiyebilirsiniz':'yemek',\n",
        "              'maçlarını':'maç', 'kuru fasulye lezzet':'lezzet', 'mekan konum':'konum','mekan kimliği enerjisi':'ortam', 'otoparkta masa':'ortam', 'mekan üst katlarinda':'mekan',\n",
        "              'içi':'tasarım','servis eden':'servis', 'havuç dilimi':'baklava', 'el yapımı ayran':'ayran', 'küçük pizzaları':'pizza', 'domates sos':'sos',\n",
        "              'bira menüsü':'menü', 'ice tea ve limonataları':'içecek', 'et meze':'meze', 'çay çeşidi':'çeşit','damla sakızlı mastika keki':'kek', 'dekorasyon ve orta':'ortam',\n",
        "              'dekorasyon':'tasarım', 'çalışan':'garson','stres kontrolu':'kalabalık', 'istanbul şubesi':'şube', 'arka bahçesi':'bahçe','iyilerinden':'mekan', 'masa yer':'ortam',\n",
        "              'yer bulmak':'kalabalık','tereyağlı pilav':'pilav', 'hizmet':'servis','bura':'mekan', 'personel':'servis','yer':'mekan','orta':'ortam','ev yemek':'yemek','küçük pizzaları':'pizza',\n",
        "              '13.5 lira':'fiyat','4.5 lira':'fiyat','fıstıklı tat':'yemek',  'künefe':'dessert', 'baklava':'dessert','içki servis':'servis','patatesli mantı':'mantı', 'ev yemeği':'yemek', 'iç mekan konseptiyle':'tasarım',\n",
        "               'corba':'çorba', 'kofte':'köfte','iç alanı':'ortam', 'ny steak':'et', 'ayran':'içecek','orta':'ortam','alan':'ortam','ikram':'servis', 'ayran':'içecek','alkol':'içecek', 'calisan':'servis','hesabı':'fiyat', 'burger':'hamburger',\n",
        "              'limon':'limonata', 'yemege':'yemek', 'mayonez':'sos','musteri':'müşteri','cay':'çay','dondurma':'dessert','jager mojito':'içecek','yoğurdu':'yoğurt', 'tavirlarina':'hizmet', 'muamele':'hizmet', 'aşşkı memnu':'aşkı memnu', 'sote':'et',\n",
        "              'limonata':'içecek','kavurmalı':'et', 'sarap':'şarap', 'şarap':'içecek','görselliğe':'tasarım','lakerdası':'balık','ıstakoz':'balık','su':'içecek','sahlep':'içecek','ambians':'ortam','havuç dilim':'dessert',\n",
        "              'yenilen her şey':'yemek','dizaynı':'tasarım','kişi başı':'fiyat','somon':'balık','kapali kasarlisi':'pide', 'menu fiyat': 'fiyati','ev cafe':'cafe','ilgi':'servis', 'her şey':'yemek',\n",
        "              'ulasım':'ulaşım','ulaşım':'konum','bekleme':'gecikme','d bal izgara':'balık','mantı ficcini zeytinyağlı mezgiti':'yemek','koltukları':'ortam','irish malt':'içecek','fiyatn gel':'gecikme',\n",
        "              'gecikme':'servis','ev hanım':'müşteri','bira':'içecek','hamhamburger':'hamburger','lokasyon':'konum','pudding':'dessert', 'alkol':'içecek','aşkı memnu':'dessert', 'tatlı':'dessert', 'tl':'fiyat',\n",
        "              'atıştırmalık jumbo combo':'yemek','kebap':'et','kisi basi':'fiyat'}\n",
        "\n",
        "for word, replacement in word_pairs.items():\n",
        "    df['aspect'] = df['aspect'].str.replace(word, replacement)\n",
        "\n"
      ],
      "metadata": {
        "colab": {
          "base_uri": "https://localhost:8080/"
        },
        "id": "m-kyg2fu158R",
        "outputId": "e0167a9d-7cc6-40b2-ea8f-d9932110a629"
      },
      "execution_count": null,
      "outputs": [
        {
          "output_type": "stream",
          "name": "stderr",
          "text": [
            "<ipython-input-48-97f1f5d0b8e2>:29: FutureWarning: The default value of regex will change from True to False in a future version.\n",
            "  df['aspect'] = df['aspect'].str.replace(word, replacement)\n"
          ]
        }
      ]
    },
    {
      "cell_type": "code",
      "source": [
        "mylist=['pizza','çorba','tavuk','salata','patates','içecek','mekan','hamburger','biber','peynir','balık','müşteri','servis','penne', 'pide','ortam',\n",
        "        'fastfood','bahce','alkol','pilav','yemek','şube','sube','kahvalti','zeytinyag','dessert','et','köfte','manzara','menü','tost','çorba','kofte','kebap','fiyat']\n",
        "for aspect in mylist:\n",
        "    df.loc[df['aspect'].str.contains(aspect, case=False, na=False), 'aspect'] = aspect"
      ],
      "metadata": {
        "id": "JYqTQBBF2NMW"
      },
      "execution_count": null,
      "outputs": []
    },
    {
      "cell_type": "code",
      "source": [
        "df['aspect'] = df['aspect'].str.replace('dessert', 'tatlı')\n",
        "\n",
        "\n",
        "df.loc[df['aspect'].str.contains('kuzu', case=False, na=False), 'aspect'] = 'et'\n",
        "df.loc[df['aspect'].str.contains('teras', case=False, na=False), 'aspect'] = 'bahçe'\n",
        "df.loc[df['aspect'].str.contains('yoğurt', case=False, na=False), 'aspect'] = 'yoğurt'\n",
        "df.loc[df['aspect'].str.contains('yagindan', case=False, na=False), 'aspect'] = 'yemek'\n",
        "df.loc[df['aspect'].str.contains('pasta', case=False, na=False), 'aspect'] = 'tatlı'\n",
        "df.loc[df['aspect'].str.contains('havuç dilim', case=False, na=False), 'aspect'] = 'tatlı'\n",
        "df.loc[df['aspect'].str.contains('yagin', case=False, na=False), 'aspect'] = 'yemek'\n",
        "df.loc[df['aspect'].str.contains('yemegi', case=False, na=False), 'aspect'] = 'yemek'\n",
        "df.loc[df['aspect'].str.contains('hahvaltı', case=False, na=False), 'aspect'] = 'kahvaltı'\n",
        "df.loc[df['aspect'].str.contains('puding', case=False, na=False), 'aspect'] = 'tatlı'\n",
        "\n",
        "\n"
      ],
      "metadata": {
        "id": "MRa18bM92Nnf"
      },
      "execution_count": null,
      "outputs": []
    },
    {
      "cell_type": "code",
      "source": [
        "df['aspect'].value_counts()"
      ],
      "metadata": {
        "colab": {
          "base_uri": "https://localhost:8080/"
        },
        "id": "wd8srY6n2YOT",
        "outputId": "95f5f2e0-2286-4dc6-bcb9-6174111fa818"
      },
      "execution_count": null,
      "outputs": [
        {
          "output_type": "execute_result",
          "data": {
            "text/plain": [
              "servis                          18\n",
              "et                              17\n",
              "fiyat                           14\n",
              "içecek                          12\n",
              "mekan                           12\n",
              "yemek                           10\n",
              "tatlı                            6\n",
              "döner                            3\n",
              "manzara                          3\n",
              "kahvalti                         3\n",
              "tavuk                            2\n",
              "şube                             2\n",
              "ambiyans                         2\n",
              "bahçe                            2\n",
              "pilav                            2\n",
              "saç ara                          2\n",
              "biçak ara                        2\n",
              "iskenderi                        1\n",
              "sipariş                          1\n",
              "lahmacun                         1\n",
              "salonlar                         1\n",
              "zeytinyağlılar                   1\n",
              "imambayıldı                      1\n",
              "lokanta                          1\n",
              "ambiyans ve tasarım              1\n",
              "konum                            1\n",
              "sos                              1\n",
              "porsiyon miktarı                 1\n",
              "yogurt                           1\n",
              "köfte                            1\n",
              "dolmaları                        1\n",
              "koku                             1\n",
              "katmer                           1\n",
              "lahmacun tavugu                  1\n",
              "bıçak ara                        1\n",
              "çorba                            1\n",
              "tarihi bina                      1\n",
              "oturumu                          1\n",
              "design                           1\n",
              "ortam                            1\n",
              "salata                           1\n",
              "krem karamel                     1\n",
              "çikolatalı saray muhallebisi     1\n",
              "bicak ara                        1\n",
              "gel                              1\n",
              "tasarım                          1\n",
              "kola                             1\n",
              "ekmeklerde                       1\n",
              "menü                             1\n",
              "solda                            1\n",
              "Name: aspect, dtype: int64"
            ]
          },
          "metadata": {},
          "execution_count": 51
        }
      ]
    },
    {
      "cell_type": "markdown",
      "source": [
        "To create a test dataset with the same target format as the model, it is necessary to convert the test data into a 9-element array format."
      ],
      "metadata": {
        "id": "iHr1jab3Vw9s"
      }
    },
    {
      "cell_type": "code",
      "source": [
        "\n",
        "aspect_counts = df['aspect'].value_counts()\n",
        "\n",
        "aspects_to_drop = aspect_counts[aspect_counts < 3].index\n",
        "aspects_to_drop\n",
        "\n",
        "df2 = df[~df['aspect'].isin(aspects_to_drop)]\n",
        "df2=df2.reset_index()\n",
        "df2.info()\n"
      ],
      "metadata": {
        "colab": {
          "base_uri": "https://localhost:8080/"
        },
        "id": "bZOAbuJk2gKD",
        "outputId": "399514ed-b418-4483-9f4f-d1708055248d"
      },
      "execution_count": null,
      "outputs": [
        {
          "output_type": "stream",
          "name": "stdout",
          "text": [
            "<class 'pandas.core.frame.DataFrame'>\n",
            "RangeIndex: 98 entries, 0 to 97\n",
            "Data columns (total 3 columns):\n",
            " #   Column  Non-Null Count  Dtype \n",
            "---  ------  --------------  ----- \n",
            " 0   index   98 non-null     int64 \n",
            " 1   text    98 non-null     object\n",
            " 2   aspect  98 non-null     object\n",
            "dtypes: int64(1), object(2)\n",
            "memory usage: 2.4+ KB\n"
          ]
        }
      ]
    },
    {
      "cell_type": "code",
      "source": [
        "df2.drop('index', axis=1, inplace=True)"
      ],
      "metadata": {
        "id": "9lSpBY7i3EQp"
      },
      "execution_count": null,
      "outputs": []
    },
    {
      "cell_type": "code",
      "source": [
        "encoded_df = pd.get_dummies(df2, columns=['aspect'])\n",
        "df_test = encoded_df.groupby('text').sum().reset_index()\n"
      ],
      "metadata": {
        "id": "3ULe6zPt3Vlt"
      },
      "execution_count": null,
      "outputs": []
    },
    {
      "cell_type": "code",
      "source": [
        "df_test.head()"
      ],
      "metadata": {
        "colab": {
          "base_uri": "https://localhost:8080/",
          "height": 354
        },
        "id": "s3c8JGqa8rL2",
        "outputId": "914d6bc9-02e5-4f77-ebcf-74f9e69fcba8"
      },
      "execution_count": null,
      "outputs": [
        {
          "output_type": "execute_result",
          "data": {
            "text/plain": [
              "                                                text  aspect_döner  aspect_et  \\\n",
              "0   her gittigimde bir öncekinden daha kötü susi ...             0          0   \n",
              "1   herkesin muhallebisini ya da süt tatlilari ye...             0          0   \n",
              "2   yogun oldugu saatlerde servis biraz aksak ols...             0          0   \n",
              "3  100 lira fix menuye gittik 8 kisi 1600 tl oded...             0          0   \n",
              "4  500 kişiye kaliteli servis verilemiyorsa 300 k...             0          0   \n",
              "\n",
              "   aspect_fiyat  aspect_içecek  aspect_kahvalti  aspect_manzara  aspect_mekan  \\\n",
              "0             0              1                0               0             0   \n",
              "1             0              0                0               0             0   \n",
              "2             0              0                0               0             0   \n",
              "3             1              0                0               0             0   \n",
              "4             0              0                0               0             0   \n",
              "\n",
              "   aspect_servis  aspect_tatlı  aspect_yemek  \n",
              "0              0             0             0  \n",
              "1              0             1             0  \n",
              "2              1             0             0  \n",
              "3              0             0             0  \n",
              "4              1             0             0  "
            ],
            "text/html": [
              "\n",
              "  <div id=\"df-12e92eea-f2bd-4fe7-bc2c-4242e94df79a\">\n",
              "    <div class=\"colab-df-container\">\n",
              "      <div>\n",
              "<style scoped>\n",
              "    .dataframe tbody tr th:only-of-type {\n",
              "        vertical-align: middle;\n",
              "    }\n",
              "\n",
              "    .dataframe tbody tr th {\n",
              "        vertical-align: top;\n",
              "    }\n",
              "\n",
              "    .dataframe thead th {\n",
              "        text-align: right;\n",
              "    }\n",
              "</style>\n",
              "<table border=\"1\" class=\"dataframe\">\n",
              "  <thead>\n",
              "    <tr style=\"text-align: right;\">\n",
              "      <th></th>\n",
              "      <th>text</th>\n",
              "      <th>aspect_döner</th>\n",
              "      <th>aspect_et</th>\n",
              "      <th>aspect_fiyat</th>\n",
              "      <th>aspect_içecek</th>\n",
              "      <th>aspect_kahvalti</th>\n",
              "      <th>aspect_manzara</th>\n",
              "      <th>aspect_mekan</th>\n",
              "      <th>aspect_servis</th>\n",
              "      <th>aspect_tatlı</th>\n",
              "      <th>aspect_yemek</th>\n",
              "    </tr>\n",
              "  </thead>\n",
              "  <tbody>\n",
              "    <tr>\n",
              "      <th>0</th>\n",
              "      <td>her gittigimde bir öncekinden daha kötü susi ...</td>\n",
              "      <td>0</td>\n",
              "      <td>0</td>\n",
              "      <td>0</td>\n",
              "      <td>1</td>\n",
              "      <td>0</td>\n",
              "      <td>0</td>\n",
              "      <td>0</td>\n",
              "      <td>0</td>\n",
              "      <td>0</td>\n",
              "      <td>0</td>\n",
              "    </tr>\n",
              "    <tr>\n",
              "      <th>1</th>\n",
              "      <td>herkesin muhallebisini ya da süt tatlilari ye...</td>\n",
              "      <td>0</td>\n",
              "      <td>0</td>\n",
              "      <td>0</td>\n",
              "      <td>0</td>\n",
              "      <td>0</td>\n",
              "      <td>0</td>\n",
              "      <td>0</td>\n",
              "      <td>0</td>\n",
              "      <td>1</td>\n",
              "      <td>0</td>\n",
              "    </tr>\n",
              "    <tr>\n",
              "      <th>2</th>\n",
              "      <td>yogun oldugu saatlerde servis biraz aksak ols...</td>\n",
              "      <td>0</td>\n",
              "      <td>0</td>\n",
              "      <td>0</td>\n",
              "      <td>0</td>\n",
              "      <td>0</td>\n",
              "      <td>0</td>\n",
              "      <td>0</td>\n",
              "      <td>1</td>\n",
              "      <td>0</td>\n",
              "      <td>0</td>\n",
              "    </tr>\n",
              "    <tr>\n",
              "      <th>3</th>\n",
              "      <td>100 lira fix menuye gittik 8 kisi 1600 tl oded...</td>\n",
              "      <td>0</td>\n",
              "      <td>0</td>\n",
              "      <td>1</td>\n",
              "      <td>0</td>\n",
              "      <td>0</td>\n",
              "      <td>0</td>\n",
              "      <td>0</td>\n",
              "      <td>0</td>\n",
              "      <td>0</td>\n",
              "      <td>0</td>\n",
              "    </tr>\n",
              "    <tr>\n",
              "      <th>4</th>\n",
              "      <td>500 kişiye kaliteli servis verilemiyorsa 300 k...</td>\n",
              "      <td>0</td>\n",
              "      <td>0</td>\n",
              "      <td>0</td>\n",
              "      <td>0</td>\n",
              "      <td>0</td>\n",
              "      <td>0</td>\n",
              "      <td>0</td>\n",
              "      <td>1</td>\n",
              "      <td>0</td>\n",
              "      <td>0</td>\n",
              "    </tr>\n",
              "  </tbody>\n",
              "</table>\n",
              "</div>\n",
              "      <button class=\"colab-df-convert\" onclick=\"convertToInteractive('df-12e92eea-f2bd-4fe7-bc2c-4242e94df79a')\"\n",
              "              title=\"Convert this dataframe to an interactive table.\"\n",
              "              style=\"display:none;\">\n",
              "        \n",
              "  <svg xmlns=\"http://www.w3.org/2000/svg\" height=\"24px\"viewBox=\"0 0 24 24\"\n",
              "       width=\"24px\">\n",
              "    <path d=\"M0 0h24v24H0V0z\" fill=\"none\"/>\n",
              "    <path d=\"M18.56 5.44l.94 2.06.94-2.06 2.06-.94-2.06-.94-.94-2.06-.94 2.06-2.06.94zm-11 1L8.5 8.5l.94-2.06 2.06-.94-2.06-.94L8.5 2.5l-.94 2.06-2.06.94zm10 10l.94 2.06.94-2.06 2.06-.94-2.06-.94-.94-2.06-.94 2.06-2.06.94z\"/><path d=\"M17.41 7.96l-1.37-1.37c-.4-.4-.92-.59-1.43-.59-.52 0-1.04.2-1.43.59L10.3 9.45l-7.72 7.72c-.78.78-.78 2.05 0 2.83L4 21.41c.39.39.9.59 1.41.59.51 0 1.02-.2 1.41-.59l7.78-7.78 2.81-2.81c.8-.78.8-2.07 0-2.86zM5.41 20L4 18.59l7.72-7.72 1.47 1.35L5.41 20z\"/>\n",
              "  </svg>\n",
              "      </button>\n",
              "      \n",
              "  <style>\n",
              "    .colab-df-container {\n",
              "      display:flex;\n",
              "      flex-wrap:wrap;\n",
              "      gap: 12px;\n",
              "    }\n",
              "\n",
              "    .colab-df-convert {\n",
              "      background-color: #E8F0FE;\n",
              "      border: none;\n",
              "      border-radius: 50%;\n",
              "      cursor: pointer;\n",
              "      display: none;\n",
              "      fill: #1967D2;\n",
              "      height: 32px;\n",
              "      padding: 0 0 0 0;\n",
              "      width: 32px;\n",
              "    }\n",
              "\n",
              "    .colab-df-convert:hover {\n",
              "      background-color: #E2EBFA;\n",
              "      box-shadow: 0px 1px 2px rgba(60, 64, 67, 0.3), 0px 1px 3px 1px rgba(60, 64, 67, 0.15);\n",
              "      fill: #174EA6;\n",
              "    }\n",
              "\n",
              "    [theme=dark] .colab-df-convert {\n",
              "      background-color: #3B4455;\n",
              "      fill: #D2E3FC;\n",
              "    }\n",
              "\n",
              "    [theme=dark] .colab-df-convert:hover {\n",
              "      background-color: #434B5C;\n",
              "      box-shadow: 0px 1px 3px 1px rgba(0, 0, 0, 0.15);\n",
              "      filter: drop-shadow(0px 1px 2px rgba(0, 0, 0, 0.3));\n",
              "      fill: #FFFFFF;\n",
              "    }\n",
              "  </style>\n",
              "\n",
              "      <script>\n",
              "        const buttonEl =\n",
              "          document.querySelector('#df-12e92eea-f2bd-4fe7-bc2c-4242e94df79a button.colab-df-convert');\n",
              "        buttonEl.style.display =\n",
              "          google.colab.kernel.accessAllowed ? 'block' : 'none';\n",
              "\n",
              "        async function convertToInteractive(key) {\n",
              "          const element = document.querySelector('#df-12e92eea-f2bd-4fe7-bc2c-4242e94df79a');\n",
              "          const dataTable =\n",
              "            await google.colab.kernel.invokeFunction('convertToInteractive',\n",
              "                                                     [key], {});\n",
              "          if (!dataTable) return;\n",
              "\n",
              "          const docLinkHtml = 'Like what you see? Visit the ' +\n",
              "            '<a target=\"_blank\" href=https://colab.research.google.com/notebooks/data_table.ipynb>data table notebook</a>'\n",
              "            + ' to learn more about interactive tables.';\n",
              "          element.innerHTML = '';\n",
              "          dataTable['output_type'] = 'display_data';\n",
              "          await google.colab.output.renderOutput(dataTable, element);\n",
              "          const docLink = document.createElement('div');\n",
              "          docLink.innerHTML = docLinkHtml;\n",
              "          element.appendChild(docLink);\n",
              "        }\n",
              "      </script>\n",
              "    </div>\n",
              "  </div>\n",
              "  "
            ]
          },
          "metadata": {},
          "execution_count": 56
        }
      ]
    },
    {
      "cell_type": "code",
      "source": [
        "aspect_columns = ['aspect_döner', 'aspect_et', 'aspect_fiyat', 'aspect_içecek', 'aspect_kahvalti',\n",
        "                  'aspect_manzara', 'aspect_mekan', 'aspect_servis', 'aspect_tatlı', 'aspect_yemek']\n",
        "\n",
        "df_test[aspect_columns] = df_test[aspect_columns].replace(2, 1)\n",
        "\n"
      ],
      "metadata": {
        "id": "h_ePJRm-BqQl"
      },
      "execution_count": null,
      "outputs": []
    },
    {
      "cell_type": "code",
      "source": [
        "df_test.info()"
      ],
      "metadata": {
        "colab": {
          "base_uri": "https://localhost:8080/"
        },
        "id": "mwQcqk5B3xtN",
        "outputId": "f6acbae0-730f-4890-ab56-0859f083b45a"
      },
      "execution_count": null,
      "outputs": [
        {
          "output_type": "stream",
          "name": "stdout",
          "text": [
            "<class 'pandas.core.frame.DataFrame'>\n",
            "RangeIndex: 83 entries, 0 to 82\n",
            "Data columns (total 11 columns):\n",
            " #   Column           Non-Null Count  Dtype \n",
            "---  ------           --------------  ----- \n",
            " 0   text             83 non-null     object\n",
            " 1   aspect_döner     83 non-null     uint8 \n",
            " 2   aspect_et        83 non-null     uint8 \n",
            " 3   aspect_fiyat     83 non-null     uint8 \n",
            " 4   aspect_içecek    83 non-null     uint8 \n",
            " 5   aspect_kahvalti  83 non-null     uint8 \n",
            " 6   aspect_manzara   83 non-null     uint8 \n",
            " 7   aspect_mekan     83 non-null     uint8 \n",
            " 8   aspect_servis    83 non-null     uint8 \n",
            " 9   aspect_tatlı     83 non-null     uint8 \n",
            " 10  aspect_yemek     83 non-null     uint8 \n",
            "dtypes: object(1), uint8(10)\n",
            "memory usage: 1.6+ KB\n"
          ]
        }
      ]
    },
    {
      "cell_type": "markdown",
      "source": [
        "9'a düşürmek için bir aspecti daha siliyorum test setinden."
      ],
      "metadata": {
        "id": "bY0CwOJOeUrY"
      }
    },
    {
      "cell_type": "code",
      "source": [
        "df_test.drop('aspect_kahvalti',axis=1,inplace=True)"
      ],
      "metadata": {
        "id": "eDbhPGeb3m2K"
      },
      "execution_count": null,
      "outputs": []
    },
    {
      "cell_type": "code",
      "source": [
        "df_test.info()"
      ],
      "metadata": {
        "colab": {
          "base_uri": "https://localhost:8080/"
        },
        "id": "ytxRc3kZ42Q2",
        "outputId": "27608edb-bd4d-4977-915e-d3ae33858c94"
      },
      "execution_count": null,
      "outputs": [
        {
          "output_type": "stream",
          "name": "stdout",
          "text": [
            "<class 'pandas.core.frame.DataFrame'>\n",
            "RangeIndex: 83 entries, 0 to 82\n",
            "Data columns (total 10 columns):\n",
            " #   Column          Non-Null Count  Dtype \n",
            "---  ------          --------------  ----- \n",
            " 0   text            83 non-null     object\n",
            " 1   aspect_döner    83 non-null     uint8 \n",
            " 2   aspect_et       83 non-null     uint8 \n",
            " 3   aspect_fiyat    83 non-null     uint8 \n",
            " 4   aspect_içecek   83 non-null     uint8 \n",
            " 5   aspect_manzara  83 non-null     uint8 \n",
            " 6   aspect_mekan    83 non-null     uint8 \n",
            " 7   aspect_servis   83 non-null     uint8 \n",
            " 8   aspect_tatlı    83 non-null     uint8 \n",
            " 9   aspect_yemek    83 non-null     uint8 \n",
            "dtypes: object(1), uint8(9)\n",
            "memory usage: 1.5+ KB\n"
          ]
        }
      ]
    },
    {
      "cell_type": "code",
      "source": [
        "df_test.head()"
      ],
      "metadata": {
        "colab": {
          "base_uri": "https://localhost:8080/",
          "height": 247
        },
        "id": "Xlgd9z1uDFom",
        "outputId": "61901799-b9b3-487b-fb02-dee924f3ad4c"
      },
      "execution_count": null,
      "outputs": [
        {
          "output_type": "execute_result",
          "data": {
            "text/plain": [
              "                                                text  aspect_döner  aspect_et  \\\n",
              "0   her gittigimde bir öncekinden daha kötü susi ...             0          0   \n",
              "1   herkesin muhallebisini ya da süt tatlilari ye...             0          0   \n",
              "2   yogun oldugu saatlerde servis biraz aksak ols...             0          0   \n",
              "3  100 lira fix menuye gittik 8 kisi 1600 tl oded...             0          0   \n",
              "4  500 kişiye kaliteli servis verilemiyorsa 300 k...             0          0   \n",
              "\n",
              "   aspect_fiyat  aspect_içecek  aspect_manzara  aspect_mekan  aspect_servis  \\\n",
              "0             0              1               0             0              0   \n",
              "1             0              0               0             0              0   \n",
              "2             0              0               0             0              1   \n",
              "3             1              0               0             0              0   \n",
              "4             0              0               0             0              1   \n",
              "\n",
              "   aspect_tatlı  aspect_yemek  \n",
              "0             0             0  \n",
              "1             1             0  \n",
              "2             0             0  \n",
              "3             0             0  \n",
              "4             0             0  "
            ],
            "text/html": [
              "\n",
              "  <div id=\"df-93aa512b-3cda-46b0-a2a7-04d87fef794e\">\n",
              "    <div class=\"colab-df-container\">\n",
              "      <div>\n",
              "<style scoped>\n",
              "    .dataframe tbody tr th:only-of-type {\n",
              "        vertical-align: middle;\n",
              "    }\n",
              "\n",
              "    .dataframe tbody tr th {\n",
              "        vertical-align: top;\n",
              "    }\n",
              "\n",
              "    .dataframe thead th {\n",
              "        text-align: right;\n",
              "    }\n",
              "</style>\n",
              "<table border=\"1\" class=\"dataframe\">\n",
              "  <thead>\n",
              "    <tr style=\"text-align: right;\">\n",
              "      <th></th>\n",
              "      <th>text</th>\n",
              "      <th>aspect_döner</th>\n",
              "      <th>aspect_et</th>\n",
              "      <th>aspect_fiyat</th>\n",
              "      <th>aspect_içecek</th>\n",
              "      <th>aspect_manzara</th>\n",
              "      <th>aspect_mekan</th>\n",
              "      <th>aspect_servis</th>\n",
              "      <th>aspect_tatlı</th>\n",
              "      <th>aspect_yemek</th>\n",
              "    </tr>\n",
              "  </thead>\n",
              "  <tbody>\n",
              "    <tr>\n",
              "      <th>0</th>\n",
              "      <td>her gittigimde bir öncekinden daha kötü susi ...</td>\n",
              "      <td>0</td>\n",
              "      <td>0</td>\n",
              "      <td>0</td>\n",
              "      <td>1</td>\n",
              "      <td>0</td>\n",
              "      <td>0</td>\n",
              "      <td>0</td>\n",
              "      <td>0</td>\n",
              "      <td>0</td>\n",
              "    </tr>\n",
              "    <tr>\n",
              "      <th>1</th>\n",
              "      <td>herkesin muhallebisini ya da süt tatlilari ye...</td>\n",
              "      <td>0</td>\n",
              "      <td>0</td>\n",
              "      <td>0</td>\n",
              "      <td>0</td>\n",
              "      <td>0</td>\n",
              "      <td>0</td>\n",
              "      <td>0</td>\n",
              "      <td>1</td>\n",
              "      <td>0</td>\n",
              "    </tr>\n",
              "    <tr>\n",
              "      <th>2</th>\n",
              "      <td>yogun oldugu saatlerde servis biraz aksak ols...</td>\n",
              "      <td>0</td>\n",
              "      <td>0</td>\n",
              "      <td>0</td>\n",
              "      <td>0</td>\n",
              "      <td>0</td>\n",
              "      <td>0</td>\n",
              "      <td>1</td>\n",
              "      <td>0</td>\n",
              "      <td>0</td>\n",
              "    </tr>\n",
              "    <tr>\n",
              "      <th>3</th>\n",
              "      <td>100 lira fix menuye gittik 8 kisi 1600 tl oded...</td>\n",
              "      <td>0</td>\n",
              "      <td>0</td>\n",
              "      <td>1</td>\n",
              "      <td>0</td>\n",
              "      <td>0</td>\n",
              "      <td>0</td>\n",
              "      <td>0</td>\n",
              "      <td>0</td>\n",
              "      <td>0</td>\n",
              "    </tr>\n",
              "    <tr>\n",
              "      <th>4</th>\n",
              "      <td>500 kişiye kaliteli servis verilemiyorsa 300 k...</td>\n",
              "      <td>0</td>\n",
              "      <td>0</td>\n",
              "      <td>0</td>\n",
              "      <td>0</td>\n",
              "      <td>0</td>\n",
              "      <td>0</td>\n",
              "      <td>1</td>\n",
              "      <td>0</td>\n",
              "      <td>0</td>\n",
              "    </tr>\n",
              "  </tbody>\n",
              "</table>\n",
              "</div>\n",
              "      <button class=\"colab-df-convert\" onclick=\"convertToInteractive('df-93aa512b-3cda-46b0-a2a7-04d87fef794e')\"\n",
              "              title=\"Convert this dataframe to an interactive table.\"\n",
              "              style=\"display:none;\">\n",
              "        \n",
              "  <svg xmlns=\"http://www.w3.org/2000/svg\" height=\"24px\"viewBox=\"0 0 24 24\"\n",
              "       width=\"24px\">\n",
              "    <path d=\"M0 0h24v24H0V0z\" fill=\"none\"/>\n",
              "    <path d=\"M18.56 5.44l.94 2.06.94-2.06 2.06-.94-2.06-.94-.94-2.06-.94 2.06-2.06.94zm-11 1L8.5 8.5l.94-2.06 2.06-.94-2.06-.94L8.5 2.5l-.94 2.06-2.06.94zm10 10l.94 2.06.94-2.06 2.06-.94-2.06-.94-.94-2.06-.94 2.06-2.06.94z\"/><path d=\"M17.41 7.96l-1.37-1.37c-.4-.4-.92-.59-1.43-.59-.52 0-1.04.2-1.43.59L10.3 9.45l-7.72 7.72c-.78.78-.78 2.05 0 2.83L4 21.41c.39.39.9.59 1.41.59.51 0 1.02-.2 1.41-.59l7.78-7.78 2.81-2.81c.8-.78.8-2.07 0-2.86zM5.41 20L4 18.59l7.72-7.72 1.47 1.35L5.41 20z\"/>\n",
              "  </svg>\n",
              "      </button>\n",
              "      \n",
              "  <style>\n",
              "    .colab-df-container {\n",
              "      display:flex;\n",
              "      flex-wrap:wrap;\n",
              "      gap: 12px;\n",
              "    }\n",
              "\n",
              "    .colab-df-convert {\n",
              "      background-color: #E8F0FE;\n",
              "      border: none;\n",
              "      border-radius: 50%;\n",
              "      cursor: pointer;\n",
              "      display: none;\n",
              "      fill: #1967D2;\n",
              "      height: 32px;\n",
              "      padding: 0 0 0 0;\n",
              "      width: 32px;\n",
              "    }\n",
              "\n",
              "    .colab-df-convert:hover {\n",
              "      background-color: #E2EBFA;\n",
              "      box-shadow: 0px 1px 2px rgba(60, 64, 67, 0.3), 0px 1px 3px 1px rgba(60, 64, 67, 0.15);\n",
              "      fill: #174EA6;\n",
              "    }\n",
              "\n",
              "    [theme=dark] .colab-df-convert {\n",
              "      background-color: #3B4455;\n",
              "      fill: #D2E3FC;\n",
              "    }\n",
              "\n",
              "    [theme=dark] .colab-df-convert:hover {\n",
              "      background-color: #434B5C;\n",
              "      box-shadow: 0px 1px 3px 1px rgba(0, 0, 0, 0.15);\n",
              "      filter: drop-shadow(0px 1px 2px rgba(0, 0, 0, 0.3));\n",
              "      fill: #FFFFFF;\n",
              "    }\n",
              "  </style>\n",
              "\n",
              "      <script>\n",
              "        const buttonEl =\n",
              "          document.querySelector('#df-93aa512b-3cda-46b0-a2a7-04d87fef794e button.colab-df-convert');\n",
              "        buttonEl.style.display =\n",
              "          google.colab.kernel.accessAllowed ? 'block' : 'none';\n",
              "\n",
              "        async function convertToInteractive(key) {\n",
              "          const element = document.querySelector('#df-93aa512b-3cda-46b0-a2a7-04d87fef794e');\n",
              "          const dataTable =\n",
              "            await google.colab.kernel.invokeFunction('convertToInteractive',\n",
              "                                                     [key], {});\n",
              "          if (!dataTable) return;\n",
              "\n",
              "          const docLinkHtml = 'Like what you see? Visit the ' +\n",
              "            '<a target=\"_blank\" href=https://colab.research.google.com/notebooks/data_table.ipynb>data table notebook</a>'\n",
              "            + ' to learn more about interactive tables.';\n",
              "          element.innerHTML = '';\n",
              "          dataTable['output_type'] = 'display_data';\n",
              "          await google.colab.output.renderOutput(dataTable, element);\n",
              "          const docLink = document.createElement('div');\n",
              "          docLink.innerHTML = docLinkHtml;\n",
              "          element.appendChild(docLink);\n",
              "        }\n",
              "      </script>\n",
              "    </div>\n",
              "  </div>\n",
              "  "
            ]
          },
          "metadata": {},
          "execution_count": 241
        }
      ]
    },
    {
      "cell_type": "code",
      "source": [
        "sequences = tokenizer.texts_to_sequences(df_test['text'])\n",
        "\n",
        "vocab_size2=tokenizer.num_words\n",
        "embedding_dim=100\n",
        "padded_sequences = pad_sequences(sequences, maxlen=max_sequence_length, padding='post')\n",
        "targets = df_test.iloc[:, 1:].to_numpy()"
      ],
      "metadata": {
        "id": "pcHZbCA9CV03"
      },
      "execution_count": null,
      "outputs": []
    },
    {
      "cell_type": "code",
      "source": [
        "print(targets.shape)\n"
      ],
      "metadata": {
        "colab": {
          "base_uri": "https://localhost:8080/"
        },
        "id": "5Dhmlt1xWvea",
        "outputId": "d1567367-6fb4-4d05-8d87-1a5b8b4603ae"
      },
      "execution_count": null,
      "outputs": [
        {
          "output_type": "stream",
          "name": "stdout",
          "text": [
            "(83, 9)\n"
          ]
        }
      ]
    },
    {
      "cell_type": "code",
      "source": [
        "y_pred = model.predict(padded_sequences)\n",
        "\n",
        "threshold = 0.5\n",
        "y_pred_binary = (y_pred > threshold).astype(int)\n",
        "y_pred_binary_reshaped = np.reshape(y_pred_binary, (y_pred_binary.shape[0], -1))[:, :9]\n"
      ],
      "metadata": {
        "colab": {
          "base_uri": "https://localhost:8080/"
        },
        "id": "06pRt-05XOzU",
        "outputId": "04086eb0-f8d0-4675-eed4-0353fc7e4e5e"
      },
      "execution_count": null,
      "outputs": [
        {
          "output_type": "stream",
          "name": "stdout",
          "text": [
            "3/3 [==============================] - 0s 6ms/step\n"
          ]
        }
      ]
    },
    {
      "cell_type": "code",
      "source": [
        "targets.shape"
      ],
      "metadata": {
        "colab": {
          "base_uri": "https://localhost:8080/"
        },
        "id": "TKFVQ646Y5BQ",
        "outputId": "39f82eea-3d67-43f3-d290-ff2b76f98d96"
      },
      "execution_count": null,
      "outputs": [
        {
          "output_type": "execute_result",
          "data": {
            "text/plain": [
              "(83, 9)"
            ]
          },
          "metadata": {},
          "execution_count": 78
        }
      ]
    },
    {
      "cell_type": "code",
      "source": [
        "y_pred_binary_reshaped.shape"
      ],
      "metadata": {
        "colab": {
          "base_uri": "https://localhost:8080/"
        },
        "id": "idfuoh1-69FY",
        "outputId": "4069b526-8c86-43cb-84f9-48588b5d865e"
      },
      "execution_count": null,
      "outputs": [
        {
          "output_type": "execute_result",
          "data": {
            "text/plain": [
              "(83, 9)"
            ]
          },
          "metadata": {},
          "execution_count": 88
        }
      ]
    },
    {
      "cell_type": "code",
      "source": [
        "\n",
        "\n",
        "threshold = 0.5\n",
        "y_pred_binary_reshaped = (y_pred_binary_reshaped > threshold).astype(int)\n",
        "\n",
        "precision = precision_score(targets, y_pred_binary_reshaped, average='micro')\n",
        "recall = recall_score(targets, y_pred_binary_reshaped, average='micro')\n",
        "\n",
        "print(\"Precision:\", precision)\n",
        "print(\"Recall:\", recall)\n"
      ],
      "metadata": {
        "colab": {
          "base_uri": "https://localhost:8080/"
        },
        "id": "vJpk4MIZ5A2o",
        "outputId": "ac8fa4ba-7f01-4a1d-a219-ee9767141603"
      },
      "execution_count": null,
      "outputs": [
        {
          "output_type": "stream",
          "name": "stdout",
          "text": [
            "Precision: 0.19642857142857142\n",
            "Recall: 0.12087912087912088\n"
          ]
        }
      ]
    },
    {
      "cell_type": "markdown",
      "source": [
        "As expected, the test set also yielded a relatively low result. As I mentioned before, I believe this is mainly due to the small size of the dataset."
      ],
      "metadata": {
        "id": "0qV5iOFbbeTv"
      }
    },
    {
      "cell_type": "code",
      "source": [],
      "metadata": {
        "id": "jrd08Xfz55ta"
      },
      "execution_count": null,
      "outputs": []
    }
  ]
}