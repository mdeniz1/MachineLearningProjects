{
  "nbformat": 4,
  "nbformat_minor": 0,
  "metadata": {
    "colab": {
      "provenance": [],
      "gpuType": "T4",
      "authorship_tag": "ABX9TyOSi/t4Mx971+b3gQATxAQG",
      "include_colab_link": true
    },
    "kernelspec": {
      "name": "python3",
      "display_name": "Python 3"
    },
    "language_info": {
      "name": "python"
    }
  },
  "cells": [
    {
      "cell_type": "markdown",
      "metadata": {
        "id": "view-in-github",
        "colab_type": "text"
      },
      "source": [
        "<a href=\"https://colab.research.google.com/github/mdeniz1/datascienceprojects/blob/main/Predictive_Modeling_of_House_Prices_Using_LightGBM_and_Ridge.ipynb\" target=\"_parent\"><img src=\"https://colab.research.google.com/assets/colab-badge.svg\" alt=\"Open In Colab\"/></a>"
      ]
    },
    {
      "cell_type": "markdown",
      "source": [
        "This notebook utilizes the [House Sales in King County, USA data](https://www.kaggle.com/datasets/harlfoxem/housesalesprediction) to construct two predictive models: Ridge and LightGBM, with the aim of forecasting house prices.\n",
        "\n",
        "The initial exploration involved determining whether the dataset exhibited time-series characteristics, ultimately concluding that it did not. Subsequently, I established a baseline for both the Ridge and LightGBM models. To enhance the model's performance, I engineered three new features derived from existing ones.\n",
        "\n",
        "To improve the data quality, I employed the IRQ range to identify and eliminate outliers. Following this, I conducted a train-test split and standardized the data. Additionally, I conducted an investigation into multicollinearity among the predictor features in the training dataset. I then used lofo importance values to extract important features for the model.\n",
        "\n",
        "The modeling phase involved training four distinct Ridge models with polynomial features, and it was determined that a polynomial degree of 3 yielded the best performance. Following that, I proceeded to train multiple LightGBM models, incorporating hyperparameter tuning via RandomizedSearchCV and utilizing KFOLD validation for robust evaluation.\n",
        "\n",
        "\n",
        "Finally, I employed shap summary plot to interpret the results of the best-performing LightGBM model.\n",
        "\n",
        "\n",
        "\n",
        "\n"
      ],
      "metadata": {
        "id": "LHDvpj42PTK7"
      }
    },
    {
      "cell_type": "code",
      "source": [
        "pip install lightgbm\n"
      ],
      "metadata": {
        "colab": {
          "base_uri": "https://localhost:8080/"
        },
        "id": "ln7pdzu5W8E6",
        "outputId": "a1207ae2-8f2b-42ce-f01f-4418d2173f76"
      },
      "execution_count": null,
      "outputs": [
        {
          "output_type": "stream",
          "name": "stdout",
          "text": [
            "Requirement already satisfied: lightgbm in /usr/local/lib/python3.10/dist-packages (4.0.0)\n",
            "Requirement already satisfied: numpy in /usr/local/lib/python3.10/dist-packages (from lightgbm) (1.23.5)\n",
            "Requirement already satisfied: scipy in /usr/local/lib/python3.10/dist-packages (from lightgbm) (1.11.2)\n"
          ]
        }
      ]
    },
    {
      "cell_type": "code",
      "source": [
        "pip install lofo-importance\n"
      ],
      "metadata": {
        "colab": {
          "base_uri": "https://localhost:8080/"
        },
        "id": "B-FSaiYrUe7P",
        "outputId": "6b8acb86-5bdf-4f1e-972a-2c7ab658b5ec"
      },
      "execution_count": null,
      "outputs": [
        {
          "output_type": "stream",
          "name": "stdout",
          "text": [
            "Collecting lofo-importance\n",
            "  Downloading lofo_importance-0.3.3-py3-none-any.whl (11 kB)\n",
            "Requirement already satisfied: lightgbm in /usr/local/lib/python3.10/dist-packages (from lofo-importance) (4.0.0)\n",
            "Requirement already satisfied: networkx in /usr/local/lib/python3.10/dist-packages (from lofo-importance) (3.1)\n",
            "Requirement already satisfied: numpy>=1.17.3 in /usr/local/lib/python3.10/dist-packages (from lofo-importance) (1.23.5)\n",
            "Requirement already satisfied: pandas in /usr/local/lib/python3.10/dist-packages (from lofo-importance) (1.5.3)\n",
            "Requirement already satisfied: scikit-learn>=0.20.3 in /usr/local/lib/python3.10/dist-packages (from lofo-importance) (1.2.2)\n",
            "Requirement already satisfied: scipy in /usr/local/lib/python3.10/dist-packages (from lofo-importance) (1.11.2)\n",
            "Requirement already satisfied: tqdm in /usr/local/lib/python3.10/dist-packages (from lofo-importance) (4.66.1)\n",
            "Requirement already satisfied: joblib>=1.1.1 in /usr/local/lib/python3.10/dist-packages (from scikit-learn>=0.20.3->lofo-importance) (1.3.2)\n",
            "Requirement already satisfied: threadpoolctl>=2.0.0 in /usr/local/lib/python3.10/dist-packages (from scikit-learn>=0.20.3->lofo-importance) (3.2.0)\n",
            "Requirement already satisfied: python-dateutil>=2.8.1 in /usr/local/lib/python3.10/dist-packages (from pandas->lofo-importance) (2.8.2)\n",
            "Requirement already satisfied: pytz>=2020.1 in /usr/local/lib/python3.10/dist-packages (from pandas->lofo-importance) (2023.3.post1)\n",
            "Requirement already satisfied: six>=1.5 in /usr/local/lib/python3.10/dist-packages (from python-dateutil>=2.8.1->pandas->lofo-importance) (1.16.0)\n",
            "Installing collected packages: lofo-importance\n",
            "Successfully installed lofo-importance-0.3.3\n"
          ]
        }
      ]
    },
    {
      "cell_type": "code",
      "source": [
        "!pip install shap"
      ],
      "metadata": {
        "colab": {
          "base_uri": "https://localhost:8080/"
        },
        "id": "SNbfEdZ3NmI6",
        "outputId": "9c3dfdc5-58ee-495d-8e46-409abc7313f0"
      },
      "execution_count": null,
      "outputs": [
        {
          "output_type": "stream",
          "name": "stdout",
          "text": [
            "Collecting shap\n",
            "  Downloading shap-0.42.1-cp310-cp310-manylinux_2_12_x86_64.manylinux2010_x86_64.manylinux_2_17_x86_64.manylinux2014_x86_64.whl (547 kB)\n",
            "\u001b[?25l     \u001b[90m━━━━━━━━━━━━━━━━━━━━━━━━━━━━━━━━━━━━━━━━\u001b[0m \u001b[32m0.0/547.9 kB\u001b[0m \u001b[31m?\u001b[0m eta \u001b[36m-:--:--\u001b[0m\r\u001b[2K     \u001b[91m━━━━━\u001b[0m\u001b[90m╺\u001b[0m\u001b[90m━━━━━━━━━━━━━━━━━━━━━━━━━━━━━━━━━━\u001b[0m \u001b[32m71.7/547.9 kB\u001b[0m \u001b[31m1.9 MB/s\u001b[0m eta \u001b[36m0:00:01\u001b[0m\r\u001b[2K     \u001b[91m━━━━━━━━━━━━━━━━━━━━━━━━━━━━━━━━━━━━━━\u001b[0m\u001b[91m╸\u001b[0m \u001b[32m542.7/547.9 kB\u001b[0m \u001b[31m8.9 MB/s\u001b[0m eta \u001b[36m0:00:01\u001b[0m\r\u001b[2K     \u001b[90m━━━━━━━━━━━━━━━━━━━━━━━━━━━━━━━━━━━━━━━\u001b[0m \u001b[32m547.9/547.9 kB\u001b[0m \u001b[31m7.5 MB/s\u001b[0m eta \u001b[36m0:00:00\u001b[0m\n",
            "\u001b[?25hRequirement already satisfied: numpy in /usr/local/lib/python3.10/dist-packages (from shap) (1.23.5)\n",
            "Requirement already satisfied: scipy in /usr/local/lib/python3.10/dist-packages (from shap) (1.11.2)\n",
            "Requirement already satisfied: scikit-learn in /usr/local/lib/python3.10/dist-packages (from shap) (1.2.2)\n",
            "Requirement already satisfied: pandas in /usr/local/lib/python3.10/dist-packages (from shap) (1.5.3)\n",
            "Requirement already satisfied: tqdm>=4.27.0 in /usr/local/lib/python3.10/dist-packages (from shap) (4.66.1)\n",
            "Requirement already satisfied: packaging>20.9 in /usr/local/lib/python3.10/dist-packages (from shap) (23.1)\n",
            "Collecting slicer==0.0.7 (from shap)\n",
            "  Downloading slicer-0.0.7-py3-none-any.whl (14 kB)\n",
            "Requirement already satisfied: numba in /usr/local/lib/python3.10/dist-packages (from shap) (0.56.4)\n",
            "Requirement already satisfied: cloudpickle in /usr/local/lib/python3.10/dist-packages (from shap) (2.2.1)\n",
            "Requirement already satisfied: llvmlite<0.40,>=0.39.0dev0 in /usr/local/lib/python3.10/dist-packages (from numba->shap) (0.39.1)\n",
            "Requirement already satisfied: setuptools in /usr/local/lib/python3.10/dist-packages (from numba->shap) (67.7.2)\n",
            "Requirement already satisfied: python-dateutil>=2.8.1 in /usr/local/lib/python3.10/dist-packages (from pandas->shap) (2.8.2)\n",
            "Requirement already satisfied: pytz>=2020.1 in /usr/local/lib/python3.10/dist-packages (from pandas->shap) (2023.3.post1)\n",
            "Requirement already satisfied: joblib>=1.1.1 in /usr/local/lib/python3.10/dist-packages (from scikit-learn->shap) (1.3.2)\n",
            "Requirement already satisfied: threadpoolctl>=2.0.0 in /usr/local/lib/python3.10/dist-packages (from scikit-learn->shap) (3.2.0)\n",
            "Requirement already satisfied: six>=1.5 in /usr/local/lib/python3.10/dist-packages (from python-dateutil>=2.8.1->pandas->shap) (1.16.0)\n",
            "Installing collected packages: slicer, shap\n",
            "Successfully installed shap-0.42.1 slicer-0.0.7\n"
          ]
        }
      ]
    },
    {
      "cell_type": "code",
      "source": [
        "import pandas as pd\n",
        "pd.set_option('display.float_format', lambda x: '%.2f' % x)\n",
        "import matplotlib.pyplot as plt\n",
        "from statsmodels.graphics.tsaplots import plot_acf\n",
        "import lightgbm as lgb\n",
        "import numpy as np\n",
        "from sklearn.model_selection import GridSearchCV\n",
        "from sklearn.metrics import mean_squared_error\n",
        "from sklearn.model_selection import train_test_split\n",
        "from sklearn.preprocessing import StandardScaler\n",
        "from scipy.stats import randint as sp_randint, uniform as sp_uniform\n",
        "from sklearn.model_selection import RandomizedSearchCV\n",
        "import joblib\n",
        "import shap\n",
        "from sklearn.preprocessing import PolynomialFeatures\n",
        "from sklearn.model_selection import KFold\n",
        "from lofo import LOFOImportance, Dataset, plot_importance\n",
        "import seaborn as sns\n",
        "\n",
        "\n"
      ],
      "metadata": {
        "id": "sDYdah2-Elbs"
      },
      "execution_count": null,
      "outputs": []
    },
    {
      "cell_type": "code",
      "execution_count": null,
      "metadata": {
        "colab": {
          "base_uri": "https://localhost:8080/"
        },
        "id": "TQOluO15EjSS",
        "outputId": "871c87f2-aea1-4d4b-d4a1-7ff5edf7a010"
      },
      "outputs": [
        {
          "output_type": "stream",
          "name": "stdout",
          "text": [
            "Mounted at /content/drive/\n"
          ]
        }
      ],
      "source": [
        "from google.colab import drive\n",
        "drive.mount('/content/drive/')"
      ]
    },
    {
      "cell_type": "code",
      "source": [
        "path = r'/content/drive/My Drive/kc_house_data.csv'\n",
        "df = pd.read_csv(path)"
      ],
      "metadata": {
        "id": "q0PBmZNWEj4A"
      },
      "execution_count": null,
      "outputs": []
    },
    {
      "cell_type": "code",
      "source": [
        "df.info()"
      ],
      "metadata": {
        "colab": {
          "base_uri": "https://localhost:8080/"
        },
        "id": "x6OXK4DmEtbr",
        "outputId": "efe5c077-6f53-4050-9c40-8d7f9e2f1485"
      },
      "execution_count": null,
      "outputs": [
        {
          "output_type": "stream",
          "name": "stdout",
          "text": [
            "<class 'pandas.core.frame.DataFrame'>\n",
            "RangeIndex: 21613 entries, 0 to 21612\n",
            "Data columns (total 21 columns):\n",
            " #   Column         Non-Null Count  Dtype  \n",
            "---  ------         --------------  -----  \n",
            " 0   id             21613 non-null  int64  \n",
            " 1   date           21613 non-null  object \n",
            " 2   price          21613 non-null  float64\n",
            " 3   bedrooms       21613 non-null  int64  \n",
            " 4   bathrooms      21613 non-null  float64\n",
            " 5   sqft_living    21613 non-null  int64  \n",
            " 6   sqft_lot       21613 non-null  int64  \n",
            " 7   floors         21613 non-null  float64\n",
            " 8   waterfront     21613 non-null  int64  \n",
            " 9   view           21613 non-null  int64  \n",
            " 10  condition      21613 non-null  int64  \n",
            " 11  grade          21613 non-null  int64  \n",
            " 12  sqft_above     21613 non-null  int64  \n",
            " 13  sqft_basement  21613 non-null  int64  \n",
            " 14  yr_built       21613 non-null  int64  \n",
            " 15  yr_renovated   21613 non-null  int64  \n",
            " 16  zipcode        21613 non-null  int64  \n",
            " 17  lat            21613 non-null  float64\n",
            " 18  long           21613 non-null  float64\n",
            " 19  sqft_living15  21613 non-null  int64  \n",
            " 20  sqft_lot15     21613 non-null  int64  \n",
            "dtypes: float64(5), int64(15), object(1)\n",
            "memory usage: 3.5+ MB\n"
          ]
        }
      ]
    },
    {
      "cell_type": "markdown",
      "source": [
        "There are not any null values in the dataset."
      ],
      "metadata": {
        "id": "9IXXaNN7kyef"
      }
    },
    {
      "cell_type": "code",
      "source": [
        "df.head()"
      ],
      "metadata": {
        "colab": {
          "base_uri": "https://localhost:8080/",
          "height": 256
        },
        "id": "ExkBY8XSNUrz",
        "outputId": "1b29d6c9-fd3f-49b1-96df-1694857012ba"
      },
      "execution_count": null,
      "outputs": [
        {
          "output_type": "execute_result",
          "data": {
            "text/plain": [
              "           id             date     price  bedrooms  bathrooms  sqft_living  \\\n",
              "0  7129300520  20141013T000000 221900.00         3       1.00         1180   \n",
              "1  6414100192  20141209T000000 538000.00         3       2.25         2570   \n",
              "2  5631500400  20150225T000000 180000.00         2       1.00          770   \n",
              "3  2487200875  20141209T000000 604000.00         4       3.00         1960   \n",
              "4  1954400510  20150218T000000 510000.00         3       2.00         1680   \n",
              "\n",
              "   sqft_lot  floors  waterfront  view  ...  grade  sqft_above  sqft_basement  \\\n",
              "0      5650    1.00           0     0  ...      7        1180              0   \n",
              "1      7242    2.00           0     0  ...      7        2170            400   \n",
              "2     10000    1.00           0     0  ...      6         770              0   \n",
              "3      5000    1.00           0     0  ...      7        1050            910   \n",
              "4      8080    1.00           0     0  ...      8        1680              0   \n",
              "\n",
              "   yr_built  yr_renovated  zipcode   lat    long  sqft_living15  sqft_lot15  \n",
              "0      1955             0    98178 47.51 -122.26           1340        5650  \n",
              "1      1951          1991    98125 47.72 -122.32           1690        7639  \n",
              "2      1933             0    98028 47.74 -122.23           2720        8062  \n",
              "3      1965             0    98136 47.52 -122.39           1360        5000  \n",
              "4      1987             0    98074 47.62 -122.05           1800        7503  \n",
              "\n",
              "[5 rows x 21 columns]"
            ],
            "text/html": [
              "\n",
              "  <div id=\"df-e046ec47-119d-4549-938b-d765bfc1dff5\" class=\"colab-df-container\">\n",
              "    <div>\n",
              "<style scoped>\n",
              "    .dataframe tbody tr th:only-of-type {\n",
              "        vertical-align: middle;\n",
              "    }\n",
              "\n",
              "    .dataframe tbody tr th {\n",
              "        vertical-align: top;\n",
              "    }\n",
              "\n",
              "    .dataframe thead th {\n",
              "        text-align: right;\n",
              "    }\n",
              "</style>\n",
              "<table border=\"1\" class=\"dataframe\">\n",
              "  <thead>\n",
              "    <tr style=\"text-align: right;\">\n",
              "      <th></th>\n",
              "      <th>id</th>\n",
              "      <th>date</th>\n",
              "      <th>price</th>\n",
              "      <th>bedrooms</th>\n",
              "      <th>bathrooms</th>\n",
              "      <th>sqft_living</th>\n",
              "      <th>sqft_lot</th>\n",
              "      <th>floors</th>\n",
              "      <th>waterfront</th>\n",
              "      <th>view</th>\n",
              "      <th>...</th>\n",
              "      <th>grade</th>\n",
              "      <th>sqft_above</th>\n",
              "      <th>sqft_basement</th>\n",
              "      <th>yr_built</th>\n",
              "      <th>yr_renovated</th>\n",
              "      <th>zipcode</th>\n",
              "      <th>lat</th>\n",
              "      <th>long</th>\n",
              "      <th>sqft_living15</th>\n",
              "      <th>sqft_lot15</th>\n",
              "    </tr>\n",
              "  </thead>\n",
              "  <tbody>\n",
              "    <tr>\n",
              "      <th>0</th>\n",
              "      <td>7129300520</td>\n",
              "      <td>20141013T000000</td>\n",
              "      <td>221900.00</td>\n",
              "      <td>3</td>\n",
              "      <td>1.00</td>\n",
              "      <td>1180</td>\n",
              "      <td>5650</td>\n",
              "      <td>1.00</td>\n",
              "      <td>0</td>\n",
              "      <td>0</td>\n",
              "      <td>...</td>\n",
              "      <td>7</td>\n",
              "      <td>1180</td>\n",
              "      <td>0</td>\n",
              "      <td>1955</td>\n",
              "      <td>0</td>\n",
              "      <td>98178</td>\n",
              "      <td>47.51</td>\n",
              "      <td>-122.26</td>\n",
              "      <td>1340</td>\n",
              "      <td>5650</td>\n",
              "    </tr>\n",
              "    <tr>\n",
              "      <th>1</th>\n",
              "      <td>6414100192</td>\n",
              "      <td>20141209T000000</td>\n",
              "      <td>538000.00</td>\n",
              "      <td>3</td>\n",
              "      <td>2.25</td>\n",
              "      <td>2570</td>\n",
              "      <td>7242</td>\n",
              "      <td>2.00</td>\n",
              "      <td>0</td>\n",
              "      <td>0</td>\n",
              "      <td>...</td>\n",
              "      <td>7</td>\n",
              "      <td>2170</td>\n",
              "      <td>400</td>\n",
              "      <td>1951</td>\n",
              "      <td>1991</td>\n",
              "      <td>98125</td>\n",
              "      <td>47.72</td>\n",
              "      <td>-122.32</td>\n",
              "      <td>1690</td>\n",
              "      <td>7639</td>\n",
              "    </tr>\n",
              "    <tr>\n",
              "      <th>2</th>\n",
              "      <td>5631500400</td>\n",
              "      <td>20150225T000000</td>\n",
              "      <td>180000.00</td>\n",
              "      <td>2</td>\n",
              "      <td>1.00</td>\n",
              "      <td>770</td>\n",
              "      <td>10000</td>\n",
              "      <td>1.00</td>\n",
              "      <td>0</td>\n",
              "      <td>0</td>\n",
              "      <td>...</td>\n",
              "      <td>6</td>\n",
              "      <td>770</td>\n",
              "      <td>0</td>\n",
              "      <td>1933</td>\n",
              "      <td>0</td>\n",
              "      <td>98028</td>\n",
              "      <td>47.74</td>\n",
              "      <td>-122.23</td>\n",
              "      <td>2720</td>\n",
              "      <td>8062</td>\n",
              "    </tr>\n",
              "    <tr>\n",
              "      <th>3</th>\n",
              "      <td>2487200875</td>\n",
              "      <td>20141209T000000</td>\n",
              "      <td>604000.00</td>\n",
              "      <td>4</td>\n",
              "      <td>3.00</td>\n",
              "      <td>1960</td>\n",
              "      <td>5000</td>\n",
              "      <td>1.00</td>\n",
              "      <td>0</td>\n",
              "      <td>0</td>\n",
              "      <td>...</td>\n",
              "      <td>7</td>\n",
              "      <td>1050</td>\n",
              "      <td>910</td>\n",
              "      <td>1965</td>\n",
              "      <td>0</td>\n",
              "      <td>98136</td>\n",
              "      <td>47.52</td>\n",
              "      <td>-122.39</td>\n",
              "      <td>1360</td>\n",
              "      <td>5000</td>\n",
              "    </tr>\n",
              "    <tr>\n",
              "      <th>4</th>\n",
              "      <td>1954400510</td>\n",
              "      <td>20150218T000000</td>\n",
              "      <td>510000.00</td>\n",
              "      <td>3</td>\n",
              "      <td>2.00</td>\n",
              "      <td>1680</td>\n",
              "      <td>8080</td>\n",
              "      <td>1.00</td>\n",
              "      <td>0</td>\n",
              "      <td>0</td>\n",
              "      <td>...</td>\n",
              "      <td>8</td>\n",
              "      <td>1680</td>\n",
              "      <td>0</td>\n",
              "      <td>1987</td>\n",
              "      <td>0</td>\n",
              "      <td>98074</td>\n",
              "      <td>47.62</td>\n",
              "      <td>-122.05</td>\n",
              "      <td>1800</td>\n",
              "      <td>7503</td>\n",
              "    </tr>\n",
              "  </tbody>\n",
              "</table>\n",
              "<p>5 rows × 21 columns</p>\n",
              "</div>\n",
              "    <div class=\"colab-df-buttons\">\n",
              "\n",
              "  <div class=\"colab-df-container\">\n",
              "    <button class=\"colab-df-convert\" onclick=\"convertToInteractive('df-e046ec47-119d-4549-938b-d765bfc1dff5')\"\n",
              "            title=\"Convert this dataframe to an interactive table.\"\n",
              "            style=\"display:none;\">\n",
              "\n",
              "  <svg xmlns=\"http://www.w3.org/2000/svg\" height=\"24px\" viewBox=\"0 -960 960 960\">\n",
              "    <path d=\"M120-120v-720h720v720H120Zm60-500h600v-160H180v160Zm220 220h160v-160H400v160Zm0 220h160v-160H400v160ZM180-400h160v-160H180v160Zm440 0h160v-160H620v160ZM180-180h160v-160H180v160Zm440 0h160v-160H620v160Z\"/>\n",
              "  </svg>\n",
              "    </button>\n",
              "\n",
              "  <style>\n",
              "    .colab-df-container {\n",
              "      display:flex;\n",
              "      gap: 12px;\n",
              "    }\n",
              "\n",
              "    .colab-df-convert {\n",
              "      background-color: #E8F0FE;\n",
              "      border: none;\n",
              "      border-radius: 50%;\n",
              "      cursor: pointer;\n",
              "      display: none;\n",
              "      fill: #1967D2;\n",
              "      height: 32px;\n",
              "      padding: 0 0 0 0;\n",
              "      width: 32px;\n",
              "    }\n",
              "\n",
              "    .colab-df-convert:hover {\n",
              "      background-color: #E2EBFA;\n",
              "      box-shadow: 0px 1px 2px rgba(60, 64, 67, 0.3), 0px 1px 3px 1px rgba(60, 64, 67, 0.15);\n",
              "      fill: #174EA6;\n",
              "    }\n",
              "\n",
              "    .colab-df-buttons div {\n",
              "      margin-bottom: 4px;\n",
              "    }\n",
              "\n",
              "    [theme=dark] .colab-df-convert {\n",
              "      background-color: #3B4455;\n",
              "      fill: #D2E3FC;\n",
              "    }\n",
              "\n",
              "    [theme=dark] .colab-df-convert:hover {\n",
              "      background-color: #434B5C;\n",
              "      box-shadow: 0px 1px 3px 1px rgba(0, 0, 0, 0.15);\n",
              "      filter: drop-shadow(0px 1px 2px rgba(0, 0, 0, 0.3));\n",
              "      fill: #FFFFFF;\n",
              "    }\n",
              "  </style>\n",
              "\n",
              "    <script>\n",
              "      const buttonEl =\n",
              "        document.querySelector('#df-e046ec47-119d-4549-938b-d765bfc1dff5 button.colab-df-convert');\n",
              "      buttonEl.style.display =\n",
              "        google.colab.kernel.accessAllowed ? 'block' : 'none';\n",
              "\n",
              "      async function convertToInteractive(key) {\n",
              "        const element = document.querySelector('#df-e046ec47-119d-4549-938b-d765bfc1dff5');\n",
              "        const dataTable =\n",
              "          await google.colab.kernel.invokeFunction('convertToInteractive',\n",
              "                                                    [key], {});\n",
              "        if (!dataTable) return;\n",
              "\n",
              "        const docLinkHtml = 'Like what you see? Visit the ' +\n",
              "          '<a target=\"_blank\" href=https://colab.research.google.com/notebooks/data_table.ipynb>data table notebook</a>'\n",
              "          + ' to learn more about interactive tables.';\n",
              "        element.innerHTML = '';\n",
              "        dataTable['output_type'] = 'display_data';\n",
              "        await google.colab.output.renderOutput(dataTable, element);\n",
              "        const docLink = document.createElement('div');\n",
              "        docLink.innerHTML = docLinkHtml;\n",
              "        element.appendChild(docLink);\n",
              "      }\n",
              "    </script>\n",
              "  </div>\n",
              "\n",
              "\n",
              "<div id=\"df-43bfb1ef-6408-4ba9-bab6-a2a072b43366\">\n",
              "  <button class=\"colab-df-quickchart\" onclick=\"quickchart('df-43bfb1ef-6408-4ba9-bab6-a2a072b43366')\"\n",
              "            title=\"Suggest charts.\"\n",
              "            style=\"display:none;\">\n",
              "\n",
              "<svg xmlns=\"http://www.w3.org/2000/svg\" height=\"24px\"viewBox=\"0 0 24 24\"\n",
              "     width=\"24px\">\n",
              "    <g>\n",
              "        <path d=\"M19 3H5c-1.1 0-2 .9-2 2v14c0 1.1.9 2 2 2h14c1.1 0 2-.9 2-2V5c0-1.1-.9-2-2-2zM9 17H7v-7h2v7zm4 0h-2V7h2v10zm4 0h-2v-4h2v4z\"/>\n",
              "    </g>\n",
              "</svg>\n",
              "  </button>\n",
              "\n",
              "<style>\n",
              "  .colab-df-quickchart {\n",
              "      --bg-color: #E8F0FE;\n",
              "      --fill-color: #1967D2;\n",
              "      --hover-bg-color: #E2EBFA;\n",
              "      --hover-fill-color: #174EA6;\n",
              "      --disabled-fill-color: #AAA;\n",
              "      --disabled-bg-color: #DDD;\n",
              "  }\n",
              "\n",
              "  [theme=dark] .colab-df-quickchart {\n",
              "      --bg-color: #3B4455;\n",
              "      --fill-color: #D2E3FC;\n",
              "      --hover-bg-color: #434B5C;\n",
              "      --hover-fill-color: #FFFFFF;\n",
              "      --disabled-bg-color: #3B4455;\n",
              "      --disabled-fill-color: #666;\n",
              "  }\n",
              "\n",
              "  .colab-df-quickchart {\n",
              "    background-color: var(--bg-color);\n",
              "    border: none;\n",
              "    border-radius: 50%;\n",
              "    cursor: pointer;\n",
              "    display: none;\n",
              "    fill: var(--fill-color);\n",
              "    height: 32px;\n",
              "    padding: 0;\n",
              "    width: 32px;\n",
              "  }\n",
              "\n",
              "  .colab-df-quickchart:hover {\n",
              "    background-color: var(--hover-bg-color);\n",
              "    box-shadow: 0 1px 2px rgba(60, 64, 67, 0.3), 0 1px 3px 1px rgba(60, 64, 67, 0.15);\n",
              "    fill: var(--button-hover-fill-color);\n",
              "  }\n",
              "\n",
              "  .colab-df-quickchart-complete:disabled,\n",
              "  .colab-df-quickchart-complete:disabled:hover {\n",
              "    background-color: var(--disabled-bg-color);\n",
              "    fill: var(--disabled-fill-color);\n",
              "    box-shadow: none;\n",
              "  }\n",
              "\n",
              "  .colab-df-spinner {\n",
              "    border: 2px solid var(--fill-color);\n",
              "    border-color: transparent;\n",
              "    border-bottom-color: var(--fill-color);\n",
              "    animation:\n",
              "      spin 1s steps(1) infinite;\n",
              "  }\n",
              "\n",
              "  @keyframes spin {\n",
              "    0% {\n",
              "      border-color: transparent;\n",
              "      border-bottom-color: var(--fill-color);\n",
              "      border-left-color: var(--fill-color);\n",
              "    }\n",
              "    20% {\n",
              "      border-color: transparent;\n",
              "      border-left-color: var(--fill-color);\n",
              "      border-top-color: var(--fill-color);\n",
              "    }\n",
              "    30% {\n",
              "      border-color: transparent;\n",
              "      border-left-color: var(--fill-color);\n",
              "      border-top-color: var(--fill-color);\n",
              "      border-right-color: var(--fill-color);\n",
              "    }\n",
              "    40% {\n",
              "      border-color: transparent;\n",
              "      border-right-color: var(--fill-color);\n",
              "      border-top-color: var(--fill-color);\n",
              "    }\n",
              "    60% {\n",
              "      border-color: transparent;\n",
              "      border-right-color: var(--fill-color);\n",
              "    }\n",
              "    80% {\n",
              "      border-color: transparent;\n",
              "      border-right-color: var(--fill-color);\n",
              "      border-bottom-color: var(--fill-color);\n",
              "    }\n",
              "    90% {\n",
              "      border-color: transparent;\n",
              "      border-bottom-color: var(--fill-color);\n",
              "    }\n",
              "  }\n",
              "</style>\n",
              "\n",
              "  <script>\n",
              "    async function quickchart(key) {\n",
              "      const quickchartButtonEl =\n",
              "        document.querySelector('#' + key + ' button');\n",
              "      quickchartButtonEl.disabled = true;  // To prevent multiple clicks.\n",
              "      quickchartButtonEl.classList.add('colab-df-spinner');\n",
              "      try {\n",
              "        const charts = await google.colab.kernel.invokeFunction(\n",
              "            'suggestCharts', [key], {});\n",
              "      } catch (error) {\n",
              "        console.error('Error during call to suggestCharts:', error);\n",
              "      }\n",
              "      quickchartButtonEl.classList.remove('colab-df-spinner');\n",
              "      quickchartButtonEl.classList.add('colab-df-quickchart-complete');\n",
              "    }\n",
              "    (() => {\n",
              "      let quickchartButtonEl =\n",
              "        document.querySelector('#df-43bfb1ef-6408-4ba9-bab6-a2a072b43366 button');\n",
              "      quickchartButtonEl.style.display =\n",
              "        google.colab.kernel.accessAllowed ? 'block' : 'none';\n",
              "    })();\n",
              "  </script>\n",
              "</div>\n",
              "    </div>\n",
              "  </div>\n"
            ]
          },
          "metadata": {},
          "execution_count": 16
        }
      ]
    },
    {
      "cell_type": "markdown",
      "source": [
        "Since there is date information available, I would like to investigate whether there is any recurring pattern or periodic fluctuation in the price."
      ],
      "metadata": {
        "id": "7zRSXezsQ5VF"
      }
    },
    {
      "cell_type": "code",
      "source": [
        "df['date'] = pd.to_datetime(df['date'].str.split('T').str[0], format='%Y%m%d')\n",
        "df.sort_values(by='date', inplace=True)\n",
        "\n",
        "plt.figure(figsize=(10, 6))\n",
        "plt.plot(df['date'], df['price'], marker='o', linestyle='-', color='b')\n",
        "plt.title('Price vs Time')\n",
        "plt.xlabel('Time')\n",
        "plt.ylabel('Price')\n",
        "plt.grid(True)\n",
        "plt.xticks(rotation=45)\n",
        "plt.tight_layout()\n",
        "plt.show()\n",
        "\n",
        "\n",
        "\n",
        "\n",
        "\n"
      ],
      "metadata": {
        "colab": {
          "base_uri": "https://localhost:8080/",
          "height": 607
        },
        "id": "FTbrxGwUGUJy",
        "outputId": "24bd945f-8cc3-4602-a62a-80d74eaec2c7"
      },
      "execution_count": null,
      "outputs": [
        {
          "output_type": "display_data",
          "data": {
            "text/plain": [
              "<Figure size 1000x600 with 1 Axes>"
            ],
            "image/png": "[encoded data removed]"
          },
          "metadata": {}
        }
      ]
    },
    {
      "cell_type": "markdown",
      "source": [
        "It appears that there isn't a discernible pattern in the data, but I'd like to examine the autocorrelation function (ACF) plot for the target variable, which in this case is the price."
      ],
      "metadata": {
        "id": "lIFK6TR5OpyA"
      }
    },
    {
      "cell_type": "code",
      "source": [
        "\n",
        "fig, ax = plt.subplots()\n",
        "plot_acf(df['price'], lags=30, ax=ax)\n",
        "ymin, ymax = ax.get_ylim()\n",
        "ax.set_ylim(0, ymax)\n",
        "\n",
        "ax.axhline(y=0, color='gray', linestyle='--')\n",
        "plt.ylabel('Autocorrelation')\n",
        "plt.title(f'Autocorrelation Function (ACF) for price Column')\n",
        "plt.show()\n"
      ],
      "metadata": {
        "colab": {
          "base_uri": "https://localhost:8080/",
          "height": 452
        },
        "id": "1EWQ0CzoOEF0",
        "outputId": "7da8e8fc-45bb-4553-ea8c-fea4ab35bc2f"
      },
      "execution_count": null,
      "outputs": [
        {
          "output_type": "display_data",
          "data": {
            "text/plain": [
              "<Figure size 640x480 with 1 Axes>"
            ],
            "image/png": "[encoded data removed]"
          },
          "metadata": {}
        }
      ]
    },
    {
      "cell_type": "markdown",
      "source": [
        "It seems that the autocorrelation function (ACF) for all lags up to 30 days is close to 0, and the price-time plot doesn't show any apparent time-based patterns or trends in the price. Given these observations, it's reasonable not to treat the dataset as a time series."
      ],
      "metadata": {
        "id": "wUm4UHY0RIS8"
      }
    },
    {
      "cell_type": "code",
      "source": [
        "df.drop('date', axis=1, inplace=True)"
      ],
      "metadata": {
        "id": "BhZPhDhNPhoj"
      },
      "execution_count": null,
      "outputs": []
    },
    {
      "cell_type": "code",
      "source": [
        "df.drop('id', axis=1, inplace=True)"
      ],
      "metadata": {
        "id": "xXJ6AVn7Rokp"
      },
      "execution_count": null,
      "outputs": []
    },
    {
      "cell_type": "code",
      "source": [
        "df.sort_index(inplace=True)\n"
      ],
      "metadata": {
        "id": "DV0II6RCSkfP"
      },
      "execution_count": null,
      "outputs": []
    },
    {
      "cell_type": "markdown",
      "source": [
        "BASELINE RIDGE REGRESSOR"
      ],
      "metadata": {
        "id": "XNn1FFrTeHjY"
      }
    },
    {
      "cell_type": "markdown",
      "source": [
        "Before proceeding with further feature selection and data processing, I would like to establish baseline performance scores for both the Ridge and LightGBM regression models, as recommended in the task document. I evaluate the models' performance primarily based on Cross Validation RMSE scores, which provide a quantitative measure of predictive accuracy. However, to enhance interpretability, I also include the Mean Absolute Percentage Error (MAPE) metric. MAPE offers valuable insights into how accurately the model predicts real values, making the evaluation more understandable and meaningful.\n",
        "\n",
        "\n",
        "\n",
        "\n"
      ],
      "metadata": {
        "id": "rlTQBsU8mY7d"
      }
    },
    {
      "cell_type": "code",
      "source": [
        "import numpy as np\n",
        "import pandas as pd\n",
        "from sklearn.model_selection import train_test_split, cross_val_score\n",
        "from sklearn.linear_model import Ridge\n",
        "from sklearn.metrics import mean_squared_error\n",
        "\n",
        "X = df.drop('price', axis=1)\n",
        "y = df['price']\n",
        "\n",
        "X_train, X_test, y_train, y_test = train_test_split(X, y, test_size=0.1, random_state=42)\n",
        "\n",
        "ridge_model = Ridge(alpha=1.0)\n",
        "\n",
        "ridge_model.fit(X_train, y_train)\n",
        "\n",
        "y_train_pred = ridge_model.predict(X_train)\n",
        "rmse_train = np.sqrt(mean_squared_error(y_train, y_train_pred))\n",
        "\n",
        "\n",
        "cv_scores = cross_val_score(ridge_model, X_train, y_train, cv=5, scoring='neg_mean_squared_error')\n",
        "rmse_cv = np.sqrt(-cv_scores.mean())\n",
        "\n",
        "y_test_pred = ridge_model.predict(X_test)\n",
        "rmse_test = np.sqrt(mean_squared_error(y_test, y_test_pred))\n",
        "\n",
        "\n",
        "mape_train = np.mean(np.abs((y_train - y_train_pred) / y_train)) * 100\n",
        "\n",
        "mape_test = np.mean(np.abs((y_test - y_test_pred) / y_test)) * 100\n",
        "\n",
        "print(f\"RMSE on Training Set: {rmse_train:.2f}\")\n",
        "print(f\"RMSE on Cross-Validation Set: {rmse_cv:.2f}\")\n",
        "print(f\"RMSE on Test Set: {rmse_test:.2f}\")\n",
        "print(f\"Mean Absolute Percentage Error on Training Set: {mape_train:.2f}%\")\n",
        "print(f\"Mean Absolute Percentage Error on Test Set: {mape_test:.2f}%\")\n"
      ],
      "metadata": {
        "colab": {
          "base_uri": "https://localhost:8080/"
        },
        "id": "Sw-zaKeVc-7W",
        "outputId": "f4d391d6-8f62-4eab-e01a-dfdb787e4376"
      },
      "execution_count": null,
      "outputs": [
        {
          "output_type": "stream",
          "name": "stdout",
          "text": [
            "RMSE on Training Set: 199892.49\n",
            "RMSE on Cross-Validation Set: 200354.43\n",
            "RMSE on Test Set: 212467.11\n",
            "Mean Absolute Percentage Error on Training Set: 25.49%\n",
            "Mean Absolute Percentage Error on Test Set: 25.63%\n"
          ]
        }
      ]
    },
    {
      "cell_type": "markdown",
      "source": [
        "It's clear that the baseline model's high RMSE score of 212,000 is quite substantial, particularly when considering that the target feature has a median value of 450,000. To address this issue, we will explore additional preprocessing steps, conduct feature selection, and perform hyperparameter tuning to determine if we can reduce the RMSE on the test dataset. This iterative approach aims to enhance the model's accuracy and predictive performance"
      ],
      "metadata": {
        "id": "iJ6QkkPWeLiY"
      }
    },
    {
      "cell_type": "markdown",
      "source": [
        "BASELINE LIGHTGBM REGRESSOR"
      ],
      "metadata": {
        "id": "wB3_oq1ze23k"
      }
    },
    {
      "cell_type": "code",
      "source": [
        "import lightgbm as lgb\n",
        "import numpy as np\n",
        "from sklearn.metrics import mean_squared_error\n",
        "from sklearn.model_selection import cross_val_score\n",
        "\n",
        "\n",
        "lgb_model = lgb.LGBMRegressor()\n",
        "\n",
        "\n",
        "lgb_model.fit(X_train, y_train)\n",
        "\n",
        "\n",
        "y_train_pred = lgb_model.predict(X_train)\n",
        "rmse_train = np.sqrt(mean_squared_error(y_train, y_train_pred))\n",
        "\n",
        "\n",
        "cv_scores = -cross_val_score(lgb_model, X_train, y_train, cv=5, scoring='neg_mean_squared_error')\n",
        "rmse_cv = np.sqrt(cv_scores.mean())\n",
        "\n",
        "y_test_pred = lgb_model.predict(X_test)\n",
        "rmse_test = np.sqrt(mean_squared_error(y_test, y_test_pred))\n",
        "\n",
        "mape_train = np.mean(np.abs((y_train - y_train_pred) / y_train)) * 100\n",
        "\n",
        "mape_test = np.mean(np.abs((y_test - y_test_pred) / y_test)) * 100\n",
        "\n"
      ],
      "metadata": {
        "id": "OPM3wOZqe8UY"
      },
      "execution_count": null,
      "outputs": []
    },
    {
      "cell_type": "code",
      "source": [
        "\n",
        "print(f\"RMSE on Training Set: {rmse_train:.2f}\")\n",
        "print(f\"RMSE on Cross-Validation Set: {rmse_cv:.2f}\")\n",
        "print(f\"RMSE on Test Set: {rmse_test:.2f}\")\n",
        "print(f\"Mean Absolute Percentage Error on Training Set: {mape_train:.2f}%\")\n",
        "print(f\"Mean Absolute Percentage Error on Test Set: {mape_test:.2f}%\")\n"
      ],
      "metadata": {
        "colab": {
          "base_uri": "https://localhost:8080/"
        },
        "id": "KlH2k8uSfXYU",
        "outputId": "7d6f5380-eb95-4d99-85f3-37e958538005"
      },
      "execution_count": null,
      "outputs": [
        {
          "output_type": "stream",
          "name": "stdout",
          "text": [
            "RMSE on Training Set: 89509.25\n",
            "RMSE on Cross-Validation Set: 122478.50\n",
            "RMSE on Test Set: 125589.37\n",
            "Mean Absolute Percentage Error on Training Set: 11.58%\n",
            "Mean Absolute Percentage Error on Test Set: 13.39%\n"
          ]
        }
      ]
    },
    {
      "cell_type": "markdown",
      "source": [
        "Indeed, the baseline LightGBM regressor has yielded a significant reduction in the RMSE score, nearly halving it when compared to the baseline Ridge model. This outcome is expected, primarily because the dataset contains absolute outliers, and Gradient Boosting Machine (GBM) models, like LightGBM, are resilient to outliers, unlike linear regression models. Additionally, GBM models are known to excel in cases where there are non-linear patterns in the data.\n",
        "\n",
        "It's worth noting that the baseline LightGBM model shows a slight overfitting tendency, as indicated by the cross-validation score being approximately 30% higher than the training score. However, it's encouraging that the test score remains relatively close to the cross-validation score.\n",
        "\n",
        "Alright! It's now time to delve deeper into working on the data.\n"
      ],
      "metadata": {
        "id": "bUthAV7nfo25"
      }
    },
    {
      "cell_type": "markdown",
      "source": [
        "## Feature Engineering and Data Preprocessing"
      ],
      "metadata": {
        "id": "YXIcdRvof_WP"
      }
    },
    {
      "cell_type": "code",
      "source": [
        "# a reminder on how our data looks like\n",
        "df.describe()"
      ],
      "metadata": {
        "colab": {
          "base_uri": "https://localhost:8080/",
          "height": 320
        },
        "id": "0_IDrt5IgYs9",
        "outputId": "b5ad0757-d71a-4390-f591-16d1e3da893b"
      },
      "execution_count": null,
      "outputs": [
        {
          "output_type": "execute_result",
          "data": {
            "text/plain": [
              "           price  bedrooms  bathrooms  sqft_living   sqft_lot   floors  \\\n",
              "count   21613.00  21613.00   21613.00     21613.00   21613.00 21613.00   \n",
              "mean   540088.14      3.37       2.11      2079.90   15106.97     1.49   \n",
              "std    367127.20      0.93       0.77       918.44   41420.51     0.54   \n",
              "min     75000.00      0.00       0.00       290.00     520.00     1.00   \n",
              "25%    321950.00      3.00       1.75      1427.00    5040.00     1.00   \n",
              "50%    450000.00      3.00       2.25      1910.00    7618.00     1.50   \n",
              "75%    645000.00      4.00       2.50      2550.00   10688.00     2.00   \n",
              "max   7700000.00     33.00       8.00     13540.00 1651359.00     3.50   \n",
              "\n",
              "       waterfront     view  condition    grade  sqft_above  sqft_basement  \\\n",
              "count    21613.00 21613.00   21613.00 21613.00    21613.00       21613.00   \n",
              "mean         0.01     0.23       3.41     7.66     1788.39         291.51   \n",
              "std          0.09     0.77       0.65     1.18      828.09         442.58   \n",
              "min          0.00     0.00       1.00     1.00      290.00           0.00   \n",
              "25%          0.00     0.00       3.00     7.00     1190.00           0.00   \n",
              "50%          0.00     0.00       3.00     7.00     1560.00           0.00   \n",
              "75%          0.00     0.00       4.00     8.00     2210.00         560.00   \n",
              "max          1.00     4.00       5.00    13.00     9410.00        4820.00   \n",
              "\n",
              "       zipcode      lat     long  sqft_living15  sqft_lot15  renovated  \\\n",
              "count 21613.00 21613.00 21613.00       21613.00    21613.00   21613.00   \n",
              "mean  98077.94    47.56  -122.21        1986.55    12768.46       0.02   \n",
              "std      53.51     0.14     0.14         685.39    27304.18       0.14   \n",
              "min   98001.00    47.16  -122.52         399.00      651.00       0.00   \n",
              "25%   98033.00    47.47  -122.33        1490.00     5100.00       0.00   \n",
              "50%   98065.00    47.57  -122.23        1840.00     7620.00       0.00   \n",
              "75%   98118.00    47.68  -122.12        2360.00    10083.00       0.00   \n",
              "max   98199.00    47.78  -121.31        6210.00   871200.00       1.00   \n",
              "\n",
              "           age  \n",
              "count 21613.00  \n",
              "mean     43.99  \n",
              "std      29.37  \n",
              "min       0.00  \n",
              "25%      18.00  \n",
              "50%      40.00  \n",
              "75%      64.00  \n",
              "max     115.00  "
            ],
            "text/html": [
              "\n",
              "  <div id=\"df-5b434da3-cbaf-40b3-b365-9d8400a1149d\" class=\"colab-df-container\">\n",
              "    <div>\n",
              "<style scoped>\n",
              "    .dataframe tbody tr th:only-of-type {\n",
              "        vertical-align: middle;\n",
              "    }\n",
              "\n",
              "    .dataframe tbody tr th {\n",
              "        vertical-align: top;\n",
              "    }\n",
              "\n",
              "    .dataframe thead th {\n",
              "        text-align: right;\n",
              "    }\n",
              "</style>\n",
              "<table border=\"1\" class=\"dataframe\">\n",
              "  <thead>\n",
              "    <tr style=\"text-align: right;\">\n",
              "      <th></th>\n",
              "      <th>price</th>\n",
              "      <th>bedrooms</th>\n",
              "      <th>bathrooms</th>\n",
              "      <th>sqft_living</th>\n",
              "      <th>sqft_lot</th>\n",
              "      <th>floors</th>\n",
              "      <th>waterfront</th>\n",
              "      <th>view</th>\n",
              "      <th>condition</th>\n",
              "      <th>grade</th>\n",
              "      <th>sqft_above</th>\n",
              "      <th>sqft_basement</th>\n",
              "      <th>zipcode</th>\n",
              "      <th>lat</th>\n",
              "      <th>long</th>\n",
              "      <th>sqft_living15</th>\n",
              "      <th>sqft_lot15</th>\n",
              "      <th>renovated</th>\n",
              "      <th>age</th>\n",
              "    </tr>\n",
              "  </thead>\n",
              "  <tbody>\n",
              "    <tr>\n",
              "      <th>count</th>\n",
              "      <td>21613.00</td>\n",
              "      <td>21613.00</td>\n",
              "      <td>21613.00</td>\n",
              "      <td>21613.00</td>\n",
              "      <td>21613.00</td>\n",
              "      <td>21613.00</td>\n",
              "      <td>21613.00</td>\n",
              "      <td>21613.00</td>\n",
              "      <td>21613.00</td>\n",
              "      <td>21613.00</td>\n",
              "      <td>21613.00</td>\n",
              "      <td>21613.00</td>\n",
              "      <td>21613.00</td>\n",
              "      <td>21613.00</td>\n",
              "      <td>21613.00</td>\n",
              "      <td>21613.00</td>\n",
              "      <td>21613.00</td>\n",
              "      <td>21613.00</td>\n",
              "      <td>21613.00</td>\n",
              "    </tr>\n",
              "    <tr>\n",
              "      <th>mean</th>\n",
              "      <td>540088.14</td>\n",
              "      <td>3.37</td>\n",
              "      <td>2.11</td>\n",
              "      <td>2079.90</td>\n",
              "      <td>15106.97</td>\n",
              "      <td>1.49</td>\n",
              "      <td>0.01</td>\n",
              "      <td>0.23</td>\n",
              "      <td>3.41</td>\n",
              "      <td>7.66</td>\n",
              "      <td>1788.39</td>\n",
              "      <td>291.51</td>\n",
              "      <td>98077.94</td>\n",
              "      <td>47.56</td>\n",
              "      <td>-122.21</td>\n",
              "      <td>1986.55</td>\n",
              "      <td>12768.46</td>\n",
              "      <td>0.02</td>\n",
              "      <td>43.99</td>\n",
              "    </tr>\n",
              "    <tr>\n",
              "      <th>std</th>\n",
              "      <td>367127.20</td>\n",
              "      <td>0.93</td>\n",
              "      <td>0.77</td>\n",
              "      <td>918.44</td>\n",
              "      <td>41420.51</td>\n",
              "      <td>0.54</td>\n",
              "      <td>0.09</td>\n",
              "      <td>0.77</td>\n",
              "      <td>0.65</td>\n",
              "      <td>1.18</td>\n",
              "      <td>828.09</td>\n",
              "      <td>442.58</td>\n",
              "      <td>53.51</td>\n",
              "      <td>0.14</td>\n",
              "      <td>0.14</td>\n",
              "      <td>685.39</td>\n",
              "      <td>27304.18</td>\n",
              "      <td>0.14</td>\n",
              "      <td>29.37</td>\n",
              "    </tr>\n",
              "    <tr>\n",
              "      <th>min</th>\n",
              "      <td>75000.00</td>\n",
              "      <td>0.00</td>\n",
              "      <td>0.00</td>\n",
              "      <td>290.00</td>\n",
              "      <td>520.00</td>\n",
              "      <td>1.00</td>\n",
              "      <td>0.00</td>\n",
              "      <td>0.00</td>\n",
              "      <td>1.00</td>\n",
              "      <td>1.00</td>\n",
              "      <td>290.00</td>\n",
              "      <td>0.00</td>\n",
              "      <td>98001.00</td>\n",
              "      <td>47.16</td>\n",
              "      <td>-122.52</td>\n",
              "      <td>399.00</td>\n",
              "      <td>651.00</td>\n",
              "      <td>0.00</td>\n",
              "      <td>0.00</td>\n",
              "    </tr>\n",
              "    <tr>\n",
              "      <th>25%</th>\n",
              "      <td>321950.00</td>\n",
              "      <td>3.00</td>\n",
              "      <td>1.75</td>\n",
              "      <td>1427.00</td>\n",
              "      <td>5040.00</td>\n",
              "      <td>1.00</td>\n",
              "      <td>0.00</td>\n",
              "      <td>0.00</td>\n",
              "      <td>3.00</td>\n",
              "      <td>7.00</td>\n",
              "      <td>1190.00</td>\n",
              "      <td>0.00</td>\n",
              "      <td>98033.00</td>\n",
              "      <td>47.47</td>\n",
              "      <td>-122.33</td>\n",
              "      <td>1490.00</td>\n",
              "      <td>5100.00</td>\n",
              "      <td>0.00</td>\n",
              "      <td>18.00</td>\n",
              "    </tr>\n",
              "    <tr>\n",
              "      <th>50%</th>\n",
              "      <td>450000.00</td>\n",
              "      <td>3.00</td>\n",
              "      <td>2.25</td>\n",
              "      <td>1910.00</td>\n",
              "      <td>7618.00</td>\n",
              "      <td>1.50</td>\n",
              "      <td>0.00</td>\n",
              "      <td>0.00</td>\n",
              "      <td>3.00</td>\n",
              "      <td>7.00</td>\n",
              "      <td>1560.00</td>\n",
              "      <td>0.00</td>\n",
              "      <td>98065.00</td>\n",
              "      <td>47.57</td>\n",
              "      <td>-122.23</td>\n",
              "      <td>1840.00</td>\n",
              "      <td>7620.00</td>\n",
              "      <td>0.00</td>\n",
              "      <td>40.00</td>\n",
              "    </tr>\n",
              "    <tr>\n",
              "      <th>75%</th>\n",
              "      <td>645000.00</td>\n",
              "      <td>4.00</td>\n",
              "      <td>2.50</td>\n",
              "      <td>2550.00</td>\n",
              "      <td>10688.00</td>\n",
              "      <td>2.00</td>\n",
              "      <td>0.00</td>\n",
              "      <td>0.00</td>\n",
              "      <td>4.00</td>\n",
              "      <td>8.00</td>\n",
              "      <td>2210.00</td>\n",
              "      <td>560.00</td>\n",
              "      <td>98118.00</td>\n",
              "      <td>47.68</td>\n",
              "      <td>-122.12</td>\n",
              "      <td>2360.00</td>\n",
              "      <td>10083.00</td>\n",
              "      <td>0.00</td>\n",
              "      <td>64.00</td>\n",
              "    </tr>\n",
              "    <tr>\n",
              "      <th>max</th>\n",
              "      <td>7700000.00</td>\n",
              "      <td>33.00</td>\n",
              "      <td>8.00</td>\n",
              "      <td>13540.00</td>\n",
              "      <td>1651359.00</td>\n",
              "      <td>3.50</td>\n",
              "      <td>1.00</td>\n",
              "      <td>4.00</td>\n",
              "      <td>5.00</td>\n",
              "      <td>13.00</td>\n",
              "      <td>9410.00</td>\n",
              "      <td>4820.00</td>\n",
              "      <td>98199.00</td>\n",
              "      <td>47.78</td>\n",
              "      <td>-121.31</td>\n",
              "      <td>6210.00</td>\n",
              "      <td>871200.00</td>\n",
              "      <td>1.00</td>\n",
              "      <td>115.00</td>\n",
              "    </tr>\n",
              "  </tbody>\n",
              "</table>\n",
              "</div>\n",
              "    <div class=\"colab-df-buttons\">\n",
              "\n",
              "  <div class=\"colab-df-container\">\n",
              "    <button class=\"colab-df-convert\" onclick=\"convertToInteractive('df-5b434da3-cbaf-40b3-b365-9d8400a1149d')\"\n",
              "            title=\"Convert this dataframe to an interactive table.\"\n",
              "            style=\"display:none;\">\n",
              "\n",
              "  <svg xmlns=\"http://www.w3.org/2000/svg\" height=\"24px\" viewBox=\"0 -960 960 960\">\n",
              "    <path d=\"M120-120v-720h720v720H120Zm60-500h600v-160H180v160Zm220 220h160v-160H400v160Zm0 220h160v-160H400v160ZM180-400h160v-160H180v160Zm440 0h160v-160H620v160ZM180-180h160v-160H180v160Zm440 0h160v-160H620v160Z\"/>\n",
              "  </svg>\n",
              "    </button>\n",
              "\n",
              "  <style>\n",
              "    .colab-df-container {\n",
              "      display:flex;\n",
              "      gap: 12px;\n",
              "    }\n",
              "\n",
              "    .colab-df-convert {\n",
              "      background-color: #E8F0FE;\n",
              "      border: none;\n",
              "      border-radius: 50%;\n",
              "      cursor: pointer;\n",
              "      display: none;\n",
              "      fill: #1967D2;\n",
              "      height: 32px;\n",
              "      padding: 0 0 0 0;\n",
              "      width: 32px;\n",
              "    }\n",
              "\n",
              "    .colab-df-convert:hover {\n",
              "      background-color: #E2EBFA;\n",
              "      box-shadow: 0px 1px 2px rgba(60, 64, 67, 0.3), 0px 1px 3px 1px rgba(60, 64, 67, 0.15);\n",
              "      fill: #174EA6;\n",
              "    }\n",
              "\n",
              "    .colab-df-buttons div {\n",
              "      margin-bottom: 4px;\n",
              "    }\n",
              "\n",
              "    [theme=dark] .colab-df-convert {\n",
              "      background-color: #3B4455;\n",
              "      fill: #D2E3FC;\n",
              "    }\n",
              "\n",
              "    [theme=dark] .colab-df-convert:hover {\n",
              "      background-color: #434B5C;\n",
              "      box-shadow: 0px 1px 3px 1px rgba(0, 0, 0, 0.15);\n",
              "      filter: drop-shadow(0px 1px 2px rgba(0, 0, 0, 0.3));\n",
              "      fill: #FFFFFF;\n",
              "    }\n",
              "  </style>\n",
              "\n",
              "    <script>\n",
              "      const buttonEl =\n",
              "        document.querySelector('#df-5b434da3-cbaf-40b3-b365-9d8400a1149d button.colab-df-convert');\n",
              "      buttonEl.style.display =\n",
              "        google.colab.kernel.accessAllowed ? 'block' : 'none';\n",
              "\n",
              "      async function convertToInteractive(key) {\n",
              "        const element = document.querySelector('#df-5b434da3-cbaf-40b3-b365-9d8400a1149d');\n",
              "        const dataTable =\n",
              "          await google.colab.kernel.invokeFunction('convertToInteractive',\n",
              "                                                    [key], {});\n",
              "        if (!dataTable) return;\n",
              "\n",
              "        const docLinkHtml = 'Like what you see? Visit the ' +\n",
              "          '<a target=\"_blank\" href=https://colab.research.google.com/notebooks/data_table.ipynb>data table notebook</a>'\n",
              "          + ' to learn more about interactive tables.';\n",
              "        element.innerHTML = '';\n",
              "        dataTable['output_type'] = 'display_data';\n",
              "        await google.colab.output.renderOutput(dataTable, element);\n",
              "        const docLink = document.createElement('div');\n",
              "        docLink.innerHTML = docLinkHtml;\n",
              "        element.appendChild(docLink);\n",
              "      }\n",
              "    </script>\n",
              "  </div>\n",
              "\n",
              "\n",
              "<div id=\"df-46c507fb-aedf-4364-9656-b42a66319c56\">\n",
              "  <button class=\"colab-df-quickchart\" onclick=\"quickchart('df-46c507fb-aedf-4364-9656-b42a66319c56')\"\n",
              "            title=\"Suggest charts.\"\n",
              "            style=\"display:none;\">\n",
              "\n",
              "<svg xmlns=\"http://www.w3.org/2000/svg\" height=\"24px\"viewBox=\"0 0 24 24\"\n",
              "     width=\"24px\">\n",
              "    <g>\n",
              "        <path d=\"M19 3H5c-1.1 0-2 .9-2 2v14c0 1.1.9 2 2 2h14c1.1 0 2-.9 2-2V5c0-1.1-.9-2-2-2zM9 17H7v-7h2v7zm4 0h-2V7h2v10zm4 0h-2v-4h2v4z\"/>\n",
              "    </g>\n",
              "</svg>\n",
              "  </button>\n",
              "\n",
              "<style>\n",
              "  .colab-df-quickchart {\n",
              "      --bg-color: #E8F0FE;\n",
              "      --fill-color: #1967D2;\n",
              "      --hover-bg-color: #E2EBFA;\n",
              "      --hover-fill-color: #174EA6;\n",
              "      --disabled-fill-color: #AAA;\n",
              "      --disabled-bg-color: #DDD;\n",
              "  }\n",
              "\n",
              "  [theme=dark] .colab-df-quickchart {\n",
              "      --bg-color: #3B4455;\n",
              "      --fill-color: #D2E3FC;\n",
              "      --hover-bg-color: #434B5C;\n",
              "      --hover-fill-color: #FFFFFF;\n",
              "      --disabled-bg-color: #3B4455;\n",
              "      --disabled-fill-color: #666;\n",
              "  }\n",
              "\n",
              "  .colab-df-quickchart {\n",
              "    background-color: var(--bg-color);\n",
              "    border: none;\n",
              "    border-radius: 50%;\n",
              "    cursor: pointer;\n",
              "    display: none;\n",
              "    fill: var(--fill-color);\n",
              "    height: 32px;\n",
              "    padding: 0;\n",
              "    width: 32px;\n",
              "  }\n",
              "\n",
              "  .colab-df-quickchart:hover {\n",
              "    background-color: var(--hover-bg-color);\n",
              "    box-shadow: 0 1px 2px rgba(60, 64, 67, 0.3), 0 1px 3px 1px rgba(60, 64, 67, 0.15);\n",
              "    fill: var(--button-hover-fill-color);\n",
              "  }\n",
              "\n",
              "  .colab-df-quickchart-complete:disabled,\n",
              "  .colab-df-quickchart-complete:disabled:hover {\n",
              "    background-color: var(--disabled-bg-color);\n",
              "    fill: var(--disabled-fill-color);\n",
              "    box-shadow: none;\n",
              "  }\n",
              "\n",
              "  .colab-df-spinner {\n",
              "    border: 2px solid var(--fill-color);\n",
              "    border-color: transparent;\n",
              "    border-bottom-color: var(--fill-color);\n",
              "    animation:\n",
              "      spin 1s steps(1) infinite;\n",
              "  }\n",
              "\n",
              "  @keyframes spin {\n",
              "    0% {\n",
              "      border-color: transparent;\n",
              "      border-bottom-color: var(--fill-color);\n",
              "      border-left-color: var(--fill-color);\n",
              "    }\n",
              "    20% {\n",
              "      border-color: transparent;\n",
              "      border-left-color: var(--fill-color);\n",
              "      border-top-color: var(--fill-color);\n",
              "    }\n",
              "    30% {\n",
              "      border-color: transparent;\n",
              "      border-left-color: var(--fill-color);\n",
              "      border-top-color: var(--fill-color);\n",
              "      border-right-color: var(--fill-color);\n",
              "    }\n",
              "    40% {\n",
              "      border-color: transparent;\n",
              "      border-right-color: var(--fill-color);\n",
              "      border-top-color: var(--fill-color);\n",
              "    }\n",
              "    60% {\n",
              "      border-color: transparent;\n",
              "      border-right-color: var(--fill-color);\n",
              "    }\n",
              "    80% {\n",
              "      border-color: transparent;\n",
              "      border-right-color: var(--fill-color);\n",
              "      border-bottom-color: var(--fill-color);\n",
              "    }\n",
              "    90% {\n",
              "      border-color: transparent;\n",
              "      border-bottom-color: var(--fill-color);\n",
              "    }\n",
              "  }\n",
              "</style>\n",
              "\n",
              "  <script>\n",
              "    async function quickchart(key) {\n",
              "      const quickchartButtonEl =\n",
              "        document.querySelector('#' + key + ' button');\n",
              "      quickchartButtonEl.disabled = true;  // To prevent multiple clicks.\n",
              "      quickchartButtonEl.classList.add('colab-df-spinner');\n",
              "      try {\n",
              "        const charts = await google.colab.kernel.invokeFunction(\n",
              "            'suggestCharts', [key], {});\n",
              "      } catch (error) {\n",
              "        console.error('Error during call to suggestCharts:', error);\n",
              "      }\n",
              "      quickchartButtonEl.classList.remove('colab-df-spinner');\n",
              "      quickchartButtonEl.classList.add('colab-df-quickchart-complete');\n",
              "    }\n",
              "    (() => {\n",
              "      let quickchartButtonEl =\n",
              "        document.querySelector('#df-46c507fb-aedf-4364-9656-b42a66319c56 button');\n",
              "      quickchartButtonEl.style.display =\n",
              "        google.colab.kernel.accessAllowed ? 'block' : 'none';\n",
              "    })();\n",
              "  </script>\n",
              "</div>\n",
              "    </div>\n",
              "  </div>\n"
            ]
          },
          "metadata": {},
          "execution_count": 35
        }
      ]
    },
    {
      "cell_type": "markdown",
      "source": [
        "The \"yr_renovated\" feature raises suspicion due to its notably high standard deviation and the fact that its minimum, 25th percentile, and median values are all zeros. To gain a better understanding of this feature, I'll start by examining its value counts, and based on that, I'll determine how or if we should utilize it in our analysis."
      ],
      "metadata": {
        "id": "O14SSgfDatAb"
      }
    },
    {
      "cell_type": "code",
      "source": [
        "df['yr_renovated'].value_counts()"
      ],
      "metadata": {
        "colab": {
          "base_uri": "https://localhost:8080/"
        },
        "id": "NqO12DmlZ42o",
        "outputId": "8b8875c7-0a3d-4b52-82fe-0a909b429266"
      },
      "execution_count": null,
      "outputs": [
        {
          "output_type": "execute_result",
          "data": {
            "text/plain": [
              "0       20699\n",
              "2014       91\n",
              "2013       37\n",
              "2003       36\n",
              "2005       35\n",
              "        ...  \n",
              "1951        1\n",
              "1959        1\n",
              "1948        1\n",
              "1954        1\n",
              "1944        1\n",
              "Name: yr_renovated, Length: 70, dtype: int64"
            ]
          },
          "metadata": {},
          "execution_count": 12
        }
      ]
    },
    {
      "cell_type": "markdown",
      "source": [
        "The vast majority of the dataset comprises non-renovated apartments, with some having no renovation at all. To simplify matters, I'll transform this feature into a binary one using the following strategy:\n",
        "\n",
        "If the value is 0, signifying no renovation, I will assign it as 0.\n",
        "If the renovation year precedes 2000, it will also be assigned a value of 0.\n",
        "Otherwise, I will assign a value of 1."
      ],
      "metadata": {
        "id": "nmOtxS85bEtU"
      }
    },
    {
      "cell_type": "code",
      "source": [
        "df['renovated'] = df['yr_renovated'].apply(lambda x: 0 if x < 2000 else 1)\n",
        "\n",
        "df.drop(columns=['yr_renovated'], inplace=True)\n"
      ],
      "metadata": {
        "id": "elFD9OnibxOP"
      },
      "execution_count": null,
      "outputs": []
    },
    {
      "cell_type": "code",
      "source": [
        "renovated_price_means = df.groupby('renovated')['price'].mean()\n",
        "\n",
        "plt.bar(renovated_price_means.index, renovated_price_means.values)\n",
        "plt.xlabel('renovated_price_means')\n",
        "plt.ylabel('Mean Price')\n",
        "plt.title('Mean Price vs. renovated')\n",
        "plt.xticks(renovated_price_means.index, ['No', 'Yes'])  # Label the x-axis\n",
        "plt.show()\n"
      ],
      "metadata": {
        "colab": {
          "base_uri": "https://localhost:8080/",
          "height": 472
        },
        "id": "0fQVOtIKcTE8",
        "outputId": "e4bf49c8-3681-4d0f-a3ac-df06140bea3e"
      },
      "execution_count": null,
      "outputs": [
        {
          "output_type": "display_data",
          "data": {
            "text/plain": [
              "<Figure size 640x480 with 1 Axes>"
            ],
            "image/png": "[encoded data removed]"
          },
          "metadata": {}
        }
      ]
    },
    {
      "cell_type": "markdown",
      "source": [
        "With the new column in place, it appears that renovated apartments have a price that is approximately 60% higher than that of non-renovated apartments. This suggests that the newly created feature could be a valuable addition to feed into the model."
      ],
      "metadata": {
        "id": "7TbznwH4co6Y"
      }
    },
    {
      "cell_type": "markdown",
      "source": [
        "Regarding the \"waterfront\" feature, its low standard deviation of only 0.01 indicates that the feature values exhibit minimal variation. While having a feature with little variability isn't typically desirable, we should conduct further investigation before deciding whether to delete it."
      ],
      "metadata": {
        "id": "ko37OH9qVZQT"
      }
    },
    {
      "cell_type": "code",
      "source": [
        "df['waterfront'].value_counts()"
      ],
      "metadata": {
        "colab": {
          "base_uri": "https://localhost:8080/"
        },
        "id": "o10JsUZNVEbE",
        "outputId": "cb484a63-34a0-403f-92aa-1424d0c2c732"
      },
      "execution_count": null,
      "outputs": [
        {
          "output_type": "execute_result",
          "data": {
            "text/plain": [
              "0    21450\n",
              "1      163\n",
              "Name: waterfront, dtype: int64"
            ]
          },
          "metadata": {},
          "execution_count": 10
        }
      ]
    },
    {
      "cell_type": "markdown",
      "source": [
        "only 1% of the total entries have value 1. Before deciding to delete the feature, let's check if waterfront properties tend to have higher prices."
      ],
      "metadata": {
        "id": "vgUaL3oHVqDN"
      }
    },
    {
      "cell_type": "code",
      "source": [
        "waterfront_price_means = df.groupby('waterfront')['price'].mean()\n",
        "\n",
        "plt.bar(waterfront_price_means.index, waterfront_price_means.values)\n",
        "plt.xlabel('Waterfront')\n",
        "plt.ylabel('Mean Price')\n",
        "plt.title('Mean Price vs. Waterfront')\n",
        "plt.xticks(waterfront_price_means.index, ['No', 'Yes'])  # Label the x-axis\n",
        "plt.show()\n"
      ],
      "metadata": {
        "colab": {
          "base_uri": "https://localhost:8080/",
          "height": 472
        },
        "id": "PDvGQJtHVopD",
        "outputId": "b7a55ed5-e02d-4fab-c89c-12f4ff59d9d6"
      },
      "execution_count": null,
      "outputs": [
        {
          "output_type": "display_data",
          "data": {
            "text/plain": [
              "<Figure size 640x480 with 1 Axes>"
            ],
            "image/png": "[encoded data removed]"
          },
          "metadata": {}
        }
      ]
    },
    {
      "cell_type": "markdown",
      "source": [
        "It appears that having a waterfront house significantly increases the price, so I'll retain the column despite its low variability."
      ],
      "metadata": {
        "id": "raa92p7sWgSV"
      }
    },
    {
      "cell_type": "markdown",
      "source": [
        "The \"yr_built\" column would be better represented as the apartment's age, which can be calculated by subtracting the year built from 2015, as this is the publication date of the data."
      ],
      "metadata": {
        "id": "G_x4ZLwttlZv"
      }
    },
    {
      "cell_type": "code",
      "source": [
        "df['age']=2015-df['yr_built']\n",
        "df.drop('yr_built', axis=1, inplace=True)"
      ],
      "metadata": {
        "id": "_c19ZSv-dMpT"
      },
      "execution_count": null,
      "outputs": []
    },
    {
      "cell_type": "markdown",
      "source": [
        "## Outlier Detection"
      ],
      "metadata": {
        "id": "Ij5hLkyLsvPy"
      }
    },
    {
      "cell_type": "markdown",
      "source": [
        "Now, it's time to inspect outliers. I'll utilize box plots to identify any outliers based on the interquartile range (IQR)."
      ],
      "metadata": {
        "id": "5sgC9dEadE_2"
      }
    },
    {
      "cell_type": "code",
      "source": [
        "\n",
        "features_to_plot = df.columns.difference(['zipcode'])\n",
        "\n",
        "feature_groups = [features_to_plot[i:i+3] for i in range(0, len(features_to_plot), 3)]\n",
        "\n",
        "for group in feature_groups:\n",
        "    plt.figure(figsize=(15, 5))\n",
        "    for i, feature in enumerate(group):\n",
        "        plt.subplot(1, len(group), i+1)\n",
        "        sns.boxplot(data=df, y=feature)\n",
        "        plt.title(feature)\n",
        "    plt.tight_layout()\n",
        "    plt.show()\n"
      ],
      "metadata": {
        "colab": {
          "base_uri": "https://localhost:8080/",
          "height": 1000
        },
        "id": "0pUakJuoWVVL",
        "outputId": "1e0d4341-2fa8-43c1-cea4-9d0d4f2658a8"
      },
      "execution_count": null,
      "outputs": [
        {
          "output_type": "display_data",
          "data": {
            "text/plain": [
              "<Figure size 1500x500 with 3 Axes>"
            ],
            "image/png": "[encoded data removed]"
          },
          "metadata": {}
        },
        {
          "output_type": "display_data",
          "data": {
            "text/plain": [
              "<Figure size 1500x500 with 3 Axes>"
            ],
            "image/png": "[encoded data removed]"
          },
          "metadata": {}
        },
        {
          "output_type": "display_data",
          "data": {
            "text/plain": [
              "<Figure size 1500x500 with 3 Axes>"
            ],
            "image/png": "[encoded data removed]"
          },
          "metadata": {}
        },
        {
          "output_type": "display_data",
          "data": {
            "text/plain": [
              "<Figure size 1500x500 with 3 Axes>"
            ],
            "image/png": "[encoded data removed]"
          },
          "metadata": {}
        },
        {
          "output_type": "display_data",
          "data": {
            "text/plain": [
              "<Figure size 1500x500 with 3 Axes>"
            ],
            "image/png": "[encoded data removed]"
          },
          "metadata": {}
        },
        {
          "output_type": "display_data",
          "data": {
            "text/plain": [
              "<Figure size 1500x500 with 3 Axes>"
            ],
            "image/png": "[encoded data removed]"
          },
          "metadata": {}
        }
      ]
    },
    {
      "cell_type": "markdown",
      "source": [
        "As most features have outliers, I will apply Tukey's fences for outlier detection and removal. This method is effective in identifying and dealing with extreme data points, ensuring our analysis is robust and accurate"
      ],
      "metadata": {
        "id": "5JCZQS9vhNwB"
      }
    },
    {
      "cell_type": "code",
      "source": [
        "df2=df.copy()"
      ],
      "metadata": {
        "id": "VZde1cmlugPh"
      },
      "execution_count": null,
      "outputs": []
    },
    {
      "cell_type": "code",
      "source": [
        "df2.info()"
      ],
      "metadata": {
        "colab": {
          "base_uri": "https://localhost:8080/"
        },
        "id": "MTjJ2rswehDY",
        "outputId": "b020d753-0fb2-4c2f-9ff3-143135baa9a9"
      },
      "execution_count": null,
      "outputs": [
        {
          "output_type": "stream",
          "name": "stdout",
          "text": [
            "<class 'pandas.core.frame.DataFrame'>\n",
            "Int64Index: 21613 entries, 0 to 21612\n",
            "Data columns (total 19 columns):\n",
            " #   Column         Non-Null Count  Dtype  \n",
            "---  ------         --------------  -----  \n",
            " 0   price          21613 non-null  float64\n",
            " 1   bedrooms       21613 non-null  int64  \n",
            " 2   bathrooms      21613 non-null  float64\n",
            " 3   sqft_living    21613 non-null  int64  \n",
            " 4   sqft_lot       21613 non-null  int64  \n",
            " 5   floors         21613 non-null  float64\n",
            " 6   waterfront     21613 non-null  int64  \n",
            " 7   view           21613 non-null  int64  \n",
            " 8   condition      21613 non-null  int64  \n",
            " 9   grade          21613 non-null  int64  \n",
            " 10  sqft_above     21613 non-null  int64  \n",
            " 11  sqft_basement  21613 non-null  int64  \n",
            " 12  zipcode        21613 non-null  int64  \n",
            " 13  lat            21613 non-null  float64\n",
            " 14  long           21613 non-null  float64\n",
            " 15  sqft_living15  21613 non-null  int64  \n",
            " 16  sqft_lot15     21613 non-null  int64  \n",
            " 17  renovated      21613 non-null  int64  \n",
            " 18  age            21613 non-null  int64  \n",
            "dtypes: float64(5), int64(14)\n",
            "memory usage: 3.3 MB\n"
          ]
        }
      ]
    },
    {
      "cell_type": "code",
      "source": [
        "columns_to_exclude = ['zipcode','renovated','waterfront','view']\n",
        "for col in df2.columns:\n",
        "    if col not in columns_to_exclude:\n",
        "      q1 = df2[col].quantile(0.25)\n",
        "      q3 = df2[col].quantile(0.75)\n",
        "      iqr = q3 - q1\n",
        "      a = q1 - 1.5 * iqr\n",
        "      b = q3 + 1.5 * iqr\n",
        "      outliers = df2[(df[col] < a) | (df2[col] > b)]\n",
        "      outlier_index = outliers.index\n",
        "      df2.drop(outlier_index, inplace=True)\n",
        "df2 = df2.reset_index(drop=True)\n"
      ],
      "metadata": {
        "id": "jLPQwMQhfDI7"
      },
      "execution_count": null,
      "outputs": []
    },
    {
      "cell_type": "code",
      "source": [
        "df2.info()"
      ],
      "metadata": {
        "colab": {
          "base_uri": "https://localhost:8080/"
        },
        "id": "wvBrPDlPhlfK",
        "outputId": "38b1ea11-7d50-4102-a6e8-625194904862"
      },
      "execution_count": null,
      "outputs": [
        {
          "output_type": "stream",
          "name": "stdout",
          "text": [
            "<class 'pandas.core.frame.DataFrame'>\n",
            "RangeIndex: 15368 entries, 0 to 15367\n",
            "Data columns (total 19 columns):\n",
            " #   Column         Non-Null Count  Dtype  \n",
            "---  ------         --------------  -----  \n",
            " 0   price          15368 non-null  float64\n",
            " 1   bedrooms       15368 non-null  int64  \n",
            " 2   bathrooms      15368 non-null  float64\n",
            " 3   sqft_living    15368 non-null  int64  \n",
            " 4   sqft_lot       15368 non-null  int64  \n",
            " 5   floors         15368 non-null  float64\n",
            " 6   waterfront     15368 non-null  int64  \n",
            " 7   view           15368 non-null  int64  \n",
            " 8   condition      15368 non-null  int64  \n",
            " 9   grade          15368 non-null  int64  \n",
            " 10  sqft_above     15368 non-null  int64  \n",
            " 11  sqft_basement  15368 non-null  int64  \n",
            " 12  zipcode        15368 non-null  int64  \n",
            " 13  lat            15368 non-null  float64\n",
            " 14  long           15368 non-null  float64\n",
            " 15  sqft_living15  15368 non-null  int64  \n",
            " 16  sqft_lot15     15368 non-null  int64  \n",
            " 17  renovated      15368 non-null  int64  \n",
            " 18  age            15368 non-null  int64  \n",
            "dtypes: float64(5), int64(14)\n",
            "memory usage: 2.2 MB\n"
          ]
        }
      ]
    },
    {
      "cell_type": "code",
      "source": [
        "#saving the processed df for future use\n",
        "\n",
        "file_path = '/content/drive/My Drive/df2_housing_prediction'\n",
        "\n",
        "df2.to_csv(path, index=False)\n",
        "\n"
      ],
      "metadata": {
        "id": "dETlfIo_0IlW"
      },
      "execution_count": null,
      "outputs": []
    },
    {
      "cell_type": "code",
      "source": [
        "path = '/content/drive/My Drive/df2_housing_prediction.csv'\n",
        "\n",
        "df2 = pd.read_csv(path)"
      ],
      "metadata": {
        "id": "7g5iqsnNzVNB"
      },
      "execution_count": null,
      "outputs": []
    },
    {
      "cell_type": "markdown",
      "source": [
        "## Feature Selection With LOFO Importance Values"
      ],
      "metadata": {
        "id": "TR2cqYkvvm2c"
      }
    },
    {
      "cell_type": "markdown",
      "source": [
        "I will assess the contribution of different features in predicting the target column by utilizing LOFO (Leave-One-Feature-Out) importance values. To ensure there is no data leakage from the test set to the training set, I will exclusively employ the training set for feature selection."
      ],
      "metadata": {
        "id": "juhtFNM8iDgW"
      }
    },
    {
      "cell_type": "markdown",
      "source": [
        "I standardize the data before inputting it into LOFO and the models. I perform the standardization process separately for the training and test sets to prevent any data leakage.\n",
        "\n",
        "\n",
        "\n",
        "\n"
      ],
      "metadata": {
        "id": "F2R7CbZBwZKU"
      }
    },
    {
      "cell_type": "code",
      "source": [
        "\n",
        "\n",
        "train_df, test_df = train_test_split(df2, test_size=0.10, random_state=42)\n",
        "\n",
        "\n",
        "X_train = train_df.drop('price', axis=1)\n",
        "y_train = train_df['price']\n",
        "X_test = test_df.drop('price', axis=1)\n",
        "y_test = test_df['price']\n",
        "\n",
        "scaler_train = StandardScaler()\n",
        "\n",
        "scaled_train= scaler_train.fit_transform(X_train)\n",
        "\n",
        "df_scaled_train = pd.DataFrame(scaled_train, columns=X_train.columns)\n",
        "\n",
        "\n",
        "\n",
        "scaler_test = StandardScaler()\n",
        "\n",
        "scaled_test= scaler_test.fit_transform(X_test)\n",
        "\n",
        "df_scaled_test = pd.DataFrame(scaled_test, columns=X_test.columns)\n",
        "\n",
        "\n",
        "\n",
        "\n",
        "\n",
        "\n",
        "df_scaled_train.reset_index(drop=True, inplace=True)\n",
        "y_train.reset_index(drop=True, inplace=True)\n",
        "df_scaled_test.reset_index(drop=True, inplace=True)\n",
        "y_test.reset_index(drop=True, inplace=True)\n",
        "\n"
      ],
      "metadata": {
        "id": "5tv9jTmsc40A"
      },
      "execution_count": null,
      "outputs": []
    },
    {
      "cell_type": "code",
      "source": [
        "df_train_total = df_scaled_train.copy()\n",
        "\n",
        "df_train_total['price'] = y_train\n"
      ],
      "metadata": {
        "id": "jXS7UrycsI5j"
      },
      "execution_count": null,
      "outputs": []
    },
    {
      "cell_type": "code",
      "source": [
        "\n",
        "\n",
        "cv = KFold(n_splits=10, shuffle=True, random_state=42)\n",
        "\n",
        "dataset = Dataset(df=df_train_total, target='price', features=[col for col in df.columns if col != \"price\"])\n",
        "\n",
        "lofo_imp = LOFOImportance(dataset, cv=cv, scoring=\"neg_root_mean_squared_error\")\n",
        "\n",
        "importance_df = lofo_imp.get_importance()\n",
        "\n"
      ],
      "metadata": {
        "id": "zJoB3ZyCVfyL"
      },
      "execution_count": null,
      "outputs": []
    },
    {
      "cell_type": "code",
      "source": [
        "#saving df for future use\n",
        "\n",
        "file_path = '/content/drive/My Drive/importance_df.csv'\n",
        "\n",
        "importance_df.to_csv(file_path)  #\n"
      ],
      "metadata": {
        "id": "LWhjLgjqawju"
      },
      "execution_count": null,
      "outputs": []
    },
    {
      "cell_type": "code",
      "source": [
        "file_path = '/content/drive/My Drive/importance_df.csv'\n",
        "importance_df=pd.read_csv(file_path)"
      ],
      "metadata": {
        "id": "F40l2n1Aci47"
      },
      "execution_count": null,
      "outputs": []
    },
    {
      "cell_type": "code",
      "source": [
        "plot_importance(importance_df, figsize=(12, 20))\n"
      ],
      "metadata": {
        "colab": {
          "base_uri": "https://localhost:8080/",
          "height": 1000
        },
        "id": "0oZGqkrreXiS",
        "outputId": "84fd543f-56f9-40bb-8f06-fb34365b1439"
      },
      "execution_count": null,
      "outputs": [
        {
          "output_type": "display_data",
          "data": {
            "text/plain": [
              "<Figure size 1200x2000 with 1 Axes>"
            ],
            "image/png": "[encoded data removed]"
          },
          "metadata": {}
        }
      ]
    },
    {
      "cell_type": "code",
      "source": [
        "importance_df.head(20)"
      ],
      "metadata": {
        "id": "sN8gHEuxbcuv",
        "colab": {
          "base_uri": "https://localhost:8080/",
          "height": 614
        },
        "outputId": "0f6d4b87-6995-41a0-c9b1-24a84bb187d8"
      },
      "execution_count": null,
      "outputs": [
        {
          "output_type": "execute_result",
          "data": {
            "text/plain": [
              "          feature  importance_mean  importance_std  val_imp_0  val_imp_1  \\\n",
              "4             lat         10293.72         1369.98   12256.63    8363.96   \n",
              "9            long          2454.26          653.50    2998.72    2644.97   \n",
              "17          grade          2276.86          878.74    3070.14    1046.15   \n",
              "16      condition           938.35          480.31     808.20     337.26   \n",
              "1            view           897.15          658.62    1877.26     844.44   \n",
              "7             age           388.21          596.82    1747.65    -164.30   \n",
              "13      renovated           378.69          264.88     303.27     261.32   \n",
              "10        zipcode           288.16          269.32     694.62     296.09   \n",
              "0        sqft_lot           255.44          369.68     308.97     -43.82   \n",
              "6     sqft_living            53.42          670.43     -40.74     860.10   \n",
              "12  sqft_living15            24.59          632.85     482.85     867.17   \n",
              "5      waterfront             0.00            0.00       0.00       0.00   \n",
              "14         floors           -38.55          247.55    -270.07    -124.54   \n",
              "8   sqft_basement          -118.61          259.53    -152.29    -270.64   \n",
              "3        bedrooms          -162.92          154.68    -249.88    -242.80   \n",
              "2      sqft_above          -198.26          358.92     168.98      17.77   \n",
              "11      bathrooms          -317.11          277.73    -442.29    -883.61   \n",
              "15     sqft_lot15          -386.29          252.01    -115.62    -394.09   \n",
              "\n",
              "    val_imp_2  val_imp_3  val_imp_4  val_imp_5  val_imp_6  val_imp_7  \\\n",
              "4    10416.60   10951.65   12523.61    9407.48    9427.89   11275.73   \n",
              "9     1564.24    2063.28    3167.58    1690.04    2829.26    3537.74   \n",
              "17    2143.38    1822.63    3435.21    2833.72    2034.60    3547.93   \n",
              "16    1552.26    1466.12    1084.18    1430.04     331.28     755.77   \n",
              "1      886.92    1672.51    1354.37     157.07    -273.30     257.64   \n",
              "7     1052.74     213.26     544.58     559.93    -334.31       2.67   \n",
              "13     757.28      95.36     747.22      79.49      -0.92     372.01   \n",
              "10     677.33     613.06      84.89     192.72     -55.01      78.29   \n",
              "0     -268.74     641.62    1104.09     137.35     243.31      65.24   \n",
              "6      239.84    1054.44     -49.03    -560.35   -1227.94     652.86   \n",
              "12    -190.09    -404.66      71.92    -953.96     195.44    -984.26   \n",
              "5        0.00       0.00       0.00       0.00       0.00       0.00   \n",
              "14       9.55     -13.10     226.62     160.15      17.90    -644.59   \n",
              "8     -277.69    -178.87     199.44    -365.13     261.67    -544.10   \n",
              "3      -73.77     274.09    -244.19    -194.44    -222.64    -177.89   \n",
              "2      -97.77       6.67    -653.85    -437.39      76.56    -939.11   \n",
              "11       2.68    -327.65     211.55    -517.99    -342.39    -339.38   \n",
              "15     -34.76    -647.47    -293.89    -178.84    -801.01    -590.86   \n",
              "\n",
              "    val_imp_8  val_imp_9  \n",
              "4     8570.90    9742.75  \n",
              "9     2350.55    1696.20  \n",
              "17    1941.95     892.89  \n",
              "16    1345.44     272.97  \n",
              "1     1377.79     816.78  \n",
              "7      -67.95     327.79  \n",
              "13     625.79     546.04  \n",
              "10     311.85     -12.23  \n",
              "0       -3.04     369.43  \n",
              "6     -574.35     179.35  \n",
              "12     919.38     242.11  \n",
              "5        0.00       0.00  \n",
              "14      41.94     210.68  \n",
              "8      245.49    -103.97  \n",
              "3     -259.34    -238.37  \n",
              "2     -315.68     191.23  \n",
              "11    -321.46    -210.52  \n",
              "15    -175.18    -631.18  "
            ],
            "text/html": [
              "\n",
              "  <div id=\"df-8398964d-6dca-42ea-9edd-4f31c8e12b6a\" class=\"colab-df-container\">\n",
              "    <div>\n",
              "<style scoped>\n",
              "    .dataframe tbody tr th:only-of-type {\n",
              "        vertical-align: middle;\n",
              "    }\n",
              "\n",
              "    .dataframe tbody tr th {\n",
              "        vertical-align: top;\n",
              "    }\n",
              "\n",
              "    .dataframe thead th {\n",
              "        text-align: right;\n",
              "    }\n",
              "</style>\n",
              "<table border=\"1\" class=\"dataframe\">\n",
              "  <thead>\n",
              "    <tr style=\"text-align: right;\">\n",
              "      <th></th>\n",
              "      <th>feature</th>\n",
              "      <th>importance_mean</th>\n",
              "      <th>importance_std</th>\n",
              "      <th>val_imp_0</th>\n",
              "      <th>val_imp_1</th>\n",
              "      <th>val_imp_2</th>\n",
              "      <th>val_imp_3</th>\n",
              "      <th>val_imp_4</th>\n",
              "      <th>val_imp_5</th>\n",
              "      <th>val_imp_6</th>\n",
              "      <th>val_imp_7</th>\n",
              "      <th>val_imp_8</th>\n",
              "      <th>val_imp_9</th>\n",
              "    </tr>\n",
              "  </thead>\n",
              "  <tbody>\n",
              "    <tr>\n",
              "      <th>4</th>\n",
              "      <td>lat</td>\n",
              "      <td>10293.72</td>\n",
              "      <td>1369.98</td>\n",
              "      <td>12256.63</td>\n",
              "      <td>8363.96</td>\n",
              "      <td>10416.60</td>\n",
              "      <td>10951.65</td>\n",
              "      <td>12523.61</td>\n",
              "      <td>9407.48</td>\n",
              "      <td>9427.89</td>\n",
              "      <td>11275.73</td>\n",
              "      <td>8570.90</td>\n",
              "      <td>9742.75</td>\n",
              "    </tr>\n",
              "    <tr>\n",
              "      <th>9</th>\n",
              "      <td>long</td>\n",
              "      <td>2454.26</td>\n",
              "      <td>653.50</td>\n",
              "      <td>2998.72</td>\n",
              "      <td>2644.97</td>\n",
              "      <td>1564.24</td>\n",
              "      <td>2063.28</td>\n",
              "      <td>3167.58</td>\n",
              "      <td>1690.04</td>\n",
              "      <td>2829.26</td>\n",
              "      <td>3537.74</td>\n",
              "      <td>2350.55</td>\n",
              "      <td>1696.20</td>\n",
              "    </tr>\n",
              "    <tr>\n",
              "      <th>17</th>\n",
              "      <td>grade</td>\n",
              "      <td>2276.86</td>\n",
              "      <td>878.74</td>\n",
              "      <td>3070.14</td>\n",
              "      <td>1046.15</td>\n",
              "      <td>2143.38</td>\n",
              "      <td>1822.63</td>\n",
              "      <td>3435.21</td>\n",
              "      <td>2833.72</td>\n",
              "      <td>2034.60</td>\n",
              "      <td>3547.93</td>\n",
              "      <td>1941.95</td>\n",
              "      <td>892.89</td>\n",
              "    </tr>\n",
              "    <tr>\n",
              "      <th>16</th>\n",
              "      <td>condition</td>\n",
              "      <td>938.35</td>\n",
              "      <td>480.31</td>\n",
              "      <td>808.20</td>\n",
              "      <td>337.26</td>\n",
              "      <td>1552.26</td>\n",
              "      <td>1466.12</td>\n",
              "      <td>1084.18</td>\n",
              "      <td>1430.04</td>\n",
              "      <td>331.28</td>\n",
              "      <td>755.77</td>\n",
              "      <td>1345.44</td>\n",
              "      <td>272.97</td>\n",
              "    </tr>\n",
              "    <tr>\n",
              "      <th>1</th>\n",
              "      <td>view</td>\n",
              "      <td>897.15</td>\n",
              "      <td>658.62</td>\n",
              "      <td>1877.26</td>\n",
              "      <td>844.44</td>\n",
              "      <td>886.92</td>\n",
              "      <td>1672.51</td>\n",
              "      <td>1354.37</td>\n",
              "      <td>157.07</td>\n",
              "      <td>-273.30</td>\n",
              "      <td>257.64</td>\n",
              "      <td>1377.79</td>\n",
              "      <td>816.78</td>\n",
              "    </tr>\n",
              "    <tr>\n",
              "      <th>7</th>\n",
              "      <td>age</td>\n",
              "      <td>388.21</td>\n",
              "      <td>596.82</td>\n",
              "      <td>1747.65</td>\n",
              "      <td>-164.30</td>\n",
              "      <td>1052.74</td>\n",
              "      <td>213.26</td>\n",
              "      <td>544.58</td>\n",
              "      <td>559.93</td>\n",
              "      <td>-334.31</td>\n",
              "      <td>2.67</td>\n",
              "      <td>-67.95</td>\n",
              "      <td>327.79</td>\n",
              "    </tr>\n",
              "    <tr>\n",
              "      <th>13</th>\n",
              "      <td>renovated</td>\n",
              "      <td>378.69</td>\n",
              "      <td>264.88</td>\n",
              "      <td>303.27</td>\n",
              "      <td>261.32</td>\n",
              "      <td>757.28</td>\n",
              "      <td>95.36</td>\n",
              "      <td>747.22</td>\n",
              "      <td>79.49</td>\n",
              "      <td>-0.92</td>\n",
              "      <td>372.01</td>\n",
              "      <td>625.79</td>\n",
              "      <td>546.04</td>\n",
              "    </tr>\n",
              "    <tr>\n",
              "      <th>10</th>\n",
              "      <td>zipcode</td>\n",
              "      <td>288.16</td>\n",
              "      <td>269.32</td>\n",
              "      <td>694.62</td>\n",
              "      <td>296.09</td>\n",
              "      <td>677.33</td>\n",
              "      <td>613.06</td>\n",
              "      <td>84.89</td>\n",
              "      <td>192.72</td>\n",
              "      <td>-55.01</td>\n",
              "      <td>78.29</td>\n",
              "      <td>311.85</td>\n",
              "      <td>-12.23</td>\n",
              "    </tr>\n",
              "    <tr>\n",
              "      <th>0</th>\n",
              "      <td>sqft_lot</td>\n",
              "      <td>255.44</td>\n",
              "      <td>369.68</td>\n",
              "      <td>308.97</td>\n",
              "      <td>-43.82</td>\n",
              "      <td>-268.74</td>\n",
              "      <td>641.62</td>\n",
              "      <td>1104.09</td>\n",
              "      <td>137.35</td>\n",
              "      <td>243.31</td>\n",
              "      <td>65.24</td>\n",
              "      <td>-3.04</td>\n",
              "      <td>369.43</td>\n",
              "    </tr>\n",
              "    <tr>\n",
              "      <th>6</th>\n",
              "      <td>sqft_living</td>\n",
              "      <td>53.42</td>\n",
              "      <td>670.43</td>\n",
              "      <td>-40.74</td>\n",
              "      <td>860.10</td>\n",
              "      <td>239.84</td>\n",
              "      <td>1054.44</td>\n",
              "      <td>-49.03</td>\n",
              "      <td>-560.35</td>\n",
              "      <td>-1227.94</td>\n",
              "      <td>652.86</td>\n",
              "      <td>-574.35</td>\n",
              "      <td>179.35</td>\n",
              "    </tr>\n",
              "    <tr>\n",
              "      <th>12</th>\n",
              "      <td>sqft_living15</td>\n",
              "      <td>24.59</td>\n",
              "      <td>632.85</td>\n",
              "      <td>482.85</td>\n",
              "      <td>867.17</td>\n",
              "      <td>-190.09</td>\n",
              "      <td>-404.66</td>\n",
              "      <td>71.92</td>\n",
              "      <td>-953.96</td>\n",
              "      <td>195.44</td>\n",
              "      <td>-984.26</td>\n",
              "      <td>919.38</td>\n",
              "      <td>242.11</td>\n",
              "    </tr>\n",
              "    <tr>\n",
              "      <th>5</th>\n",
              "      <td>waterfront</td>\n",
              "      <td>0.00</td>\n",
              "      <td>0.00</td>\n",
              "      <td>0.00</td>\n",
              "      <td>0.00</td>\n",
              "      <td>0.00</td>\n",
              "      <td>0.00</td>\n",
              "      <td>0.00</td>\n",
              "      <td>0.00</td>\n",
              "      <td>0.00</td>\n",
              "      <td>0.00</td>\n",
              "      <td>0.00</td>\n",
              "      <td>0.00</td>\n",
              "    </tr>\n",
              "    <tr>\n",
              "      <th>14</th>\n",
              "      <td>floors</td>\n",
              "      <td>-38.55</td>\n",
              "      <td>247.55</td>\n",
              "      <td>-270.07</td>\n",
              "      <td>-124.54</td>\n",
              "      <td>9.55</td>\n",
              "      <td>-13.10</td>\n",
              "      <td>226.62</td>\n",
              "      <td>160.15</td>\n",
              "      <td>17.90</td>\n",
              "      <td>-644.59</td>\n",
              "      <td>41.94</td>\n",
              "      <td>210.68</td>\n",
              "    </tr>\n",
              "    <tr>\n",
              "      <th>8</th>\n",
              "      <td>sqft_basement</td>\n",
              "      <td>-118.61</td>\n",
              "      <td>259.53</td>\n",
              "      <td>-152.29</td>\n",
              "      <td>-270.64</td>\n",
              "      <td>-277.69</td>\n",
              "      <td>-178.87</td>\n",
              "      <td>199.44</td>\n",
              "      <td>-365.13</td>\n",
              "      <td>261.67</td>\n",
              "      <td>-544.10</td>\n",
              "      <td>245.49</td>\n",
              "      <td>-103.97</td>\n",
              "    </tr>\n",
              "    <tr>\n",
              "      <th>3</th>\n",
              "      <td>bedrooms</td>\n",
              "      <td>-162.92</td>\n",
              "      <td>154.68</td>\n",
              "      <td>-249.88</td>\n",
              "      <td>-242.80</td>\n",
              "      <td>-73.77</td>\n",
              "      <td>274.09</td>\n",
              "      <td>-244.19</td>\n",
              "      <td>-194.44</td>\n",
              "      <td>-222.64</td>\n",
              "      <td>-177.89</td>\n",
              "      <td>-259.34</td>\n",
              "      <td>-238.37</td>\n",
              "    </tr>\n",
              "    <tr>\n",
              "      <th>2</th>\n",
              "      <td>sqft_above</td>\n",
              "      <td>-198.26</td>\n",
              "      <td>358.92</td>\n",
              "      <td>168.98</td>\n",
              "      <td>17.77</td>\n",
              "      <td>-97.77</td>\n",
              "      <td>6.67</td>\n",
              "      <td>-653.85</td>\n",
              "      <td>-437.39</td>\n",
              "      <td>76.56</td>\n",
              "      <td>-939.11</td>\n",
              "      <td>-315.68</td>\n",
              "      <td>191.23</td>\n",
              "    </tr>\n",
              "    <tr>\n",
              "      <th>11</th>\n",
              "      <td>bathrooms</td>\n",
              "      <td>-317.11</td>\n",
              "      <td>277.73</td>\n",
              "      <td>-442.29</td>\n",
              "      <td>-883.61</td>\n",
              "      <td>2.68</td>\n",
              "      <td>-327.65</td>\n",
              "      <td>211.55</td>\n",
              "      <td>-517.99</td>\n",
              "      <td>-342.39</td>\n",
              "      <td>-339.38</td>\n",
              "      <td>-321.46</td>\n",
              "      <td>-210.52</td>\n",
              "    </tr>\n",
              "    <tr>\n",
              "      <th>15</th>\n",
              "      <td>sqft_lot15</td>\n",
              "      <td>-386.29</td>\n",
              "      <td>252.01</td>\n",
              "      <td>-115.62</td>\n",
              "      <td>-394.09</td>\n",
              "      <td>-34.76</td>\n",
              "      <td>-647.47</td>\n",
              "      <td>-293.89</td>\n",
              "      <td>-178.84</td>\n",
              "      <td>-801.01</td>\n",
              "      <td>-590.86</td>\n",
              "      <td>-175.18</td>\n",
              "      <td>-631.18</td>\n",
              "    </tr>\n",
              "  </tbody>\n",
              "</table>\n",
              "</div>\n",
              "    <div class=\"colab-df-buttons\">\n",
              "\n",
              "  <div class=\"colab-df-container\">\n",
              "    <button class=\"colab-df-convert\" onclick=\"convertToInteractive('df-8398964d-6dca-42ea-9edd-4f31c8e12b6a')\"\n",
              "            title=\"Convert this dataframe to an interactive table.\"\n",
              "            style=\"display:none;\">\n",
              "\n",
              "  <svg xmlns=\"http://www.w3.org/2000/svg\" height=\"24px\" viewBox=\"0 -960 960 960\">\n",
              "    <path d=\"M120-120v-720h720v720H120Zm60-500h600v-160H180v160Zm220 220h160v-160H400v160Zm0 220h160v-160H400v160ZM180-400h160v-160H180v160Zm440 0h160v-160H620v160ZM180-180h160v-160H180v160Zm440 0h160v-160H620v160Z\"/>\n",
              "  </svg>\n",
              "    </button>\n",
              "\n",
              "  <style>\n",
              "    .colab-df-container {\n",
              "      display:flex;\n",
              "      gap: 12px;\n",
              "    }\n",
              "\n",
              "    .colab-df-convert {\n",
              "      background-color: #E8F0FE;\n",
              "      border: none;\n",
              "      border-radius: 50%;\n",
              "      cursor: pointer;\n",
              "      display: none;\n",
              "      fill: #1967D2;\n",
              "      height: 32px;\n",
              "      padding: 0 0 0 0;\n",
              "      width: 32px;\n",
              "    }\n",
              "\n",
              "    .colab-df-convert:hover {\n",
              "      background-color: #E2EBFA;\n",
              "      box-shadow: 0px 1px 2px rgba(60, 64, 67, 0.3), 0px 1px 3px 1px rgba(60, 64, 67, 0.15);\n",
              "      fill: #174EA6;\n",
              "    }\n",
              "\n",
              "    .colab-df-buttons div {\n",
              "      margin-bottom: 4px;\n",
              "    }\n",
              "\n",
              "    [theme=dark] .colab-df-convert {\n",
              "      background-color: #3B4455;\n",
              "      fill: #D2E3FC;\n",
              "    }\n",
              "\n",
              "    [theme=dark] .colab-df-convert:hover {\n",
              "      background-color: #434B5C;\n",
              "      box-shadow: 0px 1px 3px 1px rgba(0, 0, 0, 0.15);\n",
              "      filter: drop-shadow(0px 1px 2px rgba(0, 0, 0, 0.3));\n",
              "      fill: #FFFFFF;\n",
              "    }\n",
              "  </style>\n",
              "\n",
              "    <script>\n",
              "      const buttonEl =\n",
              "        document.querySelector('#df-8398964d-6dca-42ea-9edd-4f31c8e12b6a button.colab-df-convert');\n",
              "      buttonEl.style.display =\n",
              "        google.colab.kernel.accessAllowed ? 'block' : 'none';\n",
              "\n",
              "      async function convertToInteractive(key) {\n",
              "        const element = document.querySelector('#df-8398964d-6dca-42ea-9edd-4f31c8e12b6a');\n",
              "        const dataTable =\n",
              "          await google.colab.kernel.invokeFunction('convertToInteractive',\n",
              "                                                    [key], {});\n",
              "        if (!dataTable) return;\n",
              "\n",
              "        const docLinkHtml = 'Like what you see? Visit the ' +\n",
              "          '<a target=\"_blank\" href=https://colab.research.google.com/notebooks/data_table.ipynb>data table notebook</a>'\n",
              "          + ' to learn more about interactive tables.';\n",
              "        element.innerHTML = '';\n",
              "        dataTable['output_type'] = 'display_data';\n",
              "        await google.colab.output.renderOutput(dataTable, element);\n",
              "        const docLink = document.createElement('div');\n",
              "        docLink.innerHTML = docLinkHtml;\n",
              "        element.appendChild(docLink);\n",
              "      }\n",
              "    </script>\n",
              "  </div>\n",
              "\n",
              "\n",
              "<div id=\"df-167de0e4-450c-46e1-b0f6-442e6f44be71\">\n",
              "  <button class=\"colab-df-quickchart\" onclick=\"quickchart('df-167de0e4-450c-46e1-b0f6-442e6f44be71')\"\n",
              "            title=\"Suggest charts.\"\n",
              "            style=\"display:none;\">\n",
              "\n",
              "<svg xmlns=\"http://www.w3.org/2000/svg\" height=\"24px\"viewBox=\"0 0 24 24\"\n",
              "     width=\"24px\">\n",
              "    <g>\n",
              "        <path d=\"M19 3H5c-1.1 0-2 .9-2 2v14c0 1.1.9 2 2 2h14c1.1 0 2-.9 2-2V5c0-1.1-.9-2-2-2zM9 17H7v-7h2v7zm4 0h-2V7h2v10zm4 0h-2v-4h2v4z\"/>\n",
              "    </g>\n",
              "</svg>\n",
              "  </button>\n",
              "\n",
              "<style>\n",
              "  .colab-df-quickchart {\n",
              "      --bg-color: #E8F0FE;\n",
              "      --fill-color: #1967D2;\n",
              "      --hover-bg-color: #E2EBFA;\n",
              "      --hover-fill-color: #174EA6;\n",
              "      --disabled-fill-color: #AAA;\n",
              "      --disabled-bg-color: #DDD;\n",
              "  }\n",
              "\n",
              "  [theme=dark] .colab-df-quickchart {\n",
              "      --bg-color: #3B4455;\n",
              "      --fill-color: #D2E3FC;\n",
              "      --hover-bg-color: #434B5C;\n",
              "      --hover-fill-color: #FFFFFF;\n",
              "      --disabled-bg-color: #3B4455;\n",
              "      --disabled-fill-color: #666;\n",
              "  }\n",
              "\n",
              "  .colab-df-quickchart {\n",
              "    background-color: var(--bg-color);\n",
              "    border: none;\n",
              "    border-radius: 50%;\n",
              "    cursor: pointer;\n",
              "    display: none;\n",
              "    fill: var(--fill-color);\n",
              "    height: 32px;\n",
              "    padding: 0;\n",
              "    width: 32px;\n",
              "  }\n",
              "\n",
              "  .colab-df-quickchart:hover {\n",
              "    background-color: var(--hover-bg-color);\n",
              "    box-shadow: 0 1px 2px rgba(60, 64, 67, 0.3), 0 1px 3px 1px rgba(60, 64, 67, 0.15);\n",
              "    fill: var(--button-hover-fill-color);\n",
              "  }\n",
              "\n",
              "  .colab-df-quickchart-complete:disabled,\n",
              "  .colab-df-quickchart-complete:disabled:hover {\n",
              "    background-color: var(--disabled-bg-color);\n",
              "    fill: var(--disabled-fill-color);\n",
              "    box-shadow: none;\n",
              "  }\n",
              "\n",
              "  .colab-df-spinner {\n",
              "    border: 2px solid var(--fill-color);\n",
              "    border-color: transparent;\n",
              "    border-bottom-color: var(--fill-color);\n",
              "    animation:\n",
              "      spin 1s steps(1) infinite;\n",
              "  }\n",
              "\n",
              "  @keyframes spin {\n",
              "    0% {\n",
              "      border-color: transparent;\n",
              "      border-bottom-color: var(--fill-color);\n",
              "      border-left-color: var(--fill-color);\n",
              "    }\n",
              "    20% {\n",
              "      border-color: transparent;\n",
              "      border-left-color: var(--fill-color);\n",
              "      border-top-color: var(--fill-color);\n",
              "    }\n",
              "    30% {\n",
              "      border-color: transparent;\n",
              "      border-left-color: var(--fill-color);\n",
              "      border-top-color: var(--fill-color);\n",
              "      border-right-color: var(--fill-color);\n",
              "    }\n",
              "    40% {\n",
              "      border-color: transparent;\n",
              "      border-right-color: var(--fill-color);\n",
              "      border-top-color: var(--fill-color);\n",
              "    }\n",
              "    60% {\n",
              "      border-color: transparent;\n",
              "      border-right-color: var(--fill-color);\n",
              "    }\n",
              "    80% {\n",
              "      border-color: transparent;\n",
              "      border-right-color: var(--fill-color);\n",
              "      border-bottom-color: var(--fill-color);\n",
              "    }\n",
              "    90% {\n",
              "      border-color: transparent;\n",
              "      border-bottom-color: var(--fill-color);\n",
              "    }\n",
              "  }\n",
              "</style>\n",
              "\n",
              "  <script>\n",
              "    async function quickchart(key) {\n",
              "      const quickchartButtonEl =\n",
              "        document.querySelector('#' + key + ' button');\n",
              "      quickchartButtonEl.disabled = true;  // To prevent multiple clicks.\n",
              "      quickchartButtonEl.classList.add('colab-df-spinner');\n",
              "      try {\n",
              "        const charts = await google.colab.kernel.invokeFunction(\n",
              "            'suggestCharts', [key], {});\n",
              "      } catch (error) {\n",
              "        console.error('Error during call to suggestCharts:', error);\n",
              "      }\n",
              "      quickchartButtonEl.classList.remove('colab-df-spinner');\n",
              "      quickchartButtonEl.classList.add('colab-df-quickchart-complete');\n",
              "    }\n",
              "    (() => {\n",
              "      let quickchartButtonEl =\n",
              "        document.querySelector('#df-167de0e4-450c-46e1-b0f6-442e6f44be71 button');\n",
              "      quickchartButtonEl.style.display =\n",
              "        google.colab.kernel.accessAllowed ? 'block' : 'none';\n",
              "    })();\n",
              "  </script>\n",
              "</div>\n",
              "    </div>\n",
              "  </div>\n"
            ]
          },
          "metadata": {},
          "execution_count": 41
        }
      ]
    },
    {
      "cell_type": "markdown",
      "source": [
        "In this step, I remove the columns that have negative LOFO values."
      ],
      "metadata": {
        "id": "PWh6KZyovzOP"
      }
    },
    {
      "cell_type": "code",
      "source": [
        "\n",
        "important_features = importance_df.loc[importance_df['importance_mean'] > 0, 'feature'].tolist()\n",
        "print(important_features)\n",
        "X_train_new = df_scaled_train[important_features]\n",
        "X_test_new=df_scaled_test[important_features]\n"
      ],
      "metadata": {
        "colab": {
          "base_uri": "https://localhost:8080/"
        },
        "id": "CHdxElloKIth",
        "outputId": "6eefaaf1-173c-4b29-ca04-21c11d1a402d"
      },
      "execution_count": null,
      "outputs": [
        {
          "output_type": "stream",
          "name": "stdout",
          "text": [
            "['lat', 'long', 'grade', 'condition', 'view', 'age', 'renovated', 'zipcode', 'sqft_lot', 'sqft_living', 'sqft_living15']\n"
          ]
        }
      ]
    },
    {
      "cell_type": "markdown",
      "source": [
        "## Detection of Multicolinearity"
      ],
      "metadata": {
        "id": "PrqW5Cf-zy6S"
      }
    },
    {
      "cell_type": "markdown",
      "source": [
        "Below, I will employ two methods - **Variance Inflation Factor (VIF)** and the **correlation matrix** - to assess whether there is multicollinearity among the independent variables. Detecting multicollinearity is crucial, especially when working with linear models.\n"
      ],
      "metadata": {
        "id": "alvrD4a0z4Ot"
      }
    },
    {
      "cell_type": "code",
      "source": [
        "X_test_new.info()"
      ],
      "metadata": {
        "colab": {
          "base_uri": "https://localhost:8080/"
        },
        "id": "krrCdKjIqo6T",
        "outputId": "7c31a3e6-1d04-412a-89f3-775c0679a7b5"
      },
      "execution_count": null,
      "outputs": [
        {
          "output_type": "stream",
          "name": "stdout",
          "text": [
            "<class 'pandas.core.frame.DataFrame'>\n",
            "RangeIndex: 1537 entries, 0 to 1536\n",
            "Data columns (total 11 columns):\n",
            " #   Column         Non-Null Count  Dtype  \n",
            "---  ------         --------------  -----  \n",
            " 0   lat            1537 non-null   float64\n",
            " 1   long           1537 non-null   float64\n",
            " 2   grade          1537 non-null   float64\n",
            " 3   condition      1537 non-null   float64\n",
            " 4   view           1537 non-null   float64\n",
            " 5   age            1537 non-null   float64\n",
            " 6   renovated      1537 non-null   float64\n",
            " 7   zipcode        1537 non-null   float64\n",
            " 8   sqft_lot       1537 non-null   float64\n",
            " 9   sqft_living    1537 non-null   float64\n",
            " 10  sqft_living15  1537 non-null   float64\n",
            "dtypes: float64(11)\n",
            "memory usage: 132.2 KB\n"
          ]
        }
      ]
    },
    {
      "cell_type": "code",
      "source": [
        "correlation_matrix = X_train_new.corr()\n",
        "\n",
        "print(correlation_matrix)\n"
      ],
      "metadata": {
        "colab": {
          "base_uri": "https://localhost:8080/"
        },
        "id": "o6X1UmOuyeYf",
        "outputId": "e830e576-87cd-4f02-f75f-de569aab683a"
      },
      "execution_count": null,
      "outputs": [
        {
          "output_type": "stream",
          "name": "stdout",
          "text": [
            "                lat  long  grade  condition  view   age  renovated  zipcode  \\\n",
            "lat            1.00 -0.19   0.07       0.01  0.01  0.20       0.02     0.30   \n",
            "long          -0.19  1.00   0.17      -0.06 -0.12 -0.41      -0.05    -0.63   \n",
            "grade          0.07  0.17   1.00      -0.17  0.11 -0.45       0.03    -0.17   \n",
            "condition      0.01 -0.06  -0.17       1.00  0.03  0.36      -0.08    -0.01   \n",
            "view           0.01 -0.12   0.11       0.03  1.00  0.09       0.02     0.13   \n",
            "age            0.20 -0.41  -0.45       0.36  0.09  1.00       0.13     0.35   \n",
            "renovated      0.02 -0.05   0.03      -0.08  0.02  0.13       1.00     0.05   \n",
            "zipcode        0.30 -0.63  -0.17      -0.01  0.13  0.35       0.05     1.00   \n",
            "sqft_lot      -0.16  0.25  -0.05       0.14  0.02  0.08      -0.02    -0.25   \n",
            "sqft_living   -0.02  0.21   0.59      -0.03  0.13 -0.26       0.05    -0.18   \n",
            "sqft_living15 -0.03  0.32   0.56      -0.08  0.17 -0.28      -0.02    -0.28   \n",
            "\n",
            "               sqft_lot  sqft_living  sqft_living15  \n",
            "lat               -0.16        -0.02          -0.03  \n",
            "long               0.25         0.21           0.32  \n",
            "grade             -0.05         0.59           0.56  \n",
            "condition          0.14        -0.03          -0.08  \n",
            "view               0.02         0.13           0.17  \n",
            "age                0.08        -0.26          -0.28  \n",
            "renovated         -0.02         0.05          -0.02  \n",
            "zipcode           -0.25        -0.18          -0.28  \n",
            "sqft_lot           1.00         0.17           0.22  \n",
            "sqft_living        0.17         1.00           0.67  \n",
            "sqft_living15      0.22         0.67           1.00  \n"
          ]
        }
      ]
    },
    {
      "cell_type": "markdown",
      "source": [
        "While two pairs of variables exhibit moderately high correlation (around 0.6), this by itself does not necessarily indicate any issues. Therefore, let's examine the VIF (Variance Inflation Factor) values to identify any multicollinearity among multiple variables.\n",
        "\n",
        "\n",
        "\n",
        "\n"
      ],
      "metadata": {
        "id": "BcUC8xP00ap4"
      }
    },
    {
      "cell_type": "code",
      "source": [
        "from statsmodels.stats.outliers_influence import variance_inflation_factor\n",
        "vif = pd.DataFrame()\n",
        "vif[\"features\"] = X_train_new.columns\n",
        "vif[\"vif_Factor\"] = [variance_inflation_factor(X_train_new.values, i) for i in range(X_train_new.shape[1])]\n",
        "vif\n"
      ],
      "metadata": {
        "colab": {
          "base_uri": "https://localhost:8080/",
          "height": 394
        },
        "id": "-biOaLXhziJS",
        "outputId": "68c3e2cb-d2bf-45bc-f9dd-3d83de1b568c"
      },
      "execution_count": null,
      "outputs": [
        {
          "output_type": "execute_result",
          "data": {
            "text/plain": [
              "         features  vif_Factor\n",
              "0             lat        1.18\n",
              "1            long        1.90\n",
              "2           grade        2.08\n",
              "3       condition        1.22\n",
              "4            view        1.09\n",
              "5             age        1.91\n",
              "6       renovated        1.06\n",
              "7         zipcode        1.84\n",
              "8        sqft_lot        1.25\n",
              "9     sqft_living        2.12\n",
              "10  sqft_living15        2.22"
            ],
            "text/html": [
              "\n",
              "  <div id=\"df-e2fdb261-9c62-4a51-9da7-c91562d2a76e\" class=\"colab-df-container\">\n",
              "    <div>\n",
              "<style scoped>\n",
              "    .dataframe tbody tr th:only-of-type {\n",
              "        vertical-align: middle;\n",
              "    }\n",
              "\n",
              "    .dataframe tbody tr th {\n",
              "        vertical-align: top;\n",
              "    }\n",
              "\n",
              "    .dataframe thead th {\n",
              "        text-align: right;\n",
              "    }\n",
              "</style>\n",
              "<table border=\"1\" class=\"dataframe\">\n",
              "  <thead>\n",
              "    <tr style=\"text-align: right;\">\n",
              "      <th></th>\n",
              "      <th>features</th>\n",
              "      <th>vif_Factor</th>\n",
              "    </tr>\n",
              "  </thead>\n",
              "  <tbody>\n",
              "    <tr>\n",
              "      <th>0</th>\n",
              "      <td>lat</td>\n",
              "      <td>1.18</td>\n",
              "    </tr>\n",
              "    <tr>\n",
              "      <th>1</th>\n",
              "      <td>long</td>\n",
              "      <td>1.90</td>\n",
              "    </tr>\n",
              "    <tr>\n",
              "      <th>2</th>\n",
              "      <td>grade</td>\n",
              "      <td>2.08</td>\n",
              "    </tr>\n",
              "    <tr>\n",
              "      <th>3</th>\n",
              "      <td>condition</td>\n",
              "      <td>1.22</td>\n",
              "    </tr>\n",
              "    <tr>\n",
              "      <th>4</th>\n",
              "      <td>view</td>\n",
              "      <td>1.09</td>\n",
              "    </tr>\n",
              "    <tr>\n",
              "      <th>5</th>\n",
              "      <td>age</td>\n",
              "      <td>1.91</td>\n",
              "    </tr>\n",
              "    <tr>\n",
              "      <th>6</th>\n",
              "      <td>renovated</td>\n",
              "      <td>1.06</td>\n",
              "    </tr>\n",
              "    <tr>\n",
              "      <th>7</th>\n",
              "      <td>zipcode</td>\n",
              "      <td>1.84</td>\n",
              "    </tr>\n",
              "    <tr>\n",
              "      <th>8</th>\n",
              "      <td>sqft_lot</td>\n",
              "      <td>1.25</td>\n",
              "    </tr>\n",
              "    <tr>\n",
              "      <th>9</th>\n",
              "      <td>sqft_living</td>\n",
              "      <td>2.12</td>\n",
              "    </tr>\n",
              "    <tr>\n",
              "      <th>10</th>\n",
              "      <td>sqft_living15</td>\n",
              "      <td>2.22</td>\n",
              "    </tr>\n",
              "  </tbody>\n",
              "</table>\n",
              "</div>\n",
              "    <div class=\"colab-df-buttons\">\n",
              "\n",
              "  <div class=\"colab-df-container\">\n",
              "    <button class=\"colab-df-convert\" onclick=\"convertToInteractive('df-e2fdb261-9c62-4a51-9da7-c91562d2a76e')\"\n",
              "            title=\"Convert this dataframe to an interactive table.\"\n",
              "            style=\"display:none;\">\n",
              "\n",
              "  <svg xmlns=\"http://www.w3.org/2000/svg\" height=\"24px\" viewBox=\"0 -960 960 960\">\n",
              "    <path d=\"M120-120v-720h720v720H120Zm60-500h600v-160H180v160Zm220 220h160v-160H400v160Zm0 220h160v-160H400v160ZM180-400h160v-160H180v160Zm440 0h160v-160H620v160ZM180-180h160v-160H180v160Zm440 0h160v-160H620v160Z\"/>\n",
              "  </svg>\n",
              "    </button>\n",
              "\n",
              "  <style>\n",
              "    .colab-df-container {\n",
              "      display:flex;\n",
              "      gap: 12px;\n",
              "    }\n",
              "\n",
              "    .colab-df-convert {\n",
              "      background-color: #E8F0FE;\n",
              "      border: none;\n",
              "      border-radius: 50%;\n",
              "      cursor: pointer;\n",
              "      display: none;\n",
              "      fill: #1967D2;\n",
              "      height: 32px;\n",
              "      padding: 0 0 0 0;\n",
              "      width: 32px;\n",
              "    }\n",
              "\n",
              "    .colab-df-convert:hover {\n",
              "      background-color: #E2EBFA;\n",
              "      box-shadow: 0px 1px 2px rgba(60, 64, 67, 0.3), 0px 1px 3px 1px rgba(60, 64, 67, 0.15);\n",
              "      fill: #174EA6;\n",
              "    }\n",
              "\n",
              "    .colab-df-buttons div {\n",
              "      margin-bottom: 4px;\n",
              "    }\n",
              "\n",
              "    [theme=dark] .colab-df-convert {\n",
              "      background-color: #3B4455;\n",
              "      fill: #D2E3FC;\n",
              "    }\n",
              "\n",
              "    [theme=dark] .colab-df-convert:hover {\n",
              "      background-color: #434B5C;\n",
              "      box-shadow: 0px 1px 3px 1px rgba(0, 0, 0, 0.15);\n",
              "      filter: drop-shadow(0px 1px 2px rgba(0, 0, 0, 0.3));\n",
              "      fill: #FFFFFF;\n",
              "    }\n",
              "  </style>\n",
              "\n",
              "    <script>\n",
              "      const buttonEl =\n",
              "        document.querySelector('#df-e2fdb261-9c62-4a51-9da7-c91562d2a76e button.colab-df-convert');\n",
              "      buttonEl.style.display =\n",
              "        google.colab.kernel.accessAllowed ? 'block' : 'none';\n",
              "\n",
              "      async function convertToInteractive(key) {\n",
              "        const element = document.querySelector('#df-e2fdb261-9c62-4a51-9da7-c91562d2a76e');\n",
              "        const dataTable =\n",
              "          await google.colab.kernel.invokeFunction('convertToInteractive',\n",
              "                                                    [key], {});\n",
              "        if (!dataTable) return;\n",
              "\n",
              "        const docLinkHtml = 'Like what you see? Visit the ' +\n",
              "          '<a target=\"_blank\" href=https://colab.research.google.com/notebooks/data_table.ipynb>data table notebook</a>'\n",
              "          + ' to learn more about interactive tables.';\n",
              "        element.innerHTML = '';\n",
              "        dataTable['output_type'] = 'display_data';\n",
              "        await google.colab.output.renderOutput(dataTable, element);\n",
              "        const docLink = document.createElement('div');\n",
              "        docLink.innerHTML = docLinkHtml;\n",
              "        element.appendChild(docLink);\n",
              "      }\n",
              "    </script>\n",
              "  </div>\n",
              "\n",
              "\n",
              "<div id=\"df-da25f61b-63c2-44c6-b099-a1a58aa168d4\">\n",
              "  <button class=\"colab-df-quickchart\" onclick=\"quickchart('df-da25f61b-63c2-44c6-b099-a1a58aa168d4')\"\n",
              "            title=\"Suggest charts.\"\n",
              "            style=\"display:none;\">\n",
              "\n",
              "<svg xmlns=\"http://www.w3.org/2000/svg\" height=\"24px\"viewBox=\"0 0 24 24\"\n",
              "     width=\"24px\">\n",
              "    <g>\n",
              "        <path d=\"M19 3H5c-1.1 0-2 .9-2 2v14c0 1.1.9 2 2 2h14c1.1 0 2-.9 2-2V5c0-1.1-.9-2-2-2zM9 17H7v-7h2v7zm4 0h-2V7h2v10zm4 0h-2v-4h2v4z\"/>\n",
              "    </g>\n",
              "</svg>\n",
              "  </button>\n",
              "\n",
              "<style>\n",
              "  .colab-df-quickchart {\n",
              "      --bg-color: #E8F0FE;\n",
              "      --fill-color: #1967D2;\n",
              "      --hover-bg-color: #E2EBFA;\n",
              "      --hover-fill-color: #174EA6;\n",
              "      --disabled-fill-color: #AAA;\n",
              "      --disabled-bg-color: #DDD;\n",
              "  }\n",
              "\n",
              "  [theme=dark] .colab-df-quickchart {\n",
              "      --bg-color: #3B4455;\n",
              "      --fill-color: #D2E3FC;\n",
              "      --hover-bg-color: #434B5C;\n",
              "      --hover-fill-color: #FFFFFF;\n",
              "      --disabled-bg-color: #3B4455;\n",
              "      --disabled-fill-color: #666;\n",
              "  }\n",
              "\n",
              "  .colab-df-quickchart {\n",
              "    background-color: var(--bg-color);\n",
              "    border: none;\n",
              "    border-radius: 50%;\n",
              "    cursor: pointer;\n",
              "    display: none;\n",
              "    fill: var(--fill-color);\n",
              "    height: 32px;\n",
              "    padding: 0;\n",
              "    width: 32px;\n",
              "  }\n",
              "\n",
              "  .colab-df-quickchart:hover {\n",
              "    background-color: var(--hover-bg-color);\n",
              "    box-shadow: 0 1px 2px rgba(60, 64, 67, 0.3), 0 1px 3px 1px rgba(60, 64, 67, 0.15);\n",
              "    fill: var(--button-hover-fill-color);\n",
              "  }\n",
              "\n",
              "  .colab-df-quickchart-complete:disabled,\n",
              "  .colab-df-quickchart-complete:disabled:hover {\n",
              "    background-color: var(--disabled-bg-color);\n",
              "    fill: var(--disabled-fill-color);\n",
              "    box-shadow: none;\n",
              "  }\n",
              "\n",
              "  .colab-df-spinner {\n",
              "    border: 2px solid var(--fill-color);\n",
              "    border-color: transparent;\n",
              "    border-bottom-color: var(--fill-color);\n",
              "    animation:\n",
              "      spin 1s steps(1) infinite;\n",
              "  }\n",
              "\n",
              "  @keyframes spin {\n",
              "    0% {\n",
              "      border-color: transparent;\n",
              "      border-bottom-color: var(--fill-color);\n",
              "      border-left-color: var(--fill-color);\n",
              "    }\n",
              "    20% {\n",
              "      border-color: transparent;\n",
              "      border-left-color: var(--fill-color);\n",
              "      border-top-color: var(--fill-color);\n",
              "    }\n",
              "    30% {\n",
              "      border-color: transparent;\n",
              "      border-left-color: var(--fill-color);\n",
              "      border-top-color: var(--fill-color);\n",
              "      border-right-color: var(--fill-color);\n",
              "    }\n",
              "    40% {\n",
              "      border-color: transparent;\n",
              "      border-right-color: var(--fill-color);\n",
              "      border-top-color: var(--fill-color);\n",
              "    }\n",
              "    60% {\n",
              "      border-color: transparent;\n",
              "      border-right-color: var(--fill-color);\n",
              "    }\n",
              "    80% {\n",
              "      border-color: transparent;\n",
              "      border-right-color: var(--fill-color);\n",
              "      border-bottom-color: var(--fill-color);\n",
              "    }\n",
              "    90% {\n",
              "      border-color: transparent;\n",
              "      border-bottom-color: var(--fill-color);\n",
              "    }\n",
              "  }\n",
              "</style>\n",
              "\n",
              "  <script>\n",
              "    async function quickchart(key) {\n",
              "      const quickchartButtonEl =\n",
              "        document.querySelector('#' + key + ' button');\n",
              "      quickchartButtonEl.disabled = true;  // To prevent multiple clicks.\n",
              "      quickchartButtonEl.classList.add('colab-df-spinner');\n",
              "      try {\n",
              "        const charts = await google.colab.kernel.invokeFunction(\n",
              "            'suggestCharts', [key], {});\n",
              "      } catch (error) {\n",
              "        console.error('Error during call to suggestCharts:', error);\n",
              "      }\n",
              "      quickchartButtonEl.classList.remove('colab-df-spinner');\n",
              "      quickchartButtonEl.classList.add('colab-df-quickchart-complete');\n",
              "    }\n",
              "    (() => {\n",
              "      let quickchartButtonEl =\n",
              "        document.querySelector('#df-da25f61b-63c2-44c6-b099-a1a58aa168d4 button');\n",
              "      quickchartButtonEl.style.display =\n",
              "        google.colab.kernel.accessAllowed ? 'block' : 'none';\n",
              "    })();\n",
              "  </script>\n",
              "</div>\n",
              "    </div>\n",
              "  </div>\n"
            ]
          },
          "metadata": {},
          "execution_count": 46
        }
      ]
    },
    {
      "cell_type": "markdown",
      "source": [
        "No worries! There doesn't appear to be an issue with multicollinearity, as none of the independent variables have a VIF factor exceeding 4."
      ],
      "metadata": {
        "id": "7eSIGUWL0-o-"
      }
    },
    {
      "cell_type": "markdown",
      "source": [
        "## Building Ridge regrossor with GridsearchCV"
      ],
      "metadata": {
        "id": "hnFEy2UxO3Ad"
      }
    },
    {
      "cell_type": "markdown",
      "source": [
        "Below, I utilize GridSearchCV with two important parameters: alpha and solver. I initiate the trial with the original features of the data as inputs. Following that, I introduce polynomial features to enhance complexity and potentially achieve improved cross-validation results."
      ],
      "metadata": {
        "id": "0jzgGrI_ydk_"
      }
    },
    {
      "cell_type": "code",
      "source": [
        "from sklearn.linear_model import Ridge\n",
        "from sklearn.model_selection import GridSearchCV\n",
        "from sklearn.metrics import mean_squared_error\n",
        "import numpy as np\n",
        "\n",
        "params = {\n",
        "    'alpha': [0.1, 1.0, 5, 7, 0.5, 0.9, 10.0],  # Different values for the regularization parameter alpha\n",
        "    'solver': ['auto', 'svd', 'cholesky', 'lsqr', 'sag'],  # Different solvers\n",
        "}\n",
        "\n",
        "ridge = Ridge()\n",
        "\n",
        "# GridSearchCV object with 5-fold cross-validation\n",
        "grid_search = GridSearchCV(ridge, params, cv=5, scoring='neg_mean_squared_error', n_jobs=-1)\n",
        "\n",
        "grid_search.fit(X_train_new, y_train)\n",
        "\n",
        "\n",
        "\n"
      ],
      "metadata": {
        "colab": {
          "base_uri": "https://localhost:8080/",
          "height": 118
        },
        "id": "G6QYt-badkBf",
        "outputId": "50601fc3-e668-4293-8cca-eadee941c24d"
      },
      "execution_count": null,
      "outputs": [
        {
          "output_type": "execute_result",
          "data": {
            "text/plain": [
              "GridSearchCV(cv=5, estimator=Ridge(), n_jobs=-1,\n",
              "             param_grid={'alpha': [0.1, 1.0, 5, 7, 0.5, 0.9, 10.0],\n",
              "                         'solver': ['auto', 'svd', 'cholesky', 'lsqr', 'sag']},\n",
              "             scoring='neg_mean_squared_error')"
            ],
            "text/html": [
              "<style>#sk-container-id-5 {color: black;background-color: white;}#sk-container-id-5 pre{padding: 0;}#sk-container-id-5 div.sk-toggleable {background-color: white;}#sk-container-id-5 label.sk-toggleable__label {cursor: pointer;display: block;width: 100%;margin-bottom: 0;padding: 0.3em;box-sizing: border-box;text-align: center;}#sk-container-id-5 label.sk-toggleable__label-arrow:before {content: \"▸\";float: left;margin-right: 0.25em;color: #696969;}#sk-container-id-5 label.sk-toggleable__label-arrow:hover:before {color: black;}#sk-container-id-5 div.sk-estimator:hover label.sk-toggleable__label-arrow:before {color: black;}#sk-container-id-5 div.sk-toggleable__content {max-height: 0;max-width: 0;overflow: hidden;text-align: left;background-color: #f0f8ff;}#sk-container-id-5 div.sk-toggleable__content pre {margin: 0.2em;color: black;border-radius: 0.25em;background-color: #f0f8ff;}#sk-container-id-5 input.sk-toggleable__control:checked~div.sk-toggleable__content {max-height: 200px;max-width: 100%;overflow: auto;}#sk-container-id-5 input.sk-toggleable__control:checked~label.sk-toggleable__label-arrow:before {content: \"▾\";}#sk-container-id-5 div.sk-estimator input.sk-toggleable__control:checked~label.sk-toggleable__label {background-color: #d4ebff;}#sk-container-id-5 div.sk-label input.sk-toggleable__control:checked~label.sk-toggleable__label {background-color: #d4ebff;}#sk-container-id-5 input.sk-hidden--visually {border: 0;clip: rect(1px 1px 1px 1px);clip: rect(1px, 1px, 1px, 1px);height: 1px;margin: -1px;overflow: hidden;padding: 0;position: absolute;width: 1px;}#sk-container-id-5 div.sk-estimator {font-family: monospace;background-color: #f0f8ff;border: 1px dotted black;border-radius: 0.25em;box-sizing: border-box;margin-bottom: 0.5em;}#sk-container-id-5 div.sk-estimator:hover {background-color: #d4ebff;}#sk-container-id-5 div.sk-parallel-item::after {content: \"\";width: 100%;border-bottom: 1px solid gray;flex-grow: 1;}#sk-container-id-5 div.sk-label:hover label.sk-toggleable__label {background-color: #d4ebff;}#sk-container-id-5 div.sk-serial::before {content: \"\";position: absolute;border-left: 1px solid gray;box-sizing: border-box;top: 0;bottom: 0;left: 50%;z-index: 0;}#sk-container-id-5 div.sk-serial {display: flex;flex-direction: column;align-items: center;background-color: white;padding-right: 0.2em;padding-left: 0.2em;position: relative;}#sk-container-id-5 div.sk-item {position: relative;z-index: 1;}#sk-container-id-5 div.sk-parallel {display: flex;align-items: stretch;justify-content: center;background-color: white;position: relative;}#sk-container-id-5 div.sk-item::before, #sk-container-id-5 div.sk-parallel-item::before {content: \"\";position: absolute;border-left: 1px solid gray;box-sizing: border-box;top: 0;bottom: 0;left: 50%;z-index: -1;}#sk-container-id-5 div.sk-parallel-item {display: flex;flex-direction: column;z-index: 1;position: relative;background-color: white;}#sk-container-id-5 div.sk-parallel-item:first-child::after {align-self: flex-end;width: 50%;}#sk-container-id-5 div.sk-parallel-item:last-child::after {align-self: flex-start;width: 50%;}#sk-container-id-5 div.sk-parallel-item:only-child::after {width: 0;}#sk-container-id-5 div.sk-dashed-wrapped {border: 1px dashed gray;margin: 0 0.4em 0.5em 0.4em;box-sizing: border-box;padding-bottom: 0.4em;background-color: white;}#sk-container-id-5 div.sk-label label {font-family: monospace;font-weight: bold;display: inline-block;line-height: 1.2em;}#sk-container-id-5 div.sk-label-container {text-align: center;}#sk-container-id-5 div.sk-container {/* jupyter's `normalize.less` sets `[hidden] { display: none; }` but bootstrap.min.css set `[hidden] { display: none !important; }` so we also need the `!important` here to be able to override the default hidden behavior on the sphinx rendered scikit-learn.org. See: https://github.com/scikit-learn/scikit-learn/issues/21755 */display: inline-block !important;position: relative;}#sk-container-id-5 div.sk-text-repr-fallback {display: none;}</style><div id=\"sk-container-id-5\" class=\"sk-top-container\"><div class=\"sk-text-repr-fallback\"><pre>GridSearchCV(cv=5, estimator=Ridge(), n_jobs=-1,\n",
              "             param_grid={&#x27;alpha&#x27;: [0.1, 1.0, 5, 7, 0.5, 0.9, 10.0],\n",
              "                         &#x27;solver&#x27;: [&#x27;auto&#x27;, &#x27;svd&#x27;, &#x27;cholesky&#x27;, &#x27;lsqr&#x27;, &#x27;sag&#x27;]},\n",
              "             scoring=&#x27;neg_mean_squared_error&#x27;)</pre><b>In a Jupyter environment, please rerun this cell to show the HTML representation or trust the notebook. <br />On GitHub, the HTML representation is unable to render, please try loading this page with nbviewer.org.</b></div><div class=\"sk-container\" hidden><div class=\"sk-item sk-dashed-wrapped\"><div class=\"sk-label-container\"><div class=\"sk-label sk-toggleable\"><input class=\"sk-toggleable__control sk-hidden--visually\" id=\"sk-estimator-id-13\" type=\"checkbox\" ><label for=\"sk-estimator-id-13\" class=\"sk-toggleable__label sk-toggleable__label-arrow\">GridSearchCV</label><div class=\"sk-toggleable__content\"><pre>GridSearchCV(cv=5, estimator=Ridge(), n_jobs=-1,\n",
              "             param_grid={&#x27;alpha&#x27;: [0.1, 1.0, 5, 7, 0.5, 0.9, 10.0],\n",
              "                         &#x27;solver&#x27;: [&#x27;auto&#x27;, &#x27;svd&#x27;, &#x27;cholesky&#x27;, &#x27;lsqr&#x27;, &#x27;sag&#x27;]},\n",
              "             scoring=&#x27;neg_mean_squared_error&#x27;)</pre></div></div></div><div class=\"sk-parallel\"><div class=\"sk-parallel-item\"><div class=\"sk-item\"><div class=\"sk-label-container\"><div class=\"sk-label sk-toggleable\"><input class=\"sk-toggleable__control sk-hidden--visually\" id=\"sk-estimator-id-14\" type=\"checkbox\" ><label for=\"sk-estimator-id-14\" class=\"sk-toggleable__label sk-toggleable__label-arrow\">estimator: Ridge</label><div class=\"sk-toggleable__content\"><pre>Ridge()</pre></div></div></div><div class=\"sk-serial\"><div class=\"sk-item\"><div class=\"sk-estimator sk-toggleable\"><input class=\"sk-toggleable__control sk-hidden--visually\" id=\"sk-estimator-id-15\" type=\"checkbox\" ><label for=\"sk-estimator-id-15\" class=\"sk-toggleable__label sk-toggleable__label-arrow\">Ridge</label><div class=\"sk-toggleable__content\"><pre>Ridge()</pre></div></div></div></div></div></div></div></div></div></div>"
            ]
          },
          "metadata": {},
          "execution_count": 98
        }
      ]
    },
    {
      "cell_type": "code",
      "source": [
        "best_ridge = grid_search.best_estimator_\n",
        "\n",
        "\n",
        "mean_cross_val_score = -grid_search.best_score_\n",
        "\n",
        "train_pred = best_ridge.predict(X_train_new)\n",
        "train_rmse = np.sqrt(mean_squared_error(y_train, train_pred))\n",
        "\n",
        "test_pred = best_ridge.predict(X_test_new)\n",
        "test_rmse = np.sqrt(mean_squared_error(y_test, test_pred))\n",
        "\n",
        "mape_train = np.mean(np.abs((y_train - train_pred) / y_train)) * 100\n",
        "\n",
        "mape_test = np.mean(np.abs((y_test - test_pred) / y_test)) * 100\n",
        "\n",
        "\n",
        "print(f\"best hyperparameters are {random_search2.best_params_}\")\n",
        "\n",
        "print(f\"RMSE on Cross-Validation Set: {np.sqrt(mean_cross_val_score):.2f}\")\n",
        "print(f\"RMSE on Cross-Validation Set: {train_rmse:.2f}\")\n",
        "print(f\"RMSE on Test Set: {test_rmse:.2f}\")\n",
        "print(f\"MAPE on Training Set: {mape_train:.2f}%\")\n",
        "print(f\"MAPE on Test Set: {mape_test:.2f}%\")\n"
      ],
      "metadata": {
        "colab": {
          "base_uri": "https://localhost:8080/"
        },
        "id": "au71VOMxR45g",
        "outputId": "8610c5f8-118f-4f8e-a1b3-c56033975ef0"
      },
      "execution_count": null,
      "outputs": [
        {
          "output_type": "stream",
          "name": "stdout",
          "text": [
            "best hyperparameters are {'solver': 'sag', 'alpha': 0.6}\n",
            "RMSE on Cross-Validation Set: 109921.11\n",
            "RMSE on Cross-Validation Set: 109778.68\n",
            "RMSE on Test Set: 108711.23\n",
            "MAPE on Training Set: 20.30%\n",
            "MAPE on Test Set: 21.16%\n"
          ]
        }
      ]
    },
    {
      "cell_type": "markdown",
      "source": [
        "This represents a substantial improvement over the baseline Ridge model! It's notably outperforming the baseline LightGBM model. I'll now increase the model's complexity with polynomial feature to see if this leads to further enhancements in the test results.\n",
        "\n"
      ],
      "metadata": {
        "id": "Dekt9zGtfolK"
      }
    },
    {
      "cell_type": "markdown",
      "source": [
        "More Complex Model with Degree-2 Polynomial Features"
      ],
      "metadata": {
        "id": "fdbBV5Szvs02"
      }
    },
    {
      "cell_type": "code",
      "source": [
        "from sklearn.linear_model import Ridge\n",
        "from sklearn.preprocessing import PolynomialFeatures\n",
        "from sklearn.model_selection import RandomizedSearchCV\n",
        "from sklearn.metrics import mean_squared_error\n",
        "import numpy as np\n",
        "\n",
        "param_dist = {\n",
        "    'alpha': [ 0.3, 0.4, 0.5, 0.6],\n",
        "    'solver': ['auto', 'svd', 'cholesky', 'lsqr', 'sag'],\n",
        "}\n",
        "\n",
        "ridge2 = Ridge()\n",
        "\n",
        "poly = PolynomialFeatures(degree=2)\n",
        "\n",
        "X_train_poly = poly.fit_transform(X_train_new)\n",
        "X_test_poly = poly.transform(X_test_new)\n",
        "\n",
        "random_search2 = RandomizedSearchCV(ridge2, param_distributions=param_dist, n_iter=15, cv=3, scoring='neg_mean_squared_error', n_jobs=-1)\n",
        "\n",
        "random_search2.fit(X_train_poly, y_train)\n",
        "\n",
        "\n"
      ],
      "metadata": {
        "colab": {
          "base_uri": "https://localhost:8080/",
          "height": 118
        },
        "id": "ZlLobgbeuxdI",
        "outputId": "f811b4cf-1e45-425a-dc11-66ba98a6189d"
      },
      "execution_count": null,
      "outputs": [
        {
          "output_type": "execute_result",
          "data": {
            "text/plain": [
              "RandomizedSearchCV(cv=3, estimator=Ridge(), n_iter=15, n_jobs=-1,\n",
              "                   param_distributions={'alpha': [0.3, 0.4, 0.5, 0.6],\n",
              "                                        'solver': ['auto', 'svd', 'cholesky',\n",
              "                                                   'lsqr', 'sag']},\n",
              "                   scoring='neg_mean_squared_error')"
            ],
            "text/html": [
              "<style>#sk-container-id-6 {color: black;background-color: white;}#sk-container-id-6 pre{padding: 0;}#sk-container-id-6 div.sk-toggleable {background-color: white;}#sk-container-id-6 label.sk-toggleable__label {cursor: pointer;display: block;width: 100%;margin-bottom: 0;padding: 0.3em;box-sizing: border-box;text-align: center;}#sk-container-id-6 label.sk-toggleable__label-arrow:before {content: \"▸\";float: left;margin-right: 0.25em;color: #696969;}#sk-container-id-6 label.sk-toggleable__label-arrow:hover:before {color: black;}#sk-container-id-6 div.sk-estimator:hover label.sk-toggleable__label-arrow:before {color: black;}#sk-container-id-6 div.sk-toggleable__content {max-height: 0;max-width: 0;overflow: hidden;text-align: left;background-color: #f0f8ff;}#sk-container-id-6 div.sk-toggleable__content pre {margin: 0.2em;color: black;border-radius: 0.25em;background-color: #f0f8ff;}#sk-container-id-6 input.sk-toggleable__control:checked~div.sk-toggleable__content {max-height: 200px;max-width: 100%;overflow: auto;}#sk-container-id-6 input.sk-toggleable__control:checked~label.sk-toggleable__label-arrow:before {content: \"▾\";}#sk-container-id-6 div.sk-estimator input.sk-toggleable__control:checked~label.sk-toggleable__label {background-color: #d4ebff;}#sk-container-id-6 div.sk-label input.sk-toggleable__control:checked~label.sk-toggleable__label {background-color: #d4ebff;}#sk-container-id-6 input.sk-hidden--visually {border: 0;clip: rect(1px 1px 1px 1px);clip: rect(1px, 1px, 1px, 1px);height: 1px;margin: -1px;overflow: hidden;padding: 0;position: absolute;width: 1px;}#sk-container-id-6 div.sk-estimator {font-family: monospace;background-color: #f0f8ff;border: 1px dotted black;border-radius: 0.25em;box-sizing: border-box;margin-bottom: 0.5em;}#sk-container-id-6 div.sk-estimator:hover {background-color: #d4ebff;}#sk-container-id-6 div.sk-parallel-item::after {content: \"\";width: 100%;border-bottom: 1px solid gray;flex-grow: 1;}#sk-container-id-6 div.sk-label:hover label.sk-toggleable__label {background-color: #d4ebff;}#sk-container-id-6 div.sk-serial::before {content: \"\";position: absolute;border-left: 1px solid gray;box-sizing: border-box;top: 0;bottom: 0;left: 50%;z-index: 0;}#sk-container-id-6 div.sk-serial {display: flex;flex-direction: column;align-items: center;background-color: white;padding-right: 0.2em;padding-left: 0.2em;position: relative;}#sk-container-id-6 div.sk-item {position: relative;z-index: 1;}#sk-container-id-6 div.sk-parallel {display: flex;align-items: stretch;justify-content: center;background-color: white;position: relative;}#sk-container-id-6 div.sk-item::before, #sk-container-id-6 div.sk-parallel-item::before {content: \"\";position: absolute;border-left: 1px solid gray;box-sizing: border-box;top: 0;bottom: 0;left: 50%;z-index: -1;}#sk-container-id-6 div.sk-parallel-item {display: flex;flex-direction: column;z-index: 1;position: relative;background-color: white;}#sk-container-id-6 div.sk-parallel-item:first-child::after {align-self: flex-end;width: 50%;}#sk-container-id-6 div.sk-parallel-item:last-child::after {align-self: flex-start;width: 50%;}#sk-container-id-6 div.sk-parallel-item:only-child::after {width: 0;}#sk-container-id-6 div.sk-dashed-wrapped {border: 1px dashed gray;margin: 0 0.4em 0.5em 0.4em;box-sizing: border-box;padding-bottom: 0.4em;background-color: white;}#sk-container-id-6 div.sk-label label {font-family: monospace;font-weight: bold;display: inline-block;line-height: 1.2em;}#sk-container-id-6 div.sk-label-container {text-align: center;}#sk-container-id-6 div.sk-container {/* jupyter's `normalize.less` sets `[hidden] { display: none; }` but bootstrap.min.css set `[hidden] { display: none !important; }` so we also need the `!important` here to be able to override the default hidden behavior on the sphinx rendered scikit-learn.org. See: https://github.com/scikit-learn/scikit-learn/issues/21755 */display: inline-block !important;position: relative;}#sk-container-id-6 div.sk-text-repr-fallback {display: none;}</style><div id=\"sk-container-id-6\" class=\"sk-top-container\"><div class=\"sk-text-repr-fallback\"><pre>RandomizedSearchCV(cv=3, estimator=Ridge(), n_iter=15, n_jobs=-1,\n",
              "                   param_distributions={&#x27;alpha&#x27;: [0.3, 0.4, 0.5, 0.6],\n",
              "                                        &#x27;solver&#x27;: [&#x27;auto&#x27;, &#x27;svd&#x27;, &#x27;cholesky&#x27;,\n",
              "                                                   &#x27;lsqr&#x27;, &#x27;sag&#x27;]},\n",
              "                   scoring=&#x27;neg_mean_squared_error&#x27;)</pre><b>In a Jupyter environment, please rerun this cell to show the HTML representation or trust the notebook. <br />On GitHub, the HTML representation is unable to render, please try loading this page with nbviewer.org.</b></div><div class=\"sk-container\" hidden><div class=\"sk-item sk-dashed-wrapped\"><div class=\"sk-label-container\"><div class=\"sk-label sk-toggleable\"><input class=\"sk-toggleable__control sk-hidden--visually\" id=\"sk-estimator-id-16\" type=\"checkbox\" ><label for=\"sk-estimator-id-16\" class=\"sk-toggleable__label sk-toggleable__label-arrow\">RandomizedSearchCV</label><div class=\"sk-toggleable__content\"><pre>RandomizedSearchCV(cv=3, estimator=Ridge(), n_iter=15, n_jobs=-1,\n",
              "                   param_distributions={&#x27;alpha&#x27;: [0.3, 0.4, 0.5, 0.6],\n",
              "                                        &#x27;solver&#x27;: [&#x27;auto&#x27;, &#x27;svd&#x27;, &#x27;cholesky&#x27;,\n",
              "                                                   &#x27;lsqr&#x27;, &#x27;sag&#x27;]},\n",
              "                   scoring=&#x27;neg_mean_squared_error&#x27;)</pre></div></div></div><div class=\"sk-parallel\"><div class=\"sk-parallel-item\"><div class=\"sk-item\"><div class=\"sk-label-container\"><div class=\"sk-label sk-toggleable\"><input class=\"sk-toggleable__control sk-hidden--visually\" id=\"sk-estimator-id-17\" type=\"checkbox\" ><label for=\"sk-estimator-id-17\" class=\"sk-toggleable__label sk-toggleable__label-arrow\">estimator: Ridge</label><div class=\"sk-toggleable__content\"><pre>Ridge()</pre></div></div></div><div class=\"sk-serial\"><div class=\"sk-item\"><div class=\"sk-estimator sk-toggleable\"><input class=\"sk-toggleable__control sk-hidden--visually\" id=\"sk-estimator-id-18\" type=\"checkbox\" ><label for=\"sk-estimator-id-18\" class=\"sk-toggleable__label sk-toggleable__label-arrow\">Ridge</label><div class=\"sk-toggleable__content\"><pre>Ridge()</pre></div></div></div></div></div></div></div></div></div></div>"
            ]
          },
          "metadata": {},
          "execution_count": 107
        }
      ]
    },
    {
      "cell_type": "code",
      "source": [
        "\n",
        "best_ridge2 = random_search2.best_estimator_\n",
        "\n",
        "mean_cross_val_score2 = -random_search2.best_score_\n",
        "\n",
        "train_pred = best_ridge2.predict(X_train_poly)\n",
        "train_rmse = np.sqrt(mean_squared_error(y_train, train_pred))\n",
        "\n",
        "test_pred = best_ridge2.predict(X_test_poly)\n",
        "test_rmse = np.sqrt(mean_squared_error(y_test, test_pred))\n",
        "mape_train = np.mean(np.abs((y_train - train_pred) / y_train)) * 100\n",
        "\n",
        "mape_test = np.mean(np.abs((y_test - test_pred) / y_test)) * 100\n",
        "\n",
        "print(f\"best hyperparameters are {random_search2.best_params_}\")\n",
        "print(f\"RMSE on Cross-Validation Set: {np.sqrt(mean_cross_val_score2):.2f}\")\n",
        "print(f\"RMSE on Cross-Validation Set: {train_rmse:.2f}\")\n",
        "print(f\"RMSE on Test Set: {test_rmse:.2f}\")\n",
        "print(f\"MAPE on Training Set: {mape_train:.2f}%\")\n",
        "print(f\"MAPE on Test Set: {mape_test:.2f}%\")\n"
      ],
      "metadata": {
        "colab": {
          "base_uri": "https://localhost:8080/"
        },
        "id": "hjpIikgWxHBx",
        "outputId": "51baf5dc-dbc4-4fdd-d182-74d1cd4153e5"
      },
      "execution_count": null,
      "outputs": [
        {
          "output_type": "stream",
          "name": "stdout",
          "text": [
            "best hyperparameters are {'solver': 'sag', 'alpha': 0.6}\n",
            "RMSE on Cross-Validation Set: 97541.52\n",
            "RMSE on Cross-Validation Set: 96516.04\n",
            "RMSE on Test Set: 96966.50\n",
            "MAPE on Training Set: 17.71%\n",
            "MAPE on Test Set: 18.90%\n"
          ]
        }
      ]
    },
    {
      "cell_type": "markdown",
      "source": [
        "With the introduction of a more complex model using polynomial features of degree 2, we've seen significant improvements, with a 15% lower CV RMSE and similar scores between the training and CV sets. Given this positive outcome, it's certainly worth exploring the possibility of an even more complex model with polynomial features of degree 3 to further enhance predictive performance.\n",
        "\n",
        "\n",
        "\n",
        "\n"
      ],
      "metadata": {
        "id": "vHg2YFRSSlh_"
      }
    },
    {
      "cell_type": "markdown",
      "source": [
        "More Complex Model with Degree-2 Polynomial Features"
      ],
      "metadata": {
        "id": "FZlWqz1ZPODT"
      }
    },
    {
      "cell_type": "code",
      "source": [
        "from sklearn.linear_model import Ridge\n",
        "from sklearn.model_selection import GridSearchCV\n",
        "from sklearn.metrics import mean_squared_error\n",
        "import numpy as np\n",
        "\n",
        "param_dist = {\n",
        "    'alpha': [0.5, 0.6, 0.7],\n",
        "    'solver': ['auto', 'svd', 'cholesky', 'lsqr', 'sag'],  # Different solvers\n",
        "}\n",
        "\n",
        "ridge3 = Ridge()\n",
        "\n",
        "poly = PolynomialFeatures(degree=3)\n",
        "X_train_poly_3 = poly.fit_transform(X_train_new)\n",
        "X_test_poly_3 = poly.transform(X_test_new)\n",
        "\n",
        "random_search3 = RandomizedSearchCV(ridge3, param_distributions=param_dist, n_iter=10, cv=3, scoring='neg_mean_squared_error', n_jobs=-1)\n",
        "\n",
        "random_search3.fit(X_train_poly_3, y_train)\n",
        "\n"
      ],
      "metadata": {
        "colab": {
          "base_uri": "https://localhost:8080/",
          "height": 118
        },
        "id": "-4XiXJHC1RBB",
        "outputId": "4cd1994c-27a8-417e-f532-5d79e8eb03ae"
      },
      "execution_count": null,
      "outputs": [
        {
          "output_type": "execute_result",
          "data": {
            "text/plain": [
              "RandomizedSearchCV(cv=3, estimator=Ridge(), n_jobs=-1,\n",
              "                   param_distributions={'alpha': [0.5, 0.6, 0.7],\n",
              "                                        'solver': ['auto', 'svd', 'cholesky',\n",
              "                                                   'lsqr', 'sag']},\n",
              "                   scoring='neg_mean_squared_error')"
            ],
            "text/html": [
              "<style>#sk-container-id-7 {color: black;background-color: white;}#sk-container-id-7 pre{padding: 0;}#sk-container-id-7 div.sk-toggleable {background-color: white;}#sk-container-id-7 label.sk-toggleable__label {cursor: pointer;display: block;width: 100%;margin-bottom: 0;padding: 0.3em;box-sizing: border-box;text-align: center;}#sk-container-id-7 label.sk-toggleable__label-arrow:before {content: \"▸\";float: left;margin-right: 0.25em;color: #696969;}#sk-container-id-7 label.sk-toggleable__label-arrow:hover:before {color: black;}#sk-container-id-7 div.sk-estimator:hover label.sk-toggleable__label-arrow:before {color: black;}#sk-container-id-7 div.sk-toggleable__content {max-height: 0;max-width: 0;overflow: hidden;text-align: left;background-color: #f0f8ff;}#sk-container-id-7 div.sk-toggleable__content pre {margin: 0.2em;color: black;border-radius: 0.25em;background-color: #f0f8ff;}#sk-container-id-7 input.sk-toggleable__control:checked~div.sk-toggleable__content {max-height: 200px;max-width: 100%;overflow: auto;}#sk-container-id-7 input.sk-toggleable__control:checked~label.sk-toggleable__label-arrow:before {content: \"▾\";}#sk-container-id-7 div.sk-estimator input.sk-toggleable__control:checked~label.sk-toggleable__label {background-color: #d4ebff;}#sk-container-id-7 div.sk-label input.sk-toggleable__control:checked~label.sk-toggleable__label {background-color: #d4ebff;}#sk-container-id-7 input.sk-hidden--visually {border: 0;clip: rect(1px 1px 1px 1px);clip: rect(1px, 1px, 1px, 1px);height: 1px;margin: -1px;overflow: hidden;padding: 0;position: absolute;width: 1px;}#sk-container-id-7 div.sk-estimator {font-family: monospace;background-color: #f0f8ff;border: 1px dotted black;border-radius: 0.25em;box-sizing: border-box;margin-bottom: 0.5em;}#sk-container-id-7 div.sk-estimator:hover {background-color: #d4ebff;}#sk-container-id-7 div.sk-parallel-item::after {content: \"\";width: 100%;border-bottom: 1px solid gray;flex-grow: 1;}#sk-container-id-7 div.sk-label:hover label.sk-toggleable__label {background-color: #d4ebff;}#sk-container-id-7 div.sk-serial::before {content: \"\";position: absolute;border-left: 1px solid gray;box-sizing: border-box;top: 0;bottom: 0;left: 50%;z-index: 0;}#sk-container-id-7 div.sk-serial {display: flex;flex-direction: column;align-items: center;background-color: white;padding-right: 0.2em;padding-left: 0.2em;position: relative;}#sk-container-id-7 div.sk-item {position: relative;z-index: 1;}#sk-container-id-7 div.sk-parallel {display: flex;align-items: stretch;justify-content: center;background-color: white;position: relative;}#sk-container-id-7 div.sk-item::before, #sk-container-id-7 div.sk-parallel-item::before {content: \"\";position: absolute;border-left: 1px solid gray;box-sizing: border-box;top: 0;bottom: 0;left: 50%;z-index: -1;}#sk-container-id-7 div.sk-parallel-item {display: flex;flex-direction: column;z-index: 1;position: relative;background-color: white;}#sk-container-id-7 div.sk-parallel-item:first-child::after {align-self: flex-end;width: 50%;}#sk-container-id-7 div.sk-parallel-item:last-child::after {align-self: flex-start;width: 50%;}#sk-container-id-7 div.sk-parallel-item:only-child::after {width: 0;}#sk-container-id-7 div.sk-dashed-wrapped {border: 1px dashed gray;margin: 0 0.4em 0.5em 0.4em;box-sizing: border-box;padding-bottom: 0.4em;background-color: white;}#sk-container-id-7 div.sk-label label {font-family: monospace;font-weight: bold;display: inline-block;line-height: 1.2em;}#sk-container-id-7 div.sk-label-container {text-align: center;}#sk-container-id-7 div.sk-container {/* jupyter's `normalize.less` sets `[hidden] { display: none; }` but bootstrap.min.css set `[hidden] { display: none !important; }` so we also need the `!important` here to be able to override the default hidden behavior on the sphinx rendered scikit-learn.org. See: https://github.com/scikit-learn/scikit-learn/issues/21755 */display: inline-block !important;position: relative;}#sk-container-id-7 div.sk-text-repr-fallback {display: none;}</style><div id=\"sk-container-id-7\" class=\"sk-top-container\"><div class=\"sk-text-repr-fallback\"><pre>RandomizedSearchCV(cv=3, estimator=Ridge(), n_jobs=-1,\n",
              "                   param_distributions={&#x27;alpha&#x27;: [0.5, 0.6, 0.7],\n",
              "                                        &#x27;solver&#x27;: [&#x27;auto&#x27;, &#x27;svd&#x27;, &#x27;cholesky&#x27;,\n",
              "                                                   &#x27;lsqr&#x27;, &#x27;sag&#x27;]},\n",
              "                   scoring=&#x27;neg_mean_squared_error&#x27;)</pre><b>In a Jupyter environment, please rerun this cell to show the HTML representation or trust the notebook. <br />On GitHub, the HTML representation is unable to render, please try loading this page with nbviewer.org.</b></div><div class=\"sk-container\" hidden><div class=\"sk-item sk-dashed-wrapped\"><div class=\"sk-label-container\"><div class=\"sk-label sk-toggleable\"><input class=\"sk-toggleable__control sk-hidden--visually\" id=\"sk-estimator-id-19\" type=\"checkbox\" ><label for=\"sk-estimator-id-19\" class=\"sk-toggleable__label sk-toggleable__label-arrow\">RandomizedSearchCV</label><div class=\"sk-toggleable__content\"><pre>RandomizedSearchCV(cv=3, estimator=Ridge(), n_jobs=-1,\n",
              "                   param_distributions={&#x27;alpha&#x27;: [0.5, 0.6, 0.7],\n",
              "                                        &#x27;solver&#x27;: [&#x27;auto&#x27;, &#x27;svd&#x27;, &#x27;cholesky&#x27;,\n",
              "                                                   &#x27;lsqr&#x27;, &#x27;sag&#x27;]},\n",
              "                   scoring=&#x27;neg_mean_squared_error&#x27;)</pre></div></div></div><div class=\"sk-parallel\"><div class=\"sk-parallel-item\"><div class=\"sk-item\"><div class=\"sk-label-container\"><div class=\"sk-label sk-toggleable\"><input class=\"sk-toggleable__control sk-hidden--visually\" id=\"sk-estimator-id-20\" type=\"checkbox\" ><label for=\"sk-estimator-id-20\" class=\"sk-toggleable__label sk-toggleable__label-arrow\">estimator: Ridge</label><div class=\"sk-toggleable__content\"><pre>Ridge()</pre></div></div></div><div class=\"sk-serial\"><div class=\"sk-item\"><div class=\"sk-estimator sk-toggleable\"><input class=\"sk-toggleable__control sk-hidden--visually\" id=\"sk-estimator-id-21\" type=\"checkbox\" ><label for=\"sk-estimator-id-21\" class=\"sk-toggleable__label sk-toggleable__label-arrow\">Ridge</label><div class=\"sk-toggleable__content\"><pre>Ridge()</pre></div></div></div></div></div></div></div></div></div></div>"
            ]
          },
          "metadata": {},
          "execution_count": 113
        }
      ]
    },
    {
      "cell_type": "code",
      "source": [
        "best_ridge3=random_search3.best_estimator_\n",
        "train_pred = best_ridge3.predict(X_train_poly_3)\n",
        "train_rmse = np.sqrt(mean_squared_error(y_train, train_pred))\n",
        "\n",
        "test_pred = best_ridge3.predict(X_test_poly_3)\n",
        "test_rmse = np.sqrt(mean_squared_error(y_test, test_pred))\n",
        "cross_val_score3=-random_search3.best_score_\n",
        "\n",
        "mape_train = np.mean(np.abs((y_train - train_pred) / y_train)) * 100\n",
        "\n",
        "mape_test = np.mean(np.abs((y_test - test_pred) / y_test)) * 100\n",
        "\n",
        "print(f\"best hyperparameters are {random_search2.best_params_}\")\n",
        "print(f\"RMSE on Cross-Validation Set: {cross_val_score3:.2f}\")\n",
        "print(f\"RMSE on Cross-Validation Set: {train_rmse:.2f}\")\n",
        "print(f\"RMSE on Test Set: {test_rmse:.2f}\")\n",
        "print(f\"MAPE on Training Set: {mape_train:.2f}%\")\n",
        "print(f\"MAPE on Test Set: {mape_test:.2f}%\")\n"
      ],
      "metadata": {
        "colab": {
          "base_uri": "https://localhost:8080/"
        },
        "id": "q1u2Axjr1dPn",
        "outputId": "59c52854-2eb8-4a11-af93-d6457ec07d17"
      },
      "execution_count": null,
      "outputs": [
        {
          "output_type": "stream",
          "name": "stdout",
          "text": [
            "best hyperparameters are {'solver': 'sag', 'alpha': 0.6}\n",
            "RMSE on Cross-Validation Set: 7722641605.78\n",
            "RMSE on Cross-Validation Set: 80041.01\n",
            "RMSE on Test Set: 82555.72\n",
            "MAPE on Training Set: 14.30%\n",
            "MAPE on Test Set: 15.46%\n"
          ]
        }
      ]
    },
    {
      "cell_type": "markdown",
      "source": [
        "The degree 3 polynomial feature model has already demonstrated a substantial 23% reduction in CV RMSE, which is quite promising. Given this success, it makes sense to proceed with trying a degree 4 polynomial feature model to explore whether it can provide further improvements in predictive performance."
      ],
      "metadata": {
        "id": "fGmP2T2-zV81"
      }
    },
    {
      "cell_type": "code",
      "source": [
        "\n",
        "model_path = '/content/drive/My Drive/ridge_degree_3_model.pkl'\n",
        "\n",
        "joblib.dump(best_ridge3, model_path)\n"
      ],
      "metadata": {
        "id": "ICovvhUCNQ0A"
      },
      "execution_count": null,
      "outputs": []
    },
    {
      "cell_type": "code",
      "source": [
        "model_path = '/content/drive/My Drive/ridge_degree_3_model.pkl'\n",
        "\n",
        "loaded_ridge_model = joblib.load(model_path)\n"
      ],
      "metadata": {
        "id": "gAzl5lJXOht6"
      },
      "execution_count": null,
      "outputs": []
    },
    {
      "cell_type": "markdown",
      "source": [
        "Trial 4: polynomial degree 4"
      ],
      "metadata": {
        "id": "NX9Qvs01PV2G"
      }
    },
    {
      "cell_type": "code",
      "source": [
        "from sklearn.linear_model import Ridge\n",
        "from sklearn.preprocessing import PolynomialFeatures\n",
        "from sklearn.model_selection import GridSearchCV\n",
        "from sklearn.metrics import mean_squared_error\n",
        "import numpy as np\n",
        "\n",
        "param_dist = {\n",
        "    'alpha': [0.5, 0.6, 0.7],\n",
        "    'solver': ['auto', 'svd', 'cholesky', 'lsqr', 'sag'],\n",
        "}\n",
        "\n",
        "\n",
        "ridge4 = Ridge()\n",
        "\n",
        "poly = PolynomialFeatures(degree=4)\n",
        "X_train_poly_4 = poly.fit_transform(X_train_new)\n",
        "X_test_poly_4 = poly.transform(X_test_new)\n",
        "\n",
        "random_search4 = RandomizedSearchCV(ridge4, param_distributions=param_dist, n_iter=4, cv=3, scoring='neg_mean_squared_error', n_jobs=-1)\n",
        "\n",
        "random_search4.fit(X_train_poly_4, y_train)\n",
        "\n"
      ],
      "metadata": {
        "colab": {
          "base_uri": "https://localhost:8080/",
          "height": 153
        },
        "id": "gqvbm58Y8Nfg",
        "outputId": "0b6c7e3c-bab3-4ef9-f7d4-3817eb66c468"
      },
      "execution_count": null,
      "outputs": [
        {
          "output_type": "stream",
          "name": "stderr",
          "text": [
            "/usr/local/lib/python3.10/dist-packages/sklearn/linear_model/_sag.py:350: ConvergenceWarning: The max_iter was reached which means the coef_ did not converge\n",
            "  warnings.warn(\n"
          ]
        },
        {
          "output_type": "execute_result",
          "data": {
            "text/plain": [
              "RandomizedSearchCV(cv=3, estimator=Ridge(), n_iter=4, n_jobs=-1,\n",
              "                   param_distributions={'alpha': [0.5, 0.6, 0.7],\n",
              "                                        'solver': ['auto', 'svd', 'cholesky',\n",
              "                                                   'lsqr', 'sag']},\n",
              "                   scoring='neg_mean_squared_error')"
            ],
            "text/html": [
              "<style>#sk-container-id-8 {color: black;background-color: white;}#sk-container-id-8 pre{padding: 0;}#sk-container-id-8 div.sk-toggleable {background-color: white;}#sk-container-id-8 label.sk-toggleable__label {cursor: pointer;display: block;width: 100%;margin-bottom: 0;padding: 0.3em;box-sizing: border-box;text-align: center;}#sk-container-id-8 label.sk-toggleable__label-arrow:before {content: \"▸\";float: left;margin-right: 0.25em;color: #696969;}#sk-container-id-8 label.sk-toggleable__label-arrow:hover:before {color: black;}#sk-container-id-8 div.sk-estimator:hover label.sk-toggleable__label-arrow:before {color: black;}#sk-container-id-8 div.sk-toggleable__content {max-height: 0;max-width: 0;overflow: hidden;text-align: left;background-color: #f0f8ff;}#sk-container-id-8 div.sk-toggleable__content pre {margin: 0.2em;color: black;border-radius: 0.25em;background-color: #f0f8ff;}#sk-container-id-8 input.sk-toggleable__control:checked~div.sk-toggleable__content {max-height: 200px;max-width: 100%;overflow: auto;}#sk-container-id-8 input.sk-toggleable__control:checked~label.sk-toggleable__label-arrow:before {content: \"▾\";}#sk-container-id-8 div.sk-estimator input.sk-toggleable__control:checked~label.sk-toggleable__label {background-color: #d4ebff;}#sk-container-id-8 div.sk-label input.sk-toggleable__control:checked~label.sk-toggleable__label {background-color: #d4ebff;}#sk-container-id-8 input.sk-hidden--visually {border: 0;clip: rect(1px 1px 1px 1px);clip: rect(1px, 1px, 1px, 1px);height: 1px;margin: -1px;overflow: hidden;padding: 0;position: absolute;width: 1px;}#sk-container-id-8 div.sk-estimator {font-family: monospace;background-color: #f0f8ff;border: 1px dotted black;border-radius: 0.25em;box-sizing: border-box;margin-bottom: 0.5em;}#sk-container-id-8 div.sk-estimator:hover {background-color: #d4ebff;}#sk-container-id-8 div.sk-parallel-item::after {content: \"\";width: 100%;border-bottom: 1px solid gray;flex-grow: 1;}#sk-container-id-8 div.sk-label:hover label.sk-toggleable__label {background-color: #d4ebff;}#sk-container-id-8 div.sk-serial::before {content: \"\";position: absolute;border-left: 1px solid gray;box-sizing: border-box;top: 0;bottom: 0;left: 50%;z-index: 0;}#sk-container-id-8 div.sk-serial {display: flex;flex-direction: column;align-items: center;background-color: white;padding-right: 0.2em;padding-left: 0.2em;position: relative;}#sk-container-id-8 div.sk-item {position: relative;z-index: 1;}#sk-container-id-8 div.sk-parallel {display: flex;align-items: stretch;justify-content: center;background-color: white;position: relative;}#sk-container-id-8 div.sk-item::before, #sk-container-id-8 div.sk-parallel-item::before {content: \"\";position: absolute;border-left: 1px solid gray;box-sizing: border-box;top: 0;bottom: 0;left: 50%;z-index: -1;}#sk-container-id-8 div.sk-parallel-item {display: flex;flex-direction: column;z-index: 1;position: relative;background-color: white;}#sk-container-id-8 div.sk-parallel-item:first-child::after {align-self: flex-end;width: 50%;}#sk-container-id-8 div.sk-parallel-item:last-child::after {align-self: flex-start;width: 50%;}#sk-container-id-8 div.sk-parallel-item:only-child::after {width: 0;}#sk-container-id-8 div.sk-dashed-wrapped {border: 1px dashed gray;margin: 0 0.4em 0.5em 0.4em;box-sizing: border-box;padding-bottom: 0.4em;background-color: white;}#sk-container-id-8 div.sk-label label {font-family: monospace;font-weight: bold;display: inline-block;line-height: 1.2em;}#sk-container-id-8 div.sk-label-container {text-align: center;}#sk-container-id-8 div.sk-container {/* jupyter's `normalize.less` sets `[hidden] { display: none; }` but bootstrap.min.css set `[hidden] { display: none !important; }` so we also need the `!important` here to be able to override the default hidden behavior on the sphinx rendered scikit-learn.org. See: https://github.com/scikit-learn/scikit-learn/issues/21755 */display: inline-block !important;position: relative;}#sk-container-id-8 div.sk-text-repr-fallback {display: none;}</style><div id=\"sk-container-id-8\" class=\"sk-top-container\"><div class=\"sk-text-repr-fallback\"><pre>RandomizedSearchCV(cv=3, estimator=Ridge(), n_iter=4, n_jobs=-1,\n",
              "                   param_distributions={&#x27;alpha&#x27;: [0.5, 0.6, 0.7],\n",
              "                                        &#x27;solver&#x27;: [&#x27;auto&#x27;, &#x27;svd&#x27;, &#x27;cholesky&#x27;,\n",
              "                                                   &#x27;lsqr&#x27;, &#x27;sag&#x27;]},\n",
              "                   scoring=&#x27;neg_mean_squared_error&#x27;)</pre><b>In a Jupyter environment, please rerun this cell to show the HTML representation or trust the notebook. <br />On GitHub, the HTML representation is unable to render, please try loading this page with nbviewer.org.</b></div><div class=\"sk-container\" hidden><div class=\"sk-item sk-dashed-wrapped\"><div class=\"sk-label-container\"><div class=\"sk-label sk-toggleable\"><input class=\"sk-toggleable__control sk-hidden--visually\" id=\"sk-estimator-id-22\" type=\"checkbox\" ><label for=\"sk-estimator-id-22\" class=\"sk-toggleable__label sk-toggleable__label-arrow\">RandomizedSearchCV</label><div class=\"sk-toggleable__content\"><pre>RandomizedSearchCV(cv=3, estimator=Ridge(), n_iter=4, n_jobs=-1,\n",
              "                   param_distributions={&#x27;alpha&#x27;: [0.5, 0.6, 0.7],\n",
              "                                        &#x27;solver&#x27;: [&#x27;auto&#x27;, &#x27;svd&#x27;, &#x27;cholesky&#x27;,\n",
              "                                                   &#x27;lsqr&#x27;, &#x27;sag&#x27;]},\n",
              "                   scoring=&#x27;neg_mean_squared_error&#x27;)</pre></div></div></div><div class=\"sk-parallel\"><div class=\"sk-parallel-item\"><div class=\"sk-item\"><div class=\"sk-label-container\"><div class=\"sk-label sk-toggleable\"><input class=\"sk-toggleable__control sk-hidden--visually\" id=\"sk-estimator-id-23\" type=\"checkbox\" ><label for=\"sk-estimator-id-23\" class=\"sk-toggleable__label sk-toggleable__label-arrow\">estimator: Ridge</label><div class=\"sk-toggleable__content\"><pre>Ridge()</pre></div></div></div><div class=\"sk-serial\"><div class=\"sk-item\"><div class=\"sk-estimator sk-toggleable\"><input class=\"sk-toggleable__control sk-hidden--visually\" id=\"sk-estimator-id-24\" type=\"checkbox\" ><label for=\"sk-estimator-id-24\" class=\"sk-toggleable__label sk-toggleable__label-arrow\">Ridge</label><div class=\"sk-toggleable__content\"><pre>Ridge()</pre></div></div></div></div></div></div></div></div></div></div>"
            ]
          },
          "metadata": {},
          "execution_count": 116
        }
      ]
    },
    {
      "cell_type": "code",
      "source": [
        "\n",
        "best_ridge4=random_search4.best_estimator_\n",
        "train_pred = best_ridge4.predict(X_train_poly_4)\n",
        "train_rmse = np.sqrt(mean_squared_error(y_train, train_pred))\n",
        "\n",
        "test_pred = best_ridge4.predict(X_test_poly_4)\n",
        "test_rmse = np.sqrt(mean_squared_error(y_test, test_pred))\n",
        "cross_val_score3=-random_search3.best_score_\n",
        "print(\"Best Hyperparameters:\", random_search3.best_params_)\n",
        "print(\"Mean Cross-Validation RMSE:\", np.sqrt(cross_val_score3))\n",
        "print(\"Best Train RMSE:\", train_rmse)\n",
        "print(\"Test RMSE:\", test_rmse)\n"
      ],
      "metadata": {
        "colab": {
          "base_uri": "https://localhost:8080/"
        },
        "id": "uOBf-4av9AAm",
        "outputId": "42f8e4e2-d9a0-42e7-9b50-4d2b83275449"
      },
      "execution_count": null,
      "outputs": [
        {
          "output_type": "stream",
          "name": "stdout",
          "text": [
            "Best Hyperparameters: {'solver': 'lsqr', 'alpha': 0.7}\n",
            "Mean Cross-Validation RMSE: 87878.5616961354\n",
            "Best Train RMSE: 104288.34877113205\n",
            "Test RMSE: 105430.08476294306\n"
          ]
        }
      ]
    },
    {
      "cell_type": "markdown",
      "source": [
        "After experimenting with different polynomial degrees, it appears that the polynomial degree 3 model is the best-performing Ridge model. To summarize, this Ridge model produced a test RMSE of 82555.72 and a 15% MAPE (Mean Absolute Percentage Error). On average, the model's predictions deviate from the actual prices in the test set by approximately 15%."
      ],
      "metadata": {
        "id": "3rZKAqPH-S3v"
      }
    },
    {
      "cell_type": "markdown",
      "source": [
        "### Hyperparameter Optimization for LightGBM using RandomizedCV"
      ],
      "metadata": {
        "id": "eX-tU8iHPVz5"
      }
    },
    {
      "cell_type": "markdown",
      "source": [
        "Using hyperparameter tuning strategies outlined in LightGBM [documentation](https://lightgbm.readthedocs.io/en/latest/Parameters-Tuning.html), I start by the most important hyperparameters of the model: **n_estimators**,\n",
        " **learning_rate**, **max_depth**, **num_leaves**, **min_data_in_leaf**\n",
        "\n",
        " **n_estimators** is the number of boosting trees and more trees bring better accuracy at the cost of more training time and problem of overfitting. I start with moderately high n_estimators with low **learning rates** as recommended in the document. LightGBM grows trees leaf wise instead of dept wise like xgboost. That is, using defaulth **max depth**(infinite) and controlling** num leaves** are recommended by some experienced [kagglers](https://www.amazon.com/Kaggle-Workbook-Self-learning-exercises-competitions/dp/1804611212/ref=sr_1_4?crid=2VSBU36M8Z7NT&keywords=kaggle+book&qid=1695297271&sprefix=kaggle+book%2Caps%2C183&sr=8-4). however, I still start by limiting the depth and choosing num leaves smaller than 2^max_depth again as adviced by the documentation."
      ],
      "metadata": {
        "id": "_SlfF2nB-dvO"
      }
    },
    {
      "cell_type": "code",
      "source": [
        "\n",
        "\n",
        "param_grid = {\n",
        "    'n_estimators': [ 400, 500, 600],\n",
        "    'learning_rate': [ 0.1, 0.15, 0.2],\n",
        "    'max_depth': [3, 5, 7],\n",
        "    'num_leaves': [ 6, 20, 80], #\n",
        "    'min_data_in_leaf': [20, 30, 50],\n",
        "\n",
        "}\n",
        "\n",
        "lgbm = lgb.LGBMRegressor(random_state=42, n_jobs=-1)\n",
        "\n",
        "random_search = RandomizedSearchCV(estimator=lgbm, param_distributions=param_grid,\n",
        "                                   n_iter=80, cv=3, n_jobs=-1, scoring='neg_mean_squared_error', random_state=42)\n",
        "\n",
        "random_search.fit(X_train_new, y_train)\n",
        "\n"
      ],
      "metadata": {
        "id": "tK-cbFOd3f1W"
      },
      "execution_count": null,
      "outputs": []
    },
    {
      "cell_type": "code",
      "source": [
        "best_estm = random_search.best_estimator_\n",
        "\n",
        "y_train_pred = best_estm.predict(X_train_new)\n",
        "train_rmse = np.sqrt(mean_squared_error(y_train, y_train_pred))\n",
        "\n",
        "y_test_pred = best_estm.predict(X_test_new)\n",
        "test_rmse = np.sqrt(mean_squared_error(y_test, y_test_pred))\n",
        "cross_val_score=-random_search.best_score_\n",
        "\n",
        "mape_train = np.mean(np.abs((y_train - y_train_pred) / y_train)) * 100\n",
        "\n",
        "mape_test = np.mean(np.abs((y_test - y_test_pred) / y_test)) * 100\n",
        "\n",
        "print(f\"best parameters: {random_search.best_params_}\")\n",
        "\n",
        "print(f\"RMSE on Cross-Validation Set: {np.sqrt(cross_val_score):.2f}\")\n",
        "print(f\"RMSE on train Set: {train_rmse:.2f}\")\n",
        "print(f\"RMSE on Test Set: {test_rmse:.2f}\")\n",
        "print(f\"MAPE on Training Set: {mape_train:.2f}%\")\n",
        "print(f\"MAPE on Test Set: {mape_test:.2f}%\")\n"
      ],
      "metadata": {
        "colab": {
          "base_uri": "https://localhost:8080/"
        },
        "id": "NYTbqGWrSMOJ",
        "outputId": "f80cf5c0-7dcf-4a15-c8af-43c962a830d5"
      },
      "execution_count": null,
      "outputs": [
        {
          "output_type": "stream",
          "name": "stdout",
          "text": [
            "[LightGBM] [Warning] min_data_in_leaf is set=20, min_child_samples=20 will be ignored. Current value: min_data_in_leaf=20\n",
            "[LightGBM] [Warning] min_data_in_leaf is set=20, min_child_samples=20 will be ignored. Current value: min_data_in_leaf=20\n",
            "best parameters: {'num_leaves': 20, 'n_estimators': 400, 'min_data_in_leaf': 20, 'max_depth': 7, 'learning_rate': 0.1}\n",
            "RMSE on Cross-Validation Set: 67577.71\n",
            "RMSE on train Set: 49804.09\n",
            "RMSE on Test Set: 66299.71\n",
            "MAPE on Training Set: 8.87%\n",
            "MAPE on Test Set: 12.01%\n"
          ]
        }
      ]
    },
    {
      "cell_type": "markdown",
      "source": [
        "The results are quite impressive when compared to the baseline LightGBM model. The cross-validation score has significantly improved, decreasing by nearly 2-fold from 122,000 to 67,577. While the training score is lower, which was expected, it's not very far from the cross-validation result. This indicates that the tuned LightGBM model is performing well and has the potential to generalize effectively to new data. Let's tune further to gain a better performance\n"
      ],
      "metadata": {
        "id": "j6NFeWSrAQiH"
      }
    },
    {
      "cell_type": "markdown",
      "source": [
        "Second Trial"
      ],
      "metadata": {
        "id": "n9eeLKe4CWyy"
      }
    },
    {
      "cell_type": "markdown",
      "source": [
        "\n",
        "For the second trial, I have reduced the intervals around the best hyperparameter values in order to further fine-tune the model."
      ],
      "metadata": {
        "id": "SfotX2YMBCa6"
      }
    },
    {
      "cell_type": "code",
      "source": [
        "\n",
        "\n",
        "param_grid = {\n",
        "    'n_estimators': [ 350, 400, 450],\n",
        "    'learning_rate': [0.05, 0.07, 0.1],\n",
        "    'max_depth': [6, 7,8],\n",
        "    'num_leaves': [ 20, 30, 40], #\n",
        "    'min_data_in_leaf': [15, 20, 25 ],\n",
        "\n",
        "}\n",
        "\n",
        "lgbm = lgb.LGBMRegressor(random_state=42, n_jobs=-1)\n",
        "\n",
        "random_search2 = RandomizedSearchCV(estimator=lgbm, param_distributions=param_grid,\n",
        "                                   n_iter=90, cv=3, n_jobs=-1, scoring='neg_mean_squared_error', random_state=42)\n",
        "\n",
        "random_search2.fit(X_train_new, y_train)\n",
        "\n"
      ],
      "metadata": {
        "id": "yWiBz4eHfjNq"
      },
      "execution_count": null,
      "outputs": []
    },
    {
      "cell_type": "code",
      "source": [
        "best_estm = random_search2.best_estimator_\n",
        "\n",
        "y_train_pred = best_estm.predict(X_train_new)\n",
        "train_rmse = np.sqrt(mean_squared_error(y_train, y_train_pred))\n",
        "\n",
        "y_test_pred = best_estm.predict(X_test_new)\n",
        "test_rmse = np.sqrt(mean_squared_error(y_test, y_test_pred))\n",
        "cross_val_score=-random_search2.best_score_\n",
        "\n",
        "mape_train = np.mean(np.abs((y_train - y_train_pred) / y_train)) * 100\n",
        "\n",
        "mape_test = np.mean(np.abs((y_test - y_test_pred) / y_test)) * 100\n",
        "\n",
        "print(f\"best parameters: {random_search2.best_params_}\")\n",
        "\n",
        "print(f\"RMSE on Cross-Validation Set: {np.sqrt(cross_val_score):.2f}\")\n",
        "print(f\"RMSE on train Set: {train_rmse:.2f}\")\n",
        "print(f\"RMSE on Test Set: {test_rmse:.2f}\")\n",
        "print(f\"MAPE on Training Set: {mape_train:.2f}%\")\n",
        "print(f\"MAPE on Test Set: {mape_test:.2f}%\")\n"
      ],
      "metadata": {
        "colab": {
          "base_uri": "https://localhost:8080/"
        },
        "id": "2IoxO8xdkmLn",
        "outputId": "97505a20-a1b9-457d-9c20-135b53212d31"
      },
      "execution_count": null,
      "outputs": [
        {
          "output_type": "stream",
          "name": "stdout",
          "text": [
            "[LightGBM] [Warning] min_data_in_leaf is set=25, min_child_samples=20 will be ignored. Current value: min_data_in_leaf=25\n",
            "[LightGBM] [Warning] min_data_in_leaf is set=25, min_child_samples=20 will be ignored. Current value: min_data_in_leaf=25\n",
            "best parameters: {'num_leaves': 30, 'n_estimators': 450, 'min_data_in_leaf': 25, 'max_depth': 8, 'learning_rate': 0.05}\n",
            "RMSE on Cross-Validation Set: 67147.37\n",
            "RMSE on train Set: 50956.99\n",
            "RMSE on Test Set: 64769.97\n",
            "MAPE on Training Set: 9.01%\n",
            "MAPE on Test Set: 11.67%\n"
          ]
        }
      ]
    },
    {
      "cell_type": "markdown",
      "source": [
        "Since the CV score slightly decreased in the second trial, I've decided to change my approach. I'm returning to the hyperparameters used in the first experiment and will now conduct a new experiment. In this experiment, I'll fix one parameter at a time in each trial to systematically explore the impact of individual hyperparameters on the model's performance.\n",
        "\n",
        "\n"
      ],
      "metadata": {
        "id": "XxpLM_OkgIbI"
      }
    },
    {
      "cell_type": "markdown",
      "source": [
        "Third Trial"
      ],
      "metadata": {
        "id": "MyqBcnkdDpxE"
      }
    },
    {
      "cell_type": "code",
      "source": [
        "\n",
        "\n",
        "param_grid = {\n",
        "    'n_estimators': [ 400],\n",
        "    'learning_rate': [  0.08, 0.1, 0.12],\n",
        "    'max_depth': [ 7],\n",
        "    'num_leaves': [ 20, 30, 40, 50],\n",
        "    'min_data_in_leaf': [15, 20, 25],\n",
        "\n",
        "}\n",
        "\n",
        "lgbm = lgb.LGBMRegressor(random_state=42, n_jobs=-1)\n",
        "\n",
        "random_search3 = RandomizedSearchCV(estimator=lgbm, param_distributions=param_grid,\n",
        "                                   n_iter=36, cv=3, n_jobs=-1, scoring='neg_mean_squared_error', random_state=42)\n",
        "\n",
        "random_search3.fit(X_train_new, y_train)\n",
        "\n"
      ],
      "metadata": {
        "id": "Jkz-9DVm9DQ0"
      },
      "execution_count": null,
      "outputs": []
    },
    {
      "cell_type": "code",
      "source": [
        "best_estm = random_search3.best_estimator_\n",
        "\n",
        "y_train_pred = best_estm.predict(X_train_new)\n",
        "train_rmse = np.sqrt(mean_squared_error(y_train, y_train_pred))\n",
        "\n",
        "y_test_pred = best_estm.predict(X_test_new)\n",
        "test_rmse = np.sqrt(mean_squared_error(y_test, y_test_pred))\n",
        "cross_val_score=-random_search3.best_score_\n",
        "\n",
        "mape_train = np.mean(np.abs((y_train - y_train_pred) / y_train)) * 100\n",
        "\n",
        "mape_test = np.mean(np.abs((y_test - y_test_pred) / y_test)) * 100\n",
        "print(f\"best parameters: {random_search3.best_params_}\")\n",
        "\n",
        "print(f\"RMSE on Cross-Validation Set: {np.sqrt(cross_val_score):.2f}\")\n",
        "print(f\"RMSE on train Set: {train_rmse:.2f}\")\n",
        "print(f\"RMSE on Test Set: {test_rmse:.2f}\")\n",
        "print(f\"MAPE on Training Set: {mape_train:.2f}%\")\n",
        "print(f\"MAPE on Test Set: {mape_test:.2f}%\")\n"
      ],
      "metadata": {
        "colab": {
          "base_uri": "https://localhost:8080/"
        },
        "id": "jjnnPd4WiYPd",
        "outputId": "5eb39fbd-498d-4c0a-d536-8c2af3d4d783"
      },
      "execution_count": null,
      "outputs": [
        {
          "output_type": "stream",
          "name": "stdout",
          "text": [
            "[LightGBM] [Warning] min_data_in_leaf is set=25, min_child_samples=20 will be ignored. Current value: min_data_in_leaf=25\n",
            "[LightGBM] [Warning] min_data_in_leaf is set=25, min_child_samples=20 will be ignored. Current value: min_data_in_leaf=25\n",
            "best parameters: {'num_leaves': 20, 'n_estimators': 400, 'min_data_in_leaf': 25, 'max_depth': 7, 'learning_rate': 0.08}\n",
            "RMSE on Cross-Validation Set: 67316.07\n",
            "RMSE on train Set: 52217.58\n",
            "RMSE on Test Set: 65429.80\n",
            "MAPE on Training Set: 9.19%\n",
            "MAPE on Test Set: 11.74%\n"
          ]
        }
      ]
    },
    {
      "cell_type": "markdown",
      "source": [
        "After observing slightly worse CV results in the previous trials, I've made some adjustments. I've decided to increase the value of n_estimators to potentially enhance accuracy. Additionally, I'm introducing the bagging_fraction hyperparameter to help control overfitting and further fine-tune the model's performance. These changes aim to strike a better balance between bias and variance in the model.\n"
      ],
      "metadata": {
        "id": "hwYRHn03DChv"
      }
    },
    {
      "cell_type": "markdown",
      "source": [
        "Fourth Trial"
      ],
      "metadata": {
        "id": "dHcoIRFRD0IM"
      }
    },
    {
      "cell_type": "code",
      "source": [
        "\n",
        "\n",
        "param_grid = {\n",
        "    'n_estimators': [ 500, 550, 650],\n",
        "    'learning_rate': [ 0.06, 0.08, 1],\n",
        "    'num_leaves': [ 20, 30, 40, 50],\n",
        "    'min_data_in_leaf': [ 20, 25, 30],\n",
        "    'bagging_fraction': [0.7, 0.8, 1]\n",
        "\n",
        "}\n",
        "\n",
        "lgbm = lgb.LGBMRegressor(random_state=42, n_jobs=-1)\n",
        "\n",
        "\n",
        "random_search3 = RandomizedSearchCV(estimator=lgbm, param_distributions=param_grid,\n",
        "                                   n_iter=100, cv=3, n_jobs=-1, scoring='neg_mean_squared_error', random_state=42)\n",
        "\n",
        "random_search3.fit(X_train_new, y_train)\n",
        "\n"
      ],
      "metadata": {
        "id": "joPlUL6MmS2C"
      },
      "execution_count": null,
      "outputs": []
    },
    {
      "cell_type": "code",
      "source": [
        "best_estm = random_search3.best_estimator_\n",
        "\n",
        "y_train_pred = best_estm.predict(X_train_new)\n",
        "train_rmse = np.sqrt(mean_squared_error(y_train, y_train_pred))\n",
        "\n",
        "y_test_pred = best_estm.predict(X_test_new)\n",
        "test_rmse = np.sqrt(mean_squared_error(y_test, y_test_pred))\n",
        "cross_val_score=-random_search3.best_score_\n",
        "\n",
        "mape_train = np.mean(np.abs((y_train - y_train_pred) / y_train)) * 100\n",
        "\n",
        "mape_test = np.mean(np.abs((y_test - y_test_pred) / y_test)) * 100\n",
        "\n",
        "print(f\"best parameters: {random_search3.best_params_}\")\n",
        "\n",
        "print(f\"RMSE on Cross-Validation Set: {np.sqrt(cross_val_score):.2f}\")\n",
        "print(f\"RMSE on train Set: {train_rmse:.2f}\")\n",
        "print(f\"RMSE on Test Set: {test_rmse:.2f}\")\n",
        "print(f\"MAPE on Training Set: {mape_train:.2f}%\")\n",
        "print(f\"MAPE on Test Set: {mape_test:.2f}%\")\n"
      ],
      "metadata": {
        "colab": {
          "base_uri": "https://localhost:8080/"
        },
        "id": "AM-PbuXSspi8",
        "outputId": "639e539b-56ec-4d41-eaf9-e436550cb36d"
      },
      "execution_count": null,
      "outputs": [
        {
          "output_type": "stream",
          "name": "stdout",
          "text": [
            "[LightGBM] [Warning] min_data_in_leaf is set=30, min_child_samples=20 will be ignored. Current value: min_data_in_leaf=30\n",
            "[LightGBM] [Warning] bagging_fraction is set=0.7, subsample=1.0 will be ignored. Current value: bagging_fraction=0.7\n",
            "[LightGBM] [Warning] min_data_in_leaf is set=30, min_child_samples=20 will be ignored. Current value: min_data_in_leaf=30\n",
            "[LightGBM] [Warning] bagging_fraction is set=0.7, subsample=1.0 will be ignored. Current value: bagging_fraction=0.7\n",
            "best parameters: {'num_leaves': 30, 'n_estimators': 500, 'min_data_in_leaf': 30, 'learning_rate': 0.06, 'bagging_fraction': 0.7}\n",
            "RMSE on Cross-Validation Set: 67243.00\n",
            "RMSE on train Set: 47542.37\n",
            "RMSE on Test Set: 64741.37\n",
            "MAPE on Training Set: 8.51%\n",
            "MAPE on Test Set: 11.68%\n"
          ]
        }
      ]
    },
    {
      "cell_type": "markdown",
      "source": [
        "The model performance has shown slight improvements, which is promising. To further enhance accuracy and control overfitting, I'm increasing the value of n_estimators even more while keeping the learning rates low. Additionally, I'm adjusting the bagging_fraction hyperparameter. These modifications are aimed at fine-tuning the model for better overall performance.\n",
        "\n",
        "\n",
        "\n",
        "\n"
      ],
      "metadata": {
        "id": "pFPx6lVADVpb"
      }
    },
    {
      "cell_type": "markdown",
      "source": [
        "Fifth Trial"
      ],
      "metadata": {
        "id": "LxVtAOrYD2Oh"
      }
    },
    {
      "cell_type": "code",
      "source": [
        "param_grid = {\n",
        "    'n_estimators': [ 600, 700, 800],\n",
        "    'learning_rate': [0.05, 0.06],\n",
        "    'num_leaves': [30, 35, 40],\n",
        "    'min_data_in_leaf': [  25, 30, 35],\n",
        "    'bagging_fraction': [0.6, 0.7]\n",
        "\n",
        "}\n",
        "\n",
        "lgbm = lgb.LGBMRegressor(random_state=42, n_jobs=-1)\n",
        "\n",
        "\n",
        "random_search5 = RandomizedSearchCV(estimator=lgbm, param_distributions=param_grid,\n",
        "                                   n_iter=100, cv=3, n_jobs=-1, scoring='neg_mean_squared_error', random_state=42)\n",
        "\n",
        "random_search5.fit(X_train_new, y_train)\n",
        "\n"
      ],
      "metadata": {
        "id": "U9kzbynOxQbF"
      },
      "execution_count": null,
      "outputs": []
    },
    {
      "cell_type": "code",
      "source": [
        "best_estm = random_search5.best_estimator_\n",
        "\n",
        "y_train_pred = best_estm.predict(X_train_new)\n",
        "train_rmse = np.sqrt(mean_squared_error(y_train, y_train_pred))\n",
        "\n",
        "y_test_pred = best_estm.predict(X_test_new)\n",
        "test_rmse = np.sqrt(mean_squared_error(y_test, y_test_pred))\n",
        "cross_val_score=-random_search5.best_score_\n",
        "\n",
        "mape_train = np.mean(np.abs((y_train - y_train_pred) / y_train)) * 100\n",
        "\n",
        "mape_test = np.mean(np.abs((y_test - y_test_pred) / y_test)) * 100\n",
        "\n",
        "print(f\"best parameters: {random_search5.best_params_}\")\n",
        "\n",
        "print(f\"RMSE on Cross-Validation Set: {np.sqrt(cross_val_score):.2f}\")\n",
        "print(f\"RMSE on train Set: {train_rmse:.2f}\")\n",
        "print(f\"RMSE on Test Set: {test_rmse:.2f}\")\n",
        "print(f\"MAPE on Training Set: {mape_train:.2f}%\")\n",
        "print(f\"MAPE on Test Set: {mape_test:.2f}%\")\n"
      ],
      "metadata": {
        "colab": {
          "base_uri": "https://localhost:8080/"
        },
        "id": "ngEgzlN-zRvd",
        "outputId": "04994886-7661-4998-fb12-85e24ab6c8fe"
      },
      "execution_count": null,
      "outputs": [
        {
          "output_type": "stream",
          "name": "stdout",
          "text": [
            "[LightGBM] [Warning] min_data_in_leaf is set=25, min_child_samples=20 will be ignored. Current value: min_data_in_leaf=25\n",
            "[LightGBM] [Warning] bagging_fraction is set=0.6, subsample=1.0 will be ignored. Current value: bagging_fraction=0.6\n",
            "[LightGBM] [Warning] min_data_in_leaf is set=25, min_child_samples=20 will be ignored. Current value: min_data_in_leaf=25\n",
            "[LightGBM] [Warning] bagging_fraction is set=0.6, subsample=1.0 will be ignored. Current value: bagging_fraction=0.6\n",
            "best parameters: {'num_leaves': 30, 'n_estimators': 600, 'min_data_in_leaf': 25, 'learning_rate': 0.05, 'bagging_fraction': 0.6}\n",
            "RMSE on Cross-Validation Set: 67221.61\n",
            "RMSE on train Set: 47051.20\n",
            "RMSE on Test Set: 64886.96\n",
            "MAPE on Training Set: 8.43%\n",
            "MAPE on Test Set: 11.73%\n"
          ]
        }
      ]
    },
    {
      "cell_type": "markdown",
      "source": [
        "As the bagging_fraction appears to be decreasing, I'm going to reduce it further while simultaneously increasing the value of n_estimators. To complement this adjustment, I'm decreasing the learning rate (LR) as n_estimators increases. I'm also maintaining num_leaves at 30, and for min_data_in_leaf, I'll consider values of either 25 or 30, treating them as a bundle within the param_grid. These changes are designed to help fine-tune the model's parameters and improve its performance.\n"
      ],
      "metadata": {
        "id": "rmnAgu0-48hK"
      }
    },
    {
      "cell_type": "markdown",
      "source": [
        "6'th Trial"
      ],
      "metadata": {
        "id": "vvdQfMhuEBS2"
      }
    },
    {
      "cell_type": "code",
      "source": [
        "param_grid = {\n",
        "    'n_estimators': [ 600, 650, 700],\n",
        "    'learning_rate': [0.04, 0.05],\n",
        "    'num_leaves': [30],\n",
        "    'min_data_in_leaf': [ 25, 30],\n",
        "    'bagging_fraction': [0.5, 0.6]\n",
        "\n",
        "}\n",
        "\n",
        "lgbm = lgb.LGBMRegressor(random_state=42, n_jobs=-1)\n",
        "\n",
        "\n",
        "random_search6 = RandomizedSearchCV(estimator=lgbm, param_distributions=param_grid,\n",
        "                                   n_iter=24, cv=3, n_jobs=-1, scoring='neg_mean_squared_error', random_state=42)\n",
        "\n",
        "random_search6.fit(X_train_new, y_train)\n",
        "\n"
      ],
      "metadata": {
        "id": "xXAE_ZTC4i0z"
      },
      "execution_count": null,
      "outputs": []
    },
    {
      "cell_type": "code",
      "source": [
        "best_estm = random_search6.best_estimator_\n",
        "\n",
        "y_train_pred = best_estm.predict(X_train_new)\n",
        "train_rmse = np.sqrt(mean_squared_error(y_train, y_train_pred))\n",
        "\n",
        "y_test_pred = best_estm.predict(X_test_new)\n",
        "test_rmse = np.sqrt(mean_squared_error(y_test, y_test_pred))\n",
        "cross_val_score=-random_search6.best_score_\n",
        "\n",
        "mape_train = np.mean(np.abs((y_train - y_train_pred) / y_train)) * 100\n",
        "\n",
        "mape_test = np.mean(np.abs((y_test - y_test_pred) / y_test)) * 100\n",
        "\n",
        "\n",
        "print(f\"best parameters: {random_search6.best_params_}\")\n",
        "\n",
        "print(f\"RMSE on Cross-Validation Set: {np.sqrt(cross_val_score):.2f}\")\n",
        "print(f\"RMSE on train Set: {train_rmse:.2f}\")\n",
        "print(f\"RMSE on Test Set: {test_rmse:.2f}\")\n",
        "print(f\"MAPE on Training Set: {mape_train:.2f}%\")\n",
        "print(f\"MAPE on Test Set: {mape_test:.2f}%\")\n"
      ],
      "metadata": {
        "colab": {
          "base_uri": "https://localhost:8080/"
        },
        "id": "ia6uwKNG6BCQ",
        "outputId": "52e85522-5d58-4898-999a-8633f305c71a"
      },
      "execution_count": null,
      "outputs": [
        {
          "output_type": "stream",
          "name": "stdout",
          "text": [
            "[LightGBM] [Warning] min_data_in_leaf is set=25, min_child_samples=20 will be ignored. Current value: min_data_in_leaf=25\n",
            "[LightGBM] [Warning] bagging_fraction is set=0.5, subsample=1.0 will be ignored. Current value: bagging_fraction=0.5\n",
            "[LightGBM] [Warning] min_data_in_leaf is set=25, min_child_samples=20 will be ignored. Current value: min_data_in_leaf=25\n",
            "[LightGBM] [Warning] bagging_fraction is set=0.5, subsample=1.0 will be ignored. Current value: bagging_fraction=0.5\n",
            "best parameters: {'num_leaves': 30, 'n_estimators': 600, 'min_data_in_leaf': 25, 'learning_rate': 0.04, 'bagging_fraction': 0.5}\n",
            "RMSE on Cross-Validation Set: 67108.17\n",
            "RMSE on train Set: 49280.31\n",
            "RMSE on Test Set: 64354.79\n",
            "MAPE on Training Set: 8.80%\n",
            "MAPE on Test Set: 11.54%\n"
          ]
        }
      ]
    },
    {
      "cell_type": "markdown",
      "source": [
        "Achieving a CV score of 67,108 RMSE is the best result we've obtained after six trials. The test score is slightly lower at 64,344 RMSE. Additionally, the MAPE score of 11.54 is 30% lower than the best Ridge model, indicating that, on average, our model predicts values that are 11.5% away from the real values. This represents a significant improvement in predictive accuracy, and the model appears to be performing quite well.\n",
        "\n"
      ],
      "metadata": {
        "id": "2pqG__-XEGnW"
      }
    },
    {
      "cell_type": "markdown",
      "source": [
        "# Interpretation of the Best LightGBM model with shap values."
      ],
      "metadata": {
        "id": "xeUAELExHN9p"
      }
    },
    {
      "cell_type": "markdown",
      "source": [
        "I will generate a summary SHAP (SHapley Additive exPlanations) plot to provide an interpretation of which features are the most important for predicting house prices and how changes in these features impact the model's predictions.\n"
      ],
      "metadata": {
        "id": "OjeFDP0IHjZ1"
      }
    },
    {
      "cell_type": "code",
      "source": [
        "explainer = shap.Explainer(best_estm)\n",
        "shap_values = explainer(X_train_new)\n"
      ],
      "metadata": {
        "id": "FpsDr4UR74Lj"
      },
      "execution_count": null,
      "outputs": []
    },
    {
      "cell_type": "code",
      "source": [
        "shap.summary_plot(shap_values, X_train_new)\n"
      ],
      "metadata": {
        "colab": {
          "base_uri": "https://localhost:8080/",
          "height": 614
        },
        "id": "tidho9c7Em70",
        "outputId": "733d479a-0c37-4a80-a41e-d724f70bb921"
      },
      "execution_count": null,
      "outputs": [
        {
          "output_type": "stream",
          "name": "stderr",
          "text": [
            "No data for colormapping provided via 'c'. Parameters 'vmin', 'vmax' will be ignored\n"
          ]
        },
        {
          "output_type": "display_data",
          "data": {
            "text/plain": [
              "<Figure size 800x590 with 2 Axes>"
            ],
            "image/png": "[encoded data removed]"
          },
          "metadata": {}
        }
      ]
    },
    {
      "cell_type": "markdown",
      "source": [
        "The following points represent some of the findings from the model:\n",
        "\n",
        "\n",
        "\n",
        "*   Latitude is the crucial feature for our model. When combined with longitude, it defines the geographic location of an apartment, aligning with common knowledge about the housing market.\n",
        "\n",
        "\n",
        "\n",
        "*   Increasing the latitude value leads to a rise in apartment prices.\n",
        "\n",
        "\n",
        "*   The size of a house (sqft_living) is the second most important feature. An increase in the apartment's size significantly increases its price.\n",
        "\n",
        "\n",
        "\n",
        "*   The grade of a house, representing the quality of workmanship and materials, also positively impacts the price. Higher quality corresponds to a higher price.\n",
        "\n",
        "\n",
        "\n",
        "*  Age negatively affects the price; older buildings tend to have lower prices. However, its overall influence is less significant compared to location, size, and quality.\n",
        "\n",
        "\n",
        "*   The condition of the house has a positive impact on the price, as expected.\n",
        "\n",
        "*   Whether a house is renovated or not is the least important among the 11 features for predicting the target. Nevertheless, a renovated house does increase the apartment's price.\n",
        "\n",
        "\n"
      ],
      "metadata": {
        "id": "2z3TocLbI7nX"
      }
    }
  ]
}